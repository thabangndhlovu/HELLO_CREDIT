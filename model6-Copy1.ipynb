{
 "cells": [
  {
   "cell_type": "code",
   "execution_count": 1,
   "id": "27606373",
   "metadata": {
    "tags": []
   },
   "outputs": [],
   "source": [
    "metrics = {\n",
    "    \"profitability\": {\n",
    "        \"class_weight\": 0.30,\n",
    "        \"weights\": [1.0], \n",
    "        \"metrics\": {\n",
    "            \"oper_margin\": {\n",
    "                \"lower_is_better\": False,\n",
    "                \"thresholds\": [\n",
    "                    (0.4, float(\"inf\")),\n",
    "                    (0.35, 0.4),\n",
    "                    (0.3, 0.35),\n",
    "                    (0.25, 0.3),\n",
    "                    (0.2, 0.25),\n",
    "                    (0.15, 0.2),\n",
    "                    (0.1, 0.15),\n",
    "                    (0.05, 0.1),\n",
    "                    (float(\"-inf\"), 0.05),\n",
    "                ],\n",
    "            }\n",
    "        },\n",
    "    },\n",
    "    \"leverage_coverage\": {\n",
    "        \"class_weight\": 0.55,\n",
    "        \"weights\": [0.4, 0.3, 0.3],\n",
    "        \"metrics\": {\n",
    "            \"debt_to_equity\": {\n",
    "                \"lower_is_better\": True,\n",
    "                \"thresholds\": [\n",
    "                    (0, 0.4),\n",
    "                    (0.4, 0.8),\n",
    "                    (0.8, 1.2),\n",
    "                    (1.2, 1.6),\n",
    "                    (1.6, 2),\n",
    "                    (2, 2.5),\n",
    "                    (2.5, 3),\n",
    "                    (3, 4),\n",
    "                    (4, float(\"inf\")),\n",
    "                ],\n",
    "            },\n",
    "            \"tot_debt_to_ebitda\": {\n",
    "                \"lower_is_better\": True,\n",
    "                \"thresholds\": [\n",
    "                    (0, float(\"-inf\")),\n",
    "                    (0.4, 0.8),\n",
    "                    (0.8, 1.2),\n",
    "                    (1.2, 1.6),\n",
    "                    (1.6, 2),\n",
    "                    (2, 2.5),\n",
    "                    (2.5, 3),\n",
    "                    (3, 4),\n",
    "                    (4, float(\"inf\")),\n",
    "                ],\n",
    "            },\n",
    "            \"ebitda_to_tot_int_exp\": {\n",
    "                \"lower_is_better\": False,\n",
    "                \"thresholds\": [\n",
    "                    (25, float(\"inf\")),\n",
    "                    (20, 25),\n",
    "                    (15, 20),\n",
    "                    (10, 15),\n",
    "                    (5, 10),\n",
    "                    (3, 5),\n",
    "                    (1, 3),\n",
    "                    (0, 1),\n",
    "                    (float(\"-inf\"), 0),\n",
    "                ],\n",
    "            },\n",
    "        },\n",
    "    },\n",
    "    \"efficiency\": {\n",
    "        \"class_weight\": 0.15,\n",
    "        \"weights\": [0.5, 0.5],\n",
    "        \"metrics\": {\n",
    "            \"return_on_asset\": {\n",
    "                \"lower_is_better\": False,\n",
    "                \"thresholds\": [\n",
    "                    (0.15, float(\"inf\")),\n",
    "                    (0.10, 0.15),\n",
    "                    (0.08, 0.10),\n",
    "                    (0.06, 0.08),\n",
    "                    (0.04, 0.06),\n",
    "                    (0.02, 0.04),\n",
    "                    (0.00, 0.02),\n",
    "                    (-0.02, 0.00),\n",
    "                    (float(\"-inf\"), -0.02)\n",
    "                ],\n",
    "            },\n",
    "            \"asset_turnover\": {\n",
    "                \"lower_is_better\": False,\n",
    "                \"thresholds\": [\n",
    "                    (4.0, float(\"inf\")),\n",
    "                    (3.0, 4.0),\n",
    "                    (2.0, 3.0),\n",
    "                    (1.5, 2.0),\n",
    "                    (1.0, 1.5),\n",
    "                    (0.75, 1.0),\n",
    "                    (0.5, 0.75),\n",
    "                    (0.25, 0.5),\n",
    "                    (float(\"-inf\"), 0.25)\n",
    "                ],\n",
    "            },\n",
    "        },\n",
    "    },\n",
    "}"
   ]
  },
  {
   "cell_type": "code",
   "execution_count": 2,
   "id": "8ff894c0-a05e-4061-9445-bbb895296a09",
   "metadata": {
    "tags": []
   },
   "outputs": [],
   "source": [
    "class CreditRatingCalculator:\n",
    "    def __init__(self, metrics):\n",
    "        self.metrics = metrics\n",
    "        \n",
    "    def _calculate_metric_score(self, metric, thresholds, inverse):\n",
    "        for score, (lower, upper) in enumerate(thresholds, start=1):\n",
    "            if (inverse and metric <= upper) or (not inverse and metric >= lower):\n",
    "                return score\n",
    "        return len(thresholds) // 2 # else return the middle score\n",
    "\n",
    "    def _calculate_category_score(self, category_metrics, ratios):\n",
    "        total_weighted_score = 0\n",
    "\n",
    "        for metric, weight in zip(\n",
    "            category_metrics[\"metrics\"].items(), category_metrics[\"weights\"]\n",
    "        ):\n",
    "            metric_name, metric_data = metric\n",
    "            value = ratios[metric_name]\n",
    "            score = self._calculate_metric_score(\n",
    "                value, metric_data[\"thresholds\"], metric_data[\"lower_is_better\"]\n",
    "            )\n",
    "            total_weighted_score += score * weight\n",
    "\n",
    "        return total_weighted_score\n",
    "\n",
    "    def _calculate_scores(self, ratios):\n",
    "        scores = {}\n",
    "        for category, category_data in self.metrics.items():\n",
    "            category_score = self._calculate_category_score(category_data, ratios)\n",
    "            scores[category] = category_score\n",
    "        return scores\n",
    "\n",
    "    def _calculate_weighted_score(self, scores):\n",
    "        weights = {\n",
    "            category: category_data[\"class_weight\"]\n",
    "            for category, category_data in self.metrics.items()\n",
    "        }\n",
    "        return sum(scores[category] * weight for category, weight in weights.items())\n",
    "\n",
    "    def _determine_credit_rating(self, weighted_score):\n",
    "        credit_ratings = [\n",
    "            (1.5, \"Aaa\"),\n",
    "            (2.5, \"Aa\"),\n",
    "            (3.5, \"A\"),\n",
    "            (4.5, \"Baa\"),\n",
    "            (5.5, \"Ba\"),\n",
    "            (6.5, \"B\"),\n",
    "            (7.5, \"Caa\"),\n",
    "            (8.5, \"Ca\"),\n",
    "            (float(\"inf\"), \"C\"),\n",
    "        ]\n",
    "\n",
    "        for threshold, rating in credit_ratings:\n",
    "            if weighted_score < threshold:\n",
    "                return rating\n",
    "\n",
    "    def calculate_credit_rating(self, ratios):\n",
    "        self.scores = self._calculate_scores(ratios)\n",
    "        self.credit_score = self._calculate_weighted_score(self.scores)\n",
    "        self.credit_rating = self._determine_credit_rating(self.credit_score)"
   ]
  },
  {
   "cell_type": "code",
   "execution_count": 4,
   "id": "3ce986f4-42fd-49fb-9ee0-f0069a3b52f2",
   "metadata": {
    "tags": []
   },
   "outputs": [
    {
     "name": "stdout",
     "output_type": "stream",
     "text": [
      "Class Scoring: {'profitability': 1.0, 'leverage_coverage': 3.4, 'efficiency': 7.5}\n",
      "Credit Score: 3.295\n",
      "Credit Rating: A\n"
     ]
    }
   ],
   "source": [
    "ratios = {\n",
    "    'oper_margin': 6.0,\n",
    "    'debt_to_equity': 0.2,\n",
    "    'tot_debt_to_ebitda': 0.5,\n",
    "    'ebitda_to_tot_int_exp': 0.6,\n",
    "    'return_on_asset': .02,\n",
    "    'asset_turnover': 0.2,\n",
    "}\n",
    "\n",
    "model = CreditRatingCalculator(metrics)\n",
    "model.calculate_credit_rating(ratios)\n",
    "print(f\"Class Scoring: {model.scores}\")\n",
    "print(f\"Credit Score: {model.credit_score}\")\n",
    "print(f\"Credit Rating: {model.credit_rating}\")"
   ]
  },
  {
   "cell_type": "code",
   "execution_count": 4,
   "id": "ef8d7a3c",
   "metadata": {},
   "outputs": [],
   "source": [
    "import pandas as pd "
   ]
  },
  {
   "cell_type": "code",
   "execution_count": 8,
   "id": "3bd890aa",
   "metadata": {},
   "outputs": [],
   "source": [
    "df = pd.read_parquet(\"research/JALSH Index_dataset_2000_2024_clean.parquet\")"
   ]
  },
  {
   "cell_type": "code",
   "execution_count": 14,
   "id": "bf533919",
   "metadata": {},
   "outputs": [],
   "source": [
    "import matplotlib.pyplot as plt"
   ]
  },
  {
   "cell_type": "code",
   "execution_count": 18,
   "id": "7fd41244",
   "metadata": {},
   "outputs": [
    {
     "data": {
      "image/png": "[encoded data removed]",
      "text/plain": [
       "<Figure size 640x480 with 1 Axes>"
      ]
     },
     "metadata": {},
     "output_type": "display_data"
    }
   ],
   "source": [
    "df['ABG SJ Equity'][['asset_turnover', 'return_on_asset']].plot()\n",
    "plt.yscale(\"log\");"
   ]
  },
  {
   "cell_type": "code",
   "execution_count": 19,
   "id": "07a09010",
   "metadata": {},
   "outputs": [],
   "source": [
    "from quantstats import extend_pandas\n",
    "extend_pandas()"
   ]
  },
  {
   "cell_type": "code",
   "execution_count": 42,
   "id": "879252ad",
   "metadata": {},
   "outputs": [],
   "source": [
    "efficiency_metrics = ['asset_turnover', 'return_on_asset'] \n",
    "m = pd.concat({comp: df[comp][efficiency_metrics[0]] for comp in df.columns.levels[0]}, axis=1)"
   ]
  },
  {
   "cell_type": "code",
   "execution_count": 106,
   "id": "54a1d927",
   "metadata": {},
   "outputs": [],
   "source": [
    "df = pd.read_csv(\"research/JALSH Index_dataset_2000_2024_clean.csv\", index_col=0, header=[0, 1])\n",
    "classfier = pd.read_excel(\"research/classification_data.xlsx\", index_col=0)\n",
    "metrics = pd.read_excel(\"research/metrics_full.xlsx\", index_col=0)"
   ]
  },
  {
   "cell_type": "code",
   "execution_count": 53,
   "id": "4b8d6a4d",
   "metadata": {},
   "outputs": [],
   "source": [
    "def filter_securities(filters, data=classfier):\n",
    "    \n",
    "    # Apply filters directly on the transposed\n",
    "    filtered_data = data.query(\n",
    "        ' and '.join(f'`{k}` == \"{v}\"' for k, v in filters.items())\n",
    "    )\n",
    "    \n",
    "    return list(filtered_data.index)"
   ]
  },
  {
   "cell_type": "code",
   "execution_count": 55,
   "id": "8563328c",
   "metadata": {},
   "outputs": [
    {
     "data": {
      "text/plain": [
       "array(['Financial', 'Consumer, Non-cyclical', 'Industrial',\n",
       "       'Basic Materials', 'Diversified', 'Consumer, Cyclical',\n",
       "       'Communications', 'Technology', 'Energy'], dtype=object)"
      ]
     },
     "execution_count": 55,
     "metadata": {},
     "output_type": "execute_result"
    }
   ],
   "source": [
    "classfier.sector.unique()"
   ]
  },
  {
   "cell_type": "code",
   "execution_count": 57,
   "id": "91d2971b",
   "metadata": {},
   "outputs": [
    {
     "data": {
      "text/plain": [
       "array(['Banks', 'Commercial Services', 'Electronics',\n",
       "       'Miscellaneous Manufactur', 'Diversified Finan Serv',\n",
       "       'Building Materials', 'Mining', 'Investment Companies',\n",
       "       'Pharmaceuticals', 'Beverages', 'Agriculture', 'REITS',\n",
       "       'Holding Companies-Divers', 'Distribution/Wholesale', 'Food',\n",
       "       'Telecommunications', 'Computers', 'Retail', 'Insurance',\n",
       "       'Real Estate', 'Coal', 'Transportation', 'Entertainment',\n",
       "       'Auto Parts&Equipment', 'Iron/Steel', 'Software',\n",
       "       'Healthcare-Services', 'Private Equity',\n",
       "       'Energy-Alternate Sources', 'Forest Products&Paper', 'Internet',\n",
       "       'Chemicals', 'Engineering&Construction', 'Lodging'], dtype=object)"
      ]
     },
     "execution_count": 57,
     "metadata": {},
     "output_type": "execute_result"
    }
   ],
   "source": [
    "classfier.industry.unique()"
   ]
  },
  {
   "cell_type": "code",
   "execution_count": 66,
   "id": "ba98b050",
   "metadata": {},
   "outputs": [],
   "source": [
    "f = filter_securities({\"industry\": \"Engineering&Construction\"})"
   ]
  },
  {
   "cell_type": "code",
   "execution_count": 67,
   "id": "52ab7dc7",
   "metadata": {},
   "outputs": [
    {
     "data": {
      "text/html": [
       "<div>\n",
       "<style scoped>\n",
       "    .dataframe tbody tr th:only-of-type {\n",
       "        vertical-align: middle;\n",
       "    }\n",
       "\n",
       "    .dataframe tbody tr th {\n",
       "        vertical-align: top;\n",
       "    }\n",
       "\n",
       "    .dataframe thead th {\n",
       "        text-align: right;\n",
       "    }\n",
       "</style>\n",
       "<table border=\"1\" class=\"dataframe\">\n",
       "  <thead>\n",
       "    <tr style=\"text-align: right;\">\n",
       "      <th></th>\n",
       "      <th>RBX SJ Equity</th>\n",
       "      <th>WBO SJ Equity</th>\n",
       "    </tr>\n",
       "  </thead>\n",
       "  <tbody>\n",
       "    <tr>\n",
       "      <th>oper_margin</th>\n",
       "      <td>10.234529</td>\n",
       "      <td>4.335948</td>\n",
       "    </tr>\n",
       "    <tr>\n",
       "      <th>return_on_asset</th>\n",
       "      <td>8.205759</td>\n",
       "      <td>5.572577</td>\n",
       "    </tr>\n",
       "    <tr>\n",
       "      <th>tot_debt_to_tot_asset</th>\n",
       "      <td>14.328108</td>\n",
       "      <td>2.921138</td>\n",
       "    </tr>\n",
       "    <tr>\n",
       "      <th>tot_debt_to_tot_cap</th>\n",
       "      <td>20.503625</td>\n",
       "      <td>8.074190</td>\n",
       "    </tr>\n",
       "    <tr>\n",
       "      <th>tot_debt_to_tot_eqy</th>\n",
       "      <td>26.184412</td>\n",
       "      <td>9.188145</td>\n",
       "    </tr>\n",
       "    <tr>\n",
       "      <th>asset_turnover</th>\n",
       "      <td>1.262381</td>\n",
       "      <td>2.148323</td>\n",
       "    </tr>\n",
       "    <tr>\n",
       "      <th>ebitda_margin</th>\n",
       "      <td>13.855970</td>\n",
       "      <td>5.258228</td>\n",
       "    </tr>\n",
       "    <tr>\n",
       "      <th>tot_debt_to_ebitda</th>\n",
       "      <td>0.892198</td>\n",
       "      <td>0.311257</td>\n",
       "    </tr>\n",
       "    <tr>\n",
       "      <th>interest_coverage_ratio</th>\n",
       "      <td>11.606127</td>\n",
       "      <td>212.325909</td>\n",
       "    </tr>\n",
       "    <tr>\n",
       "      <th>ebitda_to_tot_int_exp</th>\n",
       "      <td>16.707004</td>\n",
       "      <td>278.833027</td>\n",
       "    </tr>\n",
       "    <tr>\n",
       "      <th>invent_to_sales</th>\n",
       "      <td>6.281792</td>\n",
       "      <td>3.727372</td>\n",
       "    </tr>\n",
       "  </tbody>\n",
       "</table>\n",
       "</div>"
      ],
      "text/plain": [
       "                         RBX SJ Equity  WBO SJ Equity\n",
       "oper_margin                  10.234529       4.335948\n",
       "return_on_asset               8.205759       5.572577\n",
       "tot_debt_to_tot_asset        14.328108       2.921138\n",
       "tot_debt_to_tot_cap          20.503625       8.074190\n",
       "tot_debt_to_tot_eqy          26.184412       9.188145\n",
       "asset_turnover                1.262381       2.148323\n",
       "ebitda_margin                13.855970       5.258228\n",
       "tot_debt_to_ebitda            0.892198       0.311257\n",
       "interest_coverage_ratio      11.606127     212.325909\n",
       "ebitda_to_tot_int_exp        16.707004     278.833027\n",
       "invent_to_sales               6.281792       3.727372"
      ]
     },
     "execution_count": 67,
     "metadata": {},
     "output_type": "execute_result"
    }
   ],
   "source": []
  },
  {
   "cell_type": "code",
   "execution_count": 107,
   "id": "99345742",
   "metadata": {},
   "outputs": [
    {
     "data": {
      "text/plain": [
       "0.00    0.016101\n",
       "0.05    0.063452\n",
       "0.10    0.078841\n",
       "0.20    0.100008\n",
       "0.30    0.176090\n",
       "0.40    0.456206\n",
       "0.50    0.617119\n",
       "0.60    0.866586\n",
       "0.70    1.080595\n",
       "0.80    1.345202\n",
       "0.90    2.029703\n",
       "0.95    2.449184\n",
       "Name: asset_turnover, dtype: float64"
      ]
     },
     "execution_count": 107,
     "metadata": {},
     "output_type": "execute_result"
    }
   ],
   "source": [
    "metrics.loc['asset_turnover'].quantile([0, .05, .1, .2, .3, .4, .5, .6, .7, .8, .9, .95])"
   ]
  },
  {
   "cell_type": "code",
   "execution_count": 89,
   "id": "ee04ea56",
   "metadata": {},
   "outputs": [],
   "source": [
    "import numpy as np"
   ]
  },
  {
   "cell_type": "code",
   "execution_count": 90,
   "id": "e6e20f91",
   "metadata": {},
   "outputs": [
    {
     "data": {
      "text/plain": [
       "array([ 0. ,  2.5,  5. ,  7.5, 10. , 12.5, 15. , 17.5, 20. ])"
      ]
     },
     "execution_count": 90,
     "metadata": {},
     "output_type": "execute_result"
    }
   ],
   "source": [
    "np.linspace(0, 20, 9)"
   ]
  },
  {
   "cell_type": "code",
   "execution_count": 95,
   "id": "0d6f14e4",
   "metadata": {},
   "outputs": [
    {
     "ename": "AttributeError",
     "evalue": "'dict' object has no attribute 'T'",
     "output_type": "error",
     "traceback": [
      "\u001b[1;31m---------------------------------------------------------------------------\u001b[0m",
      "\u001b[1;31mAttributeError\u001b[0m                            Traceback (most recent call last)",
      "Cell \u001b[1;32mIn[95], line 1\u001b[0m\n\u001b[1;32m----> 1\u001b[0m metrics\u001b[38;5;241m.\u001b[39mT[\u001b[38;5;124m'\u001b[39m\u001b[38;5;124mreturn_on_asset\u001b[39m\u001b[38;5;124m'\u001b[39m]\u001b[38;5;241m.\u001b[39mmin()\n",
      "\u001b[1;31mAttributeError\u001b[0m: 'dict' object has no attribute 'T'"
     ]
    }
   ],
   "source": [
    "metrics.T['return_on_asset'].min()"
   ]
  },
  {
   "cell_type": "code",
   "execution_count": 93,
   "id": "2e8a238d",
   "metadata": {},
   "outputs": [
    {
     "data": {
      "text/plain": [
       "[(20.0, inf),\n",
       " (17.5, 20.0),\n",
       " (15.0, 17.5),\n",
       " (12.5, 15.0),\n",
       " (10.0, 12.5),\n",
       " (7.5, 10.0),\n",
       " (5.0, 7.5),\n",
       " (2.5, 5.0),\n",
       " (0.0, 2.5),\n",
       " (-inf, 0.0)]"
      ]
     },
     "execution_count": 93,
     "metadata": {},
     "output_type": "execute_result"
    }
   ],
   "source": [
    "import numpy as np\n",
    "\n",
    "# Generate linspace\n",
    "linspace = np.linspace(0, 20, 9)\n",
    "\n",
    "# Create thresholds\n",
    "thresholds = [(linspace[i], linspace[i+1]) for i in range(len(linspace)-1)]\n",
    "\n",
    "# Correct and reverse the thresholds\n",
    "corrected_thresholds = [(-np.inf, linspace[0])] + \\\n",
    "                       [(linspace[i], linspace[i+1]) for i in range(len(linspace)-1)] + \\\n",
    "                       [(linspace[-1], np.inf)]\n",
    "\n",
    "# Reverse the corrected thresholds\n",
    "reversed_corrected_thresholds = corrected_thresholds[::-1]\n",
    "\n",
    "reversed_corrected_thresholds\n"
   ]
  },
  {
   "cell_type": "code",
   "execution_count": null,
   "id": "5ead58af",
   "metadata": {},
   "outputs": [],
   "source": []
  }
 ],
 "metadata": {
  "kernelspec": {
   "display_name": "Python 3 (ipykernel)",
   "language": "python",
   "name": "python3"
  },
  "language_info": {
   "codemirror_mode": {
    "name": "ipython",
    "version": 3
   },
   "file_extension": ".py",
   "mimetype": "text/x-python",
   "name": "python",
   "nbconvert_exporter": "python",
   "pygments_lexer": "ipython3",
   "version": "3.11.5"
  }
 },
 "nbformat": 4,
 "nbformat_minor": 5
}
