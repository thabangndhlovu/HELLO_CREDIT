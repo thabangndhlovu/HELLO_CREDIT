{
 "cells": [
  {
   "cell_type": "code",
   "execution_count": 1,
   "id": "dbdd1675-5848-4b4c-a57e-5cf4e941ae1d",
   "metadata": {
    "tags": []
   },
   "outputs": [],
   "source": [
    "import pandas as pd\n",
    "\n",
    "from feature_engine.selection import DropDuplicateFeatures"
   ]
  },
  {
   "cell_type": "code",
   "execution_count": 15,
   "id": "17df817e-a1bc-4bb6-bba9-daa49012bbb4",
   "metadata": {
    "tags": []
   },
   "outputs": [],
   "source": [
    "path_lev = \"resources/Moodys.com/JALSH_LEV.xlsx\"\n",
    "path_pro = \"resources/Moodys.com/JALSH_PROF_EFF.xlsx\""
   ]
  },
  {
   "cell_type": "code",
   "execution_count": 16,
   "id": "adac4325-bbb0-4418-9f53-7e4c06e29e4d",
   "metadata": {
    "tags": []
   },
   "outputs": [],
   "source": [
    "lev = pd.read_excel(path_lev, index_col=0, parse_dates=True, header=[0, 1])\n",
    "pro = pd.read_excel(path_pro, index_col=0, parse_dates=True, header=[0, 1])"
   ]
  },
  {
   "cell_type": "code",
   "execution_count": 19,
   "id": "138d265f-bbe2-4e1e-90a3-62e22b38133b",
   "metadata": {
    "tags": []
   },
   "outputs": [],
   "source": [
    "data1 = lev.join(pro)"
   ]
  },
  {
   "cell_type": "code",
   "execution_count": 28,
   "id": "f598262d-9ff6-4007-bb02-79f673ee3882",
   "metadata": {
    "tags": []
   },
   "outputs": [],
   "source": [
    "data11 = DropDuplicateFeatures().fit_transform(data1)"
   ]
  },
  {
   "cell_type": "code",
   "execution_count": 31,
   "id": "ba9c3293-b368-43d0-a4f2-5d95b6317a66",
   "metadata": {
    "tags": []
   },
   "outputs": [],
   "source": [
    "data11 = data11.replace(0, float(\"NaN\"))"
   ]
  },
  {
   "cell_type": "code",
   "execution_count": 35,
   "id": "138e1044-773b-4b08-b851-714f48096ef7",
   "metadata": {
    "tags": []
   },
   "outputs": [],
   "source": [
    "data11.to_excel(\"jalsh_features.xlsx\")"
   ]
  },
  {
   "cell_type": "code",
   "execution_count": 24,
   "id": "488eb54d-7e41-49a6-a228-999fc183ab19",
   "metadata": {
    "tags": []
   },
   "outputs": [
    {
     "data": {
      "text/plain": [
       "(24, 3630)"
      ]
     },
     "execution_count": 24,
     "metadata": {},
     "output_type": "execute_result"
    }
   ],
   "source": [
    "data1.shape"
   ]
  },
  {
   "cell_type": "code",
   "execution_count": 12,
   "id": "a2b1d32e-fab9-41be-8535-d5719a5a116b",
   "metadata": {
    "tags": []
   },
   "outputs": [],
   "source": [
    "data = pro.join(lev)"
   ]
  },
  {
   "cell_type": "code",
   "execution_count": null,
   "id": "d1b8a8ce-c891-4249-9612-7b98e47aa80a",
   "metadata": {
    "tags": []
   },
   "outputs": [],
   "source": []
  },
  {
   "cell_type": "code",
   "execution_count": null,
   "id": "3774d552-6a3b-4722-84ad-bd63133b80e7",
   "metadata": {
    "tags": []
   },
   "outputs": [],
   "source": []
  },
  {
   "cell_type": "code",
   "execution_count": 64,
   "id": "ebb3d547-3579-4250-a319-2e742665474a",
   "metadata": {
    "tags": []
   },
   "outputs": [],
   "source": [
    "b = data11.columns.levels[1].to_list()"
   ]
  },
  {
   "cell_type": "code",
   "execution_count": 65,
   "id": "e4514791-1647-4e23-b217-fe7789f5cfc5",
   "metadata": {
    "tags": []
   },
   "outputs": [],
   "source": [
    "a = data.columns.levels[1].to_list()"
   ]
  },
  {
   "cell_type": "code",
   "execution_count": 50,
   "id": "db2d2af6-1cff-48f6-8a0b-1d594ea90e60",
   "metadata": {
    "tags": []
   },
   "outputs": [],
   "source": [
    "c = list(set(a + b))"
   ]
  },
  {
   "cell_type": "code",
   "execution_count": 75,
   "id": "0369c62b-267f-478f-8369-ce96b7d64061",
   "metadata": {
    "tags": []
   },
   "outputs": [],
   "source": [
    "c = list(set(a) & set(b))"
   ]
  },
  {
   "cell_type": "code",
   "execution_count": 73,
   "id": "bf33f021-6f96-4e9e-9c2f-1c6a6d0aeb6c",
   "metadata": {
    "tags": []
   },
   "outputs": [],
   "source": [
    "c = c[:-1]"
   ]
  },
  {
   "cell_type": "code",
   "execution_count": 77,
   "id": "21c12c7e-b01e-4737-9112-745b14678d7b",
   "metadata": {
    "tags": []
   },
   "outputs": [],
   "source": [
    "c = ['SALES_REV_TURN',\n",
    " 'TOT_DEBT_TO_EBITDA',\n",
    " 'FCF_TO_TOTAL_DEBT',\n",
    " 'RETURN_ON_INV_CAPITAL',\n",
    " 'CFO_TO_TOT_DEBT',\n",
    " 'BS_TOTAL_LIABILITIES',\n",
    " 'EBITDA',\n",
    " 'TOT_DEBT_TO_TOT_CAP',\n",
    " 'SHORT_AND_LONG_TERM_DEBT',\n",
    " 'EBITDA_TO_REVENUE',\n",
    " 'BS_LT_BORROW',\n",
    " 'RETURN_ON_ASSET',\n",
    " 'TOT_DEBT_TO_TOT_ASSET',\n",
    " 'EBITDA_TO_INTEREST_EXPN',\n",
    " 'BS_TOT_ASSET',\n",
    " 'NET_DEBT_TO_EBITDA',\n",
    " 'INT_COVERAGE_RATIO',\n",
    " 'SALES_GROWTH',\n",
    " 'IS_INT_EXPENSES',\n",
    " 'TOTAL_EQUITY',\n",
    " 'RETURN_ON_CAP',\n",
    " 'OPER_MARGIN',\n",
    " 'TOT_DEBT_TO_TOT_EQY',\n",
    " 'BS_ST_BORROW',\n",
    " 'IS_OPER_INC',\n",
    " 'EBITDA_TO_TOT_INT_EXP',\n",
    " 'RETAINED_CASH_FLOW_TO_NET_DEBT',\n",
    " 'ASSET_TURNOVER',]"
   ]
  },
  {
   "cell_type": "code",
   "execution_count": 82,
   "id": "8776467b-8925-4f03-9642-5f8d08c87927",
   "metadata": {
    "tags": []
   },
   "outputs": [],
   "source": [
    "filtered_df = data.loc[:, (slice(None), c)]\n",
    "filtered_df = filtered_df.sort_index(axis=1, level=0)"
   ]
  },
  {
   "cell_type": "code",
   "execution_count": null,
   "id": "7a93c369-c53d-49e9-8d87-5475ca0cb4eb",
   "metadata": {
    "tags": []
   },
   "outputs": [],
   "source": []
  },
  {
   "cell_type": "code",
   "execution_count": 83,
   "id": "872c863c-19b9-4d31-936c-bac41ce5bdfb",
   "metadata": {
    "tags": []
   },
   "outputs": [],
   "source": [
    "filtered_df.to_excel(\"ibx_features_clean.xlsx\")"
   ]
  },
  {
   "cell_type": "code",
   "execution_count": 4,
   "id": "f914ef4b-9895-45c0-a3e5-88f6ddf732a4",
   "metadata": {},
   "outputs": [],
   "source": [
    "df = pd.read_excel(\"resources/Moodys.com/CREDIT_RATINGS.xlsx\", index_col=0)"
   ]
  },
  {
   "cell_type": "code",
   "execution_count": 14,
   "id": "004ddccd-9d82-46ff-ab88-7d5d9a8be75f",
   "metadata": {
    "tags": []
   },
   "outputs": [],
   "source": [
    "a = df[[\"Moody's Long Term Rating\", \"S&P LT Local Currency Issuer Credit Rating\"]].dropna(how=\"all\")"
   ]
  },
  {
   "cell_type": "code",
   "execution_count": 25,
   "id": "d169bf8f-578e-47d3-a7e4-8dbc8c811cda",
   "metadata": {
    "tags": []
   },
   "outputs": [
    {
     "data": {
      "text/plain": [
       "nan"
      ]
     },
     "execution_count": 25,
     "metadata": {},
     "output_type": "execute_result"
    }
   ],
   "source": [
    "a['S&P LT Local Currency Issuer Credit Rating'][\"ANG SJ Equity\"]"
   ]
  },
  {
   "cell_type": "code",
   "execution_count": 27,
   "id": "e764fd0e-e7e8-4588-bff9-de5bddfcbd53",
   "metadata": {
    "tags": []
   },
   "outputs": [],
   "source": [
    "a.to_excel(\"dataset/credit.xlsx\")"
   ]
  },
  {
   "cell_type": "code",
   "execution_count": null,
   "id": "30041168-7eb0-4921-a994-08375f83d911",
   "metadata": {},
   "outputs": [],
   "source": []
  }
 ],
 "metadata": {
  "kernelspec": {
   "display_name": "Python 3 (ipykernel)",
   "language": "python",
   "name": "python3"
  },
  "language_info": {
   "codemirror_mode": {
    "name": "ipython",
    "version": 3
   },
   "file_extension": ".py",
   "mimetype": "text/x-python",
   "name": "python",
   "nbconvert_exporter": "python",
   "pygments_lexer": "ipython3",
   "version": "3.11.5"
  }
 },
 "nbformat": 4,
 "nbformat_minor": 5
}
