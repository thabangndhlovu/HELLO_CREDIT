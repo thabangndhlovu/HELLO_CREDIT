{
 "cells": [
  {
   "cell_type": "markdown",
   "id": "cc5fd4d9-9191-463e-80f4-42705a3b7d32",
   "metadata": {},
   "source": [
    "# Get hello_credit Data"
   ]
  },
  {
   "cell_type": "code",
   "execution_count": 1,
   "id": "d9827706-ae7c-4964-9752-e9a9b1928f15",
   "metadata": {
    "tags": []
   },
   "outputs": [],
   "source": [
    "import re\n",
    "\n",
    "import pandas as pd \n",
    "from bloomberg import BDP, BDH, BQL"
   ]
  },
  {
   "cell_type": "code",
   "execution_count": 2,
   "id": "b00a5e3e-b066-4dda-8170-37b097da5ac2",
   "metadata": {
    "tags": []
   },
   "outputs": [],
   "source": [
    "universe = \"members(['JALSH Index'])\"\n",
    "frequency = \"(fa_period_reference=range(2000,2024),fa_period_type='BA')\""
   ]
  },
  {
   "cell_type": "code",
   "execution_count": 18,
   "id": "863697b2-48aa-426e-8c4f-fdafa0fd4966",
   "metadata": {
    "tags": []
   },
   "outputs": [],
   "source": [
    "data = {\n",
    "    'profitability': [\n",
    "        'RETURN_ON_CAP', 'RETURN_ON_INVEST_CAP', 'OPER_MARGIN', 'IS_OPER_INC',\n",
    "        'EBITDA', 'EBITA_MARGIN', 'EBITDA_TO_REVENUE'\n",
    "    ],\n",
    "    'efficiency': [\n",
    "        'RETURN_ON_ASSETS'#, 'SALES_GROWTH', 'SALES_REV_TURN', 'ASSET_TURNOVER'\n",
    "    ],\n",
    "    'leverage_coverage': [\n",
    "        'BS_TOT_ASSET', 'BS_TOTAL_LIABILITIES', 'TOTAL_EQUITY',\n",
    "        'TOT_DEBT_TO_TOT_ASSET', 'TOT_DEBT_TO_TOT_CAP', 'TOT_DEBT_TO_EBITDA',\n",
    "        'TOT_DEBT_TO_TOT_EQY', 'SHORT_AND_LONG_TERM_DEBT', 'BS_LT_BORROW',\n",
    "        'BS_ST_BORROW', 'NET_DEBT_TO_EBITDA', 'EBITDA_TO_INTEREST_EXPN',\n",
    "        'IS_INT_EXPENSES', 'EBITDA_TO_TOT_INT_EXP', 'TOT_DEBT_TO_EBITDA',\n",
    "        'DEBT_TO_EQUITY', 'CFO_TO_TOT_DEBT', 'NET_DEBT_TO_EBITDA',\n",
    "        'INTEREST_COVERAGE_RATIO', 'RETAINED_CASH_FLOW_TO_NET_DEBT',\n",
    "        'FCF_TO_TOTAL_DEBT'\n",
    "    ]\n",
    "}"
   ]
  },
  {
   "cell_type": "code",
   "execution_count": 19,
   "id": "6d51c7dc-a650-41ef-a0e6-48345958f93a",
   "metadata": {
    "tags": []
   },
   "outputs": [],
   "source": [
    "fields = data['efficiency']"
   ]
  },
  {
   "cell_type": "code",
   "execution_count": 20,
   "id": "e6201b31-6345-4092-aa8f-052f00bdbbfe",
   "metadata": {
    "tags": []
   },
   "outputs": [],
   "source": [
    "fields = [entry + frequency for entry in fields]\n",
    "field_string = ', '.join(fields)\n",
    "query = f\"get({field_string})for({universe})\""
   ]
  },
  {
   "cell_type": "code",
   "execution_count": 21,
   "id": "66b0b9cb-35ad-457c-a99b-270c3f704a46",
   "metadata": {
    "tags": []
   },
   "outputs": [
    {
     "name": "stdout",
     "output_type": "stream",
     "text": [
      "get(RETURN_ON_ASSETS(fa_period_reference=range(2000,2024),fa_period_type='BA'))for(members(['JALSH Index']))\n"
     ]
    }
   ],
   "source": [
    "print(query)"
   ]
  },
  {
   "cell_type": "markdown",
   "id": "177cd543-f6d8-4811-aba6-1caf436c4bf9",
   "metadata": {},
   "source": [
    "### "
   ]
  },
  {
   "cell_type": "code",
   "execution_count": 22,
   "id": "deb83e52-b6f1-4cf1-8575-fb27d81df1cd",
   "metadata": {
    "tags": []
   },
   "outputs": [
    {
     "name": "stdout",
     "output_type": "stream",
     "text": [
      "Error: Response contains responseError\n",
      "response: {'eventType': 5, 'eventTypeName': 'blpapi.Event.RESPONSE', 'messageNumber': 0, 'message': {'fragmentType': 0, 'correlationIds': [33], 'messageType': 'result', 'timeReceived': Timestamp('2024-04-21 16:02:14.808036+0000', tz='UTC'), 'element': {'BQLResponse': {'results': None, 'universeTransparency': None, 'ordering': None, 'responseTiming': None, 'dotString': None, 'versionInfo': {'version': '1.190', 'responseSchemaVersion': '1.0'}, 'clientContext': {'appName': 'BBCOM_BQL_RESERVED', 'clientRequestId': '086e6d65-c6f5-4fd8-b56c-0e00d81b5230', 'timestamp': None, 'extraMarkers': []}, 'screenCounts': None, 'payloadId': None, 'responseError': \"Error: Undefined item: RETURN_ON_ASSETS(fa_period_reference=range(2000,2024),fa_period_type='BA').\"}}}}\n",
      "request: {'sendQuery': {'expression': \"get(RETURN_ON_ASSETS(fa_period_reference=range(2000,2024),fa_period_type='BA'))for(members(['JALSH Index']))\"}}\n"
     ]
    }
   ],
   "source": [
    "results = BQL(query)"
   ]
  },
  {
   "cell_type": "code",
   "execution_count": 8,
   "id": "3ecfff13-3846-46b4-8c61-1ee2c3cc1b68",
   "metadata": {
    "tags": []
   },
   "outputs": [],
   "source": [
    "results"
   ]
  },
  {
   "cell_type": "code",
   "execution_count": 64,
   "id": "fee2f5dd-cb13-43b9-ada9-1cbd91061179",
   "metadata": {
    "jupyter": {
     "source_hidden": true
    },
    "tags": []
   },
   "outputs": [],
   "source": [
    "data = results.copy()\n",
    "data['field'] = data['field'].str.replace(frequency, \"\")\n",
    "data['value'] = pd.to_numeric(data['value'].replace(\"NaN\", float(\"NaN\")))\n",
    "data['secondary_value'] = pd.to_datetime(data['secondary_value'])\n",
    "\n",
    "data = data.pivot_table(values=\"value\", index=\"secondary_value\", columns=[\"security\", \"field\"])\n",
    "data = data.resample(\"YS\").last()\n",
    "data.index.name = None\n",
    "data.columns.names = [None, None]"
   ]
  },
  {
   "cell_type": "code",
   "execution_count": 70,
   "id": "e31b5936-e164-4c36-83c2-091c7371f1f5",
   "metadata": {
    "tags": []
   },
   "outputs": [
    {
     "data": {
      "text/html": [
       "<div>\n",
       "<style scoped>\n",
       "    .dataframe tbody tr th:only-of-type {\n",
       "        vertical-align: middle;\n",
       "    }\n",
       "\n",
       "    .dataframe tbody tr th {\n",
       "        vertical-align: top;\n",
       "    }\n",
       "\n",
       "    .dataframe thead tr th {\n",
       "        text-align: left;\n",
       "    }\n",
       "</style>\n",
       "<table border=\"1\" class=\"dataframe\">\n",
       "  <thead>\n",
       "    <tr>\n",
       "      <th></th>\n",
       "      <th>ABG SJ Equity</th>\n",
       "      <th>AFE SJ Equity</th>\n",
       "      <th>AGL SJ Equity</th>\n",
       "      <th>AIP SJ Equity</th>\n",
       "      <th>AMS SJ Equity</th>\n",
       "      <th>ANG SJ Equity</th>\n",
       "      <th>ANH SJ Equity</th>\n",
       "      <th>APN SJ Equity</th>\n",
       "      <th>ARI SJ Equity</th>\n",
       "      <th>ATT SJ Equity</th>\n",
       "      <th>...</th>\n",
       "      <th>SOL SJ Equity</th>\n",
       "      <th>SPG SJ Equity</th>\n",
       "      <th>SSW SJ Equity</th>\n",
       "      <th>TFG SJ Equity</th>\n",
       "      <th>TGA SJ Equity</th>\n",
       "      <th>THA SJ Equity</th>\n",
       "      <th>TRU SJ Equity</th>\n",
       "      <th>VOD SJ Equity</th>\n",
       "      <th>WBO SJ Equity</th>\n",
       "      <th>WHL SJ Equity</th>\n",
       "    </tr>\n",
       "    <tr>\n",
       "      <th></th>\n",
       "      <th>ASSET_TURNOVER</th>\n",
       "      <th>ASSET_TURNOVER</th>\n",
       "      <th>ASSET_TURNOVER</th>\n",
       "      <th>ASSET_TURNOVER</th>\n",
       "      <th>ASSET_TURNOVER</th>\n",
       "      <th>ASSET_TURNOVER</th>\n",
       "      <th>ASSET_TURNOVER</th>\n",
       "      <th>ASSET_TURNOVER</th>\n",
       "      <th>ASSET_TURNOVER</th>\n",
       "      <th>ASSET_TURNOVER</th>\n",
       "      <th>...</th>\n",
       "      <th>ASSET_TURNOVER</th>\n",
       "      <th>ASSET_TURNOVER</th>\n",
       "      <th>ASSET_TURNOVER</th>\n",
       "      <th>ASSET_TURNOVER</th>\n",
       "      <th>ASSET_TURNOVER</th>\n",
       "      <th>ASSET_TURNOVER</th>\n",
       "      <th>ASSET_TURNOVER</th>\n",
       "      <th>ASSET_TURNOVER</th>\n",
       "      <th>ASSET_TURNOVER</th>\n",
       "      <th>ASSET_TURNOVER</th>\n",
       "    </tr>\n",
       "  </thead>\n",
       "  <tbody>\n",
       "    <tr>\n",
       "      <th>2023-01-01 00:00:00+00:00</th>\n",
       "      <td>0.106052</td>\n",
       "      <td>1.330542</td>\n",
       "      <td>0.457660</td>\n",
       "      <td>1.123821</td>\n",
       "      <td>0.719865</td>\n",
       "      <td>0.564043</td>\n",
       "      <td>0.274727</td>\n",
       "      <td>0.328628</td>\n",
       "      <td>0.188332</td>\n",
       "      <td>0.122658</td>\n",
       "      <td>...</td>\n",
       "      <td>0.645903</td>\n",
       "      <td>0.949551</td>\n",
       "      <td>0.734459</td>\n",
       "      <td>1.037800</td>\n",
       "      <td>0.703736</td>\n",
       "      <td>0.623189</td>\n",
       "      <td>1.260593</td>\n",
       "      <td>0.640496</td>\n",
       "      <td>2.029151</td>\n",
       "      <td>1.476521</td>\n",
       "    </tr>\n",
       "    <tr>\n",
       "      <th>2024-01-01 00:00:00+00:00</th>\n",
       "      <td>0.057677</td>\n",
       "      <td>1.330542</td>\n",
       "      <td>0.439627</td>\n",
       "      <td>1.123821</td>\n",
       "      <td>0.719865</td>\n",
       "      <td>0.607718</td>\n",
       "      <td>0.285759</td>\n",
       "      <td>0.328628</td>\n",
       "      <td>0.188332</td>\n",
       "      <td>0.122658</td>\n",
       "      <td>...</td>\n",
       "      <td>0.645903</td>\n",
       "      <td>0.949551</td>\n",
       "      <td>0.783258</td>\n",
       "      <td>1.059382</td>\n",
       "      <td>0.703736</td>\n",
       "      <td>0.581945</td>\n",
       "      <td>1.260593</td>\n",
       "      <td>0.646267</td>\n",
       "      <td>2.029151</td>\n",
       "      <td>1.900273</td>\n",
       "    </tr>\n",
       "  </tbody>\n",
       "</table>\n",
       "<p>2 rows × 76 columns</p>\n",
       "</div>"
      ],
      "text/plain": [
       "                           ABG SJ Equity  AFE SJ Equity  AGL SJ Equity  \\\n",
       "                          ASSET_TURNOVER ASSET_TURNOVER ASSET_TURNOVER   \n",
       "2023-01-01 00:00:00+00:00       0.106052       1.330542       0.457660   \n",
       "2024-01-01 00:00:00+00:00       0.057677       1.330542       0.439627   \n",
       "\n",
       "                           AIP SJ Equity  AMS SJ Equity  ANG SJ Equity  \\\n",
       "                          ASSET_TURNOVER ASSET_TURNOVER ASSET_TURNOVER   \n",
       "2023-01-01 00:00:00+00:00       1.123821       0.719865       0.564043   \n",
       "2024-01-01 00:00:00+00:00       1.123821       0.719865       0.607718   \n",
       "\n",
       "                           ANH SJ Equity  APN SJ Equity  ARI SJ Equity  \\\n",
       "                          ASSET_TURNOVER ASSET_TURNOVER ASSET_TURNOVER   \n",
       "2023-01-01 00:00:00+00:00       0.274727       0.328628       0.188332   \n",
       "2024-01-01 00:00:00+00:00       0.285759       0.328628       0.188332   \n",
       "\n",
       "                           ATT SJ Equity  ...  SOL SJ Equity  SPG SJ Equity  \\\n",
       "                          ASSET_TURNOVER  ... ASSET_TURNOVER ASSET_TURNOVER   \n",
       "2023-01-01 00:00:00+00:00       0.122658  ...       0.645903       0.949551   \n",
       "2024-01-01 00:00:00+00:00       0.122658  ...       0.645903       0.949551   \n",
       "\n",
       "                           SSW SJ Equity  TFG SJ Equity  TGA SJ Equity  \\\n",
       "                          ASSET_TURNOVER ASSET_TURNOVER ASSET_TURNOVER   \n",
       "2023-01-01 00:00:00+00:00       0.734459       1.037800       0.703736   \n",
       "2024-01-01 00:00:00+00:00       0.783258       1.059382       0.703736   \n",
       "\n",
       "                           THA SJ Equity  TRU SJ Equity  VOD SJ Equity  \\\n",
       "                          ASSET_TURNOVER ASSET_TURNOVER ASSET_TURNOVER   \n",
       "2023-01-01 00:00:00+00:00       0.623189       1.260593       0.640496   \n",
       "2024-01-01 00:00:00+00:00       0.581945       1.260593       0.646267   \n",
       "\n",
       "                           WBO SJ Equity  WHL SJ Equity  \n",
       "                          ASSET_TURNOVER ASSET_TURNOVER  \n",
       "2023-01-01 00:00:00+00:00       2.029151       1.476521  \n",
       "2024-01-01 00:00:00+00:00       2.029151       1.900273  \n",
       "\n",
       "[2 rows x 76 columns]"
      ]
     },
     "execution_count": 70,
     "metadata": {},
     "output_type": "execute_result"
    }
   ],
   "source": [
    "data"
   ]
  },
  {
   "cell_type": "code",
   "execution_count": 97,
   "id": "a6f3df48-663e-46a6-afc0-63b4cf605e4a",
   "metadata": {
    "tags": []
   },
   "outputs": [
    {
     "data": {
      "text/html": [
       "<div>\n",
       "<style scoped>\n",
       "    .dataframe tbody tr th:only-of-type {\n",
       "        vertical-align: middle;\n",
       "    }\n",
       "\n",
       "    .dataframe tbody tr th {\n",
       "        vertical-align: top;\n",
       "    }\n",
       "\n",
       "    .dataframe thead tr th {\n",
       "        text-align: left;\n",
       "    }\n",
       "</style>\n",
       "<table border=\"1\" class=\"dataframe\">\n",
       "  <thead>\n",
       "    <tr>\n",
       "      <th></th>\n",
       "      <th>ABG SJ Equity</th>\n",
       "      <th>AFE SJ Equity</th>\n",
       "      <th>AGL SJ Equity</th>\n",
       "      <th>AIP SJ Equity</th>\n",
       "      <th>AMS SJ Equity</th>\n",
       "      <th>ANG SJ Equity</th>\n",
       "      <th>ANH SJ Equity</th>\n",
       "      <th>APN SJ Equity</th>\n",
       "      <th>ARI SJ Equity</th>\n",
       "      <th>ATT SJ Equity</th>\n",
       "      <th>...</th>\n",
       "      <th>SOL SJ Equity</th>\n",
       "      <th>SPG SJ Equity</th>\n",
       "      <th>SSW SJ Equity</th>\n",
       "      <th>TFG SJ Equity</th>\n",
       "      <th>TGA SJ Equity</th>\n",
       "      <th>THA SJ Equity</th>\n",
       "      <th>TRU SJ Equity</th>\n",
       "      <th>VOD SJ Equity</th>\n",
       "      <th>WBO SJ Equity</th>\n",
       "      <th>WHL SJ Equity</th>\n",
       "    </tr>\n",
       "    <tr>\n",
       "      <th></th>\n",
       "      <th>ASSET_TURNOVER</th>\n",
       "      <th>ASSET_TURNOVER</th>\n",
       "      <th>ASSET_TURNOVER</th>\n",
       "      <th>ASSET_TURNOVER</th>\n",
       "      <th>ASSET_TURNOVER</th>\n",
       "      <th>ASSET_TURNOVER</th>\n",
       "      <th>ASSET_TURNOVER</th>\n",
       "      <th>ASSET_TURNOVER</th>\n",
       "      <th>ASSET_TURNOVER</th>\n",
       "      <th>ASSET_TURNOVER</th>\n",
       "      <th>...</th>\n",
       "      <th>ASSET_TURNOVER</th>\n",
       "      <th>ASSET_TURNOVER</th>\n",
       "      <th>ASSET_TURNOVER</th>\n",
       "      <th>ASSET_TURNOVER</th>\n",
       "      <th>ASSET_TURNOVER</th>\n",
       "      <th>ASSET_TURNOVER</th>\n",
       "      <th>ASSET_TURNOVER</th>\n",
       "      <th>ASSET_TURNOVER</th>\n",
       "      <th>ASSET_TURNOVER</th>\n",
       "      <th>ASSET_TURNOVER</th>\n",
       "    </tr>\n",
       "  </thead>\n",
       "  <tbody>\n",
       "    <tr>\n",
       "      <th>2023-01-01 00:00:00+00:00</th>\n",
       "      <td>0.106052</td>\n",
       "      <td>1.330542</td>\n",
       "      <td>0.457660</td>\n",
       "      <td>1.123821</td>\n",
       "      <td>0.719865</td>\n",
       "      <td>0.564043</td>\n",
       "      <td>0.274727</td>\n",
       "      <td>0.328628</td>\n",
       "      <td>0.188332</td>\n",
       "      <td>0.122658</td>\n",
       "      <td>...</td>\n",
       "      <td>0.645903</td>\n",
       "      <td>0.949551</td>\n",
       "      <td>0.734459</td>\n",
       "      <td>1.037800</td>\n",
       "      <td>0.703736</td>\n",
       "      <td>0.623189</td>\n",
       "      <td>1.260593</td>\n",
       "      <td>0.640496</td>\n",
       "      <td>2.029151</td>\n",
       "      <td>1.476521</td>\n",
       "    </tr>\n",
       "    <tr>\n",
       "      <th>2024-01-01 00:00:00+00:00</th>\n",
       "      <td>0.057677</td>\n",
       "      <td>1.330542</td>\n",
       "      <td>0.439627</td>\n",
       "      <td>1.123821</td>\n",
       "      <td>0.719865</td>\n",
       "      <td>0.607718</td>\n",
       "      <td>0.285759</td>\n",
       "      <td>0.328628</td>\n",
       "      <td>0.188332</td>\n",
       "      <td>0.122658</td>\n",
       "      <td>...</td>\n",
       "      <td>0.645903</td>\n",
       "      <td>0.949551</td>\n",
       "      <td>0.783258</td>\n",
       "      <td>1.059382</td>\n",
       "      <td>0.703736</td>\n",
       "      <td>0.581945</td>\n",
       "      <td>1.260593</td>\n",
       "      <td>0.646267</td>\n",
       "      <td>2.029151</td>\n",
       "      <td>1.900273</td>\n",
       "    </tr>\n",
       "  </tbody>\n",
       "</table>\n",
       "<p>2 rows × 76 columns</p>\n",
       "</div>"
      ],
      "text/plain": [
       "                           ABG SJ Equity  AFE SJ Equity  AGL SJ Equity  \\\n",
       "                          ASSET_TURNOVER ASSET_TURNOVER ASSET_TURNOVER   \n",
       "2023-01-01 00:00:00+00:00       0.106052       1.330542       0.457660   \n",
       "2024-01-01 00:00:00+00:00       0.057677       1.330542       0.439627   \n",
       "\n",
       "                           AIP SJ Equity  AMS SJ Equity  ANG SJ Equity  \\\n",
       "                          ASSET_TURNOVER ASSET_TURNOVER ASSET_TURNOVER   \n",
       "2023-01-01 00:00:00+00:00       1.123821       0.719865       0.564043   \n",
       "2024-01-01 00:00:00+00:00       1.123821       0.719865       0.607718   \n",
       "\n",
       "                           ANH SJ Equity  APN SJ Equity  ARI SJ Equity  \\\n",
       "                          ASSET_TURNOVER ASSET_TURNOVER ASSET_TURNOVER   \n",
       "2023-01-01 00:00:00+00:00       0.274727       0.328628       0.188332   \n",
       "2024-01-01 00:00:00+00:00       0.285759       0.328628       0.188332   \n",
       "\n",
       "                           ATT SJ Equity  ...  SOL SJ Equity  SPG SJ Equity  \\\n",
       "                          ASSET_TURNOVER  ... ASSET_TURNOVER ASSET_TURNOVER   \n",
       "2023-01-01 00:00:00+00:00       0.122658  ...       0.645903       0.949551   \n",
       "2024-01-01 00:00:00+00:00       0.122658  ...       0.645903       0.949551   \n",
       "\n",
       "                           SSW SJ Equity  TFG SJ Equity  TGA SJ Equity  \\\n",
       "                          ASSET_TURNOVER ASSET_TURNOVER ASSET_TURNOVER   \n",
       "2023-01-01 00:00:00+00:00       0.734459       1.037800       0.703736   \n",
       "2024-01-01 00:00:00+00:00       0.783258       1.059382       0.703736   \n",
       "\n",
       "                           THA SJ Equity  TRU SJ Equity  VOD SJ Equity  \\\n",
       "                          ASSET_TURNOVER ASSET_TURNOVER ASSET_TURNOVER   \n",
       "2023-01-01 00:00:00+00:00       0.623189       1.260593       0.640496   \n",
       "2024-01-01 00:00:00+00:00       0.581945       1.260593       0.646267   \n",
       "\n",
       "                           WBO SJ Equity  WHL SJ Equity  \n",
       "                          ASSET_TURNOVER ASSET_TURNOVER  \n",
       "2023-01-01 00:00:00+00:00       2.029151       1.476521  \n",
       "2024-01-01 00:00:00+00:00       2.029151       1.900273  \n",
       "\n",
       "[2 rows x 76 columns]"
      ]
     },
     "execution_count": 97,
     "metadata": {},
     "output_type": "execute_result"
    }
   ],
   "source": [
    "data.to_excel(\".xlsx\")"
   ]
  }
 ],
 "metadata": {
  "kernelspec": {
   "display_name": "Python 3 (ipykernel)",
   "language": "python",
   "name": "python3"
  },
  "language_info": {
   "codemirror_mode": {
    "name": "ipython",
    "version": 3
   },
   "file_extension": ".py",
   "mimetype": "text/x-python",
   "name": "python",
   "nbconvert_exporter": "python",
   "pygments_lexer": "ipython3",
   "version": "3.11.5"
  }
 },
 "nbformat": 4,
 "nbformat_minor": 5
}
