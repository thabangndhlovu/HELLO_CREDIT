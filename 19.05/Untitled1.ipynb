{
 "cells": [
  {
   "cell_type": "code",
   "execution_count": 414,
   "id": "d02e85cc-1fe3-4495-92dd-a0c91bf52708",
   "metadata": {
    "tags": []
   },
   "outputs": [],
   "source": [
    "import json\n",
    "\n",
    "import numpy as np\n",
    "import pandas as pd\n",
    "\n",
    "from scipy.optimize import nnls\n",
    "from sklearn.linear_model import Lasso, Ridge, LinearRegression\n",
    "from sklearn.metrics import accuracy_score, mean_absolute_percentage_error"
   ]
  },
  {
   "cell_type": "code",
   "execution_count": 431,
   "id": "9ecc305d-947c-453c-abd6-9a1c8a5eddd3",
   "metadata": {},
   "outputs": [],
   "source": [
    "features = pd.read_excel(\"dataset/jalsh_dataset.xlsx\", header=[0, 1], index_col=0, sheet_name=\"data\")\n",
    "targets = pd.read_excel(\"dataset/jalsh_dataset_targets.xlsx\", index_col=0)"
   ]
  },
  {
   "cell_type": "code",
   "execution_count": 432,
   "id": "4ff8abe0-8f28-4368-b579-55efdc3cbbb7",
   "metadata": {
    "tags": []
   },
   "outputs": [],
   "source": [
    "y = targets['RATINGS_SCORE'].dropna()\n",
    "X = features[y.index].median().unstack()"
   ]
  },
  {
   "cell_type": "code",
   "execution_count": 433,
   "id": "b13b263c-b8bf-4e67-b24a-f54d18eefb8b",
   "metadata": {
    "tags": []
   },
   "outputs": [],
   "source": [
    "col = ['ASSET_TO_EQY', 'RETURN_ON_ASSET', 'SALES_GROWTH', 'SALES_TO_TOT_ASSET', ]"
   ]
  },
  {
   "cell_type": "code",
   "execution_count": 434,
   "id": "8363f80a-600c-48bc-8fa2-4fecd2614b81",
   "metadata": {
    "tags": []
   },
   "outputs": [],
   "source": [
    "X = X.T.dropna().T[col] #[['CASH_TO_TOT_ASSET', 'CFO_TO_TOT_DEBT', 'SALES_TO_TOT_ASSET', 'TOT_DEBT_TO_TOT_ASSET']]\n",
    "y = y.loc[X.index]"
   ]
  },
  {
   "cell_type": "code",
   "execution_count": 435,
   "id": "c58417af-5841-4116-9242-4369f1e069f4",
   "metadata": {
    "tags": []
   },
   "outputs": [
    {
     "data": {
      "text/plain": [
       "array([0.73, 0.3 , 0.08, 1.72])"
      ]
     },
     "execution_count": 435,
     "metadata": {},
     "output_type": "execute_result"
    }
   ],
   "source": [
    "w, r = nnls(X, y)\n",
    "yhat = (w @ X.T).round(1)\n",
    "pd.DataFrame(w, X.columns).replace(0, np.nan).dropna()\n",
    "w.round(2)"
   ]
  },
  {
   "cell_type": "code",
   "execution_count": 436,
   "id": "ea94c2fc-edfc-4eb7-897c-5b5ffc8391b2",
   "metadata": {
    "tags": []
   },
   "outputs": [
    {
     "data": {
      "text/plain": [
       "2.826086242957367"
      ]
     },
     "execution_count": 436,
     "metadata": {},
     "output_type": "execute_result"
    }
   ],
   "source": [
    "w.sum()"
   ]
  },
  {
   "cell_type": "code",
   "execution_count": 426,
   "id": "d4bc2c5f-3327-46e5-bd37-ef7792961304",
   "metadata": {
    "tags": []
   },
   "outputs": [
    {
     "data": {
      "text/plain": [
       "2.4552712311226594"
      ]
     },
     "execution_count": 426,
     "metadata": {},
     "output_type": "execute_result"
    }
   ],
   "source": [
    "mean_absolute_percentage_error(yhat, y)"
   ]
  },
  {
   "cell_type": "code",
   "execution_count": 326,
   "id": "0b18c6b9-7c53-4cca-b31c-ed5cbb4f7fe8",
   "metadata": {
    "tags": []
   },
   "outputs": [],
   "source": [
    "yhX.fillna(X.median())[['CASH_TO_TOT_ASSET', 'CFO_TO_TOT_DEBT', 'SALES_TO_TOT_ASSET', 'TOT_DEBT_TO_TOT_ASSET']] @ w"
   ]
  },
  {
   "cell_type": "code",
   "execution_count": 327,
   "id": "1bd1bcaa-1e64-4e0b-a473-2c0a185535a6",
   "metadata": {
    "tags": []
   },
   "outputs": [
    {
     "data": {
      "text/plain": [
       "0.39450089437252184"
      ]
     },
     "execution_count": 327,
     "metadata": {},
     "output_type": "execute_result"
    }
   ],
   "source": [
    "mean_absolute_percentage_error(yh, y)"
   ]
  },
  {
   "cell_type": "code",
   "execution_count": null,
   "id": "2c73cde2-538e-4ed2-95d7-1eac39a18b35",
   "metadata": {
    "tags": []
   },
   "outputs": [],
   "source": []
  },
  {
   "cell_type": "code",
   "execution_count": 349,
   "id": "77ade7db-c8c0-4b36-a7fc-2b4565fbe62a",
   "metadata": {
    "tags": []
   },
   "outputs": [
    {
     "data": {
      "text/html": [
       "<div>\n",
       "<style scoped>\n",
       "    .dataframe tbody tr th:only-of-type {\n",
       "        vertical-align: middle;\n",
       "    }\n",
       "\n",
       "    .dataframe tbody tr th {\n",
       "        vertical-align: top;\n",
       "    }\n",
       "\n",
       "    .dataframe thead th {\n",
       "        text-align: right;\n",
       "    }\n",
       "</style>\n",
       "<table border=\"1\" class=\"dataframe\">\n",
       "  <thead>\n",
       "    <tr style=\"text-align: right;\">\n",
       "      <th></th>\n",
       "      <th>0</th>\n",
       "    </tr>\n",
       "    <tr>\n",
       "      <th>Dates</th>\n",
       "      <th></th>\n",
       "    </tr>\n",
       "  </thead>\n",
       "  <tbody>\n",
       "    <tr>\n",
       "      <th>ASSET_TO_EQY</th>\n",
       "      <td>0.472781</td>\n",
       "    </tr>\n",
       "    <tr>\n",
       "      <th>CASH_TO_TOT_ASSET</th>\n",
       "      <td>0.111131</td>\n",
       "    </tr>\n",
       "    <tr>\n",
       "      <th>RETURN_ON_ASSET</th>\n",
       "      <td>0.071138</td>\n",
       "    </tr>\n",
       "    <tr>\n",
       "      <th>SALES_GROWTH</th>\n",
       "      <td>0.047295</td>\n",
       "    </tr>\n",
       "    <tr>\n",
       "      <th>SALES_TO_TOT_ASSET</th>\n",
       "      <td>0.882524</td>\n",
       "    </tr>\n",
       "    <tr>\n",
       "      <th>TOTAL_EQUITY</th>\n",
       "      <td>0.000015</td>\n",
       "    </tr>\n",
       "    <tr>\n",
       "      <th>TOT_DEBT_TO_TOT_ASSET</th>\n",
       "      <td>0.084349</td>\n",
       "    </tr>\n",
       "  </tbody>\n",
       "</table>\n",
       "</div>"
      ],
      "text/plain": [
       "                              0\n",
       "Dates                          \n",
       "ASSET_TO_EQY           0.472781\n",
       "CASH_TO_TOT_ASSET      0.111131\n",
       "RETURN_ON_ASSET        0.071138\n",
       "SALES_GROWTH           0.047295\n",
       "SALES_TO_TOT_ASSET     0.882524\n",
       "TOTAL_EQUITY           0.000015\n",
       "TOT_DEBT_TO_TOT_ASSET  0.084349"
      ]
     },
     "execution_count": 349,
     "metadata": {},
     "output_type": "execute_result"
    }
   ],
   "source": [
    "pd.DataFrame(w, X.columns).replace(0, np.nan).dropna()"
   ]
  },
  {
   "cell_type": "code",
   "execution_count": null,
   "id": "85aba0cf-30d6-4a17-988b-68104a77013b",
   "metadata": {},
   "outputs": [],
   "source": []
  },
  {
   "cell_type": "code",
   "execution_count": null,
   "id": "0ddc0d60-6bdd-41eb-a4e2-1307a780fd72",
   "metadata": {},
   "outputs": [],
   "source": []
  },
  {
   "cell_type": "code",
   "execution_count": null,
   "id": "4b83b676-5d88-4c29-bb1a-d8b3b0f06465",
   "metadata": {},
   "outputs": [],
   "source": []
  },
  {
   "cell_type": "code",
   "execution_count": null,
   "id": "b981756c-a719-4887-9aed-aede738eb0e8",
   "metadata": {},
   "outputs": [],
   "source": []
  },
  {
   "cell_type": "code",
   "execution_count": 9,
   "id": "41358a25-8160-4407-b905-7bc9249b251f",
   "metadata": {
    "tags": []
   },
   "outputs": [
    {
     "data": {
      "text/plain": [
       "Index(['asset_turnover', 'bs_lt_borrow', 'bs_st_borrow',\n",
       "       'bs_total_liabilities', 'bs_tot_asset', 'cfo_to_tot_debt', 'ebitda',\n",
       "       'ebitda_to_interest_expn', 'ebitda_to_revenue', 'ebitda_to_tot_int_exp',\n",
       "       'fcf_to_total_debt', 'is_oper_inc', 'net_debt_to_ebitda', 'oper_margin',\n",
       "       'retained_cash_flow_to_net_debt', 'return_on_asset', 'return_on_cap',\n",
       "       'return_on_inv_capital', 'sales_growth', 'sales_rev_turn',\n",
       "       'short_and_long_term_debt', 'total_equity', 'tot_debt_to_ebitda',\n",
       "       'tot_debt_to_tot_asset', 'tot_debt_to_tot_cap', 'tot_debt_to_tot_eqy'],\n",
       "      dtype='object')"
      ]
     },
     "execution_count": 9,
     "metadata": {},
     "output_type": "execute_result"
    }
   ],
   "source": [
    "model_metrics = [\n",
    "    'bs_tot_asset','oper_margin', 'tot_debt_to_tot_eqy', 'tot_debt_to_ebitda',\n",
    "    'ebitda_to_tot_int_exp', 'return_on_asset', 'asset_turnover',\n",
    "]"
   ]
  },
  {
   "cell_type": "code",
   "execution_count": null,
   "id": "615f9017-f618-4d3c-86ba-6146a29eaf1e",
   "metadata": {},
   "outputs": [],
   "source": []
  },
  {
   "cell_type": "code",
   "execution_count": 13,
   "id": "84a905f9-b5fd-404d-93f4-ce34191ce2fd",
   "metadata": {
    "tags": []
   },
   "outputs": [
    {
     "data": {
      "image/png": "[encoded data removed]",
      "text/plain": [
       "<Figure size 640x480 with 1 Axes>"
      ]
     },
     "metadata": {},
     "output_type": "display_data"
    }
   ],
   "source": [
    "features[[\"asset_turnover\", \"return_on_asset\"]].pct_change().plot();"
   ]
  },
  {
   "cell_type": "code",
   "execution_count": 3,
   "id": "d86f9170-2eb8-4924-915b-34518c14822b",
   "metadata": {
    "tags": []
   },
   "outputs": [],
   "source": [
    "model_inputs = {\n",
    "    \"profitability\": {\n",
    "        \"class_weight\": 0.30,\n",
    "        \"weights\": [1.0], \n",
    "        \"metrics\": {\n",
    "            \"oper_margin\": {\n",
    "                \"lower_is_better\": False,\n",
    "                \"thresholds\": [\n",
    "                    (50, 45),\n",
    "                     (45, 40),\n",
    "                     (40, 35),\n",
    "                     (35, 30),\n",
    "                     (30, 25),\n",
    "                     (25, 20),\n",
    "                     (20, 15),\n",
    "                     (15, 10),\n",
    "                     (5, 0)]\n",
    "            }\n",
    "        },\n",
    "    },\n",
    "    \"leverage_coverage\": {\n",
    "        \"class_weight\": 0.55,\n",
    "        \"weights\": [0.3, 0.2, 0.5],\n",
    "        \"metrics\": {\n",
    "            \"tot_debt_to_tot_eqy\": {\n",
    "                \"lower_is_better\": True,\n",
    "                \"thresholds\": [\n",
    "                     (float(\"-inf\"), 2.0),\n",
    "                     (2.0, 16.0),\n",
    "                     (16.0, 24.0),\n",
    "                     (24.0, 33.0),\n",
    "                     (33.0, 43.0),\n",
    "                     (43.0, 54.0),\n",
    "                     (54.0, 68.0),\n",
    "                     (68.0, 94.0),\n",
    "                     (94.0, float(\"inf\")),\n",
    "                ],\n",
    "            },\n",
    "            \"tot_debt_to_ebitda\": {\n",
    "                \"lower_is_better\": True,\n",
    "                \"thresholds\": [\n",
    "                    (float(\"-inf\"), 0.09),\n",
    "                    (0.09, 0.49),\n",
    "                    (0.49, 0.9),\n",
    "                    (0.9, 1.36),\n",
    "                    (1.36, 1.68),\n",
    "                    (1.68, 2.26),\n",
    "                    (2.26, 3.27),\n",
    "                    (3.27, 4.4),\n",
    "                    (4.4, float(\"inf\")),\n",
    "                ],\n",
    "            },\n",
    "            \"ebitda_to_tot_int_exp\": {\n",
    "                \"lower_is_better\": False,\n",
    "                \"thresholds\": [\n",
    "                    (25, float(\"inf\")),\n",
    "                    (20, 25),\n",
    "                    (15, 20),\n",
    "                    (10, 15),\n",
    "                    (5, 10),\n",
    "                    (3, 5),\n",
    "                    (1, 3),\n",
    "                    (0, 1),\n",
    "                    (float(\"-inf\"), 0),\n",
    "                ],\n",
    "            },\n",
    "        },\n",
    "    },\n",
    "    \"efficiency\": {\n",
    "        \"class_weight\": 0.15,\n",
    "        \"weights\": [0.3, 0.7],\n",
    "        \"metrics\": {\n",
    "            \"return_on_asset\": {\n",
    "                \"lower_is_better\": False,\n",
    "                \"thresholds\": [\n",
    "                    (0.15, float(\"inf\")),\n",
    "                    (0.10, 0.15),\n",
    "                    (0.08, 0.10),\n",
    "                    (0.06, 0.08),\n",
    "                    (0.04, 0.06),\n",
    "                    (0.02, 0.04),\n",
    "                    (0.00, 0.02),\n",
    "                    (-0.02, 0.00),\n",
    "                    (float(\"-inf\"), -0.02)\n",
    "                ],\n",
    "            },\n",
    "            \"asset_turnover\": {\n",
    "                \"lower_is_better\": False,\n",
    "                \"thresholds\": [\n",
    "                    (4.0, float(\"inf\")),\n",
    "                    (3.0, 4.0),\n",
    "                    (2.0, 3.0),\n",
    "                    (1.5, 2.0),\n",
    "                    (1.0, 1.5),\n",
    "                    (0.75, 1.0),\n",
    "                    (0.5, 0.75),\n",
    "                    (0.25, 0.5),\n",
    "                    (float(\"-inf\"), 0.25)\n",
    "                ],\n",
    "            },\n",
    "        },\n",
    "    },\n",
    "}"
   ]
  },
  {
   "cell_type": "code",
   "execution_count": 6,
   "id": "ab2f07d3-abd2-4804-9e1a-ae0d25c4a9af",
   "metadata": {
    "tags": []
   },
   "outputs": [
    {
     "name": "stdout",
     "output_type": "stream",
     "text": [
      "[(-0.5, -1), (-0.5, -1.0), (0.0, -0.5), (0.5, 0.0), (1.0, 0.5), (1.5, 1.0), (2.0, 1.5), (2.5, 2.0), (3.0, 2.5)]\n"
     ]
    }
   ],
   "source": [
    "def get_buckets(min_val, max_val, lower_is_better=False, num_buckets=9):\n",
    "    \"\"\"\n",
    "    Generates optimized buckets based on min, max values, desired number of buckets, and whether lower values are better.\n",
    "\n",
    "    Args:\n",
    "        min_val (float): The minimum value.\n",
    "        max_val (float): The maximum value.\n",
    "        num_buckets (int, optional): Number of buckets. Defaults to 9.\n",
    "        lower_is_better (bool, optional): True if lower values are better, else False. Defaults to False.\n",
    "\n",
    "    Returns:\n",
    "        list: List of tuples (start, end) representing each bucket's range.\n",
    "    \"\"\"\n",
    "    min_val, max_val = (max_val, min_val) if lower_is_better else (min_val, max_val)\n",
    "    interval = (max_val - min_val) / (num_buckets - 1)\n",
    "    buckets = [(round(min_val + i * interval, 2), round(min_val + (i + 1) * interval, 2)) for i in range(num_buckets - 1)]\n",
    "    buckets.append((round(max_val - interval, 2), max_val))\n",
    "    return list(reversed(buckets)) if lower_is_better else buckets\n",
    "\n",
    "\n",
    "# Redefine the values and number of buckets for clarity\n",
    "min_val = -1\n",
    "median_val = 3\n",
    "max_val = 5\n",
    "num_buckets = 9\n",
    "\n",
    "# Generate the optimized buckets\n",
    "buckets_list = get_buckets(min_val, median_val, max_val, num_buckets)\n",
    "print(buckets_list)"
   ]
  },
  {
   "cell_type": "code",
   "execution_count": null,
   "id": "7ccccd4c-ea33-4cd6-950b-d1b1fbf859ed",
   "metadata": {},
   "outputs": [],
   "source": []
  },
  {
   "cell_type": "code",
   "execution_count": 282,
   "id": "ecf232ee-4640-4cb7-ab61-bcf640f30735",
   "metadata": {
    "tags": []
   },
   "outputs": [],
   "source": [
    "class CreditRatingCalculator:\n",
    "    def __init__(self, metrics):\n",
    "        self.metrics = metrics\n",
    "\n",
    "    def _calculate_metric_score(self, metric, thresholds, inverse):\n",
    "        for score, (lower, upper) in enumerate(zip(thresholds[:-1], thresholds[1:]), start=1):\n",
    "            if (inverse and metric <= upper) or (not inverse and metric >= lower):\n",
    "                return score\n",
    "        return len(thresholds) // 2  # else return the middle score\n",
    "\n",
    "    def _calculate_category_score(self, category_metrics, ratios):\n",
    "        total_weighted_score = 0\n",
    "        for metric, weight in zip(\n",
    "            category_metrics[\"metrics\"].items(), category_metrics[\"weights\"]\n",
    "        ):\n",
    "            metric_name, metric_data = metric\n",
    "            value = ratios[metric_name]\n",
    "            score = self._calculate_metric_score(\n",
    "                value, metric_data[\"thresholds\"], metric_data[\"lower_is_better\"]\n",
    "            )\n",
    "            total_weighted_score += score * weight\n",
    "        return total_weighted_score\n",
    "\n",
    "    def _calculate_scores(self, ratios):\n",
    "        scores = {}\n",
    "        for category, category_data in self.metrics.items():\n",
    "            category_score = self._calculate_category_score(category_data, ratios)\n",
    "            scores[category] = category_score\n",
    "        return scores\n",
    "\n",
    "    def _calculate_weighted_score(self, scores):\n",
    "        weights = {\n",
    "            category: category_data[\"class_weight\"]\n",
    "            for category, category_data in self.metrics.items()\n",
    "        }\n",
    "        return sum(scores[category] * weight for category, weight in weights.items())\n",
    "\n",
    "    def _determine_credit_rating(self, weighted_score):\n",
    "        credit_ratings = {\n",
    "            \"Aaa\": 2.5,\n",
    "            \"Aa\": 3.5,\n",
    "            \"A\": 4.5,\n",
    "            \"Baa\": 5.5,\n",
    "            \"Ba\": 6.5,\n",
    "            \"B\": 7.5,\n",
    "            \"Caa\": 8.5,\n",
    "            \"Ca\": 9.5,\n",
    "            \"C\": float(\"inf\"),\n",
    "        }\n",
    "        return next(\n",
    "            rating\n",
    "            for rating, threshold in credit_ratings.items()\n",
    "            if weighted_score <= threshold\n",
    "        )\n",
    "\n",
    "    def calculate_credit_rating(self, ratios):\n",
    "        self.scores = self._calculate_scores(ratios)\n",
    "        self.credit_score = self._calculate_weighted_score(self.scores)\n",
    "        self.credit_rating = self._determine_credit_rating(self.credit_score)"
   ]
  },
  {
   "cell_type": "code",
   "execution_count": 287,
   "id": "7b15c823-60c5-4e7a-86a8-b0adafd3daba",
   "metadata": {
    "tags": []
   },
   "outputs": [
    {
     "name": "stdout",
     "output_type": "stream",
     "text": [
      "Credit Rating: Aaa\n"
     ]
    }
   ],
   "source": [
    "class CreditRatingCalculator:\n",
    "    def __init__(self, metrics):\n",
    "        self.metrics = metrics\n",
    "        self.credit_ratings = {\n",
    "            \"Aaa\": 2.5,\n",
    "            \"Aa\": 3.5,\n",
    "            \"A\": 4.5,\n",
    "            \"Baa\": 5.5,\n",
    "            \"Ba\": 6.5,\n",
    "            \"B\": 7.5,\n",
    "            \"Caa\": 8.5,\n",
    "            \"Ca\": 9.5,\n",
    "            \"C\": float(\"inf\"),\n",
    "        }\n",
    "\n",
    "    def _calculate_metric_score(self, metric, thresholds, inverse):\n",
    "        for score, (lower, upper) in enumerate(zip(thresholds[:-1], thresholds[1:]), start=1):\n",
    "            if (inverse and metric <= upper) or (not inverse and metric >= lower):\n",
    "                return score\n",
    "        return len(thresholds) // 2\n",
    "\n",
    "    def _calculate_category_score(self, category_metrics, ratios):\n",
    "        return sum(\n",
    "            self._calculate_metric_score(\n",
    "                ratios[metric_name],\n",
    "                metric_data[\"thresholds\"],\n",
    "                metric_data[\"lower_is_better\"],\n",
    "            )\n",
    "            * weight\n",
    "            for (metric_name, metric_data), weight in zip(\n",
    "                category_metrics[\"metrics\"].items(), category_metrics[\"weights\"]\n",
    "            )\n",
    "        )\n",
    "\n",
    "    def _calculate_weighted_score(self, ratios):\n",
    "        return sum(\n",
    "            self._calculate_category_score(category_data, ratios) * category_data[\"class_weight\"]\n",
    "            for category_data in self.metrics.values()\n",
    "        )\n",
    "\n",
    "    def calculate_credit_rating(self, ratios):\n",
    "        self.credit_score = self._calculate_weighted_score(ratios)\n",
    "        return next(\n",
    "            rating\n",
    "            for rating, threshold in self.credit_ratings.items()\n",
    "            if self.credit_score <= threshold\n",
    "        )\n",
    "\n",
    "\n",
    "model_inputs = {\n",
    "    \"profitability\": {\n",
    "        \"class_weight\": 0.30,\n",
    "        \"weights\": [1.0],\n",
    "        \"metrics\": {\n",
    "            \"oper_margin\": {\n",
    "                \"lower_is_better\": False,\n",
    "                \"thresholds\": [50, 45, 40, 35, 30, 25, 20, 15, 10, 5, 0],\n",
    "            }\n",
    "        },\n",
    "    },\n",
    "    # Add more categories and metrics as needed\n",
    "}\n",
    "\n",
    "# Example usage\n",
    "calculator = CreditRatingCalculator(model_inputs)\n",
    "ratios = {\"oper_margin\": 15}  # Add more ratios as needed\n",
    "credit_rating = calculator.calculate_credit_rating(ratios)\n",
    "print(\"Credit Rating:\", credit_rating)"
   ]
  },
  {
   "cell_type": "code",
   "execution_count": null,
   "id": "4c862dd7-88f3-4e7e-9d5c-f2196a0d0e4c",
   "metadata": {},
   "outputs": [],
   "source": []
  }
 ],
 "metadata": {
  "kernelspec": {
   "display_name": "Python 3 (ipykernel)",
   "language": "python",
   "name": "python3"
  },
  "language_info": {
   "codemirror_mode": {
    "name": "ipython",
    "version": 3
   },
   "file_extension": ".py",
   "mimetype": "text/x-python",
   "name": "python",
   "nbconvert_exporter": "python",
   "pygments_lexer": "ipython3",
   "version": "3.11.5"
  }
 },
 "nbformat": 4,
 "nbformat_minor": 5
}
