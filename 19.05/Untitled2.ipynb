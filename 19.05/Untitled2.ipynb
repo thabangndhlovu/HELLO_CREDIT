{
 "cells": [
  {
   "cell_type": "code",
   "execution_count": 1,
   "id": "c1fb8a35-0803-459d-9c3f-3f518ca2ecb2",
   "metadata": {
    "tags": []
   },
   "outputs": [],
   "source": [
    "import pandas as pd"
   ]
  },
  {
   "cell_type": "code",
   "execution_count": 52,
   "id": "3a877451-b678-4da8-a17d-5a849379b53f",
   "metadata": {
    "tags": []
   },
   "outputs": [],
   "source": [
    "df = pd.read_excel(\"dataset/features.xlsx\",  header=[0, 1], index_col=0)"
   ]
  },
  {
   "cell_type": "code",
   "execution_count": null,
   "id": "bbb8e330-a27e-430a-9e66-46c2870343e1",
   "metadata": {},
   "outputs": [],
   "source": []
  },
  {
   "cell_type": "code",
   "execution_count": 54,
   "id": "ad6076b0-cf01-48a3-a412-16d5cb6ded1d",
   "metadata": {
    "tags": []
   },
   "outputs": [
    {
     "data": {
      "text/plain": [
       "['ASSET_TURNOVER',\n",
       " 'BS_LT_BORROW',\n",
       " 'BS_ST_BORROW',\n",
       " 'BS_TOTAL_LIABILITIES',\n",
       " 'BS_TOT_ASSET',\n",
       " 'CFO_TO_TOT_DEBT',\n",
       " 'EBITDA',\n",
       " 'EBITDA_TO_INTEREST_EXPN',\n",
       " 'EBITDA_TO_REVENUE',\n",
       " 'EBITDA_TO_TOT_INT_EXP',\n",
       " 'FCF_TO_TOTAL_DEBT',\n",
       " 'IS_OPER_INC',\n",
       " 'NET_DEBT_TO_EBITDA',\n",
       " 'OPER_MARGIN',\n",
       " 'RETAINED_CASH_FLOW_TO_NET_DEBT',\n",
       " 'RETURN_ON_ASSET',\n",
       " 'RETURN_ON_CAP',\n",
       " 'RETURN_ON_INV_CAPITAL',\n",
       " 'SALES_GROWTH',\n",
       " 'SALES_REV_TURN',\n",
       " 'SHORT_AND_LONG_TERM_DEBT',\n",
       " 'TOTAL_EQUITY',\n",
       " 'TOT_DEBT_TO_EBITDA',\n",
       " 'TOT_DEBT_TO_TOT_ASSET',\n",
       " 'TOT_DEBT_TO_TOT_CAP',\n",
       " 'TOT_DEBT_TO_TOT_EQY']"
      ]
     },
     "execution_count": 54,
     "metadata": {},
     "output_type": "execute_result"
    }
   ],
   "source": [
    "df.columns.levels[0].to_list()"
   ]
  },
  {
   "cell_type": "code",
   "execution_count": 7,
   "id": "747f21bb-66b2-41f8-a977-17a53c48eb1f",
   "metadata": {
    "tags": []
   },
   "outputs": [],
   "source": [
    "mrp = df['MRP SJ Equity']"
   ]
  },
  {
   "cell_type": "code",
   "execution_count": 9,
   "id": "c673795f-ad37-46b4-889e-1cbb078d6edc",
   "metadata": {
    "tags": []
   },
   "outputs": [
    {
     "data": {
      "text/plain": [
       "Index(['SALES_TO_TOT_ASSET', 'BS_TOTAL_LIABILITIES', 'ASSET_TO_EQY',\n",
       "       'SALES_GROWTH', 'TOTAL_EQUITY', 'CFO_TO_TOT_DEBT', 'EBITDA_TO_REVENUE',\n",
       "       'EBITDA_TO_TOT_INT_EXP', 'FCF_TO_TOTAL_DEBT', 'RETURN_ON_ASSET',\n",
       "       'TOT_DEBT_TO_TOT_ASSET', 'BS_TOTAL_AVAIL_LINE_OF_CREDIT',\n",
       "       'TOT_DEBT_TO_TOT_EQY', 'EBITDA_MARGIN', 'TOT_DEBT_TO_EBITDA',\n",
       "       'CF_FREE_CASH_FLOW', 'CASH_TO_TOT_ASSET', 'SALES_TO_INVENT',\n",
       "       'BS_INVENTORIES', 'TANGIBLE_ASSETS', 'BS_TOT_ASSET',\n",
       "       'BS_CASH_NEAR_CASH_ITEM', 'IS_NET_INTEREST_EXPENSE', 'IS_INT_EXPENSE',\n",
       "       'BS_OTHER_PPE_GROSS'],\n",
       "      dtype='object', name='Dates')"
      ]
     },
     "execution_count": 9,
     "metadata": {},
     "output_type": "execute_result"
    }
   ],
   "source": [
    "mrp.columns"
   ]
  },
  {
   "cell_type": "code",
   "execution_count": 97,
   "id": "0a5786f1-52fb-47f5-aa95-44351777fa45",
   "metadata": {
    "tags": []
   },
   "outputs": [],
   "source": [
    "fields = [\n",
    "    \"RETURN_ON_ASSET\",\n",
    "    \"CASH_TO_TOT_ASSET\",\n",
    "    \"BS_TOT_ASSET\",\n",
    "    \"TANGIBLE_ASSETS\",\n",
    "    \"SALES_GROWTH\",\n",
    "    \"INVENT_TURN\",\n",
    "    \"FCF_TO_INTEREST_EXPENSE\",\n",
    "    \"ASSET_TURNOVER\",\n",
    "    \"SALES_TO_TOT_ASSET\",\n",
    "    \"BS_TOTAL_LIABILITIES\",\n",
    "    \"ASSET_TO_EQY\",\n",
    "    \"TOTAL_EQUITY\",\n",
    "    \"CFO_TO_TOT_DEBT\",\n",
    "    \"EBITDA_TO_REVENUE\",\n",
    "    \"EBITDA_TO_TOT_INT_EXP\",\n",
    "    \"FCF_TO_TOTAL_DEBT\",\n",
    "    \"TOT_DEBT_TO_TOT_ASSET\",\n",
    "    \"BS_TOTAL_AVAIL_LINE_OF_CREDIT\",\n",
    "    \"TOT_DEBT_TO_TOT_EQY\",\n",
    "    \"EBITDA_MARGIN\",\n",
    "    \"TOT_DEBT_TO_EBITDA\",\n",
    "    \"CF_FREE_CASH_FLOW\",\n",
    "    \"SALES_TO_INVENT\",\n",
    "    \"BS_INVENTORIES\",\n",
    "    \"BS_CASH_NEAR_CASH_ITEM\",\n",
    "    \"IS_NET_INTEREST_EXPENSE\",\n",
    "    \"IS_INT_EXPENSE\",\n",
    "    \"OPER_MARGIN\",\n",
    "    \"BS_LT_BORROW\",\n",
    "    \"BS_ST_BORROW\",\n",
    "    \"EBITDA\",\n",
    "    \"EBITDA_TO_INTEREST_EXPN\",\n",
    "    \"IS_OPER_INC\",\n",
    "    \"NET_DEBT_TO_EBITDA\",\n",
    "    \"RETAINED_CASH_FLOW_TO_NET_DEBT\",\n",
    "    \"RETURN_ON_CAP\",\n",
    "    \"RETURN_ON_INV_CAPITAL\",\n",
    "    \"SALES_REV_TURN\",\n",
    "    \"SHORT_AND_LONG_TERM_DEBT\",\n",
    "    \"TOT_DEBT_TO_TOT_CAP\",\n",
    "    \"SALES_REV_TURNV\"\n",
    "]"
   ]
  },
  {
   "cell_type": "code",
   "execution_count": 98,
   "id": "f09e18d3-aa67-4738-a422-bec4ef95db7e",
   "metadata": {
    "tags": []
   },
   "outputs": [],
   "source": [
    "fields = list(set(fields))"
   ]
  },
  {
   "cell_type": "code",
   "execution_count": 99,
   "id": "f8ac930d-30df-429d-bf13-0415c9f17a41",
   "metadata": {
    "tags": []
   },
   "outputs": [
    {
     "data": {
      "text/plain": [
       "['RETURN_ON_CAP',\n",
       " 'CFO_TO_TOT_DEBT',\n",
       " 'TOT_DEBT_TO_TOT_CAP',\n",
       " 'FCF_TO_TOTAL_DEBT',\n",
       " 'EBITDA_TO_TOT_INT_EXP',\n",
       " 'CF_FREE_CASH_FLOW',\n",
       " 'BS_TOTAL_LIABILITIES',\n",
       " 'TOT_DEBT_TO_TOT_EQY',\n",
       " 'TOT_DEBT_TO_EBITDA',\n",
       " 'CASH_TO_TOT_ASSET',\n",
       " 'EBITDA',\n",
       " 'BS_CASH_NEAR_CASH_ITEM',\n",
       " 'FCF_TO_INTEREST_EXPENSE',\n",
       " 'BS_TOTAL_AVAIL_LINE_OF_CREDIT',\n",
       " 'ASSET_TURNOVER',\n",
       " 'SALES_TO_INVENT',\n",
       " 'BS_ST_BORROW',\n",
       " 'NET_DEBT_TO_EBITDA',\n",
       " 'RETURN_ON_INV_CAPITAL',\n",
       " 'EBITDA_TO_REVENUE',\n",
       " 'OPER_MARGIN',\n",
       " 'IS_INT_EXPENSE',\n",
       " 'SHORT_AND_LONG_TERM_DEBT',\n",
       " 'SALES_REV_TURN',\n",
       " 'TOTAL_EQUITY',\n",
       " 'TOT_DEBT_TO_TOT_ASSET',\n",
       " 'IS_NET_INTEREST_EXPENSE',\n",
       " 'INVENT_TURN',\n",
       " 'EBITDA_MARGIN',\n",
       " 'SALES_REV_TURNV',\n",
       " 'RETURN_ON_ASSET',\n",
       " 'SALES_TO_TOT_ASSET',\n",
       " 'TANGIBLE_ASSETS',\n",
       " 'BS_INVENTORIES',\n",
       " 'EBITDA_TO_INTEREST_EXPN',\n",
       " 'IS_OPER_INC',\n",
       " 'RETAINED_CASH_FLOW_TO_NET_DEBT',\n",
       " 'BS_LT_BORROW',\n",
       " 'ASSET_TO_EQY',\n",
       " 'BS_TOT_ASSET',\n",
       " 'SALES_GROWTH']"
      ]
     },
     "execution_count": 99,
     "metadata": {},
     "output_type": "execute_result"
    }
   ],
   "source": [
    "fields"
   ]
  },
  {
   "cell_type": "code",
   "execution_count": 100,
   "id": "c4075fc2-94c5-48ec-a3b7-f30d09c203de",
   "metadata": {
    "tags": []
   },
   "outputs": [],
   "source": [
    "data = {ticker: fields for ticker in tickers}"
   ]
  },
  {
   "cell_type": "code",
   "execution_count": 101,
   "id": "a37d1623-4ffa-4105-9900-e6ff05aca698",
   "metadata": {
    "tags": []
   },
   "outputs": [],
   "source": [
    "import os\n",
    "from openpyxl.utils import get_column_letter, quote_sheetname"
   ]
  },
  {
   "cell_type": "code",
   "execution_count": 102,
   "id": "b3293822-0967-476a-b70e-5fff78c18e31",
   "metadata": {
    "tags": []
   },
   "outputs": [],
   "source": [
    "from datetime import datetime"
   ]
  },
  {
   "cell_type": "code",
   "execution_count": 75,
   "id": "22d8305c-d620-4db5-8ec4-976dd3f4dc6a",
   "metadata": {
    "tags": []
   },
   "outputs": [],
   "source": [
    "def write_bloomberg_excel_workbooks(data, filename_prefix, max_tickers_per_workbook=1, directory=None):\n",
    "    \n",
    "    directory = os.path.join(directory, 'bb_dataset') if directory else 'bb_dataset'\n",
    "    os.makedirs(directory, exist_ok=True)\n",
    "    tickers = list(data.keys())\n",
    "    \n",
    "    for workbook_index, start_index in enumerate(range(0, len(tickers), max_tickers_per_workbook)):\n",
    "        end_index = min(start_index + max_tickers_per_workbook, len(tickers))\n",
    "        workbook_tickers = tickers[start_index:end_index]\n",
    "\n",
    "        workbook = Workbook()\n",
    "        sheet = workbook['Sheet']\n",
    "        sheet.cell(3, 2, \"Start Date\")\n",
    "        sheet.cell(4, 2, \"End Date\")\n",
    "        sheet['C3'] = datetime(2000, 1, 1)\n",
    "\n",
    "        for ticker in workbook_tickers:\n",
    "            fields = data[ticker]\n",
    "            sheet = workbook.create_sheet(title=ticker)\n",
    "            sheet['B1'] = ticker\n",
    "\n",
    "            for i, value in enumerate(fields, start=2):\n",
    "                sheet.cell(row=2, column=i, value=value)\n",
    "\n",
    "            last_column = get_column_letter(len(fields) + 1)\n",
    "            quoted_sheet_name = quote_sheetname('Sheet')\n",
    "            formula = f'=@BDH(B$1,B2:{last_column}2,{quoted_sheet_name}!C3,{quoted_sheet_name}!C4,\"Dir=V\",\"Per=M\",\"Days=A\",\"Dts=S\")'\n",
    "            sheet['A3'] = formula\n",
    "            \n",
    "        filename = f'{directory}/{filename_prefix}_workbook_{workbook_index + 1}.xlsx'\n",
    "        workbook.save(filename)\n",
    "        print(f\"File saved: {filename}\")"
   ]
  },
  {
   "cell_type": "code",
   "execution_count": 103,
   "id": "55745a64-9128-4486-bace-b8884e9fd6da",
   "metadata": {
    "tags": []
   },
   "outputs": [
    {
     "name": "stdout",
     "output_type": "stream",
     "text": [
      "File saved: data\\bb_dataset/hello_credit_workbook_1.xlsx\n",
      "File saved: data\\bb_dataset/hello_credit_workbook_2.xlsx\n",
      "File saved: data\\bb_dataset/hello_credit_workbook_3.xlsx\n",
      "File saved: data\\bb_dataset/hello_credit_workbook_4.xlsx\n",
      "File saved: data\\bb_dataset/hello_credit_workbook_5.xlsx\n",
      "File saved: data\\bb_dataset/hello_credit_workbook_6.xlsx\n",
      "File saved: data\\bb_dataset/hello_credit_workbook_7.xlsx\n",
      "File saved: data\\bb_dataset/hello_credit_workbook_8.xlsx\n",
      "File saved: data\\bb_dataset/hello_credit_workbook_9.xlsx\n"
     ]
    }
   ],
   "source": [
    "write_bloomberg_excel_workbooks(data, \"hello_credit\", 15, directory=\"data\")"
   ]
  },
  {
   "cell_type": "code",
   "execution_count": null,
   "id": "4d13eade-14e5-493c-b282-fc4bd065a7be",
   "metadata": {
    "tags": []
   },
   "outputs": [],
   "source": []
  },
  {
   "cell_type": "code",
   "execution_count": null,
   "id": "aef9ca2a-2226-410c-99b7-9ef4e5c89ad9",
   "metadata": {
    "tags": []
   },
   "outputs": [],
   "source": [
    "import os\n",
    "import pandas as pd\n",
    "\n",
    "def concat_excel_files(directory):\n",
    "    excel_files = [file for file in os.listdir(directory) if file.endswith('.xlsx')]\n",
    "    \n",
    "    dataframes = []\n",
    "    for file in excel_files:\n",
    "        file_path = os.path.join(directory, file)\n",
    "        xlsx = pd.ExcelFile(file_path)\n",
    "        \n",
    "        dataframes.append(pd.concat([pd.read_excel(xlsx, sheet_name=sheet) for sheet in xlsx.sheet_names[1:]], axis=1))\n",
    "    \n",
    "    return pd.concat(dataframes, axis=0)"
   ]
  },
  {
   "cell_type": "code",
   "execution_count": 86,
   "id": "f48b400c-b901-4379-ae7b-f8ea2dbfed7f",
   "metadata": {
    "tags": []
   },
   "outputs": [],
   "source": [
    "directory = \"bb_dataset/\"\n",
    "excel_files = ['hello_credit_workbook_1.xlsx', 'hello_credit_workbook_2.xlsx',]"
   ]
  },
  {
   "cell_type": "code",
   "execution_count": null,
   "id": "62f060e6-a75e-4a45-9c59-51ddb6e9ac9d",
   "metadata": {
    "tags": []
   },
   "outputs": [],
   "source": []
  },
  {
   "cell_type": "code",
   "execution_count": 96,
   "id": "3ecac5f2-682d-497d-a5d4-63c4315f4191",
   "metadata": {
    "tags": []
   },
   "outputs": [
    {
     "data": {
      "text/html": [
       "<div>\n",
       "<style scoped>\n",
       "    .dataframe tbody tr th:only-of-type {\n",
       "        vertical-align: middle;\n",
       "    }\n",
       "\n",
       "    .dataframe tbody tr th {\n",
       "        vertical-align: top;\n",
       "    }\n",
       "\n",
       "    .dataframe thead th {\n",
       "        text-align: right;\n",
       "    }\n",
       "</style>\n",
       "<table border=\"1\" class=\"dataframe\">\n",
       "  <thead>\n",
       "    <tr style=\"text-align: right;\">\n",
       "      <th></th>\n",
       "    </tr>\n",
       "  </thead>\n",
       "  <tbody>\n",
       "    <tr>\n",
       "      <th>2000-02-29</th>\n",
       "    </tr>\n",
       "    <tr>\n",
       "      <th>2000-03-31</th>\n",
       "    </tr>\n",
       "    <tr>\n",
       "      <th>2000-06-30</th>\n",
       "    </tr>\n",
       "    <tr>\n",
       "      <th>2000-08-31</th>\n",
       "    </tr>\n",
       "    <tr>\n",
       "      <th>2000-09-30</th>\n",
       "    </tr>\n",
       "    <tr>\n",
       "      <th>...</th>\n",
       "    </tr>\n",
       "    <tr>\n",
       "      <th>2023-05-31</th>\n",
       "    </tr>\n",
       "    <tr>\n",
       "      <th>2023-06-30</th>\n",
       "    </tr>\n",
       "    <tr>\n",
       "      <th>2023-08-31</th>\n",
       "    </tr>\n",
       "    <tr>\n",
       "      <th>2023-09-30</th>\n",
       "    </tr>\n",
       "    <tr>\n",
       "      <th>2023-12-31</th>\n",
       "    </tr>\n",
       "  </tbody>\n",
       "</table>\n",
       "<p>335 rows × 0 columns</p>\n",
       "</div>"
      ],
      "text/plain": [
       "Empty DataFrame\n",
       "Columns: []\n",
       "Index: [2000-02-29 00:00:00, 2000-03-31 00:00:00, 2000-06-30 00:00:00, 2000-08-31 00:00:00, 2000-09-30 00:00:00, 2000-12-31 00:00:00, 2001-02-28 00:00:00, 2001-03-31 00:00:00, 2001-06-30 00:00:00, 2001-08-31 00:00:00, 2001-09-30 00:00:00, 2001-12-31 00:00:00, 2002-02-28 00:00:00, 2002-03-31 00:00:00, 2002-06-30 00:00:00, 2002-08-31 00:00:00, 2002-09-30 00:00:00, 2002-12-31 00:00:00, 2003-02-28 00:00:00, 2003-03-31 00:00:00, 2003-06-30 00:00:00, 2003-08-31 00:00:00, 2003-09-30 00:00:00, 2003-12-31 00:00:00, 2004-02-29 00:00:00, 2004-03-31 00:00:00, 2004-06-30 00:00:00, 2004-08-31 00:00:00, 2004-09-30 00:00:00, 2004-12-31 00:00:00, 2005-02-28 00:00:00, 2005-03-31 00:00:00, 2005-06-30 00:00:00, 2005-08-31 00:00:00, 2005-09-30 00:00:00, 2005-12-31 00:00:00, 2006-02-28 00:00:00, 2006-03-31 00:00:00, 2006-06-30 00:00:00, 2006-08-31 00:00:00, 2006-09-30 00:00:00, 2006-12-31 00:00:00, 2007-02-28 00:00:00, 2007-03-31 00:00:00, 2007-06-30 00:00:00, 2007-08-31 00:00:00, 2007-09-30 00:00:00, 2007-12-31 00:00:00, 2008-02-29 00:00:00, 2008-03-31 00:00:00, 2008-06-30 00:00:00, 2008-08-31 00:00:00, 2008-09-30 00:00:00, 2008-12-31 00:00:00, 2009-02-28 00:00:00, 2009-03-31 00:00:00, 2009-06-30 00:00:00, 2009-08-31 00:00:00, 2009-09-30 00:00:00, 2009-12-31 00:00:00, 2010-02-28 00:00:00, 2010-03-31 00:00:00, 2010-06-30 00:00:00, 2010-08-31 00:00:00, 2010-09-30 00:00:00, 2010-12-31 00:00:00, 2011-02-28 00:00:00, 2011-03-31 00:00:00, 2011-06-30 00:00:00, 2011-08-31 00:00:00, 2011-09-30 00:00:00, 2011-12-31 00:00:00, 2012-02-29 00:00:00, 2012-03-31 00:00:00, 2012-06-30 00:00:00, 2012-08-31 00:00:00, 2012-09-30 00:00:00, 2012-12-31 00:00:00, 2013-02-28 00:00:00, 2013-03-31 00:00:00, 2013-06-30 00:00:00, 2013-08-31 00:00:00, 2013-09-30 00:00:00, 2013-12-31 00:00:00, 2014-02-28 00:00:00, 2014-03-31 00:00:00, 2014-06-30 00:00:00, 2014-08-31 00:00:00, 2014-09-30 00:00:00, 2014-12-31 00:00:00, 2015-02-28 00:00:00, 2015-03-31 00:00:00, 2015-06-30 00:00:00, 2015-08-31 00:00:00, 2015-09-30 00:00:00, 2015-12-31 00:00:00, 2016-02-29 00:00:00, 2016-03-31 00:00:00, 2016-06-30 00:00:00, 2016-08-31 00:00:00, ...]\n",
       "\n",
       "[335 rows x 0 columns]"
      ]
     },
     "execution_count": 96,
     "metadata": {},
     "output_type": "execute_result"
    }
   ],
   "source": [
    "pd.concat(dataframes, axis=0)['ABG SJ Equity'].dropna(axis=1)"
   ]
  },
  {
   "cell_type": "code",
   "execution_count": null,
   "id": "1a235f37-791d-4eda-a71c-0312f04b9f88",
   "metadata": {},
   "outputs": [],
   "source": []
  }
 ],
 "metadata": {
  "kernelspec": {
   "display_name": "Python 3 (ipykernel)",
   "language": "python",
   "name": "python3"
  },
  "language_info": {
   "codemirror_mode": {
    "name": "ipython",
    "version": 3
   },
   "file_extension": ".py",
   "mimetype": "text/x-python",
   "name": "python",
   "nbconvert_exporter": "python",
   "pygments_lexer": "ipython3",
   "version": "3.11.5"
  }
 },
 "nbformat": 4,
 "nbformat_minor": 5
}
