{
 "cells": [
  {
   "cell_type": "code",
   "execution_count": 14,
   "id": "59be04b9-d9dc-4814-a5cd-a2068ad5c4b7",
   "metadata": {
    "tags": []
   },
   "outputs": [],
   "source": [
    "import json\n",
    "\n",
    "import numpy as np\n",
    "import pandas as pd"
   ]
  },
  {
   "cell_type": "code",
   "execution_count": 15,
   "id": "43b09e0e-6fa3-4f82-bf7b-5e37ef6b405e",
   "metadata": {
    "tags": []
   },
   "outputs": [],
   "source": [
    "with open(\"hello_credit_config.json\", \"r\") as f:\n",
    "    file = json.load(f)\n",
    "\n",
    "credit_mapper = file[\"credit_rating_mappings\"]\n",
    "credit_mapper_score = file['credit_rating_scale']"
   ]
  },
  {
   "cell_type": "code",
   "execution_count": 49,
   "id": "786d6700-5403-4edd-9247-24168eae229a",
   "metadata": {
    "tags": []
   },
   "outputs": [],
   "source": [
    "ratings = pd.read_excel(\"dataset/jalsh_dataset.xlsx\", sheet_name=\"ratings\", index_col=0)\n",
    "dataset = pd.read_excel(\"dataset/jalsh_dataset.xlsx\", sheet_name=\"data\", header=[0, 1], index_col=0, parse_dates=True)"
   ]
  },
  {
   "cell_type": "code",
   "execution_count": 50,
   "id": "e64826ed-2e12-4715-96a5-e54a6e5ebeb4",
   "metadata": {
    "tags": []
   },
   "outputs": [],
   "source": [
    "# Map the values in the DataFrame to the keys in the dictionary\n",
    "mapper = lambda x: next((k for k, v in credit_rating_mappings.items() if x in v), x)"
   ]
  },
  {
   "cell_type": "code",
   "execution_count": 51,
   "id": "510c6e88-ac3c-40a0-a151-58ba1023e984",
   "metadata": {
    "tags": []
   },
   "outputs": [],
   "source": [
    "agencies = ['RTG_MOODY_LONG_TERM','RTG_SP_LT_LC_ISSUER_CREDIT','RSK_BB_ISSUER_DEFAULT']\n",
    "\n",
    "for agency in agencies:\n",
    "    col = agency + \"_MAPPED\"\n",
    "    ratings[col] = ratings[agency].map(mapper)\n",
    "    ratings[col + \"_SCORES\"] = ratings[col].map(credit_mapper_score)\n",
    "    "
   ]
  },
  {
   "cell_type": "code",
   "execution_count": null,
   "id": "8e7228af-f6c6-415c-bd8c-2459d9b93c1e",
   "metadata": {
    "tags": []
   },
   "outputs": [],
   "source": []
  },
  {
   "cell_type": "code",
   "execution_count": 56,
   "id": "e314a0fd-389d-4aaf-aac9-db33e8b1becd",
   "metadata": {
    "tags": []
   },
   "outputs": [],
   "source": [
    "data = pd.read_excel(\"d.xlsx\", index_col=0)"
   ]
  },
  {
   "cell_type": "code",
   "execution_count": 60,
   "id": "63301330-da04-46a8-bb24-e66852fa9896",
   "metadata": {
    "tags": []
   },
   "outputs": [],
   "source": [
    "data['RATINGS_SCORES'] = data['RATINGS'].map(credit_mapper_score)"
   ]
  },
  {
   "cell_type": "code",
   "execution_count": 62,
   "id": "88e03b79-8a38-4a37-9857-c3223ac8aea4",
   "metadata": {
    "tags": []
   },
   "outputs": [],
   "source": [
    "data.to_excel(\"jalsh_ratings.xlsx\")"
   ]
  },
  {
   "cell_type": "code",
   "execution_count": null,
   "id": "99a7b1b4-09e5-49fa-a1f3-b7616e73f298",
   "metadata": {},
   "outputs": [],
   "source": []
  }
 ],
 "metadata": {
  "kernelspec": {
   "display_name": "Python 3 (ipykernel)",
   "language": "python",
   "name": "python3"
  },
  "language_info": {
   "codemirror_mode": {
    "name": "ipython",
    "version": 3
   },
   "file_extension": ".py",
   "mimetype": "text/x-python",
   "name": "python",
   "nbconvert_exporter": "python",
   "pygments_lexer": "ipython3",
   "version": "3.11.5"
  }
 },
 "nbformat": 4,
 "nbformat_minor": 5
}
