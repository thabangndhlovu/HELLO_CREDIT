{
 "cells": [
  {
   "cell_type": "markdown",
   "id": "cc5fd4d9-9191-463e-80f4-42705a3b7d32",
   "metadata": {},
   "source": [
    "# Get hello_credit Data"
   ]
  },
  {
   "cell_type": "code",
   "execution_count": 1,
   "id": "d9827706-ae7c-4964-9752-e9a9b1928f15",
   "metadata": {
    "tags": []
   },
   "outputs": [],
   "source": [
    "import re\n",
    "\n",
    "import pandas as pd \n",
    "from bloomberg import BDP, BDH, BQL"
   ]
  },
  {
   "cell_type": "code",
   "execution_count": 2,
   "id": "b00a5e3e-b066-4dda-8170-37b097da5ac2",
   "metadata": {
    "tags": []
   },
   "outputs": [],
   "source": [
    "universe = \"members(['JALSH Index'])\"\n",
    "frequency = \"(fa_period_reference=range(2000,2024),fa_period_type='BA')\""
   ]
  },
  {
   "cell_type": "code",
   "execution_count": 61,
   "id": "863697b2-48aa-426e-8c4f-fdafa0fd4966",
   "metadata": {
    "tags": []
   },
   "outputs": [],
   "source": [
    "data = {\n",
    "    'profitability': [\n",
    "        'RETURN_ON_INV_CAPITAL', 'OPER_MARGIN', 'IS_OPER_INC',\n",
    "        'EBITDA', 'EBITA_MARGIN', 'EBITDA_TO_REVENUE', 'CUR_MKT_CAP_TO_REVENUE'\n",
    "    ],\n",
    "    'efficiency': [\n",
    "         'SALES_GROWTH', 'SALES_REV_TURN', 'ASSET_TURNOVER' #'RETURN_ON_ASSETS',\n",
    "    ],\n",
    "    'leverage_coverage': [\n",
    "        'BS_TOT_ASSET', 'BS_TOTAL_LIABILITIES', 'BS_TOT_EQY',\n",
    "        'TOT_DEBT_TO_TOT_ASSET', 'TOT_DEBT_TO_TOT_CAP', 'TOT_DEBT_TO_EBITDA',\n",
    "        'TOT_DEBT_TO_TOT_EQY', 'SHORT_AND_LONG_TERM_DEBT', 'BS_LT_BORROW',\n",
    "        'BS_ST_BORROW', 'NET_DEBT_TO_EBITDA', 'EBITDA_TO_INTEREST_EXPN',\n",
    "        'IS_INT_EXPENSES', 'EBITDA_TO_TOT_INT_EXP',\n",
    "        'DEBT_TO_EQUITY', 'CFO_TO_TOT_DEBT',\n",
    "        'INTEREST_COVERAGE_RATIO', 'RETAINED_CASH_FLOW_TO_NET_DEBT',\n",
    "        'FCF_TO_TOTAL_DEBT'\n",
    "    ]\n",
    "}"
   ]
  },
  {
   "cell_type": "code",
   "execution_count": 67,
   "id": "6d51c7dc-a650-41ef-a0e6-48345958f93a",
   "metadata": {
    "tags": []
   },
   "outputs": [],
   "source": [
    "fields = [field for _, fields in data.items() for field in fields]\n",
    "#fields = data['profitability']"
   ]
  },
  {
   "cell_type": "code",
   "execution_count": 68,
   "id": "3517936b",
   "metadata": {},
   "outputs": [
    {
     "data": {
      "text/plain": [
       "['RETURN_ON_INV_CAPITAL',\n",
       " 'OPER_MARGIN',\n",
       " 'IS_OPER_INC',\n",
       " 'EBITDA',\n",
       " 'EBITA_MARGIN',\n",
       " 'EBITDA_TO_REVENUE',\n",
       " 'CUR_MKT_CAP_TO_REVENUE',\n",
       " 'SALES_GROWTH',\n",
       " 'SALES_REV_TURN',\n",
       " 'ASSET_TURNOVER',\n",
       " 'BS_TOT_ASSET',\n",
       " 'BS_TOTAL_LIABILITIES',\n",
       " 'TOTAL_EQUITY',\n",
       " 'TOT_DEBT_TO_TOT_ASSET',\n",
       " 'TOT_DEBT_TO_TOT_CAP',\n",
       " 'TOT_DEBT_TO_EBITDA',\n",
       " 'TOT_DEBT_TO_TOT_EQY',\n",
       " 'SHORT_AND_LONG_TERM_DEBT',\n",
       " 'BS_LT_BORROW',\n",
       " 'BS_ST_BORROW',\n",
       " 'NET_DEBT_TO_EBITDA',\n",
       " 'EBITDA_TO_INTEREST_EXPN',\n",
       " 'IS_INT_EXPENSES',\n",
       " 'EBITDA_TO_TOT_INT_EXP',\n",
       " 'DEBT_TO_EQUITY',\n",
       " 'CFO_TO_TOT_DEBT',\n",
       " 'INTEREST_COVERAGE_RATIO',\n",
       " 'RETAINED_CASH_FLOW_TO_NET_DEBT',\n",
       " 'FCF_TO_TOTAL_DEBT']"
      ]
     },
     "execution_count": 68,
     "metadata": {},
     "output_type": "execute_result"
    }
   ],
   "source": [
    "fields"
   ]
  },
  {
   "cell_type": "code",
   "execution_count": 63,
   "id": "e6201b31-6345-4092-aa8f-052f00bdbbfe",
   "metadata": {
    "tags": []
   },
   "outputs": [],
   "source": [
    "fields = [entry + frequency for entry in fields]\n",
    "field_string = ', '.join(fields)\n",
    "query = f\"get({field_string})for({universe})\""
   ]
  },
  {
   "cell_type": "code",
   "execution_count": 64,
   "id": "66b0b9cb-35ad-457c-a99b-270c3f704a46",
   "metadata": {
    "tags": []
   },
   "outputs": [
    {
     "data": {
      "text/plain": [
       "\"get(RETURN_ON_INV_CAPITAL(fa_period_reference=range(2000,2024),fa_period_type='BA'), OPER_MARGIN(fa_period_reference=range(2000,2024),fa_period_type='BA'), IS_OPER_INC(fa_period_reference=range(2000,2024),fa_period_type='BA'), EBITDA(fa_period_reference=range(2000,2024),fa_period_type='BA'), EBITA_MARGIN(fa_period_reference=range(2000,2024),fa_period_type='BA'), EBITDA_TO_REVENUE(fa_period_reference=range(2000,2024),fa_period_type='BA'), CUR_MKT_CAP_TO_REVENUE(fa_period_reference=range(2000,2024),fa_period_type='BA'))for(members(['JALSH Index']))\""
      ]
     },
     "execution_count": 64,
     "metadata": {},
     "output_type": "execute_result"
    }
   ],
   "source": [
    "query"
   ]
  },
  {
   "cell_type": "markdown",
   "id": "177cd543-f6d8-4811-aba6-1caf436c4bf9",
   "metadata": {},
   "source": [
    "### "
   ]
  },
  {
   "cell_type": "code",
   "execution_count": 65,
   "id": "deb83e52-b6f1-4cf1-8575-fb27d81df1cd",
   "metadata": {
    "tags": []
   },
   "outputs": [
    {
     "name": "stdout",
     "output_type": "stream",
     "text": [
      "Error: Unexpected blpapi.Event.TIMEOUT received by <class 'blp.blp.BlpQuery'> with <address=localhost:8194><identity=None><eventHandler=None>\n"
     ]
    }
   ],
   "source": [
    "results = BQL(query)"
   ]
  },
  {
   "cell_type": "code",
   "execution_count": 66,
   "id": "3ecfff13-3846-46b4-8c61-1ee2c3cc1b68",
   "metadata": {
    "tags": []
   },
   "outputs": [],
   "source": [
    "results"
   ]
  },
  {
   "cell_type": "code",
   "execution_count": 64,
   "id": "fee2f5dd-cb13-43b9-ada9-1cbd91061179",
   "metadata": {
    "jupyter": {
     "source_hidden": true
    },
    "tags": []
   },
   "outputs": [],
   "source": [
    "data = results.copy()\n",
    "data['field'] = data['field'].str.replace(frequency, \"\")\n",
    "data['value'] = pd.to_numeric(data['value'].replace(\"NaN\", float(\"NaN\")))\n",
    "data['secondary_value'] = pd.to_datetime(data['secondary_value'])\n",
    "\n",
    "data = data.pivot_table(values=\"value\", index=\"secondary_value\", columns=[\"security\", \"field\"])\n",
    "data = data.resample(\"YS\").last()\n",
    "data.index.name = None\n",
    "data.columns.names = [None, None]"
   ]
  },
  {
   "cell_type": "code",
   "execution_count": 70,
   "id": "e31b5936-e164-4c36-83c2-091c7371f1f5",
   "metadata": {
    "tags": []
   },
   "outputs": [
    {
     "data": {
      "text/html": [
       "<div>\n",
       "<style scoped>\n",
       "    .dataframe tbody tr th:only-of-type {\n",
       "        vertical-align: middle;\n",
       "    }\n",
       "\n",
       "    .dataframe tbody tr th {\n",
       "        vertical-align: top;\n",
       "    }\n",
       "\n",
       "    .dataframe thead tr th {\n",
       "        text-align: left;\n",
       "    }\n",
       "</style>\n",
       "<table border=\"1\" class=\"dataframe\">\n",
       "  <thead>\n",
       "    <tr>\n",
       "      <th></th>\n",
       "      <th>ABG SJ Equity</th>\n",
       "      <th>AFE SJ Equity</th>\n",
       "      <th>AGL SJ Equity</th>\n",
       "      <th>AIP SJ Equity</th>\n",
       "      <th>AMS SJ Equity</th>\n",
       "      <th>ANG SJ Equity</th>\n",
       "      <th>ANH SJ Equity</th>\n",
       "      <th>APN SJ Equity</th>\n",
       "      <th>ARI SJ Equity</th>\n",
       "      <th>ATT SJ Equity</th>\n",
       "      <th>...</th>\n",
       "      <th>SOL SJ Equity</th>\n",
       "      <th>SPG SJ Equity</th>\n",
       "      <th>SSW SJ Equity</th>\n",
       "      <th>TFG SJ Equity</th>\n",
       "      <th>TGA SJ Equity</th>\n",
       "      <th>THA SJ Equity</th>\n",
       "      <th>TRU SJ Equity</th>\n",
       "      <th>VOD SJ Equity</th>\n",
       "      <th>WBO SJ Equity</th>\n",
       "      <th>WHL SJ Equity</th>\n",
       "    </tr>\n",
       "    <tr>\n",
       "      <th></th>\n",
       "      <th>ASSET_TURNOVER</th>\n",
       "      <th>ASSET_TURNOVER</th>\n",
       "      <th>ASSET_TURNOVER</th>\n",
       "      <th>ASSET_TURNOVER</th>\n",
       "      <th>ASSET_TURNOVER</th>\n",
       "      <th>ASSET_TURNOVER</th>\n",
       "      <th>ASSET_TURNOVER</th>\n",
       "      <th>ASSET_TURNOVER</th>\n",
       "      <th>ASSET_TURNOVER</th>\n",
       "      <th>ASSET_TURNOVER</th>\n",
       "      <th>...</th>\n",
       "      <th>ASSET_TURNOVER</th>\n",
       "      <th>ASSET_TURNOVER</th>\n",
       "      <th>ASSET_TURNOVER</th>\n",
       "      <th>ASSET_TURNOVER</th>\n",
       "      <th>ASSET_TURNOVER</th>\n",
       "      <th>ASSET_TURNOVER</th>\n",
       "      <th>ASSET_TURNOVER</th>\n",
       "      <th>ASSET_TURNOVER</th>\n",
       "      <th>ASSET_TURNOVER</th>\n",
       "      <th>ASSET_TURNOVER</th>\n",
       "    </tr>\n",
       "  </thead>\n",
       "  <tbody>\n",
       "    <tr>\n",
       "      <th>2023-01-01 00:00:00+00:00</th>\n",
       "      <td>0.106052</td>\n",
       "      <td>1.330542</td>\n",
       "      <td>0.457660</td>\n",
       "      <td>1.123821</td>\n",
       "      <td>0.719865</td>\n",
       "      <td>0.564043</td>\n",
       "      <td>0.274727</td>\n",
       "      <td>0.328628</td>\n",
       "      <td>0.188332</td>\n",
       "      <td>0.122658</td>\n",
       "      <td>...</td>\n",
       "      <td>0.645903</td>\n",
       "      <td>0.949551</td>\n",
       "      <td>0.734459</td>\n",
       "      <td>1.037800</td>\n",
       "      <td>0.703736</td>\n",
       "      <td>0.623189</td>\n",
       "      <td>1.260593</td>\n",
       "      <td>0.640496</td>\n",
       "      <td>2.029151</td>\n",
       "      <td>1.476521</td>\n",
       "    </tr>\n",
       "    <tr>\n",
       "      <th>2024-01-01 00:00:00+00:00</th>\n",
       "      <td>0.057677</td>\n",
       "      <td>1.330542</td>\n",
       "      <td>0.439627</td>\n",
       "      <td>1.123821</td>\n",
       "      <td>0.719865</td>\n",
       "      <td>0.607718</td>\n",
       "      <td>0.285759</td>\n",
       "      <td>0.328628</td>\n",
       "      <td>0.188332</td>\n",
       "      <td>0.122658</td>\n",
       "      <td>...</td>\n",
       "      <td>0.645903</td>\n",
       "      <td>0.949551</td>\n",
       "      <td>0.783258</td>\n",
       "      <td>1.059382</td>\n",
       "      <td>0.703736</td>\n",
       "      <td>0.581945</td>\n",
       "      <td>1.260593</td>\n",
       "      <td>0.646267</td>\n",
       "      <td>2.029151</td>\n",
       "      <td>1.900273</td>\n",
       "    </tr>\n",
       "  </tbody>\n",
       "</table>\n",
       "<p>2 rows × 76 columns</p>\n",
       "</div>"
      ],
      "text/plain": [
       "                           ABG SJ Equity  AFE SJ Equity  AGL SJ Equity  \\\n",
       "                          ASSET_TURNOVER ASSET_TURNOVER ASSET_TURNOVER   \n",
       "2023-01-01 00:00:00+00:00       0.106052       1.330542       0.457660   \n",
       "2024-01-01 00:00:00+00:00       0.057677       1.330542       0.439627   \n",
       "\n",
       "                           AIP SJ Equity  AMS SJ Equity  ANG SJ Equity  \\\n",
       "                          ASSET_TURNOVER ASSET_TURNOVER ASSET_TURNOVER   \n",
       "2023-01-01 00:00:00+00:00       1.123821       0.719865       0.564043   \n",
       "2024-01-01 00:00:00+00:00       1.123821       0.719865       0.607718   \n",
       "\n",
       "                           ANH SJ Equity  APN SJ Equity  ARI SJ Equity  \\\n",
       "                          ASSET_TURNOVER ASSET_TURNOVER ASSET_TURNOVER   \n",
       "2023-01-01 00:00:00+00:00       0.274727       0.328628       0.188332   \n",
       "2024-01-01 00:00:00+00:00       0.285759       0.328628       0.188332   \n",
       "\n",
       "                           ATT SJ Equity  ...  SOL SJ Equity  SPG SJ Equity  \\\n",
       "                          ASSET_TURNOVER  ... ASSET_TURNOVER ASSET_TURNOVER   \n",
       "2023-01-01 00:00:00+00:00       0.122658  ...       0.645903       0.949551   \n",
       "2024-01-01 00:00:00+00:00       0.122658  ...       0.645903       0.949551   \n",
       "\n",
       "                           SSW SJ Equity  TFG SJ Equity  TGA SJ Equity  \\\n",
       "                          ASSET_TURNOVER ASSET_TURNOVER ASSET_TURNOVER   \n",
       "2023-01-01 00:00:00+00:00       0.734459       1.037800       0.703736   \n",
       "2024-01-01 00:00:00+00:00       0.783258       1.059382       0.703736   \n",
       "\n",
       "                           THA SJ Equity  TRU SJ Equity  VOD SJ Equity  \\\n",
       "                          ASSET_TURNOVER ASSET_TURNOVER ASSET_TURNOVER   \n",
       "2023-01-01 00:00:00+00:00       0.623189       1.260593       0.640496   \n",
       "2024-01-01 00:00:00+00:00       0.581945       1.260593       0.646267   \n",
       "\n",
       "                           WBO SJ Equity  WHL SJ Equity  \n",
       "                          ASSET_TURNOVER ASSET_TURNOVER  \n",
       "2023-01-01 00:00:00+00:00       2.029151       1.476521  \n",
       "2024-01-01 00:00:00+00:00       2.029151       1.900273  \n",
       "\n",
       "[2 rows x 76 columns]"
      ]
     },
     "execution_count": 70,
     "metadata": {},
     "output_type": "execute_result"
    }
   ],
   "source": [
    "data"
   ]
  },
  {
   "cell_type": "code",
   "execution_count": 97,
   "id": "a6f3df48-663e-46a6-afc0-63b4cf605e4a",
   "metadata": {
    "tags": []
   },
   "outputs": [
    {
     "data": {
      "text/html": [
       "<div>\n",
       "<style scoped>\n",
       "    .dataframe tbody tr th:only-of-type {\n",
       "        vertical-align: middle;\n",
       "    }\n",
       "\n",
       "    .dataframe tbody tr th {\n",
       "        vertical-align: top;\n",
       "    }\n",
       "\n",
       "    .dataframe thead tr th {\n",
       "        text-align: left;\n",
       "    }\n",
       "</style>\n",
       "<table border=\"1\" class=\"dataframe\">\n",
       "  <thead>\n",
       "    <tr>\n",
       "      <th></th>\n",
       "      <th>ABG SJ Equity</th>\n",
       "      <th>AFE SJ Equity</th>\n",
       "      <th>AGL SJ Equity</th>\n",
       "      <th>AIP SJ Equity</th>\n",
       "      <th>AMS SJ Equity</th>\n",
       "      <th>ANG SJ Equity</th>\n",
       "      <th>ANH SJ Equity</th>\n",
       "      <th>APN SJ Equity</th>\n",
       "      <th>ARI SJ Equity</th>\n",
       "      <th>ATT SJ Equity</th>\n",
       "      <th>...</th>\n",
       "      <th>SOL SJ Equity</th>\n",
       "      <th>SPG SJ Equity</th>\n",
       "      <th>SSW SJ Equity</th>\n",
       "      <th>TFG SJ Equity</th>\n",
       "      <th>TGA SJ Equity</th>\n",
       "      <th>THA SJ Equity</th>\n",
       "      <th>TRU SJ Equity</th>\n",
       "      <th>VOD SJ Equity</th>\n",
       "      <th>WBO SJ Equity</th>\n",
       "      <th>WHL SJ Equity</th>\n",
       "    </tr>\n",
       "    <tr>\n",
       "      <th></th>\n",
       "      <th>ASSET_TURNOVER</th>\n",
       "      <th>ASSET_TURNOVER</th>\n",
       "      <th>ASSET_TURNOVER</th>\n",
       "      <th>ASSET_TURNOVER</th>\n",
       "      <th>ASSET_TURNOVER</th>\n",
       "      <th>ASSET_TURNOVER</th>\n",
       "      <th>ASSET_TURNOVER</th>\n",
       "      <th>ASSET_TURNOVER</th>\n",
       "      <th>ASSET_TURNOVER</th>\n",
       "      <th>ASSET_TURNOVER</th>\n",
       "      <th>...</th>\n",
       "      <th>ASSET_TURNOVER</th>\n",
       "      <th>ASSET_TURNOVER</th>\n",
       "      <th>ASSET_TURNOVER</th>\n",
       "      <th>ASSET_TURNOVER</th>\n",
       "      <th>ASSET_TURNOVER</th>\n",
       "      <th>ASSET_TURNOVER</th>\n",
       "      <th>ASSET_TURNOVER</th>\n",
       "      <th>ASSET_TURNOVER</th>\n",
       "      <th>ASSET_TURNOVER</th>\n",
       "      <th>ASSET_TURNOVER</th>\n",
       "    </tr>\n",
       "  </thead>\n",
       "  <tbody>\n",
       "    <tr>\n",
       "      <th>2023-01-01 00:00:00+00:00</th>\n",
       "      <td>0.106052</td>\n",
       "      <td>1.330542</td>\n",
       "      <td>0.457660</td>\n",
       "      <td>1.123821</td>\n",
       "      <td>0.719865</td>\n",
       "      <td>0.564043</td>\n",
       "      <td>0.274727</td>\n",
       "      <td>0.328628</td>\n",
       "      <td>0.188332</td>\n",
       "      <td>0.122658</td>\n",
       "      <td>...</td>\n",
       "      <td>0.645903</td>\n",
       "      <td>0.949551</td>\n",
       "      <td>0.734459</td>\n",
       "      <td>1.037800</td>\n",
       "      <td>0.703736</td>\n",
       "      <td>0.623189</td>\n",
       "      <td>1.260593</td>\n",
       "      <td>0.640496</td>\n",
       "      <td>2.029151</td>\n",
       "      <td>1.476521</td>\n",
       "    </tr>\n",
       "    <tr>\n",
       "      <th>2024-01-01 00:00:00+00:00</th>\n",
       "      <td>0.057677</td>\n",
       "      <td>1.330542</td>\n",
       "      <td>0.439627</td>\n",
       "      <td>1.123821</td>\n",
       "      <td>0.719865</td>\n",
       "      <td>0.607718</td>\n",
       "      <td>0.285759</td>\n",
       "      <td>0.328628</td>\n",
       "      <td>0.188332</td>\n",
       "      <td>0.122658</td>\n",
       "      <td>...</td>\n",
       "      <td>0.645903</td>\n",
       "      <td>0.949551</td>\n",
       "      <td>0.783258</td>\n",
       "      <td>1.059382</td>\n",
       "      <td>0.703736</td>\n",
       "      <td>0.581945</td>\n",
       "      <td>1.260593</td>\n",
       "      <td>0.646267</td>\n",
       "      <td>2.029151</td>\n",
       "      <td>1.900273</td>\n",
       "    </tr>\n",
       "  </tbody>\n",
       "</table>\n",
       "<p>2 rows × 76 columns</p>\n",
       "</div>"
      ],
      "text/plain": [
       "                           ABG SJ Equity  AFE SJ Equity  AGL SJ Equity  \\\n",
       "                          ASSET_TURNOVER ASSET_TURNOVER ASSET_TURNOVER   \n",
       "2023-01-01 00:00:00+00:00       0.106052       1.330542       0.457660   \n",
       "2024-01-01 00:00:00+00:00       0.057677       1.330542       0.439627   \n",
       "\n",
       "                           AIP SJ Equity  AMS SJ Equity  ANG SJ Equity  \\\n",
       "                          ASSET_TURNOVER ASSET_TURNOVER ASSET_TURNOVER   \n",
       "2023-01-01 00:00:00+00:00       1.123821       0.719865       0.564043   \n",
       "2024-01-01 00:00:00+00:00       1.123821       0.719865       0.607718   \n",
       "\n",
       "                           ANH SJ Equity  APN SJ Equity  ARI SJ Equity  \\\n",
       "                          ASSET_TURNOVER ASSET_TURNOVER ASSET_TURNOVER   \n",
       "2023-01-01 00:00:00+00:00       0.274727       0.328628       0.188332   \n",
       "2024-01-01 00:00:00+00:00       0.285759       0.328628       0.188332   \n",
       "\n",
       "                           ATT SJ Equity  ...  SOL SJ Equity  SPG SJ Equity  \\\n",
       "                          ASSET_TURNOVER  ... ASSET_TURNOVER ASSET_TURNOVER   \n",
       "2023-01-01 00:00:00+00:00       0.122658  ...       0.645903       0.949551   \n",
       "2024-01-01 00:00:00+00:00       0.122658  ...       0.645903       0.949551   \n",
       "\n",
       "                           SSW SJ Equity  TFG SJ Equity  TGA SJ Equity  \\\n",
       "                          ASSET_TURNOVER ASSET_TURNOVER ASSET_TURNOVER   \n",
       "2023-01-01 00:00:00+00:00       0.734459       1.037800       0.703736   \n",
       "2024-01-01 00:00:00+00:00       0.783258       1.059382       0.703736   \n",
       "\n",
       "                           THA SJ Equity  TRU SJ Equity  VOD SJ Equity  \\\n",
       "                          ASSET_TURNOVER ASSET_TURNOVER ASSET_TURNOVER   \n",
       "2023-01-01 00:00:00+00:00       0.623189       1.260593       0.640496   \n",
       "2024-01-01 00:00:00+00:00       0.581945       1.260593       0.646267   \n",
       "\n",
       "                           WBO SJ Equity  WHL SJ Equity  \n",
       "                          ASSET_TURNOVER ASSET_TURNOVER  \n",
       "2023-01-01 00:00:00+00:00       2.029151       1.476521  \n",
       "2024-01-01 00:00:00+00:00       2.029151       1.900273  \n",
       "\n",
       "[2 rows x 76 columns]"
      ]
     },
     "execution_count": 97,
     "metadata": {},
     "output_type": "execute_result"
    }
   ],
   "source": [
    "data.to_excel(\".xlsx\")"
   ]
  },
  {
   "cell_type": "code",
   "execution_count": null,
   "id": "461c0cb2",
   "metadata": {},
   "outputs": [],
   "source": []
  },
  {
   "cell_type": "code",
   "execution_count": null,
   "metadata": {},
   "outputs": [],
   "source": []
  },
  {
   "cell_type": "code",
   "execution_count": null,
   "id": "b8d41266",
   "metadata": {},
   "outputs": [],
   "source": []
  },
  {
   "cell_type": "code",
   "execution_count": null,
   "metadata": {},
   "outputs": [],
   "source": []
  },
  {
   "cell_type": "code",
   "execution_count": 41,
   "metadata": {},
   "outputs": [],
   "source": [
    "import datetime\n",
    "import json\n",
    "\n",
    "import pandas\n",
    "\n",
    "from blp import blp"
   ]
  },
  {
   "cell_type": "code",
   "execution_count": 43,
   "id": "cdcca8b2",
   "metadata": {},
   "outputs": [],
   "source": [
    "bquery = blp.BlpQuery().start()"
   ]
  },
  {
   "cell_type": "code",
   "execution_count": 55,
   "id": "915a952c",
   "metadata": {},
   "outputs": [
    {
     "ename": "TypeError",
     "evalue": "Response contains responseError\nresponse: {'eventType': 5, 'eventTypeName': 'blpapi.Event.RESPONSE', 'messageNumber': 0, 'message': {'fragmentType': 0, 'correlationIds': [36], 'messageType': 'result', 'timeReceived': Timestamp('2024-04-15 17:53:45.978022+0000', tz='UTC'), 'element': {'BQLResponse': {'results': None, 'universeTransparency': None, 'ordering': None, 'responseTiming': None, 'dotString': None, 'versionInfo': {'version': '1.189', 'responseSchemaVersion': '1.0'}, 'clientContext': {'appName': 'BBCOM_BQL_RESERVED', 'clientRequestId': '98f227d8-5bfa-4370-bc46-8f9620483651', 'timestamp': None, 'extraMarkers': []}, 'screenCounts': None, 'payloadId': None, 'responseError': \"Error: Undefined item: RETURN_ON_INVEST_CAP(fa_period_reference=range(2000,2024),fa_period_type='BA').\"}}}}\nrequest: {'sendQuery': {'expression': \"get(RETURN_ON_CAP(fa_period_reference=range(2000,2024),fa_period_type='BA'), RETURN_ON_INVEST_CAP(fa_period_reference=range(2000,2024),fa_period_type='BA'), OPER_MARGIN(fa_period_reference=range(2000,2024),fa_period_type='BA'))for(members(['JALSH Index']))\"}}",
     "output_type": "error",
     "traceback": [
      "\u001b[1;31m---------------------------------------------------------------------------\u001b[0m",
      "\u001b[1;31mTypeError\u001b[0m                                 Traceback (most recent call last)",
      "Cell \u001b[1;32mIn[55], line 1\u001b[0m\n\u001b[1;32m----> 1\u001b[0m results \u001b[38;5;241m=\u001b[39m bquery\u001b[38;5;241m.\u001b[39mbql(query)\n",
      "File \u001b[1;32mc:\\Users\\Thabang Ndhlovu\\conda\\Lib\\site-packages\\blp\\blp.py:876\u001b[0m, in \u001b[0;36mBlpQuery.bql\u001b[1;34m(self, expression, overrides, options)\u001b[0m\n\u001b[0;32m    866\u001b[0m query \u001b[38;5;241m=\u001b[39m create_bql_query(expression, overrides, options)\n\u001b[0;32m    868\u001b[0m bql_parser \u001b[38;5;241m=\u001b[39m BlpParser(\n\u001b[0;32m    869\u001b[0m     processor_steps\u001b[38;5;241m=\u001b[39m[\n\u001b[0;32m    870\u001b[0m         BlpParser\u001b[38;5;241m.\u001b[39m_clean_bql_response,\n\u001b[1;32m   (...)\u001b[0m\n\u001b[0;32m    873\u001b[0m     ]\n\u001b[0;32m    874\u001b[0m )\n\u001b[1;32m--> 876\u001b[0m df \u001b[38;5;241m=\u001b[39m \u001b[38;5;28mself\u001b[39m\u001b[38;5;241m.\u001b[39mquery(query, bql_parser, \u001b[38;5;28mself\u001b[39m\u001b[38;5;241m.\u001b[39mcollect_to_bql)\n\u001b[0;32m    878\u001b[0m df \u001b[38;5;241m=\u001b[39m df[[\u001b[38;5;124m\"\u001b[39m\u001b[38;5;124mid\u001b[39m\u001b[38;5;124m\"\u001b[39m, \u001b[38;5;124m\"\u001b[39m\u001b[38;5;124mfield\u001b[39m\u001b[38;5;124m\"\u001b[39m, \u001b[38;5;124m\"\u001b[39m\u001b[38;5;124msecondary_name\u001b[39m\u001b[38;5;124m\"\u001b[39m, \u001b[38;5;124m\"\u001b[39m\u001b[38;5;124msecondary_value\u001b[39m\u001b[38;5;124m\"\u001b[39m, \u001b[38;5;124m\"\u001b[39m\u001b[38;5;124mvalue\u001b[39m\u001b[38;5;124m\"\u001b[39m]]\n\u001b[0;32m    880\u001b[0m df \u001b[38;5;241m=\u001b[39m df\u001b[38;5;241m.\u001b[39mrename(columns\u001b[38;5;241m=\u001b[39m{\u001b[38;5;124m\"\u001b[39m\u001b[38;5;124mid\u001b[39m\u001b[38;5;124m\"\u001b[39m: \u001b[38;5;124m\"\u001b[39m\u001b[38;5;124msecurity\u001b[39m\u001b[38;5;124m\"\u001b[39m})\n",
      "File \u001b[1;32mc:\\Users\\Thabang Ndhlovu\\conda\\Lib\\site-packages\\blp\\blp.py:648\u001b[0m, in \u001b[0;36mBlpQuery.query\u001b[1;34m(self, request_data, parse, collector, timeout)\u001b[0m\n\u001b[0;32m    646\u001b[0m res \u001b[38;5;241m=\u001b[39m itertools\u001b[38;5;241m.\u001b[39mchain\u001b[38;5;241m.\u001b[39mfrom_iterable(res)  \u001b[38;5;66;03m# type: ignore\u001b[39;00m\n\u001b[0;32m    647\u001b[0m \u001b[38;5;28;01mif\u001b[39;00m collector:\n\u001b[1;32m--> 648\u001b[0m     res \u001b[38;5;241m=\u001b[39m collector(res)\n\u001b[0;32m    649\u001b[0m \u001b[38;5;28;01mreturn\u001b[39;00m res\n",
      "File \u001b[1;32mc:\\Users\\Thabang Ndhlovu\\conda\\Lib\\site-packages\\blp\\blp.py:888\u001b[0m, in \u001b[0;36mBlpQuery.collect_to_bql\u001b[1;34m(self, responses)\u001b[0m\n\u001b[0;32m    886\u001b[0m data \u001b[38;5;241m=\u001b[39m []\n\u001b[0;32m    887\u001b[0m fields \u001b[38;5;241m=\u001b[39m {\u001b[38;5;124m\"\u001b[39m\u001b[38;5;124msecondary_name\u001b[39m\u001b[38;5;124m\"\u001b[39m, \u001b[38;5;124m\"\u001b[39m\u001b[38;5;124msecondary_value\u001b[39m\u001b[38;5;124m\"\u001b[39m, \u001b[38;5;124m\"\u001b[39m\u001b[38;5;124mfield\u001b[39m\u001b[38;5;124m\"\u001b[39m, \u001b[38;5;124m\"\u001b[39m\u001b[38;5;124mid\u001b[39m\u001b[38;5;124m\"\u001b[39m, \u001b[38;5;124m\"\u001b[39m\u001b[38;5;124mvalue\u001b[39m\u001b[38;5;124m\"\u001b[39m}\n\u001b[1;32m--> 888\u001b[0m \u001b[38;5;28;01mfor\u001b[39;00m field \u001b[38;5;129;01min\u001b[39;00m responses:\n\u001b[0;32m    889\u001b[0m     field_df \u001b[38;5;241m=\u001b[39m pandas\u001b[38;5;241m.\u001b[39mDataFrame(field)\n\u001b[0;32m    891\u001b[0m     id_vars \u001b[38;5;241m=\u001b[39m [\u001b[38;5;124m\"\u001b[39m\u001b[38;5;124mfield\u001b[39m\u001b[38;5;124m\"\u001b[39m, \u001b[38;5;124m\"\u001b[39m\u001b[38;5;124mid\u001b[39m\u001b[38;5;124m\"\u001b[39m, \u001b[38;5;124m\"\u001b[39m\u001b[38;5;124mvalue\u001b[39m\u001b[38;5;124m\"\u001b[39m]\n",
      "File \u001b[1;32mc:\\Users\\Thabang Ndhlovu\\conda\\Lib\\site-packages\\blp\\blp.py:645\u001b[0m, in \u001b[0;36m<genexpr>\u001b[1;34m(.0)\u001b[0m\n\u001b[0;32m    643\u001b[0m request \u001b[38;5;241m=\u001b[39m \u001b[38;5;28mself\u001b[39m\u001b[38;5;241m.\u001b[39mcreate_request(request_data)\n\u001b[0;32m    644\u001b[0m \u001b[38;5;28mself\u001b[39m\u001b[38;5;241m.\u001b[39msend_request(request, data_queue)\n\u001b[1;32m--> 645\u001b[0m res \u001b[38;5;241m=\u001b[39m (parse(data, request_data) \u001b[38;5;28;01mfor\u001b[39;00m data \u001b[38;5;129;01min\u001b[39;00m \u001b[38;5;28mself\u001b[39m\u001b[38;5;241m.\u001b[39mget_response(data_queue, timeout))\n\u001b[0;32m    646\u001b[0m res \u001b[38;5;241m=\u001b[39m itertools\u001b[38;5;241m.\u001b[39mchain\u001b[38;5;241m.\u001b[39mfrom_iterable(res)  \u001b[38;5;66;03m# type: ignore\u001b[39;00m\n\u001b[0;32m    647\u001b[0m \u001b[38;5;28;01mif\u001b[39;00m collector:\n",
      "File \u001b[1;32mc:\\Users\\Thabang Ndhlovu\\conda\\Lib\\site-packages\\blp\\blp.py:1413\u001b[0m, in \u001b[0;36mBlpParser.__call__\u001b[1;34m(self, response, request_data)\u001b[0m\n\u001b[0;32m   1300\u001b[0m \u001b[38;5;250m\u001b[39m\u001b[38;5;124;03m\"\"\"A default parser to parse dictionary representation of response.\u001b[39;00m\n\u001b[0;32m   1301\u001b[0m \n\u001b[0;32m   1302\u001b[0m \u001b[38;5;124;03mParses data response to a generator of dictionaries or raises a TypeError if the response type is unknown.\u001b[39;00m\n\u001b[1;32m   (...)\u001b[0m\n\u001b[0;32m   1410\u001b[0m \n\u001b[0;32m   1411\u001b[0m \u001b[38;5;124;03m\"\"\"\u001b[39;00m\n\u001b[0;32m   1412\u001b[0m \u001b[38;5;28;01mfor\u001b[39;00m processor \u001b[38;5;129;01min\u001b[39;00m \u001b[38;5;28mself\u001b[39m\u001b[38;5;241m.\u001b[39m_processor_steps:\n\u001b[1;32m-> 1413\u001b[0m     response \u001b[38;5;241m=\u001b[39m processor(response, request_data)\n\u001b[0;32m   1415\u001b[0m rtype \u001b[38;5;241m=\u001b[39m \u001b[38;5;28mlist\u001b[39m(response[\u001b[38;5;124m\"\u001b[39m\u001b[38;5;124mmessage\u001b[39m\u001b[38;5;124m\"\u001b[39m][\u001b[38;5;124m\"\u001b[39m\u001b[38;5;124melement\u001b[39m\u001b[38;5;124m\"\u001b[39m]\u001b[38;5;241m.\u001b[39mkeys())[\u001b[38;5;241m0\u001b[39m]\n\u001b[0;32m   1416\u001b[0m \u001b[38;5;28;01mif\u001b[39;00m rtype \u001b[38;5;241m==\u001b[39m \u001b[38;5;124m\"\u001b[39m\u001b[38;5;124mReferenceDataResponse\u001b[39m\u001b[38;5;124m\"\u001b[39m:\n",
      "File \u001b[1;32mc:\\Users\\Thabang Ndhlovu\\conda\\Lib\\site-packages\\blp\\blp.py:1211\u001b[0m, in \u001b[0;36mBlpParser._validate_response_error\u001b[1;34m(response, request)\u001b[0m\n\u001b[0;32m   1209\u001b[0m rtype \u001b[38;5;241m=\u001b[39m \u001b[38;5;28mlist\u001b[39m(response[\u001b[38;5;124m\"\u001b[39m\u001b[38;5;124mmessage\u001b[39m\u001b[38;5;124m\"\u001b[39m][\u001b[38;5;124m\"\u001b[39m\u001b[38;5;124melement\u001b[39m\u001b[38;5;124m\"\u001b[39m]\u001b[38;5;241m.\u001b[39mkeys())[\u001b[38;5;241m0\u001b[39m]\n\u001b[0;32m   1210\u001b[0m \u001b[38;5;28;01mif\u001b[39;00m \u001b[38;5;124m\"\u001b[39m\u001b[38;5;124mresponseError\u001b[39m\u001b[38;5;124m\"\u001b[39m \u001b[38;5;129;01min\u001b[39;00m response[\u001b[38;5;124m\"\u001b[39m\u001b[38;5;124mmessage\u001b[39m\u001b[38;5;124m\"\u001b[39m][\u001b[38;5;124m\"\u001b[39m\u001b[38;5;124melement\u001b[39m\u001b[38;5;124m\"\u001b[39m][rtype]:\n\u001b[1;32m-> 1211\u001b[0m     \u001b[38;5;28;01mraise\u001b[39;00m \u001b[38;5;167;01mTypeError\u001b[39;00m(\u001b[38;5;124mf\u001b[39m\u001b[38;5;124m\"\u001b[39m\u001b[38;5;124mResponse contains responseError\u001b[39m\u001b[38;5;130;01m\\n\u001b[39;00m\u001b[38;5;124mresponse: \u001b[39m\u001b[38;5;132;01m{\u001b[39;00mresponse\u001b[38;5;132;01m}\u001b[39;00m\u001b[38;5;130;01m\\n\u001b[39;00m\u001b[38;5;124mrequest: \u001b[39m\u001b[38;5;132;01m{\u001b[39;00mrequest\u001b[38;5;132;01m}\u001b[39;00m\u001b[38;5;124m\"\u001b[39m)\n\u001b[0;32m   1212\u001b[0m \u001b[38;5;28;01mreturn\u001b[39;00m response\n",
      "\u001b[1;31mTypeError\u001b[0m: Response contains responseError\nresponse: {'eventType': 5, 'eventTypeName': 'blpapi.Event.RESPONSE', 'messageNumber': 0, 'message': {'fragmentType': 0, 'correlationIds': [36], 'messageType': 'result', 'timeReceived': Timestamp('2024-04-15 17:53:45.978022+0000', tz='UTC'), 'element': {'BQLResponse': {'results': None, 'universeTransparency': None, 'ordering': None, 'responseTiming': None, 'dotString': None, 'versionInfo': {'version': '1.189', 'responseSchemaVersion': '1.0'}, 'clientContext': {'appName': 'BBCOM_BQL_RESERVED', 'clientRequestId': '98f227d8-5bfa-4370-bc46-8f9620483651', 'timestamp': None, 'extraMarkers': []}, 'screenCounts': None, 'payloadId': None, 'responseError': \"Error: Undefined item: RETURN_ON_INVEST_CAP(fa_period_reference=range(2000,2024),fa_period_type='BA').\"}}}}\nrequest: {'sendQuery': {'expression': \"get(RETURN_ON_CAP(fa_period_reference=range(2000,2024),fa_period_type='BA'), RETURN_ON_INVEST_CAP(fa_period_reference=range(2000,2024),fa_period_type='BA'), OPER_MARGIN(fa_period_reference=range(2000,2024),fa_period_type='BA'))for(members(['JALSH Index']))\"}}"
     ]
    }
   ],
   "source": [
    "results = bquery.bql(query)"
   ]
  },
  {
   "cell_type": "code",
   "execution_count": null,
   "id": "d6d6d29b",
   "metadata": {},
   "outputs": [],
   "source": [
    "=@BDH(\"AAPL US Equity\"; \"PX_LAST\"; \"2024/04/02\"; \"2024/04/10\"; \"Currency\"; \"ZAR\"; \"Period\"; \"FY\")"
   ]
  },
  {
   "cell_type": "code",
   "execution_count": null,
   "id": "b66febc6",
   "metadata": {},
   "outputs": [],
   "source": [
    "options = {\n",
    "    \"Currency\":\"ZAR\", \n",
    "    \"Period\": \"FY\",\n",
    "}"
   ]
  },
  {
   "cell_type": "code",
   "execution_count": 75,
   "id": "2b5c7380",
   "metadata": {},
   "outputs": [
    {
     "ename": "NotFoundException",
     "evalue": "Sub-element 'fa_period_type' does not exist. (0x0006000d)",
     "output_type": "error",
     "traceback": [
      "\u001b[1;31m---------------------------------------------------------------------------\u001b[0m",
      "\u001b[1;31mNotFoundException\u001b[0m                         Traceback (most recent call last)",
      "Cell \u001b[1;32mIn[75], line 1\u001b[0m\n\u001b[1;32m----> 1\u001b[0m bquery\u001b[38;5;241m.\u001b[39mbdh(\n\u001b[0;32m      2\u001b[0m     [\u001b[38;5;124m\"\u001b[39m\u001b[38;5;124mSPY US Equity\u001b[39m\u001b[38;5;124m\"\u001b[39m, \u001b[38;5;124m\"\u001b[39m\u001b[38;5;124mTLT US Equity\u001b[39m\u001b[38;5;124m\"\u001b[39m],\n\u001b[0;32m      3\u001b[0m     [\u001b[38;5;124m\"\u001b[39m\u001b[38;5;124mPX_LAST\u001b[39m\u001b[38;5;124m\"\u001b[39m, \u001b[38;5;124m\"\u001b[39m\u001b[38;5;124mVOLUME\u001b[39m\u001b[38;5;124m\"\u001b[39m],\n\u001b[0;32m      4\u001b[0m     start_date\u001b[38;5;241m=\u001b[39m\u001b[38;5;124m\"\u001b[39m\u001b[38;5;124m20190101\u001b[39m\u001b[38;5;124m\"\u001b[39m,\n\u001b[0;32m      5\u001b[0m     end_date\u001b[38;5;241m=\u001b[39m\u001b[38;5;124m\"\u001b[39m\u001b[38;5;124m20230110\u001b[39m\u001b[38;5;124m\"\u001b[39m,\n\u001b[0;32m      6\u001b[0m     options\u001b[38;5;241m=\u001b[39m{\u001b[38;5;124m\"\u001b[39m\u001b[38;5;124madjustmentSplit\u001b[39m\u001b[38;5;124m\"\u001b[39m: \u001b[38;5;28;01mTrue\u001b[39;00m,  \u001b[38;5;124m\"\u001b[39m\u001b[38;5;124mcurrency\u001b[39m\u001b[38;5;124m\"\u001b[39m:\u001b[38;5;124m\"\u001b[39m\u001b[38;5;124mZAR\u001b[39m\u001b[38;5;124m\"\u001b[39m, \u001b[38;5;124m\"\u001b[39m\u001b[38;5;124mfa_period_type\u001b[39m\u001b[38;5;124m\"\u001b[39m: \u001b[38;5;124m\"\u001b[39m\u001b[38;5;124mFY\u001b[39m\u001b[38;5;124m\"\u001b[39m}\n\u001b[0;32m      7\u001b[0m )\n",
      "File \u001b[1;32mc:\\Users\\Thabang Ndhlovu\\conda\\Lib\\site-packages\\blp\\blp.py:770\u001b[0m, in \u001b[0;36mBlpQuery.bdh\u001b[1;34m(self, securities, fields, start_date, end_date, overrides, options)\u001b[0m\n\u001b[0;32m    756\u001b[0m \u001b[38;5;250m\u001b[39m\u001b[38;5;124;03m\"\"\"Bloomberg historical data request.\u001b[39;00m\n\u001b[0;32m    757\u001b[0m \n\u001b[0;32m    758\u001b[0m \u001b[38;5;124;03mArgs:\u001b[39;00m\n\u001b[1;32m   (...)\u001b[0m\n\u001b[0;32m    767\u001b[0m \n\u001b[0;32m    768\u001b[0m \u001b[38;5;124;03m\"\"\"\u001b[39;00m\n\u001b[0;32m    769\u001b[0m query \u001b[38;5;241m=\u001b[39m create_historical_query(securities, fields, start_date, end_date, overrides, options)\n\u001b[1;32m--> 770\u001b[0m res \u001b[38;5;241m=\u001b[39m \u001b[38;5;28mself\u001b[39m\u001b[38;5;241m.\u001b[39mquery(query, \u001b[38;5;28mself\u001b[39m\u001b[38;5;241m.\u001b[39mparser, \u001b[38;5;28mself\u001b[39m\u001b[38;5;241m.\u001b[39mcollect_to_bdh)\n\u001b[0;32m    771\u001b[0m dfs \u001b[38;5;241m=\u001b[39m []\n\u001b[0;32m    772\u001b[0m \u001b[38;5;28;01mfor\u001b[39;00m sec \u001b[38;5;129;01min\u001b[39;00m res:\n",
      "File \u001b[1;32mc:\\Users\\Thabang Ndhlovu\\conda\\Lib\\site-packages\\blp\\blp.py:643\u001b[0m, in \u001b[0;36mBlpQuery.query\u001b[1;34m(self, request_data, parse, collector, timeout)\u001b[0m\n\u001b[0;32m    641\u001b[0m     parse \u001b[38;5;241m=\u001b[39m \u001b[38;5;28mself\u001b[39m\u001b[38;5;241m.\u001b[39mparser\n\u001b[0;32m    642\u001b[0m data_queue \u001b[38;5;241m=\u001b[39m blpapi\u001b[38;5;241m.\u001b[39mEventQueue()\n\u001b[1;32m--> 643\u001b[0m request \u001b[38;5;241m=\u001b[39m \u001b[38;5;28mself\u001b[39m\u001b[38;5;241m.\u001b[39mcreate_request(request_data)\n\u001b[0;32m    644\u001b[0m \u001b[38;5;28mself\u001b[39m\u001b[38;5;241m.\u001b[39msend_request(request, data_queue)\n\u001b[0;32m    645\u001b[0m res \u001b[38;5;241m=\u001b[39m (parse(data, request_data) \u001b[38;5;28;01mfor\u001b[39;00m data \u001b[38;5;129;01min\u001b[39;00m \u001b[38;5;28mself\u001b[39m\u001b[38;5;241m.\u001b[39mget_response(data_queue, timeout))\n",
      "File \u001b[1;32mc:\\Users\\Thabang Ndhlovu\\conda\\Lib\\site-packages\\blp\\blp.py:675\u001b[0m, in \u001b[0;36mBlpQuery.create_request\u001b[1;34m(self, request_data)\u001b[0m\n\u001b[0;32m    673\u001b[0m request \u001b[38;5;241m=\u001b[39m service\u001b[38;5;241m.\u001b[39mcreateRequest(operation)\n\u001b[0;32m    674\u001b[0m rdata \u001b[38;5;241m=\u001b[39m request_data[operation]\n\u001b[1;32m--> 675\u001b[0m request \u001b[38;5;241m=\u001b[39m dict_to_req(request, rdata)\n\u001b[0;32m    676\u001b[0m \u001b[38;5;28;01mreturn\u001b[39;00m request\n",
      "File \u001b[1;32mc:\\Users\\Thabang Ndhlovu\\conda\\Lib\\site-packages\\blp\\blp.py:457\u001b[0m, in \u001b[0;36mdict_to_req\u001b[1;34m(request, request_data)\u001b[0m\n\u001b[0;32m    442\u001b[0m \u001b[38;5;250m\u001b[39m\u001b[38;5;124;03m\"\"\"Populate request with data from request_data.\u001b[39;00m\n\u001b[0;32m    443\u001b[0m \n\u001b[0;32m    444\u001b[0m \u001b[38;5;124;03mArgs:\u001b[39;00m\n\u001b[1;32m   (...)\u001b[0m\n\u001b[0;32m    454\u001b[0m \n\u001b[0;32m    455\u001b[0m \u001b[38;5;124;03m\"\"\"\u001b[39;00m\n\u001b[0;32m    456\u001b[0m \u001b[38;5;28;01mfor\u001b[39;00m key, value \u001b[38;5;129;01min\u001b[39;00m request_data\u001b[38;5;241m.\u001b[39mitems():\n\u001b[1;32m--> 457\u001b[0m     elem \u001b[38;5;241m=\u001b[39m request\u001b[38;5;241m.\u001b[39mgetElement(key)\n\u001b[0;32m    458\u001b[0m     \u001b[38;5;28;01mif\u001b[39;00m elem\u001b[38;5;241m.\u001b[39mdatatype() \u001b[38;5;241m==\u001b[39m blpapi\u001b[38;5;241m.\u001b[39mDataType\u001b[38;5;241m.\u001b[39mSEQUENCE:\n\u001b[0;32m    459\u001b[0m         \u001b[38;5;28;01mfor\u001b[39;00m elem_dict \u001b[38;5;129;01min\u001b[39;00m value:\n",
      "File \u001b[1;32mc:\\Users\\Thabang Ndhlovu\\conda\\Lib\\site-packages\\blpapi\\request.py:143\u001b[0m, in \u001b[0;36mRequest.getElement\u001b[1;34m(self, name)\u001b[0m\n\u001b[0;32m    134\u001b[0m \u001b[38;5;28;01mdef\u001b[39;00m \u001b[38;5;21mgetElement\u001b[39m(\u001b[38;5;28mself\u001b[39m, name: \u001b[38;5;124m\"\u001b[39m\u001b[38;5;124mtypehints.Name\u001b[39m\u001b[38;5;124m\"\u001b[39m) \u001b[38;5;241m-\u001b[39m\u001b[38;5;241m>\u001b[39m Element:\n\u001b[0;32m    135\u001b[0m \u001b[38;5;250m    \u001b[39m\u001b[38;5;124;03m\"\"\"Equivalent to :meth:`asElement().getElement(name)\u001b[39;00m\n\u001b[0;32m    136\u001b[0m \u001b[38;5;124;03m    <Element.getElement>`.\u001b[39;00m\n\u001b[0;32m    137\u001b[0m \n\u001b[1;32m   (...)\u001b[0m\n\u001b[0;32m    141\u001b[0m \u001b[38;5;124;03m        once and then reused** in order to minimize lookup cost.\u001b[39;00m\n\u001b[0;32m    142\u001b[0m \u001b[38;5;124;03m    \"\"\"\u001b[39;00m\n\u001b[1;32m--> 143\u001b[0m     \u001b[38;5;28;01mreturn\u001b[39;00m \u001b[38;5;28mself\u001b[39m\u001b[38;5;241m.\u001b[39masElement()\u001b[38;5;241m.\u001b[39mgetElement(name)\n",
      "File \u001b[1;32mc:\\Users\\Thabang Ndhlovu\\conda\\Lib\\site-packages\\blpapi\\element.py:653\u001b[0m, in \u001b[0;36mElement.getElement\u001b[1;34m(self, nameOrIndex)\u001b[0m\n\u001b[0;32m    649\u001b[0m     name \u001b[38;5;241m=\u001b[39m getNamePair(nameOrIndex)\n\u001b[0;32m    650\u001b[0m     res \u001b[38;5;241m=\u001b[39m internals\u001b[38;5;241m.\u001b[39mblpapi_Element_getElement(\n\u001b[0;32m    651\u001b[0m         \u001b[38;5;28mself\u001b[39m\u001b[38;5;241m.\u001b[39m__handle, name[\u001b[38;5;241m0\u001b[39m], name[\u001b[38;5;241m1\u001b[39m]\n\u001b[0;32m    652\u001b[0m     )\n\u001b[1;32m--> 653\u001b[0m     _ExceptionUtil\u001b[38;5;241m.\u001b[39mraiseOnError(res[\u001b[38;5;241m0\u001b[39m])\n\u001b[0;32m    654\u001b[0m     \u001b[38;5;28;01mreturn\u001b[39;00m Element(res[\u001b[38;5;241m1\u001b[39m], \u001b[38;5;28mself\u001b[39m\u001b[38;5;241m.\u001b[39m_getDataHolder())\n\u001b[0;32m    655\u001b[0m \u001b[38;5;28mself\u001b[39m\u001b[38;5;241m.\u001b[39m__assertIsValid()\n",
      "File \u001b[1;32mc:\\Users\\Thabang Ndhlovu\\conda\\Lib\\site-packages\\blpapi\\exception.py:151\u001b[0m, in \u001b[0;36m_ExceptionUtil.raiseOnError\u001b[1;34m(errorCode, description)\u001b[0m\n\u001b[0;32m    147\u001b[0m \u001b[38;5;250m\u001b[39m\u001b[38;5;124;03m\"\"\"Throw the appropriate exception for the specified 'errorCode' if the\u001b[39;00m\n\u001b[0;32m    148\u001b[0m \u001b[38;5;124;03m'errorCode != 0'.\u001b[39;00m\n\u001b[0;32m    149\u001b[0m \u001b[38;5;124;03m\"\"\"\u001b[39;00m\n\u001b[0;32m    150\u001b[0m \u001b[38;5;28;01mif\u001b[39;00m errorCode:\n\u001b[1;32m--> 151\u001b[0m     _ExceptionUtil\u001b[38;5;241m.\u001b[39mraiseException(errorCode, description)\n",
      "File \u001b[1;32mc:\\Users\\Thabang Ndhlovu\\conda\\Lib\\site-packages\\blpapi\\exception.py:141\u001b[0m, in \u001b[0;36m_ExceptionUtil.raiseException\u001b[1;34m(errorCode, description)\u001b[0m\n\u001b[0;32m    139\u001b[0m         description \u001b[38;5;241m=\u001b[39m \u001b[38;5;124m\"\u001b[39m\u001b[38;5;124mUnknown\u001b[39m\u001b[38;5;124m\"\u001b[39m\n\u001b[0;32m    140\u001b[0m errorClass \u001b[38;5;241m=\u001b[39m _ExceptionUtil\u001b[38;5;241m.\u001b[39m__getErrorClass(errorCode)\n\u001b[1;32m--> 141\u001b[0m \u001b[38;5;28;01mraise\u001b[39;00m errorClass(description, errorCode)\n",
      "\u001b[1;31mNotFoundException\u001b[0m: Sub-element 'fa_period_type' does not exist. (0x0006000d)"
     ]
    }
   ],
   "source": [
    "bquery.bdh(\n",
    "    [\"SPY US Equity\", \"TLT US Equity\"],\n",
    "    [\"PX_LAST\", \"VOLUME\"],\n",
    "    start_date=\"20190101\",\n",
    "    end_date=\"20230110\",\n",
    "    options={\"adjustmentSplit\": True,  \"currency\":\"ZAR\", \"fa_period_type\": \"FY\"}\n",
    ")"
   ]
  },
  {
   "cell_type": "code",
   "execution_count": null,
   "id": "1cf52862",
   "metadata": {},
   "outputs": [],
   "source": []
  }
 ],
 "metadata": {
  "kernelspec": {
   "display_name": "Python 3 (ipykernel)",
   "language": "python",
   "name": "python3"
  },
  "language_info": {
   "codemirror_mode": {
    "name": "ipython",
    "version": 3
   },
   "file_extension": ".py",
   "mimetype": "text/x-python",
   "name": "python",
   "nbconvert_exporter": "python",
   "pygments_lexer": "ipython3",
   "version": "3.11.5"
  }
 },
 "nbformat": 4,
 "nbformat_minor": 5
}
