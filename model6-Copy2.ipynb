{
 "cells": [
  {
   "cell_type": "code",
   "execution_count": 287,
   "id": "27606373",
   "metadata": {
    "tags": []
   },
   "outputs": [
    {
     "ename": "SyntaxError",
     "evalue": "closing parenthesis ']' does not match opening parenthesis '(' on line 43 (1299856514.py, line 52)",
     "output_type": "error",
     "traceback": [
      "\u001b[1;36m  Cell \u001b[1;32mIn[287], line 52\u001b[1;36m\u001b[0m\n\u001b[1;33m    ],\u001b[0m\n\u001b[1;37m    ^\u001b[0m\n\u001b[1;31mSyntaxError\u001b[0m\u001b[1;31m:\u001b[0m closing parenthesis ']' does not match opening parenthesis '(' on line 43\n"
     ]
    }
   ],
   "source": [
    "model_inputs = {\n",
    "    \"profitability\": {\n",
    "        \"class_weight\": 0.30,\n",
    "        \"weights\": [1.0], \n",
    "        \"metrics\": {\n",
    "            \"oper_margin\": {\n",
    "                \"lower_is_better\": False,\n",
    "                \"thresholds\": [\n",
    "                    (40, float(\"inf\")),\n",
    "                    (35, 39),\n",
    "                    (30, 34),\n",
    "                    (25, 29),\n",
    "                    (20, 24),\n",
    "                    (15, 19),\n",
    "                    (10, 14),\n",
    "                    (5, 9),\n",
    "                    (float(\"-inf\"), 0)\n",
    "                ],\n",
    "            }\n",
    "        },\n",
    "    },\n",
    "    \"leverage_coverage\": {\n",
    "        \"class_weight\": 0.55,\n",
    "        \"weights\": [0.4, 0.3, 0.3],\n",
    "        \"metrics\": {\n",
    "            \"tot_debt_to_tot_eqy\": {\n",
    "                \"lower_is_better\": True,\n",
    "                \"thresholds\": [\n",
    "                     (float(\"-inf\"), 2.0),\n",
    "                     (2.0, 16.0),\n",
    "                     (16.0, 24.0),\n",
    "                     (24.0, 33.0),\n",
    "                     (33.0, 43.0),\n",
    "                     (43.0, 54.0),\n",
    "                     (54.0, 68.0),\n",
    "                     (68.0, 94.0),\n",
    "                     (94.0, float(\"inf\")),\n",
    "                ],\n",
    "            },\n",
    "            \"tot_debt_to_ebitda\": {\n",
    "                \"lower_is_better\": True,\n",
    "                \"thresholds\": [\n",
    "                    (float(\"-inf\", 0.09),\n",
    "                    (0.09, 0.49),\n",
    "                    (0.49, 0.9),\n",
    "                    (0.9, 1.36),\n",
    "                    (1.36, 1.68),\n",
    "                    (1.68, 2.26),\n",
    "                    (2.26, 3.27),\n",
    "                    (3.27, 4.4),\n",
    "                    (4.4, float(\"inf\")),\n",
    "                ],\n",
    "            },\n",
    "            \"ebitda_to_tot_int_exp\": {\n",
    "                \"lower_is_better\": False,\n",
    "                \"thresholds\": [\n",
    "                    (25, float(\"inf\")),\n",
    "                    (20, 25),\n",
    "                    (15, 20),\n",
    "                    (10, 15),\n",
    "                    (5, 10),\n",
    "                    (3, 5),\n",
    "                    (1, 3),\n",
    "                    (0, 1),\n",
    "                    (float(\"-inf\"), 0),\n",
    "                ],\n",
    "            },\n",
    "        },\n",
    "    },\n",
    "    \"efficiency\": {\n",
    "        \"class_weight\": 0.15,\n",
    "        \"weights\": [0.5, 0.5],\n",
    "        \"metrics\": {\n",
    "            \"return_on_asset\": {\n",
    "                \"lower_is_better\": False,\n",
    "                \"thresholds\": [\n",
    "                    (0.15, float(\"inf\")),\n",
    "                    (0.10, 0.15),\n",
    "                    (0.08, 0.10),\n",
    "                    (0.06, 0.08),\n",
    "                    (0.04, 0.06),\n",
    "                    (0.02, 0.04),\n",
    "                    (0.00, 0.02),\n",
    "                    (-0.02, 0.00),\n",
    "                    (float(\"-inf\"), -0.02)\n",
    "                ],\n",
    "            },\n",
    "            \"asset_turnover\": {\n",
    "                \"lower_is_better\": False,\n",
    "                \"thresholds\": [\n",
    "                    (4.0, float(\"inf\")),\n",
    "                    (3.0, 4.0),\n",
    "                    (2.0, 3.0),\n",
    "                    (1.5, 2.0),\n",
    "                    (1.0, 1.5),\n",
    "                    (0.75, 1.0),\n",
    "                    (0.5, 0.75),\n",
    "                    (0.25, 0.5),\n",
    "                    (float(\"-inf\"), 0.25)\n",
    "                ],\n",
    "            },\n",
    "        },\n",
    "    },\n",
    "}"
   ]
  },
  {
   "cell_type": "code",
   "execution_count": 288,
   "id": "8ff894c0-a05e-4061-9445-bbb895296a09",
   "metadata": {
    "jupyter": {
     "source_hidden": true
    },
    "tags": []
   },
   "outputs": [],
   "source": [
    "class CreditRatingCalculator:\n",
    "    def __init__(self, metrics):\n",
    "        self.metrics = metrics\n",
    "        \n",
    "    def _calculate_metric_score(self, metric, thresholds, inverse):\n",
    "        for score, (lower, upper) in enumerate(thresholds, start=1):\n",
    "            if (inverse and metric <= upper) or (not inverse and metric >= lower):\n",
    "                return score\n",
    "        return len(thresholds) // 2 # else return the middle score\n",
    "\n",
    "    def _calculate_category_score(self, category_metrics, ratios):\n",
    "        total_weighted_score = 0\n",
    "\n",
    "        for metric, weight in zip(\n",
    "            category_metrics[\"metrics\"].items(), category_metrics[\"weights\"]\n",
    "        ):\n",
    "            metric_name, metric_data = metric\n",
    "            value = ratios[metric_name]\n",
    "            score = self._calculate_metric_score(\n",
    "                value, metric_data[\"thresholds\"], metric_data[\"lower_is_better\"]\n",
    "            )\n",
    "            total_weighted_score += score * weight\n",
    "\n",
    "        return total_weighted_score\n",
    "\n",
    "    def _calculate_scores(self, ratios):\n",
    "        scores = {}\n",
    "        for category, category_data in self.metrics.items():\n",
    "            category_score = self._calculate_category_score(category_data, ratios)\n",
    "            scores[category] = category_score\n",
    "        return scores\n",
    "\n",
    "    def _calculate_weighted_score(self, scores):\n",
    "        weights = {\n",
    "            category: category_data[\"class_weight\"]\n",
    "            for category, category_data in self.metrics.items()\n",
    "        }\n",
    "        print(weights)\n",
    "        print(scores)\n",
    "        return sum(scores[category] * weight for category, weight in weights.items())\n",
    "\n",
    "    def _determine_credit_rating(self, weighted_score):\n",
    "        # credit_ratings = [\n",
    "        #     (1.5, \"Aaa\"),\n",
    "        #     (2.5, \"Aa\"),\n",
    "        #     (3.5, \"A\"),\n",
    "        #     (4.5, \"Baa\"),\n",
    "        #     (5.5, \"Ba\"),\n",
    "        #     (6.5, \"B\"),\n",
    "        #     (7.5, \"Caa\"),\n",
    "        #     (8.5, \"Ca\"),\n",
    "        #     (float(\"inf\"), \"C\"),\n",
    "        # ]\n",
    "        \n",
    "        credit_ratings = [\n",
    "            (2.5, \"Aaa\"),\n",
    "            (3.5, \"Aa\"),\n",
    "            (4.5, \"A\"),\n",
    "            (5.5, \"Baa\"),\n",
    "            (6.5, \"Ba\"),\n",
    "            (7.5, \"B\"),\n",
    "            (8.5, \"Caa\"),\n",
    "            (9.5, \"Ca\"),\n",
    "            (float(\"inf\"), \"C\"),\n",
    "        ]\n",
    "\n",
    "        for threshold, rating in credit_ratings:\n",
    "            if weighted_score < threshold:\n",
    "                return rating\n",
    "\n",
    "    def calculate_credit_rating(self, ratios):\n",
    "        self.scores = self._calculate_scores(ratios)\n",
    "        self.credit_score = self._calculate_weighted_score(self.scores)\n",
    "        self.credit_rating = self._determine_credit_rating(self.credit_score)"
   ]
  },
  {
   "cell_type": "code",
   "execution_count": 283,
   "id": "3460a8a6-dd7a-4896-a2ee-032416c11703",
   "metadata": {
    "tags": []
   },
   "outputs": [],
   "source": [
    "company = \"MTN SJ Equity\""
   ]
  },
  {
   "cell_type": "code",
   "execution_count": 284,
   "id": "c9ce811f-6d11-4467-92cb-8558f849a579",
   "metadata": {
    "jupyter": {
     "source_hidden": true
    },
    "tags": []
   },
   "outputs": [],
   "source": [
    "model_metrics = [\n",
    "    \"oper_margin\", \n",
    "    \"tot_debt_to_tot_eqy\", \n",
    "    \"tot_debt_to_ebitda\", \n",
    "    \"ebitda_to_tot_int_exp\", \n",
    "    \"return_on_asset\",\n",
    "    \"asset_turnover\",\n",
    "]\n",
    "\n",
    "ratios = metrics[company].loc[model_metrics].to_dict()"
   ]
  },
  {
   "cell_type": "code",
   "execution_count": 285,
   "id": "9c6172fe-c2d2-486a-aa2f-16c37a50e1f6",
   "metadata": {
    "tags": []
   },
   "outputs": [
    {
     "data": {
      "text/plain": [
       "{'oper_margin': 23.90386585763219,\n",
       " 'tot_debt_to_tot_eqy': 65.11678489099474,\n",
       " 'tot_debt_to_ebitda': 1.305328924586783,\n",
       " 'ebitda_to_tot_int_exp': 13.11412971213706,\n",
       " 'return_on_asset': 7.405180900886093,\n",
       " 'asset_turnover': 0.6140331573693389}"
      ]
     },
     "execution_count": 285,
     "metadata": {},
     "output_type": "execute_result"
    }
   ],
   "source": [
    "ratios"
   ]
  },
  {
   "cell_type": "code",
   "execution_count": 286,
   "id": "39b74db9-167a-4d83-bda9-f280c20cd9f4",
   "metadata": {
    "jupyter": {
     "source_hidden": true
    },
    "tags": []
   },
   "outputs": [
    {
     "name": "stdout",
     "output_type": "stream",
     "text": [
      "{'profitability': 0.3, 'leverage_coverage': 0.55, 'efficiency': 0.15}\n",
      "{'profitability': 5.0, 'leverage_coverage': 5.5, 'efficiency': 4.0}\n",
      "Class Scoring: {'profitability': 5.0, 'leverage_coverage': 5.5, 'efficiency': 4.0}\n",
      "Credit Score: 5.125\n",
      "Credit Rating: Baa\n"
     ]
    }
   ],
   "source": [
    "model = CreditRatingCalculator(model_inputs)\n",
    "model.calculate_credit_rating(ratios)\n",
    "print(f\"Class Scoring: {model.scores}\")\n",
    "print(f\"Credit Score: {model.credit_score}\")\n",
    "print(f\"Credit Rating: {model.credit_rating}\")"
   ]
  },
  {
   "cell_type": "code",
   "execution_count": 282,
   "id": "220467db-f211-4552-b570-ee5355309d31",
   "metadata": {
    "tags": []
   },
   "outputs": [],
   "source": [
    "eq = metrics.loc[\"ebitda_to_tot_int_exp\"].remove_outliers()\n",
    "qq = eq.quantile(np.linspace(0.01, 1, 9))"
   ]
  },
  {
   "cell_type": "code",
   "execution_count": 260,
   "id": "218ac51e-7b35-4390-84e3-da51ce4a5292",
   "metadata": {
    "tags": []
   },
   "outputs": [],
   "source": [
    "qq = qq.round(2)"
   ]
  },
  {
   "cell_type": "code",
   "execution_count": 261,
   "id": "d377a486-dcf9-4f04-b8bb-8475dfa154b0",
   "metadata": {
    "tags": []
   },
   "outputs": [
    {
     "name": "stdout",
     "output_type": "stream",
     "text": [
      "1\n",
      "14\n",
      "26\n",
      "38\n",
      "50\n",
      "63\n",
      "75\n",
      "87\n",
      "99\n"
     ]
    }
   ],
   "source": [
    "for val in qq:\n",
    "    \n",
    "    a = eq[eq < val]\n",
    "    print(len(a))"
   ]
  },
  {
   "cell_type": "code",
   "execution_count": 267,
   "id": "f979033f-bb99-41c5-9ef9-da3794aa8a02",
   "metadata": {
    "tags": []
   },
   "outputs": [],
   "source": [
    "import numpy as np\n",
    "\n",
    "values = qq.values #np.array([2., 16., 24., 33., 43., 54., 68., 94., 207.])\n",
    "sorted_values = np.sort(np.unique(values))\n",
    "\n",
    "thresholds = []\n",
    "prev_value = float(\"-inf\")\n",
    "\n",
    "for value in sorted_values:\n",
    "    thresholds.append((prev_value, value))\n",
    "    prev_value = value\n",
    "\n",
    "thresholds.append((sorted_values[-1], float(\"inf\")))"
   ]
  },
  {
   "cell_type": "code",
   "execution_count": 268,
   "id": "4af49ec3-b252-4cee-92bf-637764833e22",
   "metadata": {
    "tags": []
   },
   "outputs": [
    {
     "data": {
      "text/plain": [
       "[(-inf, 0.36),\n",
       " (0.36, 3.84),\n",
       " (3.84, 6.29),\n",
       " (6.29, 8.26),\n",
       " (8.26, 9.97),\n",
       " (9.97, 15.48),\n",
       " (15.48, 20.9),\n",
       " (20.9, 69.63),\n",
       " (69.63, 278.83),\n",
       " (278.83, inf)]"
      ]
     },
     "execution_count": 268,
     "metadata": {},
     "output_type": "execute_result"
    }
   ],
   "source": [
    "thresholds"
   ]
  },
  {
   "cell_type": "code",
   "execution_count": 270,
   "id": "3f76f6f8-0c13-4230-904a-b505d5d64c0c",
   "metadata": {
    "tags": []
   },
   "outputs": [],
   "source": [
    "import numpy as np\n",
    "\n",
    "values = qq.values #np.array([2., 16., 24., 33., 43., 54., 68., 94., 207.])\n",
    "sorted_values = np.sort(np.unique(values))[::-1]  # Reverse the order\n",
    "\n",
    "thresholds = []\n",
    "prev_value = float(\"inf\")\n",
    "\n",
    "for value in sorted_values:\n",
    "    thresholds.append((value, prev_value))\n",
    "    prev_value = value\n",
    "\n",
    "thresholds.append((float(\"-inf\"), sorted_values[-1]))"
   ]
  },
  {
   "cell_type": "code",
   "execution_count": 271,
   "id": "16e5f2bf-9237-4eca-b70e-61fe20058a34",
   "metadata": {
    "tags": []
   },
   "outputs": [
    {
     "data": {
      "text/plain": [
       "[(278.83, inf),\n",
       " (69.63, 278.83),\n",
       " (20.9, 69.63),\n",
       " (15.48, 20.9),\n",
       " (9.97, 15.48),\n",
       " (8.26, 9.97),\n",
       " (6.29, 8.26),\n",
       " (3.84, 6.29),\n",
       " (0.36, 3.84),\n",
       " (-inf, 0.36)]"
      ]
     },
     "execution_count": 271,
     "metadata": {},
     "output_type": "execute_result"
    }
   ],
   "source": [
    "thresholds"
   ]
  },
  {
   "cell_type": "code",
   "execution_count": 197,
   "id": "63fcd275-4f6b-46d4-af0b-f44012588931",
   "metadata": {
    "tags": []
   },
   "outputs": [
    {
     "data": {
      "text/plain": [
       "[(1.6923229820685262, inf),\n",
       " (0, 206.8655490463593),\n",
       " (206.8655490463593, 93.77429513141182),\n",
       " (93.77429513141182, 67.82813253514031),\n",
       " (67.82813253514031, 53.69410519913799),\n",
       " (53.69410519913799, 43.34814127903013),\n",
       " (43.34814127903013, 32.61397408917929),\n",
       " (32.61397408917929, 23.820047331122783),\n",
       " (23.820047331122783, 15.84466213095929),\n",
       " (15.84466213095929, 1.6923229820685262)]"
      ]
     },
     "execution_count": 197,
     "metadata": {},
     "output_type": "execute_result"
    }
   ],
   "source": [
    "bounds"
   ]
  },
  {
   "cell_type": "code",
   "execution_count": null,
   "id": "106fff56-73ee-4147-b484-54a4d5c0b5e2",
   "metadata": {},
   "outputs": [],
   "source": [
    "np.nextafter("
   ]
  },
  {
   "cell_type": "code",
   "execution_count": 17,
   "id": "ef8d7a3c",
   "metadata": {
    "tags": []
   },
   "outputs": [],
   "source": [
    "import pandas as pd "
   ]
  },
  {
   "cell_type": "code",
   "execution_count": 18,
   "id": "07a09010",
   "metadata": {
    "tags": []
   },
   "outputs": [],
   "source": [
    "from quantstats import extend_pandas\n",
    "extend_pandas()"
   ]
  },
  {
   "cell_type": "code",
   "execution_count": 35,
   "id": "54a1d927",
   "metadata": {
    "tags": []
   },
   "outputs": [],
   "source": [
    "df = pd.read_csv(\"research/JALSH Index_dataset_2000_2024_clean.csv\", index_col=0, header=[0, 1])\n",
    "classfier = pd.read_excel(\"research/classification_data.xlsx\", index_col=0)\n",
    "metrics = pd.read_excel(\"research/metrics_full.xlsx\", index_col=0)"
   ]
  },
  {
   "cell_type": "code",
   "execution_count": 20,
   "id": "4b8d6a4d",
   "metadata": {
    "tags": []
   },
   "outputs": [],
   "source": [
    "def filter_securities(filters, data=classfier):\n",
    "    \n",
    "    # Apply filters directly on the transposed\n",
    "    filtered_data = data.query(\n",
    "        ' and '.join(f'`{k}` == \"{v}\"' for k, v in filters.items())\n",
    "    )\n",
    "    \n",
    "    return list(filtered_data.index)"
   ]
  },
  {
   "cell_type": "code",
   "execution_count": 21,
   "id": "8563328c",
   "metadata": {
    "tags": []
   },
   "outputs": [
    {
     "data": {
      "text/plain": [
       "array(['Financial', 'Consumer, Non-cyclical', 'Industrial',\n",
       "       'Basic Materials', 'Diversified', 'Consumer, Cyclical',\n",
       "       'Communications', 'Technology', 'Energy'], dtype=object)"
      ]
     },
     "execution_count": 21,
     "metadata": {},
     "output_type": "execute_result"
    }
   ],
   "source": [
    "classfier.sector.unique()"
   ]
  }
 ],
 "metadata": {
  "kernelspec": {
   "display_name": "Python 3 (ipykernel)",
   "language": "python",
   "name": "python3"
  },
  "language_info": {
   "codemirror_mode": {
    "name": "ipython",
    "version": 3
   },
   "file_extension": ".py",
   "mimetype": "text/x-python",
   "name": "python",
   "nbconvert_exporter": "python",
   "pygments_lexer": "ipython3",
   "version": "3.11.5"
  }
 },
 "nbformat": 4,
 "nbformat_minor": 5
}
