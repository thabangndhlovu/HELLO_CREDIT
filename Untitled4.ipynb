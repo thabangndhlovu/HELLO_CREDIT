{
 "cells": [
  {
   "cell_type": "code",
   "execution_count": 1,
   "id": "fd79e6c2-e640-47cc-ae73-9f964a65832d",
   "metadata": {
    "tags": []
   },
   "outputs": [
    {
     "ename": "KeyError",
     "evalue": "'input_variables'",
     "output_type": "error",
     "traceback": [
      "\u001b[1;31m---------------------------------------------------------------------------\u001b[0m",
      "\u001b[1;31mKeyError\u001b[0m                                  Traceback (most recent call last)",
      "Cell \u001b[1;32mIn[1], line 80\u001b[0m\n\u001b[0;32m     24\u001b[0m \u001b[38;5;66;03m# Define the prompt template\u001b[39;00m\n\u001b[0;32m     25\u001b[0m template \u001b[38;5;241m=\u001b[39m \u001b[38;5;124m\"\"\"\u001b[39m\n\u001b[0;32m     26\u001b[0m \u001b[38;5;124mYou are a sophisticated senior credit analyst specializing in credit risk assessment. Your task is to analyze the financial health and creditworthiness of a company based on provided financial ratios and metrics.\u001b[39m\n\u001b[0;32m     27\u001b[0m \n\u001b[1;32m   (...)\u001b[0m\n\u001b[0;32m     77\u001b[0m \u001b[38;5;124mBased on this data, perform your credit analysis and provide the results in the specified format.\u001b[39m\n\u001b[0;32m     78\u001b[0m \u001b[38;5;124m\"\"\"\u001b[39m\n\u001b[1;32m---> 80\u001b[0m prompt \u001b[38;5;241m=\u001b[39m PromptTemplate(\n\u001b[0;32m     81\u001b[0m     template\u001b[38;5;241m=\u001b[39mtemplate,\n\u001b[0;32m     82\u001b[0m     partial_variables\u001b[38;5;241m=\u001b[39m{\u001b[38;5;124m\"\u001b[39m\u001b[38;5;124mformat_instructions\u001b[39m\u001b[38;5;124m\"\u001b[39m: output_parser\u001b[38;5;241m.\u001b[39mget_format_instructions()}\n\u001b[0;32m     83\u001b[0m )\n\u001b[0;32m     85\u001b[0m \u001b[38;5;66;03m# Initialize the language model\u001b[39;00m\n\u001b[0;32m     86\u001b[0m llm \u001b[38;5;241m=\u001b[39m OpenAI(temperature\u001b[38;5;241m=\u001b[39m\u001b[38;5;241m0.7\u001b[39m)\n",
      "File \u001b[1;32m~\\AppData\\Local\\anaconda3\\Lib\\site-packages\\langchain\\load\\serializable.py:97\u001b[0m, in \u001b[0;36mSerializable.__init__\u001b[1;34m(self, **kwargs)\u001b[0m\n\u001b[0;32m     96\u001b[0m \u001b[38;5;28;01mdef\u001b[39;00m \u001b[38;5;21m__init__\u001b[39m(\u001b[38;5;28mself\u001b[39m, \u001b[38;5;241m*\u001b[39m\u001b[38;5;241m*\u001b[39mkwargs: Any) \u001b[38;5;241m-\u001b[39m\u001b[38;5;241m>\u001b[39m \u001b[38;5;28;01mNone\u001b[39;00m:\n\u001b[1;32m---> 97\u001b[0m     \u001b[38;5;28msuper\u001b[39m()\u001b[38;5;241m.\u001b[39m\u001b[38;5;21m__init__\u001b[39m(\u001b[38;5;241m*\u001b[39m\u001b[38;5;241m*\u001b[39mkwargs)\n\u001b[0;32m     98\u001b[0m     \u001b[38;5;28mself\u001b[39m\u001b[38;5;241m.\u001b[39m_lc_kwargs \u001b[38;5;241m=\u001b[39m kwargs\n",
      "File \u001b[1;32m~\\AppData\\Local\\anaconda3\\Lib\\site-packages\\pydantic\\v1\\main.py:339\u001b[0m, in \u001b[0;36mBaseModel.__init__\u001b[1;34m(__pydantic_self__, **data)\u001b[0m\n\u001b[0;32m    333\u001b[0m \u001b[38;5;250m\u001b[39m\u001b[38;5;124;03m\"\"\"\u001b[39;00m\n\u001b[0;32m    334\u001b[0m \u001b[38;5;124;03mCreate a new model by parsing and validating input data from keyword arguments.\u001b[39;00m\n\u001b[0;32m    335\u001b[0m \n\u001b[0;32m    336\u001b[0m \u001b[38;5;124;03mRaises ValidationError if the input data cannot be parsed to form a valid model.\u001b[39;00m\n\u001b[0;32m    337\u001b[0m \u001b[38;5;124;03m\"\"\"\u001b[39;00m\n\u001b[0;32m    338\u001b[0m \u001b[38;5;66;03m# Uses something other than `self` the first arg to allow \"self\" as a settable attribute\u001b[39;00m\n\u001b[1;32m--> 339\u001b[0m values, fields_set, validation_error \u001b[38;5;241m=\u001b[39m validate_model(__pydantic_self__\u001b[38;5;241m.\u001b[39m\u001b[38;5;18m__class__\u001b[39m, data)\n\u001b[0;32m    340\u001b[0m \u001b[38;5;28;01mif\u001b[39;00m validation_error:\n\u001b[0;32m    341\u001b[0m     \u001b[38;5;28;01mraise\u001b[39;00m validation_error\n",
      "File \u001b[1;32m~\\AppData\\Local\\anaconda3\\Lib\\site-packages\\pydantic\\v1\\main.py:1100\u001b[0m, in \u001b[0;36mvalidate_model\u001b[1;34m(model, input_data, cls)\u001b[0m\n\u001b[0;32m   1098\u001b[0m     \u001b[38;5;28;01mcontinue\u001b[39;00m\n\u001b[0;32m   1099\u001b[0m \u001b[38;5;28;01mtry\u001b[39;00m:\n\u001b[1;32m-> 1100\u001b[0m     values \u001b[38;5;241m=\u001b[39m validator(cls_, values)\n\u001b[0;32m   1101\u001b[0m \u001b[38;5;28;01mexcept\u001b[39;00m (\u001b[38;5;167;01mValueError\u001b[39;00m, \u001b[38;5;167;01mTypeError\u001b[39;00m, \u001b[38;5;167;01mAssertionError\u001b[39;00m) \u001b[38;5;28;01mas\u001b[39;00m exc:\n\u001b[0;32m   1102\u001b[0m     errors\u001b[38;5;241m.\u001b[39mappend(ErrorWrapper(exc, loc\u001b[38;5;241m=\u001b[39mROOT_KEY))\n",
      "File \u001b[1;32m~\\AppData\\Local\\anaconda3\\Lib\\site-packages\\langchain\\schema\\prompt_template.py:74\u001b[0m, in \u001b[0;36mBasePromptTemplate.validate_variable_names\u001b[1;34m(cls, values)\u001b[0m\n\u001b[0;32m     71\u001b[0m \u001b[38;5;129m@root_validator\u001b[39m()\n\u001b[0;32m     72\u001b[0m \u001b[38;5;28;01mdef\u001b[39;00m \u001b[38;5;21mvalidate_variable_names\u001b[39m(\u001b[38;5;28mcls\u001b[39m, values: Dict) \u001b[38;5;241m-\u001b[39m\u001b[38;5;241m>\u001b[39m Dict:\n\u001b[0;32m     73\u001b[0m \u001b[38;5;250m    \u001b[39m\u001b[38;5;124;03m\"\"\"Validate variable names do not include restricted names.\"\"\"\u001b[39;00m\n\u001b[1;32m---> 74\u001b[0m     \u001b[38;5;28;01mif\u001b[39;00m \u001b[38;5;124m\"\u001b[39m\u001b[38;5;124mstop\u001b[39m\u001b[38;5;124m\"\u001b[39m \u001b[38;5;129;01min\u001b[39;00m values[\u001b[38;5;124m\"\u001b[39m\u001b[38;5;124minput_variables\u001b[39m\u001b[38;5;124m\"\u001b[39m]:\n\u001b[0;32m     75\u001b[0m         \u001b[38;5;28;01mraise\u001b[39;00m \u001b[38;5;167;01mValueError\u001b[39;00m(\n\u001b[0;32m     76\u001b[0m             \u001b[38;5;124m\"\u001b[39m\u001b[38;5;124mCannot have an input variable named \u001b[39m\u001b[38;5;124m'\u001b[39m\u001b[38;5;124mstop\u001b[39m\u001b[38;5;124m'\u001b[39m\u001b[38;5;124m, as it is used internally,\u001b[39m\u001b[38;5;124m\"\u001b[39m\n\u001b[0;32m     77\u001b[0m             \u001b[38;5;124m\"\u001b[39m\u001b[38;5;124m please rename.\u001b[39m\u001b[38;5;124m\"\u001b[39m\n\u001b[0;32m     78\u001b[0m         )\n\u001b[0;32m     79\u001b[0m     \u001b[38;5;28;01mif\u001b[39;00m \u001b[38;5;124m\"\u001b[39m\u001b[38;5;124mstop\u001b[39m\u001b[38;5;124m\"\u001b[39m \u001b[38;5;129;01min\u001b[39;00m values[\u001b[38;5;124m\"\u001b[39m\u001b[38;5;124mpartial_variables\u001b[39m\u001b[38;5;124m\"\u001b[39m]:\n",
      "\u001b[1;31mKeyError\u001b[0m: 'input_variables'"
     ]
    }
   ],
   "source": [
    "import os\n",
    "from typing import Dict, List\n",
    "from langchain.llms import OpenAI\n",
    "from langchain.prompts import PromptTemplate\n",
    "from langchain.output_parsers import StructuredOutputParser, ResponseSchema\n",
    "from langchain.chains import LLMChain\n",
    "import pandas as pd\n",
    "\n",
    "# Set your OpenAI API key\n",
    "os.environ[\"OPENAI_API_KEY\"] = \"sk-proj-Tzd95Nr8di5wXfkkfU7GT3BlbkFJZNuNrBwbi8pepTWpSsCu\"\n",
    "\n",
    "# Define the response schemas\n",
    "response_schemas = [\n",
    "    ResponseSchema(name=\"leverage_and_coverage\", description=\"Analysis and risk assessment of leverage and coverage ratios\"),\n",
    "    ResponseSchema(name=\"efficiency\", description=\"Analysis and risk assessment of efficiency metrics\"),\n",
    "    ResponseSchema(name=\"profitability\", description=\"Analysis and risk assessment of profitability metrics\"),\n",
    "    ResponseSchema(name=\"overall_financial_health\", description=\"Summary of overall financial health, key strengths, and potential risks\"),\n",
    "    ResponseSchema(name=\"recommendations\", description=\"Areas for further investigation, risk rating, and justification\")\n",
    "]\n",
    "\n",
    "# Create the output parser\n",
    "output_parser = StructuredOutputParser.from_response_schemas(response_schemas)\n",
    "\n",
    "# Define the prompt template\n",
    "template = \"\"\"\n",
    "You are a sophisticated senior credit analyst specializing in credit risk assessment. \n",
    "Your task is to analyze the financial health and creditworthiness of a company based on provided financial ratios and metrics.\n",
    "\n",
    "Input Data:\n",
    "1. DATA1: A time series of financial ratios and metrics.\n",
    "2. DATA2: The mean values of these metrics across the time series.\n",
    "\n",
    "DATA1:\n",
    "{data1}\n",
    "\n",
    "DATA2:\n",
    "{data2}\n",
    "\n",
    "Instructions:\n",
    "1. Analyze the company's financial health using the provided metrics.\n",
    "2. Focus on trends over time and compare the latest values to historical averages.\n",
    "3. Provide insights on the company's strengths and potential risks.\n",
    "4. Be objective and fair in your assessment, avoiding biases.\n",
    "5. Structure your analysis into the following sections:\n",
    "\n",
    "A. Leverage and Coverage:\n",
    "   - Analyze: debt-to-equity, debt-to-EBITDA, EBITDA-to-interest expense ratios\n",
    "   - Assess: The company's ability to manage debt and financial risk\n",
    "   - Consider: Trends in these ratios and their implications for future solvency\n",
    "\n",
    "B. Efficiency:\n",
    "   - Analyze: Asset turnover ratio\n",
    "   - Assess: The company's operational efficiency and working capital management\n",
    "   - Consider: How the efficiency metrics compare to industry standards (if known)\n",
    "\n",
    "C. Profitability:\n",
    "   - Analyze: EBITDA margin\n",
    "   - Assess: The impact on the company's financial health and ability to service debt\n",
    "   - Consider: Trends in profitability and their sustainability\n",
    "\n",
    "D. Overall Financial Health:\n",
    "   - Synthesize the findings from the previous sections\n",
    "   - Provide an overall assessment of the company's creditworthiness\n",
    "   - Highlight key strengths and potential risks\n",
    "\n",
    "E. Recommendations:\n",
    "   - Suggest areas for further investigation or improvement\n",
    "   - Provide a general risk rating (e.g., low, medium, high) with justification\n",
    "\n",
    "{format_instructions}\n",
    "\n",
    "Ensure your analysis is:\n",
    "1. Data-driven: Base your conclusions on the provided metrics\n",
    "2. Objective: Avoid personal biases and unsupported assumptions\n",
    "3. Comprehensive: Cover all aspects mentioned in the instructions\n",
    "4. Clear and Concise: Provide insights in a straightforward manner\n",
    "\n",
    "Based on this data, perform your credit analysis and provide the results in the specified format.\n",
    "\"\"\"\n",
    "\n",
    "prompt = PromptTemplate(\n",
    "    template=template,\n",
    "    partial_variables={\"format_instructions\": output_parser.get_format_instructions()}\n",
    ")\n",
    "\n",
    "# Initialize the language model\n",
    "llm = OpenAI(temperature=0.7)\n",
    "\n",
    "# Create the LLMChain\n",
    "chain = LLMChain(llm=llm, prompt=prompt)\n",
    "\n",
    "data1 = {\n",
    "    'debt_to_equity': [1.5, 1.3, 1.2],\n",
    "    'debt_to_ebitda': [3.2, 2.9, 2.7],\n",
    "    'ebitda_to_interest': [5.5, 6.0, 6.5],\n",
    "    'asset_turnover': [0.8, 0.9, 1.0],\n",
    "    'ebitda_margin': [0.15, 0.16, 0.17]\n",
    "}\n",
    "    \n",
    "data2 = {\n",
    "    'debt_to_equity': 1.33,\n",
    "    'debt_to_ebitda': 2.93,\n",
    "    'ebitda_to_interest': 6.0,\n",
    "    'asset_turnover': 0.9,\n",
    "    'ebitda_margin': 0.16\n",
    "}\n"
   ]
  },
  {
   "cell_type": "code",
   "execution_count": 5,
   "id": "466bffc3-972c-4292-b9ef-0d3aa6fdf60b",
   "metadata": {
    "tags": []
   },
   "outputs": [],
   "source": [
    "from langchain_core.output_parsers import SimpleJsonOutputParser, StrOutputParser\n"
   ]
  },
  {
   "cell_type": "code",
   "execution_count": 9,
   "id": "0b09a76c-d35d-4f95-a880-c5a86de757f8",
   "metadata": {
    "tags": []
   },
   "outputs": [
    {
     "data": {
      "text/plain": [
       "[StrOutputParser(name='leverage_and_coverage'),\n",
       " StrOutputParser(name='efficiency'),\n",
       " StrOutputParser(name='profitability'),\n",
       " StrOutputParser(name='overall_financial_health'),\n",
       " StrOutputParser(name='recommendations')]"
      ]
     },
     "execution_count": 9,
     "metadata": {},
     "output_type": "execute_result"
    }
   ],
   "source": [
    "response_schemas"
   ]
  },
  {
   "cell_type": "code",
   "execution_count": 10,
   "id": "8394aad5-f2d1-47e4-bf39-e17f1db46600",
   "metadata": {
    "tags": []
   },
   "outputs": [
    {
     "ename": "TypeError",
     "evalue": "BaseModel.__init__() takes 1 positional argument but 2 were given",
     "output_type": "error",
     "traceback": [
      "\u001b[1;31m---------------------------------------------------------------------------\u001b[0m",
      "\u001b[1;31mTypeError\u001b[0m                                 Traceback (most recent call last)",
      "Cell \u001b[1;32mIn[10], line 26\u001b[0m\n\u001b[0;32m     17\u001b[0m response_schemas \u001b[38;5;241m=\u001b[39m [\n\u001b[0;32m     18\u001b[0m     StrOutputParser(name\u001b[38;5;241m=\u001b[39m\u001b[38;5;124m\"\u001b[39m\u001b[38;5;124mleverage_and_coverage\u001b[39m\u001b[38;5;124m\"\u001b[39m, description\u001b[38;5;241m=\u001b[39m\u001b[38;5;124m\"\u001b[39m\u001b[38;5;124mAnalysis and risk assessment of leverage and coverage ratios\u001b[39m\u001b[38;5;124m\"\u001b[39m),\n\u001b[0;32m     19\u001b[0m     StrOutputParser(name\u001b[38;5;241m=\u001b[39m\u001b[38;5;124m\"\u001b[39m\u001b[38;5;124mefficiency\u001b[39m\u001b[38;5;124m\"\u001b[39m, description\u001b[38;5;241m=\u001b[39m\u001b[38;5;124m\"\u001b[39m\u001b[38;5;124mAnalysis and risk assessment of efficiency metrics\u001b[39m\u001b[38;5;124m\"\u001b[39m),\n\u001b[1;32m   (...)\u001b[0m\n\u001b[0;32m     22\u001b[0m     StrOutputParser(name\u001b[38;5;241m=\u001b[39m\u001b[38;5;124m\"\u001b[39m\u001b[38;5;124mrecommendations\u001b[39m\u001b[38;5;124m\"\u001b[39m, description\u001b[38;5;241m=\u001b[39m\u001b[38;5;124m\"\u001b[39m\u001b[38;5;124mAreas for further investigation, risk rating, and justification\u001b[39m\u001b[38;5;124m\"\u001b[39m)\n\u001b[0;32m     23\u001b[0m ]\n\u001b[0;32m     25\u001b[0m \u001b[38;5;66;03m# Create the output parser\u001b[39;00m\n\u001b[1;32m---> 26\u001b[0m output_parser \u001b[38;5;241m=\u001b[39m SimpleJsonOutputParser(response_schemas)\n\u001b[0;32m     28\u001b[0m \u001b[38;5;66;03m# Define the prompt template\u001b[39;00m\n\u001b[0;32m     29\u001b[0m template \u001b[38;5;241m=\u001b[39m \u001b[38;5;124m\"\"\"\u001b[39m\n\u001b[0;32m     30\u001b[0m \u001b[38;5;124mYou are a sophisticated senior credit analyst specializing in credit risk assessment. \u001b[39m\n\u001b[0;32m     31\u001b[0m \u001b[38;5;124mYour task is to analyze the financial health and creditworthiness of a company based on provided financial ratios and metrics.\u001b[39m\n\u001b[1;32m   (...)\u001b[0m\n\u001b[0;32m     82\u001b[0m \u001b[38;5;124mBased on this data, perform your credit analysis and provide the results in the specified format.\u001b[39m\n\u001b[0;32m     83\u001b[0m \u001b[38;5;124m\"\"\"\u001b[39m\n",
      "\u001b[1;31mTypeError\u001b[0m: BaseModel.__init__() takes 1 positional argument but 2 were given"
     ]
    }
   ],
   "source": [
    "import os\n",
    "from typing import Dict, List\n",
    "from langchain.prompts import PromptTemplate\n",
    "from langchain.output_parsers import StructuredOutputParser, ResponseSchema\n",
    "import pandas as pd\n",
    "\n",
    "from langchain_core.prompts import PromptTemplate\n",
    "from langchain_core.output_parsers import SimpleJsonOutputParser, StrOutputParser\n",
    "from langchain_openai import ChatOpenAI\n",
    "\n",
    "\n",
    "\n",
    "# Set your OpenAI API key\n",
    "os.environ[\"OPENAI_API_KEY\"] = \"sk-proj-Tzd95Nr8di5wXfkkfU7GT3BlbkFJZNuNrBwbi8pepTWpSsCu\"\n",
    "\n",
    "# Define the response schemas\n",
    "response_schemas = [\n",
    "    StrOutputParser(name=\"leverage_and_coverage\", description=\"Analysis and risk assessment of leverage and coverage ratios\"),\n",
    "    StrOutputParser(name=\"efficiency\", description=\"Analysis and risk assessment of efficiency metrics\"),\n",
    "    StrOutputParser(name=\"profitability\", description=\"Analysis and risk assessment of profitability metrics\"),\n",
    "    StrOutputParser(name=\"overall_financial_health\", description=\"Summary of overall financial health, key strengths, and potential risks\"),\n",
    "    StrOutputParser(name=\"recommendations\", description=\"Areas for further investigation, risk rating, and justification\")\n",
    "]\n",
    "\n",
    "# Create the output parser\n",
    "output_parser = SimpleJsonOutputParser(response_schemas)\n",
    "\n",
    "# Define the prompt template\n",
    "template = \"\"\"\n",
    "You are a sophisticated senior credit analyst specializing in credit risk assessment. \n",
    "Your task is to analyze the financial health and creditworthiness of a company based on provided financial ratios and metrics.\n",
    "\n",
    "Input Data:\n",
    "1. DATA1: A time series of financial ratios and metrics.\n",
    "2. DATA2: The mean values of these metrics across the time series.\n",
    "\n",
    "DATA1:\n",
    "{data1}\n",
    "\n",
    "DATA2:\n",
    "{data2}\n",
    "\n",
    "Instructions:\n",
    "1. Analyze the company's financial health using the provided metrics.\n",
    "2. Focus on trends over time and compare the latest values to historical averages.\n",
    "3. Provide insights on the company's strengths and potential risks.\n",
    "4. Be objective and fair in your assessment, avoiding biases.\n",
    "5. Structure your analysis into the following sections:\n",
    "\n",
    "A. Leverage and Coverage:\n",
    "   - Analyze: debt-to-equity, debt-to-EBITDA, EBITDA-to-interest expense ratios\n",
    "   - Assess: The company's ability to manage debt and financial risk\n",
    "   - Consider: Trends in these ratios and their implications for future solvency\n",
    "\n",
    "B. Efficiency:\n",
    "   - Analyze: Asset turnover ratio\n",
    "   - Assess: The company's operational efficiency and working capital management\n",
    "   - Consider: How the efficiency metrics compare to industry standards (if known)\n",
    "\n",
    "C. Profitability:\n",
    "   - Analyze: EBITDA margin\n",
    "   - Assess: The impact on the company's financial health and ability to service debt\n",
    "   - Consider: Trends in profitability and their sustainability\n",
    "\n",
    "D. Overall Financial Health:\n",
    "   - Synthesize the findings from the previous sections\n",
    "   - Provide an overall assessment of the company's creditworthiness\n",
    "   - Highlight key strengths and potential risks\n",
    "\n",
    "E. Recommendations:\n",
    "   - Suggest areas for further investigation or improvement\n",
    "   - Provide a general risk rating (e.g., low, medium, high) with justification\n",
    "\n",
    "{format_instructions}\n",
    "\n",
    "Ensure your analysis is:\n",
    "1. Data-driven: Base your conclusions on the provided metrics\n",
    "2. Objective: Avoid personal biases and unsupported assumptions\n",
    "3. Comprehensive: Cover all aspects mentioned in the instructions\n",
    "4. Clear and Concise: Provide insights in a straightforward manner\n",
    "\n",
    "Based on this data, perform your credit analysis and provide the results in the specified format.\n",
    "\"\"\"\n",
    "\n",
    "prompt = PromptTemplate(\n",
    "    template=template,\n",
    "    input_variables=[\"data1\", \"data2\"],\n",
    "    partial_variables={\"format_instructions\": output_parser.get_format_instructions()}\n",
    ")\n",
    "\n",
    "# Initialize the language model\n",
    "llm  = ChatOpenAI(model=\"gpt-4o-mini\")\n",
    "\n",
    "# Create the LLMChain\n",
    "chain = LLMChain(llm=llm, prompt=prompt)\n",
    "\n",
    "# Prepare the input data\n",
    "data1 = {\n",
    "    'debt_to_equity': [1.5, 1.3, 1.2],\n",
    "    'debt_to_ebitda': [3.2, 2.9, 2.7],\n",
    "    'ebitda_to_interest': [5.5, 6.0, 6.5],\n",
    "    'asset_turnover': [0.8, 0.9, 1.0],\n",
    "    'ebitda_margin': [0.15, 0.16, 0.17]\n",
    "}\n",
    "\n",
    "data2 = {\n",
    "    'debt_to_equity': 1.33,\n",
    "    'debt_to_ebitda': 2.93,\n",
    "    'ebitda_to_interest': 6.0,\n",
    "    'asset_turnover': 0.9,\n",
    "    'ebitda_margin': 0.16\n",
    "}\n",
    "\n",
    "# Run the analysis\n",
    "result = chain.run(data1=data1, data2=data2)\n",
    "\n",
    "# Parse the output\n",
    "parsed_output = output_parser.parse(result)\n",
    "\n",
    "# Print the results\n",
    "for key, value in parsed_output.items():\n",
    "    print(f\"{key.replace('_', ' ').title()}:\")\n",
    "    print(value)\n",
    "    print()"
   ]
  },
  {
   "cell_type": "code",
   "execution_count": 16,
   "id": "20d3230b-48ad-42d4-bd73-67217b137e98",
   "metadata": {
    "tags": []
   },
   "outputs": [
    {
     "data": {
      "text/plain": [
       "{'answer': 'The powerhouse of the cell is the mitochondrion. It is responsible for producing energy in the form of ATP through the process of cellular respiration.',\n",
       " 'followup_question': 'Would you like to know more about how mitochondria function or their role in cellular metabolism?'}"
      ]
     },
     "execution_count": 16,
     "metadata": {},
     "output_type": "execute_result"
    }
   ],
   "source": [
    "from langchain_core.prompts import ChatPromptTemplate\n",
    "from langchain_openai import ChatOpenAI\n",
    "from langchain_core.output_parsers.json import SimpleJsonOutputParser\n",
    "\n",
    "model = ChatOpenAI(\n",
    "    model=\"gpt-4o-mini\",\n",
    "    model_kwargs={\"response_format\": {\"type\":\"json_object\"}},\n",
    ")\n",
    "\n",
    "prompt = ChatPromptTemplate.from_template(\n",
    "    \"Answer the user's question to the best of your ability.\"\n",
    "    'You must always output a JSON object with an \"answer\" key and a \"followup_question\" key.'\n",
    "    \"{question}\"\n",
    ")\n",
    "\n",
    "chain = prompt | model | SimpleJsonOutputParser()\n",
    "\n",
    "chain.invoke({ \"question\": \"What is the powerhouse of the cell?\" })"
   ]
  },
  {
   "cell_type": "code",
   "execution_count": 14,
   "id": "8249e506-4481-4b6a-89c4-20b979593f9a",
   "metadata": {
    "tags": []
   },
   "outputs": [],
   "source": []
  },
  {
   "cell_type": "code",
   "execution_count": 22,
   "id": "b730479d-1e34-4850-994f-4467eb51678d",
   "metadata": {
    "tags": []
   },
   "outputs": [],
   "source": [
    "template = \"\"\"\n",
    "You are a sophisticated senior credit analyst specializing in credit risk assessment. \n",
    "Your task is to analyze the financial health and creditworthiness of a company based on provided financial ratios and metrics. \n",
    "\n",
    "Use the given data to produce a comprehensive credit analysis report and quote metrics to support your analysis.\n",
    "\n",
    "Input Data:\n",
    "1. DATA1: A time series of financial ratios and metrics.\n",
    "2. DATA2: The mean values of these metrics across the time series.\n",
    "\n",
    "\n",
    "Instructions:\n",
    "1. Analyze the company's financial health using the provided metrics.\n",
    "2. Focus on trends over time and compare the latest values to historical averages (if available).\n",
    "3. Provide insights on the company's strengths and potential risks.\n",
    "4. Be objective and fair in your assessment, avoiding biases.\n",
    "5. Structure your analysis into the following sections:\n",
    "\n",
    "A. Leverage and Coverage:\n",
    "   - Analyze: debt-to-equity, debt-to-EBITDA, EBITDA-to-interest expense, and debt-to-tangible assets ratios.\n",
    "   - Assess: The company's ability to manage debt and financial risk.\n",
    "   - Consider: Trends in these ratios and their implications for future solvency.\n",
    "\n",
    "B. Efficiency:\n",
    "   - Analyze: asset turnover, inventory to cost of sales, and cash to assets ratios.\n",
    "   - Assess: The company's operational efficiency and working capital management.\n",
    "   - Consider: How the efficiency metrics compare to industry standards (if known).\n",
    "\n",
    "C. Profitability:\n",
    "   - Analyze: EBITDA margin.\n",
    "   - Assess: The impact on the company's financial health and ability to service debt.\n",
    "   - Consider: Trends in profitability and their sustainability.\n",
    "\n",
    "D. Overall Financial Health:\n",
    "   - Synthesize the findings from the previous sections.\n",
    "   - Provide an overall assessment of the company's creditworthiness.\n",
    "   - Highlight key strengths and potential risks.\n",
    "\n",
    "Output Format:\n",
    "Provide your analysis in a JSON format with the following structure:\n",
    "\n",
    "\"analysis\": \n",
    "    \"summary\": \"\",\n",
    "    \"key_strengths\": \"\",\n",
    "    \"potential_risks\": \"\"\n",
    "\n",
    "Ensure your analysis is:\n",
    "1. Data-driven: Base your conclusions on the provided metrics.\n",
    "2. Objective: Avoid personal biases and unsupported assumptions.\n",
    "3. Comprehensive: Cover all aspects mentioned in the instructions.\n",
    "4. Clear and Concise: Provide insights in a straightforward manner.\n",
    "\n",
    "DATA1:\n",
    "{data1}\n",
    "\n",
    "DATA2:\n",
    "{data2}\n",
    "\"\"\"\n",
    "\n",
    "prompt = ChatPromptTemplate.from_template(template)\n",
    "\n",
    "# Initialize the language model\n",
    "model = ChatOpenAI(\n",
    "    model=\"gpt-4o-mini\",\n",
    "    model_kwargs={\"response_format\": {\"type\": \"json_object\"}},\n",
    "    max_tokens=100\n",
    ")\n",
    "\n",
    "# Create the chain\n",
    "chain = prompt | model | SimpleJsonOutputParser()\n",
    "\n",
    "# Prepare the input data\n",
    "data1 = {\n",
    "    'debt_to_equity': [1.5, 1.3, 1.2],\n",
    "    'debt_to_ebitda': [3.2, 2.9, 2.7],\n",
    "    'ebitda_to_interest': [5.5, 6.0, 6.5],\n",
    "    'asset_turnover': [0.8, 0.9, 1.0],\n",
    "    'ebitda_margin': [0.15, 0.16, 0.17]\n",
    "}\n",
    "\n",
    "data2 = {\n",
    "    'debt_to_equity': 1.33,\n",
    "    'debt_to_ebitda': 2.93,\n",
    "    'ebitda_to_interest': 6.0,\n",
    "    'asset_turnover': 0.9,\n",
    "    'ebitda_margin': 0.16\n",
    "}\n",
    "\n"
   ]
  },
  {
   "cell_type": "code",
   "execution_count": 23,
   "id": "59fb9094-05f5-4927-8e3c-98e680224446",
   "metadata": {
    "tags": []
   },
   "outputs": [],
   "source": [
    "# Run the analysis\n",
    "result = chain.invoke({\n",
    "    \"data1\": str(data1),\n",
    "    \"data2\": str(data2),\n",
    "})\n"
   ]
  },
  {
   "cell_type": "code",
   "execution_count": 26,
   "id": "79b79ff7-9269-443f-9986-16205f40b1ed",
   "metadata": {
    "tags": []
   },
   "outputs": [
    {
     "data": {
      "text/plain": [
       "\"The company's financial health shows a positive trend in key metrics such as debt management and profitability, indicating a strong capacity to service its debt obligations. However, elevated leverage ratios suggest potential risks if market conditions deteriorate.\""
      ]
     },
     "execution_count": 26,
     "metadata": {},
     "output_type": "execute_result"
    }
   ],
   "source": [
    "result['overall_financial_health']"
   ]
  },
  {
   "cell_type": "code",
   "execution_count": 34,
   "id": "832d5eec-7caa-416d-8346-ec823a5e313e",
   "metadata": {
    "tags": []
   },
   "outputs": [
    {
     "data": {
      "text/plain": [
       "'1. Improved debt management as evidenced by decreasing debt-to-equity and debt-to-EBITDA ratios, indicating a stronger equity base and reduced reliance on debt. 2. Increasing'"
      ]
     },
     "execution_count": 34,
     "metadata": {},
     "output_type": "execute_result"
    }
   ],
   "source": [
    "result['overall_financial_health']['key_strengths']"
   ]
  },
  {
   "cell_type": "code",
   "execution_count": 30,
   "id": "f1ead120-58e0-42d8-a812-1d43b8b101f8",
   "metadata": {
    "tags": []
   },
   "outputs": [],
   "source": [
    "import json"
   ]
  },
  {
   "cell_type": "code",
   "execution_count": null,
   "id": "858b473b-77cf-48d0-ba3c-5a2bedbed3da",
   "metadata": {},
   "outputs": [],
   "source": [
    "with open(\"credit_assessment.json\") as f:\n",
    "    json.dump("
   ]
  },
  {
   "cell_type": "code",
   "execution_count": 31,
   "id": "d30c470b-e945-4d3e-96f5-653af19b72d9",
   "metadata": {
    "tags": []
   },
   "outputs": [],
   "source": [
    "import os"
   ]
  },
  {
   "cell_type": "code",
   "execution_count": 32,
   "id": "fee20d4f-e911-43df-85e8-11d372833e3b",
   "metadata": {
    "tags": []
   },
   "outputs": [
    {
     "data": {
      "text/plain": [
       "<function genericpath.exists(path)>"
      ]
     },
     "execution_count": 32,
     "metadata": {},
     "output_type": "execute_result"
    }
   ],
   "source": [
    "os.path.exists("
   ]
  },
  {
   "cell_type": "code",
   "execution_count": null,
   "id": "4868e2d1-997f-4e65-bc7f-2e10f2d990aa",
   "metadata": {},
   "outputs": [],
   "source": []
  }
 ],
 "metadata": {
  "kernelspec": {
   "display_name": "Python 3 (ipykernel)",
   "language": "python",
   "name": "python3"
  },
  "language_info": {
   "codemirror_mode": {
    "name": "ipython",
    "version": 3
   },
   "file_extension": ".py",
   "mimetype": "text/x-python",
   "name": "python",
   "nbconvert_exporter": "python",
   "pygments_lexer": "ipython3",
   "version": "3.11.5"
  }
 },
 "nbformat": 4,
 "nbformat_minor": 5
}
