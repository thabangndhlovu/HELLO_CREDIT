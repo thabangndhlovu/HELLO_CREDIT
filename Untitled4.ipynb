{
 "cells": [
  {
   "cell_type": "code",
   "execution_count": 5,
   "id": "edd682cc-84b8-4488-8266-c5e13ccecd80",
   "metadata": {
    "tags": []
   },
   "outputs": [],
   "source": [
    "import json\n",
    "\n",
    "import numpy as np\n",
    "import pandas as pd"
   ]
  },
  {
   "cell_type": "code",
   "execution_count": 3,
   "id": "691d4427-67a0-49cd-82f5-4badbd09566d",
   "metadata": {
    "tags": []
   },
   "outputs": [],
   "source": [
    "df = pd.read_excel(\"Book1.xlsx\")"
   ]
  },
  {
   "cell_type": "code",
   "execution_count": 6,
   "id": "18b968ed-b76e-4235-a109-a32c31a9b8d9",
   "metadata": {
    "tags": []
   },
   "outputs": [],
   "source": [
    "with open(\"hello_credit_config.json\", \"r\") as f:\n",
    "    config = json.load(f)"
   ]
  },
  {
   "cell_type": "code",
   "execution_count": 18,
   "id": "0eb0a2d9-007c-482c-9365-56382c3463c5",
   "metadata": {
    "tags": []
   },
   "outputs": [],
   "source": [
    "mappings = config['credit_rating_mappings']\n",
    "scale = config['credit_rating_scale']"
   ]
  },
  {
   "cell_type": "code",
   "execution_count": 13,
   "id": "5b3ad13c-5903-49e9-be43-954e80a5865e",
   "metadata": {
    "tags": []
   },
   "outputs": [],
   "source": [
    "# Invert the dictionary\n",
    "invert_dict = {v: k for k, vals in mappings.items() for v in vals}"
   ]
  },
  {
   "cell_type": "code",
   "execution_count": 15,
   "id": "582e0c00-d9ca-4756-b77e-d22742d20ddf",
   "metadata": {
    "tags": []
   },
   "outputs": [],
   "source": [
    "df['rtg_moody_long_term_credit_mapping'] = df['rtg_moody_long_term'].map(invert_dict)\n",
    "df['rtg_sp_lt_lc_issuer_credit_credit_mapping'] = df['rtg_sp_lt_lc_issuer_credit'].map(invert_dict)\n",
    "df['rsk_bb_issuer_default_credit_mapping'] = df['rsk_bb_issuer_default'].map(invert_dict)"
   ]
  },
  {
   "cell_type": "code",
   "execution_count": 19,
   "id": "cdb86b62-6360-4d1e-8506-60cf8d4ecfa3",
   "metadata": {
    "tags": []
   },
   "outputs": [],
   "source": [
    "df['rtg_moody_long_term_credit_mapping_score'] = df['rtg_moody_long_term_credit_mapping'].map(scale)\n",
    "df['rtg_sp_lt_lc_issuer_credit_credit_mapping_score'] = df['rtg_sp_lt_lc_issuer_credit_credit_mapping'].map(scale)\n",
    "df['rsk_bb_issuer_default_credit_mapping_score'] = df['rsk_bb_issuer_default_credit_mapping'].map(scale)"
   ]
  },
  {
   "cell_type": "code",
   "execution_count": 27,
   "id": "c4b803bc-8281-4498-9d5d-9fb6b79e15b4",
   "metadata": {
    "tags": []
   },
   "outputs": [],
   "source": [
    "df[\"model_credit_ratings_credit_mapping_score\"] = df[\"model_credit_ratings\"].map(scale)"
   ]
  },
  {
   "cell_type": "code",
   "execution_count": 29,
   "id": "a9c77429-749a-42ff-94f0-1036df22cf0d",
   "metadata": {
    "tags": []
   },
   "outputs": [],
   "source": [
    "df.to_excel(\"Bok1.xlsx\")"
   ]
  }
 ],
 "metadata": {
  "kernelspec": {
   "display_name": "Python 3 (ipykernel)",
   "language": "python",
   "name": "python3"
  },
  "language_info": {
   "codemirror_mode": {
    "name": "ipython",
    "version": 3
   },
   "file_extension": ".py",
   "mimetype": "text/x-python",
   "name": "python",
   "nbconvert_exporter": "python",
   "pygments_lexer": "ipython3",
   "version": "3.11.5"
  }
 },
 "nbformat": 4,
 "nbformat_minor": 5
}
