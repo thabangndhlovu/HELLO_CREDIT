{
 "cells": [
  {
   "cell_type": "code",
   "execution_count": 1,
   "id": "bb172203-a99d-4c55-bf5a-cf9bc24e1d11",
   "metadata": {
    "tags": []
   },
   "outputs": [],
   "source": [
    "import numpy as np\n",
    "import pandas as pd\n",
    "from quantstats import extend_pandas\n",
    "extend_pandas()"
   ]
  },
  {
   "cell_type": "code",
   "execution_count": 2,
   "id": "2558bc01-fa7f-463e-bda4-3b842e7b28b1",
   "metadata": {
    "tags": []
   },
   "outputs": [],
   "source": [
    "df = pd.read_csv(\"JALSH Index_dataset_2000_2024_clean.csv\", index_col=0, header=[0, 1])\n",
    "classfier = pd.read_excel(\"classification_data.xlsx\", index_col=0)"
   ]
  },
  {
   "cell_type": "code",
   "execution_count": 3,
   "id": "7529fd0d-068e-4767-b61b-2c09f7dd46f5",
   "metadata": {
    "jupyter": {
     "source_hidden": true
    },
    "tags": []
   },
   "outputs": [
    {
     "name": "stdout",
     "output_type": "stream",
     "text": [
      "Sector\n",
      "['Financial' 'Consumer, Non-cyclical' 'Industrial' 'Basic Materials'\n",
      " 'Diversified' 'Consumer, Cyclical' 'Communications' 'Technology' 'Energy']\n",
      "Industry\n",
      "['Banks' 'Commercial Services' 'Electronics' 'Miscellaneous Manufactur'\n",
      " 'Diversified Finan Serv' 'Building Materials' 'Mining'\n",
      " 'Investment Companies' 'Pharmaceuticals' 'Beverages' 'Agriculture'\n",
      " 'REITS' 'Holding Companies-Divers' 'Distribution/Wholesale' 'Food'\n",
      " 'Telecommunications' 'Computers' 'Retail' 'Insurance' 'Real Estate'\n",
      " 'Coal' 'Transportation' 'Entertainment' 'Auto Parts&Equipment'\n",
      " 'Iron/Steel' 'Software' 'Healthcare-Services' 'Private Equity'\n",
      " 'Energy-Alternate Sources' 'Forest Products&Paper' 'Internet' 'Chemicals'\n",
      " 'Engineering&Construction' 'Lodging']\n"
     ]
    }
   ],
   "source": [
    "print(\"Sector\")\n",
    "print(classfier.sector.unique())\n",
    "print(\"Industry\")\n",
    "print(classfier.industry.unique())"
   ]
  },
  {
   "cell_type": "code",
   "execution_count": 4,
   "id": "1a21d82c-d5b1-445c-a1e7-662beecd9e62",
   "metadata": {
    "jupyter": {
     "source_hidden": true
    },
    "tags": []
   },
   "outputs": [],
   "source": [
    "profitability = ['ebitda_margin', 'oper_margin', 'return_on_asset']\n",
    "liquidity = ['tot_debt_to_ebitda', 'tot_debt_to_tot_asset', 'tot_debt_to_tot_cap', 'tot_debt_to_tot_eqy', 'interest_coverage_ratio', 'ebitda_to_tot_int_exp']\n",
    "efficiency = ['invent_to_sales', 'asset_turnover']\n",
    "bloomberg_metrics = ['tot_debt_to_tot_eqy', 'interest_coverage_ratio', 'return_on_asset', 'tot_debt_to_ebitda', 'ebitda_to_tot_int_exp']"
   ]
  },
  {
   "cell_type": "code",
   "execution_count": 5,
   "id": "75a36c47-54ef-486f-acb9-49516fad34c8",
   "metadata": {
    "jupyter": {
     "source_hidden": true
    },
    "tags": []
   },
   "outputs": [],
   "source": [
    "def filter_securities(filters, data=classfier):\n",
    "    \n",
    "    # Apply filters directly on the transposed\n",
    "    filtered_data = data.query(\n",
    "        ' and '.join(f'`{k}` == \"{v}\"' for k, v in filters.items())\n",
    "    )\n",
    "    \n",
    "    return list(filtered_data.index)\n",
    "\n",
    "\n",
    "def get_metrics(df):\n",
    "    df = df.copy()\n",
    "    individual_metrics = {}\n",
    "\n",
    "    # List all metrics together for iteration\n",
    "    all_metrics = profitability + liquidity + efficiency\n",
    "\n",
    "    # Calculate the average of each metric individually for each stock\n",
    "    for stock in df.columns.levels[0]:\n",
    "        individual_metrics[stock] = {}\n",
    "        for metric in all_metrics:\n",
    "            if metric in df[stock].columns:\n",
    "                individual_metrics[stock][metric] = df[stock][metric].mean()\n",
    "\n",
    "    # Convert the results to a DataFrame for better presentation\n",
    "    return pd.DataFrame(individual_metrics)"
   ]
  },
  {
   "cell_type": "code",
   "execution_count": 6,
   "id": "10bdd5a8-2b07-4add-8993-3bb95700336f",
   "metadata": {
    "jupyter": {
     "source_hidden": true
    },
    "tags": []
   },
   "outputs": [],
   "source": [
    "securities = filter_securities({\"sector\":\"Communications\", \"industry\": \"Telecommunications\"})\n",
    "\n",
    "metrics = get_metrics(df)\n",
    "sector_secuirties = metrics.loc[bloomberg_metrics, securities]"
   ]
  },
  {
   "cell_type": "code",
   "execution_count": 8,
   "id": "f4d830a1-7415-48a8-a0b9-8b9b4037388a",
   "metadata": {
    "jupyter": {
     "source_hidden": true
    },
    "tags": []
   },
   "outputs": [],
   "source": [
    "expert_thresholds = {\n",
    "  \"tot_debt_to_tot_eqy\": {\n",
    "    1: (0, 0.5),\n",
    "    0: (0.5, 2),\n",
    "    -1: (2, float(\"inf\")),\n",
    "  },\n",
    "  \"interest_coverage_ratio\": {\n",
    "    1: (8, float(\"inf\")),\n",
    "    0: (3, 8),\n",
    "    -1: (0, 3),\n",
    "  },\n",
    "  \"return_on_asset\": {\n",
    "    1: (0.2, float(\"inf\")),\n",
    "    0: (0.05, 0.2),\n",
    "    -1: (0, 0.05),\n",
    "  },\n",
    "  \"tot_debt_to_ebitda\": {\n",
    "    1: (0, 2),\n",
    "    0: (2, 4),\n",
    "    -1: (4, float(\"inf\")),\n",
    "  },\n",
    "  \"ebitda_to_tot_int_exp\": {\n",
    "    1: (8, float(\"inf\")),\n",
    "    0: (3, 8),\n",
    "    -1: (0, 3),\n",
    "  },\n",
    "}\n"
   ]
  },
  {
   "cell_type": "code",
   "execution_count": 9,
   "id": "c6b7714b-9284-47c9-82f5-73202800c712",
   "metadata": {
    "tags": []
   },
   "outputs": [],
   "source": [
    "def create_industry_thresholds(df, metric_directions):\n",
    "    industry_thresholds = {}\n",
    "\n",
    "    for metric in df.index:\n",
    "        q25 = df.loc[metric].quantile(0.25)\n",
    "        q75 = df.loc[metric].quantile(0.75)\n",
    "        \n",
    "        mn = df.loc[metric].min()\n",
    "        mx = df.loc[metric].max()\n",
    "        \n",
    "        if metric_directions[metric] == \"higher_better\":\n",
    "            industry_thresholds[metric] = {\n",
    "                1: (q75, np.inf),\n",
    "                0: (q25, q75),\n",
    "                -1: (-np.inf, q25)\n",
    "            }\n",
    "        elif metric_directions[metric] == \"lower_better\":\n",
    "            industry_thresholds[metric] = {\n",
    "                1: (-np.inf, q25),\n",
    "                0: (q25, q75),\n",
    "                -1: (q75, np.inf)\n",
    "            }\n",
    "        else:\n",
    "            raise ValueError(f\"Invalid direction specified for metric '{metric}'\")\n",
    "\n",
    "    return industry_thresholds\n",
    "\n",
    "def classify_stock_metrics(df, thresholds):\n",
    "    classified_df = df.copy()\n",
    "\n",
    "    for metric, threshold in thresholds.items():\n",
    "        if metric in df.index:\n",
    "            for category, bounds in threshold.items():\n",
    "                lower, upper = bounds\n",
    "                classified_df.loc[metric] = classified_df.loc[metric].apply(\n",
    "                    lambda x: category if lower <= float(x) < upper else classified_df.loc[metric, classified_df.columns[0]]\n",
    "                )\n",
    "        else:\n",
    "            print(f\"Metric '{metric}' not found in the DataFrame. Skipping classification for this metric.\")\n",
    "\n",
    "    return classified_df\n",
    "\n",
    "def assess_creditworthiness(classified_metrics, weights):\n",
    "    scores = {\n",
    "        1: 3,\n",
    "        0: 2,\n",
    "        -1: 1\n",
    "    }\n",
    "\n",
    "    creditworthiness_scores = {}\n",
    "    default_probabilities = {}\n",
    "\n",
    "    for stock in classified_metrics.columns:\n",
    "        stock_score = 0\n",
    "        for metric, weight in weights.items():\n",
    "            if metric in classified_metrics.index:\n",
    "                category = classified_metrics.loc[metric, stock]\n",
    "                stock_score += scores[category] * weight\n",
    "            else:\n",
    "                print(f\"Metric '{metric}' not found for stock '{stock}'. Skipping this metric.\")\n",
    "        \n",
    "        creditworthiness_scores[stock] = stock_score\n",
    "\n",
    "        # Calculate the probability of default\n",
    "        max_score = sum(weight * 3 for weight in weights.values())\n",
    "        min_score = sum(weight * 1 for weight in weights.values())\n",
    "        normalized_score = (stock_score - min_score) / (max_score - min_score)\n",
    "        default_probability = 1 - normalized_score\n",
    "        default_probabilities[stock] = default_probability\n",
    "\n",
    "    return creditworthiness_scores"
   ]
  },
  {
   "cell_type": "code",
   "execution_count": 29,
   "id": "d447fdd2-d457-4d13-ae46-5d8ad414a7a8",
   "metadata": {
    "tags": []
   },
   "outputs": [],
   "source": [
    "def classify_stock_metrics(df, thresholds, metric_directions):\n",
    "    classified_df = df.copy()\n",
    "\n",
    "    for metric, threshold in thresholds.items():\n",
    "        if metric in df.index:\n",
    "            for category, bounds in threshold.items():\n",
    "                lower, upper = bounds\n",
    "                # Determine if higher or lower values are better for the current metric\n",
    "                direction = metric_directions.get(metric)\n",
    "\n",
    "                # Apply classification logic based on the metric's direction\n",
    "                if direction == \"lower_better\":\n",
    "                    classified_df.loc[metric] = classified_df.loc[metric].apply(\n",
    "                        lambda x: category if lower <= float(x) < upper else classified_df.loc[metric, classified_df.columns[0]]\n",
    "                    )\n",
    "                elif direction == \"higher_better\":\n",
    "                    classified_df.loc[metric] = classified_df.loc[metric].apply(\n",
    "                        lambda x: category if lower < float(x) <= upper else classified_df.loc[metric, classified_df.columns[0]]\n",
    "                    )\n",
    "        else:\n",
    "            print(f\"Metric '{metric}' not found in the DataFrame. Skipping classification for this metric.\")\n",
    "\n",
    "    return classified_df\n"
   ]
  },
  {
   "cell_type": "code",
   "execution_count": 30,
   "id": "1e29319e-3fb3-48bc-acbd-57883f817fc8",
   "metadata": {
    "tags": []
   },
   "outputs": [
    {
     "data": {
      "text/html": [
       "<div>\n",
       "<style scoped>\n",
       "    .dataframe tbody tr th:only-of-type {\n",
       "        vertical-align: middle;\n",
       "    }\n",
       "\n",
       "    .dataframe tbody tr th {\n",
       "        vertical-align: top;\n",
       "    }\n",
       "\n",
       "    .dataframe thead th {\n",
       "        text-align: right;\n",
       "    }\n",
       "</style>\n",
       "<table border=\"1\" class=\"dataframe\">\n",
       "  <thead>\n",
       "    <tr style=\"text-align: right;\">\n",
       "      <th></th>\n",
       "      <th>BLU SJ Equity</th>\n",
       "      <th>MTN SJ Equity</th>\n",
       "      <th>TKG SJ Equity</th>\n",
       "      <th>VOD SJ Equity</th>\n",
       "    </tr>\n",
       "  </thead>\n",
       "  <tbody>\n",
       "    <tr>\n",
       "      <th>tot_debt_to_tot_eqy</th>\n",
       "      <td>1.0</td>\n",
       "      <td>1.0</td>\n",
       "      <td>1.0</td>\n",
       "      <td>1.0</td>\n",
       "    </tr>\n",
       "    <tr>\n",
       "      <th>interest_coverage_ratio</th>\n",
       "      <td>-1.0</td>\n",
       "      <td>-1.0</td>\n",
       "      <td>-1.0</td>\n",
       "      <td>0.0</td>\n",
       "    </tr>\n",
       "    <tr>\n",
       "      <th>return_on_asset</th>\n",
       "      <td>-1.0</td>\n",
       "      <td>-1.0</td>\n",
       "      <td>-1.0</td>\n",
       "      <td>-1.0</td>\n",
       "    </tr>\n",
       "    <tr>\n",
       "      <th>tot_debt_to_ebitda</th>\n",
       "      <td>0.0</td>\n",
       "      <td>0.0</td>\n",
       "      <td>0.0</td>\n",
       "      <td>0.0</td>\n",
       "    </tr>\n",
       "    <tr>\n",
       "      <th>ebitda_to_tot_int_exp</th>\n",
       "      <td>-1.0</td>\n",
       "      <td>-1.0</td>\n",
       "      <td>-1.0</td>\n",
       "      <td>-1.0</td>\n",
       "    </tr>\n",
       "  </tbody>\n",
       "</table>\n",
       "</div>"
      ],
      "text/plain": [
       "                         BLU SJ Equity  MTN SJ Equity  TKG SJ Equity  \\\n",
       "tot_debt_to_tot_eqy                1.0            1.0            1.0   \n",
       "interest_coverage_ratio           -1.0           -1.0           -1.0   \n",
       "return_on_asset                   -1.0           -1.0           -1.0   \n",
       "tot_debt_to_ebitda                 0.0            0.0            0.0   \n",
       "ebitda_to_tot_int_exp             -1.0           -1.0           -1.0   \n",
       "\n",
       "                         VOD SJ Equity  \n",
       "tot_debt_to_tot_eqy                1.0  \n",
       "interest_coverage_ratio            0.0  \n",
       "return_on_asset                   -1.0  \n",
       "tot_debt_to_ebitda                 0.0  \n",
       "ebitda_to_tot_int_exp             -1.0  "
      ]
     },
     "execution_count": 30,
     "metadata": {},
     "output_type": "execute_result"
    }
   ],
   "source": [
    "classify_stock_metrics(sector_secuirties, industry_thresholds, metric_directions)"
   ]
  },
  {
   "cell_type": "code",
   "execution_count": null,
   "id": "db33d4a6-31c1-41b0-a2e8-d2a39bc1cf2d",
   "metadata": {
    "tags": []
   },
   "outputs": [],
   "source": []
  },
  {
   "cell_type": "code",
   "execution_count": null,
   "id": "4ab197ff-8237-4198-950c-830d0333be78",
   "metadata": {},
   "outputs": [],
   "source": []
  },
  {
   "cell_type": "code",
   "execution_count": 10,
   "id": "f0e0ce71-afa8-48c6-bd61-c5dc36a98f57",
   "metadata": {
    "tags": []
   },
   "outputs": [],
   "source": [
    "metric_directions = {\n",
    "    \"tot_debt_to_tot_eqy\": \"lower_better\",\n",
    "    \"interest_coverage_ratio\": \"higher_better\",\n",
    "    \"return_on_asset\": \"higher_better\",\n",
    "    \"tot_debt_to_ebitda\": \"lower_better\",\n",
    "    \"ebitda_to_tot_int_exp\": \"higher_better\"\n",
    "}\n",
    "\n",
    "weights = {\n",
    "    \"tot_debt_to_tot_eqy\": 0.25,  \n",
    "    \"interest_coverage_ratio\": 0.30,  \n",
    "    \"return_on_asset\": 0.10,  \n",
    "    \"tot_debt_to_ebitda\": 0.25,  \n",
    "    \"ebitda_to_tot_int_exp\": 0.10 \n",
    "}\n",
    "\n",
    "industry_thresholds = create_industry_thresholds(sector_secuirties, metric_directions)\n",
    "classified_metrics = classify_stock_metrics(sector_secuirties, industry_thresholds) # or expert_thresholds\n",
    "creditworthiness_scores = assess_creditworthiness(classified_metrics, weights)"
   ]
  },
  {
   "cell_type": "code",
   "execution_count": 11,
   "id": "c5d364dc-22c2-4c74-96e9-7b1f2581895a",
   "metadata": {
    "tags": []
   },
   "outputs": [
    {
     "name": "stdout",
     "output_type": "stream",
     "text": [
      "Creditworthiness Scores:\n",
      "{'BLU SJ Equity': 1.7500000000000002, 'MTN SJ Equity': 1.7500000000000002, 'TKG SJ Equity': 1.7500000000000002, 'VOD SJ Equity': 2.0500000000000003}\n"
     ]
    }
   ],
   "source": [
    "print(\"Creditworthiness Scores:\")\n",
    "print(creditworthiness_scores)"
   ]
  },
  {
   "cell_type": "code",
   "execution_count": 13,
   "id": "959e7306-793d-4f9c-b9a1-fefd8b039c04",
   "metadata": {
    "tags": []
   },
   "outputs": [
    {
     "data": {
      "text/html": [
       "<div>\n",
       "<style scoped>\n",
       "    .dataframe tbody tr th:only-of-type {\n",
       "        vertical-align: middle;\n",
       "    }\n",
       "\n",
       "    .dataframe tbody tr th {\n",
       "        vertical-align: top;\n",
       "    }\n",
       "\n",
       "    .dataframe thead th {\n",
       "        text-align: right;\n",
       "    }\n",
       "</style>\n",
       "<table border=\"1\" class=\"dataframe\">\n",
       "  <thead>\n",
       "    <tr style=\"text-align: right;\">\n",
       "      <th></th>\n",
       "      <th>BLU SJ Equity</th>\n",
       "      <th>MTN SJ Equity</th>\n",
       "      <th>TKG SJ Equity</th>\n",
       "      <th>VOD SJ Equity</th>\n",
       "    </tr>\n",
       "  </thead>\n",
       "  <tbody>\n",
       "    <tr>\n",
       "      <th>tot_debt_to_tot_eqy</th>\n",
       "      <td>1.0</td>\n",
       "      <td>1.0</td>\n",
       "      <td>1.0</td>\n",
       "      <td>1.0</td>\n",
       "    </tr>\n",
       "    <tr>\n",
       "      <th>interest_coverage_ratio</th>\n",
       "      <td>-1.0</td>\n",
       "      <td>-1.0</td>\n",
       "      <td>-1.0</td>\n",
       "      <td>0.0</td>\n",
       "    </tr>\n",
       "    <tr>\n",
       "      <th>return_on_asset</th>\n",
       "      <td>-1.0</td>\n",
       "      <td>-1.0</td>\n",
       "      <td>-1.0</td>\n",
       "      <td>-1.0</td>\n",
       "    </tr>\n",
       "    <tr>\n",
       "      <th>tot_debt_to_ebitda</th>\n",
       "      <td>0.0</td>\n",
       "      <td>0.0</td>\n",
       "      <td>0.0</td>\n",
       "      <td>0.0</td>\n",
       "    </tr>\n",
       "    <tr>\n",
       "      <th>ebitda_to_tot_int_exp</th>\n",
       "      <td>-1.0</td>\n",
       "      <td>-1.0</td>\n",
       "      <td>-1.0</td>\n",
       "      <td>-1.0</td>\n",
       "    </tr>\n",
       "  </tbody>\n",
       "</table>\n",
       "</div>"
      ],
      "text/plain": [
       "                         BLU SJ Equity  MTN SJ Equity  TKG SJ Equity  \\\n",
       "tot_debt_to_tot_eqy                1.0            1.0            1.0   \n",
       "interest_coverage_ratio           -1.0           -1.0           -1.0   \n",
       "return_on_asset                   -1.0           -1.0           -1.0   \n",
       "tot_debt_to_ebitda                 0.0            0.0            0.0   \n",
       "ebitda_to_tot_int_exp             -1.0           -1.0           -1.0   \n",
       "\n",
       "                         VOD SJ Equity  \n",
       "tot_debt_to_tot_eqy                1.0  \n",
       "interest_coverage_ratio            0.0  \n",
       "return_on_asset                   -1.0  \n",
       "tot_debt_to_ebitda                 0.0  \n",
       "ebitda_to_tot_int_exp             -1.0  "
      ]
     },
     "execution_count": 13,
     "metadata": {},
     "output_type": "execute_result"
    }
   ],
   "source": [
    "classified_metrics"
   ]
  },
  {
   "cell_type": "code",
   "execution_count": 21,
   "id": "404969f0-8baf-48fe-93dd-ed2b9c62e3de",
   "metadata": {
    "tags": []
   },
   "outputs": [
    {
     "data": {
      "text/plain": [
       "BLU SJ Equity    32.809328\n",
       "MTN SJ Equity    65.116785\n",
       "TKG SJ Equity    56.593172\n",
       "VOD SJ Equity    65.004940\n",
       "Name: tot_debt_to_tot_eqy, dtype: float64"
      ]
     },
     "execution_count": 21,
     "metadata": {},
     "output_type": "execute_result"
    }
   ],
   "source": [
    "sector_secuirties.loc[\"tot_debt_to_tot_eqy\"]"
   ]
  },
  {
   "cell_type": "code",
   "execution_count": 22,
   "id": "58d3fa32-cc8c-4a10-abb0-d0d07e6239ed",
   "metadata": {
    "tags": []
   },
   "outputs": [
    {
     "data": {
      "text/plain": [
       "50.647210600805735"
      ]
     },
     "execution_count": 22,
     "metadata": {},
     "output_type": "execute_result"
    }
   ],
   "source": [
    "sector_secuirties.loc[\"tot_debt_to_tot_eqy\"].quantile(.25)\n"
   ]
  },
  {
   "cell_type": "code",
   "execution_count": null,
   "id": "c102a91c-fe86-4ff7-b29f-cc7395b7a7f1",
   "metadata": {},
   "outputs": [],
   "source": []
  },
  {
   "cell_type": "code",
   "execution_count": null,
   "id": "325690a7-96c0-484f-8164-78115309075b",
   "metadata": {},
   "outputs": [],
   "source": []
  },
  {
   "cell_type": "code",
   "execution_count": null,
   "id": "5bca8d52-d18e-45a0-a6b1-f2c8a1f0c72c",
   "metadata": {},
   "outputs": [],
   "source": []
  },
  {
   "cell_type": "code",
   "execution_count": 12,
   "id": "72d6aac1-6e4a-4dd6-8d44-9915081c5bbd",
   "metadata": {
    "tags": []
   },
   "outputs": [
    {
     "data": {
      "text/html": [
       "<div>\n",
       "<style scoped>\n",
       "    .dataframe tbody tr th:only-of-type {\n",
       "        vertical-align: middle;\n",
       "    }\n",
       "\n",
       "    .dataframe tbody tr th {\n",
       "        vertical-align: top;\n",
       "    }\n",
       "\n",
       "    .dataframe thead th {\n",
       "        text-align: right;\n",
       "    }\n",
       "</style>\n",
       "<table border=\"1\" class=\"dataframe\">\n",
       "  <thead>\n",
       "    <tr style=\"text-align: right;\">\n",
       "      <th></th>\n",
       "      <th>BLU SJ Equity</th>\n",
       "      <th>MTN SJ Equity</th>\n",
       "      <th>TKG SJ Equity</th>\n",
       "      <th>VOD SJ Equity</th>\n",
       "    </tr>\n",
       "  </thead>\n",
       "  <tbody>\n",
       "    <tr>\n",
       "      <th>tot_debt_to_tot_eqy</th>\n",
       "      <td>32.809328</td>\n",
       "      <td>65.116785</td>\n",
       "      <td>56.593172</td>\n",
       "      <td>65.004940</td>\n",
       "    </tr>\n",
       "    <tr>\n",
       "      <th>interest_coverage_ratio</th>\n",
       "      <td>6.346575</td>\n",
       "      <td>8.547827</td>\n",
       "      <td>3.495262</td>\n",
       "      <td>9.790341</td>\n",
       "    </tr>\n",
       "    <tr>\n",
       "      <th>return_on_asset</th>\n",
       "      <td>4.215240</td>\n",
       "      <td>7.405181</td>\n",
       "      <td>6.401370</td>\n",
       "      <td>16.143841</td>\n",
       "    </tr>\n",
       "    <tr>\n",
       "      <th>tot_debt_to_ebitda</th>\n",
       "      <td>1.150158</td>\n",
       "      <td>1.305329</td>\n",
       "      <td>1.430977</td>\n",
       "      <td>0.793112</td>\n",
       "    </tr>\n",
       "    <tr>\n",
       "      <th>ebitda_to_tot_int_exp</th>\n",
       "      <td>7.547418</td>\n",
       "      <td>13.114130</td>\n",
       "      <td>8.796523</td>\n",
       "      <td>13.355185</td>\n",
       "    </tr>\n",
       "  </tbody>\n",
       "</table>\n",
       "</div>"
      ],
      "text/plain": [
       "                         BLU SJ Equity  MTN SJ Equity  TKG SJ Equity  \\\n",
       "tot_debt_to_tot_eqy          32.809328      65.116785      56.593172   \n",
       "interest_coverage_ratio       6.346575       8.547827       3.495262   \n",
       "return_on_asset               4.215240       7.405181       6.401370   \n",
       "tot_debt_to_ebitda            1.150158       1.305329       1.430977   \n",
       "ebitda_to_tot_int_exp         7.547418      13.114130       8.796523   \n",
       "\n",
       "                         VOD SJ Equity  \n",
       "tot_debt_to_tot_eqy          65.004940  \n",
       "interest_coverage_ratio       9.790341  \n",
       "return_on_asset              16.143841  \n",
       "tot_debt_to_ebitda            0.793112  \n",
       "ebitda_to_tot_int_exp        13.355185  "
      ]
     },
     "execution_count": 12,
     "metadata": {},
     "output_type": "execute_result"
    }
   ],
   "source": [
    "sector_secuirties"
   ]
  },
  {
   "cell_type": "code",
   "execution_count": 43,
   "id": "6b79e2e8-ef42-4392-877a-309c8e29c999",
   "metadata": {
    "tags": []
   },
   "outputs": [],
   "source": [
    "def create_industry_thresholds_ratios(df, metric_directions):\n",
    "    industry_thresholds = {}\n",
    "\n",
    "    for metric in df.index:\n",
    "        q25 = df.loc[metric].quantile(0.25)\n",
    "        q75 = df.loc[metric].quantile(0.75)\n",
    "        \n",
    "        mn = df.loc[metric].min()\n",
    "        mx = df.loc[metric].max()\n",
    "        \n",
    "        if metric_directions[metric] == \"higher_better\":\n",
    "            industry_thresholds[metric] = q25, np.inf,\n",
    "                \n",
    "        elif metric_directions[metric] == \"lower_better\":\n",
    "            industry_thresholds[metric] = -np.inf, q25\n",
    "        else:\n",
    "            raise ValueError(f\"Invalid direction specified for metric '{metric}'\")\n",
    "    return industry_thresholds"
   ]
  },
  {
   "cell_type": "code",
   "execution_count": 45,
   "id": "66b56e60-bbbc-4b28-9c28-540533c2f53f",
   "metadata": {
    "tags": []
   },
   "outputs": [],
   "source": [
    "rh = create_industry_thresholds_ratios(sector_secuirties, metric_directions)"
   ]
  },
  {
   "cell_type": "code",
   "execution_count": 46,
   "id": "0b1c6114-c91e-4eab-a2ae-51c49e7021d2",
   "metadata": {
    "tags": []
   },
   "outputs": [],
   "source": [
    "def score_ratio(ratio, healthy_range, inverse=False):\n",
    "    \"\"\"\n",
    "    Converts a financial ratio to a score based on its deviation from a healthy range.\n",
    "    :param ratio: The financial ratio value.\n",
    "    :param healthy_range: A tuple indicating the healthy range of values for the ratio.\n",
    "    :param inverse: Set to True if lower values are better for the ratio.\n",
    "    :return: A score as a float.\n",
    "    \"\"\"\n",
    "    if inverse:\n",
    "        if ratio < healthy_range[0]:\n",
    "            return (healthy_range[0] - ratio) / healthy_range[0]\n",
    "        elif ratio > healthy_range[1]:\n",
    "            return -(ratio - healthy_range[1]) / healthy_range[1]\n",
    "    else:\n",
    "        if ratio > healthy_range[1]:\n",
    "            return (ratio - healthy_range[1]) / healthy_range[1]\n",
    "        elif ratio < healthy_range[0]:\n",
    "            return -(healthy_range[0] - ratio) / healthy_range[0]\n",
    "    return 0  # Ratio is within the healthy range"
   ]
  },
  {
   "cell_type": "code",
   "execution_count": null,
   "id": "2903fc69-a2ca-4e44-9a44-e1ca0d403095",
   "metadata": {},
   "outputs": [],
   "source": []
  },
  {
   "cell_type": "code",
   "execution_count": 60,
   "id": "5ecd280e-75c6-4773-bfd9-e93f620802e2",
   "metadata": {
    "tags": []
   },
   "outputs": [],
   "source": [
    "df = sector_secuirties.T.copy()"
   ]
  },
  {
   "cell_type": "code",
   "execution_count": 36,
   "id": "2000c6ab-b91a-4990-bba8-3e2bbbec5f0a",
   "metadata": {
    "tags": []
   },
   "outputs": [],
   "source": [
    "import joblib"
   ]
  },
  {
   "cell_type": "code",
   "execution_count": 38,
   "id": "40ce2da1-68ce-4d12-aa47-f51321fe48e2",
   "metadata": {
    "tags": []
   },
   "outputs": [
    {
     "data": {
      "text/plain": [
       "['metrics.joblib']"
      ]
     },
     "execution_count": 38,
     "metadata": {},
     "output_type": "execute_result"
    }
   ],
   "source": [
    "joblib.dump(industry_thresholds, \"metrics.joblib\")"
   ]
  },
  {
   "cell_type": "code",
   "execution_count": 62,
   "id": "dacd5189-aa46-418b-b137-9fa5a2e92c2f",
   "metadata": {
    "tags": []
   },
   "outputs": [
    {
     "ename": "KeyError",
     "evalue": "'tot_debt_to_tot_eqy'",
     "output_type": "error",
     "traceback": [
      "\u001b[1;31m---------------------------------------------------------------------------\u001b[0m",
      "\u001b[1;31mKeyError\u001b[0m                                  Traceback (most recent call last)",
      "Cell \u001b[1;32mIn[62], line 27\u001b[0m\n\u001b[0;32m     25\u001b[0m \u001b[38;5;66;03m# Apply classification for each metric\u001b[39;00m\n\u001b[0;32m     26\u001b[0m \u001b[38;5;28;01mfor\u001b[39;00m metric \u001b[38;5;129;01min\u001b[39;00m industry_thresholds\u001b[38;5;241m.\u001b[39mkeys():\n\u001b[1;32m---> 27\u001b[0m     df[\u001b[38;5;124mf\u001b[39m\u001b[38;5;124m'\u001b[39m\u001b[38;5;132;01m{\u001b[39;00mmetric\u001b[38;5;132;01m}\u001b[39;00m\u001b[38;5;124m_Class\u001b[39m\u001b[38;5;124m'\u001b[39m] \u001b[38;5;241m=\u001b[39m df[metric]\u001b[38;5;241m.\u001b[39mapply(\u001b[38;5;28;01mlambda\u001b[39;00m x: classify_metric(x, metric))\n",
      "File \u001b[1;32m~\\AppData\\Roaming\\Python\\Python311\\site-packages\\pandas\\core\\series.py:4764\u001b[0m, in \u001b[0;36mSeries.apply\u001b[1;34m(self, func, convert_dtype, args, by_row, **kwargs)\u001b[0m\n\u001b[0;32m   4629\u001b[0m \u001b[38;5;28;01mdef\u001b[39;00m \u001b[38;5;21mapply\u001b[39m(\n\u001b[0;32m   4630\u001b[0m     \u001b[38;5;28mself\u001b[39m,\n\u001b[0;32m   4631\u001b[0m     func: AggFuncType,\n\u001b[1;32m   (...)\u001b[0m\n\u001b[0;32m   4636\u001b[0m     \u001b[38;5;241m*\u001b[39m\u001b[38;5;241m*\u001b[39mkwargs,\n\u001b[0;32m   4637\u001b[0m ) \u001b[38;5;241m-\u001b[39m\u001b[38;5;241m>\u001b[39m DataFrame \u001b[38;5;241m|\u001b[39m Series:\n\u001b[0;32m   4638\u001b[0m \u001b[38;5;250m    \u001b[39m\u001b[38;5;124;03m\"\"\"\u001b[39;00m\n\u001b[0;32m   4639\u001b[0m \u001b[38;5;124;03m    Invoke function on values of Series.\u001b[39;00m\n\u001b[0;32m   4640\u001b[0m \n\u001b[1;32m   (...)\u001b[0m\n\u001b[0;32m   4755\u001b[0m \u001b[38;5;124;03m    dtype: float64\u001b[39;00m\n\u001b[0;32m   4756\u001b[0m \u001b[38;5;124;03m    \"\"\"\u001b[39;00m\n\u001b[0;32m   4757\u001b[0m     \u001b[38;5;28;01mreturn\u001b[39;00m SeriesApply(\n\u001b[0;32m   4758\u001b[0m         \u001b[38;5;28mself\u001b[39m,\n\u001b[0;32m   4759\u001b[0m         func,\n\u001b[0;32m   4760\u001b[0m         convert_dtype\u001b[38;5;241m=\u001b[39mconvert_dtype,\n\u001b[0;32m   4761\u001b[0m         by_row\u001b[38;5;241m=\u001b[39mby_row,\n\u001b[0;32m   4762\u001b[0m         args\u001b[38;5;241m=\u001b[39margs,\n\u001b[0;32m   4763\u001b[0m         kwargs\u001b[38;5;241m=\u001b[39mkwargs,\n\u001b[1;32m-> 4764\u001b[0m     )\u001b[38;5;241m.\u001b[39mapply()\n",
      "File \u001b[1;32m~\\AppData\\Roaming\\Python\\Python311\\site-packages\\pandas\\core\\apply.py:1209\u001b[0m, in \u001b[0;36mSeriesApply.apply\u001b[1;34m(self)\u001b[0m\n\u001b[0;32m   1206\u001b[0m     \u001b[38;5;28;01mreturn\u001b[39;00m \u001b[38;5;28mself\u001b[39m\u001b[38;5;241m.\u001b[39mapply_compat()\n\u001b[0;32m   1208\u001b[0m \u001b[38;5;66;03m# self.func is Callable\u001b[39;00m\n\u001b[1;32m-> 1209\u001b[0m \u001b[38;5;28;01mreturn\u001b[39;00m \u001b[38;5;28mself\u001b[39m\u001b[38;5;241m.\u001b[39mapply_standard()\n",
      "File \u001b[1;32m~\\AppData\\Roaming\\Python\\Python311\\site-packages\\pandas\\core\\apply.py:1289\u001b[0m, in \u001b[0;36mSeriesApply.apply_standard\u001b[1;34m(self)\u001b[0m\n\u001b[0;32m   1283\u001b[0m \u001b[38;5;66;03m# row-wise access\u001b[39;00m\n\u001b[0;32m   1284\u001b[0m \u001b[38;5;66;03m# apply doesn't have a `na_action` keyword and for backward compat reasons\u001b[39;00m\n\u001b[0;32m   1285\u001b[0m \u001b[38;5;66;03m# we need to give `na_action=\"ignore\"` for categorical data.\u001b[39;00m\n\u001b[0;32m   1286\u001b[0m \u001b[38;5;66;03m# TODO: remove the `na_action=\"ignore\"` when that default has been changed in\u001b[39;00m\n\u001b[0;32m   1287\u001b[0m \u001b[38;5;66;03m#  Categorical (GH51645).\u001b[39;00m\n\u001b[0;32m   1288\u001b[0m action \u001b[38;5;241m=\u001b[39m \u001b[38;5;124m\"\u001b[39m\u001b[38;5;124mignore\u001b[39m\u001b[38;5;124m\"\u001b[39m \u001b[38;5;28;01mif\u001b[39;00m \u001b[38;5;28misinstance\u001b[39m(obj\u001b[38;5;241m.\u001b[39mdtype, CategoricalDtype) \u001b[38;5;28;01melse\u001b[39;00m \u001b[38;5;28;01mNone\u001b[39;00m\n\u001b[1;32m-> 1289\u001b[0m mapped \u001b[38;5;241m=\u001b[39m obj\u001b[38;5;241m.\u001b[39m_map_values(\n\u001b[0;32m   1290\u001b[0m     mapper\u001b[38;5;241m=\u001b[39mcurried, na_action\u001b[38;5;241m=\u001b[39maction, convert\u001b[38;5;241m=\u001b[39m\u001b[38;5;28mself\u001b[39m\u001b[38;5;241m.\u001b[39mconvert_dtype\n\u001b[0;32m   1291\u001b[0m )\n\u001b[0;32m   1293\u001b[0m \u001b[38;5;28;01mif\u001b[39;00m \u001b[38;5;28mlen\u001b[39m(mapped) \u001b[38;5;129;01mand\u001b[39;00m \u001b[38;5;28misinstance\u001b[39m(mapped[\u001b[38;5;241m0\u001b[39m], ABCSeries):\n\u001b[0;32m   1294\u001b[0m     \u001b[38;5;66;03m# GH#43986 Need to do list(mapped) in order to get treated as nested\u001b[39;00m\n\u001b[0;32m   1295\u001b[0m     \u001b[38;5;66;03m#  See also GH#25959 regarding EA support\u001b[39;00m\n\u001b[0;32m   1296\u001b[0m     \u001b[38;5;28;01mreturn\u001b[39;00m obj\u001b[38;5;241m.\u001b[39m_constructor_expanddim(\u001b[38;5;28mlist\u001b[39m(mapped), index\u001b[38;5;241m=\u001b[39mobj\u001b[38;5;241m.\u001b[39mindex)\n",
      "File \u001b[1;32m~\\AppData\\Roaming\\Python\\Python311\\site-packages\\pandas\\core\\base.py:921\u001b[0m, in \u001b[0;36mIndexOpsMixin._map_values\u001b[1;34m(self, mapper, na_action, convert)\u001b[0m\n\u001b[0;32m    918\u001b[0m \u001b[38;5;28;01mif\u001b[39;00m \u001b[38;5;28misinstance\u001b[39m(arr, ExtensionArray):\n\u001b[0;32m    919\u001b[0m     \u001b[38;5;28;01mreturn\u001b[39;00m arr\u001b[38;5;241m.\u001b[39mmap(mapper, na_action\u001b[38;5;241m=\u001b[39mna_action)\n\u001b[1;32m--> 921\u001b[0m \u001b[38;5;28;01mreturn\u001b[39;00m algorithms\u001b[38;5;241m.\u001b[39mmap_array(arr, mapper, na_action\u001b[38;5;241m=\u001b[39mna_action, convert\u001b[38;5;241m=\u001b[39mconvert)\n",
      "File \u001b[1;32m~\\AppData\\Roaming\\Python\\Python311\\site-packages\\pandas\\core\\algorithms.py:1814\u001b[0m, in \u001b[0;36mmap_array\u001b[1;34m(arr, mapper, na_action, convert)\u001b[0m\n\u001b[0;32m   1812\u001b[0m values \u001b[38;5;241m=\u001b[39m arr\u001b[38;5;241m.\u001b[39mastype(\u001b[38;5;28mobject\u001b[39m, copy\u001b[38;5;241m=\u001b[39m\u001b[38;5;28;01mFalse\u001b[39;00m)\n\u001b[0;32m   1813\u001b[0m \u001b[38;5;28;01mif\u001b[39;00m na_action \u001b[38;5;129;01mis\u001b[39;00m \u001b[38;5;28;01mNone\u001b[39;00m:\n\u001b[1;32m-> 1814\u001b[0m     \u001b[38;5;28;01mreturn\u001b[39;00m lib\u001b[38;5;241m.\u001b[39mmap_infer(values, mapper, convert\u001b[38;5;241m=\u001b[39mconvert)\n\u001b[0;32m   1815\u001b[0m \u001b[38;5;28;01melse\u001b[39;00m:\n\u001b[0;32m   1816\u001b[0m     \u001b[38;5;28;01mreturn\u001b[39;00m lib\u001b[38;5;241m.\u001b[39mmap_infer_mask(\n\u001b[0;32m   1817\u001b[0m         values, mapper, mask\u001b[38;5;241m=\u001b[39misna(values)\u001b[38;5;241m.\u001b[39mview(np\u001b[38;5;241m.\u001b[39muint8), convert\u001b[38;5;241m=\u001b[39mconvert\n\u001b[0;32m   1818\u001b[0m     )\n",
      "File \u001b[1;32mlib.pyx:2926\u001b[0m, in \u001b[0;36mpandas._libs.lib.map_infer\u001b[1;34m()\u001b[0m\n",
      "Cell \u001b[1;32mIn[62], line 27\u001b[0m, in \u001b[0;36m<lambda>\u001b[1;34m(x)\u001b[0m\n\u001b[0;32m     25\u001b[0m \u001b[38;5;66;03m# Apply classification for each metric\u001b[39;00m\n\u001b[0;32m     26\u001b[0m \u001b[38;5;28;01mfor\u001b[39;00m metric \u001b[38;5;129;01min\u001b[39;00m industry_thresholds\u001b[38;5;241m.\u001b[39mkeys():\n\u001b[1;32m---> 27\u001b[0m     df[\u001b[38;5;124mf\u001b[39m\u001b[38;5;124m'\u001b[39m\u001b[38;5;132;01m{\u001b[39;00mmetric\u001b[38;5;132;01m}\u001b[39;00m\u001b[38;5;124m_Class\u001b[39m\u001b[38;5;124m'\u001b[39m] \u001b[38;5;241m=\u001b[39m df[metric]\u001b[38;5;241m.\u001b[39mapply(\u001b[38;5;28;01mlambda\u001b[39;00m x: classify_metric(x, metric))\n",
      "Cell \u001b[1;32mIn[62], line 15\u001b[0m, in \u001b[0;36mclassify_metric\u001b[1;34m(value, metric)\u001b[0m\n\u001b[0;32m     14\u001b[0m \u001b[38;5;28;01mdef\u001b[39;00m \u001b[38;5;21mclassify_metric\u001b[39m(value, metric):\n\u001b[1;32m---> 15\u001b[0m     ranges \u001b[38;5;241m=\u001b[39m classification_ranges[metric]\n\u001b[0;32m     16\u001b[0m     \u001b[38;5;28;01mfor\u001b[39;00m classification, (low, high) \u001b[38;5;129;01min\u001b[39;00m ranges\u001b[38;5;241m.\u001b[39mitems():\n\u001b[0;32m     17\u001b[0m         \u001b[38;5;28;01mif\u001b[39;00m low \u001b[38;5;129;01mis\u001b[39;00m \u001b[38;5;28;01mNone\u001b[39;00m \u001b[38;5;129;01mand\u001b[39;00m value \u001b[38;5;241m<\u001b[39m\u001b[38;5;241m=\u001b[39m high:\n",
      "\u001b[1;31mKeyError\u001b[0m: 'tot_debt_to_tot_eqy'"
     ]
    }
   ],
   "source": [
    "# Classification values and ranges\n",
    "classification_values = {'Poor': 1, 'Fair': 2, 'Good': 3}\n",
    "\n",
    "classification_ranges = {\n",
    "    'Return_on_Assets': {'Poor': (None, 0.02), 'Fair': (0.02, 0.05), 'Good': (0.05, None)},\n",
    "    'Operating_Margin_Ratio': {'Poor': (None, 0.10), 'Fair': (0.10, 0.20), 'Good': (0.20, None)},\n",
    "    'Net_Profit_Margin': {'Poor': (None, 0.05), 'Fair': (0.05, 0.10), 'Good': (0.10, None)},\n",
    "    'Debt_to_EBITDA': {'Good': (None, 2.0), 'Fair': (2.0, 4.0), 'Poor': (4.0, None)},  # Note: Inverted logic for Debt to EBITDA\n",
    "    'EBITDA_to_Interest_Expense': {'Poor': (None, 2.0), 'Fair': (2.0, 4.0), 'Good': (4.0, None)},\n",
    "    'Asset_Turnover': {'Poor': (None, 0.5), 'Fair': (0.5, 1.5), 'Good': (1.5, None)}\n",
    "}\n",
    "\n",
    "# Function to classify metric values into \"Poor\", \"Fair\", and \"Good\"\n",
    "def classify_metric(value, metric):\n",
    "    ranges = classification_ranges[metric]\n",
    "    for classification, (low, high) in ranges.items():\n",
    "        if low is None and value <= high:\n",
    "            return classification\n",
    "        elif high is None and value > low:\n",
    "            return classification\n",
    "        elif low is not None and high is not None and low <= value <= high:\n",
    "            return classification\n",
    "    return \"Unknown\"\n",
    "\n",
    "# Apply classification for each metric\n",
    "for metric in industry_thresholds.keys():\n",
    "    df[f'{metric}_Class'] = df[metric].apply(lambda x: classify_metric(x, metric))\n",
    "\n",
    "# # Function to calculate overall score and classification\n",
    "# def calculate_and_classify_overall(row):\n",
    "#     scores = [classification_values[row[f'{metric}_Class']] for metric in classification_ranges]\n",
    "#     overall_score = sum(scores) / len(scores)\n",
    "#     overall_class = 'Good' if overall_score > 2.5 else 'Fair' if overall_score > 1.5 else 'Poor'\n",
    "#     return pd.Series([overall_score, overall_class], index=['Overall_Score', 'Overall_Class'])\n",
    "\n",
    "# # Calculate overall scores and classifications\n",
    "# df[['Overall_Score', 'Overall_Class']] = df.apply(calculate_and_classify_overall, axis=1)"
   ]
  },
  {
   "cell_type": "code",
   "execution_count": 64,
   "id": "215589b9-0ca3-4f7e-960a-e2c0e788e826",
   "metadata": {
    "tags": []
   },
   "outputs": [
    {
     "data": {
      "text/plain": [
       "BLU SJ Equity    32.809328\n",
       "MTN SJ Equity    65.116785\n",
       "TKG SJ Equity    56.593172\n",
       "VOD SJ Equity    65.004940\n",
       "Name: tot_debt_to_tot_eqy, dtype: float64"
      ]
     },
     "execution_count": 64,
     "metadata": {},
     "output_type": "execute_result"
    }
   ],
   "source": [
    "df[\"tot_debt_to_tot_eqy\"]"
   ]
  },
  {
   "cell_type": "code",
   "execution_count": null,
   "id": "4845b487-bcb4-47ef-a7df-09a954cb3217",
   "metadata": {},
   "outputs": [],
   "source": []
  }
 ],
 "metadata": {
  "kernelspec": {
   "display_name": "Python 3 (ipykernel)",
   "language": "python",
   "name": "python3"
  },
  "language_info": {
   "codemirror_mode": {
    "name": "ipython",
    "version": 3
   },
   "file_extension": ".py",
   "mimetype": "text/x-python",
   "name": "python",
   "nbconvert_exporter": "python",
   "pygments_lexer": "ipython3",
   "version": "3.11.5"
  }
 },
 "nbformat": 4,
 "nbformat_minor": 5
}
