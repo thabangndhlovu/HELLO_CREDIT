{
 "cells": [
  {
   "cell_type": "markdown",
   "metadata": {},
   "source": [
    "# **Hello Credit 0.0.3 (Model Demo)**\n",
    "\n",
    "\n",
    "# NOTES:\n",
    "\n",
    "* Returns are more important than the methodology\n",
    "* Backtest against Moody's, Bloomberg Models\n",
    "* \"Do not let, perfect stand in the way of good\"\n"
   ]
  },
  {
   "cell_type": "code",
   "execution_count": 1,
   "metadata": {
    "tags": []
   },
   "outputs": [],
   "source": [
    "import numpy as np\n",
    "import pandas as pd"
   ]
  },
  {
   "cell_type": "code",
   "execution_count": 2,
   "metadata": {
    "tags": []
   },
   "outputs": [],
   "source": [
    "import pandas as pd\n",
    "\n",
    "# Initial data\n",
    "data = {\n",
    "    \"Company\": [\"Company A\", \"Company B\", \"Company C\", \"Company D\", \"Company E\", \"Company F\"],\n",
    "    \"Return_on_Assets\": [0.02, 0.04, 0.07, 0.03, 0.05, 0.09],\n",
    "    \"Operating_Margin_Ratio\": [0.03, 0.10, 0.20, 0.05, 0.12, 0.25],\n",
    "    \"Net_Profit_Margin\": [0.02, 0.06, 0.12, 0.03, 0.07, 0.15],\n",
    "    \"Debt_to_EBITDA\": [5.0, 3.5, 1.5, 4.0, 2.5, 1.0],\n",
    "    \"EBITDA_to_Interest_Expense\": [1.2, 2.0, 3.5, 1.5, 2.5, 4.0],\n",
    "    \"Asset_Turnover\": [0.4, 0.8, 1.6, 0.5, 1.0, 2.0]\n",
    "}\n",
    "df = pd.DataFrame(data)"
   ]
  },
  {
   "cell_type": "code",
   "execution_count": 3,
   "metadata": {
    "tags": []
   },
   "outputs": [],
   "source": [
    "# Classification values and ranges\n",
    "classification_values = {'Poor': 1, 'Fair': 2, 'Good': 3}\n",
    "\n",
    "\n",
    "classification_ranges = {\n",
    "    'Return_on_Assets': {'Poor': (None, 0.02), 'Fair': (0.02, 0.05), 'Good': (0.05, None)},\n",
    "    'Operating_Margin_Ratio': {'Poor': (None, 0.10), 'Fair': (0.10, 0.20), 'Good': (0.20, None)},\n",
    "    'Net_Profit_Margin': {'Poor': (None, 0.05), 'Fair': (0.05, 0.10), 'Good': (0.10, None)},\n",
    "    'Debt_to_EBITDA': {'Good': (None, 2.0), 'Fair': (2.0, 4.0), 'Poor': (4.0, None)},  # Note: Inverted logic for Debt to EBITDA\n",
    "    'EBITDA_to_Interest_Expense': {'Poor': (None, 2.0), 'Fair': (2.0, 4.0), 'Good': (4.0, None)},\n",
    "    'Asset_Turnover': {'Poor': (None, 0.5), 'Fair': (0.5, 1.5), 'Good': (1.5, None)}\n",
    "}\n",
    "\n",
    "# Function to classify metric values into \"Poor\", \"Fair\", and \"Good\"\n",
    "def classify_metric(value, metric):\n",
    "    ranges = classification_ranges[metric]\n",
    "    for classification, (low, high) in ranges.items():\n",
    "        if low is None and value <= high:\n",
    "            return classification\n",
    "        elif high is None and value > low:\n",
    "            return classification\n",
    "        elif low is not None and high is not None and low <= value <= high:\n",
    "            return classification\n",
    "    return \"Unknown\"\n",
    "\n",
    "# Apply classification for each metric\n",
    "for metric in classification_ranges.keys():\n",
    "    df[f'{metric}_Class'] = df[metric].apply(lambda x: classify_metric(x, metric))\n",
    "\n",
    "# Function to calculate overall score and classification\n",
    "def calculate_and_classify_overall(row):\n",
    "    scores = [classification_values[row[f'{metric}_Class']] for metric in classification_ranges]\n",
    "    overall_score = sum(scores) / len(scores)\n",
    "    overall_class = 'Good' if overall_score > 2.5 else 'Fair' if overall_score > 1.5 else 'Poor'\n",
    "    return pd.Series([overall_score, overall_class], index=['Overall_Score', 'Overall_Class'])\n",
    "\n",
    "# Calculate overall scores and classifications\n",
    "df[['Overall_Score', 'Overall_Class']] =df.apply(calculate_and_classify_overall, axis=1)"
   ]
  },
  {
   "cell_type": "code",
   "execution_count": 4,
   "metadata": {
    "tags": []
   },
   "outputs": [],
   "source": [
    "df.set_index('Company', inplace=True)"
   ]
  },
  {
   "cell_type": "markdown",
   "metadata": {
    "tags": []
   },
   "source": [
    "## Actual Metrics (Financial Ratios)"
   ]
  },
  {
   "cell_type": "code",
   "execution_count": 5,
   "metadata": {
    "tags": []
   },
   "outputs": [
    {
     "data": {
      "text/html": [
       "<div>\n",
       "<style scoped>\n",
       "    .dataframe tbody tr th:only-of-type {\n",
       "        vertical-align: middle;\n",
       "    }\n",
       "\n",
       "    .dataframe tbody tr th {\n",
       "        vertical-align: top;\n",
       "    }\n",
       "\n",
       "    .dataframe thead th {\n",
       "        text-align: right;\n",
       "    }\n",
       "</style>\n",
       "<table border=\"1\" class=\"dataframe\">\n",
       "  <thead>\n",
       "    <tr style=\"text-align: right;\">\n",
       "      <th></th>\n",
       "      <th>Return_on_Assets</th>\n",
       "      <th>Operating_Margin_Ratio</th>\n",
       "      <th>Net_Profit_Margin</th>\n",
       "      <th>Debt_to_EBITDA</th>\n",
       "      <th>EBITDA_to_Interest_Expense</th>\n",
       "      <th>Asset_Turnover</th>\n",
       "    </tr>\n",
       "    <tr>\n",
       "      <th>Company</th>\n",
       "      <th></th>\n",
       "      <th></th>\n",
       "      <th></th>\n",
       "      <th></th>\n",
       "      <th></th>\n",
       "      <th></th>\n",
       "    </tr>\n",
       "  </thead>\n",
       "  <tbody>\n",
       "    <tr>\n",
       "      <th>Company A</th>\n",
       "      <td>0.02</td>\n",
       "      <td>0.03</td>\n",
       "      <td>0.02</td>\n",
       "      <td>5.0</td>\n",
       "      <td>1.2</td>\n",
       "      <td>0.4</td>\n",
       "    </tr>\n",
       "    <tr>\n",
       "      <th>Company B</th>\n",
       "      <td>0.04</td>\n",
       "      <td>0.10</td>\n",
       "      <td>0.06</td>\n",
       "      <td>3.5</td>\n",
       "      <td>2.0</td>\n",
       "      <td>0.8</td>\n",
       "    </tr>\n",
       "    <tr>\n",
       "      <th>Company C</th>\n",
       "      <td>0.07</td>\n",
       "      <td>0.20</td>\n",
       "      <td>0.12</td>\n",
       "      <td>1.5</td>\n",
       "      <td>3.5</td>\n",
       "      <td>1.6</td>\n",
       "    </tr>\n",
       "    <tr>\n",
       "      <th>Company D</th>\n",
       "      <td>0.03</td>\n",
       "      <td>0.05</td>\n",
       "      <td>0.03</td>\n",
       "      <td>4.0</td>\n",
       "      <td>1.5</td>\n",
       "      <td>0.5</td>\n",
       "    </tr>\n",
       "    <tr>\n",
       "      <th>Company E</th>\n",
       "      <td>0.05</td>\n",
       "      <td>0.12</td>\n",
       "      <td>0.07</td>\n",
       "      <td>2.5</td>\n",
       "      <td>2.5</td>\n",
       "      <td>1.0</td>\n",
       "    </tr>\n",
       "    <tr>\n",
       "      <th>Company F</th>\n",
       "      <td>0.09</td>\n",
       "      <td>0.25</td>\n",
       "      <td>0.15</td>\n",
       "      <td>1.0</td>\n",
       "      <td>4.0</td>\n",
       "      <td>2.0</td>\n",
       "    </tr>\n",
       "  </tbody>\n",
       "</table>\n",
       "</div>"
      ],
      "text/plain": [
       "           Return_on_Assets  Operating_Margin_Ratio  Net_Profit_Margin  \\\n",
       "Company                                                                  \n",
       "Company A              0.02                    0.03               0.02   \n",
       "Company B              0.04                    0.10               0.06   \n",
       "Company C              0.07                    0.20               0.12   \n",
       "Company D              0.03                    0.05               0.03   \n",
       "Company E              0.05                    0.12               0.07   \n",
       "Company F              0.09                    0.25               0.15   \n",
       "\n",
       "           Debt_to_EBITDA  EBITDA_to_Interest_Expense  Asset_Turnover  \n",
       "Company                                                                \n",
       "Company A             5.0                         1.2             0.4  \n",
       "Company B             3.5                         2.0             0.8  \n",
       "Company C             1.5                         3.5             1.6  \n",
       "Company D             4.0                         1.5             0.5  \n",
       "Company E             2.5                         2.5             1.0  \n",
       "Company F             1.0                         4.0             2.0  "
      ]
     },
     "execution_count": 5,
     "metadata": {},
     "output_type": "execute_result"
    }
   ],
   "source": [
    "df.iloc[: , :6]"
   ]
  },
  {
   "cell_type": "markdown",
   "metadata": {
    "tags": []
   },
   "source": [
    "## Metric Classifications"
   ]
  },
  {
   "cell_type": "code",
   "execution_count": 6,
   "metadata": {
    "tags": []
   },
   "outputs": [
    {
     "data": {
      "text/html": [
       "<div>\n",
       "<style scoped>\n",
       "    .dataframe tbody tr th:only-of-type {\n",
       "        vertical-align: middle;\n",
       "    }\n",
       "\n",
       "    .dataframe tbody tr th {\n",
       "        vertical-align: top;\n",
       "    }\n",
       "\n",
       "    .dataframe thead th {\n",
       "        text-align: right;\n",
       "    }\n",
       "</style>\n",
       "<table border=\"1\" class=\"dataframe\">\n",
       "  <thead>\n",
       "    <tr style=\"text-align: right;\">\n",
       "      <th></th>\n",
       "      <th>Return_on_Assets_Class</th>\n",
       "      <th>Operating_Margin_Ratio_Class</th>\n",
       "      <th>Net_Profit_Margin_Class</th>\n",
       "      <th>Debt_to_EBITDA_Class</th>\n",
       "      <th>EBITDA_to_Interest_Expense_Class</th>\n",
       "      <th>Asset_Turnover_Class</th>\n",
       "    </tr>\n",
       "    <tr>\n",
       "      <th>Company</th>\n",
       "      <th></th>\n",
       "      <th></th>\n",
       "      <th></th>\n",
       "      <th></th>\n",
       "      <th></th>\n",
       "      <th></th>\n",
       "    </tr>\n",
       "  </thead>\n",
       "  <tbody>\n",
       "    <tr>\n",
       "      <th>Company A</th>\n",
       "      <td>Poor</td>\n",
       "      <td>Poor</td>\n",
       "      <td>Poor</td>\n",
       "      <td>Poor</td>\n",
       "      <td>Poor</td>\n",
       "      <td>Poor</td>\n",
       "    </tr>\n",
       "    <tr>\n",
       "      <th>Company B</th>\n",
       "      <td>Fair</td>\n",
       "      <td>Poor</td>\n",
       "      <td>Fair</td>\n",
       "      <td>Fair</td>\n",
       "      <td>Poor</td>\n",
       "      <td>Fair</td>\n",
       "    </tr>\n",
       "    <tr>\n",
       "      <th>Company C</th>\n",
       "      <td>Good</td>\n",
       "      <td>Fair</td>\n",
       "      <td>Good</td>\n",
       "      <td>Good</td>\n",
       "      <td>Fair</td>\n",
       "      <td>Good</td>\n",
       "    </tr>\n",
       "    <tr>\n",
       "      <th>Company D</th>\n",
       "      <td>Fair</td>\n",
       "      <td>Poor</td>\n",
       "      <td>Poor</td>\n",
       "      <td>Fair</td>\n",
       "      <td>Poor</td>\n",
       "      <td>Poor</td>\n",
       "    </tr>\n",
       "    <tr>\n",
       "      <th>Company E</th>\n",
       "      <td>Fair</td>\n",
       "      <td>Fair</td>\n",
       "      <td>Fair</td>\n",
       "      <td>Fair</td>\n",
       "      <td>Fair</td>\n",
       "      <td>Fair</td>\n",
       "    </tr>\n",
       "    <tr>\n",
       "      <th>Company F</th>\n",
       "      <td>Good</td>\n",
       "      <td>Good</td>\n",
       "      <td>Good</td>\n",
       "      <td>Good</td>\n",
       "      <td>Fair</td>\n",
       "      <td>Good</td>\n",
       "    </tr>\n",
       "  </tbody>\n",
       "</table>\n",
       "</div>"
      ],
      "text/plain": [
       "          Return_on_Assets_Class Operating_Margin_Ratio_Class  \\\n",
       "Company                                                         \n",
       "Company A                   Poor                         Poor   \n",
       "Company B                   Fair                         Poor   \n",
       "Company C                   Good                         Fair   \n",
       "Company D                   Fair                         Poor   \n",
       "Company E                   Fair                         Fair   \n",
       "Company F                   Good                         Good   \n",
       "\n",
       "          Net_Profit_Margin_Class Debt_to_EBITDA_Class  \\\n",
       "Company                                                  \n",
       "Company A                    Poor                 Poor   \n",
       "Company B                    Fair                 Fair   \n",
       "Company C                    Good                 Good   \n",
       "Company D                    Poor                 Fair   \n",
       "Company E                    Fair                 Fair   \n",
       "Company F                    Good                 Good   \n",
       "\n",
       "          EBITDA_to_Interest_Expense_Class Asset_Turnover_Class  \n",
       "Company                                                          \n",
       "Company A                             Poor                 Poor  \n",
       "Company B                             Poor                 Fair  \n",
       "Company C                             Fair                 Good  \n",
       "Company D                             Poor                 Poor  \n",
       "Company E                             Fair                 Fair  \n",
       "Company F                             Fair                 Good  "
      ]
     },
     "execution_count": 6,
     "metadata": {},
     "output_type": "execute_result"
    }
   ],
   "source": [
    "df.iloc[: , 6:12]"
   ]
  },
  {
   "cell_type": "markdown",
   "metadata": {
    "tags": []
   },
   "source": [
    "## Overall Scores and Classifications"
   ]
  },
  {
   "cell_type": "code",
   "execution_count": 7,
   "metadata": {
    "tags": []
   },
   "outputs": [
    {
     "data": {
      "text/html": [
       "<div>\n",
       "<style scoped>\n",
       "    .dataframe tbody tr th:only-of-type {\n",
       "        vertical-align: middle;\n",
       "    }\n",
       "\n",
       "    .dataframe tbody tr th {\n",
       "        vertical-align: top;\n",
       "    }\n",
       "\n",
       "    .dataframe thead th {\n",
       "        text-align: right;\n",
       "    }\n",
       "</style>\n",
       "<table border=\"1\" class=\"dataframe\">\n",
       "  <thead>\n",
       "    <tr style=\"text-align: right;\">\n",
       "      <th></th>\n",
       "      <th>Overall_Score</th>\n",
       "      <th>Overall_Class</th>\n",
       "    </tr>\n",
       "    <tr>\n",
       "      <th>Company</th>\n",
       "      <th></th>\n",
       "      <th></th>\n",
       "    </tr>\n",
       "  </thead>\n",
       "  <tbody>\n",
       "    <tr>\n",
       "      <th>Company A</th>\n",
       "      <td>1.000000</td>\n",
       "      <td>Poor</td>\n",
       "    </tr>\n",
       "    <tr>\n",
       "      <th>Company B</th>\n",
       "      <td>1.666667</td>\n",
       "      <td>Fair</td>\n",
       "    </tr>\n",
       "    <tr>\n",
       "      <th>Company C</th>\n",
       "      <td>2.666667</td>\n",
       "      <td>Good</td>\n",
       "    </tr>\n",
       "    <tr>\n",
       "      <th>Company D</th>\n",
       "      <td>1.333333</td>\n",
       "      <td>Poor</td>\n",
       "    </tr>\n",
       "    <tr>\n",
       "      <th>Company E</th>\n",
       "      <td>2.000000</td>\n",
       "      <td>Fair</td>\n",
       "    </tr>\n",
       "    <tr>\n",
       "      <th>Company F</th>\n",
       "      <td>2.833333</td>\n",
       "      <td>Good</td>\n",
       "    </tr>\n",
       "  </tbody>\n",
       "</table>\n",
       "</div>"
      ],
      "text/plain": [
       "           Overall_Score Overall_Class\n",
       "Company                               \n",
       "Company A       1.000000          Poor\n",
       "Company B       1.666667          Fair\n",
       "Company C       2.666667          Good\n",
       "Company D       1.333333          Poor\n",
       "Company E       2.000000          Fair\n",
       "Company F       2.833333          Good"
      ]
     },
     "execution_count": 7,
     "metadata": {},
     "output_type": "execute_result"
    }
   ],
   "source": [
    "df.iloc[: , 12:]"
   ]
  },
  {
   "cell_type": "code",
   "execution_count": null,
   "metadata": {},
   "outputs": [],
   "source": []
  }
 ],
 "metadata": {
  "kernelspec": {
   "display_name": "Python 3 (ipykernel)",
   "language": "python",
   "name": "python3"
  },
  "language_info": {
   "codemirror_mode": {
    "name": "ipython",
    "version": 3
   },
   "file_extension": ".py",
   "mimetype": "text/x-python",
   "name": "python",
   "nbconvert_exporter": "python",
   "pygments_lexer": "ipython3",
   "version": "3.11.5"
  }
 },
 "nbformat": 4,
 "nbformat_minor": 4
}
