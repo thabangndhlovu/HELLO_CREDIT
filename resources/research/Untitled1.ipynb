{
 "cells": [
  {
   "cell_type": "code",
   "execution_count": null,
   "id": "bdbfae3b-2c70-4887-a6ce-65b78d6a36f5",
   "metadata": {},
   "outputs": [],
   "source": []
  },
  {
   "cell_type": "code",
   "execution_count": 1,
   "id": "15484fe0-be0e-4fee-b649-b9767de10714",
   "metadata": {
    "tags": []
   },
   "outputs": [
    {
     "name": "stdout",
     "output_type": "stream",
     "text": [
      "Altman Z-Score: 2.74\n"
     ]
    }
   ],
   "source": [
    "def altman_z_score(x1, x2, x3, x4, x5):\n",
    "    z = 1.2 * x1 + 1.4 * x2 + 3.3 * x3 + 0.6 * x4 + 1.0 * x5\n",
    "    return z\n",
    "\n",
    "# Example usage\n",
    "working_capital = 1000\n",
    "total_assets = 5000\n",
    "retained_earnings = 500\n",
    "ebit = 1000\n",
    "market_value_equity = 3000\n",
    "book_value_liabilities = 2000\n",
    "sales = 4000\n",
    "\n",
    "x1 = working_capital / total_assets\n",
    "x2 = retained_earnings / total_assets\n",
    "x3 = ebit / total_assets\n",
    "x4 = market_value_equity / book_value_liabilities\n",
    "x5 = sales / total_assets\n",
    "\n",
    "z_score = altman_z_score(x1, x2, x3, x4, x5)\n",
    "print(f\"Altman Z-Score: {z_score:.2f}\")"
   ]
  },
  {
   "cell_type": "code",
   "execution_count": 2,
   "id": "6545dd25-f96a-44c2-8f0c-cb9707f02ad7",
   "metadata": {
    "tags": []
   },
   "outputs": [
    {
     "name": "stdout",
     "output_type": "stream",
     "text": [
      "Ohlson O-Score: 0.01\n"
     ]
    }
   ],
   "source": [
    "import numpy as np\n",
    "\n",
    "def ohlson_o_score(features):\n",
    "    coefficients = np.array([-1.32, -0.407, 6.03, -1.43, 0.0757, -1.72, -2.37, -1.83, 0.285])\n",
    "    o_score = np.dot(features, coefficients)\n",
    "    probability = 1 / (1 + np.exp(-o_score))\n",
    "    return probability\n",
    "\n",
    "# Example usage\n",
    "features = np.array([1.2, 0.6, 0.3, 1.5, -0.1, 0.2, 1, 0, 0.05])\n",
    "bankruptcy_probability = ohlson_o_score(features)\n",
    "print(f\"Ohlson O-Score: {bankruptcy_probability:.2f}\")"
   ]
  },
  {
   "cell_type": "code",
   "execution_count": 31,
   "id": "f84f98da-24da-4e59-b3cf-fe1a88171e5c",
   "metadata": {
    "tags": []
   },
   "outputs": [
    {
     "name": "stdout",
     "output_type": "stream",
     "text": [
      "Distance to Default: -1.70\n",
      "Default Probability: 0.96\n"
     ]
    }
   ],
   "source": [
    "import numpy as np\n",
    "from scipy.stats import norm\n",
    "\n",
    "def merton_distance_to_default(asset_value, debt, risk_free_rate, asset_volatility, time_to_maturity):\n",
    "    d1 = (np.log(asset_value / debt) + (risk_free_rate + 0.5 * asset_volatility ** 2) * time_to_maturity) / (asset_volatility * np.sqrt(time_to_maturity))\n",
    "    d2 = d1 - asset_volatility * np.sqrt(time_to_maturity)\n",
    "    distance_to_default = d2\n",
    "    return distance_to_default\n",
    "\n",
    "# Example usage\n",
    "asset_value = 700\n",
    "debt = 800\n",
    "risk_free_rate = 0.05\n",
    "asset_volatility = 0.05\n",
    "time_to_maturity = 1\n",
    "\n",
    "dd = merton_distance_to_default(asset_value, debt, risk_free_rate, asset_volatility, time_to_maturity)\n",
    "default_probability = norm.cdf(-dd)\n",
    "print(f\"Distance to Default: {dd:.2f}\")\n",
    "print(f\"Default Probability: {default_probability:.2f}\")"
   ]
  },
  {
   "cell_type": "code",
   "execution_count": 4,
   "id": "98a5b8c0-f4fb-4dbd-8e7e-9983785f3798",
   "metadata": {
    "tags": []
   },
   "outputs": [
    {
     "name": "stdout",
     "output_type": "stream",
     "text": [
      "Zmijewski's Score: 8.69\n"
     ]
    }
   ],
   "source": [
    "import numpy as np\n",
    "\n",
    "# Example financial data\n",
    "total_assets = 500000\n",
    "total_liabilities = 300000\n",
    "current_liabilities = 150000\n",
    "net_income = 25000\n",
    "retained_earnings = 100000\n",
    "\n",
    "# Zmijewski's Score calculation components\n",
    "X1 = net_income / total_assets\n",
    "X2 = total_liabilities / total_assets\n",
    "X3 = current_liabilities / total_assets\n",
    "X4 = (net_income - retained_earnings) / total_assets  # A simplification for illustration\n",
    "\n",
    "# Zmijewski's Score\n",
    "Zmijewski_Score = 4.55 + (6.56 * X1) + (3.26 * X2) + (6.72 * X3) + (1.05 * X4)\n",
    "\n",
    "print(f\"Zmijewski's Score: {Zmijewski_Score:.2f}\")\n",
    "\n",
    "# Interpretation\n",
    "# In Zmijewski's model, a higher score suggests a higher probability of bankruptcy.\n",
    "# The original model does not provide a clear cutoff, but in practice, analysts may use historical data to establish benchmarks for high-risk scores.\n"
   ]
  },
  {
   "cell_type": "code",
   "execution_count": 27,
   "id": "fd3e68a1-b7e9-4235-abf9-df0138f6dc56",
   "metadata": {
    "tags": []
   },
   "outputs": [
    {
     "name": "stdout",
     "output_type": "stream",
     "text": [
      "Distance to Default (DD): -5.048126374780335\n"
     ]
    }
   ],
   "source": [
    "import numpy as np\n",
    "\n",
    "def merton_distance_to_default(A, D, r, sigma, T):\n",
    "    numerator = np.log(A / D) + (r + (sigma ** 2) / 2) * T\n",
    "    denominator = sigma * np.sqrt(T)\n",
    "    return numerator / denominator\n",
    "\n",
    "# Example usage\n",
    "A = 100000  # value of company assets\n",
    "D = 500000   # value of company debt\n",
    "r = 0.05     # risk-free rate\n",
    "sigma = 0.3  # volatility of company assets\n",
    "T = 1        # time to maturity of debt (in years)\n",
    "\n",
    "dd = merton_distance_to_default(A, D, r, sigma, T)\n",
    "print(\"Distance to Default (DD):\", dd)\n"
   ]
  },
  {
   "cell_type": "code",
   "execution_count": 7,
   "id": "7045d984-2260-4318-b36e-d7f6df4b77fb",
   "metadata": {
    "tags": []
   },
   "outputs": [
    {
     "name": "stdout",
     "output_type": "stream",
     "text": [
      "Estimated Asset Value: 1300.00\n",
      "Estimated Default Probability: 0.00%\n"
     ]
    }
   ],
   "source": [
    "import numpy as np\n",
    "from scipy.stats import norm\n",
    "\n",
    "def merton_distance_to_default(asset_value, debt, risk_free_rate, asset_volatility, time_to_maturity):\n",
    "    \"\"\"\n",
    "    Calculates the Distance to Default (DD) and probability of default using the Merton model.\n",
    "    \n",
    "    Parameters:\n",
    "    - asset_value: The market value of the company's assets.\n",
    "    - debt: The face value of the company's debt.\n",
    "    - risk_free_rate: The risk-free interest rate.\n",
    "    - asset_volatility: The volatility of the company's assets.\n",
    "    - time_to_maturity: The time to maturity of the debt (in years).\n",
    "    \n",
    "    Returns:\n",
    "    - distance_to_default: The Distance to Default (DD) value.\n",
    "    - default_probability: The probability of default.\n",
    "    \"\"\"\n",
    "    # Calculate the distance to default (DD)\n",
    "    d1 = (np.log(asset_value / debt) + (risk_free_rate + 0.5 * asset_volatility ** 2) * time_to_maturity) / (asset_volatility * np.sqrt(time_to_maturity))\n",
    "    d2 = d1 - asset_volatility * np.sqrt(time_to_maturity)\n",
    "    distance_to_default = d2\n",
    "    \n",
    "    # Calculate the probability of default\n",
    "    default_probability = norm.cdf(-distance_to_default)\n",
    "    \n",
    "    return distance_to_default, default_probability\n",
    "\n",
    "def estimate_asset_value_and_volatility(equity_value, debt, risk_free_rate, equity_volatility, time_to_maturity, iterations=100):\n",
    "    \"\"\"\n",
    "    Estimates the asset value and asset volatility for a private company using an iterative approach.\n",
    "    \n",
    "    Parameters:\n",
    "    - equity_value: The market value of the company's equity.\n",
    "    - debt: The face value of the company's debt.\n",
    "    - risk_free_rate: The risk-free interest rate.\n",
    "    - equity_volatility: The volatility of the company's equity.\n",
    "    - time_to_maturity: The time to maturity of the debt (in years).\n",
    "    - iterations: The number of iterations for the estimation process (default: 100).\n",
    "    \n",
    "    Returns:\n",
    "    - asset_value: The estimated market value of the company's assets.\n",
    "    - asset_volatility: The estimated volatility of the company's assets.\n",
    "    \"\"\"\n",
    "    # Initialize asset value and asset volatility\n",
    "    asset_value = equity_value + debt\n",
    "    asset_volatility = equity_volatility\n",
    "    \n",
    "    for _ in range(iterations):\n",
    "        # Calculate the asset value and asset volatility using the Black-Scholes-Merton model\n",
    "        d1 = (np.log(asset_value / debt) + (risk_free_rate + 0.5 * asset_volatility ** 2) * time_to_maturity) / (asset_volatility * np.sqrt(time_to_maturity))\n",
    "        d2 = d1 - asset_volatility * np.sqrt(time_to_maturity)\n",
    "        equity_value_implied = asset_value * norm.cdf(d1) - debt * np.exp(-risk_free_rate * time_to_maturity) * norm.cdf(d2)\n",
    "        asset_value = equity_value + debt\n",
    "        asset_volatility = equity_volatility * equity_value / asset_value\n",
    "    \n",
    "    return asset_value, asset_volatility\n",
    "\n",
    "# Example usage for a private company\n",
    "equity_value = 800\n",
    "debt = 500\n",
    "risk_free_rate = 0.05\n",
    "equity_volatility = 0.3\n",
    "time_to_maturity = 1\n",
    "\n",
    "asset_value, asset_volatility = estimate_asset_value_and_volatility(equity_value, debt, risk_free_rate, equity_volatility, time_to_maturity)\n",
    "distance_to_default, default_probability = merton_distance_to_default(asset_value, debt, risk_free_rate, asset_volatility, time_to_maturity)\n",
    "\n",
    "print(f\"Estimated Asset Value: {asset_value:.2f}\")\n",
    "print(f\"Estimated Default Probability: {default_probability:.2%}\")"
   ]
  },
  {
   "cell_type": "code",
   "execution_count": 8,
   "id": "aa54652a-1c2d-4ce3-a00b-f52658de0905",
   "metadata": {
    "tags": []
   },
   "outputs": [
    {
     "name": "stdout",
     "output_type": "stream",
     "text": [
      "Probability of Default: 4.458469223103862e-05\n"
     ]
    }
   ],
   "source": [
    "import numpy as np\n",
    "from scipy.stats import norm\n",
    "\n",
    "def estimate_asset_value_equity_vol(private_company_equity_value, debt_value, equity_volatility):\n",
    "    \"\"\"\n",
    "    Estimate the asset value and asset volatility for a private company.\n",
    "    This is a placeholder for the methodology to estimate these values.\n",
    "    \"\"\"\n",
    "    asset_value = private_company_equity_value + debt_value  # Simplified assumption\n",
    "    asset_volatility = equity_volatility  # Adjusted based on comparable public firms\n",
    "    return asset_value, asset_volatility\n",
    "\n",
    "def calculate_distance_to_default(asset_value, asset_volatility, debt_value, maturity):\n",
    "    risk_free_rate = 0.03  # Example risk-free rate\n",
    "    d1 = (np.log(asset_value / debt_value) + (risk_free_rate + 0.5 * asset_volatility**2) * maturity) / (asset_volatility * np.sqrt(maturity))\n",
    "    distance_to_default = d1 - asset_volatility * np.sqrt(maturity)\n",
    "    return distance_to_default\n",
    "\n",
    "def calculate_probability_of_default(distance_to_default):\n",
    "    PD = norm.cdf(-distance_to_default)\n",
    "    return PD\n",
    "\n",
    "# Example usage for a private company\n",
    "private_company_equity_value = 500000  # Estimated through DCF or other valuation methods\n",
    "debt_value = 300000  # Total debt value from financial statements\n",
    "equity_volatility = 0.25  # Estimated or adjusted from comparable public companies\n",
    "maturity = 1  # Time to maturity of the debt in years\n",
    "\n",
    "asset_value, asset_volatility = estimate_asset_value_equity_vol(private_company_equity_value, debt_value, equity_volatility)\n",
    "distance_to_default = calculate_distance_to_default(asset_value, asset_volatility, debt_value, maturity)\n",
    "PD = calculate_probability_of_default(distance_to_default)\n",
    "\n",
    "print(f\"Probability of Default: {PD}\")\n"
   ]
  },
  {
   "cell_type": "code",
   "execution_count": 9,
   "id": "17e6c432-ab15-49a7-9978-0a05a93c726c",
   "metadata": {
    "tags": []
   },
   "outputs": [
    {
     "data": {
      "text/plain": [
       "(0.9604785043806993, 0.25447340418305386)"
      ]
     },
     "execution_count": 9,
     "metadata": {},
     "output_type": "execute_result"
    }
   ],
   "source": [
    "from scipy.stats import norm\n",
    "import numpy as np\n",
    "\n",
    "# Given metrics\n",
    "V = 100  # Estimated asset value\n",
    "sigma = 0.3  # Estimated asset volatility\n",
    "D = 80  # Face value of debt\n",
    "T = 1  # Time to maturity (in years)\n",
    "r = 0.02  # Risk-free interest rate\n",
    "\n",
    "# Calculate d1 and d2\n",
    "d1 = (np.log(V / D) + (r + 0.5 * sigma**2) * T) / (sigma * np.sqrt(T))\n",
    "d2 = d1 - sigma * np.sqrt(T)\n",
    "\n",
    "# Calculate Distance to Default (DD) and Probability of Default (PD)\n",
    "DD = d1  # Distance to Default is equivalent to d1 in this context\n",
    "PD = norm.cdf(-d2)  # Probability of Default using the cumulative distribution function\n",
    "\n",
    "DD, PD\n"
   ]
  },
  {
   "cell_type": "code",
   "execution_count": 11,
   "id": "a82f518c-b9f7-46b9-86f1-3785d8e5d90a",
   "metadata": {
    "tags": []
   },
   "outputs": [],
   "source": [
    "import numpy as np\n",
    "from scipy.stats import norm\n",
    "\n",
    "def kmv_merton_private(V, sigma, D, T, r):\n",
    "    \"\"\"\n",
    "    Calculate the distance to default (DD) and probability of default (PD)\n",
    "    using the KMV Merton Model for private companies.\n",
    "    \n",
    "    Parameters:\n",
    "    V (float): Estimated asset value\n",
    "    sigma (float): Estimated asset volatility\n",
    "    D (float): Face value of debt\n",
    "    T (float): Time to maturity (in years)\n",
    "    r (float): Risk-free interest rate\n",
    "    \n",
    "    Returns:\n",
    "    tuple: (DD, PD)\n",
    "    \"\"\"\n",
    "    DD = (np.log(V/D) + (r + 0.5*sigma**2)*T) / (sigma*np.sqrt(T))\n",
    "    PD = norm.cdf(-DD)\n",
    "    return DD, PD"
   ]
  },
  {
   "cell_type": "code",
   "execution_count": 13,
   "id": "a54f359a-8520-4d72-92e2-8935f2550e6c",
   "metadata": {
    "tags": []
   },
   "outputs": [
    {
     "data": {
      "text/plain": [
       "(0.9604785043806993, 0.16840722220429588)"
      ]
     },
     "execution_count": 13,
     "metadata": {},
     "output_type": "execute_result"
    }
   ],
   "source": [
    "# Given metrics\n",
    "V = 100  # Estimated asset value\n",
    "sigma = 0.3  # Estimated asset volatility\n",
    "D = 80  # Face value of debt\n",
    "T = 1  # Time to maturity (in years)\n",
    "r = 0.02  # Risk-free interest rate\n",
    "\n",
    "kmv_merton_private(V, sigma, D, T, r)"
   ]
  },
  {
   "cell_type": "code",
   "execution_count": 19,
   "id": "b751e9b1-0f27-40f1-8738-3da070011608",
   "metadata": {
    "tags": []
   },
   "outputs": [],
   "source": [
    "from IPython.display import clear_output"
   ]
  },
  {
   "cell_type": "code",
   "execution_count": 25,
   "id": "9a67787f-6566-46c8-97f2-8f6bad6e7efe",
   "metadata": {
    "tags": []
   },
   "outputs": [],
   "source": [
    "import numpy as np\n",
    "from scipy.stats import norm\n",
    "\n",
    "def kmv_merton_private(A, STD, LTD, T, r, VAR_a, DPT_drift, time_horizon):\n",
    "    \"\"\"\n",
    "    Calculate the fair value (FV), distance to default (d2), and expected default frequency (EDF)\n",
    "    using the modified KMV Merton Model for private companies.\n",
    "    \n",
    "    Parameters:\n",
    "    A (float): Asset value\n",
    "    STD (float): Short-term debt\n",
    "    LTD (float): Long-term debt\n",
    "    T (float): Time to maturity (in years)\n",
    "    r (float): Risk-free interest rate\n",
    "    VAR_a (float): Asset value volatility (initially assumed to be the same as stock price volatility)\n",
    "    DPT_drift (float): Drift in the default point (DPT)\n",
    "    time_horizon (int): Time horizon (in months) for calculating the horizon DPT\n",
    "    \n",
    "    Returns:\n",
    "    tuple: (FV, d2, EDF)\n",
    "    \"\"\"\n",
    "    DPT = STD + 0.5 * LTD\n",
    "    STD_DEV_a = np.sqrt(VAR_a)\n",
    "    \n",
    "    d1 = (np.log(A/DPT) + (r + 0.5*VAR_a)*T) / (STD_DEV_a * np.sqrt(T))\n",
    "    d2 = d1 - STD_DEV_a * np.sqrt(T)\n",
    "    \n",
    "    FV = A * norm.cdf(d1) - DPT * np.exp(-r*T) * norm.cdf(d2)\n",
    "    EDF = norm.cdf(-d2)\n",
    "    \n",
    "    horizon_DPT = DPT * (1 + DPT_drift)**(time_horizon/12)\n",
    "    \n",
    "    return FV, d2, EDF, horizon_DPT\n",
    "\n",
    "def iterate_kmv_merton(A, STD, LTD, T, r, market_cap, market_vol, DPT_drift, time_horizon, max_iter=100, tol=1e-6):\n",
    "    \"\"\"\n",
    "    Perform iterations of the KMV Merton Model until convergence or maximum iterations are reached.\n",
    "    \n",
    "    Parameters:\n",
    "    A (float): Initial asset value\n",
    "    STD (float): Short-term debt\n",
    "    LTD (float): Long-term debt\n",
    "    T (float): Time to maturity (in years)\n",
    "    r (float): Risk-free interest rate\n",
    "    market_cap (float): Current market capitalization\n",
    "    market_vol (float): Stock price volatility\n",
    "    DPT_drift (float): Drift in the default point (DPT)\n",
    "    time_horizon (int): Time horizon (in months) for calculating the horizon DPT\n",
    "    max_iter (int): Maximum number of iterations (default: 100)\n",
    "    tol (float): Tolerance for convergence (default: 1e-6)\n",
    "    \n",
    "    Returns:\n",
    "    tuple: (FV, d2, EDF, horizon_DPT, mispricing, asset_vol)\n",
    "    \"\"\"\n",
    "    asset_vol = market_vol\n",
    "    prior_market_cap = market_cap\n",
    "    \n",
    "    for i in range(max_iter):\n",
    "        FV, d2, EDF, horizon_DPT = kmv_merton_private(A, STD, LTD, T, r, asset_vol**2, DPT_drift, time_horizon)\n",
    "        mispricing = market_cap - FV\n",
    "        equity_return = market_cap / prior_market_cap - 1\n",
    "        \n",
    "        if abs(mispricing) < tol:\n",
    "            break\n",
    "        \n",
    "        asset_vol = market_vol * (market_cap / FV)\n",
    "        prior_market_cap = market_cap\n",
    "        market_cap = FV\n",
    "    \n",
    "    return FV, d2, EDF, horizon_DPT, mispricing, asset_vol"
   ]
  },
  {
   "cell_type": "code",
   "execution_count": 26,
   "id": "35b954c3-39b9-4b7d-bedc-0d4946ba8d08",
   "metadata": {
    "tags": []
   },
   "outputs": [
    {
     "name": "stdout",
     "output_type": "stream",
     "text": [
      "33.75308820911632\n",
      "-1.972963753960208\n",
      "2.0119933370951344\n",
      "-0.08864811887980295\n",
      "0.05160622556439165\n",
      "-0.0031535420287980287\n",
      "0.0012369123999391718\n",
      "-9.893842574371092e-05\n",
      "3.010802494429754e-05\n",
      "-2.9083433048526786e-06\n",
      "7.440995304364151e-07\n",
      "Fair Value (FV): 46.2469\n",
      "Distance to Default (d2): 1.9095\n",
      "Expected Default Frequency (EDF): 0.0281\n",
      "Horizon DPT: 57.7500\n",
      "Mispricing: 0.0000\n",
      "Converged Asset Volatility: 0.3000\n"
     ]
    }
   ],
   "source": [
    "A = 100  # Initial asset value\n",
    "STD = 30  # Short-term debt\n",
    "LTD = 50  # Long-term debt\n",
    "T = 1  # Time to maturity (in years)\n",
    "r = 0.02  # Risk-free interest rate\n",
    "market_cap = 80  # Current market capitalization\n",
    "market_vol = 0.3  # Stock price volatility\n",
    "DPT_drift = 0.05  # Drift in the default point (DPT)\n",
    "time_horizon = 12  # Time horizon (in months) for calculating the horizon DPT\n",
    "\n",
    "FV, d2, EDF, horizon_DPT, mispricing, asset_vol = iterate_kmv_merton(A, STD, LTD, T, r, market_cap, market_vol, DPT_drift, time_horizon)\n",
    "\n",
    "print(f\"Fair Value (FV): {FV:.4f}\")\n",
    "print(f\"Distance to Default (d2): {d2:.4f}\")\n",
    "print(f\"Expected Default Frequency (EDF): {EDF:.4f}\")\n",
    "print(f\"Horizon DPT: {horizon_DPT:.4f}\")\n",
    "print(f\"Mispricing: {mispricing:.4f}\")\n",
    "print(f\"Converged Asset Volatility: {asset_vol:.4f}\")"
   ]
  },
  {
   "cell_type": "code",
   "execution_count": 44,
   "id": "77e92a09-757e-4e20-ac5a-25dd6eed645b",
   "metadata": {
    "tags": []
   },
   "outputs": [
    {
     "name": "stdout",
     "output_type": "stream",
     "text": [
      "Distance to Default: 1.83\n",
      "Default Probability: 0.03\n"
     ]
    }
   ],
   "source": [
    "import numpy as np\n",
    "from scipy.stats import norm\n",
    "\n",
    "def merton_distance_to_default(A, D, RF, V, T):\n",
    "    d1 = (np.log(A / D) + (RF + 0.5 * V ** 2) * T) / (V * np.sqrt(T))\n",
    "    d2 = d1 - V * np.sqrt(T)\n",
    "    distance_to_default = d2\n",
    "    return distance_to_default\n",
    "\n",
    "# Example usage\n",
    "A = 7000\n",
    "D = 5000\n",
    "RF = 0.05\n",
    "V = 0.2\n",
    "T = 1\n",
    "\n",
    "dd = merton_distance_to_default(A, D, RF, V, T)\n",
    "default_probability = norm.cdf(-dd)\n",
    "print(f\"Distance to Default: {dd:.2f}\")\n",
    "print(f\"Default Probability: {default_probability:.2f}\")"
   ]
  },
  {
   "cell_type": "code",
   "execution_count": null,
   "id": "cd6c1b36-c923-4e2d-aa86-c6bd1711eeae",
   "metadata": {},
   "outputs": [],
   "source": []
  }
 ],
 "metadata": {
  "kernelspec": {
   "display_name": "Python 3 (ipykernel)",
   "language": "python",
   "name": "python3"
  },
  "language_info": {
   "codemirror_mode": {
    "name": "ipython",
    "version": 3
   },
   "file_extension": ".py",
   "mimetype": "text/x-python",
   "name": "python",
   "nbconvert_exporter": "python",
   "pygments_lexer": "ipython3",
   "version": "3.11.5"
  }
 },
 "nbformat": 4,
 "nbformat_minor": 5
}
