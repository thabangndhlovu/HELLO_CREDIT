{
 "cells": [
  {
   "cell_type": "code",
   "execution_count": 55,
   "id": "c5936ba3-e9ef-4411-8c5b-3618ceb49406",
   "metadata": {
    "tags": []
   },
   "outputs": [],
   "source": [
    "import numpy as np\n",
    "import pandas as pd"
   ]
  },
  {
   "cell_type": "code",
   "execution_count": 56,
   "id": "a2ea6c3a-30bc-492a-8125-2a85fa9e7a6c",
   "metadata": {
    "tags": []
   },
   "outputs": [],
   "source": [
    "Given the following functions complete the code by writing functions that will score and the company based on its financial \n",
    "ratios\n",
    "\n",
    "\n",
    "def calculate_credit_rating(scores):\n",
    "    \n",
    "    # Weights as defined in the methodology\n",
    "    weights = {\n",
    "        'profitability': .1, \n",
    "        'leverage_coverage': .4, \n",
    "    }\n",
    "    \n",
    "    # Calculate the weighted score\n",
    "    weighted_score = sum(scores[category] * weight for category, weight in weights.items())\n",
    "    return weighted_score\n",
    "\n",
    "\n",
    "def determine_credit_rating(weighted_score):\n",
    "    # Credit rating thresholds\n",
    "    credit_ratings = [\n",
    "        (1.5, 'Aaa'), (2.5, 'Aa'), (3.5, 'A'), \n",
    "        (4.5, 'Baa'), (5.5, 'Ba'), (6.5, 'B'), \n",
    "        (7.5, 'Caa'), (8.5, 'Ca'), (float('inf'), 'C')\n",
    "    ]\n",
    "\n",
    "    # Determine the credit rating\n",
    "    for threshold, rating in credit_ratings:\n",
    "        if weighted_score < threshold:\n",
    "            return rating\n",
    "        \n",
    "        \n",
    "        \n",
    "metrics = {\n",
    "    \"profitability\": {\n",
    "        \"class_weight\": .8,\n",
    "        \"metrics\":{\n",
    "            \"weights\": [1.0],\n",
    "            \"oper_margin\": {\n",
    "                \"lower_is_better\": False,\n",
    "                \"thresholds\": [\n",
    "                    (0.35, float(\"inf\")), (0.25, 0.35), (0.2, 0.25), \n",
    "                    (0.15, 0.2), (0.1, 0.15), (0.05, 0.1), \n",
    "                    (0.0, 0.05),\n",
    "\n",
    "                    ]\n",
    "                    }\n",
    "            }\n",
    "    \"leverage_coverage\": {\n",
    "        \"class_weight\": .1,\n",
    "        \"metrics\":{\n",
    "            \"weights\": [0.4, 0.2, 0.4],\n",
    "            \"debt_to_equity\": {\n",
    "                \"lower_is_better\": True,\n",
    "                \"thresholds\": [\n",
    "                    (0, 0.5), (0.5, 1), (1, 2), \n",
    "                    (2, 3), (3, float(\"inf\"))\n",
    "                    ]\n",
    "                },\n",
    "            \"tot_debt_to_ebitda\": {\n",
    "                \"lower_is_better\": True,\n",
    "                \"thresholds\": [\n",
    "                    (0, 0.5), (0.5, 1), \n",
    "                    (1, 2), (2, 3), (3, float(\"inf\"))\n",
    "                    ]\n",
    "                },\n",
    "            \"ebitda_to_tot_int_exp\": {\n",
    "                \"lower_is_better\": False,\n",
    "                \"thresholds\": [\n",
    "                    (20, float(\"inf\")), (15, 20), (10, 15), (5, 10), (0, 5)\n",
    "                    ]\n",
    "                }\n",
    "            }\n",
    "}}"
   ]
  },
  {
   "cell_type": "code",
   "execution_count": 57,
   "id": "71321db5-72ed-4d76-a9b2-5c6d698500ad",
   "metadata": {
    "tags": []
   },
   "outputs": [],
   "source": [
    "def determine_credit_rating(weighted_score):\n",
    "    # Credit rating thresholds\n",
    "    credit_ratings = [\n",
    "        (1.5, 'Aaa'), (2.5, 'Aa'), (3.5, 'A'), \n",
    "        (4.5, 'Baa'), (5.5, 'Ba'), (6.5, 'B'), \n",
    "        (7.5, 'Caa'), (8.5, 'Ca'), (float('inf'), 'C')\n",
    "    ]\n",
    "\n",
    "    # Determine the credit rating\n",
    "    for threshold, rating in credit_ratings:\n",
    "        if weighted_score < threshold:\n",
    "            return rating"
   ]
  },
  {
   "cell_type": "code",
   "execution_count": 58,
   "id": "9779355c-716d-4187-a793-b67ca276916f",
   "metadata": {
    "tags": []
   },
   "outputs": [
    {
     "data": {
      "text/plain": [
       "'Ba'"
      ]
     },
     "execution_count": 58,
     "metadata": {},
     "output_type": "execute_result"
    }
   ],
   "source": [
    "determine_credit_rating(5)"
   ]
  },
  {
   "cell_type": "code",
   "execution_count": 77,
   "id": "8d5117c4-a716-4562-9e94-9b799428c828",
   "metadata": {
    "tags": []
   },
   "outputs": [
    {
     "name": "stdout",
     "output_type": "stream",
     "text": [
      "8\n"
     ]
    }
   ],
   "source": [
    "def get_position(metric, thresholds):\n",
    "    for score, (lower, upper) in enumerate(thresholds, start=1):\n",
    "        if lower <= metric < upper:\n",
    "            return score\n",
    "\n",
    "ebita_margin = 0.02\n",
    "ebita_margin_thresholds = [(0.5, float(\"inf\")), (0.35, 0.5), (0.25, 0.35), (0.2, 0.25),\n",
    "                            (0.15, 0.2), (0.1, 0.15), (0.05, 0.1), (0.0, 0.05)]\n",
    "\n",
    "position = get_position(ebita_margin, ebita_margin_thresholds)\n",
    "print(position)\n"
   ]
  },
  {
   "cell_type": "code",
   "execution_count": 83,
   "id": "08cc2115-532b-4982-aba9-718e367f5cec",
   "metadata": {
    "tags": []
   },
   "outputs": [
    {
     "name": "stdout",
     "output_type": "stream",
     "text": [
      "Position in Profitability: 2\n",
      "Position in Leverage Coverage: 3\n"
     ]
    }
   ],
   "source": [
    "def get_position(metric_value, thresholds):\n",
    "    for i, (lower, upper) in enumerate(thresholds):\n",
    "        if lower <= metric_value < upper:\n",
    "            return i + 1\n",
    "    return None\n",
    "\n",
    "metrics = {\n",
    "    \"profitability\": {\n",
    "        \"class_weight\": 0.8,\n",
    "        \"metrics\": {\n",
    "            \"weights\": [1.0],\n",
    "            \"oper_margin\": {\n",
    "                \"thresholds\": [\n",
    "                    (0.35, float(\"inf\")), (0.25, 0.35), (0.2, 0.25),\n",
    "                    (0.15, 0.2), (0.1, 0.15), (0.05, 0.1), (0.0, 0.05)]\n",
    "            }\n",
    "        }\n",
    "    },\n",
    "    \"leverage_coverage\": {\n",
    "        \"class_weight\": 0.1,\n",
    "        \"metrics\": {\n",
    "            \"weights\": [0.4, 0.2, 0.4],\n",
    "            \"debt_to_equity\": {\n",
    "                \"thresholds\": [\n",
    "                    (0, 0.5), (0.5, 1), (1, 2), (2, 3), (3, float(\"inf\"))\n",
    "                ]\n",
    "            },\n",
    "            \"tot_debt_to_ebitda\": {\n",
    "                \"thresholds\": [\n",
    "                    (0, 0.5), (0.5, 1), (1, 2), (2, 3), (3, float(\"inf\"))\n",
    "                ]\n",
    "            },\n",
    "            \"ebitda_to_tot_int_exp\": {\n",
    "                \"thresholds\": [\n",
    "                    (20, float(\"inf\")), (15, 20), (10, 15), (5, 10), (0, 5)\n",
    "                ]\n",
    "            }\n",
    "        }\n",
    "    }\n",
    "}\n",
    "\n",
    "# Example usage\n",
    "ebit_margin = 0.25\n",
    "debt_to_equity = 1.5\n",
    "\n",
    "profitability_thresholds = metrics[\"profitability\"][\"metrics\"][\"oper_margin\"][\"thresholds\"]\n",
    "leverage_coverage_thresholds = metrics[\"leverage_coverage\"][\"metrics\"][\"debt_to_equity\"][\"thresholds\"]\n",
    "\n",
    "position_profitability = get_position(ebit_margin, profitability_thresholds)\n",
    "position_leverage_coverage = get_position(debt_to_equity, leverage_coverage_thresholds)\n",
    "\n",
    "print(\"Position in Profitability:\", position_profitability)\n",
    "print(\"Position in Leverage Coverage:\", position_leverage_coverage)\n"
   ]
  },
  {
   "cell_type": "code",
   "execution_count": null,
   "id": "e2214bfc-995e-46b5-abf9-be02e017726d",
   "metadata": {
    "tags": []
   },
   "outputs": [],
   "source": []
  },
  {
   "cell_type": "code",
   "execution_count": 79,
   "id": "f492a2fc-8c15-46a7-9a2b-786f7d0ab686",
   "metadata": {
    "tags": []
   },
   "outputs": [],
   "source": [
    "def get_position(metric, thresholds, lower_is_better=False):\n",
    "    for i, (lower, upper) in enumerate(thresholds):\n",
    "        if lower_is_better:\n",
    "            if upper > metric >= lower:\n",
    "                return len(thresholds) - i\n",
    "        else:\n",
    "            if lower <= metric < upper:\n",
    "                return i + 1\n",
    "    return None"
   ]
  },
  {
   "cell_type": "code",
   "execution_count": 81,
   "id": "380608fe-6b29-4ee4-a825-b1582c62eea5",
   "metadata": {
    "tags": []
   },
   "outputs": [],
   "source": [
    "entries = {\"metric\":.2, \"thresholds\":ebita_margin_thresholds, \"lower_is_better\": True}"
   ]
  },
  {
   "cell_type": "code",
   "execution_count": 82,
   "id": "7e4272c4-8ce7-49f5-b8c2-0b3fba837726",
   "metadata": {
    "tags": []
   },
   "outputs": [
    {
     "data": {
      "text/plain": [
       "5"
      ]
     },
     "execution_count": 82,
     "metadata": {},
     "output_type": "execute_result"
    }
   ],
   "source": [
    "get_position(**entries)"
   ]
  },
  {
   "cell_type": "code",
   "execution_count": null,
   "id": "2b81c201-8f1c-4a02-891b-d13a3ad428b9",
   "metadata": {},
   "outputs": [],
   "source": []
  },
  {
   "cell_type": "code",
   "execution_count": 87,
   "id": "59badee2-34f0-427c-9d81-a76027f3553b",
   "metadata": {
    "tags": []
   },
   "outputs": [
    {
     "ename": "TypeError",
     "evalue": "argument of type 'float' is not iterable",
     "output_type": "error",
     "traceback": [
      "\u001b[1;31m---------------------------------------------------------------------------\u001b[0m",
      "\u001b[1;31mTypeError\u001b[0m                                 Traceback (most recent call last)",
      "Cell \u001b[1;32mIn[87], line 36\u001b[0m\n\u001b[0;32m     15\u001b[0m     \u001b[38;5;28;01mreturn\u001b[39;00m positions\n\u001b[0;32m     17\u001b[0m metrics \u001b[38;5;241m=\u001b[39m {\n\u001b[0;32m     18\u001b[0m     \u001b[38;5;124m\"\u001b[39m\u001b[38;5;124mprofitability\u001b[39m\u001b[38;5;124m\"\u001b[39m: {\n\u001b[0;32m     19\u001b[0m         \u001b[38;5;124m\"\u001b[39m\u001b[38;5;124mclass_weight\u001b[39m\u001b[38;5;124m\"\u001b[39m: \u001b[38;5;241m0.8\u001b[39m,\n\u001b[1;32m   (...)\u001b[0m\n\u001b[0;32m     33\u001b[0m     }\n\u001b[0;32m     34\u001b[0m }\n\u001b[1;32m---> 36\u001b[0m positions \u001b[38;5;241m=\u001b[39m calculate_positions(metrics)\n\u001b[0;32m     37\u001b[0m \u001b[38;5;28mprint\u001b[39m(\u001b[38;5;124m\"\u001b[39m\u001b[38;5;124mPositions:\u001b[39m\u001b[38;5;124m\"\u001b[39m, positions)\n",
      "Cell \u001b[1;32mIn[87], line 13\u001b[0m, in \u001b[0;36mcalculate_positions\u001b[1;34m(metrics)\u001b[0m\n\u001b[0;32m     11\u001b[0m     \u001b[38;5;28;01mif\u001b[39;00m \u001b[38;5;124m\"\u001b[39m\u001b[38;5;124mmetrics\u001b[39m\u001b[38;5;124m\"\u001b[39m \u001b[38;5;129;01min\u001b[39;00m class_data:\n\u001b[0;32m     12\u001b[0m         \u001b[38;5;28;01mfor\u001b[39;00m metric_name, metric_data \u001b[38;5;129;01min\u001b[39;00m class_data[\u001b[38;5;124m\"\u001b[39m\u001b[38;5;124mmetrics\u001b[39m\u001b[38;5;124m\"\u001b[39m]\u001b[38;5;241m.\u001b[39mitems():\n\u001b[1;32m---> 13\u001b[0m             \u001b[38;5;28;01mif\u001b[39;00m \u001b[38;5;124m\"\u001b[39m\u001b[38;5;124mthresholds\u001b[39m\u001b[38;5;124m\"\u001b[39m \u001b[38;5;129;01min\u001b[39;00m metric_data:\n\u001b[0;32m     14\u001b[0m                 positions[metric_class][metric_name] \u001b[38;5;241m=\u001b[39m get_position(class_data[\u001b[38;5;124m\"\u001b[39m\u001b[38;5;124mmetrics\u001b[39m\u001b[38;5;124m\"\u001b[39m][metric_name], metric_data[\u001b[38;5;124m\"\u001b[39m\u001b[38;5;124mthresholds\u001b[39m\u001b[38;5;124m\"\u001b[39m])\n\u001b[0;32m     15\u001b[0m \u001b[38;5;28;01mreturn\u001b[39;00m positions\n",
      "\u001b[1;31mTypeError\u001b[0m: argument of type 'float' is not iterable"
     ]
    }
   ],
   "source": [
    "def get_position(metric_value, thresholds):\n",
    "    for i, (lower, upper) in enumerate(thresholds):\n",
    "        if lower <= metric_value < upper:\n",
    "            return i + 1\n",
    "    return None\n",
    "\n",
    "def calculate_positions(metrics):\n",
    "    positions = {}\n",
    "    for metric_class, class_data in metrics.items():\n",
    "        positions[metric_class] = {}\n",
    "        if \"metrics\" in class_data:\n",
    "            for metric_name, metric_data in class_data[\"metrics\"].items():\n",
    "                if \"thresholds\" in metric_data:\n",
    "                    positions[metric_class][metric_name] = get_position(class_data[\"metrics\"][metric_name], metric_data[\"thresholds\"])\n",
    "    return positions\n",
    "\n",
    "metrics = {\n",
    "    \"profitability\": {\n",
    "        \"class_weight\": 0.8,\n",
    "        \"metrics\": {\n",
    "            \"oper_margin\": 0.25,\n",
    "            \"net_profit_margin\": 0.15,\n",
    "            \"return_on_assets\": 0.10\n",
    "        }\n",
    "    },\n",
    "    \"leverage_coverage\": {\n",
    "        \"class_weight\": 0.1,\n",
    "        \"metrics\": {\n",
    "            \"debt_to_equity\": 1.5,\n",
    "            \"tot_debt_to_ebitda\": 2.0,\n",
    "            \"ebitda_to_tot_int_exp\": 17\n",
    "        }\n",
    "    }\n",
    "}\n",
    "\n",
    "positions = calculate_positions(metrics)\n",
    "print(\"Positions:\", positions)\n"
   ]
  },
  {
   "cell_type": "code",
   "execution_count": 89,
   "id": "8e60201c-e4ef-4f72-8095-3df1fe8e73d1",
   "metadata": {
    "tags": []
   },
   "outputs": [],
   "source": [
    "metrics = {\n",
    "    \"profitability\": {\n",
    "        \"class_weight\": .8,\n",
    "        \"metrics\":{\n",
    "            \"weights\": [1.0],\n",
    "            \"oper_margin\": {\n",
    "                \"lower_is_better\": False,\n",
    "                \"thresholds\": [\n",
    "                    (0.35, float(\"inf\")), (0.25, 0.35), (0.2, 0.25), \n",
    "                    (0.15, 0.2), (0.1, 0.15), (0.05, 0.1), \n",
    "                    (0.0, 0.05),\n",
    "\n",
    "                    ]\n",
    "                    }\n",
    "            }\n",
    "        }, \n",
    "    \"leverage_coverage\": {\n",
    "        \"class_weight\": .2,\n",
    "        \"metrics\":{\n",
    "            \"weights\": [0.4, 0.2, 0.4],\n",
    "            \"debt_to_equity\": {\n",
    "                \"lower_is_better\": True,\n",
    "                \"thresholds\": [\n",
    "                    (0, 0.5), (0.5, 1), (1, 2), \n",
    "                    (2, 3), (3, float(\"inf\"))\n",
    "                    ]\n",
    "                },\n",
    "            \"tot_debt_to_ebitda\": {\n",
    "                \"lower_is_better\": True,\n",
    "                \"thresholds\": [\n",
    "                    (0, 0.5), (0.5, 1), \n",
    "                    (1, 2), (2, 3), (3, float(\"inf\"))\n",
    "                    ]\n",
    "                },\n",
    "            \"ebitda_to_tot_int_exp\": {\n",
    "                \"lower_is_better\": False,\n",
    "                \"thresholds\": [\n",
    "                    (20, float(\"inf\")), (15, 20), (10, 15), (5, 10), (0, 5)\n",
    "                    ]\n",
    "                }\n",
    "            }\n",
    "        }\n",
    "}\n"
   ]
  },
  {
   "cell_type": "code",
   "execution_count": null,
   "id": "dec6ffd8-b9ef-423c-82ba-24c0c43b1089",
   "metadata": {},
   "outputs": [],
   "source": []
  }
 ],
 "metadata": {
  "kernelspec": {
   "display_name": "Python 3 (ipykernel)",
   "language": "python",
   "name": "python3"
  },
  "language_info": {
   "codemirror_mode": {
    "name": "ipython",
    "version": 3
   },
   "file_extension": ".py",
   "mimetype": "text/x-python",
   "name": "python",
   "nbconvert_exporter": "python",
   "pygments_lexer": "ipython3",
   "version": "3.11.5"
  }
 },
 "nbformat": 4,
 "nbformat_minor": 5
}
