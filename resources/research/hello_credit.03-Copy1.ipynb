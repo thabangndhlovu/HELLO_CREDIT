{
 "cells": [
  {
   "cell_type": "markdown",
   "metadata": {},
   "source": [
    "# **Hello Credit 0.0.3 (Model Demo)**\n",
    "\n",
    "\n",
    "# NOTES:\n",
    "\n",
    "* Returns are more important than the methodology\n",
    "* Backtest against Moody's, Bloomberg Models\n",
    "* \"Do not let, perfect stand in the way of good\"\n"
   ]
  },
  {
   "cell_type": "code",
   "execution_count": 12,
   "metadata": {
    "tags": []
   },
   "outputs": [],
   "source": [
    "import joblib\n",
    "import numpy as np\n",
    "import pandas as pd"
   ]
  },
  {
   "cell_type": "code",
   "execution_count": 2,
   "metadata": {
    "tags": []
   },
   "outputs": [],
   "source": [
    "import pandas as pd\n",
    "\n",
    "# Initial data\n",
    "data = {\n",
    "    \"Company\": [\"Company A\", \"Company B\", \"Company C\", \"Company D\", \"Company E\", \"Company F\"],\n",
    "    \"Return_on_Assets\": [0.02, 0.04, 0.07, 0.03, 0.05, 0.09],\n",
    "    \"Operating_Margin_Ratio\": [0.03, 0.10, 0.20, 0.05, 0.12, 0.25],\n",
    "    \"Net_Profit_Margin\": [0.02, 0.06, 0.12, 0.03, 0.07, 0.15],\n",
    "    \"Debt_to_EBITDA\": [5.0, 3.5, 1.5, 4.0, 2.5, 1.0],\n",
    "    \"EBITDA_to_Interest_Expense\": [1.2, 2.0, 3.5, 1.5, 2.5, 4.0],\n",
    "    \"Asset_Turnover\": [0.4, 0.8, 1.6, 0.5, 1.0, 2.0]\n",
    "}\n",
    "df = pd.DataFrame(data)"
   ]
  },
  {
   "cell_type": "code",
   "execution_count": 4,
   "metadata": {
    "tags": []
   },
   "outputs": [],
   "source": [
    "df = pd.read_excel(\"metrics.xlsx\")"
   ]
  },
  {
   "cell_type": "code",
   "execution_count": 13,
   "metadata": {
    "tags": []
   },
   "outputs": [],
   "source": [
    "df = df.rename(columns={'Unnamed: 0':'Company'})"
   ]
  },
  {
   "cell_type": "code",
   "execution_count": 15,
   "metadata": {
    "tags": []
   },
   "outputs": [],
   "source": [
    "classification_ranges = joblib.load(\"metrics.joblib\")"
   ]
  },
  {
   "cell_type": "code",
   "execution_count": 34,
   "metadata": {
    "tags": []
   },
   "outputs": [
    {
     "data": {
      "text/plain": [
       "{'tot_debt_to_tot_eqy': {1: (-inf, 50.647210600805735),\n",
       "  0: (50.647210600805735, 65.03290102599539),\n",
       "  -1: (65.03290102599539, inf)},\n",
       " 'interest_coverage_ratio': {1: (8.858455386626364, inf),\n",
       "  0: (5.633747012489427, 8.858455386626364),\n",
       "  -1: (-inf, 5.633747012489427)},\n",
       " 'return_on_asset': {1: (9.589846015144378, inf),\n",
       "  0: (5.854837291308153, 9.589846015144378),\n",
       "  -1: (-inf, 5.854837291308153)},\n",
       " 'tot_debt_to_ebitda': {1: (-inf, 1.060896398933337),\n",
       "  0: (1.060896398933337, 1.3367408348954506),\n",
       "  -1: (1.3367408348954506, inf)},\n",
       " 'ebitda_to_tot_int_exp': {1: (13.174393594464583, inf),\n",
       "  0: (8.484247144183694, 13.174393594464583),\n",
       "  -1: (-inf, 8.484247144183694)}}"
      ]
     },
     "execution_count": 34,
     "metadata": {},
     "output_type": "execute_result"
    }
   ],
   "source": [
    "classification_ranges"
   ]
  },
  {
   "cell_type": "code",
   "execution_count": 18,
   "metadata": {
    "tags": []
   },
   "outputs": [],
   "source": [
    "# Classification values and ranges\n",
    "classification_values = {-1: 1, 0: 2, 1: 3}\n",
    "\n",
    "# classification_ranges = {\n",
    "#     'Return_on_Assets': {'Poor': (None, 0.02), 'Fair': (0.02, 0.05), 'Good': (0.05, None)},\n",
    "#     'Operating_Margin_Ratio': {'Poor': (None, 0.10), 'Fair': (0.10, 0.20), 'Good': (0.20, None)},\n",
    "#     'Net_Profit_Margin': {'Poor': (None, 0.05), 'Fair': (0.05, 0.10), 'Good': (0.10, None)},\n",
    "#     'Debt_to_EBITDA': {'Good': (None, 2.0), 'Fair': (2.0, 4.0), 'Poor': (4.0, None)},  # Note: Inverted logic for Debt to EBITDA\n",
    "#     'EBITDA_to_Interest_Expense': {'Poor': (None, 2.0), 'Fair': (2.0, 4.0), 'Good': (4.0, None)},\n",
    "#     'Asset_Turnover': {'Poor': (None, 0.5), 'Fair': (0.5, 1.5), 'Good': (1.5, None)}\n",
    "# }\n",
    "\n",
    "# Function to classify metric values into \"Poor\", \"Fair\", and \"Good\"\n",
    "def classify_metric(value, metric):\n",
    "    ranges = classification_ranges[metric]\n",
    "    for classification, (low, high) in ranges.items():\n",
    "        if low is None and value <= high:\n",
    "            return classification\n",
    "        elif high is None and value > low:\n",
    "            return classification\n",
    "        elif low is not None and high is not None and low <= value <= high:\n",
    "            return classification\n",
    "    return \"Unknown\"\n",
    "\n",
    "# Apply classification for each metric\n",
    "for metric in classification_ranges.keys():\n",
    "    df[f'{metric}_Class'] = df[metric].apply(lambda x: classify_metric(x, metric))\n",
    "\n",
    "# Function to calculate overall score and classification\n",
    "def calculate_and_classify_overall(row):\n",
    "    scores = [classification_values[row[f'{metric}_Class']] for metric in classification_ranges]\n",
    "    overall_score = sum(scores) / len(scores)\n",
    "    overall_class = 1 if overall_score > 2.5 else 0 if overall_score > 1.5 else -1\n",
    "    return pd.Series([overall_score, overall_class], index=['Overall_Score', 'Overall_Class'])\n",
    "\n",
    "# Calculate overall scores and classifications\n",
    "df[['Overall_Score', 'Overall_Class']] = df.apply(calculate_and_classify_overall, axis=1)"
   ]
  },
  {
   "cell_type": "code",
   "execution_count": 19,
   "metadata": {
    "tags": []
   },
   "outputs": [],
   "source": [
    "df.set_index('Company', inplace=True)"
   ]
  },
  {
   "cell_type": "code",
   "execution_count": 27,
   "metadata": {
    "tags": []
   },
   "outputs": [],
   "source": [
    "df = df.replace(-1, \"Poor\").replace(0, \"Fair\").replace(1, \"Good\")"
   ]
  },
  {
   "cell_type": "markdown",
   "metadata": {
    "tags": []
   },
   "source": [
    "## Actual Metrics (Financial Ratios)"
   ]
  },
  {
   "cell_type": "code",
   "execution_count": 29,
   "metadata": {
    "tags": []
   },
   "outputs": [
    {
     "data": {
      "text/html": [
       "<div>\n",
       "<style scoped>\n",
       "    .dataframe tbody tr th:only-of-type {\n",
       "        vertical-align: middle;\n",
       "    }\n",
       "\n",
       "    .dataframe tbody tr th {\n",
       "        vertical-align: top;\n",
       "    }\n",
       "\n",
       "    .dataframe thead th {\n",
       "        text-align: right;\n",
       "    }\n",
       "</style>\n",
       "<table border=\"1\" class=\"dataframe\">\n",
       "  <thead>\n",
       "    <tr style=\"text-align: right;\">\n",
       "      <th></th>\n",
       "      <th>tot_debt_to_tot_eqy</th>\n",
       "      <th>interest_coverage_ratio</th>\n",
       "      <th>return_on_asset</th>\n",
       "      <th>tot_debt_to_ebitda</th>\n",
       "      <th>ebitda_to_tot_int_exp</th>\n",
       "    </tr>\n",
       "    <tr>\n",
       "      <th>Company</th>\n",
       "      <th></th>\n",
       "      <th></th>\n",
       "      <th></th>\n",
       "      <th></th>\n",
       "      <th></th>\n",
       "    </tr>\n",
       "  </thead>\n",
       "  <tbody>\n",
       "    <tr>\n",
       "      <th>BLU SJ Equity</th>\n",
       "      <td>32.809328</td>\n",
       "      <td>6.346575</td>\n",
       "      <td>4.215240</td>\n",
       "      <td>1.150158</td>\n",
       "      <td>7.547418</td>\n",
       "    </tr>\n",
       "    <tr>\n",
       "      <th>MTN SJ Equity</th>\n",
       "      <td>65.116785</td>\n",
       "      <td>8.547827</td>\n",
       "      <td>7.405181</td>\n",
       "      <td>1.305329</td>\n",
       "      <td>13.114130</td>\n",
       "    </tr>\n",
       "    <tr>\n",
       "      <th>TKG SJ Equity</th>\n",
       "      <td>56.593172</td>\n",
       "      <td>3.495262</td>\n",
       "      <td>6.401370</td>\n",
       "      <td>1.430977</td>\n",
       "      <td>8.796523</td>\n",
       "    </tr>\n",
       "    <tr>\n",
       "      <th>VOD SJ Equity</th>\n",
       "      <td>65.004940</td>\n",
       "      <td>9.790341</td>\n",
       "      <td>16.143841</td>\n",
       "      <td>0.793112</td>\n",
       "      <td>13.355185</td>\n",
       "    </tr>\n",
       "  </tbody>\n",
       "</table>\n",
       "</div>"
      ],
      "text/plain": [
       "               tot_debt_to_tot_eqy  interest_coverage_ratio  return_on_asset  \\\n",
       "Company                                                                        \n",
       "BLU SJ Equity            32.809328                 6.346575         4.215240   \n",
       "MTN SJ Equity            65.116785                 8.547827         7.405181   \n",
       "TKG SJ Equity            56.593172                 3.495262         6.401370   \n",
       "VOD SJ Equity            65.004940                 9.790341        16.143841   \n",
       "\n",
       "               tot_debt_to_ebitda  ebitda_to_tot_int_exp  \n",
       "Company                                                   \n",
       "BLU SJ Equity            1.150158               7.547418  \n",
       "MTN SJ Equity            1.305329              13.114130  \n",
       "TKG SJ Equity            1.430977               8.796523  \n",
       "VOD SJ Equity            0.793112              13.355185  "
      ]
     },
     "execution_count": 29,
     "metadata": {},
     "output_type": "execute_result"
    }
   ],
   "source": [
    "df.iloc[: , :5]"
   ]
  },
  {
   "cell_type": "markdown",
   "metadata": {
    "tags": []
   },
   "source": [
    "## Metric Classifications"
   ]
  },
  {
   "cell_type": "code",
   "execution_count": 33,
   "metadata": {
    "tags": []
   },
   "outputs": [
    {
     "data": {
      "text/html": [
       "<div>\n",
       "<style scoped>\n",
       "    .dataframe tbody tr th:only-of-type {\n",
       "        vertical-align: middle;\n",
       "    }\n",
       "\n",
       "    .dataframe tbody tr th {\n",
       "        vertical-align: top;\n",
       "    }\n",
       "\n",
       "    .dataframe thead th {\n",
       "        text-align: right;\n",
       "    }\n",
       "</style>\n",
       "<table border=\"1\" class=\"dataframe\">\n",
       "  <thead>\n",
       "    <tr style=\"text-align: right;\">\n",
       "      <th></th>\n",
       "      <th>tot_debt_to_tot_eqy_Class</th>\n",
       "      <th>interest_coverage_ratio_Class</th>\n",
       "      <th>return_on_asset_Class</th>\n",
       "      <th>tot_debt_to_ebitda_Class</th>\n",
       "      <th>ebitda_to_tot_int_exp_Class</th>\n",
       "    </tr>\n",
       "    <tr>\n",
       "      <th>Company</th>\n",
       "      <th></th>\n",
       "      <th></th>\n",
       "      <th></th>\n",
       "      <th></th>\n",
       "      <th></th>\n",
       "    </tr>\n",
       "  </thead>\n",
       "  <tbody>\n",
       "    <tr>\n",
       "      <th>BLU SJ Equity</th>\n",
       "      <td>Good</td>\n",
       "      <td>Fair</td>\n",
       "      <td>Poor</td>\n",
       "      <td>Fair</td>\n",
       "      <td>Poor</td>\n",
       "    </tr>\n",
       "    <tr>\n",
       "      <th>MTN SJ Equity</th>\n",
       "      <td>Poor</td>\n",
       "      <td>Fair</td>\n",
       "      <td>Fair</td>\n",
       "      <td>Fair</td>\n",
       "      <td>Fair</td>\n",
       "    </tr>\n",
       "    <tr>\n",
       "      <th>TKG SJ Equity</th>\n",
       "      <td>Fair</td>\n",
       "      <td>Poor</td>\n",
       "      <td>Fair</td>\n",
       "      <td>Poor</td>\n",
       "      <td>Fair</td>\n",
       "    </tr>\n",
       "    <tr>\n",
       "      <th>VOD SJ Equity</th>\n",
       "      <td>Fair</td>\n",
       "      <td>Good</td>\n",
       "      <td>Good</td>\n",
       "      <td>Good</td>\n",
       "      <td>Good</td>\n",
       "    </tr>\n",
       "  </tbody>\n",
       "</table>\n",
       "</div>"
      ],
      "text/plain": [
       "              tot_debt_to_tot_eqy_Class interest_coverage_ratio_Class  \\\n",
       "Company                                                                 \n",
       "BLU SJ Equity                      Good                          Fair   \n",
       "MTN SJ Equity                      Poor                          Fair   \n",
       "TKG SJ Equity                      Fair                          Poor   \n",
       "VOD SJ Equity                      Fair                          Good   \n",
       "\n",
       "              return_on_asset_Class tot_debt_to_ebitda_Class  \\\n",
       "Company                                                        \n",
       "BLU SJ Equity                  Poor                     Fair   \n",
       "MTN SJ Equity                  Fair                     Fair   \n",
       "TKG SJ Equity                  Fair                     Poor   \n",
       "VOD SJ Equity                  Good                     Good   \n",
       "\n",
       "              ebitda_to_tot_int_exp_Class  \n",
       "Company                                    \n",
       "BLU SJ Equity                        Poor  \n",
       "MTN SJ Equity                        Fair  \n",
       "TKG SJ Equity                        Fair  \n",
       "VOD SJ Equity                        Good  "
      ]
     },
     "execution_count": 33,
     "metadata": {},
     "output_type": "execute_result"
    }
   ],
   "source": [
    "df.iloc[: , 5:10]"
   ]
  },
  {
   "cell_type": "markdown",
   "metadata": {
    "tags": []
   },
   "source": [
    "## Overall Scores and Classifications"
   ]
  },
  {
   "cell_type": "code",
   "execution_count": 37,
   "metadata": {
    "tags": []
   },
   "outputs": [
    {
     "data": {
      "text/html": [
       "<div>\n",
       "<style scoped>\n",
       "    .dataframe tbody tr th:only-of-type {\n",
       "        vertical-align: middle;\n",
       "    }\n",
       "\n",
       "    .dataframe tbody tr th {\n",
       "        vertical-align: top;\n",
       "    }\n",
       "\n",
       "    .dataframe thead th {\n",
       "        text-align: right;\n",
       "    }\n",
       "</style>\n",
       "<table border=\"1\" class=\"dataframe\">\n",
       "  <thead>\n",
       "    <tr style=\"text-align: right;\">\n",
       "      <th></th>\n",
       "      <th>Overall_Score</th>\n",
       "      <th>Overall_Class</th>\n",
       "    </tr>\n",
       "    <tr>\n",
       "      <th>Company</th>\n",
       "      <th></th>\n",
       "      <th></th>\n",
       "    </tr>\n",
       "  </thead>\n",
       "  <tbody>\n",
       "    <tr>\n",
       "      <th>BLU SJ Equity</th>\n",
       "      <td>1.8</td>\n",
       "      <td>Fair</td>\n",
       "    </tr>\n",
       "    <tr>\n",
       "      <th>MTN SJ Equity</th>\n",
       "      <td>1.8</td>\n",
       "      <td>Fair</td>\n",
       "    </tr>\n",
       "    <tr>\n",
       "      <th>TKG SJ Equity</th>\n",
       "      <td>1.6</td>\n",
       "      <td>Fair</td>\n",
       "    </tr>\n",
       "    <tr>\n",
       "      <th>VOD SJ Equity</th>\n",
       "      <td>2.8</td>\n",
       "      <td>Good</td>\n",
       "    </tr>\n",
       "  </tbody>\n",
       "</table>\n",
       "</div>"
      ],
      "text/plain": [
       "               Overall_Score Overall_Class\n",
       "Company                                   \n",
       "BLU SJ Equity            1.8          Fair\n",
       "MTN SJ Equity            1.8          Fair\n",
       "TKG SJ Equity            1.6          Fair\n",
       "VOD SJ Equity            2.8          Good"
      ]
     },
     "execution_count": 37,
     "metadata": {},
     "output_type": "execute_result"
    }
   ],
   "source": [
    "df.iloc[:, -2:]"
   ]
  }
 ],
 "metadata": {
  "kernelspec": {
   "display_name": "Python 3 (ipykernel)",
   "language": "python",
   "name": "python3"
  },
  "language_info": {
   "codemirror_mode": {
    "name": "ipython",
    "version": 3
   },
   "file_extension": ".py",
   "mimetype": "text/x-python",
   "name": "python",
   "nbconvert_exporter": "python",
   "pygments_lexer": "ipython3",
   "version": "3.11.5"
  }
 },
 "nbformat": 4,
 "nbformat_minor": 4
}
