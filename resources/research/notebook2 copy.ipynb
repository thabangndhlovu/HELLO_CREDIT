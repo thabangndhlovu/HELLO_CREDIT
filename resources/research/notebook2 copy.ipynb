{
 "cells": [
  {
   "cell_type": "code",
   "execution_count": 2,
   "metadata": {},
   "outputs": [
    {
     "data": {
      "text/plain": [
       "(16.453437778391965, 3.270416454474676, 0.0005369462912450246)"
      ]
     },
     "execution_count": 2,
     "metadata": {},
     "output_type": "execute_result"
    }
   ],
   "source": [
    "import numpy as np\n",
    "from scipy.stats import norm\n",
    "from scipy.optimize import minimize\n",
    "\n",
    "# Define the KMV model class\n",
    "class KMVModel:\n",
    "    def __init__(self, market_cap, shares, stock_price, assets, current_liabilities, non_current_liabilities, risk_free_rate, sigma, T=1):\n",
    "        self.market_cap = market_cap\n",
    "        self.shares = shares\n",
    "        self.stock_price = stock_price\n",
    "        self.assets = assets\n",
    "        self.current_liabilities = current_liabilities\n",
    "        self.non_current_liabilities = non_current_liabilities\n",
    "        self.risk_free_rate = risk_free_rate\n",
    "        self.sigma = sigma\n",
    "        self.T = T\n",
    "        self.DPT = self.current_liabilities + 0.5 * self.non_current_liabilities\n",
    "        self.iterations = 0\n",
    "\n",
    "    def calculate_d1_d2(self, V):\n",
    "        \"\"\"Calculate d1 and d2 for given asset value V.\"\"\"\n",
    "        d1 = (np.log(V / self.DPT) + (self.risk_free_rate + self.sigma**2 / 2) * self.T) / (self.sigma * np.sqrt(self.T))\n",
    "        d2 = d1 - self.sigma * np.sqrt(self.T)\n",
    "        return d1, d2\n",
    "\n",
    "    def fair_value(self, V):\n",
    "        \"\"\"Calculate the fair value of equity for given asset value V.\"\"\"\n",
    "        d1, d2 = self.calculate_d1_d2(V)\n",
    "        FV = V * norm.cdf(d1) - self.DPT * np.exp(-self.risk_free_rate * self.T) * norm.cdf(d2)\n",
    "        return FV\n",
    "    \n",
    "    def mispricing(self, V):\n",
    "        \"\"\"Calculate the mispricing given asset value V.\"\"\"\n",
    "        FV = self.fair_value(V)\n",
    "        mispricing = (FV - self.market_cap)**2\n",
    "        return mispricing\n",
    "\n",
    "    def optimize_assets(self):\n",
    "        \"\"\"Optimize the asset value to minimize mispricing.\"\"\"\n",
    "        result = minimize(lambda V: self.mispricing(V), x0=self.market_cap, bounds=[(0, None)])\n",
    "        if result.success:\n",
    "            optimized_V = result.x[0]\n",
    "        else:\n",
    "            raise ValueError(\"Optimization failed.\")\n",
    "        return optimized_V\n",
    "\n",
    "    def distance_to_default(self, V):\n",
    "        \"\"\"Calculate the distance to default given asset value V.\"\"\"\n",
    "        d1, d2 = self.calculate_d1_d2(V)\n",
    "        DD = d2\n",
    "        return DD\n",
    "\n",
    "    def probability_of_default(self, V):\n",
    "        \"\"\"Calculate the probability of default given asset value V.\"\"\"\n",
    "        DD = self.distance_to_default(V)\n",
    "        PD = norm.cdf(-DD)\n",
    "        return PD\n",
    "\n",
    "# Placeholder data from the transcription, replace with real values\n",
    "market_cap = 14.89234  # Market capitalization in billions of dollars\n",
    "shares = 303.6  # Shares outstanding in millions\n",
    "stock_price = 49.052502  # Stock price in dollars\n",
    "assets = 3.4993  # Total assets in billions of dollars\n",
    "current_liabilities = 1.3547  # Current liabilities in billions of dollars\n",
    "non_current_liabilities = 0.5421  # Non-current liabilities in billions of dollars\n",
    "risk_free_rate = 0.0405  # Risk-free rate in decimals\n",
    "sigma = 0.6546  # Asset volatility in decimals\n",
    "T = 1  # Time horizon in years\n",
    "\n",
    "# Initialize the KMV model\n",
    "kmv_model = KMVModel(market_cap, shares, stock_price, assets, current_liabilities, non_current_liabilities, risk_free_rate, sigma, T)\n",
    "\n",
    "# Start the optimization to find the asset value that minimizes mispricing\n",
    "optimized_assets = kmv_model.optimize_assets()\n",
    "\n",
    "# Calculate the distance to default and probability of default\n",
    "distance_to_default = kmv_model.distance_to_default(optimized_assets)\n",
    "probability_of_default = kmv_model.probability_of_default(optimized_assets)\n",
    "\n",
    "(optimized_assets, distance_to_default, probability_of_default)"
   ]
  },
  {
   "cell_type": "code",
   "execution_count": 7,
   "metadata": {},
   "outputs": [
    {
     "name": "stdout",
     "output_type": "stream",
     "text": [
      "Fair Value (at time T): 127185.52\n",
      "Expected Default Frequency (EDF): 24.29%\n"
     ]
    }
   ],
   "source": [
    "import numpy as np\n",
    "from scipy.stats import norm\n",
    "\n",
    "# Constants given in the formula\n",
    "STD = 500_000  # Short-term debt\n",
    "LTD = 900_000  # Long-term debt\n",
    "A = 1_000_000    # Current asset value\n",
    "sigma_A = 0.15  # Asset volatility\n",
    "r = 0.0645      # Risk-free rate\n",
    "T = 1         # Time horizon in years\n",
    "\n",
    "# Calculating the default point (DPT)\n",
    "DPT = STD + 0.5 * LTD\n",
    "\n",
    "# Calculating d1 and d2 using the given formulas\n",
    "d1 = (np.log(A / DPT) + (r + sigma_A ** 2 / 2) * T) / (sigma_A * np.sqrt(T))\n",
    "d2 = d1 - sigma_A * np.sqrt(T)        \n",
    "\n",
    "# Calculating the firm value (FV) at time T\n",
    "FV = A * norm.cdf(d1) - DPT * np.exp(-r * T) * norm.cdf(d2)\n",
    "    \n",
    "# Calculating the Expected Default Frequency (EDF)\n",
    "EDF = norm.cdf(-d2)\n",
    "\n",
    "FV, d1, d2, EDF\n",
    "\n",
    "print(f\"Fair Value (at time T): {FV:.2f}\")\n",
    "print(f\"Expected Default Frequency (EDF): {EDF:.2%}\")"
   ]
  }
 ],
 "metadata": {
  "kernelspec": {
   "display_name": "base",
   "language": "python",
   "name": "python3"
  },
  "language_info": {
   "codemirror_mode": {
    "name": "ipython",
    "version": 3
   },
   "file_extension": ".py",
   "mimetype": "text/x-python",
   "name": "python",
   "nbconvert_exporter": "python",
   "pygments_lexer": "ipython3",
   "version": "3.11.5"
  }
 },
 "nbformat": 4,
 "nbformat_minor": 2
}
