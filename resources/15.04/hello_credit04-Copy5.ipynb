{
 "cells": [
  {
   "cell_type": "markdown",
   "id": "e5bebd14-5939-4228-9449-e42827616343",
   "metadata": {},
   "source": [
    "# **Predictive Default Risk Assessor V.01**"
   ]
  },
  {
   "cell_type": "markdown",
   "id": "aa758ff1-aff3-4718-a6b6-2bf4aa81d71f",
   "metadata": {},
   "source": [
    "# TODO\n",
    "\n",
    "* Base model \n",
    "* Comparison\n",
    "* Specialised\n",
    "* For small entities - Examples?\n",
    "* Backtest - All sectors \n",
    "* Understanding the model across all sectors/industries\n",
    "* Any markets - consumer goods, industries\n",
    "* UI last step after backtesting"
   ]
  },
  {
   "cell_type": "code",
   "execution_count": 388,
   "id": "27606373",
   "metadata": {
    "tags": []
   },
   "outputs": [],
   "source": [
    "model_inputs = {\n",
    "    \"profitability\": {\n",
    "        \"class_weight\": 0.30,\n",
    "        \"weights\": [1.0], \n",
    "        \"metrics\": {\n",
    "            \"oper_margin\": {\n",
    "                \"lower_is_better\": False,\n",
    "                \"thresholds\": [\n",
    "                    (40, float(\"inf\")),\n",
    "                    (35, 39),\n",
    "                    (30, 34),\n",
    "                    (25, 29),\n",
    "                    (20, 24),\n",
    "                    (15, 19),\n",
    "                    (10, 14),\n",
    "                    (5, 9),\n",
    "                    (float(\"-inf\"), 0)\n",
    "                ],\n",
    "            }\n",
    "        },\n",
    "    },\n",
    "    \"leverage_coverage\": {\n",
    "        \"class_weight\": 0.55,\n",
    "        \"weights\": [0.4, 0.3, 0.3],\n",
    "        \"metrics\": {\n",
    "            \"tot_debt_to_tot_eqy\": {\n",
    "                \"lower_is_better\": True,\n",
    "                \"thresholds\": [\n",
    "                     (float(\"-inf\"), 2.0),\n",
    "                     (2.0, 16.0),\n",
    "                     (16.0, 24.0),\n",
    "                     (24.0, 33.0),\n",
    "                     (33.0, 43.0),\n",
    "                     (43.0, 54.0),\n",
    "                     (54.0, 68.0),\n",
    "                     (68.0, 94.0),\n",
    "                     (94.0, float(\"inf\")),\n",
    "                ],\n",
    "            },\n",
    "            \"tot_debt_to_ebitda\": {\n",
    "                \"lower_is_better\": True,\n",
    "                \"thresholds\": [\n",
    "                    (float(\"-inf\"), 0.09),\n",
    "                    (0.09, 0.49),\n",
    "                    (0.49, 0.9),\n",
    "                    (0.9, 1.36),\n",
    "                    (1.36, 1.68),\n",
    "                    (1.68, 2.26),\n",
    "                    (2.26, 3.27),\n",
    "                    (3.27, 4.4),\n",
    "                    (4.4, float(\"inf\")),\n",
    "                ],\n",
    "            },\n",
    "            \"ebitda_to_tot_int_exp\": {\n",
    "                \"lower_is_better\": False,\n",
    "                \"thresholds\": [\n",
    "                    (25, float(\"inf\")),\n",
    "                    (20, 25),\n",
    "                    (15, 20),\n",
    "                    (10, 15),\n",
    "                    (5, 10),\n",
    "                    (3, 5),\n",
    "                    (1, 3),\n",
    "                    (0, 1),\n",
    "                    (float(\"-inf\"), 0),\n",
    "                ],\n",
    "            },\n",
    "        },\n",
    "    },\n",
    "    \"efficiency\": {\n",
    "        \"class_weight\": 0.15,\n",
    "        \"weights\": [0.5, 0.5],\n",
    "        \"metrics\": {\n",
    "            \"return_on_asset\": {\n",
    "                \"lower_is_better\": False,\n",
    "                \"thresholds\": [\n",
    "                    (0.15, float(\"inf\")),\n",
    "                    (0.10, 0.15),\n",
    "                    (0.08, 0.10),\n",
    "                    (0.06, 0.08),\n",
    "                    (0.04, 0.06),\n",
    "                    (0.02, 0.04),\n",
    "                    (0.00, 0.02),\n",
    "                    (-0.02, 0.00),\n",
    "                    (float(\"-inf\"), -0.02)\n",
    "                ],\n",
    "            },\n",
    "            \"asset_turnover\": {\n",
    "                \"lower_is_better\": False,\n",
    "                \"thresholds\": [\n",
    "                    (4.0, float(\"inf\")),\n",
    "                    (3.0, 4.0),\n",
    "                    (2.0, 3.0),\n",
    "                    (1.5, 2.0),\n",
    "                    (1.0, 1.5),\n",
    "                    (0.75, 1.0),\n",
    "                    (0.5, 0.75),\n",
    "                    (0.25, 0.5),\n",
    "                    (float(\"-inf\"), 0.25)\n",
    "                ],\n",
    "            },\n",
    "        },\n",
    "    },\n",
    "}"
   ]
  },
  {
   "cell_type": "code",
   "execution_count": 2,
   "id": "78b2f3ed-0720-43a7-8204-f4f0efe040b8",
   "metadata": {
    "jupyter": {
     "source_hidden": true
    },
    "tags": []
   },
   "outputs": [],
   "source": [
    "import pandas as pd\n",
    "import numpy as np"
   ]
  },
  {
   "cell_type": "code",
   "execution_count": 389,
   "id": "8ff894c0-a05e-4061-9445-bbb895296a09",
   "metadata": {
    "tags": []
   },
   "outputs": [],
   "source": [
    "class CreditRatingCalculator:\n",
    "    def __init__(self, metrics):\n",
    "        self.metrics = metrics\n",
    "        \n",
    "    def _calculate_metric_score(self, metric, thresholds, inverse):\n",
    "        for score, (lower, upper) in enumerate(thresholds, start=1):\n",
    "            if (inverse and metric <= upper) or (not inverse and metric >= lower):\n",
    "                return score\n",
    "        return len(thresholds) // 2 # else return the middle score\n",
    "\n",
    "    def _calculate_category_score(self, category_metrics, ratios):\n",
    "        total_weighted_score = 0\n",
    "\n",
    "        for metric, weight in zip(\n",
    "            category_metrics[\"metrics\"].items(), category_metrics[\"weights\"]\n",
    "        ):\n",
    "            metric_name, metric_data = metric\n",
    "            value = ratios[metric_name]\n",
    "            score = self._calculate_metric_score(\n",
    "                value, metric_data[\"thresholds\"], metric_data[\"lower_is_better\"]\n",
    "            )\n",
    "            total_weighted_score += score * weight\n",
    "\n",
    "        return total_weighted_score\n",
    "\n",
    "    def _calculate_scores(self, ratios):\n",
    "        scores = {}\n",
    "        for category, category_data in self.metrics.items():\n",
    "            category_score = self._calculate_category_score(category_data, ratios)\n",
    "            scores[category] = category_score\n",
    "        return scores\n",
    "\n",
    "    def _calculate_weighted_score(self, scores):\n",
    "        weights = {\n",
    "            category: category_data[\"class_weight\"]\n",
    "            for category, category_data in self.metrics.items()\n",
    "        }\n",
    "        return sum(scores[category] * weight for category, weight in weights.items())\n",
    "\n",
    "    def _determine_credit_rating(self, weighted_score):\n",
    "        credit_ratings = [\n",
    "            (2.5, \"Aaa\"),\n",
    "            (3.5, \"Aa\"),\n",
    "            (4.5, \"A\"),\n",
    "            (5.5, \"Baa\"),\n",
    "            (6.5, \"Ba\"),\n",
    "            (7.5, \"B\"),\n",
    "            (8.5, \"Caa\"),\n",
    "            (9.5, \"Ca\"),\n",
    "            (10, \"C\"),\n",
    "        ]\n",
    "    \n",
    "        for threshold, rating in credit_ratings:\n",
    "            if weighted_score < threshold:\n",
    "                return rating\n",
    "\n",
    "    def calculate_credit_rating(self, ratios):\n",
    "        self.scores = self._calculate_scores(ratios)\n",
    "        self.credit_score = self._calculate_weighted_score(self.scores)\n",
    "        self.credit_rating = self._determine_credit_rating(self.credit_score)"
   ]
  },
  {
   "cell_type": "code",
   "execution_count": 390,
   "id": "ba34e0b7-dd1b-41d2-b4dc-4608bdc2ece4",
   "metadata": {
    "tags": []
   },
   "outputs": [],
   "source": [
    "features = pd.read_excel(\"dataset/features.xlsx\", index_col=0)\n",
    "targets = pd.read_excel(\"dataset/target.xlsx\", index_col=0)\n",
    "features.columns = features.columns.str.lower()"
   ]
  },
  {
   "cell_type": "code",
   "execution_count": 391,
   "id": "c9ce811f-6d11-4467-92cb-8558f849a579",
   "metadata": {
    "tags": []
   },
   "outputs": [],
   "source": [
    "model_metrics = [\n",
    "    \"oper_margin\", \n",
    "    \"tot_debt_to_tot_eqy\", \n",
    "    \"tot_debt_to_ebitda\", \n",
    "    \"ebitda_to_tot_int_exp\", \n",
    "    \"return_on_asset\",\n",
    "    \"asset_turnover\",\n",
    "]\n",
    "\n",
    "ratios = features.loc[company][model_metrics].to_dict()"
   ]
  },
  {
   "cell_type": "code",
   "execution_count": 392,
   "id": "30c62d83-89e5-4bce-a206-55a07db17e63",
   "metadata": {
    "tags": []
   },
   "outputs": [
    {
     "data": {
      "text/plain": [
       "{'oper_margin': 4.372,\n",
       " 'tot_debt_to_tot_eqy': 98.646,\n",
       " 'tot_debt_to_ebitda': 2.0211,\n",
       " 'ebitda_to_tot_int_exp': 5.5277,\n",
       " 'return_on_asset': 11.2683,\n",
       " 'asset_turnover': 3.8526}"
      ]
     },
     "execution_count": 392,
     "metadata": {},
     "output_type": "execute_result"
    }
   ],
   "source": [
    "ratios"
   ]
  },
  {
   "cell_type": "code",
   "execution_count": 393,
   "id": "39b74db9-167a-4d83-bda9-f280c20cd9f4",
   "metadata": {
    "tags": []
   },
   "outputs": [
    {
     "name": "stdout",
     "output_type": "stream",
     "text": [
      "Model Inputs:\n"
     ]
    },
    {
     "data": {
      "text/plain": [
       "{'oper_margin': 4.372,\n",
       " 'tot_debt_to_tot_eqy': 98.646,\n",
       " 'tot_debt_to_ebitda': 2.0211,\n",
       " 'ebitda_to_tot_int_exp': 5.5277,\n",
       " 'return_on_asset': 11.2683,\n",
       " 'asset_turnover': 3.8526}"
      ]
     },
     "metadata": {},
     "output_type": "display_data"
    },
    {
     "name": "stdout",
     "output_type": "stream",
     "text": [
      "\n",
      "Class Scoring: {'profitability': 9.0, 'leverage_coverage': 6.9, 'efficiency': 1.5}\n",
      "Credit Score: 6.72\n",
      "Credit Rating: B\n"
     ]
    }
   ],
   "source": [
    "model = CreditRatingCalculator(model_inputs)\n",
    "model.calculate_credit_rating(ratios)\n",
    "print(f\"Model Inputs:\")\n",
    "display(ratios)\n",
    "print(\"\")\n",
    "print(f\"Class Scoring: {model.scores}\")\n",
    "print(f\"Credit Score: {model.credit_score}\")\n",
    "print(f\"Credit Rating: {model.credit_rating}\")"
   ]
  },
  {
   "cell_type": "code",
   "execution_count": 395,
   "id": "43f532f7-e6f4-4e84-8da5-4f0441604452",
   "metadata": {},
   "outputs": [],
   "source": [
    "study = {}\n",
    "ra = {}\n",
    "for company in features.index:\n",
    "    ratios = features.loc[company][model_metrics].to_dict()\n",
    "    model = CreditRatingCalculator(model_inputs)\n",
    "    model.calculate_credit_rating(ratios)\n",
    "    ra[company] = ratios\n",
    "    study[company] = {\"class_scoreing\": model.scores, \"credit_score\": model.credit_score, \"credit_rating\": model.credit_rating}\n",
    "    \n",
    "study = pd.DataFrame(study).T"
   ]
  },
  {
   "cell_type": "code",
   "execution_count": 396,
   "id": "470164db-5b00-44a5-a303-304ac56bd78f",
   "metadata": {
    "tags": []
   },
   "outputs": [
    {
     "data": {
      "text/html": [
       "<div>\n",
       "<style scoped>\n",
       "    .dataframe tbody tr th:only-of-type {\n",
       "        vertical-align: middle;\n",
       "    }\n",
       "\n",
       "    .dataframe tbody tr th {\n",
       "        vertical-align: top;\n",
       "    }\n",
       "\n",
       "    .dataframe thead th {\n",
       "        text-align: right;\n",
       "    }\n",
       "</style>\n",
       "<table border=\"1\" class=\"dataframe\">\n",
       "  <thead>\n",
       "    <tr style=\"text-align: right;\">\n",
       "      <th></th>\n",
       "      <th>class_scoreing</th>\n",
       "      <th>credit_score</th>\n",
       "      <th>credit_rating</th>\n",
       "    </tr>\n",
       "  </thead>\n",
       "  <tbody>\n",
       "    <tr>\n",
       "      <th>AGL SJ Equity</th>\n",
       "      <td>{'profitability': 7.0, 'leverage_coverage': 6....</td>\n",
       "      <td>6.24</td>\n",
       "      <td>Ba</td>\n",
       "    </tr>\n",
       "    <tr>\n",
       "      <th>ANG SJ Equity</th>\n",
       "      <td>{'profitability': 9.0, 'leverage_coverage': 6....</td>\n",
       "      <td>7.255</td>\n",
       "      <td>B</td>\n",
       "    </tr>\n",
       "    <tr>\n",
       "      <th>ANH SJ Equity</th>\n",
       "      <td>{'profitability': 5.0, 'leverage_coverage': 7....</td>\n",
       "      <td>6.245</td>\n",
       "      <td>Ba</td>\n",
       "    </tr>\n",
       "    <tr>\n",
       "      <th>BAW SJ Equity</th>\n",
       "      <td>{'profitability': 8.0, 'leverage_coverage': 6....</td>\n",
       "      <td>6.665</td>\n",
       "      <td>B</td>\n",
       "    </tr>\n",
       "    <tr>\n",
       "      <th>BHG SJ Equity</th>\n",
       "      <td>{'profitability': 1.0, 'leverage_coverage': 3....</td>\n",
       "      <td>3.045</td>\n",
       "      <td>Aa</td>\n",
       "    </tr>\n",
       "    <tr>\n",
       "      <th>...</th>\n",
       "      <td>...</td>\n",
       "      <td>...</td>\n",
       "      <td>...</td>\n",
       "    </tr>\n",
       "    <tr>\n",
       "      <th>UGPA3 BS Equity</th>\n",
       "      <td>{'profitability': 9.0, 'leverage_coverage': 7....</td>\n",
       "      <td>7.05</td>\n",
       "      <td>B</td>\n",
       "    </tr>\n",
       "    <tr>\n",
       "      <th>USIM5 BS Equity</th>\n",
       "      <td>{'profitability': 9.0, 'leverage_coverage': 5....</td>\n",
       "      <td>6.435</td>\n",
       "      <td>Ba</td>\n",
       "    </tr>\n",
       "    <tr>\n",
       "      <th>VALE3 BS Equity</th>\n",
       "      <td>{'profitability': 3.0, 'leverage_coverage': 4....</td>\n",
       "      <td>3.83</td>\n",
       "      <td>A</td>\n",
       "    </tr>\n",
       "    <tr>\n",
       "      <th>VAMO3 BS Equity</th>\n",
       "      <td>{'profitability': 3.0, 'leverage_coverage': 8....</td>\n",
       "      <td>6.03</td>\n",
       "      <td>Ba</td>\n",
       "    </tr>\n",
       "    <tr>\n",
       "      <th>VBBR3 BS Equity</th>\n",
       "      <td>{'profitability': 9.0, 'leverage_coverage': 6....</td>\n",
       "      <td>6.72</td>\n",
       "      <td>B</td>\n",
       "    </tr>\n",
       "  </tbody>\n",
       "</table>\n",
       "<p>70 rows × 3 columns</p>\n",
       "</div>"
      ],
      "text/plain": [
       "                                                    class_scoreing  \\\n",
       "AGL SJ Equity    {'profitability': 7.0, 'leverage_coverage': 6....   \n",
       "ANG SJ Equity    {'profitability': 9.0, 'leverage_coverage': 6....   \n",
       "ANH SJ Equity    {'profitability': 5.0, 'leverage_coverage': 7....   \n",
       "BAW SJ Equity    {'profitability': 8.0, 'leverage_coverage': 6....   \n",
       "BHG SJ Equity    {'profitability': 1.0, 'leverage_coverage': 3....   \n",
       "...                                                            ...   \n",
       "UGPA3 BS Equity  {'profitability': 9.0, 'leverage_coverage': 7....   \n",
       "USIM5 BS Equity  {'profitability': 9.0, 'leverage_coverage': 5....   \n",
       "VALE3 BS Equity  {'profitability': 3.0, 'leverage_coverage': 4....   \n",
       "VAMO3 BS Equity  {'profitability': 3.0, 'leverage_coverage': 8....   \n",
       "VBBR3 BS Equity  {'profitability': 9.0, 'leverage_coverage': 6....   \n",
       "\n",
       "                credit_score credit_rating  \n",
       "AGL SJ Equity           6.24            Ba  \n",
       "ANG SJ Equity          7.255             B  \n",
       "ANH SJ Equity          6.245            Ba  \n",
       "BAW SJ Equity          6.665             B  \n",
       "BHG SJ Equity          3.045            Aa  \n",
       "...                      ...           ...  \n",
       "UGPA3 BS Equity         7.05             B  \n",
       "USIM5 BS Equity        6.435            Ba  \n",
       "VALE3 BS Equity         3.83             A  \n",
       "VAMO3 BS Equity         6.03            Ba  \n",
       "VBBR3 BS Equity         6.72             B  \n",
       "\n",
       "[70 rows x 3 columns]"
      ]
     },
     "execution_count": 396,
     "metadata": {},
     "output_type": "execute_result"
    }
   ],
   "source": [
    "study"
   ]
  },
  {
   "cell_type": "code",
   "execution_count": 397,
   "id": "3b4a31fd-8be1-4644-ab3c-2666c3173836",
   "metadata": {
    "tags": []
   },
   "outputs": [
    {
     "data": {
      "text/html": [
       "<div>\n",
       "<style scoped>\n",
       "    .dataframe tbody tr th:only-of-type {\n",
       "        vertical-align: middle;\n",
       "    }\n",
       "\n",
       "    .dataframe tbody tr th {\n",
       "        vertical-align: top;\n",
       "    }\n",
       "\n",
       "    .dataframe thead th {\n",
       "        text-align: right;\n",
       "    }\n",
       "</style>\n",
       "<table border=\"1\" class=\"dataframe\">\n",
       "  <thead>\n",
       "    <tr style=\"text-align: right;\">\n",
       "      <th></th>\n",
       "      <th>numeric_rating</th>\n",
       "    </tr>\n",
       "  </thead>\n",
       "  <tbody>\n",
       "    <tr>\n",
       "      <th>AGL SJ Equity</th>\n",
       "      <td>5.5</td>\n",
       "    </tr>\n",
       "    <tr>\n",
       "      <th>ANG SJ Equity</th>\n",
       "      <td>5.5</td>\n",
       "    </tr>\n",
       "    <tr>\n",
       "      <th>ANH SJ Equity</th>\n",
       "      <td>4.5</td>\n",
       "    </tr>\n",
       "    <tr>\n",
       "      <th>BAW SJ Equity</th>\n",
       "      <td>6.5</td>\n",
       "    </tr>\n",
       "    <tr>\n",
       "      <th>BHG SJ Equity</th>\n",
       "      <td>4.5</td>\n",
       "    </tr>\n",
       "  </tbody>\n",
       "</table>\n",
       "</div>"
      ],
      "text/plain": [
       "               numeric_rating\n",
       "AGL SJ Equity             5.5\n",
       "ANG SJ Equity             5.5\n",
       "ANH SJ Equity             4.5\n",
       "BAW SJ Equity             6.5\n",
       "BHG SJ Equity             4.5"
      ]
     },
     "execution_count": 397,
     "metadata": {},
     "output_type": "execute_result"
    }
   ],
   "source": [
    "y.head()"
   ]
  },
  {
   "cell_type": "code",
   "execution_count": null,
   "id": "745c6d09-4624-4683-b5df-6a18083fcea3",
   "metadata": {},
   "outputs": [],
   "source": []
  },
  {
   "cell_type": "code",
   "execution_count": null,
   "id": "4cc725b9-78b5-4354-9e85-590155c53cea",
   "metadata": {},
   "outputs": [],
   "source": []
  },
  {
   "cell_type": "code",
   "execution_count": 398,
   "id": "6b804bfd-266c-4105-98d0-870d432c0290",
   "metadata": {
    "tags": []
   },
   "outputs": [],
   "source": [
    "ms = ['AGL SJ Equity', 'ANG SJ Equity', 'ANH SJ Equity', 'BAW SJ Equity',\n",
    "'BHG SJ Equity', 'BVT SJ Equity', 'GFI SJ Equity', 'MNP SJ Equity',\n",
    "'SAP SJ Equity', 'SOL SJ Equity', 'TKG SJ Equity', 'ABEV3 BS Equity',\n",
    "'AZUL4 BS Equity', 'B3SA3 BS Equity', 'BEEF3 BS Equity',\n",
    "'BPAC11 BS Equity', 'BRFS3 BS Equity', 'BRKM5 BS Equity',\n",
    "'CIEL3 BS Equity', 'CMIG4 BS Equity', 'CSAN3 BS Equity',\n",
    "'CSNA3 BS Equity', 'ELET3 BS Equity', 'ELET6 BS Equity',\n",
    "'EMBR3 BS Equity', 'ENGI11 BS Equity', 'GGBR4 BS Equity',\n",
    "'HYPE3 BS Equity', 'JBSS3 BS Equity', 'KLBN11 BS Equity',\n",
    "'MOVI3 BS Equity', 'MRFG3 BS Equity', 'NTCO3 BS Equity',\n",
    "'PETR3 BS Equity', 'PETR4 BS Equity', 'PRIO3 BS Equity',\n",
    "'RAIL3 BS Equity', 'RAIZ4 BS Equity', 'RDOR3 BS Equity',\n",
    "'RENT3 BS Equity', 'RRRP3 BS Equity', 'SBSP3 BS Equity',\n",
    "'SMTO3 BS Equity', 'SUZB3 BS Equity', 'UGPA3 BS Equity',\n",
    "'USIM5 BS Equity', 'VALE3 BS Equity', 'VAMO3 BS Equity',\n",
    "'VBBR3 BS Equity']"
   ]
  },
  {
   "cell_type": "code",
   "execution_count": 399,
   "id": "c0dd21ba-960f-45bf-baa6-5ad24a8d8967",
   "metadata": {
    "tags": []
   },
   "outputs": [],
   "source": [
    "import pandas as pd"
   ]
  },
  {
   "cell_type": "code",
   "execution_count": 400,
   "id": "070b5b76-58f1-40f7-97a1-3f3fb573fed4",
   "metadata": {
    "tags": []
   },
   "outputs": [],
   "source": [
    "ta = pd.read_excel('t.xlsx', index_col=0)"
   ]
  },
  {
   "cell_type": "code",
   "execution_count": 465,
   "id": "9dcbe9d4-01cd-4512-a927-b79a25d8fde2",
   "metadata": {
    "tags": []
   },
   "outputs": [],
   "source": [
    "y = ta.copy()\n",
    "X = pd.DataFrame(ra).T.fillna(0).loc[y_true.index]#.values"
   ]
  },
  {
   "cell_type": "code",
   "execution_count": 402,
   "id": "8f5fb747-8961-4fcf-b747-d02072fb894f",
   "metadata": {
    "tags": []
   },
   "outputs": [
    {
     "data": {
      "text/html": [
       "<div>\n",
       "<style scoped>\n",
       "    .dataframe tbody tr th:only-of-type {\n",
       "        vertical-align: middle;\n",
       "    }\n",
       "\n",
       "    .dataframe tbody tr th {\n",
       "        vertical-align: top;\n",
       "    }\n",
       "\n",
       "    .dataframe thead th {\n",
       "        text-align: right;\n",
       "    }\n",
       "</style>\n",
       "<table border=\"1\" class=\"dataframe\">\n",
       "  <thead>\n",
       "    <tr style=\"text-align: right;\">\n",
       "      <th></th>\n",
       "      <th>oper_margin</th>\n",
       "      <th>tot_debt_to_tot_eqy</th>\n",
       "      <th>tot_debt_to_ebitda</th>\n",
       "      <th>ebitda_to_tot_int_exp</th>\n",
       "      <th>return_on_asset</th>\n",
       "      <th>asset_turnover</th>\n",
       "    </tr>\n",
       "  </thead>\n",
       "  <tbody>\n",
       "    <tr>\n",
       "      <th>AGL SJ Equity</th>\n",
       "      <td>12.7365</td>\n",
       "      <td>53.4902</td>\n",
       "      <td>2.5667</td>\n",
       "      <td>3.4697</td>\n",
       "      <td>0.4225</td>\n",
       "      <td>0.4577</td>\n",
       "    </tr>\n",
       "    <tr>\n",
       "      <th>ANG SJ Equity</th>\n",
       "      <td>0.8730</td>\n",
       "      <td>64.4385</td>\n",
       "      <td>1.8845</td>\n",
       "      <td>9.6807</td>\n",
       "      <td>-2.8928</td>\n",
       "      <td>0.5640</td>\n",
       "    </tr>\n",
       "    <tr>\n",
       "      <th>ANH SJ Equity</th>\n",
       "      <td>23.5197</td>\n",
       "      <td>84.3433</td>\n",
       "      <td>4.0381</td>\n",
       "      <td>4.9105</td>\n",
       "      <td>2.4711</td>\n",
       "      <td>0.2747</td>\n",
       "    </tr>\n",
       "    <tr>\n",
       "      <th>BAW SJ Equity</th>\n",
       "      <td>9.9294</td>\n",
       "      <td>70.4382</td>\n",
       "      <td>1.7885</td>\n",
       "      <td>4.1374</td>\n",
       "      <td>4.3344</td>\n",
       "      <td>0.8784</td>\n",
       "    </tr>\n",
       "    <tr>\n",
       "      <th>BHG SJ Equity</th>\n",
       "      <td>41.5073</td>\n",
       "      <td>46.0437</td>\n",
       "      <td>0.8155</td>\n",
       "      <td>24.3114</td>\n",
       "      <td>13.1537</td>\n",
       "      <td>0.5479</td>\n",
       "    </tr>\n",
       "  </tbody>\n",
       "</table>\n",
       "</div>"
      ],
      "text/plain": [
       "               oper_margin  tot_debt_to_tot_eqy  tot_debt_to_ebitda  \\\n",
       "AGL SJ Equity      12.7365              53.4902              2.5667   \n",
       "ANG SJ Equity       0.8730              64.4385              1.8845   \n",
       "ANH SJ Equity      23.5197              84.3433              4.0381   \n",
       "BAW SJ Equity       9.9294              70.4382              1.7885   \n",
       "BHG SJ Equity      41.5073              46.0437              0.8155   \n",
       "\n",
       "               ebitda_to_tot_int_exp  return_on_asset  asset_turnover  \n",
       "AGL SJ Equity                 3.4697           0.4225          0.4577  \n",
       "ANG SJ Equity                 9.6807          -2.8928          0.5640  \n",
       "ANH SJ Equity                 4.9105           2.4711          0.2747  \n",
       "BAW SJ Equity                 4.1374           4.3344          0.8784  \n",
       "BHG SJ Equity                24.3114          13.1537          0.5479  "
      ]
     },
     "execution_count": 402,
     "metadata": {},
     "output_type": "execute_result"
    }
   ],
   "source": [
    "X.head()"
   ]
  },
  {
   "cell_type": "code",
   "execution_count": 445,
   "id": "04ae14a8-94be-4f3a-8935-291744dcd835",
   "metadata": {
    "tags": []
   },
   "outputs": [],
   "source": [
    "from sklearn.metrics import mean_squared_error\n",
    "from sklearn.tree import DecisionTreeRegressor, plot_tree"
   ]
  },
  {
   "cell_type": "code",
   "execution_count": null,
   "id": "fb5cc62d-202d-4ce3-ae68-7f33691360df",
   "metadata": {},
   "outputs": [],
   "source": []
  },
  {
   "cell_type": "code",
   "execution_count": null,
   "id": "0970dfda-e8ce-469a-b73e-ed264c895116",
   "metadata": {
    "tags": []
   },
   "outputs": [],
   "source": []
  },
  {
   "cell_type": "code",
   "execution_count": 447,
   "id": "3b30833b-c969-41b7-b5a5-7eab16c408fb",
   "metadata": {
    "tags": []
   },
   "outputs": [
    {
     "data": {
      "text/html": [
       "<style>#sk-container-id-1 {\n",
       "  /* Definition of color scheme common for light and dark mode */\n",
       "  --sklearn-color-text: black;\n",
       "  --sklearn-color-line: gray;\n",
       "  /* Definition of color scheme for unfitted estimators */\n",
       "  --sklearn-color-unfitted-level-0: #fff5e6;\n",
       "  --sklearn-color-unfitted-level-1: #f6e4d2;\n",
       "  --sklearn-color-unfitted-level-2: #ffe0b3;\n",
       "  --sklearn-color-unfitted-level-3: chocolate;\n",
       "  /* Definition of color scheme for fitted estimators */\n",
       "  --sklearn-color-fitted-level-0: #f0f8ff;\n",
       "  --sklearn-color-fitted-level-1: #d4ebff;\n",
       "  --sklearn-color-fitted-level-2: #b3dbfd;\n",
       "  --sklearn-color-fitted-level-3: cornflowerblue;\n",
       "\n",
       "  /* Specific color for light theme */\n",
       "  --sklearn-color-text-on-default-background: var(--sg-text-color, var(--theme-code-foreground, var(--jp-content-font-color1, black)));\n",
       "  --sklearn-color-background: var(--sg-background-color, var(--theme-background, var(--jp-layout-color0, white)));\n",
       "  --sklearn-color-border-box: var(--sg-text-color, var(--theme-code-foreground, var(--jp-content-font-color1, black)));\n",
       "  --sklearn-color-icon: #696969;\n",
       "\n",
       "  @media (prefers-color-scheme: dark) {\n",
       "    /* Redefinition of color scheme for dark theme */\n",
       "    --sklearn-color-text-on-default-background: var(--sg-text-color, var(--theme-code-foreground, var(--jp-content-font-color1, white)));\n",
       "    --sklearn-color-background: var(--sg-background-color, var(--theme-background, var(--jp-layout-color0, #111)));\n",
       "    --sklearn-color-border-box: var(--sg-text-color, var(--theme-code-foreground, var(--jp-content-font-color1, white)));\n",
       "    --sklearn-color-icon: #878787;\n",
       "  }\n",
       "}\n",
       "\n",
       "#sk-container-id-1 {\n",
       "  color: var(--sklearn-color-text);\n",
       "}\n",
       "\n",
       "#sk-container-id-1 pre {\n",
       "  padding: 0;\n",
       "}\n",
       "\n",
       "#sk-container-id-1 input.sk-hidden--visually {\n",
       "  border: 0;\n",
       "  clip: rect(1px 1px 1px 1px);\n",
       "  clip: rect(1px, 1px, 1px, 1px);\n",
       "  height: 1px;\n",
       "  margin: -1px;\n",
       "  overflow: hidden;\n",
       "  padding: 0;\n",
       "  position: absolute;\n",
       "  width: 1px;\n",
       "}\n",
       "\n",
       "#sk-container-id-1 div.sk-dashed-wrapped {\n",
       "  border: 1px dashed var(--sklearn-color-line);\n",
       "  margin: 0 0.4em 0.5em 0.4em;\n",
       "  box-sizing: border-box;\n",
       "  padding-bottom: 0.4em;\n",
       "  background-color: var(--sklearn-color-background);\n",
       "}\n",
       "\n",
       "#sk-container-id-1 div.sk-container {\n",
       "  /* jupyter's `normalize.less` sets `[hidden] { display: none; }`\n",
       "     but bootstrap.min.css set `[hidden] { display: none !important; }`\n",
       "     so we also need the `!important` here to be able to override the\n",
       "     default hidden behavior on the sphinx rendered scikit-learn.org.\n",
       "     See: https://github.com/scikit-learn/scikit-learn/issues/21755 */\n",
       "  display: inline-block !important;\n",
       "  position: relative;\n",
       "}\n",
       "\n",
       "#sk-container-id-1 div.sk-text-repr-fallback {\n",
       "  display: none;\n",
       "}\n",
       "\n",
       "div.sk-parallel-item,\n",
       "div.sk-serial,\n",
       "div.sk-item {\n",
       "  /* draw centered vertical line to link estimators */\n",
       "  background-image: linear-gradient(var(--sklearn-color-text-on-default-background), var(--sklearn-color-text-on-default-background));\n",
       "  background-size: 2px 100%;\n",
       "  background-repeat: no-repeat;\n",
       "  background-position: center center;\n",
       "}\n",
       "\n",
       "/* Parallel-specific style estimator block */\n",
       "\n",
       "#sk-container-id-1 div.sk-parallel-item::after {\n",
       "  content: \"\";\n",
       "  width: 100%;\n",
       "  border-bottom: 2px solid var(--sklearn-color-text-on-default-background);\n",
       "  flex-grow: 1;\n",
       "}\n",
       "\n",
       "#sk-container-id-1 div.sk-parallel {\n",
       "  display: flex;\n",
       "  align-items: stretch;\n",
       "  justify-content: center;\n",
       "  background-color: var(--sklearn-color-background);\n",
       "  position: relative;\n",
       "}\n",
       "\n",
       "#sk-container-id-1 div.sk-parallel-item {\n",
       "  display: flex;\n",
       "  flex-direction: column;\n",
       "}\n",
       "\n",
       "#sk-container-id-1 div.sk-parallel-item:first-child::after {\n",
       "  align-self: flex-end;\n",
       "  width: 50%;\n",
       "}\n",
       "\n",
       "#sk-container-id-1 div.sk-parallel-item:last-child::after {\n",
       "  align-self: flex-start;\n",
       "  width: 50%;\n",
       "}\n",
       "\n",
       "#sk-container-id-1 div.sk-parallel-item:only-child::after {\n",
       "  width: 0;\n",
       "}\n",
       "\n",
       "/* Serial-specific style estimator block */\n",
       "\n",
       "#sk-container-id-1 div.sk-serial {\n",
       "  display: flex;\n",
       "  flex-direction: column;\n",
       "  align-items: center;\n",
       "  background-color: var(--sklearn-color-background);\n",
       "  padding-right: 1em;\n",
       "  padding-left: 1em;\n",
       "}\n",
       "\n",
       "\n",
       "/* Toggleable style: style used for estimator/Pipeline/ColumnTransformer box that is\n",
       "clickable and can be expanded/collapsed.\n",
       "- Pipeline and ColumnTransformer use this feature and define the default style\n",
       "- Estimators will overwrite some part of the style using the `sk-estimator` class\n",
       "*/\n",
       "\n",
       "/* Pipeline and ColumnTransformer style (default) */\n",
       "\n",
       "#sk-container-id-1 div.sk-toggleable {\n",
       "  /* Default theme specific background. It is overwritten whether we have a\n",
       "  specific estimator or a Pipeline/ColumnTransformer */\n",
       "  background-color: var(--sklearn-color-background);\n",
       "}\n",
       "\n",
       "/* Toggleable label */\n",
       "#sk-container-id-1 label.sk-toggleable__label {\n",
       "  cursor: pointer;\n",
       "  display: block;\n",
       "  width: 100%;\n",
       "  margin-bottom: 0;\n",
       "  padding: 0.5em;\n",
       "  box-sizing: border-box;\n",
       "  text-align: center;\n",
       "}\n",
       "\n",
       "#sk-container-id-1 label.sk-toggleable__label-arrow:before {\n",
       "  /* Arrow on the left of the label */\n",
       "  content: \"▸\";\n",
       "  float: left;\n",
       "  margin-right: 0.25em;\n",
       "  color: var(--sklearn-color-icon);\n",
       "}\n",
       "\n",
       "#sk-container-id-1 label.sk-toggleable__label-arrow:hover:before {\n",
       "  color: var(--sklearn-color-text);\n",
       "}\n",
       "\n",
       "/* Toggleable content - dropdown */\n",
       "\n",
       "#sk-container-id-1 div.sk-toggleable__content {\n",
       "  max-height: 0;\n",
       "  max-width: 0;\n",
       "  overflow: hidden;\n",
       "  text-align: left;\n",
       "  /* unfitted */\n",
       "  background-color: var(--sklearn-color-unfitted-level-0);\n",
       "}\n",
       "\n",
       "#sk-container-id-1 div.sk-toggleable__content.fitted {\n",
       "  /* fitted */\n",
       "  background-color: var(--sklearn-color-fitted-level-0);\n",
       "}\n",
       "\n",
       "#sk-container-id-1 div.sk-toggleable__content pre {\n",
       "  margin: 0.2em;\n",
       "  border-radius: 0.25em;\n",
       "  color: var(--sklearn-color-text);\n",
       "  /* unfitted */\n",
       "  background-color: var(--sklearn-color-unfitted-level-0);\n",
       "}\n",
       "\n",
       "#sk-container-id-1 div.sk-toggleable__content.fitted pre {\n",
       "  /* unfitted */\n",
       "  background-color: var(--sklearn-color-fitted-level-0);\n",
       "}\n",
       "\n",
       "#sk-container-id-1 input.sk-toggleable__control:checked~div.sk-toggleable__content {\n",
       "  /* Expand drop-down */\n",
       "  max-height: 200px;\n",
       "  max-width: 100%;\n",
       "  overflow: auto;\n",
       "}\n",
       "\n",
       "#sk-container-id-1 input.sk-toggleable__control:checked~label.sk-toggleable__label-arrow:before {\n",
       "  content: \"▾\";\n",
       "}\n",
       "\n",
       "/* Pipeline/ColumnTransformer-specific style */\n",
       "\n",
       "#sk-container-id-1 div.sk-label input.sk-toggleable__control:checked~label.sk-toggleable__label {\n",
       "  color: var(--sklearn-color-text);\n",
       "  background-color: var(--sklearn-color-unfitted-level-2);\n",
       "}\n",
       "\n",
       "#sk-container-id-1 div.sk-label.fitted input.sk-toggleable__control:checked~label.sk-toggleable__label {\n",
       "  background-color: var(--sklearn-color-fitted-level-2);\n",
       "}\n",
       "\n",
       "/* Estimator-specific style */\n",
       "\n",
       "/* Colorize estimator box */\n",
       "#sk-container-id-1 div.sk-estimator input.sk-toggleable__control:checked~label.sk-toggleable__label {\n",
       "  /* unfitted */\n",
       "  background-color: var(--sklearn-color-unfitted-level-2);\n",
       "}\n",
       "\n",
       "#sk-container-id-1 div.sk-estimator.fitted input.sk-toggleable__control:checked~label.sk-toggleable__label {\n",
       "  /* fitted */\n",
       "  background-color: var(--sklearn-color-fitted-level-2);\n",
       "}\n",
       "\n",
       "#sk-container-id-1 div.sk-label label.sk-toggleable__label,\n",
       "#sk-container-id-1 div.sk-label label {\n",
       "  /* The background is the default theme color */\n",
       "  color: var(--sklearn-color-text-on-default-background);\n",
       "}\n",
       "\n",
       "/* On hover, darken the color of the background */\n",
       "#sk-container-id-1 div.sk-label:hover label.sk-toggleable__label {\n",
       "  color: var(--sklearn-color-text);\n",
       "  background-color: var(--sklearn-color-unfitted-level-2);\n",
       "}\n",
       "\n",
       "/* Label box, darken color on hover, fitted */\n",
       "#sk-container-id-1 div.sk-label.fitted:hover label.sk-toggleable__label.fitted {\n",
       "  color: var(--sklearn-color-text);\n",
       "  background-color: var(--sklearn-color-fitted-level-2);\n",
       "}\n",
       "\n",
       "/* Estimator label */\n",
       "\n",
       "#sk-container-id-1 div.sk-label label {\n",
       "  font-family: monospace;\n",
       "  font-weight: bold;\n",
       "  display: inline-block;\n",
       "  line-height: 1.2em;\n",
       "}\n",
       "\n",
       "#sk-container-id-1 div.sk-label-container {\n",
       "  text-align: center;\n",
       "}\n",
       "\n",
       "/* Estimator-specific */\n",
       "#sk-container-id-1 div.sk-estimator {\n",
       "  font-family: monospace;\n",
       "  border: 1px dotted var(--sklearn-color-border-box);\n",
       "  border-radius: 0.25em;\n",
       "  box-sizing: border-box;\n",
       "  margin-bottom: 0.5em;\n",
       "  /* unfitted */\n",
       "  background-color: var(--sklearn-color-unfitted-level-0);\n",
       "}\n",
       "\n",
       "#sk-container-id-1 div.sk-estimator.fitted {\n",
       "  /* fitted */\n",
       "  background-color: var(--sklearn-color-fitted-level-0);\n",
       "}\n",
       "\n",
       "/* on hover */\n",
       "#sk-container-id-1 div.sk-estimator:hover {\n",
       "  /* unfitted */\n",
       "  background-color: var(--sklearn-color-unfitted-level-2);\n",
       "}\n",
       "\n",
       "#sk-container-id-1 div.sk-estimator.fitted:hover {\n",
       "  /* fitted */\n",
       "  background-color: var(--sklearn-color-fitted-level-2);\n",
       "}\n",
       "\n",
       "/* Specification for estimator info (e.g. \"i\" and \"?\") */\n",
       "\n",
       "/* Common style for \"i\" and \"?\" */\n",
       "\n",
       ".sk-estimator-doc-link,\n",
       "a:link.sk-estimator-doc-link,\n",
       "a:visited.sk-estimator-doc-link {\n",
       "  float: right;\n",
       "  font-size: smaller;\n",
       "  line-height: 1em;\n",
       "  font-family: monospace;\n",
       "  background-color: var(--sklearn-color-background);\n",
       "  border-radius: 1em;\n",
       "  height: 1em;\n",
       "  width: 1em;\n",
       "  text-decoration: none !important;\n",
       "  margin-left: 1ex;\n",
       "  /* unfitted */\n",
       "  border: var(--sklearn-color-unfitted-level-1) 1pt solid;\n",
       "  color: var(--sklearn-color-unfitted-level-1);\n",
       "}\n",
       "\n",
       ".sk-estimator-doc-link.fitted,\n",
       "a:link.sk-estimator-doc-link.fitted,\n",
       "a:visited.sk-estimator-doc-link.fitted {\n",
       "  /* fitted */\n",
       "  border: var(--sklearn-color-fitted-level-1) 1pt solid;\n",
       "  color: var(--sklearn-color-fitted-level-1);\n",
       "}\n",
       "\n",
       "/* On hover */\n",
       "div.sk-estimator:hover .sk-estimator-doc-link:hover,\n",
       ".sk-estimator-doc-link:hover,\n",
       "div.sk-label-container:hover .sk-estimator-doc-link:hover,\n",
       ".sk-estimator-doc-link:hover {\n",
       "  /* unfitted */\n",
       "  background-color: var(--sklearn-color-unfitted-level-3);\n",
       "  color: var(--sklearn-color-background);\n",
       "  text-decoration: none;\n",
       "}\n",
       "\n",
       "div.sk-estimator.fitted:hover .sk-estimator-doc-link.fitted:hover,\n",
       ".sk-estimator-doc-link.fitted:hover,\n",
       "div.sk-label-container:hover .sk-estimator-doc-link.fitted:hover,\n",
       ".sk-estimator-doc-link.fitted:hover {\n",
       "  /* fitted */\n",
       "  background-color: var(--sklearn-color-fitted-level-3);\n",
       "  color: var(--sklearn-color-background);\n",
       "  text-decoration: none;\n",
       "}\n",
       "\n",
       "/* Span, style for the box shown on hovering the info icon */\n",
       ".sk-estimator-doc-link span {\n",
       "  display: none;\n",
       "  z-index: 9999;\n",
       "  position: relative;\n",
       "  font-weight: normal;\n",
       "  right: .2ex;\n",
       "  padding: .5ex;\n",
       "  margin: .5ex;\n",
       "  width: min-content;\n",
       "  min-width: 20ex;\n",
       "  max-width: 50ex;\n",
       "  color: var(--sklearn-color-text);\n",
       "  box-shadow: 2pt 2pt 4pt #999;\n",
       "  /* unfitted */\n",
       "  background: var(--sklearn-color-unfitted-level-0);\n",
       "  border: .5pt solid var(--sklearn-color-unfitted-level-3);\n",
       "}\n",
       "\n",
       ".sk-estimator-doc-link.fitted span {\n",
       "  /* fitted */\n",
       "  background: var(--sklearn-color-fitted-level-0);\n",
       "  border: var(--sklearn-color-fitted-level-3);\n",
       "}\n",
       "\n",
       ".sk-estimator-doc-link:hover span {\n",
       "  display: block;\n",
       "}\n",
       "\n",
       "/* \"?\"-specific style due to the `<a>` HTML tag */\n",
       "\n",
       "#sk-container-id-1 a.estimator_doc_link {\n",
       "  float: right;\n",
       "  font-size: 1rem;\n",
       "  line-height: 1em;\n",
       "  font-family: monospace;\n",
       "  background-color: var(--sklearn-color-background);\n",
       "  border-radius: 1rem;\n",
       "  height: 1rem;\n",
       "  width: 1rem;\n",
       "  text-decoration: none;\n",
       "  /* unfitted */\n",
       "  color: var(--sklearn-color-unfitted-level-1);\n",
       "  border: var(--sklearn-color-unfitted-level-1) 1pt solid;\n",
       "}\n",
       "\n",
       "#sk-container-id-1 a.estimator_doc_link.fitted {\n",
       "  /* fitted */\n",
       "  border: var(--sklearn-color-fitted-level-1) 1pt solid;\n",
       "  color: var(--sklearn-color-fitted-level-1);\n",
       "}\n",
       "\n",
       "/* On hover */\n",
       "#sk-container-id-1 a.estimator_doc_link:hover {\n",
       "  /* unfitted */\n",
       "  background-color: var(--sklearn-color-unfitted-level-3);\n",
       "  color: var(--sklearn-color-background);\n",
       "  text-decoration: none;\n",
       "}\n",
       "\n",
       "#sk-container-id-1 a.estimator_doc_link.fitted:hover {\n",
       "  /* fitted */\n",
       "  background-color: var(--sklearn-color-fitted-level-3);\n",
       "}\n",
       "</style><div id=\"sk-container-id-1\" class=\"sk-top-container\"><div class=\"sk-text-repr-fallback\"><pre>DecisionTreeRegressor(max_depth=4, min_weight_fraction_leaf=0.1)</pre><b>In a Jupyter environment, please rerun this cell to show the HTML representation or trust the notebook. <br />On GitHub, the HTML representation is unable to render, please try loading this page with nbviewer.org.</b></div><div class=\"sk-container\" hidden><div class=\"sk-item\"><div class=\"sk-estimator fitted sk-toggleable\"><input class=\"sk-toggleable__control sk-hidden--visually\" id=\"sk-estimator-id-1\" type=\"checkbox\" checked><label for=\"sk-estimator-id-1\" class=\"sk-toggleable__label fitted sk-toggleable__label-arrow fitted\">&nbsp;&nbsp;DecisionTreeRegressor<a class=\"sk-estimator-doc-link fitted\" rel=\"noreferrer\" target=\"_blank\" href=\"https://scikit-learn.org/1.4/modules/generated/sklearn.tree.DecisionTreeRegressor.html\">?<span>Documentation for DecisionTreeRegressor</span></a><span class=\"sk-estimator-doc-link fitted\">i<span>Fitted</span></span></label><div class=\"sk-toggleable__content fitted\"><pre>DecisionTreeRegressor(max_depth=4, min_weight_fraction_leaf=0.1)</pre></div> </div></div></div></div>"
      ],
      "text/plain": [
       "DecisionTreeRegressor(max_depth=4, min_weight_fraction_leaf=0.1)"
      ]
     },
     "execution_count": 447,
     "metadata": {},
     "output_type": "execute_result"
    }
   ],
   "source": [
    "model = DecisionTreeRegressor(\n",
    "    max_depth=4,\n",
    "    min_weight_fraction_leaf=0.1,\n",
    ")\n",
    "model.fit(X, y)"
   ]
  },
  {
   "cell_type": "code",
   "execution_count": 454,
   "id": "8c2bc919-0c5c-413c-aae9-9d8349692cec",
   "metadata": {
    "tags": []
   },
   "outputs": [
    {
     "data": {
      "text/plain": [
       "0.5447136089577951"
      ]
     },
     "execution_count": 454,
     "metadata": {},
     "output_type": "execute_result"
    }
   ],
   "source": [
    "model.score(X, y)"
   ]
  },
  {
   "cell_type": "code",
   "execution_count": 456,
   "id": "c67b071a-b8f6-478e-a722-3309604bc5c7",
   "metadata": {
    "tags": []
   },
   "outputs": [
    {
     "data": {
      "text/plain": [
       "array([5.75      , 5.75      , 5.75      , 6.5       , 5.3       ,\n",
       "       6.1       , 5.3       , 5.75      , 6.5       , 6.38888889,\n",
       "       5.75      , 5.3       , 7.1       , 6.5       , 6.38888889,\n",
       "       6.5       , 6.38888889, 6.38888889, 5.75      , 6.5       ,\n",
       "       6.5       , 5.75      , 6.5       , 6.5       , 6.38888889,\n",
       "       7.1       , 5.3       , 6.1       , 6.38888889, 6.5       ,\n",
       "       7.1       , 6.38888889, 6.38888889, 6.5       , 6.5       ,\n",
       "       6.5       , 6.5       , 5.75      , 7.1       , 6.5       ,\n",
       "       7.1       , 6.5       , 6.1       , 6.1       , 6.1       ,\n",
       "       6.38888889, 5.3       , 6.5       , 6.5       ])"
      ]
     },
     "execution_count": 456,
     "metadata": {},
     "output_type": "execute_result"
    }
   ],
   "source": [
    "model.predict(X)"
   ]
  },
  {
   "cell_type": "code",
   "execution_count": 476,
   "id": "f96bbac4-4e3b-456d-9bdd-1b898d25b741",
   "metadata": {
    "tags": []
   },
   "outputs": [],
   "source": [
    "import joblib"
   ]
  },
  {
   "cell_type": "code",
   "execution_count": null,
   "id": "b87232ee-8df1-4202-b6c4-190f8e3ebf2b",
   "metadata": {},
   "outputs": [],
   "source": [
    "joblib.dump()"
   ]
  },
  {
   "cell_type": "code",
   "execution_count": null,
   "id": "4474ee93-43c7-4353-a23a-e6294d543e0d",
   "metadata": {},
   "outputs": [],
   "source": []
  },
  {
   "cell_type": "code",
   "execution_count": 453,
   "id": "529fa23e-0cca-40be-a60d-2d6893ac1d2f",
   "metadata": {
    "tags": []
   },
   "outputs": [
    {
     "data": {
      "image/png": "[encoded data removed]",
      "text/plain": [
       "<Figure size 800x550 with 1 Axes>"
      ]
     },
     "metadata": {},
     "output_type": "display_data"
    }
   ],
   "source": [
    "plot_tree(model, feature_names=model.feature_importances_, class_names=model.feature_importances_, filled=True);"
   ]
  },
  {
   "cell_type": "code",
   "execution_count": null,
   "id": "24dd98db-a921-4b4a-93eb-af107d8510df",
   "metadata": {},
   "outputs": [],
   "source": []
  },
  {
   "cell_type": "code",
   "execution_count": null,
   "id": "7d5944fd-cb95-4ee1-bdc8-388f283f4c50",
   "metadata": {},
   "outputs": [],
   "source": []
  },
  {
   "cell_type": "code",
   "execution_count": null,
   "id": "724e8e8f-dd60-4de1-817f-60327f4d0705",
   "metadata": {},
   "outputs": [],
   "source": []
  },
  {
   "cell_type": "code",
   "execution_count": null,
   "id": "704bf13e-b1e5-42e4-919c-62a7172a09d2",
   "metadata": {},
   "outputs": [],
   "source": []
  },
  {
   "cell_type": "code",
   "execution_count": null,
   "id": "822101d1-f09d-46e3-9152-181aed559c92",
   "metadata": {},
   "outputs": [],
   "source": []
  },
  {
   "cell_type": "code",
   "execution_count": 316,
   "id": "f7956a24-9ae1-4439-9de6-8f79446c99ef",
   "metadata": {
    "tags": []
   },
   "outputs": [],
   "source": [
    "from sklearn.model_selection import train_test_split, cross_validate, KFold\n",
    "from sklearn.metrics import r2_score, mean_squared_error"
   ]
  },
  {
   "cell_type": "code",
   "execution_count": 298,
   "id": "de0ea7fa-880b-42d1-9aff-df1c3f34c564",
   "metadata": {
    "tags": []
   },
   "outputs": [],
   "source": [
    " X_train, X_test, y_train, y_test = train_test_split(X, y, test_size=0.33, random_state=42)"
   ]
  },
  {
   "cell_type": "code",
   "execution_count": 305,
   "id": "7bcb15a8-2733-4071-bc28-15272ecbd2a7",
   "metadata": {
    "tags": []
   },
   "outputs": [
    {
     "data": {
      "text/plain": [
       "0.18111229321867295"
      ]
     },
     "execution_count": 305,
     "metadata": {},
     "output_type": "execute_result"
    }
   ],
   "source": [
    "model.score(X_test, y_test)"
   ]
  },
  {
   "cell_type": "code",
   "execution_count": 326,
   "id": "2cae8053-d200-4e24-ab9b-eb45618aa9ad",
   "metadata": {
    "tags": []
   },
   "outputs": [
    {
     "data": {
      "text/plain": [
       "{'fit_time': array([0.0035398 , 0.        , 0.00292635, 0.00297213, 0.        ]),\n",
       " 'score_time': array([0.00125837, 0.00261474, 0.00185513, 0.        , 0.00709796]),\n",
       " 'test_score': array([-0.31693133, -0.59647856, -0.27206671, -2.39074776,  0.03280447])}"
      ]
     },
     "execution_count": 326,
     "metadata": {},
     "output_type": "execute_result"
    }
   ],
   "source": [
    "cross_validate(model, X, y, cv=KFold())"
   ]
  },
  {
   "cell_type": "code",
   "execution_count": 328,
   "id": "a4342c9d-aaeb-4454-9c80-054f451c7556",
   "metadata": {
    "tags": []
   },
   "outputs": [],
   "source": [
    "from pycaret.regression import *"
   ]
  },
  {
   "cell_type": "code",
   "execution_count": 333,
   "id": "caf52a06-b4c6-4aa2-a6c5-5822c6f4750d",
   "metadata": {
    "tags": []
   },
   "outputs": [
    {
     "data": {
      "text/html": [
       "<style type=\"text/css\">\n",
       "#T_64d3b_row8_col1 {\n",
       "  background-color: lightgreen;\n",
       "}\n",
       "</style>\n",
       "<table id=\"T_64d3b\">\n",
       "  <thead>\n",
       "    <tr>\n",
       "      <th class=\"blank level0\" >&nbsp;</th>\n",
       "      <th id=\"T_64d3b_level0_col0\" class=\"col_heading level0 col0\" >Description</th>\n",
       "      <th id=\"T_64d3b_level0_col1\" class=\"col_heading level0 col1\" >Value</th>\n",
       "    </tr>\n",
       "  </thead>\n",
       "  <tbody>\n",
       "    <tr>\n",
       "      <th id=\"T_64d3b_level0_row0\" class=\"row_heading level0 row0\" >0</th>\n",
       "      <td id=\"T_64d3b_row0_col0\" class=\"data row0 col0\" >Session id</td>\n",
       "      <td id=\"T_64d3b_row0_col1\" class=\"data row0 col1\" >2193</td>\n",
       "    </tr>\n",
       "    <tr>\n",
       "      <th id=\"T_64d3b_level0_row1\" class=\"row_heading level0 row1\" >1</th>\n",
       "      <td id=\"T_64d3b_row1_col0\" class=\"data row1 col0\" >Target</td>\n",
       "      <td id=\"T_64d3b_row1_col1\" class=\"data row1 col1\" >target</td>\n",
       "    </tr>\n",
       "    <tr>\n",
       "      <th id=\"T_64d3b_level0_row2\" class=\"row_heading level0 row2\" >2</th>\n",
       "      <td id=\"T_64d3b_row2_col0\" class=\"data row2 col0\" >Target type</td>\n",
       "      <td id=\"T_64d3b_row2_col1\" class=\"data row2 col1\" >Regression</td>\n",
       "    </tr>\n",
       "    <tr>\n",
       "      <th id=\"T_64d3b_level0_row3\" class=\"row_heading level0 row3\" >3</th>\n",
       "      <td id=\"T_64d3b_row3_col0\" class=\"data row3 col0\" >Original data shape</td>\n",
       "      <td id=\"T_64d3b_row3_col1\" class=\"data row3 col1\" >(49, 7)</td>\n",
       "    </tr>\n",
       "    <tr>\n",
       "      <th id=\"T_64d3b_level0_row4\" class=\"row_heading level0 row4\" >4</th>\n",
       "      <td id=\"T_64d3b_row4_col0\" class=\"data row4 col0\" >Transformed data shape</td>\n",
       "      <td id=\"T_64d3b_row4_col1\" class=\"data row4 col1\" >(49, 7)</td>\n",
       "    </tr>\n",
       "    <tr>\n",
       "      <th id=\"T_64d3b_level0_row5\" class=\"row_heading level0 row5\" >5</th>\n",
       "      <td id=\"T_64d3b_row5_col0\" class=\"data row5 col0\" >Transformed train set shape</td>\n",
       "      <td id=\"T_64d3b_row5_col1\" class=\"data row5 col1\" >(34, 7)</td>\n",
       "    </tr>\n",
       "    <tr>\n",
       "      <th id=\"T_64d3b_level0_row6\" class=\"row_heading level0 row6\" >6</th>\n",
       "      <td id=\"T_64d3b_row6_col0\" class=\"data row6 col0\" >Transformed test set shape</td>\n",
       "      <td id=\"T_64d3b_row6_col1\" class=\"data row6 col1\" >(15, 7)</td>\n",
       "    </tr>\n",
       "    <tr>\n",
       "      <th id=\"T_64d3b_level0_row7\" class=\"row_heading level0 row7\" >7</th>\n",
       "      <td id=\"T_64d3b_row7_col0\" class=\"data row7 col0\" >Numeric features</td>\n",
       "      <td id=\"T_64d3b_row7_col1\" class=\"data row7 col1\" >6</td>\n",
       "    </tr>\n",
       "    <tr>\n",
       "      <th id=\"T_64d3b_level0_row8\" class=\"row_heading level0 row8\" >8</th>\n",
       "      <td id=\"T_64d3b_row8_col0\" class=\"data row8 col0\" >Preprocess</td>\n",
       "      <td id=\"T_64d3b_row8_col1\" class=\"data row8 col1\" >True</td>\n",
       "    </tr>\n",
       "    <tr>\n",
       "      <th id=\"T_64d3b_level0_row9\" class=\"row_heading level0 row9\" >9</th>\n",
       "      <td id=\"T_64d3b_row9_col0\" class=\"data row9 col0\" >Imputation type</td>\n",
       "      <td id=\"T_64d3b_row9_col1\" class=\"data row9 col1\" >simple</td>\n",
       "    </tr>\n",
       "    <tr>\n",
       "      <th id=\"T_64d3b_level0_row10\" class=\"row_heading level0 row10\" >10</th>\n",
       "      <td id=\"T_64d3b_row10_col0\" class=\"data row10 col0\" >Numeric imputation</td>\n",
       "      <td id=\"T_64d3b_row10_col1\" class=\"data row10 col1\" >mean</td>\n",
       "    </tr>\n",
       "    <tr>\n",
       "      <th id=\"T_64d3b_level0_row11\" class=\"row_heading level0 row11\" >11</th>\n",
       "      <td id=\"T_64d3b_row11_col0\" class=\"data row11 col0\" >Categorical imputation</td>\n",
       "      <td id=\"T_64d3b_row11_col1\" class=\"data row11 col1\" >mode</td>\n",
       "    </tr>\n",
       "    <tr>\n",
       "      <th id=\"T_64d3b_level0_row12\" class=\"row_heading level0 row12\" >12</th>\n",
       "      <td id=\"T_64d3b_row12_col0\" class=\"data row12 col0\" >Fold Generator</td>\n",
       "      <td id=\"T_64d3b_row12_col1\" class=\"data row12 col1\" >KFold</td>\n",
       "    </tr>\n",
       "    <tr>\n",
       "      <th id=\"T_64d3b_level0_row13\" class=\"row_heading level0 row13\" >13</th>\n",
       "      <td id=\"T_64d3b_row13_col0\" class=\"data row13 col0\" >Fold Number</td>\n",
       "      <td id=\"T_64d3b_row13_col1\" class=\"data row13 col1\" >10</td>\n",
       "    </tr>\n",
       "    <tr>\n",
       "      <th id=\"T_64d3b_level0_row14\" class=\"row_heading level0 row14\" >14</th>\n",
       "      <td id=\"T_64d3b_row14_col0\" class=\"data row14 col0\" >CPU Jobs</td>\n",
       "      <td id=\"T_64d3b_row14_col1\" class=\"data row14 col1\" >-1</td>\n",
       "    </tr>\n",
       "    <tr>\n",
       "      <th id=\"T_64d3b_level0_row15\" class=\"row_heading level0 row15\" >15</th>\n",
       "      <td id=\"T_64d3b_row15_col0\" class=\"data row15 col0\" >Use GPU</td>\n",
       "      <td id=\"T_64d3b_row15_col1\" class=\"data row15 col1\" >False</td>\n",
       "    </tr>\n",
       "    <tr>\n",
       "      <th id=\"T_64d3b_level0_row16\" class=\"row_heading level0 row16\" >16</th>\n",
       "      <td id=\"T_64d3b_row16_col0\" class=\"data row16 col0\" >Log Experiment</td>\n",
       "      <td id=\"T_64d3b_row16_col1\" class=\"data row16 col1\" >False</td>\n",
       "    </tr>\n",
       "    <tr>\n",
       "      <th id=\"T_64d3b_level0_row17\" class=\"row_heading level0 row17\" >17</th>\n",
       "      <td id=\"T_64d3b_row17_col0\" class=\"data row17 col0\" >Experiment Name</td>\n",
       "      <td id=\"T_64d3b_row17_col1\" class=\"data row17 col1\" >reg-default-name</td>\n",
       "    </tr>\n",
       "    <tr>\n",
       "      <th id=\"T_64d3b_level0_row18\" class=\"row_heading level0 row18\" >18</th>\n",
       "      <td id=\"T_64d3b_row18_col0\" class=\"data row18 col0\" >USI</td>\n",
       "      <td id=\"T_64d3b_row18_col1\" class=\"data row18 col1\" >1566</td>\n",
       "    </tr>\n",
       "  </tbody>\n",
       "</table>\n"
      ],
      "text/plain": [
       "<pandas.io.formats.style.Styler at 0x27c7e0467d0>"
      ]
     },
     "metadata": {},
     "output_type": "display_data"
    },
    {
     "name": "stderr",
     "output_type": "stream",
     "text": [
      "C:\\Users\\Thabang Ndhlovu\\AppData\\Roaming\\Python\\Python311\\site-packages\\pycaret\\internal\\metrics.py:51: FutureWarning: The `needs_threshold` and `needs_proba` parameter are deprecated in version 1.4 and will be removed in 1.6. You can either let `response_method` be `None` or set it to `predict` to preserve the same behaviour.\n",
      "  warnings.warn(\n"
     ]
    }
   ],
   "source": [
    "exp = setup(data=X, target=y.reshape(-1))"
   ]
  },
  {
   "cell_type": "code",
   "execution_count": 334,
   "id": "6aad04f0-e66b-4175-802b-4b89f347eda0",
   "metadata": {
    "tags": []
   },
   "outputs": [
    {
     "data": {
      "text/html": [],
      "text/plain": [
       "<IPython.core.display.HTML object>"
      ]
     },
     "metadata": {},
     "output_type": "display_data"
    },
    {
     "data": {
      "text/html": [
       "<style type=\"text/css\">\n",
       "#T_45fee th {\n",
       "  text-align: left;\n",
       "}\n",
       "#T_45fee_row0_col0, #T_45fee_row1_col0, #T_45fee_row1_col1, #T_45fee_row1_col2, #T_45fee_row1_col3, #T_45fee_row1_col4, #T_45fee_row1_col5, #T_45fee_row1_col6, #T_45fee_row2_col0, #T_45fee_row2_col1, #T_45fee_row2_col2, #T_45fee_row2_col3, #T_45fee_row2_col4, #T_45fee_row2_col5, #T_45fee_row2_col6, #T_45fee_row3_col0, #T_45fee_row3_col1, #T_45fee_row3_col2, #T_45fee_row3_col3, #T_45fee_row3_col4, #T_45fee_row3_col5, #T_45fee_row3_col6, #T_45fee_row4_col0, #T_45fee_row4_col1, #T_45fee_row4_col2, #T_45fee_row4_col3, #T_45fee_row4_col4, #T_45fee_row4_col5, #T_45fee_row4_col6, #T_45fee_row5_col0, #T_45fee_row5_col1, #T_45fee_row5_col2, #T_45fee_row5_col3, #T_45fee_row5_col4, #T_45fee_row5_col5, #T_45fee_row5_col6, #T_45fee_row6_col0, #T_45fee_row6_col1, #T_45fee_row6_col2, #T_45fee_row6_col3, #T_45fee_row6_col4, #T_45fee_row6_col5, #T_45fee_row6_col6, #T_45fee_row7_col0, #T_45fee_row7_col1, #T_45fee_row7_col2, #T_45fee_row7_col3, #T_45fee_row7_col4, #T_45fee_row7_col5, #T_45fee_row7_col6, #T_45fee_row8_col0, #T_45fee_row8_col1, #T_45fee_row8_col2, #T_45fee_row8_col3, #T_45fee_row8_col4, #T_45fee_row8_col5, #T_45fee_row8_col6, #T_45fee_row9_col0, #T_45fee_row9_col1, #T_45fee_row9_col2, #T_45fee_row9_col3, #T_45fee_row9_col4, #T_45fee_row9_col5, #T_45fee_row9_col6, #T_45fee_row10_col0, #T_45fee_row10_col1, #T_45fee_row10_col2, #T_45fee_row10_col3, #T_45fee_row10_col4, #T_45fee_row10_col5, #T_45fee_row10_col6, #T_45fee_row11_col0, #T_45fee_row11_col1, #T_45fee_row11_col2, #T_45fee_row11_col3, #T_45fee_row11_col4, #T_45fee_row11_col5, #T_45fee_row11_col6, #T_45fee_row12_col0, #T_45fee_row12_col1, #T_45fee_row12_col2, #T_45fee_row12_col3, #T_45fee_row12_col4, #T_45fee_row12_col5, #T_45fee_row12_col6, #T_45fee_row13_col0, #T_45fee_row13_col1, #T_45fee_row13_col2, #T_45fee_row13_col3, #T_45fee_row13_col4, #T_45fee_row13_col5, #T_45fee_row13_col6, #T_45fee_row14_col0, #T_45fee_row14_col1, #T_45fee_row14_col2, #T_45fee_row14_col3, #T_45fee_row14_col4, #T_45fee_row14_col5, #T_45fee_row14_col6, #T_45fee_row15_col0, #T_45fee_row15_col1, #T_45fee_row15_col2, #T_45fee_row15_col3, #T_45fee_row15_col4, #T_45fee_row15_col5, #T_45fee_row15_col6, #T_45fee_row16_col0, #T_45fee_row16_col1, #T_45fee_row16_col2, #T_45fee_row16_col3, #T_45fee_row16_col4, #T_45fee_row16_col5, #T_45fee_row16_col6, #T_45fee_row17_col0, #T_45fee_row17_col1, #T_45fee_row17_col2, #T_45fee_row17_col3, #T_45fee_row17_col4, #T_45fee_row17_col5, #T_45fee_row17_col6, #T_45fee_row18_col0, #T_45fee_row18_col1, #T_45fee_row18_col2, #T_45fee_row18_col3, #T_45fee_row18_col4, #T_45fee_row18_col5, #T_45fee_row18_col6, #T_45fee_row19_col0, #T_45fee_row19_col1, #T_45fee_row19_col2, #T_45fee_row19_col3, #T_45fee_row19_col4, #T_45fee_row19_col5, #T_45fee_row19_col6 {\n",
       "  text-align: left;\n",
       "}\n",
       "#T_45fee_row0_col1, #T_45fee_row0_col2, #T_45fee_row0_col3, #T_45fee_row0_col4, #T_45fee_row0_col5, #T_45fee_row0_col6 {\n",
       "  text-align: left;\n",
       "  background-color: yellow;\n",
       "}\n",
       "#T_45fee_row0_col7 {\n",
       "  text-align: left;\n",
       "  background-color: yellow;\n",
       "  background-color: lightgrey;\n",
       "}\n",
       "#T_45fee_row1_col7, #T_45fee_row2_col7, #T_45fee_row3_col7, #T_45fee_row4_col7, #T_45fee_row5_col7, #T_45fee_row6_col7, #T_45fee_row7_col7, #T_45fee_row8_col7, #T_45fee_row9_col7, #T_45fee_row10_col7, #T_45fee_row11_col7, #T_45fee_row12_col7, #T_45fee_row13_col7, #T_45fee_row14_col7, #T_45fee_row15_col7, #T_45fee_row16_col7, #T_45fee_row17_col7, #T_45fee_row18_col7, #T_45fee_row19_col7 {\n",
       "  text-align: left;\n",
       "  background-color: lightgrey;\n",
       "}\n",
       "</style>\n",
       "<table id=\"T_45fee\">\n",
       "  <thead>\n",
       "    <tr>\n",
       "      <th class=\"blank level0\" >&nbsp;</th>\n",
       "      <th id=\"T_45fee_level0_col0\" class=\"col_heading level0 col0\" >Model</th>\n",
       "      <th id=\"T_45fee_level0_col1\" class=\"col_heading level0 col1\" >MAE</th>\n",
       "      <th id=\"T_45fee_level0_col2\" class=\"col_heading level0 col2\" >MSE</th>\n",
       "      <th id=\"T_45fee_level0_col3\" class=\"col_heading level0 col3\" >RMSE</th>\n",
       "      <th id=\"T_45fee_level0_col4\" class=\"col_heading level0 col4\" >R2</th>\n",
       "      <th id=\"T_45fee_level0_col5\" class=\"col_heading level0 col5\" >RMSLE</th>\n",
       "      <th id=\"T_45fee_level0_col6\" class=\"col_heading level0 col6\" >MAPE</th>\n",
       "      <th id=\"T_45fee_level0_col7\" class=\"col_heading level0 col7\" >TT (Sec)</th>\n",
       "    </tr>\n",
       "  </thead>\n",
       "  <tbody>\n",
       "    <tr>\n",
       "      <th id=\"T_45fee_level0_row0\" class=\"row_heading level0 row0\" >en</th>\n",
       "      <td id=\"T_45fee_row0_col0\" class=\"data row0 col0\" >Elastic Net</td>\n",
       "      <td id=\"T_45fee_row0_col1\" class=\"data row0 col1\" >0.4403</td>\n",
       "      <td id=\"T_45fee_row0_col2\" class=\"data row0 col2\" >0.4434</td>\n",
       "      <td id=\"T_45fee_row0_col3\" class=\"data row0 col3\" >0.5860</td>\n",
       "      <td id=\"T_45fee_row0_col4\" class=\"data row0 col4\" >-0.2408</td>\n",
       "      <td id=\"T_45fee_row0_col5\" class=\"data row0 col5\" >0.0825</td>\n",
       "      <td id=\"T_45fee_row0_col6\" class=\"data row0 col6\" >0.0744</td>\n",
       "      <td id=\"T_45fee_row0_col7\" class=\"data row0 col7\" >0.0240</td>\n",
       "    </tr>\n",
       "    <tr>\n",
       "      <th id=\"T_45fee_level0_row1\" class=\"row_heading level0 row1\" >lasso</th>\n",
       "      <td id=\"T_45fee_row1_col0\" class=\"data row1 col0\" >Lasso Regression</td>\n",
       "      <td id=\"T_45fee_row1_col1\" class=\"data row1 col1\" >0.4747</td>\n",
       "      <td id=\"T_45fee_row1_col2\" class=\"data row1 col2\" >0.4848</td>\n",
       "      <td id=\"T_45fee_row1_col3\" class=\"data row1 col3\" >0.6100</td>\n",
       "      <td id=\"T_45fee_row1_col4\" class=\"data row1 col4\" >-0.3119</td>\n",
       "      <td id=\"T_45fee_row1_col5\" class=\"data row1 col5\" >0.0859</td>\n",
       "      <td id=\"T_45fee_row1_col6\" class=\"data row1 col6\" >0.0806</td>\n",
       "      <td id=\"T_45fee_row1_col7\" class=\"data row1 col7\" >0.0320</td>\n",
       "    </tr>\n",
       "    <tr>\n",
       "      <th id=\"T_45fee_level0_row2\" class=\"row_heading level0 row2\" >llar</th>\n",
       "      <td id=\"T_45fee_row2_col0\" class=\"data row2 col0\" >Lasso Least Angle Regression</td>\n",
       "      <td id=\"T_45fee_row2_col1\" class=\"data row2 col1\" >0.4747</td>\n",
       "      <td id=\"T_45fee_row2_col2\" class=\"data row2 col2\" >0.4848</td>\n",
       "      <td id=\"T_45fee_row2_col3\" class=\"data row2 col3\" >0.6100</td>\n",
       "      <td id=\"T_45fee_row2_col4\" class=\"data row2 col4\" >-0.3119</td>\n",
       "      <td id=\"T_45fee_row2_col5\" class=\"data row2 col5\" >0.0859</td>\n",
       "      <td id=\"T_45fee_row2_col6\" class=\"data row2 col6\" >0.0806</td>\n",
       "      <td id=\"T_45fee_row2_col7\" class=\"data row2 col7\" >0.0380</td>\n",
       "    </tr>\n",
       "    <tr>\n",
       "      <th id=\"T_45fee_level0_row3\" class=\"row_heading level0 row3\" >dummy</th>\n",
       "      <td id=\"T_45fee_row3_col0\" class=\"data row3 col0\" >Dummy Regressor</td>\n",
       "      <td id=\"T_45fee_row3_col1\" class=\"data row3 col1\" >0.5454</td>\n",
       "      <td id=\"T_45fee_row3_col2\" class=\"data row3 col2\" >0.5343</td>\n",
       "      <td id=\"T_45fee_row3_col3\" class=\"data row3 col3\" >0.6495</td>\n",
       "      <td id=\"T_45fee_row3_col4\" class=\"data row3 col4\" >-0.4381</td>\n",
       "      <td id=\"T_45fee_row3_col5\" class=\"data row3 col5\" >0.0914</td>\n",
       "      <td id=\"T_45fee_row3_col6\" class=\"data row3 col6\" >0.0919</td>\n",
       "      <td id=\"T_45fee_row3_col7\" class=\"data row3 col7\" >0.0340</td>\n",
       "    </tr>\n",
       "    <tr>\n",
       "      <th id=\"T_45fee_level0_row4\" class=\"row_heading level0 row4\" >lightgbm</th>\n",
       "      <td id=\"T_45fee_row4_col0\" class=\"data row4 col0\" >Light Gradient Boosting Machine</td>\n",
       "      <td id=\"T_45fee_row4_col1\" class=\"data row4 col1\" >0.5454</td>\n",
       "      <td id=\"T_45fee_row4_col2\" class=\"data row4 col2\" >0.5343</td>\n",
       "      <td id=\"T_45fee_row4_col3\" class=\"data row4 col3\" >0.6495</td>\n",
       "      <td id=\"T_45fee_row4_col4\" class=\"data row4 col4\" >-0.4381</td>\n",
       "      <td id=\"T_45fee_row4_col5\" class=\"data row4 col5\" >0.0914</td>\n",
       "      <td id=\"T_45fee_row4_col6\" class=\"data row4 col6\" >0.0919</td>\n",
       "      <td id=\"T_45fee_row4_col7\" class=\"data row4 col7\" >0.0570</td>\n",
       "    </tr>\n",
       "    <tr>\n",
       "      <th id=\"T_45fee_level0_row5\" class=\"row_heading level0 row5\" >br</th>\n",
       "      <td id=\"T_45fee_row5_col0\" class=\"data row5 col0\" >Bayesian Ridge</td>\n",
       "      <td id=\"T_45fee_row5_col1\" class=\"data row5 col1\" >0.5602</td>\n",
       "      <td id=\"T_45fee_row5_col2\" class=\"data row5 col2\" >0.5536</td>\n",
       "      <td id=\"T_45fee_row5_col3\" class=\"data row5 col3\" >0.6649</td>\n",
       "      <td id=\"T_45fee_row5_col4\" class=\"data row5 col4\" >-0.4406</td>\n",
       "      <td id=\"T_45fee_row5_col5\" class=\"data row5 col5\" >0.0933</td>\n",
       "      <td id=\"T_45fee_row5_col6\" class=\"data row5 col6\" >0.0942</td>\n",
       "      <td id=\"T_45fee_row5_col7\" class=\"data row5 col7\" >0.0370</td>\n",
       "    </tr>\n",
       "    <tr>\n",
       "      <th id=\"T_45fee_level0_row6\" class=\"row_heading level0 row6\" >omp</th>\n",
       "      <td id=\"T_45fee_row6_col0\" class=\"data row6 col0\" >Orthogonal Matching Pursuit</td>\n",
       "      <td id=\"T_45fee_row6_col1\" class=\"data row6 col1\" >0.5523</td>\n",
       "      <td id=\"T_45fee_row6_col2\" class=\"data row6 col2\" >0.5371</td>\n",
       "      <td id=\"T_45fee_row6_col3\" class=\"data row6 col3\" >0.6573</td>\n",
       "      <td id=\"T_45fee_row6_col4\" class=\"data row6 col4\" >-0.4513</td>\n",
       "      <td id=\"T_45fee_row6_col5\" class=\"data row6 col5\" >0.0922</td>\n",
       "      <td id=\"T_45fee_row6_col6\" class=\"data row6 col6\" >0.0927</td>\n",
       "      <td id=\"T_45fee_row6_col7\" class=\"data row6 col7\" >0.0340</td>\n",
       "    </tr>\n",
       "    <tr>\n",
       "      <th id=\"T_45fee_level0_row7\" class=\"row_heading level0 row7\" >catboost</th>\n",
       "      <td id=\"T_45fee_row7_col0\" class=\"data row7 col0\" >CatBoost Regressor</td>\n",
       "      <td id=\"T_45fee_row7_col1\" class=\"data row7 col1\" >0.5926</td>\n",
       "      <td id=\"T_45fee_row7_col2\" class=\"data row7 col2\" >0.5878</td>\n",
       "      <td id=\"T_45fee_row7_col3\" class=\"data row7 col3\" >0.6897</td>\n",
       "      <td id=\"T_45fee_row7_col4\" class=\"data row7 col4\" >-0.4954</td>\n",
       "      <td id=\"T_45fee_row7_col5\" class=\"data row7 col5\" >0.0967</td>\n",
       "      <td id=\"T_45fee_row7_col6\" class=\"data row7 col6\" >0.0988</td>\n",
       "      <td id=\"T_45fee_row7_col7\" class=\"data row7 col7\" >0.8350</td>\n",
       "    </tr>\n",
       "    <tr>\n",
       "      <th id=\"T_45fee_level0_row8\" class=\"row_heading level0 row8\" >rf</th>\n",
       "      <td id=\"T_45fee_row8_col0\" class=\"data row8 col0\" >Random Forest Regressor</td>\n",
       "      <td id=\"T_45fee_row8_col1\" class=\"data row8 col1\" >0.5897</td>\n",
       "      <td id=\"T_45fee_row8_col2\" class=\"data row8 col2\" >0.6102</td>\n",
       "      <td id=\"T_45fee_row8_col3\" class=\"data row8 col3\" >0.7051</td>\n",
       "      <td id=\"T_45fee_row8_col4\" class=\"data row8 col4\" >-0.5164</td>\n",
       "      <td id=\"T_45fee_row8_col5\" class=\"data row8 col5\" >0.0985</td>\n",
       "      <td id=\"T_45fee_row8_col6\" class=\"data row8 col6\" >0.0975</td>\n",
       "      <td id=\"T_45fee_row8_col7\" class=\"data row8 col7\" >0.1380</td>\n",
       "    </tr>\n",
       "    <tr>\n",
       "      <th id=\"T_45fee_level0_row9\" class=\"row_heading level0 row9\" >knn</th>\n",
       "      <td id=\"T_45fee_row9_col0\" class=\"data row9 col0\" >K Neighbors Regressor</td>\n",
       "      <td id=\"T_45fee_row9_col1\" class=\"data row9 col1\" >0.5367</td>\n",
       "      <td id=\"T_45fee_row9_col2\" class=\"data row9 col2\" >0.6287</td>\n",
       "      <td id=\"T_45fee_row9_col3\" class=\"data row9 col3\" >0.7083</td>\n",
       "      <td id=\"T_45fee_row9_col4\" class=\"data row9 col4\" >-0.7327</td>\n",
       "      <td id=\"T_45fee_row9_col5\" class=\"data row9 col5\" >0.0993</td>\n",
       "      <td id=\"T_45fee_row9_col6\" class=\"data row9 col6\" >0.0893</td>\n",
       "      <td id=\"T_45fee_row9_col7\" class=\"data row9 col7\" >0.0340</td>\n",
       "    </tr>\n",
       "    <tr>\n",
       "      <th id=\"T_45fee_level0_row10\" class=\"row_heading level0 row10\" >et</th>\n",
       "      <td id=\"T_45fee_row10_col0\" class=\"data row10 col0\" >Extra Trees Regressor</td>\n",
       "      <td id=\"T_45fee_row10_col1\" class=\"data row10 col1\" >0.5743</td>\n",
       "      <td id=\"T_45fee_row10_col2\" class=\"data row10 col2\" >0.6048</td>\n",
       "      <td id=\"T_45fee_row10_col3\" class=\"data row10 col3\" >0.6757</td>\n",
       "      <td id=\"T_45fee_row10_col4\" class=\"data row10 col4\" >-0.7466</td>\n",
       "      <td id=\"T_45fee_row10_col5\" class=\"data row10 col5\" >0.0938</td>\n",
       "      <td id=\"T_45fee_row10_col6\" class=\"data row10 col6\" >0.0949</td>\n",
       "      <td id=\"T_45fee_row10_col7\" class=\"data row10 col7\" >0.1010</td>\n",
       "    </tr>\n",
       "    <tr>\n",
       "      <th id=\"T_45fee_level0_row11\" class=\"row_heading level0 row11\" >ada</th>\n",
       "      <td id=\"T_45fee_row11_col0\" class=\"data row11 col0\" >AdaBoost Regressor</td>\n",
       "      <td id=\"T_45fee_row11_col1\" class=\"data row11 col1\" >0.5557</td>\n",
       "      <td id=\"T_45fee_row11_col2\" class=\"data row11 col2\" >0.6489</td>\n",
       "      <td id=\"T_45fee_row11_col3\" class=\"data row11 col3\" >0.7024</td>\n",
       "      <td id=\"T_45fee_row11_col4\" class=\"data row11 col4\" >-0.8409</td>\n",
       "      <td id=\"T_45fee_row11_col5\" class=\"data row11 col5\" >0.0973</td>\n",
       "      <td id=\"T_45fee_row11_col6\" class=\"data row11 col6\" >0.0919</td>\n",
       "      <td id=\"T_45fee_row11_col7\" class=\"data row11 col7\" >0.0530</td>\n",
       "    </tr>\n",
       "    <tr>\n",
       "      <th id=\"T_45fee_level0_row12\" class=\"row_heading level0 row12\" >lar</th>\n",
       "      <td id=\"T_45fee_row12_col0\" class=\"data row12 col0\" >Least Angle Regression</td>\n",
       "      <td id=\"T_45fee_row12_col1\" class=\"data row12 col1\" >0.6268</td>\n",
       "      <td id=\"T_45fee_row12_col2\" class=\"data row12 col2\" >0.8287</td>\n",
       "      <td id=\"T_45fee_row12_col3\" class=\"data row12 col3\" >0.7514</td>\n",
       "      <td id=\"T_45fee_row12_col4\" class=\"data row12 col4\" >-1.1178</td>\n",
       "      <td id=\"T_45fee_row12_col5\" class=\"data row12 col5\" >0.1086</td>\n",
       "      <td id=\"T_45fee_row12_col6\" class=\"data row12 col6\" >0.1021</td>\n",
       "      <td id=\"T_45fee_row12_col7\" class=\"data row12 col7\" >0.0350</td>\n",
       "    </tr>\n",
       "    <tr>\n",
       "      <th id=\"T_45fee_level0_row13\" class=\"row_heading level0 row13\" >gbr</th>\n",
       "      <td id=\"T_45fee_row13_col0\" class=\"data row13 col0\" >Gradient Boosting Regressor</td>\n",
       "      <td id=\"T_45fee_row13_col1\" class=\"data row13 col1\" >0.7675</td>\n",
       "      <td id=\"T_45fee_row13_col2\" class=\"data row13 col2\" >0.9178</td>\n",
       "      <td id=\"T_45fee_row13_col3\" class=\"data row13 col3\" >0.9086</td>\n",
       "      <td id=\"T_45fee_row13_col4\" class=\"data row13 col4\" >-1.2703</td>\n",
       "      <td id=\"T_45fee_row13_col5\" class=\"data row13 col5\" >0.1273</td>\n",
       "      <td id=\"T_45fee_row13_col6\" class=\"data row13 col6\" >0.1260</td>\n",
       "      <td id=\"T_45fee_row13_col7\" class=\"data row13 col7\" >0.0580</td>\n",
       "    </tr>\n",
       "    <tr>\n",
       "      <th id=\"T_45fee_level0_row14\" class=\"row_heading level0 row14\" >ridge</th>\n",
       "      <td id=\"T_45fee_row14_col0\" class=\"data row14 col0\" >Ridge Regression</td>\n",
       "      <td id=\"T_45fee_row14_col1\" class=\"data row14 col1\" >0.6055</td>\n",
       "      <td id=\"T_45fee_row14_col2\" class=\"data row14 col2\" >0.7336</td>\n",
       "      <td id=\"T_45fee_row14_col3\" class=\"data row14 col3\" >0.7499</td>\n",
       "      <td id=\"T_45fee_row14_col4\" class=\"data row14 col4\" >-1.4187</td>\n",
       "      <td id=\"T_45fee_row14_col5\" class=\"data row14 col5\" >0.1071</td>\n",
       "      <td id=\"T_45fee_row14_col6\" class=\"data row14 col6\" >0.0991</td>\n",
       "      <td id=\"T_45fee_row14_col7\" class=\"data row14 col7\" >0.0320</td>\n",
       "    </tr>\n",
       "    <tr>\n",
       "      <th id=\"T_45fee_level0_row15\" class=\"row_heading level0 row15\" >xgboost</th>\n",
       "      <td id=\"T_45fee_row15_col0\" class=\"data row15 col0\" >Extreme Gradient Boosting</td>\n",
       "      <td id=\"T_45fee_row15_col1\" class=\"data row15 col1\" >0.6505</td>\n",
       "      <td id=\"T_45fee_row15_col2\" class=\"data row15 col2\" >0.8805</td>\n",
       "      <td id=\"T_45fee_row15_col3\" class=\"data row15 col3\" >0.8535</td>\n",
       "      <td id=\"T_45fee_row15_col4\" class=\"data row15 col4\" >-1.4302</td>\n",
       "      <td id=\"T_45fee_row15_col5\" class=\"data row15 col5\" >0.1160</td>\n",
       "      <td id=\"T_45fee_row15_col6\" class=\"data row15 col6\" >0.1060</td>\n",
       "      <td id=\"T_45fee_row15_col7\" class=\"data row15 col7\" >0.0480</td>\n",
       "    </tr>\n",
       "    <tr>\n",
       "      <th id=\"T_45fee_level0_row16\" class=\"row_heading level0 row16\" >lr</th>\n",
       "      <td id=\"T_45fee_row16_col0\" class=\"data row16 col0\" >Linear Regression</td>\n",
       "      <td id=\"T_45fee_row16_col1\" class=\"data row16 col1\" >0.6182</td>\n",
       "      <td id=\"T_45fee_row16_col2\" class=\"data row16 col2\" >0.7717</td>\n",
       "      <td id=\"T_45fee_row16_col3\" class=\"data row16 col3\" >0.7641</td>\n",
       "      <td id=\"T_45fee_row16_col4\" class=\"data row16 col4\" >-1.4752</td>\n",
       "      <td id=\"T_45fee_row16_col5\" class=\"data row16 col5\" >0.1096</td>\n",
       "      <td id=\"T_45fee_row16_col6\" class=\"data row16 col6\" >0.1011</td>\n",
       "      <td id=\"T_45fee_row16_col7\" class=\"data row16 col7\" >1.4750</td>\n",
       "    </tr>\n",
       "    <tr>\n",
       "      <th id=\"T_45fee_level0_row17\" class=\"row_heading level0 row17\" >dt</th>\n",
       "      <td id=\"T_45fee_row17_col0\" class=\"data row17 col0\" >Decision Tree Regressor</td>\n",
       "      <td id=\"T_45fee_row17_col1\" class=\"data row17 col1\" >0.8083</td>\n",
       "      <td id=\"T_45fee_row17_col2\" class=\"data row17 col2\" >1.2750</td>\n",
       "      <td id=\"T_45fee_row17_col3\" class=\"data row17 col3\" >1.0220</td>\n",
       "      <td id=\"T_45fee_row17_col4\" class=\"data row17 col4\" >-2.7833</td>\n",
       "      <td id=\"T_45fee_row17_col5\" class=\"data row17 col5\" >0.1470</td>\n",
       "      <td id=\"T_45fee_row17_col6\" class=\"data row17 col6\" >0.1310</td>\n",
       "      <td id=\"T_45fee_row17_col7\" class=\"data row17 col7\" >0.0330</td>\n",
       "    </tr>\n",
       "    <tr>\n",
       "      <th id=\"T_45fee_level0_row18\" class=\"row_heading level0 row18\" >huber</th>\n",
       "      <td id=\"T_45fee_row18_col0\" class=\"data row18 col0\" >Huber Regressor</td>\n",
       "      <td id=\"T_45fee_row18_col1\" class=\"data row18 col1\" >0.9156</td>\n",
       "      <td id=\"T_45fee_row18_col2\" class=\"data row18 col2\" >2.3380</td>\n",
       "      <td id=\"T_45fee_row18_col3\" class=\"data row18 col3\" >1.2242</td>\n",
       "      <td id=\"T_45fee_row18_col4\" class=\"data row18 col4\" >-8.8260</td>\n",
       "      <td id=\"T_45fee_row18_col5\" class=\"data row18 col5\" >0.2026</td>\n",
       "      <td id=\"T_45fee_row18_col6\" class=\"data row18 col6\" >0.1515</td>\n",
       "      <td id=\"T_45fee_row18_col7\" class=\"data row18 col7\" >0.0410</td>\n",
       "    </tr>\n",
       "    <tr>\n",
       "      <th id=\"T_45fee_level0_row19\" class=\"row_heading level0 row19\" >par</th>\n",
       "      <td id=\"T_45fee_row19_col0\" class=\"data row19 col0\" >Passive Aggressive Regressor</td>\n",
       "      <td id=\"T_45fee_row19_col1\" class=\"data row19 col1\" >8.2380</td>\n",
       "      <td id=\"T_45fee_row19_col2\" class=\"data row19 col2\" >293.1972</td>\n",
       "      <td id=\"T_45fee_row19_col3\" class=\"data row19 col3\" >12.3523</td>\n",
       "      <td id=\"T_45fee_row19_col4\" class=\"data row19 col4\" >-1058.6309</td>\n",
       "      <td id=\"T_45fee_row19_col5\" class=\"data row19 col5\" >0.7323</td>\n",
       "      <td id=\"T_45fee_row19_col6\" class=\"data row19 col6\" >1.2951</td>\n",
       "      <td id=\"T_45fee_row19_col7\" class=\"data row19 col7\" >0.0320</td>\n",
       "    </tr>\n",
       "  </tbody>\n",
       "</table>\n"
      ],
      "text/plain": [
       "<pandas.io.formats.style.Styler at 0x27c12e3e150>"
      ]
     },
     "metadata": {},
     "output_type": "display_data"
    },
    {
     "data": {
      "text/html": [],
      "text/plain": [
       "<IPython.core.display.HTML object>"
      ]
     },
     "metadata": {},
     "output_type": "display_data"
    },
    {
     "name": "stderr",
     "output_type": "stream",
     "text": [
      "C:\\Users\\Thabang Ndhlovu\\AppData\\Roaming\\Python\\Python311\\site-packages\\pycaret\\internal\\pycaret_experiment\\supervised_experiment.py:339: FutureWarning: Styler.applymap has been deprecated. Use Styler.map instead.\n",
      "  .applymap(highlight_cols, subset=[\"TT (Sec)\"])\n"
     ]
    }
   ],
   "source": [
    "best = compare_models()"
   ]
  },
  {
   "cell_type": "code",
   "execution_count": null,
   "id": "c7a3e770-5f5f-41b5-8257-8f2fb74e1d85",
   "metadata": {},
   "outputs": [],
   "source": []
  },
  {
   "cell_type": "code",
   "execution_count": 302,
   "id": "56d7a153-d153-43b3-90d7-78b7de023e1e",
   "metadata": {
    "tags": []
   },
   "outputs": [
    {
     "data": {
      "text/plain": [
       "array([[  0.55522891],\n",
       "       [ 14.89190173],\n",
       "       [ -1.58309371],\n",
       "       [  3.32465314],\n",
       "       [ 38.68652249],\n",
       "       [  5.52015254],\n",
       "       [ 32.34436391],\n",
       "       [ 16.17162997],\n",
       "       [  7.68555684],\n",
       "       [ -4.22811411],\n",
       "       [ 16.44003457],\n",
       "       [ 13.54071598],\n",
       "       [-12.02633739],\n",
       "       [  0.40789907],\n",
       "       [-20.48159535],\n",
       "       [ -7.25465455],\n",
       "       [-11.59807886],\n",
       "       [-53.4122505 ],\n",
       "       [  3.59378156],\n",
       "       [  9.19322037],\n",
       "       [ -9.96076898],\n",
       "       [  4.27161374],\n",
       "       [ -7.45611766],\n",
       "       [ -7.45611766],\n",
       "       [ -8.44505861],\n",
       "       [ -5.96348859],\n",
       "       [ 23.63189636],\n",
       "       [ 10.92434567],\n",
       "       [ -9.4766129 ],\n",
       "       [ -7.35956356],\n",
       "       [ -5.36156283],\n",
       "       [-12.70632737],\n",
       "       [-10.50421169],\n",
       "       [ 11.31372177],\n",
       "       [ 11.31372177],\n",
       "       [ 16.00082343],\n",
       "       [ -7.16062273],\n",
       "       [  7.13602407],\n",
       "       [ -9.86891026],\n",
       "       [ -6.4521705 ],\n",
       "       [ -7.53289464],\n",
       "       [  7.17705215],\n",
       "       [  4.7802995 ],\n",
       "       [  2.41332025],\n",
       "       [  5.1301004 ],\n",
       "       [ -4.80036007],\n",
       "       [ 22.4200699 ],\n",
       "       [ -8.68621572],\n",
       "       [  9.00415143]])"
      ]
     },
     "execution_count": 302,
     "metadata": {},
     "output_type": "execute_result"
    }
   ],
   "source": [
    "import numpy as np\n",
    "from sklearn.linear_model import Ridge\n",
    "\n",
    "# Assuming X and y are your features and target variable respectively\n",
    "model = Ridge().fit(X_train, y_train)\n",
    "\n",
    "# Original coefficients\n",
    "coef_ = model.coef_\n",
    "\n",
    "# Rescale coefficients so they sum to 1\n",
    "weights = coef_ / np.sum(coef_)\n",
    "\n",
    "# Now you can use weights for a linear combination of features\n",
    "X @ weights.T"
   ]
  },
  {
   "cell_type": "code",
   "execution_count": 287,
   "id": "f39f0a9d-65e0-4660-9d40-c94a368e1be7",
   "metadata": {
    "tags": []
   },
   "outputs": [
    {
     "data": {
      "text/plain": [
       "0.2831515534409609"
      ]
     },
     "execution_count": 287,
     "metadata": {},
     "output_type": "execute_result"
    }
   ],
   "source": [
    "model.score(X, y)"
   ]
  },
  {
   "cell_type": "code",
   "execution_count": 289,
   "id": "48e838ed-513d-45ab-8b91-621c47e06a92",
   "metadata": {
    "tags": []
   },
   "outputs": [
    {
     "data": {
      "text/plain": [
       "\u001b[1;31mSignature:\u001b[0m \u001b[0mmodel\u001b[0m\u001b[1;33m.\u001b[0m\u001b[0mpredict\u001b[0m\u001b[1;33m(\u001b[0m\u001b[0mX\u001b[0m\u001b[1;33m)\u001b[0m\u001b[1;33m\u001b[0m\u001b[1;33m\u001b[0m\u001b[0m\n",
       "\u001b[1;31mSource:\u001b[0m   \n",
       "    \u001b[1;32mdef\u001b[0m \u001b[0mpredict\u001b[0m\u001b[1;33m(\u001b[0m\u001b[0mself\u001b[0m\u001b[1;33m,\u001b[0m \u001b[0mX\u001b[0m\u001b[1;33m)\u001b[0m\u001b[1;33m:\u001b[0m\u001b[1;33m\n",
       "\u001b[0m        \u001b[1;34m\"\"\"\n",
       "        Predict using the linear model.\n",
       "\n",
       "        Parameters\n",
       "        ----------\n",
       "        X : array-like or sparse matrix, shape (n_samples, n_features)\n",
       "            Samples.\n",
       "\n",
       "        Returns\n",
       "        -------\n",
       "        C : array, shape (n_samples,)\n",
       "            Returns predicted values.\n",
       "        \"\"\"\u001b[0m\u001b[1;33m\n",
       "\u001b[0m        \u001b[1;32mreturn\u001b[0m \u001b[0mself\u001b[0m\u001b[1;33m.\u001b[0m\u001b[0m_decision_function\u001b[0m\u001b[1;33m(\u001b[0m\u001b[0mX\u001b[0m\u001b[1;33m)\u001b[0m\u001b[1;33m\u001b[0m\u001b[1;33m\u001b[0m\u001b[0m\n",
       "\u001b[1;31mFile:\u001b[0m      c:\\users\\thabang ndhlovu\\conda\\lib\\site-packages\\sklearn\\linear_model\\_base.py\n",
       "\u001b[1;31mType:\u001b[0m      method"
      ]
     },
     "metadata": {},
     "output_type": "display_data"
    }
   ],
   "source": [
    "model.predict??"
   ]
  },
  {
   "cell_type": "code",
   "execution_count": 285,
   "id": "b3c29d05-51b2-41d5-9174-5ad02bf40c5d",
   "metadata": {
    "tags": []
   },
   "outputs": [
    {
     "data": {
      "text/plain": [
       "0.30811645016615097"
      ]
     },
     "execution_count": 285,
     "metadata": {},
     "output_type": "execute_result"
    }
   ],
   "source": [
    "mean_squared_error(y, model.predict(X))"
   ]
  },
  {
   "cell_type": "code",
   "execution_count": 286,
   "id": "32a79e43-6dd2-4d38-91f7-ce96ab9113ab",
   "metadata": {
    "tags": []
   },
   "outputs": [
    {
     "data": {
      "text/plain": [
       "array([[6.39088559],\n",
       "       [5.93425348],\n",
       "       [6.34487763],\n",
       "       [6.32379298],\n",
       "       [5.04573432],\n",
       "       [6.20066477],\n",
       "       [5.33513529],\n",
       "       [5.92008554],\n",
       "       [6.1305509 ],\n",
       "       [6.41896447],\n",
       "       [5.93279792],\n",
       "       [6.01172055],\n",
       "       [6.62325651],\n",
       "       [6.40902955],\n",
       "       [6.3572451 ],\n",
       "       [6.5975582 ],\n",
       "       [6.57235999],\n",
       "       [6.74458646],\n",
       "       [6.3401803 ],\n",
       "       [6.08022906],\n",
       "       [6.5613697 ],\n",
       "       [6.02460641],\n",
       "       [6.58390802],\n",
       "       [6.58390802],\n",
       "       [6.48326694],\n",
       "       [6.47626041],\n",
       "       [5.59126265],\n",
       "       [5.88107301],\n",
       "       [6.52910582],\n",
       "       [6.48376345],\n",
       "       [6.43707567],\n",
       "       [6.55804498],\n",
       "       [6.52637045],\n",
       "       [6.01460161],\n",
       "       [6.01460161],\n",
       "       [5.79943251],\n",
       "       [6.56897083],\n",
       "       [6.29990175],\n",
       "       [6.53927055],\n",
       "       [6.51991434],\n",
       "       [6.48973864],\n",
       "       [6.13785486],\n",
       "       [6.21587599],\n",
       "       [6.15688478],\n",
       "       [6.36754449],\n",
       "       [6.45957775],\n",
       "       [5.67238627],\n",
       "       [6.57966835],\n",
       "       [6.22985155]])"
      ]
     },
     "execution_count": 286,
     "metadata": {},
     "output_type": "execute_result"
    }
   ],
   "source": [
    "model.predict(X)"
   ]
  },
  {
   "cell_type": "code",
   "execution_count": 284,
   "id": "a312b2d4-5bef-4253-9cb2-f5fd5c48fe3e",
   "metadata": {
    "tags": []
   },
   "outputs": [
    {
     "data": {
      "text/plain": [
       "array([[-0.15412016, -0.61075228, -0.20012812, -0.22121278, -1.49927144,\n",
       "        -0.34434098, -1.20987047, -0.62492022, -0.41445486, -0.12604129,\n",
       "        -0.61220784, -0.53328521,  0.07825075, -0.13597621, -0.18776066,\n",
       "         0.05255244,  0.02735423,  0.1995807 , -0.20482546, -0.4647767 ,\n",
       "         0.01636394, -0.52039935,  0.03890227,  0.03890227, -0.06173882,\n",
       "        -0.06874535, -0.95374311, -0.66393275, -0.01589994, -0.06124231,\n",
       "        -0.10793009,  0.01303922, -0.01863531, -0.53040415, -0.53040415,\n",
       "        -0.74557325,  0.02396507, -0.24510401, -0.00573521, -0.02509142,\n",
       "        -0.05526712, -0.4071509 , -0.32912977, -0.38812097, -0.17746127,\n",
       "        -0.085428  , -0.87261949,  0.03466259, -0.31515421]])"
      ]
     },
     "execution_count": 284,
     "metadata": {},
     "output_type": "execute_result"
    }
   ],
   "source": [
    "model.coef_ @ X.T"
   ]
  },
  {
   "cell_type": "code",
   "execution_count": null,
   "id": "2cbbffcd-51ca-4d8c-b445-a8a5bd2800dc",
   "metadata": {},
   "outputs": [],
   "source": []
  },
  {
   "cell_type": "code",
   "execution_count": null,
   "id": "718b4e81-57c6-4ac0-9291-3e620fe9447c",
   "metadata": {},
   "outputs": [],
   "source": []
  },
  {
   "cell_type": "code",
   "execution_count": null,
   "id": "c91c585a-471a-4bb3-9b58-e04fd308402e",
   "metadata": {},
   "outputs": [],
   "source": []
  },
  {
   "cell_type": "code",
   "execution_count": null,
   "id": "bfa209f1-dbc9-4472-a275-12a70231b337",
   "metadata": {},
   "outputs": [],
   "source": []
  },
  {
   "cell_type": "code",
   "execution_count": null,
   "id": "3dd9a735-ae92-4826-81c2-53cca0544b84",
   "metadata": {},
   "outputs": [],
   "source": []
  },
  {
   "cell_type": "code",
   "execution_count": 137,
   "id": "5e5ca3f7-e021-4929-b060-24630555470a",
   "metadata": {
    "tags": []
   },
   "outputs": [],
   "source": []
  },
  {
   "cell_type": "code",
   "execution_count": 146,
   "id": "a3a10d87-32ea-40b8-bbc7-8c09a27c566c",
   "metadata": {
    "tags": []
   },
   "outputs": [],
   "source": [
    "from sklearn.metrics import mean_absolute_percentage_error, mean_absolute_error"
   ]
  },
  {
   "cell_type": "code",
   "execution_count": 269,
   "id": "bf006460-b728-4109-83a7-0ccc2cc11292",
   "metadata": {
    "tags": []
   },
   "outputs": [
    {
     "name": "stdout",
     "output_type": "stream",
     "text": [
      " message: Optimization terminated successfully\n",
      " success: True\n",
      "  status: 0\n",
      "     fun: 5.683299637112679\n",
      "       x: [ 9.824e-02 -4.840e-04  6.219e-01  2.452e-01 -8.937e-02\n",
      "            1.245e-01]\n",
      "     nit: 14\n",
      "     jac: [-2.619e+00 -2.536e+00 -2.618e+00 -2.618e+00 -2.619e+00\n",
      "           -2.619e+00]\n",
      "    nfev: 102\n",
      "    njev: 14\n",
      "Optimal weights: [ 9.82440729e-02 -4.84034390e-04  6.21891961e-01  2.45248343e-01\n",
      " -8.93738170e-02  1.24473475e-01]\n"
     ]
    }
   ],
   "source": [
    "import numpy as np\n",
    "from scipy.optimize import minimize\n",
    "\n",
    "def optimize_weights(X, y):\n",
    "    \n",
    "    def error_function(weights):\n",
    "        predicted_y = np.dot(X, weights)\n",
    "        error = np.mean((predicted_y - y) ** 2)  # Mean Squared Error\n",
    "        return mean_squared_error(y, predicted_y)\n",
    "    \n",
    "    bounds = [(None, 1)] * X.shape[1]\n",
    "    constraint = {'type': 'eq', 'fun': lambda weights: np.sum(weights) - 1}\n",
    "    result = minimize(error_function, np.ones(X.shape[1]), method=\"SLSQP\", bounds=bounds, constraints=constraint)\n",
    "\n",
    "    # Extract the optimal weights\n",
    "    optimal_weights = result.x\n",
    "    print(result)\n",
    "    return optimal_weights\n",
    "\n",
    "# Obtain optimal weights\n",
    "optimal_weights = optimize_weights(X, y)\n",
    "print(\"Optimal weights:\", optimal_weights)\n"
   ]
  },
  {
   "cell_type": "code",
   "execution_count": 270,
   "id": "1338e62a-7ad8-4811-825b-14e120ca02e7",
   "metadata": {
    "tags": []
   },
   "outputs": [
    {
     "data": {
      "text/plain": [
       "array([ 9.82440729e-02, -4.84034390e-04,  6.21891961e-01,  2.45248343e-01,\n",
       "       -8.93738170e-02,  1.24473475e-01])"
      ]
     },
     "execution_count": 270,
     "metadata": {},
     "output_type": "execute_result"
    }
   ],
   "source": [
    "optimal_weights"
   ]
  },
  {
   "cell_type": "code",
   "execution_count": 171,
   "id": "83c81cfd-6054-4d80-9c4f-7f479542cd4e",
   "metadata": {
    "tags": []
   },
   "outputs": [
    {
     "name": "stdout",
     "output_type": "stream",
     "text": [
      "-0.3148423265868361\n",
      "[0.27923243 0.72076757]\n"
     ]
    }
   ],
   "source": [
    "a = optimal_weights[4:]\n",
    "print(a.sum())\n",
    "a /= a.sum()\n",
    "print(a)"
   ]
  },
  {
   "cell_type": "code",
   "execution_count": 172,
   "id": "6231d69f-68ac-44c0-9f57-39cdf799270e",
   "metadata": {
    "tags": []
   },
   "outputs": [
    {
     "data": {
      "text/plain": [
       "array([0.27923243, 0.72076757])"
      ]
     },
     "execution_count": 172,
     "metadata": {},
     "output_type": "execute_result"
    }
   ],
   "source": [
    "a"
   ]
  },
  {
   "cell_type": "code",
   "execution_count": 226,
   "id": "738650af-21e3-4abc-b2b7-375ee25e703b",
   "metadata": {
    "tags": []
   },
   "outputs": [],
   "source": [
    "X = np.where(np.nan == X, X, 0)"
   ]
  },
  {
   "cell_type": "code",
   "execution_count": 242,
   "id": "bc1b9a8e-259e-4224-b608-2bc16e443d17",
   "metadata": {
    "tags": []
   },
   "outputs": [],
   "source": [
    "import numpy as np\n",
    "from IPython.display import clear_output\n",
    "def compute_error(X, y, w):\n",
    "    y_pred = np.dot(X, w)\n",
    "    error = np.mean((y_pred - y) ** 2)\n",
    "    print(error)\n",
    "    clear_output(wait=True)\n",
    "    return mean_squared_error(y, y_pred)\n",
    "\n",
    "def gradient_descent(X, y, learning_rate=0.0083, epochs=10000):\n",
    "    num_features = X.shape[1]\n",
    "    w = np.random.randn(num_features) # initialize weights randomly\n",
    "    for _ in range(epochs):\n",
    "        y_pred = np.dot(X, w)\n",
    "        error = compute_error(X, y, w)\n",
    "        gradient = 2 * np.dot(X.T, (y_pred - y)) / len(y)\n",
    "        w -= learning_rate * gradient\n",
    "    return w\n",
    "\n",
    "# Example usage:\n",
    "# X is the feature matrix, y is the target vector\n",
    "# Make sure X has shape (num_samples, num_features) and y has shape (num_samples,)\n",
    "# Call gradient_descent function to get optimized weights"
   ]
  },
  {
   "cell_type": "code",
   "execution_count": 243,
   "id": "90d12ce3-5efb-45b3-8a73-566f0b7985c2",
   "metadata": {
    "tags": []
   },
   "outputs": [
    {
     "name": "stdout",
     "output_type": "stream",
     "text": [
      "39.55612244897959\n"
     ]
    }
   ],
   "source": [
    "optimized_weights = gradient_descent(X, y_true)\n"
   ]
  },
  {
   "cell_type": "code",
   "execution_count": 244,
   "id": "c52c1663-ca1f-43cb-a1c3-4904a70265a9",
   "metadata": {
    "tags": []
   },
   "outputs": [
    {
     "data": {
      "text/plain": [
       "array([ 0.45392636,  0.4881422 , -0.79690722, -1.27179793,  0.15143154,\n",
       "        1.25591873])"
      ]
     },
     "execution_count": 244,
     "metadata": {},
     "output_type": "execute_result"
    }
   ],
   "source": [
    "optimized_weights"
   ]
  },
  {
   "cell_type": "code",
   "execution_count": null,
   "id": "504299dd-0515-47da-8394-daef6db9e45e",
   "metadata": {
    "tags": []
   },
   "outputs": [],
   "source": []
  },
  {
   "cell_type": "code",
   "execution_count": 354,
   "id": "36d80e8e-3fbe-40b8-a063-ed31a57d05ee",
   "metadata": {
    "tags": []
   },
   "outputs": [
    {
     "name": "stdout",
     "output_type": "stream",
     "text": [
      "Credit Score: 7.45, Credit Rating: Ba\n"
     ]
    }
   ],
   "source": [
    "def compute_credit_score(oper_margin, tot_debt_to_tot_eqy, tot_debt_to_ebitda, ebitda_to_tot_int_exp, return_on_asset, asset_turnover):\n",
    "    metrics = [oper_margin, 1 - tot_debt_to_tot_eqy, 1 - tot_debt_to_ebitda, ebitda_to_tot_int_exp, return_on_asset, asset_turnover]\n",
    "    weights = [0.20, 0.20, 0.20, 0.15, 0.15, 0.10]  # Weights for each metric\n",
    "\n",
    "    score = sum(m * w for m, w in zip(metrics, weights)) * 7.5 + 2.5\n",
    "    score = min(max(score, 2.5), 8.5)\n",
    "\n",
    "    ratings = [\"Aaa\", \"Aa\", \"A\", \"Baa\", \"Ba\", \"B\", \"Caa\", \"Ca\", \"C\"]\n",
    "    rating_index = max(int(score - 2.5), 0)  \n",
    "    return score, ratings[rating_index]\n",
    "\n",
    "# Example usage\n",
    "credit_score, credit_rating = compute_credit_score(0.8, 0.4, 0.3, 0.7, 0.5, 0.6)\n",
    "print(f\"Credit Score: {credit_score:.2f}, Credit Rating: {credit_rating}\")\n"
   ]
  },
  {
   "cell_type": "code",
   "execution_count": 356,
   "id": "e9903401-0cfb-45d3-99b6-713e6b895a95",
   "metadata": {
    "tags": []
   },
   "outputs": [
    {
     "data": {
      "text/plain": [
       "{'oper_margin': 4.372,\n",
       " 'tot_debt_to_tot_eqy': 98.646,\n",
       " 'tot_debt_to_ebitda': 2.0211,\n",
       " 'ebitda_to_tot_int_exp': 5.5277,\n",
       " 'return_on_asset': 11.2683,\n",
       " 'asset_turnover': 3.8526}"
      ]
     },
     "execution_count": 356,
     "metadata": {},
     "output_type": "execute_result"
    }
   ],
   "source": [
    "ratios"
   ]
  },
  {
   "cell_type": "code",
   "execution_count": null,
   "id": "fdb59bcd-e987-4fe7-aabb-3b0e1ca59fc8",
   "metadata": {
    "tags": []
   },
   "outputs": [],
   "source": []
  },
  {
   "cell_type": "code",
   "execution_count": 364,
   "id": "9683c887-9a20-4516-90ed-f4fb7a3d0b0f",
   "metadata": {
    "tags": []
   },
   "outputs": [],
   "source": [
    "settings = {\n",
    "    \"categories\": {\n",
    "        \"profitability\": {\"weight\": 0.3, \"metrics\": {\"oper_margin\": {\"weight\": 1.0, \"lower_is_better\": False}}},\n",
    "        \"leverage_coverage\": {\"weight\": 0.4, \"metrics\": {\n",
    "            \"tot_debt_to_tot_eqy\": {\"weight\": 0.35, \"lower_is_better\": True},\n",
    "            \"tot_debt_to_ebitda\": {\"weight\": 0.35, \"lower_is_better\": True},\n",
    "            \"ebitda_to_tot_int_exp\": {\"weight\": 0.30, \"lower_is_better\": False}\n",
    "        }},\n",
    "        \"efficiency\": {\"weight\": 0.3, \"metrics\": {\n",
    "            \"return_on_asset\": {\"weight\": 0.60, \"lower_is_better\": False},\n",
    "            \"asset_turnover\": {\"weight\": 0.40, \"lower_is_better\": False}\n",
    "        }}\n",
    "    }\n",
    "}\n"
   ]
  },
  {
   "cell_type": "code",
   "execution_count": 366,
   "id": "988d23f8-5997-4faf-a38e-83a13ade285a",
   "metadata": {
    "tags": []
   },
   "outputs": [
    {
     "name": "stdout",
     "output_type": "stream",
     "text": [
      "Credit Score: 2.50, Credit Rating: Aaa\n"
     ]
    }
   ],
   "source": [
    "def compute_credit_score(settings, **metrics):\n",
    "    overall_score = sum(\n",
    "        cat_details[\"weight\"] * sum(\n",
    "            (1 - metrics[metric] if detail[\"lower_is_better\"] else metrics[metric]) * detail[\"weight\"]\n",
    "            for metric, detail in cat_details[\"metrics\"].items()\n",
    "        )\n",
    "        for category, cat_details in settings[\"categories\"].items()\n",
    "    )\n",
    "\n",
    "    # Scale and bound the score within the rating scale\n",
    "    overall_score = min(max(overall_score * 7.5 + 2.5, 2.5), 8.5)\n",
    "\n",
    "    # Map score to rating\n",
    "    ratings = [\"Aaa\", \"Aa\", \"A\", \"Baa\", \"Ba\", \"B\", \"Caa\", \"Ca\", \"C\"]\n",
    "    rating_index = max(int(overall_score - 2.5), 0)\n",
    "    return overall_score, ratings[rating_index]\n",
    "\n",
    "# Example usage\n",
    "credit_score, credit_rating = compute_credit_score(\n",
    "    settings,\n",
    "    **ratios,\n",
    "    # oper_margin=0.8,\n",
    "    # tot_debt_to_tot_eqy=0.4,\n",
    "    # tot_debt_to_ebitda=0.3,\n",
    "    # ebitda_to_tot_int_exp=0.7,\n",
    "    # return_on_asset=0.5,\n",
    "    # asset_turnover=0.6\n",
    ")\n",
    "print(f\"Credit Score: {credit_score:.2f}, Credit Rating: {credit_rating}\")\n"
   ]
  },
  {
   "cell_type": "code",
   "execution_count": null,
   "id": "2c93a586-5f13-4aa3-8fb9-99a3a08849b6",
   "metadata": {},
   "outputs": [],
   "source": []
  }
 ],
 "metadata": {
  "kernelspec": {
   "display_name": "Python 3 (ipykernel)",
   "language": "python",
   "name": "python3"
  },
  "language_info": {
   "codemirror_mode": {
    "name": "ipython",
    "version": 3
   },
   "file_extension": ".py",
   "mimetype": "text/x-python",
   "name": "python",
   "nbconvert_exporter": "python",
   "pygments_lexer": "ipython3",
   "version": "3.11.5"
  }
 },
 "nbformat": 4,
 "nbformat_minor": 5
}
