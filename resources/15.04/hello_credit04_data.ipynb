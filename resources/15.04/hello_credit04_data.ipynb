{
 "cells": [
  {
   "cell_type": "markdown",
   "id": "e5bebd14-5939-4228-9449-e42827616343",
   "metadata": {},
   "source": [
    "# **Predictive Default Risk Assessor V.01**"
   ]
  },
  {
   "cell_type": "code",
   "execution_count": 1,
   "id": "cebbf57d-65db-4819-98a2-b2ab40d50e03",
   "metadata": {
    "tags": []
   },
   "outputs": [],
   "source": [
    "import json\n",
    "\n",
    "import numpy as np\n",
    "import pandas as pd"
   ]
  },
  {
   "cell_type": "code",
   "execution_count": 2,
   "id": "5d51ffcf-7544-4cce-b544-cfed3e0cba2d",
   "metadata": {
    "tags": []
   },
   "outputs": [],
   "source": [
    "with open(\"hello_credit_config.json\", \"r\") as f:\n",
    "    config = json.load(f)"
   ]
  },
  {
   "cell_type": "code",
   "execution_count": null,
   "id": "d3210a39-7e74-4c41-8961-30ae19cacae2",
   "metadata": {},
   "outputs": [],
   "source": []
  },
  {
   "cell_type": "code",
   "execution_count": null,
   "id": "54d28db5-3775-41d3-9bc1-b5bcda5be302",
   "metadata": {},
   "outputs": [],
   "source": []
  },
  {
   "cell_type": "code",
   "execution_count": null,
   "id": "6f62fcf0-6acd-476c-a3b4-46e9d6ea5df8",
   "metadata": {},
   "outputs": [],
   "source": []
  },
  {
   "cell_type": "code",
   "execution_count": null,
   "id": "f390d8a0-cc45-4a6c-ae8c-2c0c56e7cf93",
   "metadata": {},
   "outputs": [],
   "source": []
  },
  {
   "cell_type": "code",
   "execution_count": null,
   "id": "3d3bc1ac-ddd9-4340-ada5-403838b705c2",
   "metadata": {},
   "outputs": [],
   "source": []
  },
  {
   "cell_type": "code",
   "execution_count": null,
   "id": "e737c757-9783-4352-b991-34a6598e2cc4",
   "metadata": {},
   "outputs": [],
   "source": []
  },
  {
   "cell_type": "markdown",
   "id": "25e1bd16-18e3-4518-a958-4b18602fff3f",
   "metadata": {
    "tags": []
   },
   "source": [
    "# "
   ]
  },
  {
   "cell_type": "code",
   "execution_count": 19,
   "id": "8ff894c0-a05e-4061-9445-bbb895296a09",
   "metadata": {
    "tags": []
   },
   "outputs": [],
   "source": [
    "class CreditRatingCalculator:\n",
    "    def __init__(self, metrics, credit_ratings):\n",
    "        self.metrics = metrics\n",
    "        self.credit_ratings = credit_ratings\n",
    "        \n",
    "    def _calculate_metric_score(self, metric, thresholds, inverse):\n",
    "        for score, (lower, upper) in enumerate(thresholds, start=1):\n",
    "            if (inverse and metric <= upper) or (not inverse and metric >= lower):\n",
    "                return score\n",
    "        return len(thresholds) // 2 # else return the middle score\n",
    "\n",
    "    def _calculate_category_score(self, category_metrics, ratios):\n",
    "        total_weighted_score = 0\n",
    "\n",
    "        for metric, weight in zip(\n",
    "            category_metrics[\"metrics\"].items(), category_metrics[\"weights\"]\n",
    "        ):\n",
    "            metric_name, metric_data = metric\n",
    "            value = ratios[metric_name]\n",
    "            score = self._calculate_metric_score(\n",
    "                value, metric_data[\"thresholds\"], metric_data[\"lower_is_better\"]\n",
    "            )\n",
    "            total_weighted_score += score * weight\n",
    "\n",
    "        return total_weighted_score\n",
    "\n",
    "    def _calculate_scores(self, ratios):\n",
    "        scores = {}\n",
    "        for category, category_data in self.metrics.items():\n",
    "            category_score = self._calculate_category_score(category_data, ratios)\n",
    "            scores[category] = category_score\n",
    "        return scores\n",
    "\n",
    "    def _calculate_weighted_score(self, scores):\n",
    "        weights = {\n",
    "            category: category_data[\"class_weight\"]\n",
    "            for category, category_data in self.metrics.items()\n",
    "        }\n",
    "        return sum(scores[category] * weight for category, weight in weights.items())\n",
    "\n",
    "    def _determine_credit_rating(self, weighted_score):\n",
    "        return next(rating for rating, threshold in self.credit_ratings.items() if weighted_score <= threshold)\n",
    "\n",
    "    def calculate_credit_rating(self, ratios):\n",
    "        self.scores = self._calculate_scores(ratios)\n",
    "        self.credit_score = self._calculate_weighted_score(self.scores)\n",
    "        self.credit_rating = self._determine_credit_rating(self.credit_score)"
   ]
  },
  {
   "cell_type": "code",
   "execution_count": 20,
   "id": "ba34e0b7-dd1b-41d2-b4dc-4608bdc2ece4",
   "metadata": {
    "tags": []
   },
   "outputs": [],
   "source": [
    "model_metrics = [\n",
    "    'oper_margin', 'tot_debt_to_tot_eqy', 'tot_debt_to_ebitda',\n",
    "    'ebitda_to_tot_int_exp', 'return_on_asset', 'asset_turnover',\n",
    "]\n",
    "\n",
    "features = pd.read_excel(\"research/metrics_full.xlsx\", index_col=0).T\n",
    "#features = pd.read_excel(\"dataset/ibx_jalsh_features.xlsx\", index_col=0, )\n",
    "features.columns = features.columns.str.lower()\n",
    "features = features[model_metrics]\n",
    "\n",
    "ratings = pd.read_excel(\"dataset/ibx_jalsh_credit_ratings.xlsx\", index_col=0)"
   ]
  },
  {
   "cell_type": "code",
   "execution_count": 51,
   "id": "48b191bc-7a96-4b25-8036-4854600dfeb2",
   "metadata": {
    "tags": []
   },
   "outputs": [],
   "source": [
    "company = \"CLS SJ Equity\" "
   ]
  },
  {
   "cell_type": "code",
   "execution_count": 103,
   "id": "39b74db9-167a-4d83-bda9-f280c20cd9f4",
   "metadata": {
    "tags": []
   },
   "outputs": [
    {
     "name": "stdout",
     "output_type": "stream",
     "text": [
      "CLS SJ Equity\n",
      "Model Inputs:\n"
     ]
    },
    {
     "data": {
      "text/plain": [
       "{'oper_margin': 6.531625438897736,\n",
       " 'tot_debt_to_tot_eqy': 29.34166481789502,\n",
       " 'tot_debt_to_ebitda': 0.4861134330769339,\n",
       " 'ebitda_to_tot_int_exp': 19.8299600262328,\n",
       " 'return_on_asset': 11.53146781672658,\n",
       " 'asset_turnover': 2.719620868494022}"
      ]
     },
     "metadata": {},
     "output_type": "display_data"
    },
    {
     "name": "stdout",
     "output_type": "stream",
     "text": [
      "\n",
      "Class Scoring: {'profitability': 8.0, 'leverage_coverage': 3.1, 'efficiency': 2.0}\n",
      "Credit Score: 4.405\n",
      "Credit Rating: A\n"
     ]
    }
   ],
   "source": [
    "ratios = features.loc[company].to_dict()\n",
    "model = CreditRatingCalculator(config['credit_model_config'], config['credit_rating_scale'])\n",
    "model.calculate_credit_rating(ratios)\n",
    "print(company)\n",
    "print(f\"Model Inputs:\")\n",
    "display(ratios)\n",
    "print(\"\")\n",
    "print(f\"Class Scoring: {model.scores}\")\n",
    "print(f\"Credit Score: {model.credit_score}\")\n",
    "print(f\"Credit Rating: {model.credit_rating}\")"
   ]
  },
  {
   "cell_type": "code",
   "execution_count": null,
   "id": "81f4eaf1-cdce-4f84-973c-475952151281",
   "metadata": {},
   "outputs": [],
   "source": []
  },
  {
   "cell_type": "code",
   "execution_count": null,
   "id": "636a5a83-1744-4431-be67-3408fe70b3e6",
   "metadata": {
    "tags": []
   },
   "outputs": [],
   "source": []
  },
  {
   "cell_type": "code",
   "execution_count": 86,
   "id": "df30177a-cc1b-46fb-a472-f758b9448374",
   "metadata": {
    "tags": []
   },
   "outputs": [],
   "source": [
    "df = pd.read_excel(\"dataset/ibx_jalsh_raw_data.xlsx\", index_col=0)"
   ]
  },
  {
   "cell_type": "code",
   "execution_count": 91,
   "id": "7d75807a-92bd-468d-b5bf-33f07dd9a902",
   "metadata": {
    "tags": []
   },
   "outputs": [],
   "source": [
    "rc = df[[\"model_credit_ratings\", \"RSK_BB_ISSUER_DEFAULT\", \"RTG_MOODY_LONG_TERM\", \"RTG_SP_LT_LC_ISSUER_CREDIT\"]]"
   ]
  },
  {
   "cell_type": "code",
   "execution_count": 95,
   "id": "3225e2ad-9076-40ae-b150-253513bfa06f",
   "metadata": {
    "tags": []
   },
   "outputs": [],
   "source": [
    "mappings = config['credit_rating_mappings']"
   ]
  },
  {
   "cell_type": "code",
   "execution_count": 96,
   "id": "0505f246-aed1-4bb9-bc3a-256a9b3e54ec",
   "metadata": {
    "tags": []
   },
   "outputs": [],
   "source": [
    "# Create a reverse mapping dictionary\n",
    "reverse_mappings = {value: key for key, values in mappings.items() for value in values}"
   ]
  },
  {
   "cell_type": "code",
   "execution_count": 98,
   "id": "24d9b13c-9732-4a45-a31e-ff4fbee35886",
   "metadata": {
    "tags": []
   },
   "outputs": [
    {
     "data": {
      "text/html": [
       "<div>\n",
       "<style scoped>\n",
       "    .dataframe tbody tr th:only-of-type {\n",
       "        vertical-align: middle;\n",
       "    }\n",
       "\n",
       "    .dataframe tbody tr th {\n",
       "        vertical-align: top;\n",
       "    }\n",
       "\n",
       "    .dataframe thead th {\n",
       "        text-align: right;\n",
       "    }\n",
       "</style>\n",
       "<table border=\"1\" class=\"dataframe\">\n",
       "  <thead>\n",
       "    <tr style=\"text-align: right;\">\n",
       "      <th></th>\n",
       "      <th>model_credit_ratings</th>\n",
       "      <th>RSK_BB_ISSUER_DEFAULT</th>\n",
       "      <th>RTG_MOODY_LONG_TERM</th>\n",
       "      <th>RTG_SP_LT_LC_ISSUER_CREDIT</th>\n",
       "    </tr>\n",
       "  </thead>\n",
       "  <tbody>\n",
       "    <tr>\n",
       "      <th>ABG SJ Equity</th>\n",
       "      <td>Baa</td>\n",
       "      <td>IG6</td>\n",
       "      <td>NaN</td>\n",
       "      <td>NaN</td>\n",
       "    </tr>\n",
       "    <tr>\n",
       "      <th>ADH SJ Equity</th>\n",
       "      <td>A</td>\n",
       "      <td>IG1</td>\n",
       "      <td>NaN</td>\n",
       "      <td>NaN</td>\n",
       "    </tr>\n",
       "    <tr>\n",
       "      <th>AEL SJ Equity</th>\n",
       "      <td>Ba</td>\n",
       "      <td>IG7</td>\n",
       "      <td>NaN</td>\n",
       "      <td>NaN</td>\n",
       "    </tr>\n",
       "    <tr>\n",
       "      <th>AFE SJ Equity</th>\n",
       "      <td>Ba</td>\n",
       "      <td>IG2</td>\n",
       "      <td>NaN</td>\n",
       "      <td>NaN</td>\n",
       "    </tr>\n",
       "    <tr>\n",
       "      <th>AFH SJ Equity</th>\n",
       "      <td>Ba</td>\n",
       "      <td>IG5</td>\n",
       "      <td>NaN</td>\n",
       "      <td>NaN</td>\n",
       "    </tr>\n",
       "    <tr>\n",
       "      <th>...</th>\n",
       "      <td>...</td>\n",
       "      <td>...</td>\n",
       "      <td>...</td>\n",
       "      <td>...</td>\n",
       "    </tr>\n",
       "    <tr>\n",
       "      <th>TSG SJ Equity</th>\n",
       "      <td>Ba</td>\n",
       "      <td>IG5</td>\n",
       "      <td>NaN</td>\n",
       "      <td>NaN</td>\n",
       "    </tr>\n",
       "    <tr>\n",
       "      <th>VKE SJ Equity</th>\n",
       "      <td>Baa</td>\n",
       "      <td>IG4</td>\n",
       "      <td>NaN</td>\n",
       "      <td>NaN</td>\n",
       "    </tr>\n",
       "    <tr>\n",
       "      <th>VOD SJ Equity</th>\n",
       "      <td>A</td>\n",
       "      <td>IG2</td>\n",
       "      <td>NaN</td>\n",
       "      <td>NaN</td>\n",
       "    </tr>\n",
       "    <tr>\n",
       "      <th>WBO SJ Equity</th>\n",
       "      <td>A</td>\n",
       "      <td>IG1</td>\n",
       "      <td>NaN</td>\n",
       "      <td>NaN</td>\n",
       "    </tr>\n",
       "    <tr>\n",
       "      <th>WHL SJ Equity</th>\n",
       "      <td>Ba</td>\n",
       "      <td>IG2</td>\n",
       "      <td>NaN</td>\n",
       "      <td>NaN</td>\n",
       "    </tr>\n",
       "  </tbody>\n",
       "</table>\n",
       "<p>124 rows × 4 columns</p>\n",
       "</div>"
      ],
      "text/plain": [
       "              model_credit_ratings RSK_BB_ISSUER_DEFAULT RTG_MOODY_LONG_TERM  \\\n",
       "ABG SJ Equity                  Baa                   IG6                 NaN   \n",
       "ADH SJ Equity                    A                   IG1                 NaN   \n",
       "AEL SJ Equity                   Ba                   IG7                 NaN   \n",
       "AFE SJ Equity                   Ba                   IG2                 NaN   \n",
       "AFH SJ Equity                   Ba                   IG5                 NaN   \n",
       "...                            ...                   ...                 ...   \n",
       "TSG SJ Equity                   Ba                   IG5                 NaN   \n",
       "VKE SJ Equity                  Baa                   IG4                 NaN   \n",
       "VOD SJ Equity                    A                   IG2                 NaN   \n",
       "WBO SJ Equity                    A                   IG1                 NaN   \n",
       "WHL SJ Equity                   Ba                   IG2                 NaN   \n",
       "\n",
       "              RTG_SP_LT_LC_ISSUER_CREDIT  \n",
       "ABG SJ Equity                        NaN  \n",
       "ADH SJ Equity                        NaN  \n",
       "AEL SJ Equity                        NaN  \n",
       "AFE SJ Equity                        NaN  \n",
       "AFH SJ Equity                        NaN  \n",
       "...                                  ...  \n",
       "TSG SJ Equity                        NaN  \n",
       "VKE SJ Equity                        NaN  \n",
       "VOD SJ Equity                        NaN  \n",
       "WBO SJ Equity                        NaN  \n",
       "WHL SJ Equity                        NaN  \n",
       "\n",
       "[124 rows x 4 columns]"
      ]
     },
     "execution_count": 98,
     "metadata": {},
     "output_type": "execute_result"
    }
   ],
   "source": [
    "rc"
   ]
  },
  {
   "cell_type": "code",
   "execution_count": null,
   "id": "2a8163af-4d36-471b-87a2-d06467c6c9c7",
   "metadata": {
    "tags": []
   },
   "outputs": [],
   "source": []
  },
  {
   "cell_type": "code",
   "execution_count": 99,
   "id": "93bf83be-f326-435c-96d5-b421851d1a88",
   "metadata": {
    "tags": []
   },
   "outputs": [
    {
     "name": "stderr",
     "output_type": "stream",
     "text": [
      "C:\\Users\\Thabang Ndhlovu\\AppData\\Local\\Temp\\ipykernel_12776\\2534808706.py:1: SettingWithCopyWarning: \n",
      "A value is trying to be set on a copy of a slice from a DataFrame.\n",
      "Try using .loc[row_indexer,col_indexer] = value instead\n",
      "\n",
      "See the caveats in the documentation: https://pandas.pydata.org/pandas-docs/stable/user_guide/indexing.html#returning-a-view-versus-a-copy\n",
      "  rc['RSK_BB_ISSUER_DEFAULT'] = rc['RSK_BB_ISSUER_DEFAULT'].map(lambda x: reverse_mappings.get(x, x))\n",
      "C:\\Users\\Thabang Ndhlovu\\AppData\\Local\\Temp\\ipykernel_12776\\2534808706.py:2: SettingWithCopyWarning: \n",
      "A value is trying to be set on a copy of a slice from a DataFrame.\n",
      "Try using .loc[row_indexer,col_indexer] = value instead\n",
      "\n",
      "See the caveats in the documentation: https://pandas.pydata.org/pandas-docs/stable/user_guide/indexing.html#returning-a-view-versus-a-copy\n",
      "  rc['RTG_MOODY_LONG_TERM'] = rc['RTG_MOODY_LONG_TERM'].map(lambda x: reverse_mappings.get(x, x))\n",
      "C:\\Users\\Thabang Ndhlovu\\AppData\\Local\\Temp\\ipykernel_12776\\2534808706.py:3: SettingWithCopyWarning: \n",
      "A value is trying to be set on a copy of a slice from a DataFrame.\n",
      "Try using .loc[row_indexer,col_indexer] = value instead\n",
      "\n",
      "See the caveats in the documentation: https://pandas.pydata.org/pandas-docs/stable/user_guide/indexing.html#returning-a-view-versus-a-copy\n",
      "  rc['RTG_SP_LT_LC_ISSUER_CREDIT'] = rc['RTG_SP_LT_LC_ISSUER_CREDIT'].map(lambda x: reverse_mappings.get(x, x))\n"
     ]
    }
   ],
   "source": [
    "rc['RSK_BB_ISSUER_DEFAULT'] = rc['RSK_BB_ISSUER_DEFAULT'].map(lambda x: reverse_mappings.get(x, x))\n",
    "rc['RTG_MOODY_LONG_TERM'] = rc['RTG_MOODY_LONG_TERM'].map(lambda x: reverse_mappings.get(x, x))\n",
    "rc['RTG_SP_LT_LC_ISSUER_CREDIT'] = rc['RTG_SP_LT_LC_ISSUER_CREDIT'].map(lambda x: reverse_mappings.get(x, x))"
   ]
  },
  {
   "cell_type": "code",
   "execution_count": 101,
   "id": "90da345b-be02-4bb5-85f5-8ed36b37b0c3",
   "metadata": {
    "tags": []
   },
   "outputs": [],
   "source": [
    "rc.to_excel(\"rc.xlsx\")"
   ]
  },
  {
   "cell_type": "code",
   "execution_count": null,
   "id": "2d4e7c6a-2d6c-4755-844d-583e60a8f34e",
   "metadata": {},
   "outputs": [],
   "source": []
  },
  {
   "cell_type": "code",
   "execution_count": null,
   "id": "a401bdd9-5f14-4a4d-8a98-3111582b7f3d",
   "metadata": {
    "tags": []
   },
   "outputs": [],
   "source": [
    "\n",
    "# study = {}\n",
    "# model = CreditRatingCalculator(config['credit_model_config'], config['credit_rating_scale'])\n",
    "\n",
    "# for company in features.index:\n",
    "#     ratios = features.loc[company].to_dict()\n",
    "#     model.calculate_credit_rating(ratios)\n",
    "    \n",
    "    \n",
    "#     study[company] = {\n",
    "#         \"model_credit_ratings\": model.credit_rating,\n",
    "#         \"model_credit_scores\": model.credit_score,\n",
    "#         \"model_class_scores\": model.scores,\n",
    "#     }\n",
    "    "
   ]
  }
 ],
 "metadata": {
  "kernelspec": {
   "display_name": "Python 3 (ipykernel)",
   "language": "python",
   "name": "python3"
  },
  "language_info": {
   "codemirror_mode": {
    "name": "ipython",
    "version": 3
   },
   "file_extension": ".py",
   "mimetype": "text/x-python",
   "name": "python",
   "nbconvert_exporter": "python",
   "pygments_lexer": "ipython3",
   "version": "3.11.5"
  }
 },
 "nbformat": 4,
 "nbformat_minor": 5
}
