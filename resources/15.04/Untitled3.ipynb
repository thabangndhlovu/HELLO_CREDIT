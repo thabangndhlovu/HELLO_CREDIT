{
 "cells": [
  {
   "cell_type": "code",
   "execution_count": 3,
   "id": "60ade940-7d7f-40bc-a40f-556cf36248c7",
   "metadata": {
    "tags": []
   },
   "outputs": [],
   "source": [
    "import numpy as np"
   ]
  },
  {
   "cell_type": "code",
   "execution_count": null,
   "id": "34d97bfd-a7d1-4315-b5a7-fca7d549048e",
   "metadata": {},
   "outputs": [],
   "source": []
  },
  {
   "cell_type": "code",
   "execution_count": 26,
   "id": "3bc56d92-bfe9-435a-b88d-ed924215f048",
   "metadata": {
    "tags": []
   },
   "outputs": [
    {
     "name": "stdout",
     "output_type": "stream",
     "text": [
      "Credit Score: 7.45, Credit Rating: Ba\n"
     ]
    }
   ],
   "source": [
    "def compute_credit_score(oper_margin, tot_debt_to_tot_eqy, tot_debt_to_ebitda, ebitda_to_tot_int_exp, return_on_asset, asset_turnover):\n",
    "    # Normalize and invert metrics where necessary; assumed to be pre-processed\n",
    "    metrics = [\n",
    "        oper_margin,                # Higher is better\n",
    "        1 - tot_debt_to_tot_eqy,    # Invert because lower debt to equity is better\n",
    "        1 - tot_debt_to_ebitda,     # Invert because lower debt to EBITDA is better\n",
    "        ebitda_to_tot_int_exp,      # Higher is better\n",
    "        return_on_asset,            # Higher is better\n",
    "        asset_turnover              # Higher is better\n",
    "    ]\n",
    "    \n",
    "    # Weights based on the above discussion\n",
    "    weights = [0.20, 0.20, 0.20, 0.15, 0.15, 0.10]\n",
    "    \n",
    "    # Compute weighted score, adjust for scaling\n",
    "    score = sum(m * w for m, w in zip(metrics, weights)) * 7.5 + 2.5\n",
    "    \n",
    "    # Determine credit rating\n",
    "    ratings = [\"Aaa\", \"Aa\", \"A\", \"Baa\", \"Ba\", \"B\", \"Caa\", \"Ca\", \"C\"]\n",
    "    rating_index = min(int(score - 2.5), 8)\n",
    "    \n",
    "    return score, ratings[rating_index]\n",
    "\n",
    "# Example usage\n",
    "credit_score, credit_rating = compute_credit_score(\n",
    "    oper_margin=0.8, \n",
    "    tot_debt_to_tot_eqy=0.4, \n",
    "    tot_debt_to_ebitda=0.3, \n",
    "    ebitda_to_tot_int_exp=0.7, \n",
    "    return_on_asset=0.5, \n",
    "    asset_turnover=0.6\n",
    ")\n",
    "print(f\"Credit Score: {credit_score:.2f}, Credit Rating: {credit_rating}\")\n"
   ]
  },
  {
   "cell_type": "code",
   "execution_count": 28,
   "id": "342a58a3-264c-4830-9afb-6c21983d4062",
   "metadata": {
    "tags": []
   },
   "outputs": [
    {
     "data": {
      "text/plain": [
       "'Aaa'"
      ]
     },
     "execution_count": 28,
     "metadata": {},
     "output_type": "execute_result"
    }
   ],
   "source": [
    "score = 2.5\n",
    "ratings = [\"Aaa\", \"Aa\", \"A\", \"Baa\", \"Ba\", \"B\", \"Caa\", \"Ca\", \"C\"]\n",
    "rating_index = min(int(score - 2.5), 8)\n",
    "ratings[rating_index]"
   ]
  },
  {
   "cell_type": "code",
   "execution_count": 30,
   "id": "55be74d2-05fa-41fb-b063-79711c00920f",
   "metadata": {
    "tags": []
   },
   "outputs": [
    {
     "name": "stdout",
     "output_type": "stream",
     "text": [
      "Credit Score: 7.45, Credit Rating: Ba\n"
     ]
    }
   ],
   "source": [
    "def compute_credit_score(oper_margin, tot_debt_to_tot_eqy, tot_debt_to_ebitda, ebitda_to_tot_int_exp, return_on_asset, asset_turnover):\n",
    "    metrics = [oper_margin, 1 - tot_debt_to_tot_eqy, 1 - tot_debt_to_ebitda, ebitda_to_tot_int_exp, return_on_asset, asset_turnover]\n",
    "    weights = [0.20, 0.20, 0.20, 0.15, 0.15, 0.10]  # Weights for each metric\n",
    "\n",
    "    score = sum(m * w for m, w in zip(metrics, weights)) * 7.5 + 2.5\n",
    "    score = min(max(score, 2.5), 8.5)\n",
    "\n",
    "    ratings = [\"Aaa\", \"Aa\", \"A\", \"Baa\", \"Ba\", \"B\", \"Caa\", \"Ca\", \"C\"]\n",
    "    rating_index = max(int(score - 2.5), 0)  \n",
    "    return score, ratings[rating_index]\n",
    "\n",
    "# Example usage\n",
    "credit_score, credit_rating = compute_credit_score(0.8, 0.4, 0.3, 0.7, 0.5, 0.6)\n",
    "print(f\"Credit Score: {credit_score:.2f}, Credit Rating: {credit_rating}\")\n"
   ]
  },
  {
   "cell_type": "code",
   "execution_count": 32,
   "id": "4e45435e-580e-4c09-9b6f-a9b41563118a",
   "metadata": {
    "tags": []
   },
   "outputs": [
    {
     "data": {
      "text/plain": [
       "(7.449999999999999, 'Ba')"
      ]
     },
     "execution_count": 32,
     "metadata": {},
     "output_type": "execute_result"
    }
   ],
   "source": [
    "credit_score, credit_rating = compute_credit_score(\n",
    "    oper_margin=0.8, \n",
    "    tot_debt_to_tot_eqy=0.4, \n",
    "    tot_debt_to_ebitda=0.3, \n",
    "    ebitda_to_tot_int_exp=0.7, \n",
    "    return_on_asset=0.5, \n",
    "    asset_turnover=0.6\n",
    ")\n",
    "\n",
    "credit_score, credit_rating"
   ]
  },
  {
   "cell_type": "code",
   "execution_count": 33,
   "id": "d081c829-b400-4870-9704-24d28debfec5",
   "metadata": {
    "tags": []
   },
   "outputs": [
    {
     "name": "stdout",
     "output_type": "stream",
     "text": [
      "Credit Score: 7.51, Credit Rating: B\n"
     ]
    }
   ],
   "source": [
    "def compute_credit_score(settings, **metrics):\n",
    "    overall_score = sum(\n",
    "        cat_details[\"weight\"] * sum(\n",
    "            (1 - metrics[metric] if detail[\"direction\"] == \"lower_better\" else metrics[metric]) * detail[\"weight\"]\n",
    "            for metric, detail in cat_details[\"metrics\"].items()\n",
    "        )\n",
    "        for category, cat_details in settings[\"categories\"].items()\n",
    "    )\n",
    "\n",
    "    # Scale and bound the score within the rating scale\n",
    "    overall_score = min(max(overall_score * 7.5 + 2.5, 2.5), 8.5)\n",
    "\n",
    "    # Map score to rating\n",
    "    ratings = [\"Aaa\", \"Aa\", \"A\", \"Baa\", \"Ba\", \"B\", \"Caa\", \"Ca\", \"C\"]\n",
    "    rating_index = max(int(overall_score - 2.5), 0)\n",
    "    return overall_score, ratings[rating_index]\n",
    "\n",
    "# Example settings\n",
    "settings = {\n",
    "    \"categories\": {\n",
    "        \"profitability\": {\"weight\": 0.3, \"metrics\": {\"oper_margin\": {\"weight\": 1.0, \"direction\": \"higher_better\"}}},\n",
    "        \"leverage_coverage\": {\"weight\": 0.4, \"metrics\": {\n",
    "            \"tot_debt_to_tot_eqy\": {\"weight\": 0.35, \"direction\": \"lower_better\"},\n",
    "            \"tot_debt_to_ebitda\": {\"weight\": 0.35, \"direction\": \"lower_better\"},\n",
    "            \"ebitda_to_tot_int_exp\": {\"weight\": 0.30, \"direction\": \"higher_better\"}\n",
    "        }},\n",
    "        \"efficiency\": {\"weight\": 0.3, \"metrics\": {\n",
    "            \"return_on_asset\": {\"weight\": 0.60, \"direction\": \"higher_better\"},\n",
    "            \"asset_turnover\": {\"weight\": 0.40, \"direction\": \"higher_better\"}\n",
    "        }}\n",
    "    }\n",
    "}\n",
    "\n",
    "# Example usage\n",
    "credit_score, credit_rating = compute_credit_score(\n",
    "    settings,\n",
    "    oper_margin=0.8,\n",
    "    tot_debt_to_tot_eqy=0.4,\n",
    "    tot_debt_to_ebitda=0.3,\n",
    "    ebitda_to_tot_int_exp=0.7,\n",
    "    return_on_asset=0.5,\n",
    "    asset_turnover=0.6\n",
    ")\n",
    "print(f\"Credit Score: {credit_score:.2f}, Credit Rating: {credit_rating}\")\n"
   ]
  },
  {
   "cell_type": "code",
   "execution_count": 34,
   "id": "b23dd33c-4007-4dac-b589-dcc9f0b60d2f",
   "metadata": {
    "tags": []
   },
   "outputs": [
    {
     "name": "stdout",
     "output_type": "stream",
     "text": [
      "Credit Rating: A\n"
     ]
    }
   ],
   "source": [
    "def determine_metric_rating(value, thresholds):\n",
    "    \"\"\"Determine the rating index based on the metric value and its thresholds.\"\"\"\n",
    "    for index, (low, high) in enumerate(thresholds):\n",
    "        if low <= value <= high:\n",
    "            return index\n",
    "    return len(thresholds) - 1  # Default to the last rating if out of range\n",
    "\n",
    "def compute_credit_score(settings, **metrics):\n",
    "    ratings = [\"Aaa\", \"Aa\", \"A\", \"Baa\", \"Ba\", \"B\", \"Caa\", \"Ca\", \"C\"]\n",
    "    category_scores = []\n",
    "\n",
    "    for category, cat_details in settings[\"categories\"].items():\n",
    "        metric_scores = []\n",
    "        for metric, details in cat_details[\"metrics\"].items():\n",
    "            metric_value = metrics[metric]\n",
    "            if details[\"lower_is_better\"]:\n",
    "                metric_value = -metric_value  # Invert metric value for lower_is_better metrics\n",
    "            rating_index = determine_metric_rating(metric_value, details[\"thresholds\"])\n",
    "            metric_scores.append((9 - rating_index) * details[\"weight\"])  # Convert index to score, higher is better\n",
    "        \n",
    "        # Aggregate metric scores within the category\n",
    "        category_score = sum(metric_scores) / sum(details[\"weight\"] for details in cat_details[\"metrics\"].values())\n",
    "        category_scores.append(category_score * cat_details[\"weight\"])\n",
    "\n",
    "    # Aggregate category scores to determine the final rating\n",
    "    final_score = sum(category_scores)\n",
    "    final_rating_index = min(max(int(final_score), 0), len(ratings) - 1)\n",
    "    return ratings[final_rating_index]\n",
    "\n",
    "# Example usage\n",
    "settings = {\n",
    "    \"categories\": {\n",
    "        \"profitability\": {\n",
    "            \"weight\": 0.3,\n",
    "            \"metrics\": {\n",
    "                \"oper_margin\": {\n",
    "                    \"weight\": 1.0,\n",
    "                    \"lower_is_better\": False,\n",
    "                    \"thresholds\": [\n",
    "                        (40, float(\"inf\")),\n",
    "                        (35, 39),\n",
    "                        (30, 34),\n",
    "                        (25, 29),\n",
    "                        (20, 24),\n",
    "                        (15, 19),\n",
    "                        (10, 14),\n",
    "                        (5, 9),\n",
    "                        (float(\"-inf\"), 4)\n",
    "                    ]\n",
    "                },\n",
    "            }\n",
    "        },\n",
    "        # Example includes one category for brevity; others would follow similarly\n",
    "    }\n",
    "}\n",
    "\n",
    "# Example metric input\n",
    "credit_rating = compute_credit_score(\n",
    "    settings,\n",
    "    oper_margin=32  # Example value\n",
    ")\n",
    "print(f\"Credit Rating: {credit_rating}\")\n"
   ]
  },
  {
   "cell_type": "code",
   "execution_count": 41,
   "id": "b5c6c20e-7503-4751-beb3-71205fbbed53",
   "metadata": {
    "tags": []
   },
   "outputs": [],
   "source": [
    "settings = {\n",
    "    \"categories\": {\n",
    "        \"profitability\": {\n",
    "            \"weight\": 0.3,\n",
    "            \"metrics\": {\n",
    "                \"oper_margin\": {\n",
    "                    \"weight\": 1.0,\n",
    "                    \"lower_is_better\": False,\n",
    "                    \"thresholds\": [\n",
    "                        (25, float(\"inf\")),\n",
    "                        (20, 24.99),\n",
    "                        (15, 19.99),\n",
    "                        (10, 14.99),\n",
    "                        (5, 9.99),\n",
    "                        (0, 4.99),\n",
    "                        (-5, -0.01),\n",
    "                        (-10, -5.01),\n",
    "                        (float(\"-inf\"), -10.01),\n",
    "                    ]\n",
    "                }\n",
    "            }\n",
    "        },\n",
    "        \"leverage_coverage\": {\n",
    "            \"weight\": 0.4,\n",
    "            \"metrics\": {\n",
    "                \"tot_debt_to_tot_eqy\": {\n",
    "                    \"weight\": 0.35,\n",
    "                    \"lower_is_better\": True,\n",
    "                    \"thresholds\": [\n",
    "                        (float(\"-inf\"), 0.5),\n",
    "                        (0.51, 1),\n",
    "                        (1.01, 2),\n",
    "                        (2.01, 3),\n",
    "                        (3.01, 4),\n",
    "                        (4.01, 5),\n",
    "                        (5.01, 6),\n",
    "                        (6.01, float(\"inf\")),\n",
    "                    ]\n",
    "                },\n",
    "                \"tot_debt_to_ebitda\": {\n",
    "                    \"weight\": 0.35,\n",
    "                    \"lower_is_better\": True,\n",
    "                    \"thresholds\": [\n",
    "                        (float(\"-inf\"), 2),\n",
    "                        (2.01, 3.5),\n",
    "                        (3.51, 5),\n",
    "                        (5.01, 6.5),\n",
    "                        (6.51, 8),\n",
    "                        (8.01, 10),\n",
    "                        (10.01, 12),\n",
    "                        (12.01, float(\"inf\")),\n",
    "                    ]\n",
    "                },\n",
    "                \"ebitda_to_tot_int_exp\": {\n",
    "                    \"weight\": 0.3,\n",
    "                    \"lower_is_better\": False,\n",
    "                    \"thresholds\": [\n",
    "                        (10, float(\"inf\")),\n",
    "                        (7, 9.99),\n",
    "                        (5, 6.99),\n",
    "                        (3, 4.99),\n",
    "                        (2, 2.99),\n",
    "                        (1, 1.99),\n",
    "                        (0.5, 0.99),\n",
    "                        (0, 0.49),\n",
    "                        (float(\"-inf\"), 0),\n",
    "                    ]\n",
    "                }\n",
    "            }\n",
    "        },\n",
    "        \"efficiency\": {\n",
    "            \"weight\": 0.3,\n",
    "            \"metrics\": {\n",
    "                \"return_on_asset\": {\n",
    "                    \"weight\": 0.6,\n",
    "                    \"lower_is_better\": False,\n",
    "                    \"thresholds\": [\n",
    "                        (15, float(\"inf\")),\n",
    "                        (10, 14.99),\n",
    "                        (7, 9.99),\n",
    "                        (5, 6.99),\n",
    "                        (3, 4.99),\n",
    "                        (2, 2.99),\n",
    "                        (1, 1.99),\n",
    "                        (0, 0.99),\n",
    "                        (float(\"-inf\"), 0),\n",
    "                    ]\n",
    "                },\n",
    "                \"asset_turnover\": {\n",
    "                    \"weight\": 0.4,\n",
    "                    \"lower_is_better\": False,\n",
    "                    \"thresholds\": [\n",
    "                        (2, float(\"inf\")),\n",
    "                        (1.5, 1.99),\n",
    "                        (1, 1.49),\n",
    "                        (0.8, 0.99),\n",
    "                        (0.6, 0.79),\n",
    "                        (0.4, 0.59),\n",
    "                        (0.2, 0.39),\n",
    "                        (0.1, 0.19),\n",
    "                        (float(\"-inf\"), 0.09),\n",
    "                    ]\n",
    "                }\n",
    "            }\n",
    "        }\n",
    "    }\n",
    "}\n"
   ]
  },
  {
   "cell_type": "code",
   "execution_count": 42,
   "id": "e857c5e7-0559-4e62-89e5-738b5347dab0",
   "metadata": {
    "tags": []
   },
   "outputs": [
    {
     "name": "stdout",
     "output_type": "stream",
     "text": [
      "Credit Rating: B\n"
     ]
    }
   ],
   "source": [
    "def get_rating_index_for_metric(value, thresholds):\n",
    "    \"\"\"\n",
    "    Determine the rating index based on the metric's value against defined thresholds.\n",
    "    Each threshold defines a range for a rating, from highest to lowest.\n",
    "    \"\"\"\n",
    "    for index, (lower_bound, upper_bound) in enumerate(thresholds):\n",
    "        if lower_bound <= value <= upper_bound:\n",
    "            return index\n",
    "    return len(thresholds) // 2 # else return the middle rating \n",
    "\n",
    "def calculate_category_score(category_details, metric_values):\n",
    "    \"\"\"\n",
    "    Calculate the weighted average rating index for a category based on its metrics.\n",
    "    \"\"\"\n",
    "    metric_scores_sum = 0\n",
    "    total_weight = 0\n",
    "    for metric_name, metric_details in category_details[\"metrics\"].items():\n",
    "        metric_value = metric_values[metric_name]\n",
    "        \n",
    "        if metric_details[\"lower_is_better\"]:\n",
    "            metric_value = -metric_value\n",
    "        rating_index = get_rating_index_for_metric(metric_value, metric_details[\"thresholds\"])\n",
    "        metric_scores_sum += (9 - rating_index) * metric_details[\"weight\"]  # 9 - rating_index to make higher better\n",
    "        total_weight += metric_details[\"weight\"]\n",
    "    \n",
    "    return metric_scores_sum / total_weight\n",
    "\n",
    "def compute_final_credit_rating(settings, **metrics):\n",
    "    \"\"\"\n",
    "    Compute the final credit rating based on metrics and settings. \n",
    "    \"\"\"\n",
    "    ratings = [\"Aaa\", \"Aa\", \"A\", \"Baa\", \"Ba\", \"B\", \"Caa\", \"Ca\", \"C\"]\n",
    "    total_score = 0\n",
    "    \n",
    "    for category_name, category_details in settings[\"categories\"].items():\n",
    "        category_score = calculate_category_score(category_details, metrics)\n",
    "        total_score += category_score * category_details[\"weight\"]\n",
    "    \n",
    "    # Convert total score to an index within the ratings list\n",
    "    ratings = [\"Aaa\", \"Aa\", \"A\", \"Baa\", \"Ba\", \"B\", \"Caa\", \"Ca\", \"C\"]\n",
    "\n",
    "    final_rating_index = min(max(int(total_score), 0), len(ratings) - 1)\n",
    "    return ratings[final_rating_index]\n",
    "\n",
    "\n",
    "\n",
    "# Compute the credit rating for an example set of metric values\n",
    "credit_rating = compute_final_credit_rating(\n",
    "    settings,\n",
    "    oper_margin=0.8, \n",
    "    tot_debt_to_tot_eqy=0.4, \n",
    "    tot_debt_to_ebitda=0.3, \n",
    "    ebitda_to_tot_int_exp=0.7, \n",
    "    return_on_asset=0.5, \n",
    "    asset_turnover=0.6\n",
    ")\n",
    "print(f\"Credit Rating: {credit_rating}\")\n"
   ]
  },
  {
   "cell_type": "code",
   "execution_count": null,
   "id": "33c877e0-65c5-42a0-b884-677c8c1e99ed",
   "metadata": {},
   "outputs": [],
   "source": []
  }
 ],
 "metadata": {
  "kernelspec": {
   "display_name": "Python 3 (ipykernel)",
   "language": "python",
   "name": "python3"
  },
  "language_info": {
   "codemirror_mode": {
    "name": "ipython",
    "version": 3
   },
   "file_extension": ".py",
   "mimetype": "text/x-python",
   "name": "python",
   "nbconvert_exporter": "python",
   "pygments_lexer": "ipython3",
   "version": "3.11.5"
  }
 },
 "nbformat": 4,
 "nbformat_minor": 5
}
