{
 "cells": [
  {
   "cell_type": "markdown",
   "id": "e5bebd14-5939-4228-9449-e42827616343",
   "metadata": {},
   "source": [
    "# **Predictive Default Risk Assessor V.01**"
   ]
  },
  {
   "cell_type": "markdown",
   "id": "aa758ff1-aff3-4718-a6b6-2bf4aa81d71f",
   "metadata": {},
   "source": [
    "# TODO\n",
    "\n",
    "* Base model \n",
    "* Comparison\n",
    "* Specialised\n",
    "* For small entities - Examples?\n",
    "* Backtest - All sectors \n",
    "* Understanding the model across all sectors/industries\n",
    "* Any markets - consumer goods, industries\n",
    "* UI last step after backtesting"
   ]
  },
  {
   "cell_type": "code",
   "execution_count": 1,
   "id": "27606373",
   "metadata": {
    "tags": []
   },
   "outputs": [],
   "source": [
    "model_inputs = {\n",
    "    \"profitability\": {\n",
    "        \"class_weight\": 0.30,\n",
    "        \"weights\": [1.0], \n",
    "        \"metrics\": {\n",
    "            \"oper_margin\": {\n",
    "                \"lower_is_better\": False,\n",
    "                \"thresholds\": [\n",
    "                    (40, float(\"inf\")),\n",
    "                    (35, 39),\n",
    "                    (30, 34),\n",
    "                    (25, 29),\n",
    "                    (20, 24),\n",
    "                    (15, 19),\n",
    "                    (10, 14),\n",
    "                    (5, 9),\n",
    "                    (float(\"-inf\"), 0)\n",
    "                ],\n",
    "            }\n",
    "        },\n",
    "    },\n",
    "    \"leverage_coverage\": {\n",
    "        \"class_weight\": 0.55,\n",
    "        \"weights\": [0.4, 0.3, 0.3],\n",
    "        \"metrics\": {\n",
    "            \"tot_debt_to_tot_eqy\": {\n",
    "                \"lower_is_better\": True,\n",
    "                \"thresholds\": [\n",
    "                     (float(\"-inf\"), 2.0),\n",
    "                     (2.0, 16.0),\n",
    "                     (16.0, 24.0),\n",
    "                     (24.0, 33.0),\n",
    "                     (33.0, 43.0),\n",
    "                     (43.0, 54.0),\n",
    "                     (54.0, 68.0),\n",
    "                     (68.0, 94.0),\n",
    "                     (94.0, float(\"inf\")),\n",
    "                ],\n",
    "            },\n",
    "            \"tot_debt_to_ebitda\": {\n",
    "                \"lower_is_better\": True,\n",
    "                \"thresholds\": [\n",
    "                    (float(\"-inf\"), 0.09),\n",
    "                    (0.09, 0.49),\n",
    "                    (0.49, 0.9),\n",
    "                    (0.9, 1.36),\n",
    "                    (1.36, 1.68),\n",
    "                    (1.68, 2.26),\n",
    "                    (2.26, 3.27),\n",
    "                    (3.27, 4.4),\n",
    "                    (4.4, float(\"inf\")),\n",
    "                ],\n",
    "            },\n",
    "            \"ebitda_to_tot_int_exp\": {\n",
    "                \"lower_is_better\": False,\n",
    "                \"thresholds\": [\n",
    "                    (25, float(\"inf\")),\n",
    "                    (20, 25),\n",
    "                    (15, 20),\n",
    "                    (10, 15),\n",
    "                    (5, 10),\n",
    "                    (3, 5),\n",
    "                    (1, 3),\n",
    "                    (0, 1),\n",
    "                    (float(\"-inf\"), 0),\n",
    "                ],\n",
    "            },\n",
    "        },\n",
    "    },\n",
    "    \"efficiency\": {\n",
    "        \"class_weight\": 0.15,\n",
    "        \"weights\": [0.5, 0.5],\n",
    "        \"metrics\": {\n",
    "            \"return_on_asset\": {\n",
    "                \"lower_is_better\": False,\n",
    "                \"thresholds\": [\n",
    "                    (0.15, float(\"inf\")),\n",
    "                    (0.10, 0.15),\n",
    "                    (0.08, 0.10),\n",
    "                    (0.06, 0.08),\n",
    "                    (0.04, 0.06),\n",
    "                    (0.02, 0.04),\n",
    "                    (0.00, 0.02),\n",
    "                    (-0.02, 0.00),\n",
    "                    (float(\"-inf\"), -0.02)\n",
    "                ],\n",
    "            },\n",
    "            \"asset_turnover\": {\n",
    "                \"lower_is_better\": False,\n",
    "                \"thresholds\": [\n",
    "                    (4.0, float(\"inf\")),\n",
    "                    (3.0, 4.0),\n",
    "                    (2.0, 3.0),\n",
    "                    (1.5, 2.0),\n",
    "                    (1.0, 1.5),\n",
    "                    (0.75, 1.0),\n",
    "                    (0.5, 0.75),\n",
    "                    (0.25, 0.5),\n",
    "                    (float(\"-inf\"), 0.25)\n",
    "                ],\n",
    "            },\n",
    "        },\n",
    "    },\n",
    "}"
   ]
  },
  {
   "cell_type": "code",
   "execution_count": 2,
   "id": "78b2f3ed-0720-43a7-8204-f4f0efe040b8",
   "metadata": {
    "jupyter": {
     "source_hidden": true
    },
    "tags": []
   },
   "outputs": [],
   "source": [
    "import pandas as pd\n",
    "import numpy as np"
   ]
  },
  {
   "cell_type": "code",
   "execution_count": 3,
   "id": "8ff894c0-a05e-4061-9445-bbb895296a09",
   "metadata": {
    "jupyter": {
     "source_hidden": true
    },
    "tags": []
   },
   "outputs": [],
   "source": [
    "class CreditRatingCalculator:\n",
    "    def __init__(self, metrics):\n",
    "        self.metrics = metrics\n",
    "        \n",
    "    def _calculate_metric_score(self, metric, thresholds, inverse):\n",
    "        for score, (lower, upper) in enumerate(thresholds, start=1):\n",
    "            if (inverse and metric <= upper) or (not inverse and metric >= lower):\n",
    "                return score\n",
    "        return len(thresholds) // 2 # else return the middle score\n",
    "\n",
    "    def _calculate_category_score(self, category_metrics, ratios):\n",
    "        total_weighted_score = 0\n",
    "\n",
    "        for metric, weight in zip(\n",
    "            category_metrics[\"metrics\"].items(), category_metrics[\"weights\"]\n",
    "        ):\n",
    "            metric_name, metric_data = metric\n",
    "            value = ratios[metric_name]\n",
    "            score = self._calculate_metric_score(\n",
    "                value, metric_data[\"thresholds\"], metric_data[\"lower_is_better\"]\n",
    "            )\n",
    "            total_weighted_score += score * weight\n",
    "\n",
    "        return total_weighted_score\n",
    "\n",
    "    def _calculate_scores(self, ratios):\n",
    "        scores = {}\n",
    "        for category, category_data in self.metrics.items():\n",
    "            category_score = self._calculate_category_score(category_data, ratios)\n",
    "            scores[category] = category_score\n",
    "        return scores\n",
    "\n",
    "    def _calculate_weighted_score(self, scores):\n",
    "        weights = {\n",
    "            category: category_data[\"class_weight\"]\n",
    "            for category, category_data in self.metrics.items()\n",
    "        }\n",
    "        return sum(scores[category] * weight for category, weight in weights.items())\n",
    "\n",
    "    def _determine_credit_rating(self, weighted_score):\n",
    "        # credit_ratings = [\n",
    "        #     (1.5, \"Aaa\"),\n",
    "        #     (2.5, \"Aa\"),\n",
    "        #     (3.5, \"A\"),\n",
    "        #     (4.5, \"Baa\"),\n",
    "        #     (5.5, \"Ba\"),\n",
    "        #     (6.5, \"B\"),\n",
    "        #     (7.5, \"Caa\"),\n",
    "        #     (8.5, \"Ca\"),\n",
    "        #     (float(\"inf\"), \"C\"),\n",
    "        # ]\n",
    "        \n",
    "        credit_ratings = [\n",
    "            (2.5, \"Aaa\"),\n",
    "            (3.5, \"Aa\"),\n",
    "            (4.5, \"A\"),\n",
    "            (5.5, \"Baa\"),\n",
    "            (6.5, \"Ba\"),\n",
    "            (7.5, \"B\"),\n",
    "            (8.5, \"Caa\"),\n",
    "            (9.5, \"Ca\"),\n",
    "            (float(\"inf\"), \"C\"),\n",
    "        ]\n",
    "\n",
    "        for threshold, rating in credit_ratings:\n",
    "            if weighted_score < threshold:\n",
    "                return rating\n",
    "\n",
    "    def calculate_credit_rating(self, ratios):\n",
    "        self.scores = self._calculate_scores(ratios)\n",
    "        self.credit_score = self._calculate_weighted_score(self.scores)\n",
    "        self.credit_rating = self._determine_credit_rating(self.credit_score)"
   ]
  },
  {
   "cell_type": "code",
   "execution_count": 4,
   "id": "ba34e0b7-dd1b-41d2-b4dc-4608bdc2ece4",
   "metadata": {
    "jupyter": {
     "source_hidden": true
    },
    "tags": []
   },
   "outputs": [],
   "source": [
    "# df = pd.read_csv(\"research/JALSH Index_dataset_2000_2024_clean.csv\", index_col=0, header=[0, 1])\n",
    "# classfier = pd.read_excel(\"research/classification_data.xlsx\", index_col=0)\n",
    "metrics = pd.read_excel(\"research/metrics_full.xlsx\", index_col=0)"
   ]
  },
  {
   "cell_type": "code",
   "execution_count": 5,
   "id": "3460a8a6-dd7a-4896-a2ee-032416c11703",
   "metadata": {
    "tags": []
   },
   "outputs": [],
   "source": [
    "company = \"VOD SJ Equity\""
   ]
  },
  {
   "cell_type": "code",
   "execution_count": 6,
   "id": "c9ce811f-6d11-4467-92cb-8558f849a579",
   "metadata": {
    "jupyter": {
     "source_hidden": true
    },
    "tags": []
   },
   "outputs": [],
   "source": [
    "model_metrics = [\n",
    "    \"oper_margin\", \n",
    "    \"tot_debt_to_tot_eqy\", \n",
    "    \"tot_debt_to_ebitda\", \n",
    "    \"ebitda_to_tot_int_exp\", \n",
    "    \"return_on_asset\",\n",
    "    \"asset_turnover\",\n",
    "]\n",
    "\n",
    "ratios = metrics[company].loc[model_metrics].to_dict()"
   ]
  },
  {
   "cell_type": "code",
   "execution_count": 7,
   "id": "39b74db9-167a-4d83-bda9-f280c20cd9f4",
   "metadata": {
    "tags": []
   },
   "outputs": [
    {
     "name": "stdout",
     "output_type": "stream",
     "text": [
      "Model Inputs:\n"
     ]
    },
    {
     "data": {
      "text/plain": [
       "{'oper_margin': 26.21094703807191,\n",
       " 'tot_debt_to_tot_eqy': 65.00493973766227,\n",
       " 'tot_debt_to_ebitda': 0.7931121155634536,\n",
       " 'ebitda_to_tot_int_exp': 13.35518524144715,\n",
       " 'return_on_asset': 16.14384135791923,\n",
       " 'asset_turnover': 1.076701663147559}"
      ]
     },
     "metadata": {},
     "output_type": "display_data"
    },
    {
     "name": "stdout",
     "output_type": "stream",
     "text": [
      "\n",
      "Class Scoring: {'profitability': 4.0, 'leverage_coverage': 4.9, 'efficiency': 3.0}\n",
      "Credit Score: 4.345000000000001\n",
      "Credit Rating: A\n"
     ]
    }
   ],
   "source": [
    "model = CreditRatingCalculator(model_inputs)\n",
    "model.calculate_credit_rating(ratios)\n",
    "print(f\"Model Inputs:\")\n",
    "display(ratios)\n",
    "print(\"\")\n",
    "print(f\"Class Scoring: {model.scores}\")\n",
    "print(f\"Credit Score: {model.credit_score}\")\n",
    "print(f\"Credit Rating: {model.credit_rating}\")"
   ]
  },
  {
   "cell_type": "code",
   "execution_count": 21,
   "id": "88530fbc-ff49-4503-be9b-0d4db736dada",
   "metadata": {
    "tags": []
   },
   "outputs": [],
   "source": [
    "df = pd.read_excel(\"resources/stock_universe_default_prob.xlsx\", index_col=0)\n",
    "ratings = df.sort_values([\"bb_1yr_default_prob\"], ascending=False)"
   ]
  },
  {
   "cell_type": "code",
   "execution_count": 34,
   "id": "014e5ca4-c014-4306-9070-ef7f3deace80",
   "metadata": {
    "tags": []
   },
   "outputs": [],
   "source": [
    "ratings_dict = {}\n",
    "for company in ratings.index:\n",
    "    try:\n",
    "        ratios = metrics[company].loc[model_metrics].to_dict()\n",
    "        model = CreditRatingCalculator(model_inputs)\n",
    "        model.calculate_credit_rating(ratios)\n",
    "        ratings_dict[company] = {\n",
    "            \"model_rating\": model.credit_rating,\n",
    "            \"model_score\": model.credit_score,\n",
    "            \"model_class_scoreing\": model.scores,\n",
    "            \"bloomberg_rating\": ratings.loc[company][\"rsk_bb_issuer_default\"], \n",
    "            \"bloomberg_default_prob\": ratings.loc[company]['bb_1yr_default_prob']\n",
    "        }\n",
    "    except: pass"
   ]
  },
  {
   "cell_type": "code",
   "execution_count": null,
   "id": "8eb6f62d-4d3d-4d92-8852-33bcba08a0e0",
   "metadata": {
    "tags": []
   },
   "outputs": [],
   "source": []
  },
  {
   "cell_type": "code",
   "execution_count": 36,
   "id": "768814f8-3017-414e-b417-441814377c17",
   "metadata": {
    "tags": []
   },
   "outputs": [],
   "source": [
    "data = pd.DataFrame(ratings_dict).T"
   ]
  },
  {
   "cell_type": "code",
   "execution_count": 37,
   "id": "bd11f6bb-264a-4948-b6b4-a6c64c0ccc20",
   "metadata": {
    "tags": []
   },
   "outputs": [],
   "source": [
    "data.to_excel(\"dat.xlsx\")"
   ]
  },
  {
   "cell_type": "code",
   "execution_count": null,
   "id": "9695eab7-fada-463b-997c-44f2f9f34e0e",
   "metadata": {},
   "outputs": [],
   "source": [
    "import matplotlib.pyplot as plt\n",
    "\n",
    "data = { \n",
    "    'TCP SJ Equity': {'Model': 'B', 'Bloomberg': 'HY6'},\n",
    "    'MTA SJ Equity': {'Model': 'Baa', 'Bloomberg': 'HY3'},\n",
    "    'PIK SJ Equity': {'Model': 'Ba', 'Bloomberg': 'HY3'},\n",
    "    'BLU SJ Equity': {'Model': 'Baa', 'Bloomberg': 'HY2'},\n",
    "    'TKG SJ Equity': {'Model': 'Ba', 'Bloomberg': 'HY2'},\n",
    "    'KAP SJ Equity': {'Model': 'B', 'Bloomberg': 'HY1'},\n",
    "    'HMN SJ Equity': {'Model': 'Ba', 'Bloomberg': 'HY1'},\n",
    "    'SOL SJ Equity': {'Model': 'Baa', 'Bloomberg': 'HY1'}\n",
    "}\n",
    "\n",
    "model_ratings = ['Aaa', 'Aa', 'A', 'Baa', 'Ba', 'B', 'Caa', 'Ca', 'C']\n",
    "bloomberg_ratings = ['IG1', 'IG2', 'IG3', 'IG4', 'IG5', 'IG6', 'IG7', 'IG8', 'IG9','IG10', 'HY1', 'HY2', 'HY3', 'HY4', 'HY5', 'HY6']\n",
    "\n",
    "fig, ax = plt.subplots(figsize=(10, 6))\n",
    "\n",
    "for company, ratings in data.items():\n",
    "    model_rating = model_ratings.index(ratings['Model'])\n",
    "    bloomberg_rating = bloomberg_ratings.index(ratings['Bloomberg'])\n",
    "    ax.plot([model_rating, bloomberg_rating], [0, 1], marker='o', linestyle='-', label=company)\n",
    "\n",
    "ax.set_yticks([0, 1])\n",
    "ax.set_yticklabels(['Moodys', 'Bloomberg'])\n",
    "ax.set_xticks(range(len(model_ratings + bloomberg_ratings)))\n",
    "ax.set_xticklabels(model_ratings + bloomberg_ratings, rotation=45, ha='right')\n",
    "ax.grid(True)\n",
    "ax.legend(bbox_to_anchor=(1.05, 1), loc='upper left')\n",
    "\n",
    "plt.tight_layout()\n",
    "plt.show()"
   ]
  },
  {
   "cell_type": "code",
   "execution_count": null,
   "id": "6b23db04-1f4a-4009-ae2a-c03645e5b391",
   "metadata": {},
   "outputs": [],
   "source": []
  },
  {
   "cell_type": "code",
   "execution_count": null,
   "id": "90dac899-e6cd-43cf-b892-7d5c6115fd22",
   "metadata": {},
   "outputs": [],
   "source": []
  },
  {
   "cell_type": "code",
   "execution_count": null,
   "id": "dfa54478-5b93-4500-9216-7f253bc1d840",
   "metadata": {},
   "outputs": [],
   "source": []
  },
  {
   "cell_type": "code",
   "execution_count": null,
   "id": "f22467c0-9561-4dfc-9f4f-92f46ffcd66e",
   "metadata": {},
   "outputs": [],
   "source": []
  }
 ],
 "metadata": {
  "kernelspec": {
   "display_name": "Python 3 (ipykernel)",
   "language": "python",
   "name": "python3"
  },
  "language_info": {
   "codemirror_mode": {
    "name": "ipython",
    "version": 3
   },
   "file_extension": ".py",
   "mimetype": "text/x-python",
   "name": "python",
   "nbconvert_exporter": "python",
   "pygments_lexer": "ipython3",
   "version": "3.11.5"
  }
 },
 "nbformat": 4,
 "nbformat_minor": 5
}
