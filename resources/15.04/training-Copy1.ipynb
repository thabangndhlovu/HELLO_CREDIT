{
 "cells": [
  {
   "cell_type": "markdown",
   "id": "e5bebd14-5939-4228-9449-e42827616343",
   "metadata": {},
   "source": [
    "# **Predictive Default Risk Assessor**"
   ]
  },
  {
   "cell_type": "code",
   "execution_count": 1,
   "id": "78b2f3ed-0720-43a7-8204-f4f0efe040b8",
   "metadata": {
    "tags": []
   },
   "outputs": [],
   "source": [
    "import pandas as pd\n",
    "import numpy as np"
   ]
  },
  {
   "cell_type": "code",
   "execution_count": 2,
   "id": "8ff894c0-a05e-4061-9445-bbb895296a09",
   "metadata": {
    "tags": []
   },
   "outputs": [],
   "source": [
    "model_inputs = {\n",
    "    \"profitability\": {\n",
    "        \"class_weight\": 0.30,\n",
    "        \"weights\": [1.0], \n",
    "        \"metrics\": {\n",
    "            \"oper_margin\": {\n",
    "                \"lower_is_better\": False,\n",
    "                \"thresholds\": [\n",
    "                    (40, float(\"inf\")),\n",
    "                    (35, 39),\n",
    "                    (30, 34),\n",
    "                    (25, 29),\n",
    "                    (20, 24),\n",
    "                    (15, 19),\n",
    "                    (10, 14),\n",
    "                    (5, 9),\n",
    "                    (float(\"-inf\"), 0)\n",
    "                ],\n",
    "            }\n",
    "        },\n",
    "    },\n",
    "    \"leverage_coverage\": {\n",
    "        \"class_weight\": 0.55,\n",
    "        \"weights\": [0.4, 0.3, 0.3],\n",
    "        \"metrics\": {\n",
    "            \"tot_debt_to_tot_eqy\": {\n",
    "                \"lower_is_better\": True,\n",
    "                \"thresholds\": [\n",
    "                     (float(\"-inf\"), 2.0),\n",
    "                     (2.0, 16.0),\n",
    "                     (16.0, 24.0),\n",
    "                     (24.0, 33.0),\n",
    "                     (33.0, 43.0),\n",
    "                     (43.0, 54.0),\n",
    "                     (54.0, 68.0),\n",
    "                     (68.0, 94.0),\n",
    "                     (94.0, float(\"inf\")),\n",
    "                ],\n",
    "            },\n",
    "            \"tot_debt_to_ebitda\": {\n",
    "                \"lower_is_better\": True,\n",
    "                \"thresholds\": [\n",
    "                    (float(\"-inf\"), 0.09),\n",
    "                    (0.09, 0.49),\n",
    "                    (0.49, 0.9),\n",
    "                    (0.9, 1.36),\n",
    "                    (1.36, 1.68),\n",
    "                    (1.68, 2.26),\n",
    "                    (2.26, 3.27),\n",
    "                    (3.27, 4.4),\n",
    "                    (4.4, float(\"inf\")),\n",
    "                ],\n",
    "            },\n",
    "            \"ebitda_to_tot_int_exp\": {\n",
    "                \"lower_is_better\": False,\n",
    "                \"thresholds\": [\n",
    "                    (25, float(\"inf\")),\n",
    "                    (20, 25),\n",
    "                    (15, 20),\n",
    "                    (10, 15),\n",
    "                    (5, 10),\n",
    "                    (3, 5),\n",
    "                    (1, 3),\n",
    "                    (0, 1),\n",
    "                    (float(\"-inf\"), 0),\n",
    "                ],\n",
    "            },\n",
    "        },\n",
    "    },\n",
    "    \"efficiency\": {\n",
    "        \"class_weight\": 0.15,\n",
    "        \"weights\": [0.5, 0.5],\n",
    "        \"metrics\": {\n",
    "            \"return_on_asset\": {\n",
    "                \"lower_is_better\": False,\n",
    "                \"thresholds\": [\n",
    "                    (0.15, float(\"inf\")),\n",
    "                    (0.10, 0.15),\n",
    "                    (0.08, 0.10),\n",
    "                    (0.06, 0.08),\n",
    "                    (0.04, 0.06),\n",
    "                    (0.02, 0.04),\n",
    "                    (0.00, 0.02),\n",
    "                    (-0.02, 0.00),\n",
    "                    (float(\"-inf\"), -0.02)\n",
    "                ],\n",
    "            },\n",
    "            \"asset_turnover\": {\n",
    "                \"lower_is_better\": False,\n",
    "                \"thresholds\": [\n",
    "                    (4.0, float(\"inf\")),\n",
    "                    (3.0, 4.0),\n",
    "                    (2.0, 3.0),\n",
    "                    (1.5, 2.0),\n",
    "                    (1.0, 1.5),\n",
    "                    (0.75, 1.0),\n",
    "                    (0.5, 0.75),\n",
    "                    (0.25, 0.5),\n",
    "                    (float(\"-inf\"), 0.25)\n",
    "                ],\n",
    "            },\n",
    "        },\n",
    "    },\n",
    "}\n",
    "\n",
    "\n",
    "\n",
    "\n",
    "\n",
    "class CreditRatingCalculator:\n",
    "    def __init__(self, metrics):\n",
    "        self.metrics = metrics\n",
    "        self.credit_rating_dict = {\n",
    "            'Aaa': 2.5,\n",
    "            'Aa': 3.5,\n",
    "            'A': 4.5,\n",
    "            'Baa': 5.5,\n",
    "            'Ba': 6.5,\n",
    "            'B': 7.5,\n",
    "            'Caa': 8.5,\n",
    "            'Ca': 9.5,\n",
    "            'C': 10,\n",
    "        }\n",
    "        \n",
    "    def _calculate_metric_score(self, metric, thresholds, inverse):\n",
    "        for score, (lower, upper) in enumerate(thresholds, start=1):\n",
    "            if (inverse and metric <= upper) or (not inverse and metric >= lower):\n",
    "                return score\n",
    "        return len(thresholds) // 2 # else return the middle score\n",
    "\n",
    "    def _calculate_category_score(self, category_metrics, ratios):\n",
    "        total_weighted_score = 0\n",
    "\n",
    "        for metric, weight in zip(\n",
    "            category_metrics[\"metrics\"].items(), category_metrics[\"weights\"]\n",
    "        ):\n",
    "            metric_name, metric_data = metric\n",
    "            value = ratios[metric_name]\n",
    "            score = self._calculate_metric_score(\n",
    "                value, metric_data[\"thresholds\"], metric_data[\"lower_is_better\"]\n",
    "            )\n",
    "            total_weighted_score += score * weight\n",
    "\n",
    "        return total_weighted_score\n",
    "\n",
    "    def _calculate_scores(self, ratios):\n",
    "        scores = {}\n",
    "        for category, category_data in self.metrics.items():\n",
    "            category_score = self._calculate_category_score(category_data, ratios)\n",
    "            scores[category] = category_score\n",
    "        return scores\n",
    "\n",
    "    def _calculate_weighted_score(self, scores):\n",
    "        weights = {\n",
    "            category: category_data[\"class_weight\"]\n",
    "            for category, category_data in self.metrics.items()\n",
    "        }\n",
    "        return sum(scores[category] * weight for category, weight in weights.items())\n",
    "            \n",
    "    def _determine_credit_rating(self, weighted_score):\n",
    "        sorted_credit_ratings = sorted(self.credit_rating_dict.items(), key=lambda item: item[1])\n",
    "        for rating, threshold in sorted_credit_ratings:\n",
    "            if weighted_score <= threshold:\n",
    "                return rating\n",
    "        return \"N/R\" \n",
    "\n",
    "    def calculate_credit_rating(self, ratios):\n",
    "        self.scores = self._calculate_scores(ratios)\n",
    "        self.credit_score = self._calculate_weighted_score(self.scores)\n",
    "        self.credit_rating = self._determine_credit_rating(self.credit_score)"
   ]
  },
  {
   "cell_type": "code",
   "execution_count": 9,
   "id": "ba34e0b7-dd1b-41d2-b4dc-4608bdc2ece4",
   "metadata": {
    "jupyter": {
     "source_hidden": true
    },
    "tags": []
   },
   "outputs": [],
   "source": [
    "# df = pd.read_csv(\"research/JALSH Index_dataset_2000_2024_clean.csv\", index_col=0, header=[0, 1])\n",
    "# classfier = pd.read_excel(\"research/classification_data.xlsx\", index_col=0)\n",
    "metrics = pd.read_excel(\"research/metrics_full.xlsx\", index_col=0)\n",
    "df = pd.read_excel(\"resources/stock_universe_default_prob.xlsx\", index_col=0)\n",
    "ratings = df.sort_values([\"bb_1yr_default_prob\"], ascending=False)"
   ]
  },
  {
   "cell_type": "code",
   "execution_count": 6,
   "id": "3460a8a6-dd7a-4896-a2ee-032416c11703",
   "metadata": {
    "tags": []
   },
   "outputs": [],
   "source": [
    "company = \"VOD SJ Equity\""
   ]
  },
  {
   "cell_type": "code",
   "execution_count": 7,
   "id": "c9ce811f-6d11-4467-92cb-8558f849a579",
   "metadata": {
    "tags": []
   },
   "outputs": [],
   "source": [
    "model_metrics = [\n",
    "    \"oper_margin\", \n",
    "    \"tot_debt_to_tot_eqy\", \n",
    "    \"tot_debt_to_ebitda\", \n",
    "    \"ebitda_to_tot_int_exp\", \n",
    "    \"return_on_asset\",\n",
    "    \"asset_turnover\",\n",
    "]\n",
    "\n",
    "ratios = metrics[company].loc[model_metrics].to_dict()"
   ]
  },
  {
   "cell_type": "code",
   "execution_count": 8,
   "id": "39b74db9-167a-4d83-bda9-f280c20cd9f4",
   "metadata": {
    "tags": []
   },
   "outputs": [
    {
     "name": "stdout",
     "output_type": "stream",
     "text": [
      "Model Inputs:\n"
     ]
    },
    {
     "data": {
      "text/plain": [
       "{'oper_margin': 26.21094703807191,\n",
       " 'tot_debt_to_tot_eqy': 65.00493973766227,\n",
       " 'tot_debt_to_ebitda': 0.7931121155634536,\n",
       " 'ebitda_to_tot_int_exp': 13.35518524144715,\n",
       " 'return_on_asset': 16.14384135791923,\n",
       " 'asset_turnover': 1.076701663147559}"
      ]
     },
     "metadata": {},
     "output_type": "display_data"
    },
    {
     "name": "stdout",
     "output_type": "stream",
     "text": [
      "\n",
      "Class Scoring: {'profitability': 4.0, 'leverage_coverage': 4.9, 'efficiency': 3.0}\n",
      "Credit Score: 4.345000000000001\n",
      "Credit Rating: A\n"
     ]
    }
   ],
   "source": [
    "model = CreditRatingCalculator(model_inputs)\n",
    "model.calculate_credit_rating(ratios)\n",
    "print(f\"Model Inputs:\")\n",
    "display(ratios)\n",
    "print(\"\")\n",
    "print(f\"Class Scoring: {model.scores}\")\n",
    "print(f\"Credit Score: {model.credit_score}\")\n",
    "print(f\"Credit Rating: {model.credit_rating}\")"
   ]
  },
  {
   "cell_type": "code",
   "execution_count": 8,
   "id": "88530fbc-ff49-4503-be9b-0d4db736dada",
   "metadata": {
    "tags": []
   },
   "outputs": [],
   "source": []
  },
  {
   "cell_type": "code",
   "execution_count": null,
   "id": "aa70e658-0933-4211-a0c1-a7271b7eb6fa",
   "metadata": {
    "tags": []
   },
   "outputs": [],
   "source": []
  },
  {
   "cell_type": "code",
   "execution_count": 10,
   "id": "014e5ca4-c014-4306-9070-ef7f3deace80",
   "metadata": {
    "tags": []
   },
   "outputs": [],
   "source": [
    "df = pd.read_excel(\"resources/stock_universe_default_prob.xlsx\", index_col=0)\n",
    "ratings = df.sort_values([\"bb_1yr_default_prob\"], ascending=False)\n",
    "\n",
    "ratings_dict = {}\n",
    "for company in ratings.index:\n",
    "    try:\n",
    "        ratios = metrics[company].loc[model_metrics].to_dict()\n",
    "        model = CreditRatingCalculator(model_inputs)\n",
    "        model.calculate_credit_rating(ratios)\n",
    "        ratings_dict[company] = {\"Model\": model.credit_rating, \"Bloomberg\": ratings.loc[company][\"rsk_bb_issuer_default\"]}\n",
    "    except: pass"
   ]
  },
  {
   "cell_type": "code",
   "execution_count": 11,
   "id": "768814f8-3017-414e-b417-441814377c17",
   "metadata": {
    "tags": []
   },
   "outputs": [],
   "source": [
    "data = pd.DataFrame(ratings_dict).T"
   ]
  },
  {
   "cell_type": "code",
   "execution_count": 12,
   "id": "bd11f6bb-264a-4948-b6b4-a6c64c0ccc20",
   "metadata": {
    "tags": []
   },
   "outputs": [
    {
     "data": {
      "text/html": [
       "<div>\n",
       "<style scoped>\n",
       "    .dataframe tbody tr th:only-of-type {\n",
       "        vertical-align: middle;\n",
       "    }\n",
       "\n",
       "    .dataframe tbody tr th {\n",
       "        vertical-align: top;\n",
       "    }\n",
       "\n",
       "    .dataframe thead th {\n",
       "        text-align: right;\n",
       "    }\n",
       "</style>\n",
       "<table border=\"1\" class=\"dataframe\">\n",
       "  <thead>\n",
       "    <tr style=\"text-align: right;\">\n",
       "      <th></th>\n",
       "      <th>Model</th>\n",
       "      <th>Bloomberg</th>\n",
       "    </tr>\n",
       "  </thead>\n",
       "  <tbody>\n",
       "    <tr>\n",
       "      <th>TCP SJ Equity</th>\n",
       "      <td>B</td>\n",
       "      <td>HY6</td>\n",
       "    </tr>\n",
       "    <tr>\n",
       "      <th>MTA SJ Equity</th>\n",
       "      <td>Baa</td>\n",
       "      <td>HY3</td>\n",
       "    </tr>\n",
       "    <tr>\n",
       "      <th>PIK SJ Equity</th>\n",
       "      <td>Ba</td>\n",
       "      <td>HY3</td>\n",
       "    </tr>\n",
       "    <tr>\n",
       "      <th>BLU SJ Equity</th>\n",
       "      <td>Baa</td>\n",
       "      <td>HY2</td>\n",
       "    </tr>\n",
       "    <tr>\n",
       "      <th>TKG SJ Equity</th>\n",
       "      <td>Ba</td>\n",
       "      <td>HY2</td>\n",
       "    </tr>\n",
       "    <tr>\n",
       "      <th>...</th>\n",
       "      <td>...</td>\n",
       "      <td>...</td>\n",
       "    </tr>\n",
       "    <tr>\n",
       "      <th>KIO SJ Equity</th>\n",
       "      <td>Aa</td>\n",
       "      <td>IG1</td>\n",
       "    </tr>\n",
       "    <tr>\n",
       "      <th>SLM SJ Equity</th>\n",
       "      <td>Baa</td>\n",
       "      <td>IG1</td>\n",
       "    </tr>\n",
       "    <tr>\n",
       "      <th>AIL SJ Equity</th>\n",
       "      <td>Aa</td>\n",
       "      <td>IG1</td>\n",
       "    </tr>\n",
       "    <tr>\n",
       "      <th>ARI SJ Equity</th>\n",
       "      <td>A</td>\n",
       "      <td>IG1</td>\n",
       "    </tr>\n",
       "    <tr>\n",
       "      <th>KST SJ Equity</th>\n",
       "      <td>A</td>\n",
       "      <td>IG1</td>\n",
       "    </tr>\n",
       "  </tbody>\n",
       "</table>\n",
       "<p>124 rows × 2 columns</p>\n",
       "</div>"
      ],
      "text/plain": [
       "              Model Bloomberg\n",
       "TCP SJ Equity     B       HY6\n",
       "MTA SJ Equity   Baa       HY3\n",
       "PIK SJ Equity    Ba       HY3\n",
       "BLU SJ Equity   Baa       HY2\n",
       "TKG SJ Equity    Ba       HY2\n",
       "...             ...       ...\n",
       "KIO SJ Equity    Aa       IG1\n",
       "SLM SJ Equity   Baa       IG1\n",
       "AIL SJ Equity    Aa       IG1\n",
       "ARI SJ Equity     A       IG1\n",
       "KST SJ Equity     A       IG1\n",
       "\n",
       "[124 rows x 2 columns]"
      ]
     },
     "execution_count": 12,
     "metadata": {},
     "output_type": "execute_result"
    }
   ],
   "source": [
    "data"
   ]
  },
  {
   "cell_type": "code",
   "execution_count": null,
   "id": "9695eab7-fada-463b-997c-44f2f9f34e0e",
   "metadata": {
    "jupyter": {
     "source_hidden": true
    },
    "tags": []
   },
   "outputs": [],
   "source": [
    "import matplotlib.pyplot as plt\n",
    "\n",
    "data = { \n",
    "    'TCP SJ Equity': {'Model': 'B', 'Bloomberg': 'HY6'},\n",
    "    'MTA SJ Equity': {'Model': 'Baa', 'Bloomberg': 'HY3'},\n",
    "    'PIK SJ Equity': {'Model': 'Ba', 'Bloomberg': 'HY3'},\n",
    "    'BLU SJ Equity': {'Model': 'Baa', 'Bloomberg': 'HY2'},\n",
    "    'TKG SJ Equity': {'Model': 'Ba', 'Bloomberg': 'HY2'},\n",
    "    'KAP SJ Equity': {'Model': 'B', 'Bloomberg': 'HY1'},\n",
    "    'HMN SJ Equity': {'Model': 'Ba', 'Bloomberg': 'HY1'},\n",
    "    'SOL SJ Equity': {'Model': 'Baa', 'Bloomberg': 'HY1'}\n",
    "}\n",
    "\n",
    "model_ratings = ['Aaa', 'Aa', 'A', 'Baa', 'Ba', 'B', 'Caa', 'Ca', 'C']\n",
    "bloomberg_ratings = ['IG1', 'IG2', 'IG3', 'IG4', 'IG5', 'IG6', 'IG7', 'IG8', 'IG9','IG10', 'HY1', 'HY2', 'HY3', 'HY4', 'HY5', 'HY6']\n",
    "\n",
    "fig, ax = plt.subplots(figsize=(10, 6))\n",
    "\n",
    "for company, ratings in data.items():\n",
    "    model_rating = model_ratings.index(ratings['Model'])\n",
    "    bloomberg_rating = bloomberg_ratings.index(ratings['Bloomberg'])\n",
    "    ax.plot([model_rating, bloomberg_rating], [0, 1], marker='o', linestyle='-', label=company)\n",
    "\n",
    "ax.set_yticks([0, 1])\n",
    "ax.set_yticklabels(['Moodys', 'Bloomberg'])\n",
    "ax.set_xticks(range(len(model_ratings + bloomberg_ratings)))\n",
    "ax.set_xticklabels(model_ratings + bloomberg_ratings, rotation=45, ha='right')\n",
    "ax.grid(True)\n",
    "ax.legend(bbox_to_anchor=(1.05, 1), loc='upper left')\n",
    "\n",
    "plt.tight_layout()\n",
    "plt.show()"
   ]
  },
  {
   "cell_type": "code",
   "execution_count": null,
   "id": "6b23db04-1f4a-4009-ae2a-c03645e5b391",
   "metadata": {},
   "outputs": [],
   "source": []
  },
  {
   "cell_type": "code",
   "execution_count": null,
   "id": "90dac899-e6cd-43cf-b892-7d5c6115fd22",
   "metadata": {},
   "outputs": [],
   "source": []
  },
  {
   "cell_type": "code",
   "execution_count": null,
   "id": "dfa54478-5b93-4500-9216-7f253bc1d840",
   "metadata": {},
   "outputs": [],
   "source": []
  },
  {
   "cell_type": "code",
   "execution_count": 1,
   "id": "f22467c0-9561-4dfc-9f4f-92f46ffcd66e",
   "metadata": {
    "tags": []
   },
   "outputs": [
    {
     "ename": "TypeError",
     "evalue": "Cannot interpret value of type <class 'ellipsis'> as an abstract array; it does not have a dtype attribute",
     "output_type": "error",
     "traceback": [
      "\u001b[1;31m---------------------------------------------------------------------------\u001b[0m",
      "\u001b[1;31mKeyError\u001b[0m                                  Traceback (most recent call last)",
      "File \u001b[1;32m~\\AppData\\Local\\anaconda3\\Lib\\site-packages\\jax\\_src\\api_util.py:584\u001b[0m, in \u001b[0;36mshaped_abstractify\u001b[1;34m(x)\u001b[0m\n\u001b[0;32m    583\u001b[0m \u001b[38;5;28;01mtry\u001b[39;00m:\n\u001b[1;32m--> 584\u001b[0m   \u001b[38;5;28;01mreturn\u001b[39;00m _shaped_abstractify_handlers[\u001b[38;5;28mtype\u001b[39m(x)](x)\n\u001b[0;32m    585\u001b[0m \u001b[38;5;28;01mexcept\u001b[39;00m \u001b[38;5;167;01mKeyError\u001b[39;00m:\n",
      "\u001b[1;31mKeyError\u001b[0m: <class 'ellipsis'>",
      "\nDuring handling of the above exception, another exception occurred:\n",
      "\u001b[1;31mTypeError\u001b[0m                                 Traceback (most recent call last)",
      "Cell \u001b[1;32mIn[1], line 68\u001b[0m\n\u001b[0;32m     65\u001b[0m learning_rate \u001b[38;5;241m=\u001b[39m \u001b[38;5;241m0.01\u001b[39m\n\u001b[0;32m     67\u001b[0m \u001b[38;5;28;01mfor\u001b[39;00m epoch \u001b[38;5;129;01min\u001b[39;00m \u001b[38;5;28mrange\u001b[39m(num_epochs):\n\u001b[1;32m---> 68\u001b[0m     loss_val \u001b[38;5;241m=\u001b[39m loss_fn_jit(params, ratios, expected_ratings)\n\u001b[0;32m     69\u001b[0m     grads \u001b[38;5;241m=\u001b[39m grad_fn_jit(params, ratios, expected_ratings)\n\u001b[0;32m     71\u001b[0m     \u001b[38;5;66;03m# Update parameters using gradient descent\u001b[39;00m\n",
      "    \u001b[1;31m[... skipping hidden 6 frame]\u001b[0m\n",
      "File \u001b[1;32m~\\AppData\\Local\\anaconda3\\Lib\\site-packages\\jax\\_src\\api_util.py:575\u001b[0m, in \u001b[0;36m_shaped_abstractify_slow\u001b[1;34m(x)\u001b[0m\n\u001b[0;32m    573\u001b[0m   dtype \u001b[38;5;241m=\u001b[39m dtypes\u001b[38;5;241m.\u001b[39mcanonicalize_dtype(x\u001b[38;5;241m.\u001b[39mdtype, allow_extended_dtype\u001b[38;5;241m=\u001b[39m\u001b[38;5;28;01mTrue\u001b[39;00m)\n\u001b[0;32m    574\u001b[0m \u001b[38;5;28;01melse\u001b[39;00m:\n\u001b[1;32m--> 575\u001b[0m   \u001b[38;5;28;01mraise\u001b[39;00m \u001b[38;5;167;01mTypeError\u001b[39;00m(\n\u001b[0;32m    576\u001b[0m       \u001b[38;5;124mf\u001b[39m\u001b[38;5;124m\"\u001b[39m\u001b[38;5;124mCannot interpret value of type \u001b[39m\u001b[38;5;132;01m{\u001b[39;00m\u001b[38;5;28mtype\u001b[39m(x)\u001b[38;5;132;01m}\u001b[39;00m\u001b[38;5;124m as an abstract array; it \u001b[39m\u001b[38;5;124m\"\u001b[39m\n\u001b[0;32m    577\u001b[0m       \u001b[38;5;124m\"\u001b[39m\u001b[38;5;124mdoes not have a dtype attribute\u001b[39m\u001b[38;5;124m\"\u001b[39m)\n\u001b[0;32m    578\u001b[0m \u001b[38;5;28;01mreturn\u001b[39;00m core\u001b[38;5;241m.\u001b[39mShapedArray(np\u001b[38;5;241m.\u001b[39mshape(x), dtype, weak_type\u001b[38;5;241m=\u001b[39mweak_type,\n\u001b[0;32m    579\u001b[0m                         named_shape\u001b[38;5;241m=\u001b[39mnamed_shape)\n",
      "\u001b[1;31mTypeError\u001b[0m: Cannot interpret value of type <class 'ellipsis'> as an abstract array; it does not have a dtype attribute"
     ]
    }
   ],
   "source": [
    "import jax\n",
    "import jax.numpy as jnp\n",
    "from jax import grad, jit\n",
    "\n",
    "# Define the loss function\n",
    "def loss_fn(params, ratios, expected_ratings):\n",
    "    # Update the metrics with the current parameters\n",
    "    updated_metrics = update_metrics(metrics, params)\n",
    "    \n",
    "    # Create a new CreditRatingCalculator with the updated metrics\n",
    "    calculator = CreditRatingCalculator(updated_metrics)\n",
    "    \n",
    "    # Calculate the credit ratings for the given ratios\n",
    "    predicted_ratings = [calculator.c(ratio) for ratio in ratios]\n",
    "    \n",
    "    # Convert the ratings to numerical values\n",
    "    rating_map = {\"Aaa\": 1, \"Aa\": 2, \"A\": 3, \"Baa\": 4, \"Ba\": 5, \"B\": 6, \"Caa\": 7, \"Ca\": 8, \"C\": 9}\n",
    "    predicted_scores = jnp.array([rating_map[rating] for rating in predicted_ratings])\n",
    "    expected_scores = jnp.array([rating_map[rating] for rating in expected_ratings])\n",
    "    \n",
    "    # Calculate the mean squared error loss\n",
    "    loss = jnp.mean((predicted_scores - expected_scores) ** 2)\n",
    "    return loss\n",
    "\n",
    "# Function to update the metrics with the current parameters\n",
    "def update_metrics(metrics, params):\n",
    "    updated_metrics = metrics.copy()\n",
    "    \n",
    "    # Update class weights\n",
    "    for category, weight in params[\"class_weights\"].items():\n",
    "        updated_metrics[category][\"class_weight\"] = weight\n",
    "    \n",
    "    # Update thresholds\n",
    "    for category, category_data in metrics.items():\n",
    "        for metric, metric_data in category_data[\"metrics\"].items():\n",
    "            updated_metrics[category][\"metrics\"][metric][\"thresholds\"] = params[\"thresholds\"][category][metric]\n",
    "    \n",
    "    return updated_metrics\n",
    "\n",
    "# Compile the loss function and its gradient\n",
    "loss_fn_jit = jit(loss_fn)\n",
    "grad_fn_jit = jit(grad(loss_fn))\n",
    "\n",
    "# Training data\n",
    "ratios = [\n",
    "    {\"return_on_asset\": 0.12, \"asset_turnover\": 3.5},\n",
    "    {\"return_on_asset\": 0.08, \"asset_turnover\": 1.8},\n",
    "    # Add more training examples\n",
    "]\n",
    "expected_ratings = [\"Aa\", \"A\", ...]  # Corresponding expected ratings for the ratios\n",
    "\n",
    "# Initial parameters\n",
    "params = {\n",
    "    \"class_weights\": {\"efficiency\": 0.15},\n",
    "    \"thresholds\": {\n",
    "        \"efficiency\": {\n",
    "            \"return_on_asset\": [(0.15, float(\"inf\")), (0.10, 0.15), ..., (float(\"-inf\"), -0.02)],\n",
    "            \"asset_turnover\": [(4.0, float(\"inf\")), (3.0, 4.0), ..., (float(\"-inf\"), 0.25)]\n",
    "        }\n",
    "    }\n",
    "}\n",
    "\n",
    "# Optimization loop\n",
    "num_epochs = 100\n",
    "learning_rate = 0.01\n",
    "\n",
    "for epoch in range(num_epochs):\n",
    "    loss_val = loss_fn_jit(params, ratios, expected_ratings)\n",
    "    grads = grad_fn_jit(params, ratios, expected_ratings)\n",
    "    \n",
    "    # Update parameters using gradient descent\n",
    "    for param_name, param_val in params.items():\n",
    "        if isinstance(param_val, dict):\n",
    "            for sub_param_name, sub_param_val in param_val.items():\n",
    "                params[param_name][sub_param_name] -= learning_rate * grads[param_name][sub_param_name]\n",
    "        else:\n",
    "            params[param_name] -= learning_rate * grads[param_name]\n",
    "    \n",
    "    print(f\"Epoch {epoch+1}/{num_epochs}, Loss: {loss_val:.4f}\")\n",
    "\n",
    "# Optimized parameters\n",
    "optimized_metrics = update_metrics(metrics, params)\n",
    "print(\"Optimized Metrics:\")\n",
    "print(optimized_metrics)"
   ]
  },
  {
   "cell_type": "code",
   "execution_count": 10,
   "id": "34e8f940-2141-4d2d-a69a-259981d4e475",
   "metadata": {},
   "outputs": [],
   "source": [
    "optimized_metrics = update_metrics(metrics, params)\n"
   ]
  },
  {
   "cell_type": "code",
   "execution_count": 11,
   "id": "86fa8402-077c-4182-926c-a825e123482b",
   "metadata": {
    "tags": []
   },
   "outputs": [
    {
     "data": {
      "text/plain": [
       "{'efficiency': {'class_weight': 0.15,\n",
       "  'weights': [0.5, 0.5],\n",
       "  'metrics': {'return_on_asset': {'lower_is_better': False,\n",
       "    'thresholds': [(0.15, inf), (0.1, 0.15), Ellipsis, (-inf, -0.02)]},\n",
       "   'asset_turnover': {'lower_is_better': False,\n",
       "    'thresholds': [(4.0, inf), (3.0, 4.0), Ellipsis, (-inf, 0.25)]}}}}"
      ]
     },
     "execution_count": 11,
     "metadata": {},
     "output_type": "execute_result"
    }
   ],
   "source": [
    "optimized_metrics"
   ]
  },
  {
   "cell_type": "code",
   "execution_count": 8,
   "id": "fc3bff8e-b910-45aa-ba53-a6aa7bf8542f",
   "metadata": {
    "tags": []
   },
   "outputs": [
    {
     "data": {
      "text/plain": [
       "{'efficiency': {'class_weight': 0.15,\n",
       "  'weights': [0.5, 0.5],\n",
       "  'metrics': {'return_on_asset': {'lower_is_better': False,\n",
       "    'thresholds': [(0.15, inf),\n",
       "     (0.1, 0.15),\n",
       "     (0.08, 0.1),\n",
       "     (0.06, 0.08),\n",
       "     (0.04, 0.06),\n",
       "     (0.02, 0.04),\n",
       "     (0.0, 0.02),\n",
       "     (-0.02, 0.0),\n",
       "     (-inf, -0.02)]},\n",
       "   'asset_turnover': {'lower_is_better': False,\n",
       "    'thresholds': [(4.0, inf),\n",
       "     (3.0, 4.0),\n",
       "     (2.0, 3.0),\n",
       "     (1.5, 2.0),\n",
       "     (1.0, 1.5),\n",
       "     (0.75, 1.0),\n",
       "     (0.5, 0.75),\n",
       "     (0.25, 0.5),\n",
       "     (-inf, 0.25)]}}}}"
      ]
     },
     "execution_count": 8,
     "metadata": {},
     "output_type": "execute_result"
    }
   ],
   "source": [
    "metrics"
   ]
  },
  {
   "cell_type": "code",
   "execution_count": 9,
   "id": "593904df-60e9-4d86-818c-9eabdab68b8d",
   "metadata": {
    "tags": []
   },
   "outputs": [],
   "source": [
    "def update_metrics(metrics, params):\n",
    "    updated_metrics = metrics.copy()\n",
    "    \n",
    "    # Update class weights\n",
    "    for category, weight in params[\"class_weights\"].items():\n",
    "        updated_metrics[category][\"class_weight\"] = weight\n",
    "    \n",
    "    # Update thresholds\n",
    "    for category, category_data in metrics.items():\n",
    "        for metric, metric_data in category_data[\"metrics\"].items():\n",
    "            updated_metrics[category][\"metrics\"][metric][\"thresholds\"] = params[\"thresholds\"][category][metric]\n",
    "    \n",
    "    return updated_metrics"
   ]
  },
  {
   "cell_type": "code",
   "execution_count": null,
   "id": "8810ef69-b34d-43d8-8332-fa2becf86f9b",
   "metadata": {},
   "outputs": [],
   "source": []
  }
 ],
 "metadata": {
  "kernelspec": {
   "display_name": "Python 3 (ipykernel)",
   "language": "python",
   "name": "python3"
  },
  "language_info": {
   "codemirror_mode": {
    "name": "ipython",
    "version": 3
   },
   "file_extension": ".py",
   "mimetype": "text/x-python",
   "name": "python",
   "nbconvert_exporter": "python",
   "pygments_lexer": "ipython3",
   "version": "3.11.5"
  }
 },
 "nbformat": 4,
 "nbformat_minor": 5
}
