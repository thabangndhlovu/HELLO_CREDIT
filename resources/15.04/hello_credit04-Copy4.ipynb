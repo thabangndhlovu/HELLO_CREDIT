{
 "cells": [
  {
   "cell_type": "markdown",
   "id": "e5bebd14-5939-4228-9449-e42827616343",
   "metadata": {},
   "source": [
    "# **Predictive Default Risk Assessor V.01**"
   ]
  },
  {
   "cell_type": "markdown",
   "id": "aa758ff1-aff3-4718-a6b6-2bf4aa81d71f",
   "metadata": {},
   "source": [
    "# TODO\n",
    "\n",
    "* Base model \n",
    "* Comparison\n",
    "* Specialised\n",
    "* For small entities - Examples?\n",
    "* Backtest - All sectors \n",
    "* Understanding the model across all sectors/industries\n",
    "* Any markets - consumer goods, industries\n",
    "* UI last step after backtesting"
   ]
  },
  {
   "cell_type": "code",
   "execution_count": 173,
   "id": "27606373",
   "metadata": {
    "tags": []
   },
   "outputs": [],
   "source": [
    "model_inputs = {\n",
    "    \"profitability\": {\n",
    "        \"class_weight\": 0.05,\n",
    "        \"weights\": [1.0], \n",
    "        \"metrics\": {\n",
    "            \"oper_margin\": {\n",
    "                \"lower_is_better\": False,\n",
    "                \"thresholds\": [\n",
    "                    (40, float(\"inf\")),\n",
    "                    (35, 39),\n",
    "                    (30, 34),\n",
    "                    (25, 29),\n",
    "                    (20, 24),\n",
    "                    (15, 19),\n",
    "                    (10, 14),\n",
    "                    (5, 9),\n",
    "                    (float(\"-inf\"), 0)\n",
    "                ],\n",
    "            }\n",
    "        },\n",
    "    },\n",
    "    \"leverage_coverage\": {\n",
    "        \"class_weight\": 0.71,\n",
    "        \"weights\": [0.2, 0.32, 0.48],\n",
    "        \"metrics\": {\n",
    "            \"tot_debt_to_tot_eqy\": {\n",
    "                \"lower_is_better\": True,\n",
    "                \"thresholds\": [\n",
    "                     (float(\"-inf\"), 2.0),\n",
    "                     (2.0, 16.0),\n",
    "                     (16.0, 24.0),\n",
    "                     (24.0, 33.0),\n",
    "                     (33.0, 43.0),\n",
    "                     (43.0, 54.0),\n",
    "                     (54.0, 68.0),\n",
    "                     (68.0, 94.0),\n",
    "                     (94.0, float(\"inf\")),\n",
    "                ],\n",
    "            },\n",
    "            \"tot_debt_to_ebitda\": {\n",
    "                \"lower_is_better\": True,\n",
    "                \"thresholds\": [\n",
    "                    (float(\"-inf\"), 0.09),\n",
    "                    (0.09, 0.49),\n",
    "                    (0.49, 0.9),\n",
    "                    (0.9, 1.36),\n",
    "                    (1.36, 1.68),\n",
    "                    (1.68, 2.26),\n",
    "                    (2.26, 3.27),\n",
    "                    (3.27, 4.4),\n",
    "                    (4.4, float(\"inf\")),\n",
    "                ],\n",
    "            },\n",
    "            \"ebitda_to_tot_int_exp\": {\n",
    "                \"lower_is_better\": False,\n",
    "                \"thresholds\": [\n",
    "                    (25, float(\"inf\")),\n",
    "                    (20, 25),\n",
    "                    (15, 20),\n",
    "                    (10, 15),\n",
    "                    (5, 10),\n",
    "                    (3, 5),\n",
    "                    (1, 3),\n",
    "                    (0, 1),\n",
    "                    (float(\"-inf\"), 0),\n",
    "                ],\n",
    "            },\n",
    "        },\n",
    "    },\n",
    "    \"efficiency\": {\n",
    "        \"class_weight\": 0.25,\n",
    "        \"weights\": [0.6, 0.5],\n",
    "        \"metrics\": {\n",
    "            \"return_on_asset\": {\n",
    "                \"lower_is_better\": False,\n",
    "                \"thresholds\": [\n",
    "                    (0.15, float(\"inf\")),\n",
    "                    (0.10, 0.15),\n",
    "                    (0.08, 0.10),\n",
    "                    (0.06, 0.08),\n",
    "                    (0.04, 0.06),\n",
    "                    (0.02, 0.04),\n",
    "                    (0.00, 0.02),\n",
    "                    (-0.02, 0.00),\n",
    "                    (float(\"-inf\"), -0.02)\n",
    "                ],\n",
    "            },\n",
    "            \"asset_turnover\": {\n",
    "                \"lower_is_better\": False,\n",
    "                \"thresholds\": [\n",
    "                    (4.0, float(\"inf\")),\n",
    "                    (3.0, 4.0),\n",
    "                    (2.0, 3.0),\n",
    "                    (1.5, 2.0),\n",
    "                    (1.0, 1.5),\n",
    "                    (0.75, 1.0),\n",
    "                    (0.5, 0.75),\n",
    "                    (0.25, 0.5),\n",
    "                    (float(\"-inf\"), 0.25)\n",
    "                ],\n",
    "            },\n",
    "        },\n",
    "    },\n",
    "}"
   ]
  },
  {
   "cell_type": "code",
   "execution_count": 2,
   "id": "78b2f3ed-0720-43a7-8204-f4f0efe040b8",
   "metadata": {
    "jupyter": {
     "source_hidden": true
    },
    "tags": []
   },
   "outputs": [],
   "source": [
    "import pandas as pd\n",
    "import numpy as np"
   ]
  },
  {
   "cell_type": "code",
   "execution_count": 15,
   "id": "8ff894c0-a05e-4061-9445-bbb895296a09",
   "metadata": {
    "jupyter": {
     "source_hidden": true
    },
    "tags": []
   },
   "outputs": [],
   "source": [
    "class CreditRatingCalculator:\n",
    "    def __init__(self, metrics):\n",
    "        self.metrics = metrics\n",
    "        \n",
    "    def _calculate_metric_score(self, metric, thresholds, inverse):\n",
    "        for score, (lower, upper) in enumerate(thresholds, start=1):\n",
    "            if (inverse and metric <= upper) or (not inverse and metric >= lower):\n",
    "                return score\n",
    "        return len(thresholds) // 2 # else return the middle score\n",
    "\n",
    "    def _calculate_category_score(self, category_metrics, ratios):\n",
    "        total_weighted_score = 0\n",
    "\n",
    "        for metric, weight in zip(\n",
    "            category_metrics[\"metrics\"].items(), category_metrics[\"weights\"]\n",
    "        ):\n",
    "            metric_name, metric_data = metric\n",
    "            value = ratios[metric_name]\n",
    "            score = self._calculate_metric_score(\n",
    "                value, metric_data[\"thresholds\"], metric_data[\"lower_is_better\"]\n",
    "            )\n",
    "            total_weighted_score += score * weight\n",
    "\n",
    "        return total_weighted_score\n",
    "\n",
    "    def _calculate_scores(self, ratios):\n",
    "        scores = {}\n",
    "        for category, category_data in self.metrics.items():\n",
    "            category_score = self._calculate_category_score(category_data, ratios)\n",
    "            scores[category] = category_score\n",
    "        return scores\n",
    "\n",
    "    def _calculate_weighted_score(self, scores):\n",
    "        weights = {\n",
    "            category: category_data[\"class_weight\"]\n",
    "            for category, category_data in self.metrics.items()\n",
    "        }\n",
    "        return sum(scores[category] * weight for category, weight in weights.items())\n",
    "\n",
    "    def _determine_credit_rating(self, weighted_score):\n",
    "        credit_ratings = [\n",
    "            (2.5, \"Aaa\"),\n",
    "            (3.5, \"Aa\"),\n",
    "            (4.5, \"A\"),\n",
    "            (5.5, \"Baa\"),\n",
    "            (6.5, \"Ba\"),\n",
    "            (7.5, \"B\"),\n",
    "            (8.5, \"Caa\"),\n",
    "            (9.5, \"Ca\"),\n",
    "            (float(\"inf\"), \"C\"),\n",
    "        ]\n",
    "\n",
    "        for threshold, rating in credit_ratings:\n",
    "            if weighted_score < threshold:\n",
    "                return rating\n",
    "\n",
    "    def calculate_credit_rating(self, ratios):\n",
    "        self.scores = self._calculate_scores(ratios)\n",
    "        self.credit_score = self._calculate_weighted_score(self.scores)\n",
    "        self.credit_rating = self._determine_credit_rating(self.credit_score)"
   ]
  },
  {
   "cell_type": "code",
   "execution_count": 55,
   "id": "ba34e0b7-dd1b-41d2-b4dc-4608bdc2ece4",
   "metadata": {
    "tags": []
   },
   "outputs": [],
   "source": [
    "features = pd.read_excel(\"dataset/features.xlsx\", index_col=0)\n",
    "targets = pd.read_excel(\"dataset/target.xlsx\", index_col=0)\n",
    "features.columns = features.columns.str.lower()"
   ]
  },
  {
   "cell_type": "code",
   "execution_count": 56,
   "id": "f8d060e9-e417-4db0-8f6e-de8ceb39d625",
   "metadata": {
    "tags": []
   },
   "outputs": [
    {
     "data": {
      "text/html": [
       "<div>\n",
       "<style scoped>\n",
       "    .dataframe tbody tr th:only-of-type {\n",
       "        vertical-align: middle;\n",
       "    }\n",
       "\n",
       "    .dataframe tbody tr th {\n",
       "        vertical-align: top;\n",
       "    }\n",
       "\n",
       "    .dataframe thead th {\n",
       "        text-align: right;\n",
       "    }\n",
       "</style>\n",
       "<table border=\"1\" class=\"dataframe\">\n",
       "  <thead>\n",
       "    <tr style=\"text-align: right;\">\n",
       "      <th></th>\n",
       "      <th>credit_rating</th>\n",
       "      <th>rating</th>\n",
       "      <th>numeric_rating</th>\n",
       "    </tr>\n",
       "  </thead>\n",
       "  <tbody>\n",
       "    <tr>\n",
       "      <th>AGL SJ Equity</th>\n",
       "      <td>Baa2</td>\n",
       "      <td>Baa</td>\n",
       "      <td>5.5</td>\n",
       "    </tr>\n",
       "    <tr>\n",
       "      <th>ANG SJ Equity</th>\n",
       "      <td>Baa3</td>\n",
       "      <td>Baa</td>\n",
       "      <td>5.5</td>\n",
       "    </tr>\n",
       "    <tr>\n",
       "      <th>ANH SJ Equity</th>\n",
       "      <td>A3</td>\n",
       "      <td>A</td>\n",
       "      <td>4.5</td>\n",
       "    </tr>\n",
       "    <tr>\n",
       "      <th>BAW SJ Equity</th>\n",
       "      <td>Ba2</td>\n",
       "      <td>Ba</td>\n",
       "      <td>6.5</td>\n",
       "    </tr>\n",
       "    <tr>\n",
       "      <th>BHG SJ Equity</th>\n",
       "      <td>A1</td>\n",
       "      <td>A</td>\n",
       "      <td>4.5</td>\n",
       "    </tr>\n",
       "    <tr>\n",
       "      <th>...</th>\n",
       "      <td>...</td>\n",
       "      <td>...</td>\n",
       "      <td>...</td>\n",
       "    </tr>\n",
       "    <tr>\n",
       "      <th>UGPA3 BS Equity</th>\n",
       "      <td>Ba1</td>\n",
       "      <td>Ba</td>\n",
       "      <td>6.5</td>\n",
       "    </tr>\n",
       "    <tr>\n",
       "      <th>USIM5 BS Equity</th>\n",
       "      <td>Ba2</td>\n",
       "      <td>Ba</td>\n",
       "      <td>6.5</td>\n",
       "    </tr>\n",
       "    <tr>\n",
       "      <th>VALE3 BS Equity</th>\n",
       "      <td>Baa3</td>\n",
       "      <td>Baa</td>\n",
       "      <td>5.5</td>\n",
       "    </tr>\n",
       "    <tr>\n",
       "      <th>VAMO3 BS Equity</th>\n",
       "      <td>BB-</td>\n",
       "      <td>Ba</td>\n",
       "      <td>6.5</td>\n",
       "    </tr>\n",
       "    <tr>\n",
       "      <th>VBBR3 BS Equity</th>\n",
       "      <td>Ba1</td>\n",
       "      <td>Ba</td>\n",
       "      <td>6.5</td>\n",
       "    </tr>\n",
       "  </tbody>\n",
       "</table>\n",
       "<p>70 rows × 3 columns</p>\n",
       "</div>"
      ],
      "text/plain": [
       "                credit_rating rating  numeric_rating\n",
       "AGL SJ Equity            Baa2    Baa             5.5\n",
       "ANG SJ Equity            Baa3    Baa             5.5\n",
       "ANH SJ Equity              A3      A             4.5\n",
       "BAW SJ Equity             Ba2     Ba             6.5\n",
       "BHG SJ Equity              A1      A             4.5\n",
       "...                       ...    ...             ...\n",
       "UGPA3 BS Equity           Ba1     Ba             6.5\n",
       "USIM5 BS Equity           Ba2     Ba             6.5\n",
       "VALE3 BS Equity          Baa3    Baa             5.5\n",
       "VAMO3 BS Equity           BB-     Ba             6.5\n",
       "VBBR3 BS Equity           Ba1     Ba             6.5\n",
       "\n",
       "[70 rows x 3 columns]"
      ]
     },
     "execution_count": 56,
     "metadata": {},
     "output_type": "execute_result"
    }
   ],
   "source": [
    "targets"
   ]
  },
  {
   "cell_type": "code",
   "execution_count": 33,
   "id": "19d8c529-3eb9-4338-a7d8-a7b1ed2bf1d2",
   "metadata": {
    "tags": []
   },
   "outputs": [
    {
     "data": {
      "text/plain": [
       "Index(['AGL SJ Equity', 'ANG SJ Equity', 'ANH SJ Equity', 'BAW SJ Equity',\n",
       "       'BHG SJ Equity', 'BTI SJ Equity', 'BVT SJ Equity', 'CFR SJ Equity',\n",
       "       'DSY SJ Equity', 'FFB SJ Equity', 'FSR SJ Equity', 'GFI SJ Equity',\n",
       "       'GLN SJ Equity', 'GRT SJ Equity', 'HMN SJ Equity', 'MNP SJ Equity',\n",
       "       'MSP SJ Equity', 'MTN SJ Equity', 'NRP SJ Equity', 'PPH SJ Equity',\n",
       "       'PRX SJ Equity', 'RDF SJ Equity', 'S32 SJ Equity', 'SAP SJ Equity',\n",
       "       'SNT SJ Equity', 'SOL SJ Equity', 'SSW SJ Equity', 'TKG SJ Equity',\n",
       "       'ABEV3 BS Equity', 'AZUL4 BS Equity', 'B3SA3 BS Equity',\n",
       "       'BBAS3 BS Equity', 'BBDC3 BS Equity', 'BBDC4 BS Equity',\n",
       "       'BEEF3 BS Equity', 'BPAC11 BS Equity', 'BRFS3 BS Equity',\n",
       "       'BRKM5 BS Equity', 'CIEL3 BS Equity', 'CMIG4 BS Equity',\n",
       "       'CSAN3 BS Equity', 'CSNA3 BS Equity', 'ELET3 BS Equity',\n",
       "       'ELET6 BS Equity', 'EMBR3 BS Equity', 'ENGI11 BS Equity',\n",
       "       'GGBR4 BS Equity', 'HYPE3 BS Equity', 'JBSS3 BS Equity',\n",
       "       'KLBN11 BS Equity', 'MOVI3 BS Equity', 'MRFG3 BS Equity',\n",
       "       'NTCO3 BS Equity', 'PETR3 BS Equity', 'PETR4 BS Equity',\n",
       "       'PRIO3 BS Equity', 'RAIL3 BS Equity', 'RAIZ4 BS Equity',\n",
       "       'RDOR3 BS Equity', 'RENT3 BS Equity', 'RRRP3 BS Equity',\n",
       "       'SANB11 BS Equity', 'SBSP3 BS Equity', 'SMTO3 BS Equity',\n",
       "       'SUZB3 BS Equity', 'UGPA3 BS Equity', 'USIM5 BS Equity',\n",
       "       'VALE3 BS Equity', 'VAMO3 BS Equity', 'VBBR3 BS Equity'],\n",
       "      dtype='object')"
      ]
     },
     "execution_count": 33,
     "metadata": {},
     "output_type": "execute_result"
    }
   ],
   "source": [
    "features.index"
   ]
  },
  {
   "cell_type": "code",
   "execution_count": 37,
   "id": "3460a8a6-dd7a-4896-a2ee-032416c11703",
   "metadata": {
    "tags": []
   },
   "outputs": [],
   "source": [
    "company = \"RRRP3 BS Equity\""
   ]
  },
  {
   "cell_type": "code",
   "execution_count": 39,
   "id": "43dab655-d813-41d0-a3a2-7dafbee233e4",
   "metadata": {
    "tags": []
   },
   "outputs": [
    {
     "data": {
      "text/plain": [
       "asset_turnover                        0.4001\n",
       "bs_lt_borrow                       8329.6270\n",
       "bs_st_borrow                        977.8530\n",
       "bs_total_liabilities              14554.7680\n",
       "bs_tot_asset                      20119.8580\n",
       "cfo_to_tot_debt                       0.1084\n",
       "ebitda                             1885.9700\n",
       "ebitda_to_interest_expn               2.8302\n",
       "ebitda_to_revenue                    33.5583\n",
       "ebitda_to_tot_int_exp                 2.8302\n",
       "fcf_to_total_debt                     0.0221\n",
       "is_oper_inc                        1265.8700\n",
       "net_debt_to_ebitda                    2.7013\n",
       "oper_margin                          22.5244\n",
       "retained_cash_flow_to_net_debt        0.1980\n",
       "return_on_asset                       2.8852\n",
       "return_on_cap                         8.9074\n",
       "return_on_inv_capital                 9.2942\n",
       "sales_growth                        226.2841\n",
       "sales_rev_turn                     5619.9890\n",
       "short_and_long_term_debt           9307.4800\n",
       "total_equity                       5565.0900\n",
       "tot_debt_to_ebitda                    4.9351\n",
       "tot_debt_to_tot_asset                46.2602\n",
       "tot_debt_to_tot_cap                  62.5815\n",
       "tot_debt_to_tot_eqy                 167.2476\n",
       "Name: RRRP3 BS Equity, dtype: float64"
      ]
     },
     "execution_count": 39,
     "metadata": {},
     "output_type": "execute_result"
    }
   ],
   "source": [
    "features.loc[company]"
   ]
  },
  {
   "cell_type": "code",
   "execution_count": 40,
   "id": "c9ce811f-6d11-4467-92cb-8558f849a579",
   "metadata": {
    "tags": []
   },
   "outputs": [],
   "source": [
    "model_metrics = [\n",
    "    \"oper_margin\", \n",
    "    \"tot_debt_to_tot_eqy\", \n",
    "    \"tot_debt_to_ebitda\", \n",
    "    \"ebitda_to_tot_int_exp\", \n",
    "    \"return_on_asset\",\n",
    "    \"asset_turnover\",\n",
    "]\n",
    "\n",
    "ratios = features.loc[company][model_metrics].to_dict()"
   ]
  },
  {
   "cell_type": "code",
   "execution_count": 41,
   "id": "30c62d83-89e5-4bce-a206-55a07db17e63",
   "metadata": {
    "tags": []
   },
   "outputs": [
    {
     "data": {
      "text/plain": [
       "{'oper_margin': 22.5244,\n",
       " 'tot_debt_to_tot_eqy': 167.2476,\n",
       " 'tot_debt_to_ebitda': 4.9351,\n",
       " 'ebitda_to_tot_int_exp': 2.8302,\n",
       " 'return_on_asset': 2.8852,\n",
       " 'asset_turnover': 0.4001}"
      ]
     },
     "execution_count": 41,
     "metadata": {},
     "output_type": "execute_result"
    }
   ],
   "source": [
    "ratios"
   ]
  },
  {
   "cell_type": "code",
   "execution_count": 174,
   "id": "39b74db9-167a-4d83-bda9-f280c20cd9f4",
   "metadata": {
    "tags": []
   },
   "outputs": [
    {
     "name": "stdout",
     "output_type": "stream",
     "text": [
      "Model Inputs:\n"
     ]
    },
    {
     "data": {
      "text/plain": [
       "{'oper_margin': 4.372,\n",
       " 'tot_debt_to_tot_eqy': 98.646,\n",
       " 'tot_debt_to_ebitda': 2.0211,\n",
       " 'ebitda_to_tot_int_exp': 5.5277,\n",
       " 'return_on_asset': 11.2683,\n",
       " 'asset_turnover': 3.8526}"
      ]
     },
     "metadata": {},
     "output_type": "display_data"
    },
    {
     "name": "stdout",
     "output_type": "stream",
     "text": [
      "\n",
      "Class Scoring: {'profitability': 9.0, 'leverage_coverage': 5.751826676095, 'efficiency': 1.72076757}\n",
      "Credit Score: 7.278178546837023\n",
      "Credit Rating: B\n"
     ]
    }
   ],
   "source": [
    "model = CreditRatingCalculator(model_inputs)\n",
    "model.calculate_credit_rating(ratios)\n",
    "print(f\"Model Inputs:\")\n",
    "display(ratios)\n",
    "print(\"\")\n",
    "print(f\"Class Scoring: {model.scores}\")\n",
    "print(f\"Credit Score: {model.credit_score}\")\n",
    "print(f\"Credit Rating: {model.credit_rating}\")"
   ]
  },
  {
   "cell_type": "code",
   "execution_count": null,
   "id": "ee7bbb1c-aca7-47e8-a4c3-6e93c193c51c",
   "metadata": {},
   "outputs": [],
   "source": []
  },
  {
   "cell_type": "code",
   "execution_count": 177,
   "id": "43f532f7-e6f4-4e84-8da5-4f0441604452",
   "metadata": {},
   "outputs": [],
   "source": [
    "study = {}\n",
    "ra = {}\n",
    "for company in features.index:\n",
    "    ratios = features.loc[company][model_metrics].to_dict()\n",
    "    model = CreditRatingCalculator(model_inputs)\n",
    "    model.calculate_credit_rating(ratios)\n",
    "    ra[company] = ratios\n",
    "    study[company] = {\"class_scoreing\": model.scores, \"credit_score\": model.credit_score, \"credit_rating\": model.credit_rating}\n",
    "    \n",
    "study = pd.DataFrame(study).T"
   ]
  },
  {
   "cell_type": "code",
   "execution_count": 178,
   "id": "470164db-5b00-44a5-a303-304ac56bd78f",
   "metadata": {
    "tags": []
   },
   "outputs": [
    {
     "data": {
      "text/html": [
       "<div>\n",
       "<style scoped>\n",
       "    .dataframe tbody tr th:only-of-type {\n",
       "        vertical-align: middle;\n",
       "    }\n",
       "\n",
       "    .dataframe tbody tr th {\n",
       "        vertical-align: top;\n",
       "    }\n",
       "\n",
       "    .dataframe thead th {\n",
       "        text-align: right;\n",
       "    }\n",
       "</style>\n",
       "<table border=\"1\" class=\"dataframe\">\n",
       "  <thead>\n",
       "    <tr style=\"text-align: right;\">\n",
       "      <th></th>\n",
       "      <th>class_scoreing</th>\n",
       "      <th>credit_score</th>\n",
       "      <th>credit_rating</th>\n",
       "    </tr>\n",
       "  </thead>\n",
       "  <tbody>\n",
       "    <tr>\n",
       "      <th>AGL SJ Equity</th>\n",
       "      <td>{'profitability': 7.0, 'leverage_coverage': 6....</td>\n",
       "      <td>6.996391</td>\n",
       "      <td>B</td>\n",
       "    </tr>\n",
       "    <tr>\n",
       "      <th>ANG SJ Equity</th>\n",
       "      <td>{'profitability': 9.0, 'leverage_coverage': 5....</td>\n",
       "      <td>5.44147</td>\n",
       "      <td>Baa</td>\n",
       "    </tr>\n",
       "    <tr>\n",
       "      <th>ANH SJ Equity</th>\n",
       "      <td>{'profitability': 5.0, 'leverage_coverage': 7....</td>\n",
       "      <td>7.768269</td>\n",
       "      <td>Caa</td>\n",
       "    </tr>\n",
       "    <tr>\n",
       "      <th>BAW SJ Equity</th>\n",
       "      <td>{'profitability': 8.0, 'leverage_coverage': 5....</td>\n",
       "      <td>6.596693</td>\n",
       "      <td>B</td>\n",
       "    </tr>\n",
       "    <tr>\n",
       "      <th>BHG SJ Equity</th>\n",
       "      <td>{'profitability': 1.0, 'leverage_coverage': 2....</td>\n",
       "      <td>1.80309</td>\n",
       "      <td>Aaa</td>\n",
       "    </tr>\n",
       "    <tr>\n",
       "      <th>...</th>\n",
       "      <td>...</td>\n",
       "      <td>...</td>\n",
       "      <td>...</td>\n",
       "    </tr>\n",
       "    <tr>\n",
       "      <th>UGPA3 BS Equity</th>\n",
       "      <td>{'profitability': 9.0, 'leverage_coverage': 6....</td>\n",
       "      <td>8.51446</td>\n",
       "      <td>Ca</td>\n",
       "    </tr>\n",
       "    <tr>\n",
       "      <th>USIM5 BS Equity</th>\n",
       "      <td>{'profitability': 9.0, 'leverage_coverage': 7....</td>\n",
       "      <td>8.619837</td>\n",
       "      <td>Ca</td>\n",
       "    </tr>\n",
       "    <tr>\n",
       "      <th>VALE3 BS Equity</th>\n",
       "      <td>{'profitability': 3.0, 'leverage_coverage': 3....</td>\n",
       "      <td>2.344731</td>\n",
       "      <td>Aaa</td>\n",
       "    </tr>\n",
       "    <tr>\n",
       "      <th>VAMO3 BS Equity</th>\n",
       "      <td>{'profitability': 3.0, 'leverage_coverage': 7....</td>\n",
       "      <td>7.914067</td>\n",
       "      <td>Caa</td>\n",
       "    </tr>\n",
       "    <tr>\n",
       "      <th>VBBR3 BS Equity</th>\n",
       "      <td>{'profitability': 9.0, 'leverage_coverage': 5....</td>\n",
       "      <td>7.278179</td>\n",
       "      <td>B</td>\n",
       "    </tr>\n",
       "  </tbody>\n",
       "</table>\n",
       "<p>70 rows × 3 columns</p>\n",
       "</div>"
      ],
      "text/plain": [
       "                                                    class_scoreing  \\\n",
       "AGL SJ Equity    {'profitability': 7.0, 'leverage_coverage': 6....   \n",
       "ANG SJ Equity    {'profitability': 9.0, 'leverage_coverage': 5....   \n",
       "ANH SJ Equity    {'profitability': 5.0, 'leverage_coverage': 7....   \n",
       "BAW SJ Equity    {'profitability': 8.0, 'leverage_coverage': 5....   \n",
       "BHG SJ Equity    {'profitability': 1.0, 'leverage_coverage': 2....   \n",
       "...                                                            ...   \n",
       "UGPA3 BS Equity  {'profitability': 9.0, 'leverage_coverage': 6....   \n",
       "USIM5 BS Equity  {'profitability': 9.0, 'leverage_coverage': 7....   \n",
       "VALE3 BS Equity  {'profitability': 3.0, 'leverage_coverage': 3....   \n",
       "VAMO3 BS Equity  {'profitability': 3.0, 'leverage_coverage': 7....   \n",
       "VBBR3 BS Equity  {'profitability': 9.0, 'leverage_coverage': 5....   \n",
       "\n",
       "                credit_score credit_rating  \n",
       "AGL SJ Equity       6.996391             B  \n",
       "ANG SJ Equity        5.44147           Baa  \n",
       "ANH SJ Equity       7.768269           Caa  \n",
       "BAW SJ Equity       6.596693             B  \n",
       "BHG SJ Equity        1.80309           Aaa  \n",
       "...                      ...           ...  \n",
       "UGPA3 BS Equity      8.51446            Ca  \n",
       "USIM5 BS Equity     8.619837            Ca  \n",
       "VALE3 BS Equity     2.344731           Aaa  \n",
       "VAMO3 BS Equity     7.914067           Caa  \n",
       "VBBR3 BS Equity     7.278179             B  \n",
       "\n",
       "[70 rows x 3 columns]"
      ]
     },
     "execution_count": 178,
     "metadata": {},
     "output_type": "execute_result"
    }
   ],
   "source": [
    "study"
   ]
  },
  {
   "cell_type": "code",
   "execution_count": 179,
   "id": "6b804bfd-266c-4105-98d0-870d432c0290",
   "metadata": {
    "tags": []
   },
   "outputs": [],
   "source": [
    "ms = ['AGL SJ Equity', 'ANG SJ Equity', 'ANH SJ Equity', 'BAW SJ Equity',\n",
    "'BHG SJ Equity', 'BVT SJ Equity', 'GFI SJ Equity', 'MNP SJ Equity',\n",
    "'SAP SJ Equity', 'SOL SJ Equity', 'TKG SJ Equity', 'ABEV3 BS Equity',\n",
    "'AZUL4 BS Equity', 'B3SA3 BS Equity', 'BEEF3 BS Equity',\n",
    "'BPAC11 BS Equity', 'BRFS3 BS Equity', 'BRKM5 BS Equity',\n",
    "'CIEL3 BS Equity', 'CMIG4 BS Equity', 'CSAN3 BS Equity',\n",
    "'CSNA3 BS Equity', 'ELET3 BS Equity', 'ELET6 BS Equity',\n",
    "'EMBR3 BS Equity', 'ENGI11 BS Equity', 'GGBR4 BS Equity',\n",
    "'HYPE3 BS Equity', 'JBSS3 BS Equity', 'KLBN11 BS Equity',\n",
    "'MOVI3 BS Equity', 'MRFG3 BS Equity', 'NTCO3 BS Equity',\n",
    "'PETR3 BS Equity', 'PETR4 BS Equity', 'PRIO3 BS Equity',\n",
    "'RAIL3 BS Equity', 'RAIZ4 BS Equity', 'RDOR3 BS Equity',\n",
    "'RENT3 BS Equity', 'RRRP3 BS Equity', 'SBSP3 BS Equity',\n",
    "'SMTO3 BS Equity', 'SUZB3 BS Equity', 'UGPA3 BS Equity',\n",
    "'USIM5 BS Equity', 'VALE3 BS Equity', 'VAMO3 BS Equity',\n",
    "'VBBR3 BS Equity']"
   ]
  },
  {
   "cell_type": "code",
   "execution_count": 180,
   "id": "c0dd21ba-960f-45bf-baa6-5ad24a8d8967",
   "metadata": {
    "tags": []
   },
   "outputs": [],
   "source": [
    "import pandas as pd"
   ]
  },
  {
   "cell_type": "code",
   "execution_count": 181,
   "id": "070b5b76-58f1-40f7-97a1-3f3fb573fed4",
   "metadata": {
    "tags": []
   },
   "outputs": [],
   "source": [
    "ta = pd.read_excel('t.xlsx', index_col=0)"
   ]
  },
  {
   "cell_type": "code",
   "execution_count": 182,
   "id": "9dcbe9d4-01cd-4512-a927-b79a25d8fde2",
   "metadata": {
    "tags": []
   },
   "outputs": [
    {
     "data": {
      "text/html": [
       "<div>\n",
       "<style scoped>\n",
       "    .dataframe tbody tr th:only-of-type {\n",
       "        vertical-align: middle;\n",
       "    }\n",
       "\n",
       "    .dataframe tbody tr th {\n",
       "        vertical-align: top;\n",
       "    }\n",
       "\n",
       "    .dataframe thead th {\n",
       "        text-align: right;\n",
       "    }\n",
       "</style>\n",
       "<table border=\"1\" class=\"dataframe\">\n",
       "  <thead>\n",
       "    <tr style=\"text-align: right;\">\n",
       "      <th></th>\n",
       "      <th>numeric_rating</th>\n",
       "    </tr>\n",
       "  </thead>\n",
       "  <tbody>\n",
       "    <tr>\n",
       "      <th>AGL SJ Equity</th>\n",
       "      <td>5.5</td>\n",
       "    </tr>\n",
       "    <tr>\n",
       "      <th>ANG SJ Equity</th>\n",
       "      <td>5.5</td>\n",
       "    </tr>\n",
       "    <tr>\n",
       "      <th>ANH SJ Equity</th>\n",
       "      <td>4.5</td>\n",
       "    </tr>\n",
       "    <tr>\n",
       "      <th>BAW SJ Equity</th>\n",
       "      <td>6.5</td>\n",
       "    </tr>\n",
       "    <tr>\n",
       "      <th>BHG SJ Equity</th>\n",
       "      <td>4.5</td>\n",
       "    </tr>\n",
       "    <tr>\n",
       "      <th>BVT SJ Equity</th>\n",
       "      <td>6.5</td>\n",
       "    </tr>\n",
       "    <tr>\n",
       "      <th>GFI SJ Equity</th>\n",
       "      <td>5.5</td>\n",
       "    </tr>\n",
       "    <tr>\n",
       "      <th>MNP SJ Equity</th>\n",
       "      <td>5.5</td>\n",
       "    </tr>\n",
       "    <tr>\n",
       "      <th>SAP SJ Equity</th>\n",
       "      <td>6.5</td>\n",
       "    </tr>\n",
       "    <tr>\n",
       "      <th>SOL SJ Equity</th>\n",
       "      <td>6.5</td>\n",
       "    </tr>\n",
       "    <tr>\n",
       "      <th>TKG SJ Equity</th>\n",
       "      <td>6.5</td>\n",
       "    </tr>\n",
       "    <tr>\n",
       "      <th>ABEV3 BS Equity</th>\n",
       "      <td>5.5</td>\n",
       "    </tr>\n",
       "    <tr>\n",
       "      <th>AZUL4 BS Equity</th>\n",
       "      <td>8.5</td>\n",
       "    </tr>\n",
       "    <tr>\n",
       "      <th>B3SA3 BS Equity</th>\n",
       "      <td>6.5</td>\n",
       "    </tr>\n",
       "    <tr>\n",
       "      <th>BEEF3 BS Equity</th>\n",
       "      <td>6.5</td>\n",
       "    </tr>\n",
       "    <tr>\n",
       "      <th>BPAC11 BS Equity</th>\n",
       "      <td>6.5</td>\n",
       "    </tr>\n",
       "    <tr>\n",
       "      <th>BRFS3 BS Equity</th>\n",
       "      <td>6.5</td>\n",
       "    </tr>\n",
       "    <tr>\n",
       "      <th>BRKM5 BS Equity</th>\n",
       "      <td>6.5</td>\n",
       "    </tr>\n",
       "    <tr>\n",
       "      <th>CIEL3 BS Equity</th>\n",
       "      <td>6.5</td>\n",
       "    </tr>\n",
       "    <tr>\n",
       "      <th>CMIG4 BS Equity</th>\n",
       "      <td>6.5</td>\n",
       "    </tr>\n",
       "    <tr>\n",
       "      <th>CSAN3 BS Equity</th>\n",
       "      <td>6.5</td>\n",
       "    </tr>\n",
       "    <tr>\n",
       "      <th>CSNA3 BS Equity</th>\n",
       "      <td>6.5</td>\n",
       "    </tr>\n",
       "    <tr>\n",
       "      <th>ELET3 BS Equity</th>\n",
       "      <td>6.5</td>\n",
       "    </tr>\n",
       "    <tr>\n",
       "      <th>ELET6 BS Equity</th>\n",
       "      <td>6.5</td>\n",
       "    </tr>\n",
       "    <tr>\n",
       "      <th>EMBR3 BS Equity</th>\n",
       "      <td>6.5</td>\n",
       "    </tr>\n",
       "    <tr>\n",
       "      <th>ENGI11 BS Equity</th>\n",
       "      <td>6.5</td>\n",
       "    </tr>\n",
       "    <tr>\n",
       "      <th>GGBR4 BS Equity</th>\n",
       "      <td>5.5</td>\n",
       "    </tr>\n",
       "    <tr>\n",
       "      <th>HYPE3 BS Equity</th>\n",
       "      <td>6.5</td>\n",
       "    </tr>\n",
       "    <tr>\n",
       "      <th>JBSS3 BS Equity</th>\n",
       "      <td>5.5</td>\n",
       "    </tr>\n",
       "    <tr>\n",
       "      <th>KLBN11 BS Equity</th>\n",
       "      <td>6.5</td>\n",
       "    </tr>\n",
       "    <tr>\n",
       "      <th>MOVI3 BS Equity</th>\n",
       "      <td>6.5</td>\n",
       "    </tr>\n",
       "    <tr>\n",
       "      <th>MRFG3 BS Equity</th>\n",
       "      <td>6.5</td>\n",
       "    </tr>\n",
       "    <tr>\n",
       "      <th>NTCO3 BS Equity</th>\n",
       "      <td>6.5</td>\n",
       "    </tr>\n",
       "    <tr>\n",
       "      <th>PETR3 BS Equity</th>\n",
       "      <td>6.5</td>\n",
       "    </tr>\n",
       "    <tr>\n",
       "      <th>PETR4 BS Equity</th>\n",
       "      <td>6.5</td>\n",
       "    </tr>\n",
       "    <tr>\n",
       "      <th>PRIO3 BS Equity</th>\n",
       "      <td>6.5</td>\n",
       "    </tr>\n",
       "    <tr>\n",
       "      <th>RAIL3 BS Equity</th>\n",
       "      <td>6.5</td>\n",
       "    </tr>\n",
       "    <tr>\n",
       "      <th>RAIZ4 BS Equity</th>\n",
       "      <td>5.5</td>\n",
       "    </tr>\n",
       "    <tr>\n",
       "      <th>RDOR3 BS Equity</th>\n",
       "      <td>6.5</td>\n",
       "    </tr>\n",
       "    <tr>\n",
       "      <th>RENT3 BS Equity</th>\n",
       "      <td>6.5</td>\n",
       "    </tr>\n",
       "    <tr>\n",
       "      <th>RRRP3 BS Equity</th>\n",
       "      <td>7.5</td>\n",
       "    </tr>\n",
       "    <tr>\n",
       "      <th>SBSP3 BS Equity</th>\n",
       "      <td>6.5</td>\n",
       "    </tr>\n",
       "    <tr>\n",
       "      <th>SMTO3 BS Equity</th>\n",
       "      <td>5.5</td>\n",
       "    </tr>\n",
       "    <tr>\n",
       "      <th>SUZB3 BS Equity</th>\n",
       "      <td>5.5</td>\n",
       "    </tr>\n",
       "    <tr>\n",
       "      <th>UGPA3 BS Equity</th>\n",
       "      <td>6.5</td>\n",
       "    </tr>\n",
       "    <tr>\n",
       "      <th>USIM5 BS Equity</th>\n",
       "      <td>6.5</td>\n",
       "    </tr>\n",
       "    <tr>\n",
       "      <th>VALE3 BS Equity</th>\n",
       "      <td>5.5</td>\n",
       "    </tr>\n",
       "    <tr>\n",
       "      <th>VAMO3 BS Equity</th>\n",
       "      <td>6.5</td>\n",
       "    </tr>\n",
       "    <tr>\n",
       "      <th>VBBR3 BS Equity</th>\n",
       "      <td>6.5</td>\n",
       "    </tr>\n",
       "  </tbody>\n",
       "</table>\n",
       "</div>"
      ],
      "text/plain": [
       "                  numeric_rating\n",
       "AGL SJ Equity                5.5\n",
       "ANG SJ Equity                5.5\n",
       "ANH SJ Equity                4.5\n",
       "BAW SJ Equity                6.5\n",
       "BHG SJ Equity                4.5\n",
       "BVT SJ Equity                6.5\n",
       "GFI SJ Equity                5.5\n",
       "MNP SJ Equity                5.5\n",
       "SAP SJ Equity                6.5\n",
       "SOL SJ Equity                6.5\n",
       "TKG SJ Equity                6.5\n",
       "ABEV3 BS Equity              5.5\n",
       "AZUL4 BS Equity              8.5\n",
       "B3SA3 BS Equity              6.5\n",
       "BEEF3 BS Equity              6.5\n",
       "BPAC11 BS Equity             6.5\n",
       "BRFS3 BS Equity              6.5\n",
       "BRKM5 BS Equity              6.5\n",
       "CIEL3 BS Equity              6.5\n",
       "CMIG4 BS Equity              6.5\n",
       "CSAN3 BS Equity              6.5\n",
       "CSNA3 BS Equity              6.5\n",
       "ELET3 BS Equity              6.5\n",
       "ELET6 BS Equity              6.5\n",
       "EMBR3 BS Equity              6.5\n",
       "ENGI11 BS Equity             6.5\n",
       "GGBR4 BS Equity              5.5\n",
       "HYPE3 BS Equity              6.5\n",
       "JBSS3 BS Equity              5.5\n",
       "KLBN11 BS Equity             6.5\n",
       "MOVI3 BS Equity              6.5\n",
       "MRFG3 BS Equity              6.5\n",
       "NTCO3 BS Equity              6.5\n",
       "PETR3 BS Equity              6.5\n",
       "PETR4 BS Equity              6.5\n",
       "PRIO3 BS Equity              6.5\n",
       "RAIL3 BS Equity              6.5\n",
       "RAIZ4 BS Equity              5.5\n",
       "RDOR3 BS Equity              6.5\n",
       "RENT3 BS Equity              6.5\n",
       "RRRP3 BS Equity              7.5\n",
       "SBSP3 BS Equity              6.5\n",
       "SMTO3 BS Equity              5.5\n",
       "SUZB3 BS Equity              5.5\n",
       "UGPA3 BS Equity              6.5\n",
       "USIM5 BS Equity              6.5\n",
       "VALE3 BS Equity              5.5\n",
       "VAMO3 BS Equity              6.5\n",
       "VBBR3 BS Equity              6.5"
      ]
     },
     "execution_count": 182,
     "metadata": {},
     "output_type": "execute_result"
    }
   ],
   "source": [
    "ta"
   ]
  },
  {
   "cell_type": "code",
   "execution_count": 183,
   "id": "14cc3c0f-b299-4f9a-860a-1130fac11e03",
   "metadata": {
    "tags": []
   },
   "outputs": [],
   "source": [
    "a = study.loc[ms].join(ta)"
   ]
  },
  {
   "cell_type": "code",
   "execution_count": 184,
   "id": "4522c390-6d4c-46c5-b3eb-7ea65971a8bf",
   "metadata": {
    "tags": []
   },
   "outputs": [],
   "source": [
    "a['credit_score'] = a['credit_score'].astype(float).round(1)"
   ]
  },
  {
   "cell_type": "code",
   "execution_count": 185,
   "id": "1697b0a8-458e-41b0-9be3-0c84f5684ffe",
   "metadata": {
    "tags": []
   },
   "outputs": [],
   "source": [
    "y_true = a['numeric_rating']\n",
    "yhat = a['credit_score']"
   ]
  },
  {
   "cell_type": "code",
   "execution_count": 189,
   "id": "9e32133d-36aa-4bca-bc7b-7a7b1d34f1b5",
   "metadata": {
    "tags": []
   },
   "outputs": [
    {
     "data": {
      "text/plain": [
       "AGL SJ Equity       5.5\n",
       "ANG SJ Equity       5.5\n",
       "ANH SJ Equity       4.5\n",
       "BAW SJ Equity       6.5\n",
       "BHG SJ Equity       4.5\n",
       "BVT SJ Equity       6.5\n",
       "GFI SJ Equity       5.5\n",
       "MNP SJ Equity       5.5\n",
       "SAP SJ Equity       6.5\n",
       "SOL SJ Equity       6.5\n",
       "TKG SJ Equity       6.5\n",
       "ABEV3 BS Equity     5.5\n",
       "AZUL4 BS Equity     8.5\n",
       "B3SA3 BS Equity     6.5\n",
       "BEEF3 BS Equity     6.5\n",
       "BPAC11 BS Equity    6.5\n",
       "BRFS3 BS Equity     6.5\n",
       "BRKM5 BS Equity     6.5\n",
       "CIEL3 BS Equity     6.5\n",
       "CMIG4 BS Equity     6.5\n",
       "CSAN3 BS Equity     6.5\n",
       "CSNA3 BS Equity     6.5\n",
       "ELET3 BS Equity     6.5\n",
       "ELET6 BS Equity     6.5\n",
       "EMBR3 BS Equity     6.5\n",
       "ENGI11 BS Equity    6.5\n",
       "GGBR4 BS Equity     5.5\n",
       "HYPE3 BS Equity     6.5\n",
       "JBSS3 BS Equity     5.5\n",
       "KLBN11 BS Equity    6.5\n",
       "MOVI3 BS Equity     6.5\n",
       "MRFG3 BS Equity     6.5\n",
       "NTCO3 BS Equity     6.5\n",
       "PETR3 BS Equity     6.5\n",
       "PETR4 BS Equity     6.5\n",
       "PRIO3 BS Equity     6.5\n",
       "RAIL3 BS Equity     6.5\n",
       "RAIZ4 BS Equity     5.5\n",
       "RDOR3 BS Equity     6.5\n",
       "RENT3 BS Equity     6.5\n",
       "RRRP3 BS Equity     7.5\n",
       "SBSP3 BS Equity     6.5\n",
       "SMTO3 BS Equity     5.5\n",
       "SUZB3 BS Equity     5.5\n",
       "UGPA3 BS Equity     6.5\n",
       "USIM5 BS Equity     6.5\n",
       "VALE3 BS Equity     5.5\n",
       "VAMO3 BS Equity     6.5\n",
       "VBBR3 BS Equity     6.5\n",
       "Name: numeric_rating, dtype: float64"
      ]
     },
     "execution_count": 189,
     "metadata": {},
     "output_type": "execute_result"
    }
   ],
   "source": [
    "y_true"
   ]
  },
  {
   "cell_type": "code",
   "execution_count": 186,
   "id": "04ae14a8-94be-4f3a-8935-291744dcd835",
   "metadata": {
    "tags": []
   },
   "outputs": [],
   "source": [
    "from sklearn.metrics import mean_squared_error"
   ]
  },
  {
   "cell_type": "code",
   "execution_count": 190,
   "id": "0970dfda-e8ce-469a-b73e-ed264c895116",
   "metadata": {
    "tags": []
   },
   "outputs": [
    {
     "data": {
      "text/plain": [
       "4.37265306122449"
      ]
     },
     "execution_count": 190,
     "metadata": {},
     "output_type": "execute_result"
    }
   ],
   "source": [
    "mean_squared_error(y_true, yhat)"
   ]
  },
  {
   "cell_type": "code",
   "execution_count": null,
   "id": "3b30833b-c969-41b7-b5a5-7eab16c408fb",
   "metadata": {},
   "outputs": [],
   "source": []
  },
  {
   "cell_type": "code",
   "execution_count": 137,
   "id": "5e5ca3f7-e021-4929-b060-24630555470a",
   "metadata": {
    "tags": []
   },
   "outputs": [],
   "source": [
    "X = pd.DataFrame(ra).T.loc[y_true.index].values"
   ]
  },
  {
   "cell_type": "code",
   "execution_count": 146,
   "id": "a3a10d87-32ea-40b8-bbc7-8c09a27c566c",
   "metadata": {
    "tags": []
   },
   "outputs": [],
   "source": [
    "from sklearn.metrics import mean_absolute_percentage_error, mean_absolute_error"
   ]
  },
  {
   "cell_type": "code",
   "execution_count": 192,
   "id": "bf006460-b728-4109-83a7-0ccc2cc11292",
   "metadata": {
    "tags": []
   },
   "outputs": [
    {
     "name": "stdout",
     "output_type": "stream",
     "text": [
      " message: Rank-deficient equality constraint subproblem HFTI\n",
      " success: False\n",
      "  status: 7\n",
      "     fun: -2.6359436323636383e+18\n",
      "       x: [ 6.363e+15  7.779e+16 -1.273e+16 -1.273e+16 -3.143e+16\n",
      "           -2.727e+16]\n",
      "     nit: 68\n",
      "     jac: [-3.096e+00 -3.421e+01 -5.853e-01 -9.975e-01 -6.788e-01\n",
      "           -1.169e-01]\n",
      "    nfev: 535\n",
      "    njev: 68\n",
      "Optimal weights: [ 6.36277822e+15  7.77927332e+16 -1.27255686e+16 -1.27255576e+16\n",
      " -3.14346704e+16 -2.72697153e+16]\n"
     ]
    }
   ],
   "source": [
    "import numpy as np\n",
    "from scipy.optimize import minimize\n",
    "\n",
    "def optimize_weights(X, y):\n",
    "    \n",
    "    def error_function(weights):\n",
    "        predicted_y = np.dot(X, weights)\n",
    "        error = np.mean((predicted_y - y) ** 2)  # Mean Squared Error\n",
    "        return -mean_absolute_percentage_error(y, predicted_y)\n",
    "    \n",
    "    bounds = [(None, 1)] * X.shape[1]\n",
    "    constraint = {'type': 'eq', 'fun': lambda weights: np.sum(weights) - 1}\n",
    "    result = minimize(error_function, np.ones(X.shape[1]), constraints=constraint)\n",
    "\n",
    "    # Extract the optimal weights\n",
    "    optimal_weights = result.x\n",
    "    print(result)\n",
    "    return optimal_weights\n",
    "\n",
    "# Obtain optimal weights\n",
    "optimal_weights = optimize_weights(X, y_true)\n",
    "print(\"Optimal weights:\", optimal_weights)\n"
   ]
  },
  {
   "cell_type": "code",
   "execution_count": 193,
   "id": "1338e62a-7ad8-4811-825b-14e120ca02e7",
   "metadata": {
    "tags": []
   },
   "outputs": [
    {
     "data": {
      "text/plain": [
       "array([ 6.36277822e+15,  7.77927332e+16, -1.27255686e+16, -1.27255576e+16,\n",
       "       -3.14346704e+16, -2.72697153e+16])"
      ]
     },
     "execution_count": 193,
     "metadata": {},
     "output_type": "execute_result"
    }
   ],
   "source": [
    "optimal_weights"
   ]
  },
  {
   "cell_type": "code",
   "execution_count": 171,
   "id": "83c81cfd-6054-4d80-9c4f-7f479542cd4e",
   "metadata": {
    "tags": []
   },
   "outputs": [
    {
     "name": "stdout",
     "output_type": "stream",
     "text": [
      "-0.3148423265868361\n",
      "[0.27923243 0.72076757]\n"
     ]
    }
   ],
   "source": [
    "a = optimal_weights[4:]\n",
    "print(a.sum())\n",
    "a /= a.sum()\n",
    "print(a)"
   ]
  },
  {
   "cell_type": "code",
   "execution_count": 172,
   "id": "6231d69f-68ac-44c0-9f57-39cdf799270e",
   "metadata": {
    "tags": []
   },
   "outputs": [
    {
     "data": {
      "text/plain": [
       "array([0.27923243, 0.72076757])"
      ]
     },
     "execution_count": 172,
     "metadata": {},
     "output_type": "execute_result"
    }
   ],
   "source": [
    "a"
   ]
  },
  {
   "cell_type": "code",
   "execution_count": null,
   "id": "738650af-21e3-4abc-b2b7-375ee25e703b",
   "metadata": {},
   "outputs": [],
   "source": []
  },
  {
   "cell_type": "code",
   "execution_count": 123,
   "id": "bc1b9a8e-259e-4224-b608-2bc16e443d17",
   "metadata": {
    "tags": []
   },
   "outputs": [],
   "source": [
    "import numpy as np\n",
    "\n",
    "def compute_error(X, y, w):\n",
    "    y_pred = np.dot(X, w)\n",
    "    error = np.mean((y_pred - y) ** 2)\n",
    "    return error\n",
    "\n",
    "def gradient_descent(X, y, learning_rate=0.01, epochs=1000):\n",
    "    num_features = X.shape[1]\n",
    "    w = np.random.randn(num_features) # initialize weights randomly\n",
    "    for _ in range(epochs):\n",
    "        y_pred = np.dot(X, w)\n",
    "        error = compute_error(X, y, w)\n",
    "        gradient = 2 * np.dot(X.T, (y_pred - y)) / len(y)\n",
    "        w -= learning_rate * gradient\n",
    "    return w\n",
    "\n",
    "# Example usage:\n",
    "# X is the feature matrix, y is the target vector\n",
    "# Make sure X has shape (num_samples, num_features) and y has shape (num_samples,)\n",
    "# Call gradient_descent function to get optimized weights"
   ]
  },
  {
   "cell_type": "code",
   "execution_count": 124,
   "id": "90d12ce3-5efb-45b3-8a73-566f0b7985c2",
   "metadata": {
    "tags": []
   },
   "outputs": [
    {
     "name": "stderr",
     "output_type": "stream",
     "text": [
      "C:\\Users\\Thabang Ndhlovu\\AppData\\Local\\Temp\\ipykernel_11132\\538052255.py:15: RuntimeWarning: invalid value encountered in subtract\n",
      "  w -= learning_rate * gradient\n"
     ]
    }
   ],
   "source": [
    "optimized_weights = gradient_descent(X, y_true)\n"
   ]
  },
  {
   "cell_type": "code",
   "execution_count": 125,
   "id": "c52c1663-ca1f-43cb-a1c3-4904a70265a9",
   "metadata": {
    "tags": []
   },
   "outputs": [
    {
     "data": {
      "text/plain": [
       "array([nan, nan, nan, nan, nan, nan])"
      ]
     },
     "execution_count": 125,
     "metadata": {},
     "output_type": "execute_result"
    }
   ],
   "source": [
    "optimized_weights"
   ]
  },
  {
   "cell_type": "code",
   "execution_count": null,
   "id": "504299dd-0515-47da-8394-daef6db9e45e",
   "metadata": {},
   "outputs": [],
   "source": []
  }
 ],
 "metadata": {
  "kernelspec": {
   "display_name": "Python 3 (ipykernel)",
   "language": "python",
   "name": "python3"
  },
  "language_info": {
   "codemirror_mode": {
    "name": "ipython",
    "version": 3
   },
   "file_extension": ".py",
   "mimetype": "text/x-python",
   "name": "python",
   "nbconvert_exporter": "python",
   "pygments_lexer": "ipython3",
   "version": "3.11.5"
  }
 },
 "nbformat": 4,
 "nbformat_minor": 5
}
