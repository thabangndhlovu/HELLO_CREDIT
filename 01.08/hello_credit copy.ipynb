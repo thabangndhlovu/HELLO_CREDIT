{
 "cells": [
  {
   "cell_type": "markdown",
   "id": "e5bebd14-5939-4228-9449-e42827616343",
   "metadata": {},
   "source": [
    "# **Predictive Default Risk Assessor V.01**"
   ]
  },
  {
   "cell_type": "markdown",
   "id": "aa758ff1-aff3-4718-a6b6-2bf4aa81d71f",
   "metadata": {},
   "source": [
    "# TODO\n",
    "\n",
    "* Base model \n",
    "* Comparison\n",
    "* Specialised\n",
    "* For small entities - Examples?\n",
    "* Backtest - All sectors \n",
    "* Understanding the model across all sectors/industries\n",
    "* Any markets - consumer goods, industries\n",
    "* UI last step after backtesting"
   ]
  },
  {
   "cell_type": "code",
   "execution_count": 1,
   "id": "cebbf57d-65db-4819-98a2-b2ab40d50e03",
   "metadata": {
    "tags": []
   },
   "outputs": [],
   "source": [
    "import json\n",
    "\n",
    "import numpy as np\n",
    "import pandas as pd\n",
    "\n",
    "from collections import namedtuple\n",
    "from sklearn.metrics import mean_squared_error, root_mean_squared_error, accuracy_score, mean_absolute_percentage_error\n",
    "from dataclasses import dataclass\n",
    "from quantstats import * \n",
    "from hellocredit import *\n",
    "from hellocredit.utils import get_rating_meta\n",
    "extend_pandas()"
   ]
  },
  {
   "cell_type": "code",
   "execution_count": 4,
   "id": "229b8b63-a7c9-4d62-b2cd-f71f910f9a20",
   "metadata": {
    "tags": []
   },
   "outputs": [
    {
     "data": {
      "text/plain": [
       "{'score_range': 4.5,\n",
       " 'rating': 'A',\n",
       " 'description': 'Issuers assessed A are judged to have upper-medium-grade intrinsic, or standalone, financial strength, and thus subject to low credit risk absent any possibility of extraordinary support from an affiliate or a government.',\n",
       " 'probability_of_default': 0.1}"
      ]
     },
     "execution_count": 4,
     "metadata": {},
     "output_type": "execute_result"
    }
   ],
   "source": [
    "get_rating_meta(\"Rating\", \"A\")"
   ]
  },
  {
   "cell_type": "code",
   "execution_count": null,
   "id": "3b74aae9-fcbd-4f40-b480-7ac2aac6bef6",
   "metadata": {},
   "outputs": [],
   "source": []
  },
  {
   "cell_type": "code",
   "execution_count": null,
   "id": "1666fdf2-3865-44a4-9d35-55a0f12e3bb0",
   "metadata": {},
   "outputs": [],
   "source": []
  },
  {
   "cell_type": "code",
   "execution_count": 2,
   "id": "0a52072a",
   "metadata": {
    "tags": []
   },
   "outputs": [],
   "source": [
    "MAPPED_RATINGS = [\n",
    "    (\"Aaa\", 2.5),\n",
    "    (\"Aa\", 3.5),\n",
    "    (\"A\", 4.5),\n",
    "    (\"Baa\", 5.5),\n",
    "    (\"Ba\", 6.5),\n",
    "    (\"B\", 7.5),\n",
    "    (\"Caa\", 8.5),\n",
    "    (\"Ca\", 9.5),\n",
    "    (\"C\", float(\"inf\")),\n",
    "]"
   ]
  },
  {
   "cell_type": "code",
   "execution_count": 3,
   "id": "d58d8035-78d1-4781-a16e-f18189d710e6",
   "metadata": {
    "tags": []
   },
   "outputs": [],
   "source": [
    "with open(\"metrics.json\", \"r\") as f:\n",
    "    metrics = json.load(f)"
   ]
  },
  {
   "cell_type": "code",
   "execution_count": 28,
   "id": "ddcf4d00-63ef-4711-8b07-b2a2892b6a69",
   "metadata": {
    "tags": []
   },
   "outputs": [],
   "source": [
    "nested_dict = get_expected_metrics(get_nested_dict(\"creditwatch_large_company_template.xlsx\"))"
   ]
  },
  {
   "cell_type": "code",
   "execution_count": 29,
   "id": "63c97672-8e7f-457b-bcf3-9f3c783badb8",
   "metadata": {
    "tags": []
   },
   "outputs": [],
   "source": [
    "def calculate_credit_rating(metrics, ratios):\n",
    "    calculation_details = {\"metrics\": {}}\n",
    "\n",
    "    def determine_credit_rating(score):\n",
    "        for rating, threshold in MAPPED_RATINGS:\n",
    "            if score <= threshold:\n",
    "                return rating\n",
    "        return len(MAPPED_RATINGS) // 2  # Return the middile rating if no threshold is met\n",
    "\n",
    "    def calculate_metric_score(value, thresholds, lower_is_better):\n",
    "        for score, (lower, upper) in enumerate(thresholds, start=1):\n",
    "            if lower_is_better and value <= upper or not lower_is_better and value >= lower:\n",
    "                return score\n",
    "        return len(thresholds) // 2\n",
    "\n",
    "    def calculate_category_score(category, category_data):\n",
    "        category_ratios = ratios[category]\n",
    "        metric_weights = category_data[\"metric_weights\"]\n",
    "        total_weighted_score = 0\n",
    "\n",
    "        for metric_name, metric_data in category_data[\"metrics\"].items():\n",
    "            value = category_ratios[metric_name]\n",
    "            score = calculate_metric_score(value, metric_data[\"thresholds\"], metric_data[\"lower_is_better\"])\n",
    "            \n",
    "            weight = metric_weights[metric_name]\n",
    "            weighted_score = score * weight\n",
    "            \n",
    "            rating = determine_credit_rating(score)\n",
    "            total_weighted_score += weighted_score\n",
    "            calculation_details[\"metrics\"][metric_name] = {\n",
    "                \"category\": category,\n",
    "                \"value\": value,\n",
    "                \"score\": score,\n",
    "                \"weight\": weight,\n",
    "                \"weighted_score\": weighted_score,\n",
    "                \"rating\": rating,\n",
    "            }\n",
    "        return total_weighted_score\n",
    "\n",
    "    scores = {category: calculate_category_score(category, category_data)\n",
    "              for category, category_data in metrics.items()}\n",
    "\n",
    "    total_weighted_score = sum(\n",
    "        scores[category] * category_data[\"class_weight\"]\n",
    "        for category, category_data in metrics.items()\n",
    "    )\n",
    "    total_weight = sum(category_data[\"class_weight\"] for category_data in metrics.values())\n",
    "    credit_score = total_weighted_score / total_weight\n",
    "    credit_rating = determine_credit_rating(credit_score)\n",
    "\n",
    "    calculation_details.update({\n",
    "        \"scores\": scores,\n",
    "        \"credit_score\": credit_score,\n",
    "        \"credit_rating\": credit_rating,\n",
    "    })\n",
    "    \n",
    "    return calculation_details"
   ]
  },
  {
   "cell_type": "code",
   "execution_count": null,
   "id": "894c4a17-c3ac-469d-9d38-3227714cec24",
   "metadata": {},
   "outputs": [],
   "source": []
  },
  {
   "cell_type": "code",
   "execution_count": null,
   "id": "bdefd8f6-e659-4843-acc7-0bcb31789440",
   "metadata": {
    "tags": []
   },
   "outputs": [],
   "source": [
    "p = calculate_credit_rating(metrics, nested_dict)"
   ]
  },
  {
   "cell_type": "code",
   "execution_count": 5,
   "id": "d43aff10-e89c-4cc7-8705-046f31760739",
   "metadata": {
    "jupyter": {
     "source_hidden": true
    },
    "tags": []
   },
   "outputs": [],
   "source": [
    "def get_expected_metrics(data, n=100):\n",
    "    return {\n",
    "        category: {metric: sum(values[-n:]) / min(len(values), n) \n",
    "                   for metric, values in metrics.items()}\n",
    "        for category, metrics in data.items()\n",
    "    }\n",
    "\n",
    "\n",
    "def get_nested_dict(data):\n",
    "    nested_dict = {}\n",
    "\n",
    "    for (category, metric), values in data.iterrows():\n",
    "        if category not in nested_dict:\n",
    "            nested_dict[category] = {}\n",
    "        nested_dict[category][metric] = values.tolist()\n",
    "\n",
    "    return nested_dict\n",
    "\n",
    "\n",
    "def get_nested_dict(file_path):\n",
    "    \n",
    "    data = pd.read_excel(file_path, index_col=[0, 1])\n",
    "    nested_dict = {}\n",
    "\n",
    "    for (category, metric), values in data.iterrows():\n",
    "        if category not in nested_dict:\n",
    "            nested_dict[category] = {}\n",
    "        nested_dict[category][metric] = values.tolist()\n",
    "\n",
    "    return nested_dict\n",
    "\n",
    "\n",
    "def get_period_metrics(data):\n",
    "    n = len(data['leverage_coverage_metrics']['debt_to_equity'])\n",
    "    return {\n",
    "        i: {\n",
    "            category: {metric: values[i] \n",
    "            for metric, values in metrics.items()}\n",
    "            for category, metrics in data.items()\n",
    "        }\n",
    "        for i in range(n)\n",
    "    }\n",
    "\n",
    "def bayesian_ridge_transform(data):\n",
    "    list_length = len(next(iter(next(iter(data.values())).values())))\n",
    "    return [\n",
    "        {\n",
    "            category: {\n",
    "                metric: values[i] for metric, values in metrics.items()\n",
    "            } for category, metrics in data.items()\n",
    "        } for i in range(list_length)\n",
    "    ]\n",
    "\n",
    "\n",
    "def bayesian_ridge_model(metrics, periods=1, look_back_periods=5, max_iter=300, tol=1e-3):\n",
    "    import numpy as np\n",
    "    from sklearn.linear_model import BayesianRidge\n",
    "\n",
    "    predictions = {}\n",
    "    \n",
    "    for metric_group, values_dict in metrics.items():\n",
    "        predictions[metric_group] = {}\n",
    "        for metric, values in values_dict.items():\n",
    "            X = np.arange(len(values)).reshape(-1, 1)\n",
    "            \n",
    "            model = BayesianRidge(max_iter=max_iter, tol=tol).fit(X, values)\n",
    "            \n",
    "            next_periods = np.arange(len(values), len(values) + periods).reshape(-1, 1)\n",
    "            predictions[metric_group][metric] = model.predict(next_periods).tolist() if periods > 0 else list(values)\n",
    "    return predictions\n",
    "\n",
    "\n",
    "\n",
    "def bayesian_ridge_model(metrics, periods=1, look_back_periods=5, max_iter=300, tol=1e-3):\n",
    "    import numpy as np\n",
    "    from sklearn.linear_model import BayesianRidge\n",
    "    predictions = {}\n",
    "    periods, look_back_periods = abs(periods), abs(look_back_periods)\n",
    "    \n",
    "    for metric_group, values_dict in metrics.items():\n",
    "        predictions[metric_group] = {}\n",
    "        for metric, values in values_dict.items():\n",
    "            \n",
    "            recent_values = values[-look_back_periods:]\n",
    "            X = np.arange(len(recent_values)).reshape(-1, 1)\n",
    "            \n",
    "            model = BayesianRidge(max_iter=max_iter, tol=tol).fit(X, recent_values)\n",
    "            \n",
    "            next_periods = np.arange(look_back_periods, look_back_periods + periods).reshape(-1, 1)\n",
    "            predictions[metric_group][metric] = model.predict(next_periods).tolist() if periods > 0 else list(recent_values)\n",
    "    return predictions"
   ]
  },
  {
   "cell_type": "code",
   "execution_count": 47,
   "id": "84d35f00-9b43-463d-a238-1d5e9e2a530d",
   "metadata": {
    "tags": []
   },
   "outputs": [
    {
     "data": {
      "text/plain": [
       "{'metrics': {'ebitda_margin': {'category': 'profitability_metrics',\n",
       "   'value': 11.411927777777777,\n",
       "   'score': 7,\n",
       "   'weight': 1.0,\n",
       "   'weighted_score': 7.0,\n",
       "   'rating': 'B'},\n",
       "  'debt_to_equity': {'category': 'leverage_coverage_metrics',\n",
       "   'value': 0.8838269444444443,\n",
       "   'score': 4,\n",
       "   'weight': 0.2,\n",
       "   'weighted_score': 0.8,\n",
       "   'rating': 'A'},\n",
       "  'debt_to_ebitda': {'category': 'leverage_coverage_metrics',\n",
       "   'value': 7.239883333333332,\n",
       "   'score': 7,\n",
       "   'weight': 0.4,\n",
       "   'weighted_score': 2.8000000000000003,\n",
       "   'rating': 'B'},\n",
       "  'ebitda_to_interest_expense': {'category': 'leverage_coverage_metrics',\n",
       "   'value': 4.300255555555556,\n",
       "   'score': 5,\n",
       "   'weight': 0.4,\n",
       "   'weighted_score': 2.0,\n",
       "   'rating': 'Baa'},\n",
       "  'asset_turnover': {'category': 'efficiency_metrics',\n",
       "   'value': 0.8485388888888887,\n",
       "   'score': 8,\n",
       "   'weight': 1.0,\n",
       "   'weighted_score': 8.0,\n",
       "   'rating': 'Caa'}},\n",
       " 'scores': {'profitability_metrics': 7.0,\n",
       "  'leverage_coverage_metrics': 5.6000000000000005,\n",
       "  'efficiency_metrics': 8.0},\n",
       " 'credit_score': 6.666666666666667,\n",
       " 'credit_rating': 'B'}"
      ]
     },
     "execution_count": 47,
     "metadata": {},
     "output_type": "execute_result"
    }
   ],
   "source": [
    "calculate_credit_rating(configuration, nested_dict)"
   ]
  },
  {
   "cell_type": "code",
   "execution_count": null,
   "id": "3d7255a3-559f-492e-9221-769034d3bf55",
   "metadata": {},
   "outputs": [],
   "source": []
  },
  {
   "cell_type": "code",
   "execution_count": 39,
   "id": "1570ae8c-cf89-4981-b1c7-1396f0af8fde",
   "metadata": {
    "tags": []
   },
   "outputs": [
    {
     "data": {
      "text/plain": [
       "{'leverage_coverage_metrics': {'debt_to_equity': 0.8838269444444443,\n",
       "  'debt_to_ebitda': 7.239883333333332,\n",
       "  'ebitda_to_interest_expense': 4.300255555555556},\n",
       " 'efficiency_metrics': {'asset_turnover': 0.8485388888888887},\n",
       " 'profitability_metrics': {'ebitda_margin': 11.411927777777777}}"
      ]
     },
     "execution_count": 39,
     "metadata": {},
     "output_type": "execute_result"
    }
   ],
   "source": [
    "nested_dict"
   ]
  },
  {
   "cell_type": "code",
   "execution_count": 41,
   "id": "6ee93e71-8f3f-4e94-96e7-b76c78f01865",
   "metadata": {
    "tags": []
   },
   "outputs": [
    {
     "data": {
      "text/plain": [
       "{'class_weight': 20,\n",
       " 'metric_weights': {'ebitda_margin': 0.4,\n",
       "  'total_assets': 0.3,\n",
       "  'sales_growth': 0.3},\n",
       " 'metrics': {'ebitda_margin': {'lower_is_better': False,\n",
       "   'thresholds': [[40.0, inf],\n",
       "    [35.0, 40.0],\n",
       "    [30.0, 35.0],\n",
       "    [25.0, 30.0],\n",
       "    [20.0, 25.0],\n",
       "    [15.0, 20.0],\n",
       "    [10.0, 15.0],\n",
       "    [5.0, 10.0],\n",
       "    [-inf, 5.0]]},\n",
       "  'total_assets': {'lower_is_better': False,\n",
       "   'thresholds': [[500000000, inf],\n",
       "    [100000000, 500000000],\n",
       "    [50000000, 100000000],\n",
       "    [10000000, 50000000],\n",
       "    [5000000, 10000000],\n",
       "    [1000000, 5000000],\n",
       "    [500000, 1000000],\n",
       "    [100000, 500000],\n",
       "    [-inf, 100000]]},\n",
       "  'sales_growth': {'lower_is_better': False,\n",
       "   'thresholds': [[40.0, inf],\n",
       "    [30.0, 40.0],\n",
       "    [25.0, 30.0],\n",
       "    [20.0, 25.0],\n",
       "    [15.0, 20.0],\n",
       "    [10.0, 15.0],\n",
       "    [5.0, 10.0],\n",
       "    [0.0, 5.0],\n",
       "    [-inf, 0.0]]}}}"
      ]
     },
     "execution_count": 41,
     "metadata": {},
     "output_type": "execute_result"
    }
   ],
   "source": [
    "configuration['profitability_metrics']"
   ]
  },
  {
   "cell_type": "code",
   "execution_count": 33,
   "id": "52d1d638-a5a2-47e3-bbe3-7433f282fe9b",
   "metadata": {
    "tags": []
   },
   "outputs": [
    {
     "data": {
      "text/plain": [
       "dict_keys(['profitability_metrics', 'leverage_coverage_metrics', 'efficiency_metrics'])"
      ]
     },
     "execution_count": 33,
     "metadata": {},
     "output_type": "execute_result"
    }
   ],
   "source": [
    "configuration.keys()"
   ]
  },
  {
   "cell_type": "code",
   "execution_count": 34,
   "id": "633b0eed-268c-497d-9e93-422e0eaa238c",
   "metadata": {
    "tags": []
   },
   "outputs": [
    {
     "data": {
      "text/plain": [
       "{'asset_turnover': 0.5,\n",
       " 'inventory_to_cost_of_sales': 0.3,\n",
       " 'cash_to_assets': 0.2}"
      ]
     },
     "execution_count": 34,
     "metadata": {},
     "output_type": "execute_result"
    }
   ],
   "source": [
    "configuration['efficiency_metrics']['metric_weights']"
   ]
  },
  {
   "cell_type": "code",
   "execution_count": null,
   "id": "14974268-04fc-47a6-9bb0-a0ac9ed523b7",
   "metadata": {},
   "outputs": [],
   "source": []
  },
  {
   "cell_type": "code",
   "execution_count": null,
   "id": "ae4d7970-f0de-4af5-91de-a889ae431efa",
   "metadata": {},
   "outputs": [],
   "source": []
  },
  {
   "cell_type": "code",
   "execution_count": null,
   "id": "c2218918-b57a-424e-b767-76c093bea682",
   "metadata": {},
   "outputs": [],
   "source": []
  },
  {
   "cell_type": "code",
   "execution_count": 5,
   "id": "578a1241-1d33-4ac3-b2b7-a0b1fa7370c8",
   "metadata": {
    "tags": []
   },
   "outputs": [],
   "source": [
    "rating_description_dict = {\n",
    "    \"Aaa\": \"Issuers assessed Aaa are judged to have the highest intrinsic, or standalone, financial strength, and thus subject to the lowest level of credit risk absent any possibility of extraordinary support from an affiliate or a government.\",\n",
    "    \"Aa\": \"Issuers assessed Aa are judged to have high intrinsic, or standalone, financial strength, and thus subject to very low credit risk absent any possibility of extraordinary support from an affiliate or a government.\",\n",
    "    \"A\": \"Issuers assessed A are judged to have upper-medium-grade intrinsic, or standalone, financial strength, and thus subject to low credit risk absent any possibility of extraordinary support from an affiliate or a government.\",\n",
    "    \"Baa\": \"Issuers assessed Baa are judged to have medium-grade intrinsic, or standalone, financial strength, and thus subject to moderate credit risk and, as such, may possess certain speculative credit elements absent any possibility of extraordinary support from an affiliate or a government.\",\n",
    "    \"Ba\": \"Issuers assessed Ba are judged to have speculative intrinsic, or standalone, financial strength, and are subject to substantial credit risk absent any possibility of extraordinary support from an affiliate or a government.\",\n",
    "    \"B\": \"Issuers assessed B are judged to have speculative intrinsic, or standalone, financial strength, and are subject to high credit risk absent any possibility of extraordinary support from an affiliate or a government.\",\n",
    "    \"Caa\": \"Issuers assessed Caa are judged to have speculative intrinsic, or standalone, financial strength, and are subject to very high credit risk absent any possibility of extraordinary support from an affiliate or a government.\",\n",
    "    \"Ca\": \"Issuers assessed Ca have highly speculative intrinsic, or standalone, financial strength, and are likely to be either in, or very near, default, with some prospect for recovery of principal and interest; or, these issuers have avoided default or are expected to avoid default through the provision of extraordinary support from an affiliate or a government.\",\n",
    "    \"C\": \"Issuers assessed C are typically in default, with little prospect for recovery of principal or interest; or, these issuers are benefiting from a government or affiliate support but are likely to be liquidated over time; without support there would be little prospect for recovery of principal or interest.\"\n",
    "}"
   ]
  },
  {
   "cell_type": "code",
   "execution_count": null,
   "id": "40b8b986-fa47-4c0f-83da-bbac4ed1423c",
   "metadata": {},
   "outputs": [],
   "source": []
  },
  {
   "cell_type": "code",
   "execution_count": 6,
   "id": "ec8832ba-a3e7-4152-8389-8a3a972d46ad",
   "metadata": {
    "tags": []
   },
   "outputs": [],
   "source": [
    "MAPPED_RATINGS = [\n",
    "    (\"Aaa\", 2.5),\n",
    "    (\"Aa\", 3.5),\n",
    "    (\"A\", 4.5),\n",
    "    (\"Baa\", 5.5),\n",
    "    (\"Ba\", 6.5),\n",
    "    (\"B\", 7.5),\n",
    "    (\"Caa\", 8.5),\n",
    "    (\"Ca\", 9.5),\n",
    "    (\"C\", float(\"inf\")),\n",
    "]\n",
    "\n"
   ]
  },
  {
   "cell_type": "code",
   "execution_count": 7,
   "id": "13f5bf9f-c47d-44e4-a3b2-cdbb09e67d4a",
   "metadata": {
    "tags": []
   },
   "outputs": [
    {
     "name": "stdout",
     "output_type": "stream",
     "text": [
      "{'score_range': 9.5, 'rating': 'C', 'description': 'Issuers assessed C are typically in default, with little prospect for recovery of principal or interest; or, these issuers are benefiting from a government or affiliate support but are likely to be liquidated over time; without support there would be little prospect for recovery of principal or interest.', 'probability_of_default': 100.0}\n"
     ]
    }
   ],
   "source": [
    "RATING_META = {\n",
    "    \"Score Range\": [\"≤ 2.5\", \"≤ 3.5\", \"≤ 4.5\", \"≤ 5.5\", \"≤ 6.5\", \"≤ 7.5\", \"≤ 8.5\", \"≤ 9.5\", \"> 9.5\"],\n",
    "    \"Rating\": [\"Aaa\", \"Aa\", \"A\", \"Baa\", \"Ba\", \"B\", \"Caa\", \"Ca\", \"C\"],\n",
    "    \"Description\": [\n",
    "        \"Issuers assessed Aaa are judged to have the highest intrinsic, or standalone, financial strength, and thus subject to the lowest level of credit risk absent any possibility of extraordinary support from an affiliate or a government.\",\n",
    "        \"Issuers assessed Aa are judged to have high intrinsic, or standalone, financial strength, and thus subject to very low credit risk absent any possibility of extraordinary support from an affiliate or a government.\",\n",
    "        \"Issuers assessed A are judged to have upper-medium-grade intrinsic, or standalone, financial strength, and thus subject to low credit risk absent any possibility of extraordinary support from an affiliate or a government.\",\n",
    "        \"Issuers assessed Baa are judged to have medium-grade intrinsic, or standalone, financial strength, and thus subject to moderate credit risk and, as such, may possess certain speculative credit elements absent any possibility of extraordinary support from an affiliate or a government.\",\n",
    "        \"Issuers assessed Ba are judged to have speculative intrinsic, or standalone, financial strength, and are subject to substantial credit risk absent any possibility of extraordinary support from an affiliate or a government.\",\n",
    "        \"Issuers assessed B are judged to have speculative intrinsic, or standalone, financial strength, and are subject to high credit risk absent any possibility of extraordinary support from an affiliate or a government.\",\n",
    "        \"Issuers assessed Caa are judged to have speculative intrinsic, or standalone, financial strength, and are subject to very high credit risk absent any possibility of extraordinary support from an affiliate or a government.\",\n",
    "        \"Issuers assessed Ca have highly speculative intrinsic, or standalone, financial strength, and are likely to be either in, or very near, default, with some prospect for recovery of principal and interest; or, these issuers have avoided default or are expected to avoid default through the provision of extraordinary support from an affiliate or a government.\",\n",
    "        \"Issuers assessed C are typically in default, with little prospect for recovery of principal or interest; or, these issuers are benefiting from a government or affiliate support but are likely to be liquidated over time; without support there would be little prospect for recovery of principal or interest.\"\n",
    "    ],\n",
    "    \"Probability of Default\": [\"0.00%\", \"0.01%\", \"0.10%\", \"0.46%\", \"2.31%\", \"7.62%\", \"17.86%\", \"50.00%\", \"100.00%\"]\n",
    "}\n",
    "\n",
    "def get_rating_meta(rating):\n",
    "\n",
    "    index = RATING_META[\"Rating\"].index(rating)\n",
    "    result = {}\n",
    "    for key, value in RATING_META.items():\n",
    "        formatted_key = key.lower().replace(' ', '_')\n",
    "        \n",
    "        if key == \"Probability of Default\":\n",
    "            result[formatted_key] = float(value[index].rstrip('%'))\n",
    "        elif key == \"Score Range\":\n",
    "            score_str = value[index].replace('≤', '').replace('>', '').strip()\n",
    "            result[formatted_key] = float(score_str)\n",
    "        else:\n",
    "            result[formatted_key] = value[index]\n",
    "\n",
    "    return result\n",
    "\n",
    "# Example usage\n",
    "target_rating = \"C\"  # Using \"C\" to test the '> 9.5' case\n",
    "result = get_rating_meta(target_rating)\n",
    "print(result)"
   ]
  },
  {
   "cell_type": "code",
   "execution_count": null,
   "id": "71e173c6-ec8f-4c36-9c9e-74147f541e22",
   "metadata": {
    "tags": []
   },
   "outputs": [],
   "source": []
  },
  {
   "cell_type": "code",
   "execution_count": 8,
   "id": "6a43186a-a5eb-4385-9d67-f435e10fa10b",
   "metadata": {
    "tags": []
   },
   "outputs": [],
   "source": [
    "def load_config(company_sector, company_size):\n",
    "    sector = company_sector.lower()\n",
    "    file_path = \"metrics_large.json\" if sector == \"large\" else \"metrics.json\"\n",
    "    \n",
    "    with open(file_path, \"r\") as f:\n",
    "        return json.load(f)"
   ]
  },
  {
   "cell_type": "code",
   "execution_count": 9,
   "id": "35d01c07-0077-4fc9-9062-cb5e995e5010",
   "metadata": {
    "tags": []
   },
   "outputs": [],
   "source": [
    "configuration = json.load(open(\"metrics_large.json\", \"r\"))"
   ]
  },
  {
   "cell_type": "code",
   "execution_count": null,
   "id": "2f97e2d8-b6e1-4c1c-9b2c-ef4cff5b52a7",
   "metadata": {},
   "outputs": [],
   "source": []
  },
  {
   "cell_type": "code",
   "execution_count": 39,
   "id": "7bdfc003-9b50-48de-8958-0e8d2b85630b",
   "metadata": {
    "tags": []
   },
   "outputs": [],
   "source": [
    "company_name = \"Banana Capital Ltd\"\n",
    "company_sector = \"Corporates\"\n",
    "company_size = \"Small\"\n",
    "excel_file_path = \"creditwatch_small_medium_company_template.xlsx\"\n",
    "work_directory = r\"C:\\Users\\103763\\Projects\\HELLO_CREDIT\\temp\\9397831824fe4796\"\n",
    "\n",
    "configuration = load_config(company_sector, company_size)\n",
    "input_dict = {\n",
    "    \"work_directory\": work_directory,\n",
    "    \"file_path\": excel_file_path,\n",
    "    \"company_meta\": {\n",
    "        \"company_name\": company_name,\n",
    "        \"company_size\": company_size,\n",
    "        \"company_sector\": company_sector,\n",
    "    },\n",
    "    \"probabilistic_model\": {\n",
    "        \"periods\": 2, \n",
    "        \"look_back_periods\": 5, \n",
    "        \"max_iter\": 300, \n",
    "        \"tol\": 1e-3\n",
    "    },\n",
    "    \"configuration\": configuration\n",
    "}\n",
    "\n",
    "factor_weights = {\n",
    "    weight: input_dict[\"configuration\"].get(weight)[\"class_weight\"] \n",
    "    for weight in input_dict[\"configuration\"]\n",
    "}"
   ]
  },
  {
   "cell_type": "code",
   "execution_count": 32,
   "id": "dff6ec4d-67f9-472f-9a12-fe03ff7fc172",
   "metadata": {
    "tags": []
   },
   "outputs": [
    {
     "data": {
      "text/plain": [
       "{'profitability_metrics': 20,\n",
       " 'leverage_coverage_metrics': 25,\n",
       " 'efficiency_metrics': 15}"
      ]
     },
     "execution_count": 32,
     "metadata": {},
     "output_type": "execute_result"
    }
   ],
   "source": [
    "factor_weights"
   ]
  },
  {
   "cell_type": "code",
   "execution_count": 40,
   "id": "afcb36f3-ad66-4a64-b829-e8b2ce028c6d",
   "metadata": {
    "tags": []
   },
   "outputs": [],
   "source": [
    "nested_dict = get_nested_dict(input_dict[\"file_path\"])\n",
    "company_expected_metrics = get_expected_metrics(nested_dict)\n"
   ]
  },
  {
   "cell_type": "code",
   "execution_count": 43,
   "id": "c30e38b3-03e0-4af5-83f4-925fb7263434",
   "metadata": {
    "tags": []
   },
   "outputs": [
    {
     "data": {
      "text/plain": [
       "{'leverage_coverage_metrics': {'debt_to_equity': [0.694277,\n",
       "   0.5414800000000001,\n",
       "   0.513237,\n",
       "   0.582016,\n",
       "   0.51855,\n",
       "   0.17954699999999998,\n",
       "   0.851673,\n",
       "   0.654936,\n",
       "   0.6750069999999999,\n",
       "   0.705304,\n",
       "   0.6780240000000001,\n",
       "   0.7469750000000001,\n",
       "   0.7660009999999999,\n",
       "   0.7985859999999999,\n",
       "   0.733993,\n",
       "   0.351504,\n",
       "   1.346962,\n",
       "   4.570813,\n",
       "   16.209048,\n",
       "   5.61958175,\n",
       "   5.61958175,\n",
       "   5.61958175,\n",
       "   5.61958175],\n",
       "  'debt_to_ebitda': [3.3666,\n",
       "   2.9485,\n",
       "   2.4745,\n",
       "   2.2575,\n",
       "   1.9345,\n",
       "   0.74,\n",
       "   3.5469,\n",
       "   3.0054,\n",
       "   3.0252,\n",
       "   2.9993,\n",
       "   3.3896,\n",
       "   4.8311,\n",
       "   4.2058,\n",
       "   4.7332,\n",
       "   3.8616,\n",
       "   3.2351,\n",
       "   12.9589,\n",
       "   66.8042,\n",
       "   16.5446,\n",
       "   22.9234,\n",
       "   25.824099999999998,\n",
       "   25.944,\n",
       "   9.7695],\n",
       "  'ebitda_to_interest_expense': [3.8652,\n",
       "   4.8199,\n",
       "   7.0297,\n",
       "   6.4572,\n",
       "   6.4745,\n",
       "   5.7828,\n",
       "   4.5832,\n",
       "   3.6629,\n",
       "   3.7094,\n",
       "   3.0118,\n",
       "   3.0072,\n",
       "   3.0307,\n",
       "   3.9186,\n",
       "   4.3901,\n",
       "   5.2548,\n",
       "   6.1303,\n",
       "   1.8618,\n",
       "   0.4145,\n",
       "   1.5622,\n",
       "   0.4593,\n",
       "   -0.1847,\n",
       "   0.4896,\n",
       "   1.1713],\n",
       "  'debt_to_tangible_assets': [0.7093,\n",
       "   0.5483,\n",
       "   0.5706,\n",
       "   0.6252,\n",
       "   0.5656,\n",
       "   0.4165,\n",
       "   3.4809,\n",
       "   1.8991,\n",
       "   -36.8776,\n",
       "   8.1915,\n",
       "   3.2486,\n",
       "   -13.984,\n",
       "   -6.72,\n",
       "   -13.9618,\n",
       "   3.8491,\n",
       "   1.5973,\n",
       "   -1.5709,\n",
       "   -1.5101,\n",
       "   -1.5208,\n",
       "   -1.363,\n",
       "   -1.3286,\n",
       "   -1.2899,\n",
       "   -1.2007]},\n",
       " 'efficiency_metrics': {'asset_turnover': [1.1335,\n",
       "   1.0048,\n",
       "   1.1382,\n",
       "   1.098,\n",
       "   0.9175,\n",
       "   0.9943,\n",
       "   1.0671,\n",
       "   0.9852,\n",
       "   0.9539,\n",
       "   0.9111,\n",
       "   0.6345,\n",
       "   0.5445,\n",
       "   0.685,\n",
       "   0.6571,\n",
       "   0.639,\n",
       "   0.5305,\n",
       "   0.731,\n",
       "   0.6485,\n",
       "   0.6751,\n",
       "   0.5211,\n",
       "   0.5703,\n",
       "   0.6534,\n",
       "   0.7295],\n",
       "  'inventory_to_cost_of_sales': [16.1309,\n",
       "   14.1651,\n",
       "   13.5138,\n",
       "   8.9837,\n",
       "   12.7554,\n",
       "   15.4957,\n",
       "   10.5054,\n",
       "   10.0835,\n",
       "   12.3275,\n",
       "   9.3515,\n",
       "   12.7281,\n",
       "   20.4763,\n",
       "   18.0066,\n",
       "   16.7933,\n",
       "   15.7246,\n",
       "   19.8106,\n",
       "   16.0818,\n",
       "   20.4595,\n",
       "   18.8456,\n",
       "   26.3973,\n",
       "   15.8248,\n",
       "   15.936,\n",
       "   20.1974],\n",
       "  'cash_to_assets': [14.6341,\n",
       "   17.0031,\n",
       "   10.3288,\n",
       "   19.5497,\n",
       "   26.9635,\n",
       "   17.9734,\n",
       "   14.6078,\n",
       "   9.766,\n",
       "   8.3038,\n",
       "   8.6476,\n",
       "   8.7774,\n",
       "   6.2426,\n",
       "   6.0205,\n",
       "   5.6049,\n",
       "   8.0768,\n",
       "   12.0905,\n",
       "   3.2677,\n",
       "   4.1302,\n",
       "   7.7886,\n",
       "   12.2937,\n",
       "   15.1362,\n",
       "   20.9522,\n",
       "   8.5559]},\n",
       " 'profitability_metrics': {'ebitda_margin': [9.9667,\n",
       "   9.8373,\n",
       "   11.1502,\n",
       "   12.8122,\n",
       "   16.455,\n",
       "   12.4319,\n",
       "   10.1649,\n",
       "   11.051,\n",
       "   12.2764,\n",
       "   11.5218,\n",
       "   15.2427,\n",
       "   14.6678,\n",
       "   12.1895,\n",
       "   11.5022,\n",
       "   14.2156,\n",
       "   14.8605,\n",
       "   3.9244,\n",
       "   1.1446,\n",
       "   5.4919,\n",
       "   6.147,\n",
       "   -2.7852,\n",
       "   5.6347,\n",
       "   13.4327],\n",
       "  'total_assets': [13540.42375,\n",
       "   14845.76275,\n",
       "   14729.246,\n",
       "   19313.712249999997,\n",
       "   31301.931500000002,\n",
       "   53258.1245,\n",
       "   61048.28799999999,\n",
       "   68735.772,\n",
       "   80945.28925,\n",
       "   88057.04075,\n",
       "   106659.644,\n",
       "   180046.22999999998,\n",
       "   224801.91825,\n",
       "   223559.65625,\n",
       "   243352.75999999998,\n",
       "   404407.5,\n",
       "   367920.0,\n",
       "   306337.5,\n",
       "   286475.0,\n",
       "   255517.5,\n",
       "   229267.5,\n",
       "   263182.5,\n",
       "   232557.5],\n",
       "  'sales_growth': [66.6038,\n",
       "   18.0796,\n",
       "   51.3073,\n",
       "   21.207,\n",
       "   6.2676,\n",
       "   79.3207,\n",
       "   59.0831,\n",
       "   13.4937,\n",
       "   31.6032,\n",
       "   12.9271,\n",
       "   -30.1893,\n",
       "   21.1985,\n",
       "   86.2059,\n",
       "   22.2041,\n",
       "   19.835,\n",
       "   17.6158,\n",
       "   64.2901,\n",
       "   -22.548,\n",
       "   -8.4687,\n",
       "   -29.4359,\n",
       "   -2.1068,\n",
       "   16.3818,\n",
       "   12.4007]}}"
      ]
     },
     "execution_count": 43,
     "metadata": {},
     "output_type": "execute_result"
    }
   ],
   "source": [
    "nested_dict"
   ]
  },
  {
   "cell_type": "code",
   "execution_count": 29,
   "id": "6b43b30e-28bc-47f2-b4ea-570b80c7158d",
   "metadata": {
    "tags": []
   },
   "outputs": [
    {
     "data": {
      "text/plain": [
       "{'leverage_coverage_metrics': {'debt_to_equity': 0.8838269444444443,\n",
       "  'debt_to_ebitda': 7.239883333333332,\n",
       "  'ebitda_to_interest_expense': 4.300255555555556},\n",
       " 'efficiency_metrics': {'asset_turnover': 0.8485388888888887},\n",
       " 'profitability_metrics': {'ebitda_margin': 11.411927777777777}}"
      ]
     },
     "execution_count": 29,
     "metadata": {},
     "output_type": "execute_result"
    }
   ],
   "source": [
    "company_expected_metrics"
   ]
  },
  {
   "cell_type": "code",
   "execution_count": null,
   "id": "82d71914-0c4a-443e-9b78-9965e9f1b33e",
   "metadata": {},
   "outputs": [],
   "source": []
  },
  {
   "cell_type": "code",
   "execution_count": 33,
   "id": "3021bbe2-3505-4f95-983d-a92d6f09e5f3",
   "metadata": {
    "tags": []
   },
   "outputs": [
    {
     "data": {
      "text/plain": [
       "[{'ebitda_margin': {'lower_is_better': False,\n",
       "   'thresholds': [[40.0, inf],\n",
       "    [35.0, 40.0],\n",
       "    [30.0, 35.0],\n",
       "    [25.0, 30.0],\n",
       "    [20.0, 25.0],\n",
       "    [15.0, 20.0],\n",
       "    [10.0, 15.0],\n",
       "    [5.0, 10.0],\n",
       "    [-inf, 5.0]]},\n",
       "  'total_assets': {'lower_is_better': False,\n",
       "   'thresholds': [[500000000, inf],\n",
       "    [100000000, 500000000],\n",
       "    [50000000, 100000000],\n",
       "    [10000000, 50000000],\n",
       "    [5000000, 10000000],\n",
       "    [1000000, 5000000],\n",
       "    [500000, 1000000],\n",
       "    [100000, 500000],\n",
       "    [-inf, 100000]]},\n",
       "  'sales_growth': {'lower_is_better': False,\n",
       "   'thresholds': [[40.0, inf],\n",
       "    [30.0, 40.0],\n",
       "    [25.0, 30.0],\n",
       "    [20.0, 25.0],\n",
       "    [15.0, 20.0],\n",
       "    [10.0, 15.0],\n",
       "    [5.0, 10.0],\n",
       "    [0.0, 5.0],\n",
       "    [-inf, 0.0]]}},\n",
       " {'debt_to_equity': {'lower_is_better': True,\n",
       "   'thresholds': [[-inf, 0.25],\n",
       "    [0.25, 0.5],\n",
       "    [0.5, 0.75],\n",
       "    [0.75, 1.0],\n",
       "    [1.0, 1.5],\n",
       "    [1.5, 2.0],\n",
       "    [2.0, 3.0],\n",
       "    [3.0, 5.0],\n",
       "    [5.0, inf]]},\n",
       "  'debt_to_ebitda': {'lower_is_better': True,\n",
       "   'thresholds': [[-inf, 0.5],\n",
       "    [0.5, 1.0],\n",
       "    [1.0, 2.0],\n",
       "    [2.0, 3.0],\n",
       "    [3.0, 4.5],\n",
       "    [4.5, 6.5],\n",
       "    [6.5, 9.0],\n",
       "    [6.5, 9.0],\n",
       "    [9.0, inf]]},\n",
       "  'ebitda_to_interest_expense': {'lower_is_better': False,\n",
       "   'thresholds': [[25.0, inf],\n",
       "    [15.0, 25.0],\n",
       "    [10.0, 15.0],\n",
       "    [6.0, 10.0],\n",
       "    [3.0, 6.0],\n",
       "    [1.0, 3.0],\n",
       "    [0.0, 1.0],\n",
       "    [0.0, 1.0],\n",
       "    [-inf, 0.0]]},\n",
       "  'debt_to_tangible_assets': {'lower_is_better': True,\n",
       "   'thresholds': [[-inf, 0.2],\n",
       "    [0.2, 0.4],\n",
       "    [0.4, 0.6],\n",
       "    [0.6, 0.8],\n",
       "    [0.8, 1.0],\n",
       "    [1.0, 1.2],\n",
       "    [1.2, 1.5],\n",
       "    [1.5, 2.0],\n",
       "    [2.0, inf]]}},\n",
       " {'asset_turnover': {'lower_is_better': False,\n",
       "   'thresholds': [[5.0, inf],\n",
       "    [4.0, 5.0],\n",
       "    [3.0, 4.0],\n",
       "    [2.5, 3.0],\n",
       "    [2.0, 2.5],\n",
       "    [1.5, 2.0],\n",
       "    [1.0, 1.5],\n",
       "    [0.5, 1.0],\n",
       "    [-inf, 0.5]]},\n",
       "  'inventory_to_cost_of_sales': {'lower_is_better': True,\n",
       "   'thresholds': [[-inf, 0.1],\n",
       "    [0.1, 0.2],\n",
       "    [0.2, 0.3],\n",
       "    [0.3, 0.4],\n",
       "    [0.4, 0.5],\n",
       "    [0.5, 0.6],\n",
       "    [0.6, 0.8],\n",
       "    [0.8, 1.0],\n",
       "    [1.0, inf]]},\n",
       "  'cash_to_assets': {'lower_is_better': False,\n",
       "   'thresholds': [[0.5, inf],\n",
       "    [0.4, 0.5],\n",
       "    [0.3, 0.4],\n",
       "    [0.25, 0.3],\n",
       "    [0.2, 0.25],\n",
       "    [0.15, 0.2],\n",
       "    [0.1, 0.15],\n",
       "    [0.05, 0.1],\n",
       "    [-inf, 0.05]]}}]"
      ]
     },
     "execution_count": 33,
     "metadata": {},
     "output_type": "execute_result"
    }
   ],
   "source": [
    "[configuration[metric][\"metrics\"] for metric in configuration]"
   ]
  },
  {
   "cell_type": "code",
   "execution_count": null,
   "id": "02c30e14-3b87-4669-b036-0320b1395943",
   "metadata": {},
   "outputs": [],
   "source": []
  },
  {
   "cell_type": "code",
   "execution_count": 37,
   "id": "61b20054-908c-413b-af49-c42f4c8b0e98",
   "metadata": {
    "tags": []
   },
   "outputs": [
    {
     "data": {
      "text/plain": [
       "[{'ebitda_margin': {'lower_is_better': False,\n",
       "   'thresholds': [[40.0, inf],\n",
       "    [35.0, 40.0],\n",
       "    [30.0, 35.0],\n",
       "    [25.0, 30.0],\n",
       "    [20.0, 25.0],\n",
       "    [15.0, 20.0],\n",
       "    [10.0, 15.0],\n",
       "    [5.0, 10.0],\n",
       "    [-inf, 5.0]]},\n",
       "  'total_assets': {'lower_is_better': False,\n",
       "   'thresholds': [[500000000, inf],\n",
       "    [100000000, 500000000],\n",
       "    [50000000, 100000000],\n",
       "    [10000000, 50000000],\n",
       "    [5000000, 10000000],\n",
       "    [1000000, 5000000],\n",
       "    [500000, 1000000],\n",
       "    [100000, 500000],\n",
       "    [-inf, 100000]]},\n",
       "  'sales_growth': {'lower_is_better': False,\n",
       "   'thresholds': [[40.0, inf],\n",
       "    [30.0, 40.0],\n",
       "    [25.0, 30.0],\n",
       "    [20.0, 25.0],\n",
       "    [15.0, 20.0],\n",
       "    [10.0, 15.0],\n",
       "    [5.0, 10.0],\n",
       "    [0.0, 5.0],\n",
       "    [-inf, 0.0]]}},\n",
       " {'debt_to_equity': {'lower_is_better': True,\n",
       "   'thresholds': [[-inf, 0.25],\n",
       "    [0.25, 0.5],\n",
       "    [0.5, 0.75],\n",
       "    [0.75, 1.0],\n",
       "    [1.0, 1.5],\n",
       "    [1.5, 2.0],\n",
       "    [2.0, 3.0],\n",
       "    [3.0, 5.0],\n",
       "    [5.0, inf]]},\n",
       "  'debt_to_ebitda': {'lower_is_better': True,\n",
       "   'thresholds': [[-inf, 0.5],\n",
       "    [0.5, 1.0],\n",
       "    [1.0, 2.0],\n",
       "    [2.0, 3.0],\n",
       "    [3.0, 4.5],\n",
       "    [4.5, 6.5],\n",
       "    [6.5, 9.0],\n",
       "    [6.5, 9.0],\n",
       "    [9.0, inf]]},\n",
       "  'ebitda_to_interest_expense': {'lower_is_better': False,\n",
       "   'thresholds': [[25.0, inf],\n",
       "    [15.0, 25.0],\n",
       "    [10.0, 15.0],\n",
       "    [6.0, 10.0],\n",
       "    [3.0, 6.0],\n",
       "    [1.0, 3.0],\n",
       "    [0.0, 1.0],\n",
       "    [0.0, 1.0],\n",
       "    [-inf, 0.0]]},\n",
       "  'debt_to_tangible_assets': {'lower_is_better': True,\n",
       "   'thresholds': [[-inf, 0.2],\n",
       "    [0.2, 0.4],\n",
       "    [0.4, 0.6],\n",
       "    [0.6, 0.8],\n",
       "    [0.8, 1.0],\n",
       "    [1.0, 1.2],\n",
       "    [1.2, 1.5],\n",
       "    [1.5, 2.0],\n",
       "    [2.0, inf]]}},\n",
       " {'asset_turnover': {'lower_is_better': False,\n",
       "   'thresholds': [[5.0, inf],\n",
       "    [4.0, 5.0],\n",
       "    [3.0, 4.0],\n",
       "    [2.5, 3.0],\n",
       "    [2.0, 2.5],\n",
       "    [1.5, 2.0],\n",
       "    [1.0, 1.5],\n",
       "    [0.5, 1.0],\n",
       "    [-inf, 0.5]]},\n",
       "  'inventory_to_cost_of_sales': {'lower_is_better': True,\n",
       "   'thresholds': [[-inf, 0.1],\n",
       "    [0.1, 0.2],\n",
       "    [0.2, 0.3],\n",
       "    [0.3, 0.4],\n",
       "    [0.4, 0.5],\n",
       "    [0.5, 0.6],\n",
       "    [0.6, 0.8],\n",
       "    [0.8, 1.0],\n",
       "    [1.0, inf]]},\n",
       "  'cash_to_assets': {'lower_is_better': False,\n",
       "   'thresholds': [[0.5, inf],\n",
       "    [0.4, 0.5],\n",
       "    [0.3, 0.4],\n",
       "    [0.25, 0.3],\n",
       "    [0.2, 0.25],\n",
       "    [0.15, 0.2],\n",
       "    [0.1, 0.15],\n",
       "    [0.05, 0.1],\n",
       "    [-inf, 0.05]]}}]"
      ]
     },
     "execution_count": 37,
     "metadata": {},
     "output_type": "execute_result"
    }
   ],
   "source": [
    "[configuration[metric][\"metrics\"] for metric in configuration]"
   ]
  },
  {
   "cell_type": "code",
   "execution_count": null,
   "id": "1e31f320-905e-4dfd-86c5-de52ff737504",
   "metadata": {},
   "outputs": [],
   "source": []
  },
  {
   "cell_type": "code",
   "execution_count": null,
   "id": "02826557-f421-498a-87af-fe4d214df3a3",
   "metadata": {},
   "outputs": [],
   "source": []
  },
  {
   "cell_type": "code",
   "execution_count": null,
   "id": "e9da9284-7f89-46f4-92b4-ac85d1566e3b",
   "metadata": {},
   "outputs": [],
   "source": []
  },
  {
   "cell_type": "code",
   "execution_count": 355,
   "id": "63892b8e-f341-4980-81bb-54397006b295",
   "metadata": {
    "tags": []
   },
   "outputs": [],
   "source": [
    "from functools import partial\n",
    "from dataclasses import field\n",
    "\n",
    "@dataclass\n",
    "class HelloCredit:\n",
    "    input_dict: dict = field(default_factory=dict)\n",
    "    \n",
    "    def __post_init__(self):\n",
    "        self.nested_dict = get_nested_dict(self.input_dict[\"file_path\"])\n",
    "        self.company_period_metrics = get_period_metrics(self.nested_dict)\n",
    "        self.company_expected_metrics = get_expected_metrics(self.nested_dict)\n",
    "        self.compute_rating = partial(calculate_credit_rating, metrics=self.input_dict[\"configuration\"])\n",
    "        self.work_dir = self.input_dict[\"work_directory\"]\n",
    "            \n",
    "    def update_input_dict(self, input_dict: dict) -> dict:  \n",
    "        def deep_update(d, u):\n",
    "            for k, v in u.items():\n",
    "                if isinstance(v, dict):\n",
    "                    d[k] = deep_update(d.get(k, {}), v)\n",
    "                else:\n",
    "                    d[k] = v\n",
    "            return d\n",
    "\n",
    "        self.input_dict = deep_update(self.input_dict, input_dict)\n",
    "    \n",
    "    \n",
    "    def run_function(self) -> None:\n",
    "        # Expected and Single Period Calcs\n",
    "        calculator_output = self.compute_rating(ratios=self.company_expected_metrics)\n",
    "        rating_meta = get_rating_meta(calculator_output[\"credit_rating\"])\n",
    "        \n",
    "        calculator_periods_output = {\n",
    "            period: self.compute_rating(ratios=self.company_period_metrics[period])\n",
    "            for period in self.company_period_metrics\n",
    "        }\n",
    "             \n",
    "        # Bayesian Model\n",
    "        model_output = bayesian_ridge_model(self.nested_dict, **self.input_dict[\"probabilistic_model\"])\n",
    "        model_output_transform = bayesian_ridge_transform(model_output)\n",
    "        model_output_computed_rating = {\n",
    "            period: self.compute_rating(ratios=model_output_transform[period]) \n",
    "            for period, metrics in enumerate(model_output_transform)\n",
    "        }\n",
    "        \n",
    "        bayesian_model_output = {\n",
    "            \"model_output\": model_output,\n",
    "            \"model_output_transform\": model_output_transform,\n",
    "            \"computed_rating\": model_output_computed_rating,\n",
    "        }\n",
    "        \n",
    "        self.output_dict = {\n",
    "            \"rating_meta\": rating_meta,\n",
    "            \"company_expected_metrics\": self.company_expected_metrics,\n",
    "            \"company_period_metrics\": self.company_period_metrics,\n",
    "            \"calculator_output\": calculator_output,\n",
    "            \"calculator_periods_output\": calculator_periods_output,\n",
    "            \"bayesian_model_output\": bayesian_model_output,\n",
    "        }\n",
    "        \n",
    "        \n",
    "        files_to_dump = {\n",
    "            \"output_dict.json\": self.output_dict,\n",
    "            \"input_dict.json\": self.input_dict\n",
    "        }\n",
    "\n",
    "        for filename, data in files_to_dump.items():\n",
    "            file_path = os.path.join(self.work_dir, filename)\n",
    "            with open(file_path, \"w\") as f:\n",
    "                json.dump(data, f)\n",
    "        print(\"Files Dumped\")\n",
    "        return self.output_dict"
   ]
  },
  {
   "cell_type": "code",
   "execution_count": 18,
   "id": "3d63925e-d356-4bcc-b9e9-a6585651daa9",
   "metadata": {
    "tags": []
   },
   "outputs": [
    {
     "data": {
      "text/plain": [
       "[('Aaa', 2.5),\n",
       " ('Aa', 3.5),\n",
       " ('A', 4.5),\n",
       " ('Baa', 5.5),\n",
       " ('Ba', 6.5),\n",
       " ('B', 7.5),\n",
       " ('Caa', 8.5),\n",
       " ('Ca', 9.5),\n",
       " ('C', inf)]"
      ]
     },
     "execution_count": 18,
     "metadata": {},
     "output_type": "execute_result"
    }
   ],
   "source": [
    "MAPPED_RATINGS"
   ]
  },
  {
   "cell_type": "code",
   "execution_count": null,
   "id": "80958bd9-1f86-4504-aa2d-302665eacdfa",
   "metadata": {
    "tags": []
   },
   "outputs": [],
   "source": []
  },
  {
   "cell_type": "code",
   "execution_count": null,
   "id": "d2c6ff93-6f35-4257-a4af-18439641995d",
   "metadata": {},
   "outputs": [],
   "source": []
  },
  {
   "cell_type": "code",
   "execution_count": null,
   "id": "d6d7ed62-3497-4323-bcd0-3ebe1c37bc03",
   "metadata": {},
   "outputs": [],
   "source": []
  },
  {
   "cell_type": "code",
   "execution_count": null,
   "id": "a45db51e-7455-46a5-a6cb-68dcc3882196",
   "metadata": {},
   "outputs": [],
   "source": []
  },
  {
   "cell_type": "code",
   "execution_count": null,
   "id": "4c4fe09f-09ee-4a9e-a44d-3cfaa48d6655",
   "metadata": {},
   "outputs": [],
   "source": []
  },
  {
   "cell_type": "code",
   "execution_count": null,
   "id": "b84c6e25-8e5b-4e96-86f1-5f3c8aa27d38",
   "metadata": {},
   "outputs": [],
   "source": []
  },
  {
   "cell_type": "code",
   "execution_count": null,
   "id": "293da930-6c05-42e5-bc02-570457485cef",
   "metadata": {},
   "outputs": [],
   "source": []
  },
  {
   "cell_type": "code",
   "execution_count": null,
   "id": "03b7c79e-45f3-4b39-b445-b884d0016e8c",
   "metadata": {
    "tags": []
   },
   "outputs": [],
   "source": []
  },
  {
   "cell_type": "code",
   "execution_count": null,
   "id": "b32cb446-2529-49ce-bcae-d128b598d563",
   "metadata": {
    "tags": []
   },
   "outputs": [],
   "source": []
  },
  {
   "cell_type": "code",
   "execution_count": null,
   "id": "7c429b6a-f825-4677-ad08-711cd0f55e87",
   "metadata": {},
   "outputs": [],
   "source": []
  },
  {
   "cell_type": "code",
   "execution_count": null,
   "id": "d479e686-75cd-48a7-9f23-efa8731c8f84",
   "metadata": {},
   "outputs": [],
   "source": []
  },
  {
   "cell_type": "code",
   "execution_count": null,
   "id": "0f2e3ec1-88e8-4dee-ad47-dcec4f252164",
   "metadata": {},
   "outputs": [],
   "source": []
  },
  {
   "cell_type": "code",
   "execution_count": null,
   "id": "74798002-bf93-47c1-9f0c-babfdf22841d",
   "metadata": {},
   "outputs": [],
   "source": []
  },
  {
   "cell_type": "code",
   "execution_count": null,
   "id": "dc6e71db-f2d1-461f-883e-9ded5887e5bf",
   "metadata": {},
   "outputs": [],
   "source": []
  },
  {
   "cell_type": "code",
   "execution_count": null,
   "id": "7e18cec6-57a3-4afa-8caf-f3d2cb83b203",
   "metadata": {},
   "outputs": [],
   "source": []
  },
  {
   "cell_type": "code",
   "execution_count": null,
   "id": "a52cdfd7-5b47-44fd-b3ef-ebfc7ce45258",
   "metadata": {},
   "outputs": [],
   "source": []
  },
  {
   "cell_type": "code",
   "execution_count": null,
   "id": "fd7bbd66-4a06-4fb2-8062-3847a7cc0430",
   "metadata": {},
   "outputs": [],
   "source": []
  },
  {
   "cell_type": "code",
   "execution_count": null,
   "id": "a58ac379-735f-49c7-8206-19746981b2c9",
   "metadata": {},
   "outputs": [],
   "source": []
  },
  {
   "cell_type": "code",
   "execution_count": null,
   "id": "e57d85d0-d26a-4b33-92b7-56d95efd8328",
   "metadata": {},
   "outputs": [],
   "source": []
  },
  {
   "cell_type": "code",
   "execution_count": null,
   "id": "678af733-4c27-40f0-a21a-383cb79f388d",
   "metadata": {},
   "outputs": [],
   "source": []
  },
  {
   "cell_type": "code",
   "execution_count": null,
   "id": "1b5baf3f-3263-4d6c-98c9-45a866815bf2",
   "metadata": {},
   "outputs": [],
   "source": []
  },
  {
   "cell_type": "code",
   "execution_count": null,
   "id": "a9f992a6-95a1-47f4-8155-fba24861dd49",
   "metadata": {},
   "outputs": [],
   "source": []
  },
  {
   "cell_type": "code",
   "execution_count": 320,
   "id": "04db5d59-7980-4bf8-85c7-4b4f2b5f6c75",
   "metadata": {
    "tags": []
   },
   "outputs": [],
   "source": [
    "from dataclasses import field\n",
    "\n",
    "\n",
    "\n",
    "@dataclass\n",
    "class HelloCredit:\n",
    "    file_path: str\n",
    "    company_meta: dict = field(default_factory=dict)\n",
    "    \n",
    "    \n",
    "    def __post_init__(self):        \n",
    "        self.file_path = self.file_path or \"data.xlsx\"\n",
    "        \n",
    "        \n",
    "        \n",
    "        self.metrics_path = self.metrics_path or \"metrics.json\"\n",
    "        \n",
    "        with open(self.metrics_path, \"r\") as f:\n",
    "            self.metrics = json.load(f)\n",
    "            \n",
    "        self.class_weights = {m: self.metrics[m][\"class_weight\"] for m in self.metrics}\n",
    "        self.dataframe = pd.read_excel(self.file_path, index_col=[0, 1])\n",
    "        self.nested_dict = get_nested_dict(self.dataframe)\n",
    "        self.company_period_metrics = get_period_metrics(self.nested_dict)\n",
    "        self.company_expected_metrics = get_expected_metrics(self.nested_dict)\n",
    "        \n",
    "        self.input_dict = {\n",
    "            \"company_name\": self.company_meta[\"company_name\"],\n",
    "            \"calculator_model\": {\n",
    "                \"sector\": self.company_meta[\"company_sector\"], \n",
    "                \"size\": self.company_meta[\"company_size\"]\n",
    "            },\n",
    "            \"factor_weights_model\": self.class_weights,\n",
    "            \"probabilistic_model\": {\"periods\": 1, \"look_back_periods\": 5, \"max_iter\": 300, \"tol\": 1e-3}\n",
    "        }\n",
    "\n",
    "    \n",
    "    def update_input_dict(self, input_dict: dict) -> dict:  \n",
    "        def deep_update(d, u):\n",
    "            for k, v in u.items():\n",
    "                if isinstance(v, dict):\n",
    "                    d[k] = deep_update(d.get(k, {}), v)\n",
    "                else:\n",
    "                    d[k] = v\n",
    "            return d\n",
    "\n",
    "        self.input_dict = deep_update(self.input_dict, input_dict)\n",
    "    \n",
    "    \n",
    "    def update_output_dict(self):\n",
    "        calculator_output = calculate_credit_rating(self.metrics, self.company_expected_metrics)\n",
    "\n",
    "        # Single Period Calcs\n",
    "        calculator_periods_output = {}\n",
    "        for period in self.company_period_metrics:\n",
    "            calculator_periods_output[period] = calculate_credit_rating(self.metrics, self.company_period_metrics[period])\n",
    "             \n",
    "        # Bayesian Model\n",
    "        bayesian_model_output = {}\n",
    "        model_output = bayesian_ridge_model(self.nested_dict, **self.input_dict[\"probabilistic_model\"])\n",
    "        out_of_sample = bayesian_ridge_transform(model_output)\n",
    "        for period, metrics in enumerate(out_of_sample):\n",
    "            bayesian_model_output[period] = calculate_credit_rating(self.metrics, out_of_sample[period])\n",
    "            \n",
    "\n",
    "        # Rating Description\n",
    "        rating_description = rating_description_dict[calculator_output[\"credit_rating\"]]\n",
    "\n",
    "        output_dict = {\n",
    "            \"company_name\": self.input_dict[\"company_name\"],\n",
    "            \"rating_description\": rating_description,\n",
    "            \"company_expected_metrics\": self.company_expected_metrics,\n",
    "            \"company_period_metrics\": self.company_period_metrics,\n",
    "            \"calculator_output\": calculator_output,\n",
    "            \"calculator_periods_output\": calculator_periods_output,\n",
    "            \"bayesian_model_output\": bayesian_model_output,\n",
    "            \"metrics\": self.metrics\n",
    "        }\n",
    "        return output_dict"
   ]
  },
  {
   "cell_type": "code",
   "execution_count": null,
   "id": "d24c0179-0d05-4ad9-ae6a-5c0113d35dd1",
   "metadata": {},
   "outputs": [],
   "source": []
  },
  {
   "cell_type": "code",
   "execution_count": null,
   "id": "bd3c0419-e1bf-4ddf-82ea-190f18c253d1",
   "metadata": {},
   "outputs": [],
   "source": []
  },
  {
   "cell_type": "code",
   "execution_count": null,
   "id": "4098fb5d-9f20-4a50-b83a-1651f1333d2f",
   "metadata": {},
   "outputs": [],
   "source": []
  },
  {
   "cell_type": "code",
   "execution_count": null,
   "id": "f9e9d176-0961-4698-bc0f-62544553c28b",
   "metadata": {},
   "outputs": [],
   "source": []
  },
  {
   "cell_type": "code",
   "execution_count": null,
   "id": "94987c50-312a-4908-a330-f32df0d17418",
   "metadata": {},
   "outputs": [],
   "source": []
  },
  {
   "cell_type": "code",
   "execution_count": 24,
   "id": "7b828b85-48e6-45cf-bc9e-92f7c0f39d13",
   "metadata": {
    "tags": []
   },
   "outputs": [],
   "source": [
    "@dataclass\n",
    "class HelloCredit:\n",
    "    file_path: str = None\n",
    "    metrics_path: str = None\n",
    "    \n",
    "    def __post_init__(self):        \n",
    "        self.file_path = self.file_path or \"data.xlsx\"\n",
    "        self.metrics_path = self.metrics_path or \"metrics.json\"\n",
    "        \n",
    "        with open(self.metrics_path, \"r\") as f:\n",
    "            self.metrics = json.load(f)\n",
    "            \n",
    "        self.class_weights = {m: self.metrics[m][\"class_weight\"] for m in self.metrics}\n",
    "        self.dataframe = pd.read_excel(self.file_path, index_col=[0, 1])\n",
    "        self.nested_dict = get_nested_dict(self.dataframe)\n",
    "        self.company_period_metrics = get_period_metrics(self.nested_dict)\n",
    "        self.company_expected_metrics = get_expected_metrics(self.nested_dict)\n",
    "        self.input_dict = {\n",
    "            \"company_name\": None,\n",
    "            \"calculator_model\": {\"sector\": \"Corporates\", \"size\": \"Small\"},\n",
    "            \"factor_weights_model\": self.class_weights,\n",
    "            \"probabilistic_model\": {\"periods\": 1, \"max_iter\": 300, \"tol\": 1e-3}\n",
    "        }\n",
    "\n",
    "    \n",
    "    def update_input_dict(self, input_dict: dict) -> dict:  \n",
    "        def deep_update(d, u):\n",
    "            for k, v in u.items():\n",
    "                if isinstance(v, dict):\n",
    "                    d[k] = deep_update(d.get(k, {}), v)\n",
    "                else:\n",
    "                    d[k] = v\n",
    "            return d\n",
    "\n",
    "        self.input_dict = deep_update(self.input_dict, input_dict)\n",
    "    \n",
    "    \n",
    "    def update_output_dict(self):\n",
    "        calculator = CreditRatingCalculator(self.metrics)\n",
    "        calculator.calculate_credit_rating(self.company_expected_metrics)\n",
    "        calculator_output = calculator.calculation_details\n",
    "\n",
    "        # Single Period Calcs\n",
    "        calculator_periods_output = {}\n",
    "        for period in self.company_period_metrics:\n",
    "            calculator = CreditRatingCalculator(self.metrics)\n",
    "            calculator.calculate_credit_rating(self.company_period_metrics[period])\n",
    "            calculator_periods_output[period] = calculator.calculation_details\n",
    "\n",
    "        # Bayesian Model\n",
    "        bayesian_model_output = {}\n",
    "        \n",
    "        model_output = bayesian_ridge_model(self.nested_dict, **self.input_dict[\"probabilistic_model\"])\n",
    "        out_of_sample = bayesian_ridge_transform(model_output)\n",
    "        for period, metrics in enumerate(out_of_sample):\n",
    "            calculator = CreditRatingCalculator(self.metrics)\n",
    "            calculator.calculate_credit_rating(out_of_sample[period])\n",
    "            bayesian_model_output[period] = calculator.calculation_details\n",
    "\n",
    "        # Rating Description\n",
    "        rating_description = rating_description_dict[calculator_output[\"credit_rating\"]]\n",
    "\n",
    "        output_dict = {\n",
    "            \"company_name\": self.input_dict[\"company_name\"],\n",
    "            \"rating_description\": rating_description,\n",
    "            \"company_expected_metrics\": self.company_expected_metrics,\n",
    "            \"company_period_metrics\": self.company_period_metrics,\n",
    "            \"calculator_output\": calculator_output,\n",
    "            \"calculator_periods_output\": calculator_periods_output,\n",
    "            \"bayesian_model_output\": bayesian_model_output,\n",
    "            \"metrics\": self.metrics\n",
    "        }\n",
    "        return output_dict"
   ]
  },
  {
   "cell_type": "code",
   "execution_count": 25,
   "id": "8a07e376-3dac-417d-9b4b-95b5682ea6ec",
   "metadata": {
    "tags": []
   },
   "outputs": [],
   "source": [
    "m = HelloCredit(\"stienhoff_data - Copy - Copy.xlsx\")"
   ]
  },
  {
   "cell_type": "code",
   "execution_count": 26,
   "id": "24138eac-7dd3-434f-bebd-66b45eb8921e",
   "metadata": {
    "tags": []
   },
   "outputs": [
    {
     "ename": "NameError",
     "evalue": "name 'CreditRatingCalculator' is not defined",
     "output_type": "error",
     "traceback": [
      "\u001b[1;31m---------------------------------------------------------------------------\u001b[0m",
      "\u001b[1;31mNameError\u001b[0m                                 Traceback (most recent call last)",
      "Cell \u001b[1;32mIn[26], line 1\u001b[0m\n\u001b[1;32m----> 1\u001b[0m output \u001b[38;5;241m=\u001b[39m m\u001b[38;5;241m.\u001b[39mupdate_output_dict()\n",
      "Cell \u001b[1;32mIn[24], line 39\u001b[0m, in \u001b[0;36mHelloCredit.update_output_dict\u001b[1;34m(self)\u001b[0m\n\u001b[0;32m     38\u001b[0m \u001b[38;5;28;01mdef\u001b[39;00m \u001b[38;5;21mupdate_output_dict\u001b[39m(\u001b[38;5;28mself\u001b[39m):\n\u001b[1;32m---> 39\u001b[0m     calculator \u001b[38;5;241m=\u001b[39m CreditRatingCalculator(\u001b[38;5;28mself\u001b[39m\u001b[38;5;241m.\u001b[39mmetrics)\n\u001b[0;32m     40\u001b[0m     calculator\u001b[38;5;241m.\u001b[39mcalculate_credit_rating(\u001b[38;5;28mself\u001b[39m\u001b[38;5;241m.\u001b[39mcompany_expected_metrics)\n\u001b[0;32m     41\u001b[0m     calculator_output \u001b[38;5;241m=\u001b[39m calculator\u001b[38;5;241m.\u001b[39mcalculation_details\n",
      "\u001b[1;31mNameError\u001b[0m: name 'CreditRatingCalculator' is not defined"
     ]
    }
   ],
   "source": [
    "output = m.update_output_dict()"
   ]
  },
  {
   "cell_type": "code",
   "execution_count": 112,
   "id": "30f85875",
   "metadata": {},
   "outputs": [],
   "source": [
    "with open(\"outputt.json\", \"w\") as f:\n",
    "    json.dump(output, f)"
   ]
  },
  {
   "cell_type": "code",
   "execution_count": null,
   "id": "6315b122",
   "metadata": {},
   "outputs": [],
   "source": []
  },
  {
   "cell_type": "code",
   "execution_count": null,
   "id": "88cbaf4a",
   "metadata": {},
   "outputs": [],
   "source": []
  },
  {
   "cell_type": "code",
   "execution_count": null,
   "id": "c22414c1",
   "metadata": {},
   "outputs": [],
   "source": []
  },
  {
   "cell_type": "code",
   "execution_count": null,
   "id": "a57757a9",
   "metadata": {},
   "outputs": [],
   "source": []
  },
  {
   "cell_type": "markdown",
   "id": "3b802555-b785-486a-93ff-c1e83742c384",
   "metadata": {
    "jp-MarkdownHeadingCollapsed": true,
    "tags": []
   },
   "source": [
    "# MODEL TRAINING"
   ]
  },
  {
   "cell_type": "code",
   "execution_count": 26,
   "id": "470164db-5b00-44a5-a303-304ac56bd78f",
   "metadata": {
    "tags": []
   },
   "outputs": [],
   "source": [
    "def calculate_loss(model_inputs):\n",
    "    yhat = []\n",
    "    for company in features.index:\n",
    "        ratios = features.loc[company][model_metrics].to_dict()    \n",
    "        model = CreditRatingCalculator(model_inputs)\n",
    "        model.calculate_credit_rating(ratios)\n",
    "\n",
    "        credit_score = model.credit_score\n",
    "        credit_rating = model.credit_rating\n",
    "\n",
    "        yhat.append(credit_score)\n",
    "\n",
    "    y_true = targets['numeric_rating']\n",
    "    yhat = np.round(yhat, 1)\n",
    "    loss = mean_absolute_percentage_error(yhat, y_true)\n",
    "    return loss\n",
    "\n",
    "def normalize_weights(weights):\n",
    "    total = sum(weights)\n",
    "    return [weight / total for weight in weights]\n",
    "\n",
    "def train_model(model_inputs, learning_rate=0.01, num_iterations=1000):\n",
    "    \n",
    "    np.random.seed(23)\n",
    "    \n",
    "    # Initialize weights and class_weights\n",
    "    for category in model_inputs.values():\n",
    "        category[\"class_weight\"] = np.random.random()\n",
    "        category[\"weights\"] = np.random.random(len(category[\"weights\"]))\n",
    "        category[\"weights\"] = normalize_weights(category[\"weights\"])\n",
    "\n",
    "    # Perform gradient descent\n",
    "    for epoch in range(num_iterations):\n",
    "        # Calculate gradients\n",
    "        gradients = {}\n",
    "        for category, category_data in model_inputs.items():\n",
    "            gradients[category] = {\n",
    "                \"class_weight\": 0.0,\n",
    "                \"weights\": np.zeros_like(category_data[\"weights\"])\n",
    "            }\n",
    "\n",
    "        # Calculate loss and gradients\n",
    "        loss = calculate_loss(model_inputs)\n",
    "        for category, category_data in model_inputs.items():\n",
    "            # Calculate gradient for class_weight\n",
    "            category_data[\"class_weight\"] += 0.0001\n",
    "            gradients[category][\"class_weight\"] = (calculate_loss(model_inputs) - loss) / 0.0001\n",
    "            category_data[\"class_weight\"] -= 0.0001\n",
    "\n",
    "            # Calculate gradients for weights\n",
    "            for i in range(len(category_data[\"weights\"])):\n",
    "                category_data[\"weights\"][i] += 0.0001\n",
    "                gradients[category][\"weights\"][i] = (calculate_loss(model_inputs) - loss) / 0.0001\n",
    "                category_data[\"weights\"][i] -= 0.0001\n",
    "\n",
    "        # Update weights and class_weights\n",
    "        for category, category_data in model_inputs.items():\n",
    "            category_data[\"class_weight\"] -= learning_rate * gradients[category][\"class_weight\"]\n",
    "            category_data[\"weights\"] -= learning_rate * gradients[category][\"weights\"]\n",
    "            category_data[\"weights\"] = normalize_weights(category_data[\"weights\"])\n",
    "\n",
    "        # Normalize class_weights\n",
    "        class_weights = [category_data[\"class_weight\"] for category_data in model_inputs.values()]\n",
    "        normalized_class_weights = normalize_weights(class_weights)\n",
    "        for category, weight in zip(model_inputs.keys(), normalized_class_weights):\n",
    "            model_inputs[category][\"class_weight\"] = weight\n",
    "        \n",
    "        if epoch % 100 == 0:\n",
    "            print(f\"Epoch {epoch}: Loss = {loss:.4f}\")\n",
    "        \n",
    "    return model_inputs"
   ]
  },
  {
   "cell_type": "code",
   "execution_count": 27,
   "id": "246abba0-eb49-415a-b06a-c30ab05a077a",
   "metadata": {
    "tags": []
   },
   "outputs": [
    {
     "name": "stdout",
     "output_type": "stream",
     "text": [
      "Epoch 0: Loss = 0.2761\n",
      "Epoch 100: Loss = 0.2593\n",
      "Epoch 200: Loss = 0.2593\n",
      "Category: profitability\n",
      "Class Weight: 0.367213686010887\n",
      "Weights: [1.0]\n",
      "\n",
      "Category: leverage_coverage\n",
      "Class Weight: 0.614510015986914\n",
      "Weights: [0.2373745964555163, 0.18580497915793837, 0.5768204243865455]\n",
      "\n",
      "Category: efficiency\n",
      "Class Weight: 0.018276298002199015\n",
      "Weights: [0.3883666310182689, 0.6116333689817312]\n",
      "\n"
     ]
    }
   ],
   "source": [
    "# Train the model\n",
    "trained_model_inputs = train_model(model_inputs, learning_rate=0.1, num_iterations=300)\n",
    "\n",
    "# Print the optimized weights and class_weights\n",
    "for category, category_data in trained_model_inputs.items():\n",
    "    print(f\"Category: {category}\")\n",
    "    print(f\"Class Weight: {category_data['class_weight']}\")\n",
    "    print(f\"Weights: {category_data['weights']}\")\n",
    "    print()"
   ]
  },
  {
   "cell_type": "code",
   "execution_count": 4,
   "id": "6188c9dd-69dd-479d-a4c7-08096d4b2b4e",
   "metadata": {
    "tags": []
   },
   "outputs": [],
   "source": [
    "import numpy as np\n",
    "from scipy.optimize import minimize\n",
    "\n",
    "def calculate_loss(model_inputs):\n",
    "    yhat = []\n",
    "    for company in features.index:\n",
    "        ratios = features.loc[company][model_metrics].to_dict()\n",
    "        model = CreditRatingCalculator(model_inputs)\n",
    "        model.calculate_credit_rating(ratios)\n",
    "        credit_score = model.credit_score\n",
    "        yhat.append(credit_score)\n",
    "    y_true = targets['numeric_rating']\n",
    "    yhat = np.round(yhat, 1)\n",
    "    loss = mean_absolute_percentage_error(yhat, y_true)\n",
    "    return loss\n",
    "\n",
    "def normalize_weights(weights):\n",
    "    total = sum(weights)\n",
    "    return [weight / total for weight in weights]\n",
    "\n",
    "def train_model(model_inputs, learning_rate=0.01, num_iterations=5000):\n",
    "    np.random.seed(23)\n",
    "    \n",
    "    # Initialize weights and class_weights\n",
    "    for category in model_inputs.values():\n",
    "        category[\"class_weight\"] = np.random.random()\n",
    "        category[\"weights\"] = np.random.random(len(category[\"weights\"]))\n",
    "        category[\"weights\"] = normalize_weights(category[\"weights\"])\n",
    "    \n",
    "    # Define the objective function for optimization\n",
    "    def objective(params):\n",
    "        idx = 0\n",
    "        for category in model_inputs.values():\n",
    "            category[\"class_weight\"] = params[idx]\n",
    "            idx += 1\n",
    "            category[\"weights\"] = params[idx:idx+len(category[\"weights\"])]\n",
    "            idx += len(category[\"weights\"])\n",
    "        return calculate_loss(model_inputs)\n",
    "    \n",
    "    # Define the bounds for optimization\n",
    "    bounds = []\n",
    "    for category in model_inputs.values():\n",
    "        bounds.append((0, 1))  # Class weight bounds\n",
    "        bounds.extend([(0, 1)] * len(category[\"weights\"]))  # Weight bounds\n",
    "    \n",
    "    # Perform optimization using L-BFGS-B\n",
    "    initial_params = []\n",
    "    for category in model_inputs.values():\n",
    "        initial_params.append(category[\"class_weight\"])\n",
    "        initial_params.extend(category[\"weights\"])\n",
    "    \n",
    "    result = minimize(objective, initial_params, method='L-BFGS-B', bounds=bounds, options={'maxiter': num_iterations})\n",
    "    print(result)\n",
    "    \n",
    "    # Update the optimized weights and class_weights\n",
    "    optimized_params = result.x\n",
    "    idx = 0\n",
    "    for category in model_inputs.values():\n",
    "        category[\"class_weight\"] = optimized_params[idx]\n",
    "        idx += 1\n",
    "        category[\"weights\"] = optimized_params[idx:idx+len(category[\"weights\"])]\n",
    "        idx += len(category[\"weights\"])\n",
    "    \n",
    "    return model_inputs"
   ]
  },
  {
   "cell_type": "code",
   "execution_count": 5,
   "id": "719c5e62-9792-476d-be61-1ec114e4dd55",
   "metadata": {
    "tags": []
   },
   "outputs": [
    {
     "ename": "NameError",
     "evalue": "name 'model_inputs' is not defined",
     "output_type": "error",
     "traceback": [
      "\u001b[1;31m---------------------------------------------------------------------------\u001b[0m",
      "\u001b[1;31mNameError\u001b[0m                                 Traceback (most recent call last)",
      "Cell \u001b[1;32mIn[5], line 2\u001b[0m\n\u001b[0;32m      1\u001b[0m \u001b[38;5;66;03m# Train the model\u001b[39;00m\n\u001b[1;32m----> 2\u001b[0m trained_model_inputs \u001b[38;5;241m=\u001b[39m train_model(model_inputs, learning_rate\u001b[38;5;241m=\u001b[39m\u001b[38;5;241m0.01\u001b[39m, num_iterations\u001b[38;5;241m=\u001b[39m\u001b[38;5;241m3000\u001b[39m)\n\u001b[0;32m      4\u001b[0m \u001b[38;5;66;03m# Print the optimized weights and class_weights\u001b[39;00m\n\u001b[0;32m      5\u001b[0m \u001b[38;5;28;01mfor\u001b[39;00m category, category_data \u001b[38;5;129;01min\u001b[39;00m trained_model_inputs\u001b[38;5;241m.\u001b[39mitems():\n",
      "\u001b[1;31mNameError\u001b[0m: name 'model_inputs' is not defined"
     ]
    }
   ],
   "source": [
    "# Train the model\n",
    "trained_model_inputs = train_model(model_inputs, learning_rate=0.01, num_iterations=3000)\n",
    "\n",
    "# Print the optimized weights and class_weights\n",
    "for category, category_data in trained_model_inputs.items():\n",
    "    print(f\"Category: {category}\")\n",
    "    print(f\"Class Weight: {category_data['class_weight']}\")\n",
    "    print(f\"Weights: {category_data['weights']}\")\n",
    "    print()"
   ]
  },
  {
   "cell_type": "code",
   "execution_count": null,
   "id": "4aa0b1c9-c74e-4d4e-9b39-869d91aa3478",
   "metadata": {},
   "outputs": [],
   "source": []
  },
  {
   "cell_type": "code",
   "execution_count": null,
   "id": "316f90ec-8e31-4031-97a5-0edacc49145c",
   "metadata": {},
   "outputs": [],
   "source": [
    "def calculate_loss(model_inputs):\n",
    "    yhat = []\n",
    "    for company in features.index:\n",
    "        ratios = features.loc[company][model_metrics].to_dict()\n",
    "        model = CreditRatingCalculator(model_inputs)\n",
    "        model.calculate_credit_rating(ratios)\n",
    "        credit_score = model.credit_score\n",
    "        yhat.append(credit_score)\n",
    "    y_true = targets['numeric_rating']\n",
    "    yhat = np.round(yhat, 1)\n",
    "    loss = mean_absolute_percentage_error(yhat, y_true)\n",
    "    return loss"
   ]
  },
  {
   "cell_type": "code",
   "execution_count": 28,
   "id": "b581f5d0-2b38-46e6-9ff0-363c781ee842",
   "metadata": {
    "tags": []
   },
   "outputs": [
    {
     "data": {
      "text/plain": [
       "0.2592912997321396"
      ]
     },
     "execution_count": 28,
     "metadata": {},
     "output_type": "execute_result"
    }
   ],
   "source": [
    "calculate_loss(trained_model_inputs)"
   ]
  },
  {
   "cell_type": "code",
   "execution_count": null,
   "id": "6ae86c62-fa93-4621-8344-c86ecd7c4fab",
   "metadata": {},
   "outputs": [],
   "source": []
  },
  {
   "cell_type": "code",
   "execution_count": null,
   "id": "630e69bd-0e91-4c5d-a5d0-416f8e8b2c22",
   "metadata": {},
   "outputs": [],
   "source": []
  },
  {
   "cell_type": "code",
   "execution_count": 14,
   "id": "0ba089a1-c201-4a2e-80c1-161b368c8e22",
   "metadata": {
    "tags": []
   },
   "outputs": [],
   "source": [
    "def train_model(model_inputs, learning_rate=0.01, num_iterations=5000):\n",
    "    np.random.seed(23)\n",
    "    \n",
    "    # Initialize weights and class_weights\n",
    "    for category in model_inputs.values():\n",
    "        category[\"class_weight\"] = np.random.random()\n",
    "        category[\"weights\"] = np.random.random(len(category[\"weights\"]))\n",
    "        category[\"weights\"] = normalize_weights(category[\"weights\"])\n",
    "    \n",
    "    # Define the objective function for optimization\n",
    "    def objective(params):\n",
    "        idx = 0\n",
    "        for category in model_inputs.values():\n",
    "            category[\"class_weight\"] = params[idx]\n",
    "            idx += 1\n",
    "            category[\"weights\"] = params[idx:idx+len(category[\"weights\"])]\n",
    "            idx += len(category[\"weights\"])\n",
    "        return calculate_loss(model_inputs)\n",
    "    \n",
    "    # Define the bounds for optimization\n",
    "    bounds = []\n",
    "    for category in model_inputs.values():\n",
    "        bounds.append((0, 1))  # Class weight bounds\n",
    "        bounds.extend([(0, 1)] * len(category[\"weights\"]))  # Weight bounds\n",
    "    \n",
    "    # Perform optimization using L-BFGS-B\n",
    "    initial_params = []\n",
    "    for category in model_inputs.values():\n",
    "        initial_params.append(category[\"class_weight\"])\n",
    "        initial_params.extend(category[\"weights\"])\n",
    "    \n",
    "    result = minimize(objective, initial_params, method='L-BFGS-B', bounds=bounds, options={'maxiter': num_iterations})\n",
    "    \n",
    "    # Update the optimized weights and class_weights\n",
    "    optimized_params = result.x\n",
    "    idx = 0\n",
    "    for category in model_inputs.values():\n",
    "        category[\"class_weight\"] = optimized_params[idx]\n",
    "        idx += 1\n",
    "        category[\"weights\"] = optimized_params[idx:idx+len(category[\"weights\"])]\n",
    "        idx += len(category[\"weights\"])\n",
    "    \n",
    "    # Calculate and print the final error\n",
    "    final_error = calculate_loss(model_inputs)\n",
    "    print(f\"Final Error: {final_error:.4f}\")\n",
    "    \n",
    "    return model_inputs"
   ]
  },
  {
   "cell_type": "code",
   "execution_count": null,
   "id": "4e47d3b9-5b76-47e0-8744-09d466bd1115",
   "metadata": {},
   "outputs": [],
   "source": []
  },
  {
   "cell_type": "code",
   "execution_count": 110,
   "id": "15a5422d-cd85-4ed4-8396-a3f0b1cdfe9f",
   "metadata": {
    "tags": []
   },
   "outputs": [],
   "source": [
    "def calculate_loss(model_inputs):\n",
    "    yhat = []\n",
    "    for company in features.index:\n",
    "        ratios = features.loc[company][model_metrics].to_dict()    \n",
    "        model = CreditRatingCalculator(model_inputs)\n",
    "        model.calculate_credit_rating(ratios)\n",
    "\n",
    "        credit_score = model.credit_score\n",
    "        credit_rating = model.credit_rating\n",
    "\n",
    "        yhat.append(credit_score)\n",
    "\n",
    "    y_true = targets['numeric_rating']\n",
    "    yhat = np.round(yhat, 1)\n",
    "    loss = mean_absolute_percentage_error(yhat, y_true)\n",
    "    print(y_true.values)\n",
    "    print(yhat)\n",
    "    return loss"
   ]
  },
  {
   "cell_type": "code",
   "execution_count": 111,
   "id": "be71476e-1b9b-4fae-90ac-5be566aafe86",
   "metadata": {
    "tags": []
   },
   "outputs": [
    {
     "name": "stdout",
     "output_type": "stream",
     "text": [
      "[5.5 5.5 4.5 6.5 4.5 5.5 6.5 4.5 6.5 6.5 7.5 5.5 5.5 6.5 5.5 5.5 6.5 6.5\n",
      " 5.5 6.5 5.5 6.5 5.5 6.5 6.5 6.5 6.5 6.5 5.5 8.5 6.5 6.5 6.5 6.5 6.5 6.5\n",
      " 6.5 6.5 6.5 6.5 6.5 6.5 6.5 6.5 6.5 6.5 5.5 6.5 5.5 6.5 6.5 6.5 6.5 6.5\n",
      " 6.5 6.5 6.5 5.5 6.5 6.5 7.5 6.5 6.5 5.5 5.5 6.5 6.5 5.5 6.5 6.5]\n",
      "[9.1 3.7 6.9 9.3 2.6 3.5 9.4 5.8 6.8 0.2 3.5 3.7 4.  0.2 3.5 9.2 0.2 7.\n",
      " 0.2 3.8 3.5 0.2 3.6 9.3 9.2 9.2 9.2 3.7 7.  9.3 0.2 5.7 9.  9.  9.4 2.4\n",
      " 3.8 3.8 4.6 8.1 8.  9.2 4.6 4.6 9.1 6.9 9.3 4.7 4.  6.9 9.1 3.8 3.7 3.7\n",
      " 3.7 0.3 4.6 4.1 9.2 6.9 6.9 9.  6.9 4.7 2.5 4.2 3.7 4.7 4.7 4.2]\n"
     ]
    },
    {
     "data": {
      "text/plain": [
       "3.305207936385858"
      ]
     },
     "execution_count": 111,
     "metadata": {},
     "output_type": "execute_result"
    }
   ],
   "source": [
    "calculate_loss(trained_model_inputs)"
   ]
  },
  {
   "cell_type": "code",
   "execution_count": 141,
   "id": "492bc020-39c5-4543-841b-31d933f03c51",
   "metadata": {
    "tags": []
   },
   "outputs": [
    {
     "name": "stdout",
     "output_type": "stream",
     "text": [
      "[(-50.0, -37.5), (-37.5, -25.0), (-25.0, -12.5), (-12.5, 0.0), (0.0, 12.5), (12.5, 25.0), (25.0, 37.5), (37.5, 50.0), (37.5, 50)]\n"
     ]
    }
   ],
   "source": [
    "def get_buckets(min_val, max_val, lower_is_better=False, num_buckets=9):\n",
    "    \"\"\"\n",
    "    Generates optimized buckets based on min, max values, desired number of buckets, and whether lower values are better.\n",
    "\n",
    "    Args:\n",
    "        min_val (float): The minimum value.\n",
    "        max_val (float): The maximum value.\n",
    "        num_buckets (int, optional): Number of buckets. Defaults to 9.\n",
    "        lower_is_better (bool, optional): True if lower values are better, else False. Defaults to False.\n",
    "\n",
    "    Returns:\n",
    "        list: List of tuples (start, end) representing each bucket's range.\n",
    "    \"\"\"\n",
    "    min_val, max_val = (max_val, min_val) if lower_is_better else (min_val, max_val)\n",
    "    interval = (max_val - min_val) / (num_buckets - 1)\n",
    "    buckets = [(round(min_val + i * interval, 2), round(min_val + (i + 1) * interval, 2)) for i in range(num_buckets - 1)]\n",
    "    buckets.append((round(max_val - interval, 2), max_val))\n",
    "    return list(reversed(buckets)) if lower_is_better else buckets\n",
    "\n",
    "\n",
    "# Redefine the values and number of buckets for clarity\n",
    "min_val = -50\n",
    "max_val = 50\n",
    "\n",
    "# Generate the optimized buckets\n",
    "buckets_list = get_buckets(min_val,  max_val)\n",
    "print(buckets_list)"
   ]
  },
  {
   "cell_type": "code",
   "execution_count": 144,
   "id": "2d89e519-533f-4b92-994b-9f8ad8628bcb",
   "metadata": {
    "tags": []
   },
   "outputs": [],
   "source": [
    "max_val = features[model_metrics].max()\n",
    "min_val = features[model_metrics].min()"
   ]
  },
  {
   "cell_type": "code",
   "execution_count": 155,
   "id": "47b17f9b-6bcc-45d1-8e4c-341543036eee",
   "metadata": {
    "tags": []
   },
   "outputs": [
    {
     "name": "stdout",
     "output_type": "stream",
     "text": [
      "oper_margin [(-58.0, -42.75), (-42.75, -27.5), (-27.5, -12.25), (-12.25, 3.0), (3.0, 18.25), (18.25, 33.5), (33.5, 48.75), (48.75, 64.0), (48.75, 64.0)]\n",
      "tot_debt_to_tot_eqy [(4.0, 412.62), (412.62, 821.25), (821.25, 1229.88), (1229.88, 1638.5), (1638.5, 2047.12), (2047.12, 2455.75), (2455.75, 2864.38), (2864.38, 3273.0), (2864.38, 3273.0)]\n",
      "tot_debt_to_ebitda [(0.0, 7.62), (7.62, 15.25), (15.25, 22.88), (22.88, 30.5), (30.5, 38.12), (38.12, 45.75), (45.75, 53.38), (53.38, 61.0), (53.38, 61.0)]\n",
      "ebitda_to_tot_int_exp [(-1.0, 2.12), (2.12, 5.25), (5.25, 8.38), (8.38, 11.5), (11.5, 14.62), (14.62, 17.75), (17.75, 20.88), (20.88, 24.0), (20.88, 24.0)]\n",
      "return_on_asset [(-24.0, -18.38), (-18.38, -12.75), (-12.75, -7.12), (-7.12, -1.5), (-1.5, 4.12), (4.12, 9.75), (9.75, 15.38), (15.38, 21.0), (15.38, 21.0)]\n",
      "asset_turnover [(0.0, 0.5), (0.5, 1.0), (1.0, 1.5), (1.5, 2.0), (2.0, 2.5), (2.5, 3.0), (3.0, 3.5), (3.5, 4.0), (3.5, 4.0)]\n"
     ]
    }
   ],
   "source": [
    "for metric in model_metrics:\n",
    "    buckets = get_buckets(min_val.loc[metric].round(0), max_val.loc[metric].round(0))\n",
    "    print(metric, buckets)"
   ]
  }
 ],
 "metadata": {
  "kernelspec": {
   "display_name": "Python 3 (ipykernel)",
   "language": "python",
   "name": "python3"
  },
  "language_info": {
   "codemirror_mode": {
    "name": "ipython",
    "version": 3
   },
   "file_extension": ".py",
   "mimetype": "text/x-python",
   "name": "python",
   "nbconvert_exporter": "python",
   "pygments_lexer": "ipython3",
   "version": "3.11.5"
  }
 },
 "nbformat": 4,
 "nbformat_minor": 5
}
