{
 "cells": [
  {
   "cell_type": "code",
   "execution_count": 1,
   "id": "a6c511f9-3d93-47b9-b3dd-70b116e1c004",
   "metadata": {
    "tags": []
   },
   "outputs": [],
   "source": [
    "import json\n",
    "import pandas as pd\n",
    "\n",
    "example_json = {\n",
    "    \"65559\": {\n",
    "        \"io_code\": 65559,\n",
    "        \"fund_name\": \"Sasfin BCI Prudential Fund\",\n",
    "        \"sheet_name\": \"Prudential Report\",\n",
    "        \"reports\": [\"holdings\"],  # Simplified for this example\n",
    "        \"holdings_columns\": [\"Security\", \"Market Value\"],  # Simplified\n",
    "        \"look_through\": True,\n",
    "        \"holdings_data\": [  # Sample holdings data\n",
    "            {\"Security\": \"ABC Bond\", \"Market Value\": 1000000},\n",
    "            {\"Security\": \"XYZ Stock\", \"Market Value\": 500000},\n",
    "        ],\n",
    "    },\n",
    "}\n",
    "\n",
    "\n",
    "# Function to save JSON data to Excel\n",
    "def save_json_to_excel(json_data, filename):\n",
    "    with pd.ExcelWriter(filename) as writer:\n",
    "        for fund_id, fund_info in json_data.items():\n",
    "            sheet_name = fund_info[\"sheet_name\"]\n",
    "            df = pd.DataFrame(fund_info[\"holdings_data\"])  # Create DataFrame from holdings_data\n",
    "            df.to_excel(writer, sheet_name=sheet_name, index=False)\n",
    "\n",
    "\n",
    "# Function to load data from Excel and restore JSON structure\n",
    "def load_data_from_excel(filename):\n",
    "    xls = pd.ExcelFile(filename)\n",
    "    loaded_data = {}\n",
    "    for sheet_name in xls.sheet_names:\n",
    "        df = pd.read_excel(xls, sheet_name=sheet_name)\n",
    "        io_code = df.iloc[0, 0]\n",
    "        loaded_data[str(io_code)] = {  \n",
    "            \"sheet_name\": sheet_name,\n",
    "            \"holdings_columns\": df.columns.tolist(),\n",
    "            \"holdings_data\": df.to_dict(orient=\"records\"),\n",
    "        }\n",
    "    return loaded_data\n",
    "\n",
    "\n",
    "# Save the example JSON to Excel\n",
    "save_json_to_excel(example_json, \"sasfin_funds.xlsx\")\n",
    "\n",
    "# Load the data back from Excel\n",
    "loaded_json = load_data_from_excel(\"sasfin_funds.xlsx\")\n"
   ]
  },
  {
   "cell_type": "code",
   "execution_count": 3,
   "id": "12206b2d-aa86-4e1a-a123-35bd5d3409af",
   "metadata": {
    "tags": []
   },
   "outputs": [
    {
     "data": {
      "text/plain": [
       "{'ABC Bond': {'sheet_name': 'Prudential Report',\n",
       "  'holdings_columns': ['Security', 'Market Value'],\n",
       "  'holdings_data': [{'Security': 'ABC Bond', 'Market Value': 1000000},\n",
       "   {'Security': 'XYZ Stock', 'Market Value': 500000}]}}"
      ]
     },
     "execution_count": 3,
     "metadata": {},
     "output_type": "execute_result"
    }
   ],
   "source": [
    "loaded_json"
   ]
  },
  {
   "cell_type": "code",
   "execution_count": 4,
   "id": "b802c59e-382d-4357-9a3a-97c600edfea5",
   "metadata": {
    "tags": []
   },
   "outputs": [
    {
     "data": {
      "text/plain": [
       "{'65559': {'io_code': 65559,\n",
       "  'fund_name': 'Sasfin BCI Prudential Fund',\n",
       "  'sheet_name': 'Prudential Report',\n",
       "  'reports': ['holdings'],\n",
       "  'holdings_columns': ['Security', 'Market Value'],\n",
       "  'look_through': True,\n",
       "  'holdings_data': [{'Security': 'ABC Bond', 'Market Value': 1000000},\n",
       "   {'Security': 'XYZ Stock', 'Market Value': 500000}]}}"
      ]
     },
     "execution_count": 4,
     "metadata": {},
     "output_type": "execute_result"
    }
   ],
   "source": [
    "example_json"
   ]
  }
 ],
 "metadata": {
  "kernelspec": {
   "display_name": "Python 3 (ipykernel)",
   "language": "python",
   "name": "python3"
  },
  "language_info": {
   "codemirror_mode": {
    "name": "ipython",
    "version": 3
   },
   "file_extension": ".py",
   "mimetype": "text/x-python",
   "name": "python",
   "nbconvert_exporter": "python",
   "pygments_lexer": "ipython3",
   "version": "3.11.5"
  }
 },
 "nbformat": 4,
 "nbformat_minor": 5
}
