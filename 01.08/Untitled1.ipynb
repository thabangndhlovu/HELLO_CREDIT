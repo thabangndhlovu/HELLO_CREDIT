{
 "cells": [
  {
   "cell_type": "code",
   "execution_count": 63,
   "id": "e1341987-6cc3-4d0f-8462-e744ee584a12",
   "metadata": {},
   "outputs": [],
   "source": [
    "import numpy as np\n",
    "import pymc as pm"
   ]
  },
  {
   "cell_type": "code",
   "execution_count": 56,
   "id": "9d219357-cb38-4f69-91cf-a1f716130524",
   "metadata": {
    "tags": []
   },
   "outputs": [],
   "source": [
    "metrics = {\n",
    "    'debt_to_equity': np.random.normal(1.5, 0.2, periods),\n",
    "    'interest_coverage': np.random.normal(5, 1, periods),\n",
    "    'asset_turnover': np.random.normal(0.8, 0.1, periods),\n",
    "    'interest_expense': np.random.normal(0.05, 0.01, periods)\n",
    "}"
   ]
  },
  {
   "cell_type": "code",
   "execution_count": 61,
   "id": "62874a53-067a-4d7f-8337-b689ec663f02",
   "metadata": {
    "tags": []
   },
   "outputs": [],
   "source": [
    "import numpy as np\n",
    "import pymc as pm\n",
    "\n",
    "periods = 5\n",
    "metrics = {\n",
    "    'debt_to_equity': np.random.normal(1.5, 0.2, periods),\n",
    "    'interest_coverage': np.random.normal(5, 1, periods),\n",
    "    'asset_turnover': np.random.normal(0.8, 0.1, periods),\n",
    "    'interest_expense': np.random.normal(0.05, 0.01, periods)\n",
    "}\n",
    "\n",
    "\n",
    "def generate_predictions(metrics):\n",
    "    with pm.Model() as model:\n",
    "        priors = {\n",
    "            metric: pm.Normal(f'{metric}_prior', mu=values[-1], sigma=np.std(values))\n",
    "            for metric, values in metrics.items()\n",
    "        }\n",
    "        likelihoods = {\n",
    "            metric: pm.Normal(f'{metric}_likelihood', mu=priors[metric], sigma=np.std(values), observed=values)\n",
    "            for metric, values in metrics.items()\n",
    "        }\n",
    "        trace = pm.sample(1000, tune=1000)\n",
    "\n",
    "    predictions = {metric: np.mean(trace.posterior[f'{metric}_prior'].values) for metric in metrics}\n",
    "    return predictions"
   ]
  },
  {
   "cell_type": "code",
   "execution_count": 62,
   "id": "5c214f3d-72e5-4669-9151-5cb2dc393ef2",
   "metadata": {
    "tags": []
   },
   "outputs": [
    {
     "name": "stderr",
     "output_type": "stream",
     "text": [
      "C:\\Users\\103763\\AppData\\Local\\anaconda3\\Lib\\site-packages\\pytensor\\tensor\\rewriting\\elemwise.py:1029: UserWarning: Loop fusion failed because the resulting node would exceed the kernel argument limit.\n",
      "  warn(\n",
      "Auto-assigning NUTS sampler...\n",
      "Initializing NUTS using jitter+adapt_diag...\n",
      "C:\\Users\\103763\\AppData\\Local\\anaconda3\\Lib\\site-packages\\pytensor\\tensor\\rewriting\\elemwise.py:1029: UserWarning: Loop fusion failed because the resulting node would exceed the kernel argument limit.\n",
      "  warn(\n",
      "Multiprocess sampling (4 chains in 4 jobs)\n",
      "NUTS: [debt_to_equity_prior, interest_coverage_prior, asset_turnover_prior, interest_expense_prior]\n"
     ]
    },
    {
     "data": {
      "text/html": [
       "\n",
       "<style>\n",
       "    /* Turns off some styling */\n",
       "    progress {\n",
       "        /* gets rid of default border in Firefox and Opera. */\n",
       "        border: none;\n",
       "        /* Needs to be in here for Safari polyfill so background images work as expected. */\n",
       "        background-size: auto;\n",
       "    }\n",
       "    progress:not([value]), progress:not([value])::-webkit-progress-bar {\n",
       "        background: repeating-linear-gradient(45deg, #7e7e7e, #7e7e7e 10px, #5c5c5c 10px, #5c5c5c 20px);\n",
       "    }\n",
       "    .progress-bar-interrupted, .progress-bar-interrupted::-webkit-progress-bar {\n",
       "        background: #F44336;\n",
       "    }\n",
       "</style>\n"
      ],
      "text/plain": [
       "<IPython.core.display.HTML object>"
      ]
     },
     "metadata": {},
     "output_type": "display_data"
    },
    {
     "data": {
      "text/html": [
       "\n",
       "    <div>\n",
       "      <progress value='8000' class='' max='8000' style='width:300px; height:20px; vertical-align: middle;'></progress>\n",
       "      100.00% [8000/8000 01:01&lt;00:00 Sampling 4 chains, 0 divergences]\n",
       "    </div>\n",
       "    "
      ],
      "text/plain": [
       "<IPython.core.display.HTML object>"
      ]
     },
     "metadata": {},
     "output_type": "display_data"
    },
    {
     "name": "stderr",
     "output_type": "stream",
     "text": [
      "Sampling 4 chains for 1_000 tune and 1_000 draw iterations (4_000 + 4_000 draws total) took 88 seconds.\n"
     ]
    },
    {
     "data": {
      "text/plain": [
       "{'debt_to_equity': 1.4354540378906038,\n",
       " 'interest_coverage': 5.010089759952652,\n",
       " 'asset_turnover': 0.8138410863739253,\n",
       " 'interest_expense': 0.05027357640453939}"
      ]
     },
     "execution_count": 62,
     "metadata": {},
     "output_type": "execute_result"
    }
   ],
   "source": [
    "generate_predictions(metrics)"
   ]
  },
  {
   "cell_type": "code",
   "execution_count": 3,
   "id": "cb153b67",
   "metadata": {},
   "outputs": [
    {
     "name": "stderr",
     "output_type": "stream",
     "text": [
      "Auto-assigning NUTS sampler...\n",
      "Initializing NUTS using jitter+adapt_diag...\n",
      "Multiprocess sampling (4 chains in 4 jobs)\n",
      "NUTS: [debt_to_equity_prior, interest_coverage_prior, asset_turnover_prior, interest_expense_prior]\n"
     ]
    },
    {
     "data": {
      "text/html": [
       "\n",
       "<style>\n",
       "    /* Turns off some styling */\n",
       "    progress {\n",
       "        /* gets rid of default border in Firefox and Opera. */\n",
       "        border: none;\n",
       "        /* Needs to be in here for Safari polyfill so background images work as expected. */\n",
       "        background-size: auto;\n",
       "    }\n",
       "    progress:not([value]), progress:not([value])::-webkit-progress-bar {\n",
       "        background: repeating-linear-gradient(45deg, #7e7e7e, #7e7e7e 10px, #5c5c5c 10px, #5c5c5c 20px);\n",
       "    }\n",
       "    .progress-bar-interrupted, .progress-bar-interrupted::-webkit-progress-bar {\n",
       "        background: #F44336;\n",
       "    }\n",
       "</style>\n"
      ],
      "text/plain": [
       "<IPython.core.display.HTML object>"
      ]
     },
     "metadata": {},
     "output_type": "display_data"
    },
    {
     "data": {
      "text/html": [
       "\n",
       "    <div>\n",
       "      <progress value='8000' class='' max='8000' style='width:300px; height:20px; vertical-align: middle;'></progress>\n",
       "      100.00% [8000/8000 00:18&lt;00:00 Sampling 4 chains, 0 divergences]\n",
       "    </div>\n",
       "    "
      ],
      "text/plain": [
       "<IPython.core.display.HTML object>"
      ]
     },
     "metadata": {},
     "output_type": "display_data"
    },
    {
     "name": "stderr",
     "output_type": "stream",
     "text": [
      "Sampling 4 chains for 1_000 tune and 1_000 draw iterations (4_000 + 4_000 draws total) took 57 seconds.\n"
     ]
    },
    {
     "ename": "AttributeError",
     "evalue": "module 'pymc' has no attribute 'save_trace'",
     "output_type": "error",
     "traceback": [
      "\u001b[1;31m---------------------------------------------------------------------------\u001b[0m",
      "\u001b[1;31mAttributeError\u001b[0m                            Traceback (most recent call last)",
      "Cell \u001b[1;32mIn[3], line 30\u001b[0m\n\u001b[0;32m     27\u001b[0m     \u001b[38;5;28;01mreturn\u001b[39;00m predictions, model\n\u001b[0;32m     29\u001b[0m \u001b[38;5;66;03m# Generate predictions\u001b[39;00m\n\u001b[1;32m---> 30\u001b[0m predictions, model \u001b[38;5;241m=\u001b[39m generate_predictions(metrics)\n\u001b[0;32m     31\u001b[0m \u001b[38;5;28mprint\u001b[39m(\u001b[38;5;124m\"\u001b[39m\u001b[38;5;124mPredictions:\u001b[39m\u001b[38;5;124m\"\u001b[39m, predictions)\n\u001b[0;32m     33\u001b[0m \u001b[38;5;66;03m# Save the model using PyMC3's `save` function\u001b[39;00m\n",
      "Cell \u001b[1;32mIn[3], line 24\u001b[0m, in \u001b[0;36mgenerate_predictions\u001b[1;34m(metrics)\u001b[0m\n\u001b[0;32m     21\u001b[0m     trace \u001b[38;5;241m=\u001b[39m pm\u001b[38;5;241m.\u001b[39msample(\u001b[38;5;241m1000\u001b[39m, tune\u001b[38;5;241m=\u001b[39m\u001b[38;5;241m1000\u001b[39m)\n\u001b[0;32m     23\u001b[0m     \u001b[38;5;66;03m# Save the model using PyMC3's `save` function\u001b[39;00m\n\u001b[1;32m---> 24\u001b[0m     pm\u001b[38;5;241m.\u001b[39msave_trace(trace, \u001b[38;5;124m'\u001b[39m\u001b[38;5;124mmodel_trace.pkl\u001b[39m\u001b[38;5;124m'\u001b[39m)\n\u001b[0;32m     26\u001b[0m predictions \u001b[38;5;241m=\u001b[39m {metric: np\u001b[38;5;241m.\u001b[39mmean(trace\u001b[38;5;241m.\u001b[39mposterior[\u001b[38;5;124mf\u001b[39m\u001b[38;5;124m'\u001b[39m\u001b[38;5;132;01m{\u001b[39;00mmetric\u001b[38;5;132;01m}\u001b[39;00m\u001b[38;5;124m_prior\u001b[39m\u001b[38;5;124m'\u001b[39m]\u001b[38;5;241m.\u001b[39mvalues) \u001b[38;5;28;01mfor\u001b[39;00m metric \u001b[38;5;129;01min\u001b[39;00m metrics}\n\u001b[0;32m     27\u001b[0m \u001b[38;5;28;01mreturn\u001b[39;00m predictions, model\n",
      "\u001b[1;31mAttributeError\u001b[0m: module 'pymc' has no attribute 'save_trace'"
     ]
    }
   ],
   "source": [
    "import pymc as pm\n",
    "import numpy as np\n",
    "\n",
    "metrics = {\n",
    "    'debt_to_equity': np.random.normal(1.5, 0.2, 10),\n",
    "    'interest_coverage': np.random.normal(5, 1, 10),\n",
    "    'asset_turnover': np.random.normal(0.8, 0.1, 10),\n",
    "    'interest_expense': np.random.normal(0.05, 0.01, 10)\n",
    "}\n",
    "\n",
    "def generate_predictions(metrics: dict) -> dict:\n",
    "    with pm.Model() as model:\n",
    "        priors = {\n",
    "            metric: pm.Normal(f'{metric}_prior', mu=values[-1], sigma=np.std(values))\n",
    "            for metric, values in metrics.items()\n",
    "        }\n",
    "        likelihoods = {\n",
    "            metric: pm.Normal(f'{metric}_likelihood', mu=priors[metric], sigma=np.std(values), observed=values)\n",
    "            for metric, values in metrics.items()\n",
    "        }\n",
    "        trace = pm.sample(1000, tune=1000)\n",
    "        \n",
    "        # Save the model using PyMC3's `save` function\n",
    "        pm.save_trace(trace, 'model_trace.pkl')\n",
    "        \n",
    "    predictions = {metric: np.mean(trace.posterior[f'{metric}_prior'].values) for metric in metrics}\n",
    "    return predictions, model\n",
    "\n",
    "# Generate predictions\n",
    "predictions, model = generate_predictions(metrics)\n",
    "print(\"Predictions:\", predictions)\n",
    "\n",
    "# Save the model using PyMC3's `save` function\n",
    "pm.save_model(model, 'model.pkl')\n",
    "\n",
    "# Load the model using PyMC3's `load` function\n",
    "loaded_model = pm.load_model('model.pkl')\n",
    "loaded_trace = pm.load_trace('model_trace.pkl')\n",
    "\n",
    "# Generate predictions using the loaded model and trace\n",
    "with loaded_model:\n",
    "    loaded_predictions = {metric: np.mean(loaded_trace.posterior[f'{metric}_prior'].values) for metric in metrics}\n",
    "print(\"Loaded Model Predictions:\", loaded_predictions)"
   ]
  },
  {
   "cell_type": "code",
   "execution_count": 5,
   "id": "9bf4b6ac",
   "metadata": {},
   "outputs": [
    {
     "ename": "AttributeError",
     "evalue": "module 'pymc' has no attribute 'save'",
     "output_type": "error",
     "traceback": [
      "\u001b[1;31m---------------------------------------------------------------------------\u001b[0m",
      "\u001b[1;31mAttributeError\u001b[0m                            Traceback (most recent call last)",
      "Cell \u001b[1;32mIn[5], line 6\u001b[0m\n\u001b[0;32m      1\u001b[0m \u001b[38;5;66;03m# # Generate predictions\u001b[39;00m\n\u001b[0;32m      2\u001b[0m \u001b[38;5;66;03m# predictions, model = generate_predictions(metrics)\u001b[39;00m\n\u001b[0;32m      3\u001b[0m \u001b[38;5;66;03m# print(\"Predictions:\", predictions)\u001b[39;00m\n\u001b[0;32m      4\u001b[0m \n\u001b[0;32m      5\u001b[0m \u001b[38;5;66;03m# Save the model using PyMC3's `save` function\u001b[39;00m\n\u001b[1;32m----> 6\u001b[0m pm\u001b[38;5;241m.\u001b[39msave(model, \u001b[38;5;124m'\u001b[39m\u001b[38;5;124mmodel.pkl\u001b[39m\u001b[38;5;124m'\u001b[39m)\n\u001b[0;32m      8\u001b[0m \u001b[38;5;66;03m# Load the trace using the `from_netcdf` function\u001b[39;00m\n\u001b[0;32m      9\u001b[0m loaded_trace \u001b[38;5;241m=\u001b[39m pm\u001b[38;5;241m.\u001b[39mload_trace(\u001b[38;5;124m'\u001b[39m\u001b[38;5;124mmodel_trace.nc\u001b[39m\u001b[38;5;124m'\u001b[39m)\n",
      "\u001b[1;31mAttributeError\u001b[0m: module 'pymc' has no attribute 'save'"
     ]
    }
   ],
   "source": [
    "# # Generate predictions\n",
    "# predictions, model = generate_predictions(metrics)\n",
    "# print(\"Predictions:\", predictions)\n",
    "\n",
    "# Save the model using PyMC3's `save` function\n",
    "pm.save(model, 'model.pkl')\n",
    "\n",
    "# Load the trace using the `from_netcdf` function\n",
    "loaded_trace = pm.load_trace('model_trace.nc')\n",
    "\n",
    "# Load the model using PyMC3's `load` function\n",
    "loaded_model = pm.load('model.pkl')\n",
    "\n",
    "# Generate predictions using the loaded model and trace\n",
    "with loaded_model:\n",
    "    loaded_predictions = {metric: np.mean(loaded_trace.posterior[f'{metric}_prior'].values) for metric in metrics}\n",
    "print(\"Loaded Model Predictions:\", loaded_predictions)"
   ]
  },
  {
   "cell_type": "code",
   "execution_count": null,
   "id": "7d48d84a",
   "metadata": {},
   "outputs": [],
   "source": []
  },
  {
   "cell_type": "code",
   "execution_count": 6,
   "id": "cac989d3",
   "metadata": {},
   "outputs": [],
   "source": [
    "import numpy as np\n",
    "import streamlit as st\n",
    "from sklearn.linear_model import BayesianRidge\n",
    "\n",
    "# Number of periods\n",
    "periods = 5\n",
    "\n",
    "# Generate synthetic metrics\n",
    "metrics = {\n",
    "    'debt_to_equity': np.random.normal(1.5, 0.2, periods),\n",
    "    'interest_coverage': np.random.normal(5, 1, periods),\n",
    "    'asset_turnover': np.random.normal(0.8, 0.1, periods),\n",
    "    'interest_expense': np.random.normal(0.05, 0.01, periods)\n",
    "}\n",
    "\n",
    "def generate_predictions(metrics):\n",
    "    predictions = {}\n",
    "    for metric, values in metrics.items():\n",
    "        # Reshape values for sklearn\n",
    "        X = np.arange(len(values)).reshape(-1, 1)\n",
    "        y = values\n",
    "        \n",
    "        # Create and fit Bayesian Ridge model\n",
    "        model = BayesianRidge()\n",
    "        model.fit(X, y)\n",
    "        \n",
    "        # Predict the next value\n",
    "        next_period = np.array([[len(values)]])\n",
    "        prediction = model.predict(next_period)[0]\n",
    "        \n",
    "        predictions[metric] = prediction\n",
    "    \n",
    "    return predictions\n",
    "\n",
    "predictions = generate_predictions(metrics)\n"
   ]
  },
  {
   "cell_type": "code",
   "execution_count": 7,
   "id": "dd415119",
   "metadata": {},
   "outputs": [
    {
     "data": {
      "text/plain": [
       "{'debt_to_equity': 1.5948184423831018,\n",
       " 'interest_coverage': 4.920485762362708,\n",
       " 'asset_turnover': 0.8505026756748706,\n",
       " 'interest_expense': 0.031589963716381564}"
      ]
     },
     "execution_count": 7,
     "metadata": {},
     "output_type": "execute_result"
    }
   ],
   "source": [
    "predictions"
   ]
  },
  {
   "cell_type": "code",
   "execution_count": 8,
   "id": "e2820494",
   "metadata": {},
   "outputs": [
    {
     "data": {
      "text/plain": [
       "{'debt_to_equity': array([1.31558123, 1.58675591, 1.83628379, 1.48671445, 1.63729576]),\n",
       " 'interest_coverage': array([5.45896222, 4.63340422, 3.77162582, 6.44808298, 4.30048035]),\n",
       " 'asset_turnover': array([0.86565596, 0.98508054, 0.82737681, 0.69213597, 0.9027075 ]),\n",
       " 'interest_expense': array([0.06375183, 0.05352438, 0.05514639, 0.04655955, 0.03446954])}"
      ]
     },
     "execution_count": 8,
     "metadata": {},
     "output_type": "execute_result"
    }
   ],
   "source": [
    "metrics"
   ]
  },
  {
   "cell_type": "code",
   "execution_count": null,
   "id": "f033b455",
   "metadata": {},
   "outputs": [],
   "source": []
  }
 ],
 "metadata": {
  "kernelspec": {
   "display_name": "Python 3 (ipykernel)",
   "language": "python",
   "name": "python3"
  },
  "language_info": {
   "codemirror_mode": {
    "name": "ipython",
    "version": 3
   },
   "file_extension": ".py",
   "mimetype": "text/x-python",
   "name": "python",
   "nbconvert_exporter": "python",
   "pygments_lexer": "ipython3",
   "version": "3.11.5"
  }
 },
 "nbformat": 4,
 "nbformat_minor": 5
}
