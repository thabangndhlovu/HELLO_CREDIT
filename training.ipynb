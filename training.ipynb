{
 "cells": [
  {
   "cell_type": "markdown",
   "id": "e5bebd14-5939-4228-9449-e42827616343",
   "metadata": {},
   "source": [
    "# **Predictive Default Risk Assessor**"
   ]
  },
  {
   "cell_type": "code",
   "execution_count": 79,
   "id": "27606373",
   "metadata": {
    "tags": []
   },
   "outputs": [],
   "source": [
    "model_inputs = {\n",
    "    \"profitability\": {\n",
    "        \"class_weight\": 0.30,\n",
    "        \"weights\": [1.0], \n",
    "        \"metrics\": {\n",
    "            \"oper_margin\": {\n",
    "                \"lower_is_better\": False,\n",
    "                \"thresholds\": [\n",
    "                    (40, float(\"inf\")),\n",
    "                    (35, 39),\n",
    "                    (30, 34),\n",
    "                    (25, 29),\n",
    "                    (20, 24),\n",
    "                    (15, 19),\n",
    "                    (10, 14),\n",
    "                    (5, 9),\n",
    "                    (float(\"-inf\"), 0)\n",
    "                ],\n",
    "            }\n",
    "        },\n",
    "    },\n",
    "    \"leverage_coverage\": {\n",
    "        \"class_weight\": 0.55,\n",
    "        \"weights\": [0.4, 0.3, 0.3],\n",
    "        \"metrics\": {\n",
    "            \"tot_debt_to_tot_eqy\": {\n",
    "                \"lower_is_better\": True,\n",
    "                \"thresholds\": [\n",
    "                     (float(\"-inf\"), 2.0),\n",
    "                     (2.0, 16.0),\n",
    "                     (16.0, 24.0),\n",
    "                     (24.0, 33.0),\n",
    "                     (33.0, 43.0),\n",
    "                     (43.0, 54.0),\n",
    "                     (54.0, 68.0),\n",
    "                     (68.0, 94.0),\n",
    "                     (94.0, float(\"inf\")),\n",
    "                ],\n",
    "            },\n",
    "            \"tot_debt_to_ebitda\": {\n",
    "                \"lower_is_better\": True,\n",
    "                \"thresholds\": [\n",
    "                    (float(\"-inf\"), 0.09),\n",
    "                    (0.09, 0.49),\n",
    "                    (0.49, 0.9),\n",
    "                    (0.9, 1.36),\n",
    "                    (1.36, 1.68),\n",
    "                    (1.68, 2.26),\n",
    "                    (2.26, 3.27),\n",
    "                    (3.27, 4.4),\n",
    "                    (4.4, float(\"inf\")),\n",
    "                ],\n",
    "            },\n",
    "            \"ebitda_to_tot_int_exp\": {\n",
    "                \"lower_is_better\": False,\n",
    "                \"thresholds\": [\n",
    "                    (25, float(\"inf\")),\n",
    "                    (20, 25),\n",
    "                    (15, 20),\n",
    "                    (10, 15),\n",
    "                    (5, 10),\n",
    "                    (3, 5),\n",
    "                    (1, 3),\n",
    "                    (0, 1),\n",
    "                    (float(\"-inf\"), 0),\n",
    "                ],\n",
    "            },\n",
    "        },\n",
    "    },\n",
    "    \"efficiency\": {\n",
    "        \"class_weight\": 0.15,\n",
    "        \"weights\": [0.5, 0.5],\n",
    "        \"metrics\": {\n",
    "            \"return_on_asset\": {\n",
    "                \"lower_is_better\": False,\n",
    "                \"thresholds\": [\n",
    "                    (0.15, float(\"inf\")),\n",
    "                    (0.10, 0.15),\n",
    "                    (0.08, 0.10),\n",
    "                    (0.06, 0.08),\n",
    "                    (0.04, 0.06),\n",
    "                    (0.02, 0.04),\n",
    "                    (0.00, 0.02),\n",
    "                    (-0.02, 0.00),\n",
    "                    (float(\"-inf\"), -0.02)\n",
    "                ],\n",
    "            },\n",
    "            \"asset_turnover\": {\n",
    "                \"lower_is_better\": False,\n",
    "                \"thresholds\": [\n",
    "                    (4.0, float(\"inf\")),\n",
    "                    (3.0, 4.0),\n",
    "                    (2.0, 3.0),\n",
    "                    (1.5, 2.0),\n",
    "                    (1.0, 1.5),\n",
    "                    (0.75, 1.0),\n",
    "                    (0.5, 0.75),\n",
    "                    (0.25, 0.5),\n",
    "                    (float(\"-inf\"), 0.25)\n",
    "                ],\n",
    "            },\n",
    "        },\n",
    "    },\n",
    "}\n",
    "\n",
    "\n",
    "\n",
    "\n",
    "\n",
    "class CreditRatingCalculator:\n",
    "    def __init__(self, metrics):\n",
    "        self.metrics = metrics\n",
    "        self.credit_rating_dict = {\n",
    "            'Aaa': 2.5,\n",
    "            'Aa': 3.5,\n",
    "            'A': 4.5,\n",
    "            'Baa': 5.5,\n",
    "            'Ba': 6.5,\n",
    "            'B': 7.5,\n",
    "            'Caa': 8.5,\n",
    "            'Ca': 9.5,\n",
    "            'C': 10,\n",
    "        }\n",
    "        \n",
    "    def _calculate_metric_score(self, metric, thresholds, inverse):\n",
    "        for score, (lower, upper) in enumerate(thresholds, start=1):\n",
    "            if (inverse and metric <= upper) or (not inverse and metric >= lower):\n",
    "                return score\n",
    "        return len(thresholds) // 2 # else return the middle score\n",
    "\n",
    "    def _calculate_category_score(self, category_metrics, ratios):\n",
    "        total_weighted_score = 0\n",
    "\n",
    "        for metric, weight in zip(\n",
    "            category_metrics[\"metrics\"].items(), category_metrics[\"weights\"]\n",
    "        ):\n",
    "            metric_name, metric_data = metric\n",
    "            value = ratios[metric_name]\n",
    "            score = self._calculate_metric_score(\n",
    "                value, metric_data[\"thresholds\"], metric_data[\"lower_is_better\"]\n",
    "            )\n",
    "            total_weighted_score += score * weight\n",
    "\n",
    "        return total_weighted_score\n",
    "\n",
    "    def _calculate_scores(self, ratios):\n",
    "        scores = {}\n",
    "        for category, category_data in self.metrics.items():\n",
    "            category_score = self._calculate_category_score(category_data, ratios)\n",
    "            scores[category] = category_score\n",
    "        return scores\n",
    "\n",
    "    def _calculate_weighted_score(self, scores):\n",
    "        weights = {\n",
    "            category: category_data[\"class_weight\"]\n",
    "            for category, category_data in self.metrics.items()\n",
    "        }\n",
    "        return sum(scores[category] * weight for category, weight in weights.items())\n",
    "            \n",
    "    def _determine_credit_rating(self, weighted_score):\n",
    "        sorted_credit_ratings = sorted(self.credit_rating_dict.items(), key=lambda item: item[1])\n",
    "        for rating, threshold in sorted_credit_ratings:\n",
    "            if weighted_score <= threshold:\n",
    "                return rating\n",
    "        return \"N/R\" \n",
    "\n",
    "    def calculate_credit_rating(self, ratios):\n",
    "        self.scores = self._calculate_scores(ratios)\n",
    "        self.credit_score = self._calculate_weighted_score(self.scores)\n",
    "        self.credit_rating = self._determine_credit_rating(self.credit_score)"
   ]
  },
  {
   "cell_type": "code",
   "execution_count": 80,
   "id": "78b2f3ed-0720-43a7-8204-f4f0efe040b8",
   "metadata": {
    "tags": []
   },
   "outputs": [],
   "source": [
    "import pandas as pd\n",
    "import numpy as np"
   ]
  },
  {
   "cell_type": "code",
   "execution_count": 81,
   "id": "ba34e0b7-dd1b-41d2-b4dc-4608bdc2ece4",
   "metadata": {
    "tags": []
   },
   "outputs": [],
   "source": [
    "# df = pd.read_csv(\"research/JALSH Index_dataset_2000_2024_clean.csv\", index_col=0, header=[0, 1])\n",
    "# classfier = pd.read_excel(\"research/classification_data.xlsx\", index_col=0)\n",
    "metrics = pd.read_excel(\"research/metrics_full.xlsx\", index_col=0)"
   ]
  },
  {
   "cell_type": "code",
   "execution_count": 82,
   "id": "3460a8a6-dd7a-4896-a2ee-032416c11703",
   "metadata": {
    "tags": []
   },
   "outputs": [],
   "source": [
    "company = \"VOD SJ Equity\""
   ]
  },
  {
   "cell_type": "code",
   "execution_count": 83,
   "id": "c9ce811f-6d11-4467-92cb-8558f849a579",
   "metadata": {
    "tags": []
   },
   "outputs": [],
   "source": [
    "model_metrics = [\n",
    "    \"oper_margin\", \n",
    "    \"tot_debt_to_tot_eqy\", \n",
    "    \"tot_debt_to_ebitda\", \n",
    "    \"ebitda_to_tot_int_exp\", \n",
    "    \"return_on_asset\",\n",
    "    \"asset_turnover\",\n",
    "]\n",
    "\n",
    "ratios = metrics[company].loc[model_metrics].to_dict()"
   ]
  },
  {
   "cell_type": "code",
   "execution_count": 84,
   "id": "39b74db9-167a-4d83-bda9-f280c20cd9f4",
   "metadata": {
    "tags": []
   },
   "outputs": [
    {
     "name": "stdout",
     "output_type": "stream",
     "text": [
      "Model Inputs:\n"
     ]
    },
    {
     "data": {
      "text/plain": [
       "{'oper_margin': 26.21094703807191,\n",
       " 'tot_debt_to_tot_eqy': 65.00493973766227,\n",
       " 'tot_debt_to_ebitda': 0.7931121155634536,\n",
       " 'ebitda_to_tot_int_exp': 13.35518524144715,\n",
       " 'return_on_asset': 16.14384135791923,\n",
       " 'asset_turnover': 1.076701663147559}"
      ]
     },
     "metadata": {},
     "output_type": "display_data"
    },
    {
     "name": "stdout",
     "output_type": "stream",
     "text": [
      "\n",
      "Class Scoring: {'profitability': 4.0, 'leverage_coverage': 4.9, 'efficiency': 3.0}\n",
      "Credit Score: 4.345000000000001\n",
      "Credit Rating: A\n"
     ]
    }
   ],
   "source": [
    "model = CreditRatingCalculator(model_inputs)\n",
    "model.calculate_credit_rating(ratios)\n",
    "print(f\"Model Inputs:\")\n",
    "display(ratios)\n",
    "print(\"\")\n",
    "print(f\"Class Scoring: {model.scores}\")\n",
    "print(f\"Credit Score: {model.credit_score}\")\n",
    "print(f\"Credit Rating: {model.credit_rating}\")"
   ]
  },
  {
   "cell_type": "code",
   "execution_count": 10,
   "id": "88530fbc-ff49-4503-be9b-0d4db736dada",
   "metadata": {
    "tags": []
   },
   "outputs": [],
   "source": [
    "df = pd.read_excel(\"resources/stock_universe_default_prob.xlsx\", index_col=0)\n",
    "ratings = df.sort_values([\"bb_1yr_default_prob\"], ascending=False)"
   ]
  },
  {
   "cell_type": "code",
   "execution_count": null,
   "id": "cb3d9b3d-630b-4bd7-addf-4c1b78f02d2e",
   "metadata": {
    "tags": []
   },
   "outputs": [],
   "source": []
  },
  {
   "cell_type": "code",
   "execution_count": 87,
   "id": "aa70e658-0933-4211-a0c1-a7271b7eb6fa",
   "metadata": {
    "tags": []
   },
   "outputs": [],
   "source": [
    "ratios = [metrics[c].loc[model_metrics].to_dict() for c in metrics.columns] "
   ]
  },
  {
   "cell_type": "code",
   "execution_count": 94,
   "id": "f77f05b8-e8b8-45d0-9db7-86b40e7b4bcb",
   "metadata": {
    "tags": []
   },
   "outputs": [],
   "source": [
    "X = metrics.T"
   ]
  },
  {
   "cell_type": "code",
   "execution_count": 96,
   "id": "5f279790-d7c1-4f98-a6e5-1530eacb5a93",
   "metadata": {
    "tags": []
   },
   "outputs": [],
   "source": [
    "y = y.to_frame()"
   ]
  },
  {
   "cell_type": "code",
   "execution_count": null,
   "id": "10121123-0450-4fe8-8033-3300512b88f6",
   "metadata": {},
   "outputs": [],
   "source": []
  },
  {
   "cell_type": "code",
   "execution_count": 114,
   "id": "f817cf13-829d-4b37-a105-75d5994c3634",
   "metadata": {
    "tags": []
   },
   "outputs": [],
   "source": [
    "X = X.replace(0, np.nan)"
   ]
  },
  {
   "cell_type": "code",
   "execution_count": 125,
   "id": "bf3876b1-8bf4-4e01-80ac-189c5b9ee5ef",
   "metadata": {
    "tags": []
   },
   "outputs": [],
   "source": [
    "X = X[model_metrics]"
   ]
  },
  {
   "cell_type": "code",
   "execution_count": 126,
   "id": "268a4cd2-af70-4df7-a200-2f7d1e3f5376",
   "metadata": {
    "tags": []
   },
   "outputs": [],
   "source": [
    "from pycaret.regression import *"
   ]
  },
  {
   "cell_type": "code",
   "execution_count": 127,
   "id": "642cfee8-28eb-4179-831e-9dff2eee925f",
   "metadata": {
    "tags": []
   },
   "outputs": [
    {
     "data": {
      "text/html": [
       "<style type=\"text/css\">\n",
       "#T_2c7f0_row9_col1 {\n",
       "  background-color: lightgreen;\n",
       "}\n",
       "</style>\n",
       "<table id=\"T_2c7f0\">\n",
       "  <thead>\n",
       "    <tr>\n",
       "      <th class=\"blank level0\" >&nbsp;</th>\n",
       "      <th id=\"T_2c7f0_level0_col0\" class=\"col_heading level0 col0\" >Description</th>\n",
       "      <th id=\"T_2c7f0_level0_col1\" class=\"col_heading level0 col1\" >Value</th>\n",
       "    </tr>\n",
       "  </thead>\n",
       "  <tbody>\n",
       "    <tr>\n",
       "      <th id=\"T_2c7f0_level0_row0\" class=\"row_heading level0 row0\" >0</th>\n",
       "      <td id=\"T_2c7f0_row0_col0\" class=\"data row0 col0\" >Session id</td>\n",
       "      <td id=\"T_2c7f0_row0_col1\" class=\"data row0 col1\" >1307</td>\n",
       "    </tr>\n",
       "    <tr>\n",
       "      <th id=\"T_2c7f0_level0_row1\" class=\"row_heading level0 row1\" >1</th>\n",
       "      <td id=\"T_2c7f0_row1_col0\" class=\"data row1 col0\" >Target</td>\n",
       "      <td id=\"T_2c7f0_row1_col1\" class=\"data row1 col1\" >numerical_rating</td>\n",
       "    </tr>\n",
       "    <tr>\n",
       "      <th id=\"T_2c7f0_level0_row2\" class=\"row_heading level0 row2\" >2</th>\n",
       "      <td id=\"T_2c7f0_row2_col0\" class=\"data row2 col0\" >Target type</td>\n",
       "      <td id=\"T_2c7f0_row2_col1\" class=\"data row2 col1\" >Regression</td>\n",
       "    </tr>\n",
       "    <tr>\n",
       "      <th id=\"T_2c7f0_level0_row3\" class=\"row_heading level0 row3\" >3</th>\n",
       "      <td id=\"T_2c7f0_row3_col0\" class=\"data row3 col0\" >Original data shape</td>\n",
       "      <td id=\"T_2c7f0_row3_col1\" class=\"data row3 col1\" >(124, 7)</td>\n",
       "    </tr>\n",
       "    <tr>\n",
       "      <th id=\"T_2c7f0_level0_row4\" class=\"row_heading level0 row4\" >4</th>\n",
       "      <td id=\"T_2c7f0_row4_col0\" class=\"data row4 col0\" >Transformed data shape</td>\n",
       "      <td id=\"T_2c7f0_row4_col1\" class=\"data row4 col1\" >(124, 7)</td>\n",
       "    </tr>\n",
       "    <tr>\n",
       "      <th id=\"T_2c7f0_level0_row5\" class=\"row_heading level0 row5\" >5</th>\n",
       "      <td id=\"T_2c7f0_row5_col0\" class=\"data row5 col0\" >Transformed train set shape</td>\n",
       "      <td id=\"T_2c7f0_row5_col1\" class=\"data row5 col1\" >(86, 7)</td>\n",
       "    </tr>\n",
       "    <tr>\n",
       "      <th id=\"T_2c7f0_level0_row6\" class=\"row_heading level0 row6\" >6</th>\n",
       "      <td id=\"T_2c7f0_row6_col0\" class=\"data row6 col0\" >Transformed test set shape</td>\n",
       "      <td id=\"T_2c7f0_row6_col1\" class=\"data row6 col1\" >(38, 7)</td>\n",
       "    </tr>\n",
       "    <tr>\n",
       "      <th id=\"T_2c7f0_level0_row7\" class=\"row_heading level0 row7\" >7</th>\n",
       "      <td id=\"T_2c7f0_row7_col0\" class=\"data row7 col0\" >Numeric features</td>\n",
       "      <td id=\"T_2c7f0_row7_col1\" class=\"data row7 col1\" >6</td>\n",
       "    </tr>\n",
       "    <tr>\n",
       "      <th id=\"T_2c7f0_level0_row8\" class=\"row_heading level0 row8\" >8</th>\n",
       "      <td id=\"T_2c7f0_row8_col0\" class=\"data row8 col0\" >Rows with missing values</td>\n",
       "      <td id=\"T_2c7f0_row8_col1\" class=\"data row8 col1\" >14.5%</td>\n",
       "    </tr>\n",
       "    <tr>\n",
       "      <th id=\"T_2c7f0_level0_row9\" class=\"row_heading level0 row9\" >9</th>\n",
       "      <td id=\"T_2c7f0_row9_col0\" class=\"data row9 col0\" >Preprocess</td>\n",
       "      <td id=\"T_2c7f0_row9_col1\" class=\"data row9 col1\" >True</td>\n",
       "    </tr>\n",
       "    <tr>\n",
       "      <th id=\"T_2c7f0_level0_row10\" class=\"row_heading level0 row10\" >10</th>\n",
       "      <td id=\"T_2c7f0_row10_col0\" class=\"data row10 col0\" >Imputation type</td>\n",
       "      <td id=\"T_2c7f0_row10_col1\" class=\"data row10 col1\" >simple</td>\n",
       "    </tr>\n",
       "    <tr>\n",
       "      <th id=\"T_2c7f0_level0_row11\" class=\"row_heading level0 row11\" >11</th>\n",
       "      <td id=\"T_2c7f0_row11_col0\" class=\"data row11 col0\" >Numeric imputation</td>\n",
       "      <td id=\"T_2c7f0_row11_col1\" class=\"data row11 col1\" >mean</td>\n",
       "    </tr>\n",
       "    <tr>\n",
       "      <th id=\"T_2c7f0_level0_row12\" class=\"row_heading level0 row12\" >12</th>\n",
       "      <td id=\"T_2c7f0_row12_col0\" class=\"data row12 col0\" >Categorical imputation</td>\n",
       "      <td id=\"T_2c7f0_row12_col1\" class=\"data row12 col1\" >mode</td>\n",
       "    </tr>\n",
       "    <tr>\n",
       "      <th id=\"T_2c7f0_level0_row13\" class=\"row_heading level0 row13\" >13</th>\n",
       "      <td id=\"T_2c7f0_row13_col0\" class=\"data row13 col0\" >Fold Generator</td>\n",
       "      <td id=\"T_2c7f0_row13_col1\" class=\"data row13 col1\" >KFold</td>\n",
       "    </tr>\n",
       "    <tr>\n",
       "      <th id=\"T_2c7f0_level0_row14\" class=\"row_heading level0 row14\" >14</th>\n",
       "      <td id=\"T_2c7f0_row14_col0\" class=\"data row14 col0\" >Fold Number</td>\n",
       "      <td id=\"T_2c7f0_row14_col1\" class=\"data row14 col1\" >10</td>\n",
       "    </tr>\n",
       "    <tr>\n",
       "      <th id=\"T_2c7f0_level0_row15\" class=\"row_heading level0 row15\" >15</th>\n",
       "      <td id=\"T_2c7f0_row15_col0\" class=\"data row15 col0\" >CPU Jobs</td>\n",
       "      <td id=\"T_2c7f0_row15_col1\" class=\"data row15 col1\" >-1</td>\n",
       "    </tr>\n",
       "    <tr>\n",
       "      <th id=\"T_2c7f0_level0_row16\" class=\"row_heading level0 row16\" >16</th>\n",
       "      <td id=\"T_2c7f0_row16_col0\" class=\"data row16 col0\" >Use GPU</td>\n",
       "      <td id=\"T_2c7f0_row16_col1\" class=\"data row16 col1\" >False</td>\n",
       "    </tr>\n",
       "    <tr>\n",
       "      <th id=\"T_2c7f0_level0_row17\" class=\"row_heading level0 row17\" >17</th>\n",
       "      <td id=\"T_2c7f0_row17_col0\" class=\"data row17 col0\" >Log Experiment</td>\n",
       "      <td id=\"T_2c7f0_row17_col1\" class=\"data row17 col1\" >False</td>\n",
       "    </tr>\n",
       "    <tr>\n",
       "      <th id=\"T_2c7f0_level0_row18\" class=\"row_heading level0 row18\" >18</th>\n",
       "      <td id=\"T_2c7f0_row18_col0\" class=\"data row18 col0\" >Experiment Name</td>\n",
       "      <td id=\"T_2c7f0_row18_col1\" class=\"data row18 col1\" >reg-default-name</td>\n",
       "    </tr>\n",
       "    <tr>\n",
       "      <th id=\"T_2c7f0_level0_row19\" class=\"row_heading level0 row19\" >19</th>\n",
       "      <td id=\"T_2c7f0_row19_col0\" class=\"data row19 col0\" >USI</td>\n",
       "      <td id=\"T_2c7f0_row19_col1\" class=\"data row19 col1\" >dfa1</td>\n",
       "    </tr>\n",
       "  </tbody>\n",
       "</table>\n"
      ],
      "text/plain": [
       "<pandas.io.formats.style.Styler at 0x2319cec28d0>"
      ]
     },
     "metadata": {},
     "output_type": "display_data"
    },
    {
     "name": "stderr",
     "output_type": "stream",
     "text": [
      "C:\\Users\\103763\\AppData\\Local\\anaconda3\\Lib\\site-packages\\pycaret\\internal\\metrics.py:51: FutureWarning: The `needs_threshold` and `needs_proba` parameter are deprecated in version 1.4 and will be removed in 1.6. You can either let `response_method` be `None` or set it to `predict` to preserve the same behaviour.\n",
      "  warnings.warn(\n"
     ]
    }
   ],
   "source": [
    "model = setup(X.join(y), target=\"numerical_rating\")"
   ]
  },
  {
   "cell_type": "code",
   "execution_count": 128,
   "id": "1db803a1-67d9-44c6-b7ab-62b149e84dd7",
   "metadata": {
    "tags": []
   },
   "outputs": [
    {
     "data": {
      "text/html": [],
      "text/plain": [
       "<IPython.core.display.HTML object>"
      ]
     },
     "metadata": {},
     "output_type": "display_data"
    },
    {
     "data": {
      "text/html": [
       "<style type=\"text/css\">\n",
       "#T_a6ef7 th {\n",
       "  text-align: left;\n",
       "}\n",
       "#T_a6ef7_row0_col0, #T_a6ef7_row1_col0, #T_a6ef7_row1_col1, #T_a6ef7_row1_col2, #T_a6ef7_row1_col3, #T_a6ef7_row1_col4, #T_a6ef7_row1_col5, #T_a6ef7_row1_col6, #T_a6ef7_row2_col0, #T_a6ef7_row2_col1, #T_a6ef7_row2_col2, #T_a6ef7_row2_col3, #T_a6ef7_row2_col4, #T_a6ef7_row2_col5, #T_a6ef7_row2_col6, #T_a6ef7_row3_col0, #T_a6ef7_row3_col1, #T_a6ef7_row3_col2, #T_a6ef7_row3_col3, #T_a6ef7_row3_col4, #T_a6ef7_row3_col5, #T_a6ef7_row3_col6, #T_a6ef7_row4_col0, #T_a6ef7_row4_col1, #T_a6ef7_row4_col2, #T_a6ef7_row4_col3, #T_a6ef7_row4_col4, #T_a6ef7_row4_col5, #T_a6ef7_row4_col6, #T_a6ef7_row5_col0, #T_a6ef7_row5_col1, #T_a6ef7_row5_col2, #T_a6ef7_row5_col3, #T_a6ef7_row5_col4, #T_a6ef7_row5_col5, #T_a6ef7_row5_col6, #T_a6ef7_row6_col0, #T_a6ef7_row6_col1, #T_a6ef7_row6_col2, #T_a6ef7_row6_col3, #T_a6ef7_row6_col4, #T_a6ef7_row6_col5, #T_a6ef7_row6_col6, #T_a6ef7_row7_col0, #T_a6ef7_row7_col1, #T_a6ef7_row7_col2, #T_a6ef7_row7_col3, #T_a6ef7_row7_col4, #T_a6ef7_row7_col5, #T_a6ef7_row7_col6, #T_a6ef7_row8_col0, #T_a6ef7_row8_col1, #T_a6ef7_row8_col2, #T_a6ef7_row8_col3, #T_a6ef7_row8_col4, #T_a6ef7_row8_col5, #T_a6ef7_row8_col6, #T_a6ef7_row9_col0, #T_a6ef7_row9_col1, #T_a6ef7_row9_col2, #T_a6ef7_row9_col3, #T_a6ef7_row9_col4, #T_a6ef7_row9_col5, #T_a6ef7_row9_col6, #T_a6ef7_row10_col0, #T_a6ef7_row10_col1, #T_a6ef7_row10_col2, #T_a6ef7_row10_col3, #T_a6ef7_row10_col4, #T_a6ef7_row10_col5, #T_a6ef7_row10_col6, #T_a6ef7_row11_col0, #T_a6ef7_row11_col1, #T_a6ef7_row11_col2, #T_a6ef7_row11_col3, #T_a6ef7_row11_col4, #T_a6ef7_row11_col5, #T_a6ef7_row11_col6, #T_a6ef7_row12_col0, #T_a6ef7_row12_col1, #T_a6ef7_row12_col2, #T_a6ef7_row12_col3, #T_a6ef7_row12_col4, #T_a6ef7_row12_col5, #T_a6ef7_row12_col6, #T_a6ef7_row13_col0, #T_a6ef7_row13_col1, #T_a6ef7_row13_col2, #T_a6ef7_row13_col3, #T_a6ef7_row13_col4, #T_a6ef7_row13_col5, #T_a6ef7_row13_col6, #T_a6ef7_row14_col0, #T_a6ef7_row14_col1, #T_a6ef7_row14_col2, #T_a6ef7_row14_col3, #T_a6ef7_row14_col4, #T_a6ef7_row14_col5, #T_a6ef7_row14_col6, #T_a6ef7_row15_col0, #T_a6ef7_row15_col1, #T_a6ef7_row15_col2, #T_a6ef7_row15_col3, #T_a6ef7_row15_col4, #T_a6ef7_row15_col5, #T_a6ef7_row15_col6, #T_a6ef7_row16_col0, #T_a6ef7_row16_col1, #T_a6ef7_row16_col2, #T_a6ef7_row16_col3, #T_a6ef7_row16_col4, #T_a6ef7_row16_col5, #T_a6ef7_row16_col6, #T_a6ef7_row17_col0, #T_a6ef7_row17_col1, #T_a6ef7_row17_col2, #T_a6ef7_row17_col3, #T_a6ef7_row17_col4, #T_a6ef7_row17_col5, #T_a6ef7_row17_col6, #T_a6ef7_row18_col0, #T_a6ef7_row18_col1, #T_a6ef7_row18_col2, #T_a6ef7_row18_col3, #T_a6ef7_row18_col4, #T_a6ef7_row18_col5, #T_a6ef7_row18_col6, #T_a6ef7_row19_col0, #T_a6ef7_row19_col1, #T_a6ef7_row19_col2, #T_a6ef7_row19_col3, #T_a6ef7_row19_col4, #T_a6ef7_row19_col5, #T_a6ef7_row19_col6 {\n",
       "  text-align: left;\n",
       "}\n",
       "#T_a6ef7_row0_col1, #T_a6ef7_row0_col2, #T_a6ef7_row0_col3, #T_a6ef7_row0_col4, #T_a6ef7_row0_col5, #T_a6ef7_row0_col6 {\n",
       "  text-align: left;\n",
       "  background-color: yellow;\n",
       "}\n",
       "#T_a6ef7_row0_col7, #T_a6ef7_row1_col7, #T_a6ef7_row2_col7, #T_a6ef7_row3_col7, #T_a6ef7_row4_col7, #T_a6ef7_row6_col7, #T_a6ef7_row7_col7, #T_a6ef7_row8_col7, #T_a6ef7_row10_col7, #T_a6ef7_row11_col7, #T_a6ef7_row12_col7, #T_a6ef7_row13_col7, #T_a6ef7_row14_col7, #T_a6ef7_row15_col7, #T_a6ef7_row16_col7, #T_a6ef7_row17_col7, #T_a6ef7_row18_col7, #T_a6ef7_row19_col7 {\n",
       "  text-align: left;\n",
       "  background-color: lightgrey;\n",
       "}\n",
       "#T_a6ef7_row5_col7, #T_a6ef7_row9_col7 {\n",
       "  text-align: left;\n",
       "  background-color: yellow;\n",
       "  background-color: lightgrey;\n",
       "}\n",
       "</style>\n",
       "<table id=\"T_a6ef7\">\n",
       "  <thead>\n",
       "    <tr>\n",
       "      <th class=\"blank level0\" >&nbsp;</th>\n",
       "      <th id=\"T_a6ef7_level0_col0\" class=\"col_heading level0 col0\" >Model</th>\n",
       "      <th id=\"T_a6ef7_level0_col1\" class=\"col_heading level0 col1\" >MAE</th>\n",
       "      <th id=\"T_a6ef7_level0_col2\" class=\"col_heading level0 col2\" >MSE</th>\n",
       "      <th id=\"T_a6ef7_level0_col3\" class=\"col_heading level0 col3\" >RMSE</th>\n",
       "      <th id=\"T_a6ef7_level0_col4\" class=\"col_heading level0 col4\" >R2</th>\n",
       "      <th id=\"T_a6ef7_level0_col5\" class=\"col_heading level0 col5\" >RMSLE</th>\n",
       "      <th id=\"T_a6ef7_level0_col6\" class=\"col_heading level0 col6\" >MAPE</th>\n",
       "      <th id=\"T_a6ef7_level0_col7\" class=\"col_heading level0 col7\" >TT (Sec)</th>\n",
       "    </tr>\n",
       "  </thead>\n",
       "  <tbody>\n",
       "    <tr>\n",
       "      <th id=\"T_a6ef7_level0_row0\" class=\"row_heading level0 row0\" >catboost</th>\n",
       "      <td id=\"T_a6ef7_row0_col0\" class=\"data row0 col0\" >CatBoost Regressor</td>\n",
       "      <td id=\"T_a6ef7_row0_col1\" class=\"data row0 col1\" >0.7566</td>\n",
       "      <td id=\"T_a6ef7_row0_col2\" class=\"data row0 col2\" >1.0414</td>\n",
       "      <td id=\"T_a6ef7_row0_col3\" class=\"data row0 col3\" >0.9742</td>\n",
       "      <td id=\"T_a6ef7_row0_col4\" class=\"data row0 col4\" >0.1075</td>\n",
       "      <td id=\"T_a6ef7_row0_col5\" class=\"data row0 col5\" >0.2095</td>\n",
       "      <td id=\"T_a6ef7_row0_col6\" class=\"data row0 col6\" >0.2273</td>\n",
       "      <td id=\"T_a6ef7_row0_col7\" class=\"data row0 col7\" >1.6200</td>\n",
       "    </tr>\n",
       "    <tr>\n",
       "      <th id=\"T_a6ef7_level0_row1\" class=\"row_heading level0 row1\" >et</th>\n",
       "      <td id=\"T_a6ef7_row1_col0\" class=\"data row1 col0\" >Extra Trees Regressor</td>\n",
       "      <td id=\"T_a6ef7_row1_col1\" class=\"data row1 col1\" >0.7695</td>\n",
       "      <td id=\"T_a6ef7_row1_col2\" class=\"data row1 col2\" >1.0881</td>\n",
       "      <td id=\"T_a6ef7_row1_col3\" class=\"data row1 col3\" >0.9841</td>\n",
       "      <td id=\"T_a6ef7_row1_col4\" class=\"data row1 col4\" >0.0731</td>\n",
       "      <td id=\"T_a6ef7_row1_col5\" class=\"data row1 col5\" >0.2107</td>\n",
       "      <td id=\"T_a6ef7_row1_col6\" class=\"data row1 col6\" >0.2316</td>\n",
       "      <td id=\"T_a6ef7_row1_col7\" class=\"data row1 col7\" >0.0790</td>\n",
       "    </tr>\n",
       "    <tr>\n",
       "      <th id=\"T_a6ef7_level0_row2\" class=\"row_heading level0 row2\" >knn</th>\n",
       "      <td id=\"T_a6ef7_row2_col0\" class=\"data row2 col0\" >K Neighbors Regressor</td>\n",
       "      <td id=\"T_a6ef7_row2_col1\" class=\"data row2 col1\" >0.8258</td>\n",
       "      <td id=\"T_a6ef7_row2_col2\" class=\"data row2 col2\" >1.0975</td>\n",
       "      <td id=\"T_a6ef7_row2_col3\" class=\"data row2 col3\" >1.0071</td>\n",
       "      <td id=\"T_a6ef7_row2_col4\" class=\"data row2 col4\" >0.0124</td>\n",
       "      <td id=\"T_a6ef7_row2_col5\" class=\"data row2 col5\" >0.2180</td>\n",
       "      <td id=\"T_a6ef7_row2_col6\" class=\"data row2 col6\" >0.2513</td>\n",
       "      <td id=\"T_a6ef7_row2_col7\" class=\"data row2 col7\" >0.0230</td>\n",
       "    </tr>\n",
       "    <tr>\n",
       "      <th id=\"T_a6ef7_level0_row3\" class=\"row_heading level0 row3\" >rf</th>\n",
       "      <td id=\"T_a6ef7_row3_col0\" class=\"data row3 col0\" >Random Forest Regressor</td>\n",
       "      <td id=\"T_a6ef7_row3_col1\" class=\"data row3 col1\" >0.8268</td>\n",
       "      <td id=\"T_a6ef7_row3_col2\" class=\"data row3 col2\" >1.1349</td>\n",
       "      <td id=\"T_a6ef7_row3_col3\" class=\"data row3 col3\" >1.0194</td>\n",
       "      <td id=\"T_a6ef7_row3_col4\" class=\"data row3 col4\" >0.0069</td>\n",
       "      <td id=\"T_a6ef7_row3_col5\" class=\"data row3 col5\" >0.2203</td>\n",
       "      <td id=\"T_a6ef7_row3_col6\" class=\"data row3 col6\" >0.2527</td>\n",
       "      <td id=\"T_a6ef7_row3_col7\" class=\"data row3 col7\" >0.1110</td>\n",
       "    </tr>\n",
       "    <tr>\n",
       "      <th id=\"T_a6ef7_level0_row4\" class=\"row_heading level0 row4\" >ada</th>\n",
       "      <td id=\"T_a6ef7_row4_col0\" class=\"data row4 col0\" >AdaBoost Regressor</td>\n",
       "      <td id=\"T_a6ef7_row4_col1\" class=\"data row4 col1\" >0.8887</td>\n",
       "      <td id=\"T_a6ef7_row4_col2\" class=\"data row4 col2\" >1.1508</td>\n",
       "      <td id=\"T_a6ef7_row4_col3\" class=\"data row4 col3\" >1.0387</td>\n",
       "      <td id=\"T_a6ef7_row4_col4\" class=\"data row4 col4\" >-0.0377</td>\n",
       "      <td id=\"T_a6ef7_row4_col5\" class=\"data row4 col5\" >0.2270</td>\n",
       "      <td id=\"T_a6ef7_row4_col6\" class=\"data row4 col6\" >0.2804</td>\n",
       "      <td id=\"T_a6ef7_row4_col7\" class=\"data row4 col7\" >0.0560</td>\n",
       "    </tr>\n",
       "    <tr>\n",
       "      <th id=\"T_a6ef7_level0_row5\" class=\"row_heading level0 row5\" >omp</th>\n",
       "      <td id=\"T_a6ef7_row5_col0\" class=\"data row5 col0\" >Orthogonal Matching Pursuit</td>\n",
       "      <td id=\"T_a6ef7_row5_col1\" class=\"data row5 col1\" >0.9436</td>\n",
       "      <td id=\"T_a6ef7_row5_col2\" class=\"data row5 col2\" >1.2094</td>\n",
       "      <td id=\"T_a6ef7_row5_col3\" class=\"data row5 col3\" >1.0761</td>\n",
       "      <td id=\"T_a6ef7_row5_col4\" class=\"data row5 col4\" >-0.0965</td>\n",
       "      <td id=\"T_a6ef7_row5_col5\" class=\"data row5 col5\" >0.2325</td>\n",
       "      <td id=\"T_a6ef7_row5_col6\" class=\"data row5 col6\" >0.2857</td>\n",
       "      <td id=\"T_a6ef7_row5_col7\" class=\"data row5 col7\" >0.0130</td>\n",
       "    </tr>\n",
       "    <tr>\n",
       "      <th id=\"T_a6ef7_level0_row6\" class=\"row_heading level0 row6\" >lightgbm</th>\n",
       "      <td id=\"T_a6ef7_row6_col0\" class=\"data row6 col0\" >Light Gradient Boosting Machine</td>\n",
       "      <td id=\"T_a6ef7_row6_col1\" class=\"data row6 col1\" >0.8774</td>\n",
       "      <td id=\"T_a6ef7_row6_col2\" class=\"data row6 col2\" >1.2266</td>\n",
       "      <td id=\"T_a6ef7_row6_col3\" class=\"data row6 col3\" >1.0704</td>\n",
       "      <td id=\"T_a6ef7_row6_col4\" class=\"data row6 col4\" >-0.1074</td>\n",
       "      <td id=\"T_a6ef7_row6_col5\" class=\"data row6 col5\" >0.2319</td>\n",
       "      <td id=\"T_a6ef7_row6_col6\" class=\"data row6 col6\" >0.2642</td>\n",
       "      <td id=\"T_a6ef7_row6_col7\" class=\"data row6 col7\" >0.0620</td>\n",
       "    </tr>\n",
       "    <tr>\n",
       "      <th id=\"T_a6ef7_level0_row7\" class=\"row_heading level0 row7\" >dummy</th>\n",
       "      <td id=\"T_a6ef7_row7_col0\" class=\"data row7 col0\" >Dummy Regressor</td>\n",
       "      <td id=\"T_a6ef7_row7_col1\" class=\"data row7 col1\" >0.9610</td>\n",
       "      <td id=\"T_a6ef7_row7_col2\" class=\"data row7 col2\" >1.2466</td>\n",
       "      <td id=\"T_a6ef7_row7_col3\" class=\"data row7 col3\" >1.0927</td>\n",
       "      <td id=\"T_a6ef7_row7_col4\" class=\"data row7 col4\" >-0.1278</td>\n",
       "      <td id=\"T_a6ef7_row7_col5\" class=\"data row7 col5\" >0.2360</td>\n",
       "      <td id=\"T_a6ef7_row7_col6\" class=\"data row7 col6\" >0.2902</td>\n",
       "      <td id=\"T_a6ef7_row7_col7\" class=\"data row7 col7\" >0.0240</td>\n",
       "    </tr>\n",
       "    <tr>\n",
       "      <th id=\"T_a6ef7_level0_row8\" class=\"row_heading level0 row8\" >br</th>\n",
       "      <td id=\"T_a6ef7_row8_col0\" class=\"data row8 col0\" >Bayesian Ridge</td>\n",
       "      <td id=\"T_a6ef7_row8_col1\" class=\"data row8 col1\" >0.9467</td>\n",
       "      <td id=\"T_a6ef7_row8_col2\" class=\"data row8 col2\" >1.2693</td>\n",
       "      <td id=\"T_a6ef7_row8_col3\" class=\"data row8 col3\" >1.0968</td>\n",
       "      <td id=\"T_a6ef7_row8_col4\" class=\"data row8 col4\" >-0.1812</td>\n",
       "      <td id=\"T_a6ef7_row8_col5\" class=\"data row8 col5\" >0.2378</td>\n",
       "      <td id=\"T_a6ef7_row8_col6\" class=\"data row8 col6\" >0.2898</td>\n",
       "      <td id=\"T_a6ef7_row8_col7\" class=\"data row8 col7\" >0.0220</td>\n",
       "    </tr>\n",
       "    <tr>\n",
       "      <th id=\"T_a6ef7_level0_row9\" class=\"row_heading level0 row9\" >lasso</th>\n",
       "      <td id=\"T_a6ef7_row9_col0\" class=\"data row9 col0\" >Lasso Regression</td>\n",
       "      <td id=\"T_a6ef7_row9_col1\" class=\"data row9 col1\" >0.9394</td>\n",
       "      <td id=\"T_a6ef7_row9_col2\" class=\"data row9 col2\" >1.2670</td>\n",
       "      <td id=\"T_a6ef7_row9_col3\" class=\"data row9 col3\" >1.0923</td>\n",
       "      <td id=\"T_a6ef7_row9_col4\" class=\"data row9 col4\" >-0.1892</td>\n",
       "      <td id=\"T_a6ef7_row9_col5\" class=\"data row9 col5\" >0.2369</td>\n",
       "      <td id=\"T_a6ef7_row9_col6\" class=\"data row9 col6\" >0.2878</td>\n",
       "      <td id=\"T_a6ef7_row9_col7\" class=\"data row9 col7\" >0.0130</td>\n",
       "    </tr>\n",
       "    <tr>\n",
       "      <th id=\"T_a6ef7_level0_row10\" class=\"row_heading level0 row10\" >llar</th>\n",
       "      <td id=\"T_a6ef7_row10_col0\" class=\"data row10 col0\" >Lasso Least Angle Regression</td>\n",
       "      <td id=\"T_a6ef7_row10_col1\" class=\"data row10 col1\" >0.9394</td>\n",
       "      <td id=\"T_a6ef7_row10_col2\" class=\"data row10 col2\" >1.2670</td>\n",
       "      <td id=\"T_a6ef7_row10_col3\" class=\"data row10 col3\" >1.0923</td>\n",
       "      <td id=\"T_a6ef7_row10_col4\" class=\"data row10 col4\" >-0.1892</td>\n",
       "      <td id=\"T_a6ef7_row10_col5\" class=\"data row10 col5\" >0.2369</td>\n",
       "      <td id=\"T_a6ef7_row10_col6\" class=\"data row10 col6\" >0.2878</td>\n",
       "      <td id=\"T_a6ef7_row10_col7\" class=\"data row10 col7\" >0.0180</td>\n",
       "    </tr>\n",
       "    <tr>\n",
       "      <th id=\"T_a6ef7_level0_row11\" class=\"row_heading level0 row11\" >en</th>\n",
       "      <td id=\"T_a6ef7_row11_col0\" class=\"data row11 col0\" >Elastic Net</td>\n",
       "      <td id=\"T_a6ef7_row11_col1\" class=\"data row11 col1\" >0.9965</td>\n",
       "      <td id=\"T_a6ef7_row11_col2\" class=\"data row11 col2\" >1.4573</td>\n",
       "      <td id=\"T_a6ef7_row11_col3\" class=\"data row11 col3\" >1.1493</td>\n",
       "      <td id=\"T_a6ef7_row11_col4\" class=\"data row11 col4\" >-0.2895</td>\n",
       "      <td id=\"T_a6ef7_row11_col5\" class=\"data row11 col5\" >0.2529</td>\n",
       "      <td id=\"T_a6ef7_row11_col6\" class=\"data row11 col6\" >0.3066</td>\n",
       "      <td id=\"T_a6ef7_row11_col7\" class=\"data row11 col7\" >0.0150</td>\n",
       "    </tr>\n",
       "    <tr>\n",
       "      <th id=\"T_a6ef7_level0_row12\" class=\"row_heading level0 row12\" >gbr</th>\n",
       "      <td id=\"T_a6ef7_row12_col0\" class=\"data row12 col0\" >Gradient Boosting Regressor</td>\n",
       "      <td id=\"T_a6ef7_row12_col1\" class=\"data row12 col1\" >0.9086</td>\n",
       "      <td id=\"T_a6ef7_row12_col2\" class=\"data row12 col2\" >1.5095</td>\n",
       "      <td id=\"T_a6ef7_row12_col3\" class=\"data row12 col3\" >1.1696</td>\n",
       "      <td id=\"T_a6ef7_row12_col4\" class=\"data row12 col4\" >-0.4321</td>\n",
       "      <td id=\"T_a6ef7_row12_col5\" class=\"data row12 col5\" >0.2476</td>\n",
       "      <td id=\"T_a6ef7_row12_col6\" class=\"data row12 col6\" >0.2749</td>\n",
       "      <td id=\"T_a6ef7_row12_col7\" class=\"data row12 col7\" >0.0420</td>\n",
       "    </tr>\n",
       "    <tr>\n",
       "      <th id=\"T_a6ef7_level0_row13\" class=\"row_heading level0 row13\" >xgboost</th>\n",
       "      <td id=\"T_a6ef7_row13_col0\" class=\"data row13 col0\" >Extreme Gradient Boosting</td>\n",
       "      <td id=\"T_a6ef7_row13_col1\" class=\"data row13 col1\" >0.8949</td>\n",
       "      <td id=\"T_a6ef7_row13_col2\" class=\"data row13 col2\" >1.5428</td>\n",
       "      <td id=\"T_a6ef7_row13_col3\" class=\"data row13 col3\" >1.1864</td>\n",
       "      <td id=\"T_a6ef7_row13_col4\" class=\"data row13 col4\" >-0.4617</td>\n",
       "      <td id=\"T_a6ef7_row13_col5\" class=\"data row13 col5\" >0.2476</td>\n",
       "      <td id=\"T_a6ef7_row13_col6\" class=\"data row13 col6\" >0.2705</td>\n",
       "      <td id=\"T_a6ef7_row13_col7\" class=\"data row13 col7\" >0.0730</td>\n",
       "    </tr>\n",
       "    <tr>\n",
       "      <th id=\"T_a6ef7_level0_row14\" class=\"row_heading level0 row14\" >lr</th>\n",
       "      <td id=\"T_a6ef7_row14_col0\" class=\"data row14 col0\" >Linear Regression</td>\n",
       "      <td id=\"T_a6ef7_row14_col1\" class=\"data row14 col1\" >1.0115</td>\n",
       "      <td id=\"T_a6ef7_row14_col2\" class=\"data row14 col2\" >2.0120</td>\n",
       "      <td id=\"T_a6ef7_row14_col3\" class=\"data row14 col3\" >1.2416</td>\n",
       "      <td id=\"T_a6ef7_row14_col4\" class=\"data row14 col4\" >-0.5244</td>\n",
       "      <td id=\"T_a6ef7_row14_col5\" class=\"data row14 col5\" >0.2666</td>\n",
       "      <td id=\"T_a6ef7_row14_col6\" class=\"data row14 col6\" >0.3105</td>\n",
       "      <td id=\"T_a6ef7_row14_col7\" class=\"data row14 col7\" >0.0140</td>\n",
       "    </tr>\n",
       "    <tr>\n",
       "      <th id=\"T_a6ef7_level0_row15\" class=\"row_heading level0 row15\" >ridge</th>\n",
       "      <td id=\"T_a6ef7_row15_col0\" class=\"data row15 col0\" >Ridge Regression</td>\n",
       "      <td id=\"T_a6ef7_row15_col1\" class=\"data row15 col1\" >1.0129</td>\n",
       "      <td id=\"T_a6ef7_row15_col2\" class=\"data row15 col2\" >2.0109</td>\n",
       "      <td id=\"T_a6ef7_row15_col3\" class=\"data row15 col3\" >1.2425</td>\n",
       "      <td id=\"T_a6ef7_row15_col4\" class=\"data row15 col4\" >-0.5251</td>\n",
       "      <td id=\"T_a6ef7_row15_col5\" class=\"data row15 col5\" >0.2676</td>\n",
       "      <td id=\"T_a6ef7_row15_col6\" class=\"data row15 col6\" >0.3109</td>\n",
       "      <td id=\"T_a6ef7_row15_col7\" class=\"data row15 col7\" >0.0190</td>\n",
       "    </tr>\n",
       "    <tr>\n",
       "      <th id=\"T_a6ef7_level0_row16\" class=\"row_heading level0 row16\" >lar</th>\n",
       "      <td id=\"T_a6ef7_row16_col0\" class=\"data row16 col0\" >Least Angle Regression</td>\n",
       "      <td id=\"T_a6ef7_row16_col1\" class=\"data row16 col1\" >1.0160</td>\n",
       "      <td id=\"T_a6ef7_row16_col2\" class=\"data row16 col2\" >2.0188</td>\n",
       "      <td id=\"T_a6ef7_row16_col3\" class=\"data row16 col3\" >1.2460</td>\n",
       "      <td id=\"T_a6ef7_row16_col4\" class=\"data row16 col4\" >-0.5380</td>\n",
       "      <td id=\"T_a6ef7_row16_col5\" class=\"data row16 col5\" >0.2677</td>\n",
       "      <td id=\"T_a6ef7_row16_col6\" class=\"data row16 col6\" >0.3126</td>\n",
       "      <td id=\"T_a6ef7_row16_col7\" class=\"data row16 col7\" >0.0160</td>\n",
       "    </tr>\n",
       "    <tr>\n",
       "      <th id=\"T_a6ef7_level0_row17\" class=\"row_heading level0 row17\" >huber</th>\n",
       "      <td id=\"T_a6ef7_row17_col0\" class=\"data row17 col0\" >Huber Regressor</td>\n",
       "      <td id=\"T_a6ef7_row17_col1\" class=\"data row17 col1\" >0.9968</td>\n",
       "      <td id=\"T_a6ef7_row17_col2\" class=\"data row17 col2\" >2.0492</td>\n",
       "      <td id=\"T_a6ef7_row17_col3\" class=\"data row17 col3\" >1.2459</td>\n",
       "      <td id=\"T_a6ef7_row17_col4\" class=\"data row17 col4\" >-0.5448</td>\n",
       "      <td id=\"T_a6ef7_row17_col5\" class=\"data row17 col5\" >0.2587</td>\n",
       "      <td id=\"T_a6ef7_row17_col6\" class=\"data row17 col6\" >0.2995</td>\n",
       "      <td id=\"T_a6ef7_row17_col7\" class=\"data row17 col7\" >0.0240</td>\n",
       "    </tr>\n",
       "    <tr>\n",
       "      <th id=\"T_a6ef7_level0_row18\" class=\"row_heading level0 row18\" >dt</th>\n",
       "      <td id=\"T_a6ef7_row18_col0\" class=\"data row18 col0\" >Decision Tree Regressor</td>\n",
       "      <td id=\"T_a6ef7_row18_col1\" class=\"data row18 col1\" >1.0889</td>\n",
       "      <td id=\"T_a6ef7_row18_col2\" class=\"data row18 col2\" >2.4250</td>\n",
       "      <td id=\"T_a6ef7_row18_col3\" class=\"data row18 col3\" >1.4635</td>\n",
       "      <td id=\"T_a6ef7_row18_col4\" class=\"data row18 col4\" >-1.4357</td>\n",
       "      <td id=\"T_a6ef7_row18_col5\" class=\"data row18 col5\" >0.3046</td>\n",
       "      <td id=\"T_a6ef7_row18_col6\" class=\"data row18 col6\" >0.3276</td>\n",
       "      <td id=\"T_a6ef7_row18_col7\" class=\"data row18 col7\" >0.0140</td>\n",
       "    </tr>\n",
       "    <tr>\n",
       "      <th id=\"T_a6ef7_level0_row19\" class=\"row_heading level0 row19\" >par</th>\n",
       "      <td id=\"T_a6ef7_row19_col0\" class=\"data row19 col0\" >Passive Aggressive Regressor</td>\n",
       "      <td id=\"T_a6ef7_row19_col1\" class=\"data row19 col1\" >4.3166</td>\n",
       "      <td id=\"T_a6ef7_row19_col2\" class=\"data row19 col2\" >107.1848</td>\n",
       "      <td id=\"T_a6ef7_row19_col3\" class=\"data row19 col3\" >7.0656</td>\n",
       "      <td id=\"T_a6ef7_row19_col4\" class=\"data row19 col4\" >-145.6389</td>\n",
       "      <td id=\"T_a6ef7_row19_col5\" class=\"data row19 col5\" >0.7882</td>\n",
       "      <td id=\"T_a6ef7_row19_col6\" class=\"data row19 col6\" >1.4904</td>\n",
       "      <td id=\"T_a6ef7_row19_col7\" class=\"data row19 col7\" >0.0170</td>\n",
       "    </tr>\n",
       "  </tbody>\n",
       "</table>\n"
      ],
      "text/plain": [
       "<pandas.io.formats.style.Styler at 0x2319bebe710>"
      ]
     },
     "metadata": {},
     "output_type": "display_data"
    },
    {
     "data": {
      "text/html": [],
      "text/plain": [
       "<IPython.core.display.HTML object>"
      ]
     },
     "metadata": {},
     "output_type": "display_data"
    },
    {
     "name": "stderr",
     "output_type": "stream",
     "text": [
      "C:\\Users\\103763\\AppData\\Local\\anaconda3\\Lib\\site-packages\\pycaret\\internal\\pycaret_experiment\\supervised_experiment.py:339: FutureWarning: Styler.applymap has been deprecated. Use Styler.map instead.\n",
      "  .applymap(highlight_cols, subset=[\"TT (Sec)\"])\n"
     ]
    }
   ],
   "source": [
    "best = compare_models()"
   ]
  },
  {
   "cell_type": "code",
   "execution_count": 129,
   "id": "33391ec7-541a-4da6-adff-bd7dd4df4851",
   "metadata": {
    "tags": []
   },
   "outputs": [
    {
     "data": {
      "text/plain": [
       "<catboost.core.CatBoostRegressor at 0x23199373ed0>"
      ]
     },
     "execution_count": 129,
     "metadata": {},
     "output_type": "execute_result"
    }
   ],
   "source": [
    "best"
   ]
  },
  {
   "cell_type": "code",
   "execution_count": 130,
   "id": "2df01878-a104-41d6-a666-68eef368fdb7",
   "metadata": {
    "tags": []
   },
   "outputs": [
    {
     "data": {
      "text/plain": [
       "-0.18830834710825806"
      ]
     },
     "execution_count": 130,
     "metadata": {},
     "output_type": "execute_result"
    }
   ],
   "source": [
    "best.score(model.X_test_transformed, model.y_test_transformed)"
   ]
  },
  {
   "cell_type": "code",
   "execution_count": 131,
   "id": "8392c1ea-4823-4792-ab14-575e3b047730",
   "metadata": {
    "tags": []
   },
   "outputs": [
    {
     "data": {
      "text/plain": [
       "array([15.68425982, 18.29144601, 14.47126786, 17.04432959, 24.17062741,\n",
       "       10.33806931])"
      ]
     },
     "execution_count": 131,
     "metadata": {},
     "output_type": "execute_result"
    }
   ],
   "source": [
    "best.feature_importances_"
   ]
  },
  {
   "cell_type": "code",
   "execution_count": null,
   "id": "5362c1c7-8211-488d-b6ea-9db0d0937b1f",
   "metadata": {},
   "outputs": [],
   "source": [
    "{'oper_margin': 26.21094703807191,\n",
    " 'tot_debt_to_tot_eqy': 65.00493973766227,\n",
    " 'tot_debt_to_ebitda': 0.7931121155634536,\n",
    " 'ebitda_to_tot_int_exp': 13.35518524144715,\n",
    " 'return_on_asset': 16.14384135791923,\n",
    " 'asset_turnover': 1.076701663147559}"
   ]
  },
  {
   "cell_type": "code",
   "execution_count": null,
   "id": "a3820d93-7cb7-4049-9abd-765051d8e543",
   "metadata": {},
   "outputs": [],
   "source": []
  },
  {
   "cell_type": "code",
   "execution_count": null,
   "id": "5fbadbf8-d388-4dd9-9d72-f520176eb024",
   "metadata": {},
   "outputs": [],
   "source": []
  },
  {
   "cell_type": "code",
   "execution_count": null,
   "id": "3498627c-0986-4b15-a3b4-4b209da1eea2",
   "metadata": {},
   "outputs": [],
   "source": []
  },
  {
   "cell_type": "code",
   "execution_count": null,
   "id": "4226e2fd-86a0-49c6-986f-faa9d5741f24",
   "metadata": {},
   "outputs": [],
   "source": []
  },
  {
   "cell_type": "code",
   "execution_count": null,
   "id": "9995c49e-5dd9-4dff-8bf8-ab698f0fbd70",
   "metadata": {},
   "outputs": [],
   "source": []
  },
  {
   "cell_type": "code",
   "execution_count": null,
   "id": "b115aefd-e07d-445f-aa56-2db5c3c2aec6",
   "metadata": {},
   "outputs": [],
   "source": []
  },
  {
   "cell_type": "code",
   "execution_count": null,
   "id": "7068c8de-31e6-42d6-9995-44c296f86d22",
   "metadata": {},
   "outputs": [],
   "source": []
  },
  {
   "cell_type": "code",
   "execution_count": null,
   "id": "d1229dc0-44f2-476c-afe8-f859f4fa9438",
   "metadata": {},
   "outputs": [],
   "source": []
  },
  {
   "cell_type": "code",
   "execution_count": null,
   "id": "aef0cd25-a19b-4c69-a115-0e7bdc55676e",
   "metadata": {},
   "outputs": [],
   "source": []
  },
  {
   "cell_type": "code",
   "execution_count": null,
   "id": "07829767-ce70-4991-a4a9-145790e7522d",
   "metadata": {},
   "outputs": [],
   "source": []
  },
  {
   "cell_type": "code",
   "execution_count": null,
   "id": "0dd698ab-c8f8-4614-9998-50c0d864efae",
   "metadata": {},
   "outputs": [],
   "source": []
  },
  {
   "cell_type": "code",
   "execution_count": null,
   "id": "44e136c1-3f4d-4f39-b1ab-8505498b9669",
   "metadata": {},
   "outputs": [],
   "source": []
  },
  {
   "cell_type": "code",
   "execution_count": null,
   "id": "337eed62-aa6f-49fd-86d5-45d906e818d8",
   "metadata": {},
   "outputs": [],
   "source": []
  },
  {
   "cell_type": "code",
   "execution_count": null,
   "id": "7f84d470-b073-46f8-a991-d4a6a453deb5",
   "metadata": {},
   "outputs": [],
   "source": []
  },
  {
   "cell_type": "code",
   "execution_count": null,
   "id": "3af15f06-a53f-416e-ba2c-6cdc206f6810",
   "metadata": {},
   "outputs": [],
   "source": []
  },
  {
   "cell_type": "code",
   "execution_count": null,
   "id": "8da560b0-09b4-4492-9626-f2f7f0b43652",
   "metadata": {},
   "outputs": [],
   "source": []
  },
  {
   "cell_type": "code",
   "execution_count": null,
   "id": "259acd23-17c1-40cf-a6e8-48d0faf3ca03",
   "metadata": {},
   "outputs": [],
   "source": []
  },
  {
   "cell_type": "code",
   "execution_count": null,
   "id": "60167ee1-18f5-4769-b8f7-33423a9d8604",
   "metadata": {},
   "outputs": [],
   "source": []
  },
  {
   "cell_type": "code",
   "execution_count": null,
   "id": "98cb240d-0e54-4aa1-b3f3-dc8cadc32ffb",
   "metadata": {},
   "outputs": [],
   "source": []
  },
  {
   "cell_type": "code",
   "execution_count": null,
   "id": "b736f2a2-b8d7-4f70-8067-c6307f1d8601",
   "metadata": {},
   "outputs": [],
   "source": []
  },
  {
   "cell_type": "code",
   "execution_count": null,
   "id": "807f9513-496d-4483-8784-28a05cde9a8e",
   "metadata": {},
   "outputs": [],
   "source": []
  },
  {
   "cell_type": "code",
   "execution_count": null,
   "id": "27984f62-b99c-409e-9730-1626b70cb286",
   "metadata": {},
   "outputs": [],
   "source": []
  },
  {
   "cell_type": "code",
   "execution_count": null,
   "id": "ca4de311-beda-4481-a9e4-70cb2aaf3e1d",
   "metadata": {},
   "outputs": [],
   "source": []
  },
  {
   "cell_type": "code",
   "execution_count": null,
   "id": "b16ae873-4bf1-45ac-912d-ca7d3cbbcae1",
   "metadata": {},
   "outputs": [],
   "source": []
  },
  {
   "cell_type": "code",
   "execution_count": 32,
   "id": "014e5ca4-c014-4306-9070-ef7f3deace80",
   "metadata": {
    "tags": []
   },
   "outputs": [],
   "source": [
    "df = pd.read_excel(\"resources/stock_universe_default_prob.xlsx\", index_col=0)\n",
    "ratings = df.sort_values([\"bb_1yr_default_prob\"], ascending=False)\n",
    "\n",
    "ratings_dict = {}\n",
    "for company in ratings.index:\n",
    "    try:\n",
    "        ratios = metrics[company].loc[model_metrics].to_dict()\n",
    "        model = CreditRatingCalculator(model_inputs)\n",
    "        model.calculate_credit_rating(ratios)\n",
    "        ratings_dict[company] = {\"Model\": model.credit_rating, \"Bloomberg\": ratings.loc[company][\"rsk_bb_issuer_default\"]}\n",
    "    except: pass"
   ]
  },
  {
   "cell_type": "code",
   "execution_count": 33,
   "id": "768814f8-3017-414e-b417-441814377c17",
   "metadata": {
    "tags": []
   },
   "outputs": [],
   "source": [
    "data = pd.DataFrame(ratings_dict).T"
   ]
  },
  {
   "cell_type": "code",
   "execution_count": 36,
   "id": "90dac899-e6cd-43cf-b892-7d5c6115fd22",
   "metadata": {
    "tags": []
   },
   "outputs": [],
   "source": [
    "import json"
   ]
  },
  {
   "cell_type": "code",
   "execution_count": 37,
   "id": "c60c4da7-71af-47f7-a6a4-09e520f61b68",
   "metadata": {
    "tags": []
   },
   "outputs": [],
   "source": [
    "with open(\"file.json\", \"r\") as f:\n",
    "    file = json.load(f)"
   ]
  },
  {
   "cell_type": "code",
   "execution_count": 44,
   "id": "f7b89bbd-a1d4-46d1-be4c-961fe323bfbb",
   "metadata": {
    "tags": []
   },
   "outputs": [],
   "source": [
    "mappings = file['credit_rating_mappings']"
   ]
  },
  {
   "cell_type": "code",
   "execution_count": 50,
   "id": "332873e3-5c21-45f4-8b05-9febb408237f",
   "metadata": {
    "tags": []
   },
   "outputs": [],
   "source": [
    "scl = file['credit_rating_scale']"
   ]
  },
  {
   "cell_type": "code",
   "execution_count": 46,
   "id": "e5f1e550-76a5-4912-b345-28d076123b0c",
   "metadata": {
    "tags": []
   },
   "outputs": [],
   "source": [
    "\n",
    "reverse_mappings = {value: key for key, values in mappings.items() for value in values}\n",
    "\n",
    "# Map the values in the 'rating' column using the reverse mapping dictionary\n",
    "data['rating'] = data['Bloomberg'].map(lambda x: reverse_mappings.get(x, x))"
   ]
  },
  {
   "cell_type": "code",
   "execution_count": 54,
   "id": "f54479de-f754-47a5-9493-e6bb3b1473fd",
   "metadata": {
    "tags": []
   },
   "outputs": [],
   "source": [
    "data['numerical_rating'] = data['rating'].map(scl)"
   ]
  },
  {
   "cell_type": "code",
   "execution_count": 59,
   "id": "dfa54478-5b93-4500-9216-7f253bc1d840",
   "metadata": {
    "tags": []
   },
   "outputs": [],
   "source": [
    "expected_ratings = data['numerical_rating']"
   ]
  },
  {
   "cell_type": "code",
   "execution_count": 73,
   "id": "34e8f940-2141-4d2d-a69a-259981d4e475",
   "metadata": {
    "tags": []
   },
   "outputs": [
    {
     "ename": "KeyError",
     "evalue": "'class_weights'",
     "output_type": "error",
     "traceback": [
      "\u001b[1;31m---------------------------------------------------------------------------\u001b[0m",
      "\u001b[1;31mKeyError\u001b[0m                                  Traceback (most recent call last)",
      "Cell \u001b[1;32mIn[73], line 1\u001b[0m\n\u001b[1;32m----> 1\u001b[0m optimized_metrics \u001b[38;5;241m=\u001b[39m update_metrics(metrics, params)\n",
      "Cell \u001b[1;32mIn[13], line 5\u001b[0m, in \u001b[0;36mupdate_metrics\u001b[1;34m(metrics, params)\u001b[0m\n\u001b[0;32m      2\u001b[0m updated_metrics \u001b[38;5;241m=\u001b[39m metrics\u001b[38;5;241m.\u001b[39mcopy()\n\u001b[0;32m      4\u001b[0m \u001b[38;5;66;03m# Update class weights\u001b[39;00m\n\u001b[1;32m----> 5\u001b[0m \u001b[38;5;28;01mfor\u001b[39;00m category, weight \u001b[38;5;129;01min\u001b[39;00m params[\u001b[38;5;124m\"\u001b[39m\u001b[38;5;124mclass_weights\u001b[39m\u001b[38;5;124m\"\u001b[39m]\u001b[38;5;241m.\u001b[39mitems():\n\u001b[0;32m      6\u001b[0m     updated_metrics[category][\u001b[38;5;124m\"\u001b[39m\u001b[38;5;124mclass_weight\u001b[39m\u001b[38;5;124m\"\u001b[39m] \u001b[38;5;241m=\u001b[39m weight\n\u001b[0;32m      8\u001b[0m \u001b[38;5;66;03m# Update thresholds\u001b[39;00m\n",
      "\u001b[1;31mKeyError\u001b[0m: 'class_weights'"
     ]
    }
   ],
   "source": [
    "optimized_metrics = update_metrics(metrics, params)\n"
   ]
  },
  {
   "cell_type": "code",
   "execution_count": 11,
   "id": "86fa8402-077c-4182-926c-a825e123482b",
   "metadata": {
    "tags": []
   },
   "outputs": [
    {
     "data": {
      "text/plain": [
       "{'efficiency': {'class_weight': 0.15,\n",
       "  'weights': [0.5, 0.5],\n",
       "  'metrics': {'return_on_asset': {'lower_is_better': False,\n",
       "    'thresholds': [(0.15, inf), (0.1, 0.15), Ellipsis, (-inf, -0.02)]},\n",
       "   'asset_turnover': {'lower_is_better': False,\n",
       "    'thresholds': [(4.0, inf), (3.0, 4.0), Ellipsis, (-inf, 0.25)]}}}}"
      ]
     },
     "execution_count": 11,
     "metadata": {},
     "output_type": "execute_result"
    }
   ],
   "source": [
    "optimized_metrics"
   ]
  },
  {
   "cell_type": "code",
   "execution_count": 14,
   "id": "fc3bff8e-b910-45aa-ba53-a6aa7bf8542f",
   "metadata": {
    "tags": []
   },
   "outputs": [],
   "source": [
    "# Initial parameters\n",
    "params = {\n",
    "    \"class_weights\": {\"efficiency\": 0.15},\n",
    "    \"thresholds\": {\n",
    "        \"efficiency\": {\n",
    "            \"return_on_asset\": [(0.15, float(\"inf\")), (0.10, 0.15), ..., (float(\"-inf\"), -0.02)],\n",
    "            \"asset_turnover\": [(4.0, float(\"inf\")), (3.0, 4.0), ..., (float(\"-inf\"), 0.25)]\n",
    "        }\n",
    "    }\n",
    "}"
   ]
  },
  {
   "cell_type": "code",
   "execution_count": 9,
   "id": "593904df-60e9-4d86-818c-9eabdab68b8d",
   "metadata": {
    "tags": []
   },
   "outputs": [],
   "source": [
    "def update_metrics(metrics, params):\n",
    "    updated_metrics = metrics.copy()\n",
    "    \n",
    "    # Update class weights\n",
    "    for category, weight in params[\"class_weights\"].items():\n",
    "        updated_metrics[category][\"class_weight\"] = weight\n",
    "    \n",
    "    # Update thresholds\n",
    "    for category, category_data in metrics.items():\n",
    "        for metric, metric_data in category_data[\"metrics\"].items():\n",
    "            updated_metrics[category][\"metrics\"][metric][\"thresholds\"] = params[\"thresholds\"][category][metric]\n",
    "    \n",
    "    return updated_metrics"
   ]
  },
  {
   "cell_type": "code",
   "execution_count": 18,
   "id": "a65bfa3e-ef77-49de-9126-5b89048a8c53",
   "metadata": {
    "tags": []
   },
   "outputs": [],
   "source": [
    "def update_weights_and_class_weights(data_dict, category, new_class_weight, new_weights):\n",
    "    if category in data_dict:\n",
    "        if 'class_weight' in data_dict[category]:\n",
    "            data_dict[category]['class_weight'] = new_class_weight\n",
    "        if 'weights' in data_dict[category]:\n",
    "            data_dict[category]['weights'] = new_weights\n",
    "    else:\n",
    "        print(f\"Category {category} not found in data dictionary.\")"
   ]
  },
  {
   "cell_type": "code",
   "execution_count": 19,
   "id": "2bd68305-e5dc-4422-ab22-6dfa9cf4eebe",
   "metadata": {
    "tags": []
   },
   "outputs": [],
   "source": [
    "class ModelDataModifier:\n",
    "    def __init__(self, data_dict):\n",
    "        \"\"\"Initialize with the model data dictionary.\"\"\"\n",
    "        self.data = data_dict\n",
    "\n",
    "    def update_from_dict(self, update_dict):\n",
    "        for category, updates in update_dict.items():\n",
    "            if category not in self.data:\n",
    "                print(f\"Category '{category}' not found.\")\n",
    "                continue\n",
    "\n",
    "            class_weight = updates.get('class_weight')\n",
    "            if class_weight is not None:\n",
    "                if isinstance(class_weight, float):\n",
    "                    self.data[category]['class_weight'] = class_weight\n",
    "                else:\n",
    "                    print(f\"Invalid class_weight type for '{category}'; must be float.\")\n",
    "\n",
    "            weights = updates.get('weights')\n",
    "            if weights is not None:\n",
    "                if all(isinstance(w, float) for w in weights):\n",
    "                    self.data[category]['weights'] = weights\n",
    "                else:\n",
    "                    print(f\"Invalid weights for '{category}'; each weight must be a float.\")"
   ]
  },
  {
   "cell_type": "code",
   "execution_count": 27,
   "id": "7195970d-e66c-4d36-833e-f59461481783",
   "metadata": {
    "tags": []
   },
   "outputs": [],
   "source": [
    "modifier = ModelDataModifier(model_inputs)\n",
    "updates = {\n",
    "    'profitability': {'class_weight': 0.35, 'weights': [1.0]},\n",
    "    'leverage_coverage': {'weights': [0.5, 0.25, 0.25]},\n",
    "    'efficiency': {'class_weight': 0.20, 'weights': [0.6, 0.4]}\n",
    "}\n",
    "\n",
    "# Perform updates\n",
    "modifier.update_from_dict(updates)"
   ]
  },
  {
   "cell_type": "code",
   "execution_count": null,
   "id": "41d666d2-fcac-4cba-b8a3-dcc7f205e463",
   "metadata": {},
   "outputs": [],
   "source": []
  }
 ],
 "metadata": {
  "kernelspec": {
   "display_name": "Python 3 (ipykernel)",
   "language": "python",
   "name": "python3"
  },
  "language_info": {
   "codemirror_mode": {
    "name": "ipython",
    "version": 3
   },
   "file_extension": ".py",
   "mimetype": "text/x-python",
   "name": "python",
   "nbconvert_exporter": "python",
   "pygments_lexer": "ipython3",
   "version": "3.11.5"
  }
 },
 "nbformat": 4,
 "nbformat_minor": 5
}
