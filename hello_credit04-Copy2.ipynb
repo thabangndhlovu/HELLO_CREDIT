{
 "cells": [
  {
   "cell_type": "markdown",
   "id": "e5bebd14-5939-4228-9449-e42827616343",
   "metadata": {},
   "source": [
    "# **Predictive Default Risk Assessor V.01**"
   ]
  },
  {
   "cell_type": "markdown",
   "id": "aa758ff1-aff3-4718-a6b6-2bf4aa81d71f",
   "metadata": {},
   "source": [
    "# TODO\n",
    "\n",
    "* Base model \n",
    "* Comparison\n",
    "* Specialised\n",
    "* For small entities - Examples?\n",
    "* Backtest - All sectors \n",
    "* Understanding the model across all sectors/industries\n",
    "* Any markets - consumer goods, industries\n",
    "* UI last step after backtesting"
   ]
  },
  {
   "cell_type": "code",
   "execution_count": 40,
   "id": "6642dcc8-c974-4380-947d-42a82be555f7",
   "metadata": {
    "tags": []
   },
   "outputs": [],
   "source": [
    "# df = pd.read_csv(\"research/JALSH Index_dataset_2000_2024_clean.csv\", index_col=0, header=[0, 1])\n",
    "# classfier = pd.read_excel(\"research/classification_data.xlsx\", index_col=0)\n",
    "metrics = pd.read_excel(\"research/metrics_full.xlsx\", index_col=0)"
   ]
  },
  {
   "cell_type": "code",
   "execution_count": 1,
   "id": "27606373",
   "metadata": {
    "tags": []
   },
   "outputs": [],
   "source": [
    "model_inputs = {\n",
    "    \"profitability\": {\n",
    "        \"class_weight\": 0.30,\n",
    "        \"weights\": [1.0], \n",
    "        \"metrics\": {\n",
    "            \"oper_margin\": {\n",
    "                \"lower_is_better\": False,\n",
    "                \"thresholds\": [\n",
    "                    (40, float(\"inf\")),\n",
    "                    (35, 39),\n",
    "                    (30, 34),\n",
    "                    (25, 29),\n",
    "                    (20, 24),\n",
    "                    (15, 19),\n",
    "                    (10, 14),\n",
    "                    (5, 9),\n",
    "                    (float(\"-inf\"), 0)\n",
    "                ],\n",
    "            }\n",
    "        },\n",
    "    },\n",
    "    \"leverage_coverage\": {\n",
    "        \"class_weight\": 0.55,\n",
    "        \"weights\": [0.4, 0.3, 0.3],\n",
    "        \"metrics\": {\n",
    "            \"tot_debt_to_tot_eqy\": {\n",
    "                \"lower_is_better\": True,\n",
    "                \"thresholds\": [\n",
    "                     (float(\"-inf\"), 2.0),\n",
    "                     (2.0, 16.0),\n",
    "                     (16.0, 24.0),\n",
    "                     (24.0, 33.0),\n",
    "                     (33.0, 43.0),\n",
    "                     (43.0, 54.0),\n",
    "                     (54.0, 68.0),\n",
    "                     (68.0, 94.0),\n",
    "                     (94.0, float(\"inf\")),\n",
    "                ],\n",
    "            },\n",
    "            \"tot_debt_to_ebitda\": {\n",
    "                \"lower_is_better\": True,\n",
    "                \"thresholds\": [\n",
    "                    (float(\"-inf\"), 0.09),\n",
    "                    (0.09, 0.49),\n",
    "                    (0.49, 0.9),\n",
    "                    (0.9, 1.36),\n",
    "                    (1.36, 1.68),\n",
    "                    (1.68, 2.26),\n",
    "                    (2.26, 3.27),\n",
    "                    (3.27, 4.4),\n",
    "                    (4.4, float(\"inf\")),\n",
    "                ],\n",
    "            },\n",
    "            \"ebitda_to_tot_int_exp\": {\n",
    "                \"lower_is_better\": False,\n",
    "                \"thresholds\": [\n",
    "                    (25, float(\"inf\")),\n",
    "                    (20, 25),\n",
    "                    (15, 20),\n",
    "                    (10, 15),\n",
    "                    (5, 10),\n",
    "                    (3, 5),\n",
    "                    (1, 3),\n",
    "                    (0, 1),\n",
    "                    (float(\"-inf\"), 0),\n",
    "                ],\n",
    "            },\n",
    "        },\n",
    "    },\n",
    "    \"efficiency\": {\n",
    "        \"class_weight\": 0.15,\n",
    "        \"weights\": [0.5, 0.5],\n",
    "        \"metrics\": {\n",
    "            \"return_on_asset\": {\n",
    "                \"lower_is_better\": False,\n",
    "                \"thresholds\": [\n",
    "                    (0.15, float(\"inf\")),\n",
    "                    (0.10, 0.15),\n",
    "                    (0.08, 0.10),\n",
    "                    (0.06, 0.08),\n",
    "                    (0.04, 0.06),\n",
    "                    (0.02, 0.04),\n",
    "                    (0.00, 0.02),\n",
    "                    (-0.02, 0.00),\n",
    "                    (float(\"-inf\"), -0.02)\n",
    "                ],\n",
    "            },\n",
    "            \"asset_turnover\": {\n",
    "                \"lower_is_better\": False,\n",
    "                \"thresholds\": [\n",
    "                    (4.0, float(\"inf\")),\n",
    "                    (3.0, 4.0),\n",
    "                    (2.0, 3.0),\n",
    "                    (1.5, 2.0),\n",
    "                    (1.0, 1.5),\n",
    "                    (0.75, 1.0),\n",
    "                    (0.5, 0.75),\n",
    "                    (0.25, 0.5),\n",
    "                    (float(\"-inf\"), 0.25)\n",
    "                ],\n",
    "            },\n",
    "        },\n",
    "    },\n",
    "}"
   ]
  },
  {
   "cell_type": "code",
   "execution_count": 3,
   "id": "78b2f3ed-0720-43a7-8204-f4f0efe040b8",
   "metadata": {
    "tags": []
   },
   "outputs": [],
   "source": [
    "import json\n",
    "\n",
    "import pandas as pd\n",
    "import numpy as np"
   ]
  },
  {
   "cell_type": "code",
   "execution_count": 4,
   "id": "678c7c90-0223-454c-a15b-91d8e5f48f3a",
   "metadata": {
    "tags": []
   },
   "outputs": [],
   "source": [
    "with open(\"file.json\", \"r\") as f:\n",
    "    file = json.load(f)"
   ]
  },
  {
   "cell_type": "code",
   "execution_count": 5,
   "id": "a7221e02-cb3f-4fb6-b655-ee54004c3881",
   "metadata": {
    "tags": []
   },
   "outputs": [
    {
     "data": {
      "text/plain": [
       "{'credit_rating_scale': {'Aaa': 2.5,\n",
       "  'Aa': 3.5,\n",
       "  'A': 4.5,\n",
       "  'Baa': 5.5,\n",
       "  'Ba': 6.5,\n",
       "  'B': 7.5,\n",
       "  'Caa': 8.5,\n",
       "  'Ca': 9.5,\n",
       "  'C': 10},\n",
       " 'credit_rating_mappings': {'Aaa': ['IG1', 'IG2', 'IG3', 'IG4', 'AAA'],\n",
       "  'Aa': ['IG5', 'IG6', 'Aa1', 'Aa2', 'Aa3', 'AA+', 'AA', 'AA-'],\n",
       "  'A': ['IG7', 'IG8', 'IG9', 'IG10', 'A1', 'A2', 'A3', 'A+', 'A', 'A-'],\n",
       "  'Baa': ['HY1', 'HY2', 'Baa1', 'Baa2', 'Baa3', 'BBB', 'BBB+', 'BBB-'],\n",
       "  'Ba': ['HY3', 'HY4', 'Ba1', 'Ba2', 'Ba3', 'BB+', 'BB', 'BB-'],\n",
       "  'B': ['HY5', 'HY6', 'B1', 'B2', 'B3', 'B+', 'B', 'B-'],\n",
       "  'Caa': ['DS1', 'DS2', 'Caa1', 'Caa2', 'CCC+', 'CCC', 'CCC-'],\n",
       "  'Ca': ['DS3', 'DS4', 'Ca', 'CC'],\n",
       "  'C': ['DS5', 'C', 'D']}}"
      ]
     },
     "execution_count": 5,
     "metadata": {},
     "output_type": "execute_result"
    }
   ],
   "source": [
    "file"
   ]
  },
  {
   "cell_type": "code",
   "execution_count": 41,
   "id": "8ff894c0-a05e-4061-9445-bbb895296a09",
   "metadata": {
    "tags": []
   },
   "outputs": [],
   "source": [
    "class CreditRatingCalculator:\n",
    "    def __init__(self, metrics):\n",
    "        self.metrics = metrics\n",
    "        self.credit_rating_dict = {\n",
    "            'Aaa': 2.5,\n",
    "            'Aa': 3.5,\n",
    "            'A': 4.5,\n",
    "            'Baa': 5.5,\n",
    "            'Ba': 6.5,\n",
    "            'B': 7.5,\n",
    "            'Caa': 8.5,\n",
    "            'Ca': 9.5,\n",
    "            'C': 10,\n",
    "        }\n",
    "        \n",
    "    def _calculate_metric_score(self, metric, thresholds, inverse):\n",
    "        for score, (lower, upper) in enumerate(thresholds, start=1):\n",
    "            if (inverse and metric <= upper) or (not inverse and metric >= lower):\n",
    "                return score\n",
    "        return len(thresholds) // 2 # else return the middle score\n",
    "\n",
    "    def _calculate_category_score(self, category_metrics, ratios):\n",
    "        total_weighted_score = 0\n",
    "\n",
    "        for metric, weight in zip(\n",
    "            category_metrics[\"metrics\"].items(), category_metrics[\"weights\"]\n",
    "        ):\n",
    "            metric_name, metric_data = metric\n",
    "            value = ratios[metric_name]\n",
    "            score = self._calculate_metric_score(\n",
    "                value, metric_data[\"thresholds\"], metric_data[\"lower_is_better\"]\n",
    "            )\n",
    "            total_weighted_score += score * weight\n",
    "\n",
    "        return total_weighted_score\n",
    "\n",
    "    def _calculate_scores(self, ratios):\n",
    "        scores = {}\n",
    "        for category, category_data in self.metrics.items():\n",
    "            category_score = self._calculate_category_score(category_data, ratios)\n",
    "            scores[category] = category_score\n",
    "        return scores\n",
    "\n",
    "    def _calculate_weighted_score(self, scores):\n",
    "        weights = {\n",
    "            category: category_data[\"class_weight\"]\n",
    "            for category, category_data in self.metrics.items()\n",
    "        }\n",
    "        return sum(scores[category] * weight for category, weight in weights.items())\n",
    "            \n",
    "    def _determine_credit_rating(self, weighted_score):\n",
    "        sorted_credit_ratings = sorted(self.credit_rating_dict.items(), key=lambda item: item[1])\n",
    "        for rating, threshold in sorted_credit_ratings:\n",
    "            if weighted_score <= threshold:\n",
    "                return rating\n",
    "        return \"N/R\" \n",
    "\n",
    "    def calculate_credit_rating(self, ratios):\n",
    "        self.scores = self._calculate_scores(ratios)\n",
    "        self.credit_score = self._calculate_weighted_score(self.scores)\n",
    "        self.credit_rating = self._determine_credit_rating(self.credit_score)"
   ]
  },
  {
   "cell_type": "code",
   "execution_count": null,
   "id": "ba34e0b7-dd1b-41d2-b4dc-4608bdc2ece4",
   "metadata": {
    "tags": []
   },
   "outputs": [],
   "source": []
  },
  {
   "cell_type": "code",
   "execution_count": 46,
   "id": "3460a8a6-dd7a-4896-a2ee-032416c11703",
   "metadata": {
    "tags": []
   },
   "outputs": [],
   "source": [
    "company = \"SOL SJ Equity\""
   ]
  },
  {
   "cell_type": "code",
   "execution_count": 47,
   "id": "c9ce811f-6d11-4467-92cb-8558f849a579",
   "metadata": {
    "jupyter": {
     "source_hidden": true
    },
    "tags": []
   },
   "outputs": [],
   "source": [
    "model_metrics = [\n",
    "    \"oper_margin\", \n",
    "    \"tot_debt_to_tot_eqy\", \n",
    "    \"tot_debt_to_ebitda\", \n",
    "    \"ebitda_to_tot_int_exp\", \n",
    "    \"return_on_asset\",\n",
    "    \"asset_turnover\",\n",
    "]\n",
    "\n",
    "ratios = metrics[company].loc[model_metrics].to_dict()"
   ]
  },
  {
   "cell_type": "code",
   "execution_count": 48,
   "id": "39b74db9-167a-4d83-bda9-f280c20cd9f4",
   "metadata": {
    "tags": []
   },
   "outputs": [
    {
     "name": "stdout",
     "output_type": "stream",
     "text": [
      "Model Inputs:\n"
     ]
    },
    {
     "data": {
      "text/plain": [
       "{'oper_margin': 16.3950191178321,\n",
       " 'tot_debt_to_tot_eqy': 39.11672247746525,\n",
       " 'tot_debt_to_ebitda': 1.951244076719926,\n",
       " 'ebitda_to_tot_int_exp': 20.79599707577895,\n",
       " 'return_on_asset': 8.547786371422223,\n",
       " 'asset_turnover': 0.7309011255567248}"
      ]
     },
     "metadata": {},
     "output_type": "display_data"
    },
    {
     "name": "stdout",
     "output_type": "stream",
     "text": [
      "\n",
      "Class Scoring: {'profitability': 6.0, 'leverage_coverage': 4.3999999999999995, 'efficiency': 4.0}\n",
      "Credit Score: 4.819999999999999\n",
      "Credit Rating: Baa\n"
     ]
    }
   ],
   "source": [
    "model = CreditRatingCalculator(model_inputs)\n",
    "model.calculate_credit_rating(ratios)\n",
    "print(f\"Model Inputs:\")\n",
    "display(ratios)\n",
    "print(\"\")\n",
    "print(f\"Class Scoring: {model.scores}\")\n",
    "print(f\"Credit Score: {model.credit_score}\")\n",
    "print(f\"Credit Rating: {model.credit_rating}\")"
   ]
  },
  {
   "cell_type": "code",
   "execution_count": 45,
   "id": "43f532f7-e6f4-4e84-8da5-4f0441604452",
   "metadata": {
    "collapsed": true,
    "jupyter": {
     "outputs_hidden": true,
     "source_hidden": true
    },
    "tags": []
   },
   "outputs": [
    {
     "name": "stdout",
     "output_type": "stream",
     "text": [
      "Model Inputs:\n"
     ]
    },
    {
     "data": {
      "text/plain": [
       "{'oper_margin': 28.20272223399595,\n",
       " 'tot_debt_to_tot_eqy': 242.9371134519588,\n",
       " 'tot_debt_to_ebitda': nan,\n",
       " 'ebitda_to_tot_int_exp': nan,\n",
       " 'return_on_asset': 1.233318242973886,\n",
       " 'asset_turnover': 0.108163163242304}"
      ]
     },
     "metadata": {},
     "output_type": "display_data"
    },
    {
     "name": "stdout",
     "output_type": "stream",
     "text": [
      "\n",
      "Class Scoring: {'profitability': 4.0, 'leverage_coverage': 6.0, 'efficiency': 5.0}\n",
      "Credit Score: 5.25\n",
      "Credit Rating: Baa\n"
     ]
    }
   ],
   "source": [
    "model = CreditRatingCalculator(model_inputs)\n",
    "model.calculate_credit_rating(ratios)\n",
    "print(f\"Model Inputs:\")\n",
    "display(ratios)\n",
    "print(\"\")\n",
    "print(f\"Class Scoring: {model.scores}\")\n",
    "print(f\"Credit Score: {model.credit_score}\")\n",
    "print(f\"Credit Rating: {model.credit_rating}\")"
   ]
  },
  {
   "cell_type": "code",
   "execution_count": null,
   "id": "f9fb0faa-e931-4075-a457-2881c61d05bc",
   "metadata": {},
   "outputs": [],
   "source": [
    "model_inputs = {\n",
    "    \"profitability\": {\n",
    "        \"class_weight\": 0.30,\n",
    "        \"weights\": [1.0], \n",
    "        \"metrics\": {\n",
    "            \"oper_margin\": {\n",
    "                \"lower_is_better\": False,\n",
    "                \"thresholds\": [\n",
    "                    (40, float(\"inf\")),\n",
    "                    (35, 39),\n",
    "                    (30, 34),\n",
    "                    (25, 29),\n",
    "                    (20, 24),\n",
    "                    (15, 19),\n",
    "                    (10, 14),\n",
    "                    (5, 9),\n",
    "                    (float(\"-inf\"), 0)\n",
    "                ],\n",
    "            }\n",
    "        },\n",
    "    },\n",
    "    \"leverage_coverage\": {\n",
    "        \"class_weight\": 0.55,\n",
    "        \"weights\": [0.4, 0.3, 0.3],\n",
    "        \"metrics\": {\n",
    "            \"tot_debt_to_tot_eqy\": {\n",
    "                \"lower_is_better\": True,\n",
    "                \"thresholds\": [\n",
    "                     (float(\"-inf\"), 2.0),\n",
    "                     (2.0, 16.0),\n",
    "                     (16.0, 24.0),\n",
    "                     (24.0, 33.0),\n",
    "                     (33.0, 43.0),\n",
    "                     (43.0, 54.0),\n",
    "                     (54.0, 68.0),\n",
    "                     (68.0, 94.0),\n",
    "                     (94.0, float(\"inf\")),\n",
    "                ],\n",
    "            },\n",
    "            \"tot_debt_to_ebitda\": {\n",
    "                \"lower_is_better\": True,\n",
    "                \"thresholds\": [\n",
    "                    (float(\"-inf\"), 0.09),\n",
    "                    (0.09, 0.49),\n",
    "                    (0.49, 0.9),\n",
    "                    (0.9, 1.36),\n",
    "                    (1.36, 1.68),\n",
    "                    (1.68, 2.26),\n",
    "                    (2.26, 3.27),\n",
    "                    (3.27, 4.4),\n",
    "                    (4.4, float(\"inf\")),\n",
    "                ],\n",
    "            },\n",
    "            \"ebitda_to_tot_int_exp\": {\n",
    "                \"lower_is_better\": False,\n",
    "                \"thresholds\": [\n",
    "                    (25, float(\"inf\")),\n",
    "                    (20, 25),\n",
    "                    (15, 20),\n",
    "                    (10, 15),\n",
    "                    (5, 10),\n",
    "                    (3, 5),\n",
    "                    (1, 3),\n",
    "                    (0, 1),\n",
    "                    (float(\"-inf\"), 0),\n",
    "                ],\n",
    "            },\n",
    "        },\n",
    "    },\n",
    "    \"efficiency\": {\n",
    "        \"class_weight\": 0.15,\n",
    "        \"weights\": [0.5, 0.5],\n",
    "        \"metrics\": {\n",
    "            \"return_on_asset\": {\n",
    "                \"lower_is_better\": False,\n",
    "                \"thresholds\": [\n",
    "                    (0.15, float(\"inf\")),\n",
    "                    (0.10, 0.15),\n",
    "                    (0.08, 0.10),\n",
    "                    (0.06, 0.08),\n",
    "                    (0.04, 0.06),\n",
    "                    (0.02, 0.04),\n",
    "                    (0.00, 0.02),\n",
    "                    (-0.02, 0.00),\n",
    "                    (float(\"-inf\"), -0.02)\n",
    "                ],\n",
    "            },\n",
    "            \"asset_turnover\": {\n",
    "                \"lower_is_better\": False,\n",
    "                \"thresholds\": [\n",
    "                    (4.0, float(\"inf\")),\n",
    "                    (3.0, 4.0),\n",
    "                    (2.0, 3.0),\n",
    "                    (1.5, 2.0),\n",
    "                    (1.0, 1.5),\n",
    "                    (0.75, 1.0),\n",
    "                    (0.5, 0.75),\n",
    "                    (0.25, 0.5),\n",
    "                    (float(\"-inf\"), 0.25)\n",
    "                ],\n",
    "            },\n",
    "        },\n",
    "    },\n",
    "}\n",
    "\n",
    "\n",
    "\n",
    "\n",
    "\n",
    "class CreditRatingCalculator:\n",
    "    def __init__(self, metrics):\n",
    "        self.metrics = metrics\n",
    "        self.credit_rating_dict = {\n",
    "            'Aaa': 2.5,\n",
    "            'Aa': 3.5,\n",
    "            'A': 4.5,\n",
    "            'Baa': 5.5,\n",
    "            'Ba': 6.5,\n",
    "            'B': 7.5,\n",
    "            'Caa': 8.5,\n",
    "            'Ca': 9.5,\n",
    "            'C': 10,\n",
    "        }\n",
    "        \n",
    "    def _calculate_metric_score(self, metric, thresholds, inverse):\n",
    "        for score, (lower, upper) in enumerate(thresholds, start=1):\n",
    "            if (inverse and metric <= upper) or (not inverse and metric >= lower):\n",
    "                return score\n",
    "        return len(thresholds) // 2 # else return the middle score\n",
    "\n",
    "    def _calculate_category_score(self, category_metrics, ratios):\n",
    "        total_weighted_score = 0\n",
    "\n",
    "        for metric, weight in zip(\n",
    "            category_metrics[\"metrics\"].items(), category_metrics[\"weights\"]\n",
    "        ):\n",
    "            metric_name, metric_data = metric\n",
    "            value = ratios[metric_name]\n",
    "            score = self._calculate_metric_score(\n",
    "                value, metric_data[\"thresholds\"], metric_data[\"lower_is_better\"]\n",
    "            )\n",
    "            total_weighted_score += score * weight\n",
    "\n",
    "        return total_weighted_score\n",
    "\n",
    "    def _calculate_scores(self, ratios):\n",
    "        scores = {}\n",
    "        for category, category_data in self.metrics.items():\n",
    "            category_score = self._calculate_category_score(category_data, ratios)\n",
    "            scores[category] = category_score\n",
    "        return scores\n",
    "\n",
    "    def _calculate_weighted_score(self, scores):\n",
    "        weights = {\n",
    "            category: category_data[\"class_weight\"]\n",
    "            for category, category_data in self.metrics.items()\n",
    "        }\n",
    "        return sum(scores[category] * weight for category, weight in weights.items())\n",
    "            \n",
    "    def _determine_credit_rating(self, weighted_score):\n",
    "        sorted_credit_ratings = sorted(self.credit_rating_dict.items(), key=lambda item: item[1])\n",
    "        for rating, threshold in sorted_credit_ratings:\n",
    "            if weighted_score <= threshold:\n",
    "                return rating\n",
    "        return \"N/R\" \n",
    "\n",
    "    def calculate_credit_rating(self, ratios):\n",
    "        self.scores = self._calculate_scores(ratios)\n",
    "        self.credit_score = self._calculate_weighted_score(self.scores)\n",
    "        self.credit_rating = self._determine_credit_rating(self.credit_score)"
   ]
  }
 ],
 "metadata": {
  "kernelspec": {
   "display_name": "Python 3 (ipykernel)",
   "language": "python",
   "name": "python3"
  },
  "language_info": {
   "codemirror_mode": {
    "name": "ipython",
    "version": 3
   },
   "file_extension": ".py",
   "mimetype": "text/x-python",
   "name": "python",
   "nbconvert_exporter": "python",
   "pygments_lexer": "ipython3",
   "version": "3.11.5"
  }
 },
 "nbformat": 4,
 "nbformat_minor": 5
}
