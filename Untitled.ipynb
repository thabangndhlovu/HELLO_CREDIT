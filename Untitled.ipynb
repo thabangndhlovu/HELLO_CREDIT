{
 "cells": [
  {
   "cell_type": "code",
   "execution_count": 1,
   "id": "6e701e48-c475-492d-a24e-2b8ce03d7d16",
   "metadata": {
    "tags": []
   },
   "outputs": [],
   "source": [
    "import pandas as pd"
   ]
  },
  {
   "cell_type": "code",
   "execution_count": 4,
   "id": "ac39f1fd-8fc7-485b-979f-874bfdc07944",
   "metadata": {
    "tags": []
   },
   "outputs": [],
   "source": [
    "df = pd.read_excel(\"Book2.xlsx\")"
   ]
  },
  {
   "cell_type": "code",
   "execution_count": null,
   "id": "70546f5b-c006-4e4d-91c8-19d0388888c3",
   "metadata": {},
   "outputs": [],
   "source": []
  },
  {
   "cell_type": "code",
   "execution_count": 8,
   "id": "1a4933c1-0309-4145-aa90-de9197f882d5",
   "metadata": {
    "tags": []
   },
   "outputs": [],
   "source": [
    "df = df.dropna(subset=[\"rtg_moody_long_term\", \"rtg_sp_lt_lc_issuer_credit\"])"
   ]
  },
  {
   "cell_type": "code",
   "execution_count": 12,
   "id": "a4ccf6bd-4dab-42ff-a0e0-ae5cab8a826a",
   "metadata": {
    "tags": []
   },
   "outputs": [
    {
     "name": "stderr",
     "output_type": "stream",
     "text": [
      "C:\\Users\\103763\\AppData\\Local\\Temp\\ipykernel_20508\\941808204.py:1: SettingWithCopyWarning: \n",
      "A value is trying to be set on a copy of a slice from a DataFrame.\n",
      "Try using .loc[row_indexer,col_indexer] = value instead\n",
      "\n",
      "See the caveats in the documentation: https://pandas.pydata.org/pandas-docs/stable/user_guide/indexing.html#returning-a-view-versus-a-copy\n",
      "  df.rtg_moody_long_term_date = pd.to_datetime(df.rtg_moody_long_term_date)\n"
     ]
    }
   ],
   "source": [
    "df.rtg_moody_long_term_date = pd.to_datetime(df.rtg_moody_long_term_date)"
   ]
  },
  {
   "cell_type": "code",
   "execution_count": 14,
   "id": "b0ea7273-98e9-42f2-9605-16f370bed4ad",
   "metadata": {
    "tags": []
   },
   "outputs": [
    {
     "name": "stderr",
     "output_type": "stream",
     "text": [
      "C:\\Users\\103763\\AppData\\Local\\Temp\\ipykernel_20508\\640674260.py:1: SettingWithCopyWarning: \n",
      "A value is trying to be set on a copy of a slice from a DataFrame.\n",
      "Try using .loc[row_indexer,col_indexer] = value instead\n",
      "\n",
      "See the caveats in the documentation: https://pandas.pydata.org/pandas-docs/stable/user_guide/indexing.html#returning-a-view-versus-a-copy\n",
      "  df.rtg_sp_lt_lc_iss_cred_rtg_dt = pd.to_datetime(df.rtg_sp_lt_lc_iss_cred_rtg_dt)\n"
     ]
    }
   ],
   "source": [
    "df.rtg_sp_lt_lc_iss_cred_rtg_dt = pd.to_datetime(df.rtg_sp_lt_lc_iss_cred_rtg_dt)"
   ]
  },
  {
   "cell_type": "code",
   "execution_count": 17,
   "id": "f612bcb6-fca5-45f9-83c0-18f65efa3c86",
   "metadata": {
    "tags": []
   },
   "outputs": [],
   "source": [
    "df = df.sort_values([\"rtg_moody_long_term_date\", \"rtg_sp_lt_lc_iss_cred_rtg_dt\"])"
   ]
  },
  {
   "cell_type": "code",
   "execution_count": 21,
   "id": "493707f7-a612-4620-809f-0aa28faee18b",
   "metadata": {
    "tags": []
   },
   "outputs": [],
   "source": [
    "df = df.drop([\"book_val_per_sh\", \"bs_tot_asset\"], axis=1)"
   ]
  },
  {
   "cell_type": "code",
   "execution_count": 26,
   "id": "453b99c7-0e09-497c-b27c-a217519c1c49",
   "metadata": {
    "tags": []
   },
   "outputs": [],
   "source": [
    "df = df.loc[df.id.drop_duplicates().index]"
   ]
  },
  {
   "cell_type": "code",
   "execution_count": 36,
   "id": "52aa150f-f4fa-430c-b5ec-50e3ff82d65e",
   "metadata": {
    "tags": []
   },
   "outputs": [
    {
     "data": {
      "text/plain": [
       "country_full_name\n",
       "UNITED STATES    424\n",
       "CHINA             58\n",
       "JAPAN             41\n",
       "BRITAIN           37\n",
       "GERMANY           27\n",
       "SOUTH KOREA       27\n",
       "CANADA            25\n",
       "FRANCE            23\n",
       "HONG KONG         21\n",
       "BRAZIL            20\n",
       "AUSTRALIA         20\n",
       "SWITZERLAND       14\n",
       "INDIA             13\n",
       "NETHERLANDS       12\n",
       "SWEDEN            10\n",
       "IRELAND            9\n",
       "TAIWAN             8\n",
       "NORWAY             7\n",
       "SPAIN              7\n",
       "ITALY              6\n",
       "FINLAND            6\n",
       "DENMARK            5\n",
       "MALAYSIA           5\n",
       "THAILAND           4\n",
       "MEXICO             4\n",
       "SOUTH AFRICA       4\n",
       "SAUDI ARABIA       3\n",
       "SINGAPORE          3\n",
       "CHILE              3\n",
       "TURKEY             3\n",
       "QATAR              2\n",
       "UAE                2\n",
       "BELGIUM            2\n",
       "ISRAEL             1\n",
       "CZECH              1\n",
       "LUXEMBOURG         1\n",
       "URUGUAY            1\n",
       "COLOMBIA           1\n",
       "HUNGARY            1\n",
       "AUSTRIA            1\n",
       "PHILIPPINES        1\n",
       "PORTUGAL           1\n",
       "MACAU              1\n",
       "BERMUDA            1\n",
       "Name: count, dtype: int64"
      ]
     },
     "execution_count": 36,
     "metadata": {},
     "output_type": "execute_result"
    }
   ],
   "source": [
    "df.country_full_name.value_counts()"
   ]
  },
  {
   "cell_type": "code",
   "execution_count": 39,
   "id": "0d9919c8-aeda-4ce6-a745-fee91ea6bed0",
   "metadata": {
    "tags": []
   },
   "outputs": [
    {
     "data": {
      "text/html": [
       "<div>\n",
       "<style scoped>\n",
       "    .dataframe tbody tr th:only-of-type {\n",
       "        vertical-align: middle;\n",
       "    }\n",
       "\n",
       "    .dataframe tbody tr th {\n",
       "        vertical-align: top;\n",
       "    }\n",
       "\n",
       "    .dataframe thead th {\n",
       "        text-align: right;\n",
       "    }\n",
       "</style>\n",
       "<table border=\"1\" class=\"dataframe\">\n",
       "  <thead>\n",
       "    <tr style=\"text-align: right;\">\n",
       "      <th></th>\n",
       "      <th>id</th>\n",
       "      <th>name</th>\n",
       "      <th>gics_sector_name</th>\n",
       "      <th>gics_industry_name</th>\n",
       "      <th>rsk_bb_issuer_default</th>\n",
       "      <th>bb_5y_default_prob</th>\n",
       "      <th>rtg_moody_long_term</th>\n",
       "      <th>rtg_moody_long_term_date</th>\n",
       "      <th>rtg_sp_lt_lc_issuer_credit</th>\n",
       "      <th>rtg_sp_lt_lc_iss_cred_rtg_dt</th>\n",
       "      <th>country_full_name</th>\n",
       "    </tr>\n",
       "  </thead>\n",
       "  <tbody>\n",
       "    <tr>\n",
       "      <th>1799</th>\n",
       "      <td>MTN SJ Equity</td>\n",
       "      <td>MTN Group Ltd</td>\n",
       "      <td>Communication Services</td>\n",
       "      <td>Wireless Telecommunication Services</td>\n",
       "      <td>IG8</td>\n",
       "      <td>0.023938</td>\n",
       "      <td>Ba2</td>\n",
       "      <td>2022-04-06</td>\n",
       "      <td>BB-</td>\n",
       "      <td>2020-05-12</td>\n",
       "      <td>SOUTH AFRICA</td>\n",
       "    </tr>\n",
       "    <tr>\n",
       "      <th>159</th>\n",
       "      <td>GFI SJ Equity</td>\n",
       "      <td>Gold Fields Ltd</td>\n",
       "      <td>Materials</td>\n",
       "      <td>Metals &amp; Mining</td>\n",
       "      <td>IG7</td>\n",
       "      <td>0.021680</td>\n",
       "      <td>Baa3</td>\n",
       "      <td>2022-04-06</td>\n",
       "      <td>BBB-</td>\n",
       "      <td>2022-04-28</td>\n",
       "      <td>SOUTH AFRICA</td>\n",
       "    </tr>\n",
       "    <tr>\n",
       "      <th>1934</th>\n",
       "      <td>SSW SJ Equity</td>\n",
       "      <td>Sibanye Stillwater Ltd</td>\n",
       "      <td>Materials</td>\n",
       "      <td>Metals &amp; Mining</td>\n",
       "      <td>HY2</td>\n",
       "      <td>0.077816</td>\n",
       "      <td>Ba2</td>\n",
       "      <td>2022-04-27</td>\n",
       "      <td>BB-</td>\n",
       "      <td>2023-12-12</td>\n",
       "      <td>SOUTH AFRICA</td>\n",
       "    </tr>\n",
       "    <tr>\n",
       "      <th>464</th>\n",
       "      <td>SOL SJ Equity</td>\n",
       "      <td>Sasol Ltd</td>\n",
       "      <td>Materials</td>\n",
       "      <td>Chemicals</td>\n",
       "      <td>IG10</td>\n",
       "      <td>0.038086</td>\n",
       "      <td>Ba1</td>\n",
       "      <td>2023-11-28</td>\n",
       "      <td>BB+</td>\n",
       "      <td>2022-10-28</td>\n",
       "      <td>SOUTH AFRICA</td>\n",
       "    </tr>\n",
       "  </tbody>\n",
       "</table>\n",
       "</div>"
      ],
      "text/plain": [
       "                 id                    name        gics_sector_name  \\\n",
       "1799  MTN SJ Equity           MTN Group Ltd  Communication Services   \n",
       "159   GFI SJ Equity         Gold Fields Ltd               Materials   \n",
       "1934  SSW SJ Equity  Sibanye Stillwater Ltd               Materials   \n",
       "464   SOL SJ Equity               Sasol Ltd               Materials   \n",
       "\n",
       "                       gics_industry_name rsk_bb_issuer_default  \\\n",
       "1799  Wireless Telecommunication Services                   IG8   \n",
       "159                       Metals & Mining                   IG7   \n",
       "1934                      Metals & Mining                   HY2   \n",
       "464                             Chemicals                  IG10   \n",
       "\n",
       "      bb_5y_default_prob rtg_moody_long_term rtg_moody_long_term_date  \\\n",
       "1799            0.023938                 Ba2               2022-04-06   \n",
       "159             0.021680                Baa3               2022-04-06   \n",
       "1934            0.077816                 Ba2               2022-04-27   \n",
       "464             0.038086                 Ba1               2023-11-28   \n",
       "\n",
       "     rtg_sp_lt_lc_issuer_credit rtg_sp_lt_lc_iss_cred_rtg_dt country_full_name  \n",
       "1799                        BB-                   2020-05-12      SOUTH AFRICA  \n",
       "159                        BBB-                   2022-04-28      SOUTH AFRICA  \n",
       "1934                        BB-                   2023-12-12      SOUTH AFRICA  \n",
       "464                         BB+                   2022-10-28      SOUTH AFRICA  "
      ]
     },
     "execution_count": 39,
     "metadata": {},
     "output_type": "execute_result"
    }
   ],
   "source": [
    "df[df.country_full_name == \"SOUTH AFRICA\"]"
   ]
  },
  {
   "cell_type": "code",
   "execution_count": null,
   "id": "0c34f641-b748-4afc-899d-678ae29a9059",
   "metadata": {
    "tags": []
   },
   "outputs": [],
   "source": []
  },
  {
   "cell_type": "code",
   "execution_count": null,
   "id": "66c97531-b0da-48e4-b361-ad1590368326",
   "metadata": {},
   "outputs": [],
   "source": []
  }
 ],
 "metadata": {
  "kernelspec": {
   "display_name": "Python 3 (ipykernel)",
   "language": "python",
   "name": "python3"
  },
  "language_info": {
   "codemirror_mode": {
    "name": "ipython",
    "version": 3
   },
   "file_extension": ".py",
   "mimetype": "text/x-python",
   "name": "python",
   "nbconvert_exporter": "python",
   "pygments_lexer": "ipython3",
   "version": "3.11.5"
  }
 },
 "nbformat": 4,
 "nbformat_minor": 5
}
