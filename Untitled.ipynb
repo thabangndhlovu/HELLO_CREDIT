{
 "cells": [
  {
   "cell_type": "code",
   "execution_count": 1,
   "id": "615b8c63-7b98-4e2c-8af3-bc05a4c9ab30",
   "metadata": {
    "tags": []
   },
   "outputs": [],
   "source": [
    "import pandas as pd"
   ]
  },
  {
   "cell_type": "code",
   "execution_count": 2,
   "id": "9887d9a3-1972-4270-b525-256339815e9c",
   "metadata": {
    "tags": []
   },
   "outputs": [],
   "source": [
    "df = pd.read_excel(\"resources/stock_universe_default_prob.xlsx\", index_col=0)"
   ]
  },
  {
   "cell_type": "code",
   "execution_count": 3,
   "id": "741f74aa-8376-4e96-b4b4-2c1389ee5c67",
   "metadata": {
    "tags": []
   },
   "outputs": [],
   "source": [
    "mappings = {\n",
    "    \"Aaa\": [\"IG1\", \"IG2\", \"IG3\",],\n",
    "    \"Aa\": [ \"IG4\", \"IG5\", \"IG6\"],\n",
    "    \"A\": [\"IG7\", \"IG8\", \"IG9\", \"IG10\"],\n",
    "    \"Baa\": [\"HY1\", \"HY2\"],\n",
    "    \"Ba\": [\"HY3\", \"HY4\"],\n",
    "    \"B\": [\"HY5\", \"HY6\"],\n",
    "    \"Caa\": [\"DS1\", \"DS2\"],\n",
    "    \"Ca\": [\"DS3\", \"DS4\"],\n",
    "    \"C\": [\"DS5\"]\n",
    "}\n",
    "\n",
    "# Create a reverse mapping dictionary\n",
    "reverse_mappings = {value: key for key, values in mappings.items() for value in values}\n",
    "\n",
    "# Map the values in the 'rating' column using the reverse mapping dictionary\n",
    "df['rating'] = df['rsk_bb_issuer_default'].map(lambda x: reverse_mappings.get(x, x))"
   ]
  },
  {
   "cell_type": "code",
   "execution_count": 38,
   "id": "3c115195-0ba7-4446-bf74-0edc713d65ea",
   "metadata": {
    "tags": []
   },
   "outputs": [
    {
     "data": {
      "text/plain": [
       "rating\n",
       "Aaa    53\n",
       "A      36\n",
       "Aa     29\n",
       "Baa     5\n",
       "Ba      2\n",
       "B       1\n",
       "Name: count, dtype: int64"
      ]
     },
     "execution_count": 38,
     "metadata": {},
     "output_type": "execute_result"
    }
   ],
   "source": [
    "df.rating.value_counts()"
   ]
  },
  {
   "cell_type": "code",
   "execution_count": 33,
   "id": "f8e5c775-511b-465b-99f6-1274c2d5cdf1",
   "metadata": {
    "tags": []
   },
   "outputs": [
    {
     "data": {
      "text/plain": [
       "rating\n",
       "Aaa    45\n",
       "Aa     37\n",
       "A      36\n",
       "Baa     5\n",
       "Ba      2\n",
       "B       1\n",
       "Name: count, dtype: int64"
      ]
     },
     "execution_count": 33,
     "metadata": {},
     "output_type": "execute_result"
    }
   ],
   "source": [
    "df.rating.value_counts()"
   ]
  },
  {
   "cell_type": "code",
   "execution_count": 22,
   "id": "f266751a-01c1-4c2a-8cd7-48ed83a448a0",
   "metadata": {
    "tags": []
   },
   "outputs": [
    {
     "data": {
      "text/html": [
       "<div>\n",
       "<style scoped>\n",
       "    .dataframe tbody tr th:only-of-type {\n",
       "        vertical-align: middle;\n",
       "    }\n",
       "\n",
       "    .dataframe tbody tr th {\n",
       "        vertical-align: top;\n",
       "    }\n",
       "\n",
       "    .dataframe thead th {\n",
       "        text-align: right;\n",
       "    }\n",
       "</style>\n",
       "<table border=\"1\" class=\"dataframe\">\n",
       "  <thead>\n",
       "    <tr style=\"text-align: right;\">\n",
       "      <th></th>\n",
       "      <th>bb_1yr_default_prob</th>\n",
       "      <th>rsk_bb_issuer_default</th>\n",
       "      <th>rating</th>\n",
       "    </tr>\n",
       "    <tr>\n",
       "      <th>security</th>\n",
       "      <th></th>\n",
       "      <th></th>\n",
       "      <th></th>\n",
       "    </tr>\n",
       "  </thead>\n",
       "  <tbody>\n",
       "    <tr>\n",
       "      <th>TCP SJ Equity</th>\n",
       "      <td>6.6778%</td>\n",
       "      <td>HY6</td>\n",
       "      <td>B</td>\n",
       "    </tr>\n",
       "  </tbody>\n",
       "</table>\n",
       "</div>"
      ],
      "text/plain": [
       "              bb_1yr_default_prob rsk_bb_issuer_default rating\n",
       "security                                                      \n",
       "TCP SJ Equity             6.6778%                   HY6      B"
      ]
     },
     "execution_count": 22,
     "metadata": {},
     "output_type": "execute_result"
    }
   ],
   "source": [
    "df[df.rating == \"B\"]"
   ]
  },
  {
   "cell_type": "code",
   "execution_count": null,
   "id": "6a5ac7d5-2b5b-47b7-aabf-c9bc4d772fb3",
   "metadata": {},
   "outputs": [],
   "source": []
  }
 ],
 "metadata": {
  "kernelspec": {
   "display_name": "Python 3 (ipykernel)",
   "language": "python",
   "name": "python3"
  },
  "language_info": {
   "codemirror_mode": {
    "name": "ipython",
    "version": 3
   },
   "file_extension": ".py",
   "mimetype": "text/x-python",
   "name": "python",
   "nbconvert_exporter": "python",
   "pygments_lexer": "ipython3",
   "version": "3.11.5"
  }
 },
 "nbformat": 4,
 "nbformat_minor": 5
}
