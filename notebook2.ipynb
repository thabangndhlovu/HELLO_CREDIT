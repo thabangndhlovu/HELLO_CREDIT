{
 "cells": [
  {
   "cell_type": "code",
   "execution_count": 2,
   "metadata": {},
   "outputs": [
    {
     "name": "stdout",
     "output_type": "stream",
     "text": [
      "Distance to Default: 1.9045097772720885\n",
      "Probability of Default: 0.02842191226459153\n"
     ]
    }
   ],
   "source": [
    "import numpy as np\n",
    "from scipy.stats import norm\n",
    "\n",
    "def kmv_merton(asset_value, debt, asset_volatility, risk_free_rate, time_to_maturity):\n",
    "    \"\"\"\n",
    "    :param asset_value: Current market value of assets\n",
    "    :param debt: Debt value at maturity\n",
    "    :param asset_volatility: Volatility of assets\n",
    "    :param risk_free_rate: Risk-free interest rate\n",
    "    :param time_to_maturity: Time to maturity of debt\n",
    "    :return: Distance to default and probability of default\n",
    "    \"\"\"\n",
    "    # Calculate distance to default\n",
    "    distance_to_default = (np.log(asset_value / debt) + (risk_free_rate + (asset_volatility**2) / 2) * time_to_maturity) / (asset_volatility * np.sqrt(time_to_maturity))\n",
    "    \n",
    "    # Calculate probability of default using the standard normal cumulative distribution function\n",
    "    probability_of_default = norm.cdf(-distance_to_default)\n",
    "    \n",
    "    return distance_to_default, probability_of_default\n",
    "\n",
    "# Example usage:\n",
    "asset_value = 1000000      # Example: $1,000,000\n",
    "debt = 500000              # Example: $500,000\n",
    "asset_volatility = 0.25    # Example: 25%\n",
    "risk_free_rate = 0.05      # Example: 5%\n",
    "time_to_maturity = 10       # Example: 1 year\n",
    "\n",
    "distance_to_default, probability_of_default = kmv_merton(asset_value, debt, asset_volatility, risk_free_rate, time_to_maturity)\n",
    "print(f\"Distance to Default: {distance_to_default}\")\n",
    "print(f\"Probability of Default: {probability_of_default}\")"
   ]
  },
  {
   "cell_type": "code",
   "execution_count": 6,
   "metadata": {},
   "outputs": [
    {
     "data": {
      "text/plain": [
       "(7957.356000000001,\n",
       " 0.5324609781793488,\n",
       " 1657.525,\n",
       " 0.1998027809481725,\n",
       " 1.4092108260305498,\n",
       " 0.876749847851201,\n",
       " 0.1903112625027309)"
      ]
     },
     "execution_count": 6,
     "metadata": {},
     "output_type": "execute_result"
    }
   ],
   "source": [
    "import numpy as np\n",
    "from scipy.stats import norm\n",
    "\n",
    "# Data provided in the image\n",
    "stock_prices = np.array([49.05, 37.10, 27.23, 30.83, 41.65, 31.27, 31.18, 30.58, \n",
    "                         34.01, 28.64, 25.13, 28.31, 26.21])\n",
    "shares = 303.6  # in millions\n",
    "\n",
    "# Financial statement data for 2021 and 2022\n",
    "assets = np.mean([2.4726, 3.4993]) * 1e3  # Converting to millions\n",
    "current_liabilities = np.mean([1.3427, 1.3547]) * 1e3\n",
    "non_current_liabilities = np.mean([0.6932, 0.5421]) * 1e3\n",
    "equity = np.mean([0.6932, 0.5421]) * 1e3\n",
    "\n",
    "# Calculating the market capitalization\n",
    "market_cap = stock_prices[-1] * shares  # Most recent stock price times shares\n",
    "\n",
    "# Assuming a risk-free rate of 2% (0.02)\n",
    "risk_free_rate = 0.02\n",
    "time_horizon = 1  # 1 year\n",
    "\n",
    "# Estimating the equity volatility (σ_E) using the standard deviation of the stock prices\n",
    "equity_volatility = np.std(stock_prices) / np.mean(stock_prices)\n",
    "\n",
    "# Estimating the asset volatility (σ_A). Here we need the asset value, but we'll use a simplification\n",
    "# by assuming equity volatility is proportional to asset volatility, which is a rough approximation.\n",
    "asset_volatility = equity_volatility * (market_cap / assets)\n",
    "\n",
    "# Calculating the default point (DPT)\n",
    "default_point = current_liabilities + 0.5 * non_current_liabilities  # A common approximation\n",
    "\n",
    "# Calculating d1 and d2\n",
    "d1 = (np.log(assets / default_point) + (risk_free_rate + asset_volatility ** 2 / 2) * time_horizon) / (asset_volatility * np.sqrt(time_horizon))\n",
    "d2 = d1 - asset_volatility * np.sqrt(time_horizon)\n",
    "\n",
    "# Calculating the Expected Default Frequency (EDF)\n",
    "EDF = norm.cdf(-d2)\n",
    "\n",
    "market_cap, asset_volatility, default_point, equity_volatility, d1, d2, EDF\n"
   ]
  },
  {
   "cell_type": "code",
   "execution_count": null,
   "metadata": {},
   "outputs": [],
   "source": [
    "https://www.wallstreetmojo.com/kmv-model/"
   ]
  },
  {
   "cell_type": "code",
   "execution_count": 13,
   "metadata": {},
   "outputs": [
    {
     "data": {
      "text/plain": [
       "(143051.9065986321,\n",
       " 0.5629165124598852,\n",
       " 0.12990381056766587,\n",
       " 0.4483212647203588)"
      ]
     },
     "execution_count": 13,
     "metadata": {},
     "output_type": "execute_result"
    }
   ],
   "source": [
    "import numpy as np\n",
    "from scipy.stats import norm\n",
    "\n",
    "# Constants given in the formula\n",
    "STD = 500000  # Short-term debt\n",
    "LTD = 200000  # Long-term debt\n",
    "A = 600000    # Current asset value\n",
    "sigma_A = 0.25  # Asset volatility\n",
    "r = 0.0645      # Risk-free rate\n",
    "T = 3         # Time horizon in years\n",
    "\n",
    "# Calculating the default point (DPT)\n",
    "DPT = STD + 0.5 * LTD\n",
    "\n",
    "# Calculating d1 and d2 using the given formulas\n",
    "d1 = (np.log(A / DPT) + (r + sigma_A ** 2 / 2) * T) / (sigma_A * np.sqrt(T))\n",
    "d2 = d1 - sigma_A * np.sqrt(T)\n",
    "\n",
    "# Calculating the firm value (FV) at time T\n",
    "FV = A * norm.cdf(d1) - DPT * np.exp(-r * T) * norm.cdf(d2)\n",
    "\n",
    "# Calculating the Expected Default Frequency (EDF)\n",
    "EDF = norm.cdf(-d2)\n",
    "\n",
    "FV, d1, d2, EDF\n"
   ]
  },
  {
   "cell_type": "code",
   "execution_count": 4,
   "metadata": {},
   "outputs": [
    {
     "data": {
      "text/plain": [
       "(4069.195245108447,\n",
       " -1.7022116205616336,\n",
       " -2.135224322453853,\n",
       " 0.9836286544616881,\n",
       " 9.836286544616881e-05)"
      ]
     },
     "execution_count": 4,
     "metadata": {},
     "output_type": "execute_result"
    }
   ],
   "source": [
    "import numpy as np\n",
    "from scipy.stats import norm\n",
    "\n",
    "# Constants given in the formula\n",
    "STD = 500000  # Short-term debt (example value)\n",
    "LTD = 200000  # Long-term debt (example value)\n",
    "A = 600000    # Current asset value (example value)\n",
    "sigma_A = 0.25  # Asset volatility (example value)\n",
    "r = 0.05      # Risk-free rate (example value)\n",
    "T = 3         # Time horizon in years (example value)\n",
    "number_of_bonds = 10000  # Number of bonds issued\n",
    "face_value_per_bond = 100  # Face value of each bond (example value)\n",
    "\n",
    "# Calculating the total bond value\n",
    "total_bond_value = number_of_bonds * face_value_per_bond\n",
    "\n",
    "# Adjusting the short-term debt (STD) to include the bond value\n",
    "# Assuming the bonds are short-term obligations\n",
    "STD += total_bond_value\n",
    "\n",
    "# Calculating the default point (DPT)\n",
    "DPT = STD + 0.5 * LTD\n",
    "\n",
    "# Calculating d1 and d2 using the given formulas\n",
    "d1 = (np.log(A / DPT) + (r + sigma_A ** 2 / 2) * T) / (sigma_A * np.sqrt(T))\n",
    "d2 = d1 - sigma_A * np.sqrt(T)\n",
    "\n",
    "# Calculating the firm value (FV) at time T\n",
    "FV = A * norm.cdf(d1) - DPT * np.exp(-r * T) * norm.cdf(d2)\n",
    "\n",
    "# Calculating the Expected Default Frequency (EDF)\n",
    "EDF = norm.cdf(-d2)\n",
    "\n",
    "# Calculating the Probability of Default for each bond\n",
    "# Assuming the default risk is evenly distributed among all bonds\n",
    "Probability_of_Default_per_bond = EDF / number_of_bonds\n",
    "\n",
    "FV, d1, d2, EDF, Probability_of_Default_per_bond\n"
   ]
  },
  {
   "cell_type": "code",
   "execution_count": 5,
   "metadata": {},
   "outputs": [
    {
     "data": {
      "text/plain": [
       "0.9836286544616881"
      ]
     },
     "execution_count": 5,
     "metadata": {},
     "output_type": "execute_result"
    }
   ],
   "source": [
    "EDF"
   ]
  },
  {
   "cell_type": "code",
   "execution_count": 3,
   "metadata": {},
   "outputs": [
    {
     "name": "stdout",
     "output_type": "stream",
     "text": [
      "0.9236414904632609\n"
     ]
    }
   ],
   "source": [
    "import numpy as np\n",
    "from scipy.stats import norm\n",
    "\n",
    "def FSO_EDF(beta, gamma, x, y, F):\n",
    "    \"\"\"\n",
    "    Calculate the FSO EDF based on the KMV model functional form.\n",
    "\n",
    "    Parameters:\n",
    "    beta (list): Coefficients for the input ratios.\n",
    "    gamma (list): Coefficients for the industry indicator variables.\n",
    "    x (list): Input ratios.\n",
    "    y (list): Industry indicator variables (binary).\n",
    "    I (list): Indicator variables for each of the industry classifications.\n",
    "    F (callable): The final transform function.\n",
    "\n",
    "    Returns:\n",
    "    float: The calculated FSO EDF.\n",
    "    \"\"\"\n",
    "    # Calculate the linear combination of input ratios and industry indicators\n",
    "    linear_combination = sum(b * xi for b, xi in zip(beta, x)) + sum(g * yj for g, yj in zip(gamma, y))\n",
    "\n",
    "    # Apply the cumulative normal distribution to the linear combination\n",
    "    cumulative_normal = norm.cdf(linear_combination)\n",
    "\n",
    "    # Apply the final transform F to the cumulative normal value\n",
    "    return F(cumulative_normal)\n",
    "\n",
    "# Example usage\n",
    "# Define the final transform function, F\n",
    "def final_transform(x):\n",
    "    # This is a placeholder for the actual transform function,\n",
    "    # which should be defined based on the specific requirements\n",
    "    # or data available.\n",
    "    return x\n",
    "\n",
    "# Coefficients for input ratios\n",
    "beta = [0.1, 0.2, 0.3] # Placeholder values\n",
    "\n",
    "# Coefficients for industry indicator variables\n",
    "gamma = [0.4, 0.5] # Placeholder values\n",
    "\n",
    "# Input ratios\n",
    "x = [1.2, 1.5, 1.7] # Placeholder values\n",
    "\n",
    "# Industry indicator variables\n",
    "y = [0, 1] # Placeholder values\n",
    "\n",
    "# Calculate FSO EDF\n",
    "FSO_EDF_value = FSO_EDF(beta, gamma, x, y, final_transform)\n",
    "print(FSO_EDF_value)\n"
   ]
  },
  {
   "cell_type": "code",
   "execution_count": 8,
   "metadata": {},
   "outputs": [
    {
     "data": {
      "text/plain": [
       "(0.75,\n",
       " 0.829895496079663,\n",
       " 0.17989549607966293,\n",
       " 0.3851730357762635,\n",
       " 0.42861730556368655)"
      ]
     },
     "execution_count": 8,
     "metadata": {},
     "output_type": "execute_result"
    }
   ],
   "source": [
    "class KMVModel:\n",
    "    def __init__(self, A, STD, LTD, sigma, r, T):\n",
    "        self.A = A  # Total assets\n",
    "        self.STD = STD  # Short-term debt\n",
    "        self.LTD = LTD  # Long-term debt\n",
    "        self.sigma = sigma  # Asset volatility\n",
    "        self.r = r  # Risk-free interest rate\n",
    "        self.T = T  # Time horizon\n",
    "\n",
    "    def DPT(self):\n",
    "        \"\"\"Calculate the Default Point.\"\"\"\n",
    "        return self.STD + 0.5 * self.LTD\n",
    "\n",
    "    def d1(self):\n",
    "        \"\"\"Calculate d1 using the KMV model.\"\"\"\n",
    "        DPT = self.DPT()\n",
    "        return (np.log(self.A / DPT) + (self.r + self.sigma**2 / 2) * self.T) / (self.sigma * np.sqrt(self.T))\n",
    "\n",
    "    def d2(self):\n",
    "        \"\"\"Calculate d2 using the KMV model.\"\"\"\n",
    "        return self.d1() - self.sigma * np.sqrt(self.T)\n",
    "\n",
    "    def fair_value(self):\n",
    "        \"\"\"Calculate the Fair Value of the firm's debt.\"\"\"\n",
    "        d1_val = self.d1()\n",
    "        d2_val = self.d2()\n",
    "        DPT = self.DPT()\n",
    "        return self.A * norm.cdf(d1_val) - DPT * np.exp(-self.r * self.T) * norm.cdf(d2_val)\n",
    "\n",
    "    def expected_default_frequency(self):\n",
    "        \"\"\"Calculate the Expected Default Frequency (EDF).\"\"\"\n",
    "        return norm.cdf(-self.d2())\n",
    "\n",
    "# Example usage with placeholder values\n",
    "kmv = KMVModel(A=1, STD=0.5, LTD=0.5, sigma=0.65, r=0.0405, T=1)\n",
    "kmv_dpt = kmv.DPT()\n",
    "kmv_d1 = kmv.d1()\n",
    "kmv_d2 = kmv.d2()\n",
    "kmv_fv = kmv.fair_value()\n",
    "kmv_edf = kmv.expected_default_frequency()\n",
    "\n",
    "(kmv_dpt, kmv_d1, kmv_d2, kmv_fv, kmv_edf)\n"
   ]
  },
  {
   "cell_type": "code",
   "execution_count": 10,
   "metadata": {},
   "outputs": [],
   "source": [
    "from dataclasses import dataclass, field\n",
    "\n",
    "@dataclass\n",
    "class KMVModelDataClass:\n",
    "    A: float  # Total assets\n",
    "    STD: float  # Short-term debt\n",
    "    LTD: float  # Long-term debt\n",
    "    sigma: float  # Asset volatility\n",
    "    r: float  # Risk-free interest rate\n",
    "    T: int  # Time horizon\n",
    "\n",
    "\n",
    "    def __post_init__(self):\n",
    "        self.DPT = self.STD + 0.5 * self.LTD # Default Point\n",
    "        self.d1 = (np.log(self.A / self.DPT) + (self.r + self.sigma ** 2 / 2) * self.T) / (self.sigma * np.sqrt(self.T))\n",
    "        self.d2 = self.d1 - self.sigma * np.sqrt(self.T)\n",
    "        self.fv = self.A * norm.cdf(self.d1) - self.DPT * np.exp(-self.r * self.T) * norm.cdf(self.d2)\n",
    "\n",
    "\n",
    "    def expected_default_frequency(self):\n",
    "        \"\"\"Calculate the Expected Default Frequency (EDF).\"\"\"\n",
    "        return norm.cdf(-self.d2)"
   ]
  },
  {
   "cell_type": "code",
   "execution_count": 11,
   "metadata": {},
   "outputs": [
    {
     "data": {
      "text/plain": [
       "(0.75,\n",
       " 0.829895496079663,\n",
       " 0.17989549607966293,\n",
       " 0.3851730357762635,\n",
       " 0.42861730556368655)"
      ]
     },
     "execution_count": 11,
     "metadata": {},
     "output_type": "execute_result"
    }
   ],
   "source": [
    "# Example usage with actual data\n",
    "kmv_dataclass = KMVModelDataClass(A=1, STD=0.5, LTD=0.5, sigma=0.65, r=0.0405, T=1)\n",
    "kmv_dataclass_fv = kmv_dataclass.fair_value()\n",
    "kmv_dataclass_edf = kmv_dataclass.expected_default_frequency()\n",
    "\n",
    "(kmv_dataclass.DPT, kmv_dataclass.d1, kmv_dataclass.d2, kmv_dataclass_fv, kmv_dataclass_edf)"
   ]
  },
  {
   "cell_type": "code",
   "execution_count": null,
   "metadata": {},
   "outputs": [],
   "source": [
    "import numpy as np\n",
    "from scipy.stats import norm\n",
    "\n",
    "# Define a class for the KMV model using the provided transcription details\n",
    "class KMVModel:\n",
    "    def __init__(self, market_cap, shares_outstanding, stock_price, current_liabilities, non_current_liabilities, assets, risk_free_rate, horizon):\n",
    "        self.stock_price = stock_price\n",
    "        self.shares_outstanding = shares_outstanding\n",
    "        self.market_cap = market_cap\n",
    "        self.current_liabilities = current_liabilities\n",
    "        self.non_current_liabilities = non_current_liabilities\n",
    "        self.assets = assets\n",
    "        self.risk_free_rate = risk_free_rate\n",
    "        self.horizon = horizon\n",
    "        self.sigma = None  # Placeholder for asset volatility, to be determined iteratively\n",
    "        self.DPT = None  # Default point, to be calculated\n",
    "        self.iterations = 0  # Track iterations for convergence\n",
    "    \n",
    "    def calculate_default_point(self):\n",
    "        self.DPT = self.current_liabilities + 0.5 * self.non_current_liabilities\n",
    "    \n",
    "    def d1(self, value_of_assets):\n",
    "        return (np.log(value_of_assets / self.DPT) + (self.risk_free_rate + self.sigma**2 / 2) * self.horizon) / (self.sigma * np.sqrt(self.horizon))\n",
    "    \n",
    "    def d2(self, d1_value):\n",
    "        return d1_value - self.sigma * np.sqrt(self.horizon)\n",
    "    \n",
    "    def fair_value(self, d1_value, d2_value):\n",
    "        return self.assets * norm.cdf(d1_value) - self.DPT * np.exp(-self.risk_free_rate * self.horizon) * norm.cdf(d2_value)\n",
    "    \n",
    "    def calculate_asset_returns(self, asset_values):\n",
    "        returns = np.diff(asset_values) / asset_values[:-1]\n",
    "        return returns\n",
    "    \n",
    "    def calculate_volatility(self, asset_returns):\n",
    "        return np.std(asset_returns) * np.sqrt(12)  # Annualize the monthly returns\n",
    "    \n",
    "    def iterate_for_convergence(self, initial_volatility):\n",
    "        self.sigma = initial_volatility  # Start with the volatility of stock price\n",
    "        previous_volatility = 0\n",
    "        self.calculate_default_point()  # Calculate initial DPT\n",
    "        value_of_assets = self.market_cap  # Start with market cap as the initial value of assets\n",
    "        \n",
    "        while np.abs(self.sigma - previous_volatility) > 0.0001:  # Convergence criterion\n",
    "            d1_value = self.d1(value_of_assets)\n",
    "            d2_value = self.d2(d1_value)\n",
    "            fair_value_estimate = self.fair_value(d1_value, d2_value)\n",
    "            asset_returns = self.calculate_asset_returns(fair_value_estimate)\n",
    "            previous_volatility = self.sigma\n",
    "            self.sigma = self.calculate_volatility(asset_returns)\n",
    "            self.iterations += 1\n",
    "        \n",
    "        return self.sigma  # Final asset volatility after convergence\n",
    "    \n",
    "    def distance_to_default(self, value_of_assets):\n",
    "        d2_value = self.d2(self.d1(value_of_assets))\n",
    "        return d2_value\n",
    "    \n",
    "    def probability_of_default(self, distance_to_default):\n",
    "        return norm.cdf(-distance_to_default)\n",
    "\n",
    "# The actual data needed for the KMV model would come from the company's financial statements and market data.\n",
    "# The following is a placeholder for how the data might be structured.\n",
    "# To use this model, replace the placeholder values with actual financial data and market data.\n",
    "\n",
    "# Placeholder data for the model\n",
    "market_cap = 14.89  # in billions\n",
    "shares_outstanding = 303.6  # in millions\n",
    "stock_price = 49.05  # in dollars\n",
    "current_liabilities = 1.3427  # in billions\n",
    "non_current_liabilities = 0.6932  # in billions\n",
    "assets = 2.4726  # in billions\n",
    "risk_free_rate = 0.0405  # 4.05%\n",
    "horizon = 1  # 1 year\n",
    "initial_volatility = 0.6546  # 65.46%\n",
    "\n",
    "# Instantiate the KMV model\n"
   ]
  },
  {
   "cell_type": "code",
   "execution_count": 12,
   "metadata": {},
   "outputs": [
    {
     "data": {
      "text/plain": [
       "(16.453437778391965, 3.270416454474676, 0.0005369462912450246)"
      ]
     },
     "execution_count": 12,
     "metadata": {},
     "output_type": "execute_result"
    }
   ],
   "source": [
    "import numpy as np\n",
    "from scipy.stats import norm\n",
    "from scipy.optimize import minimize\n",
    "\n",
    "# Define the KMV model class\n",
    "class KMVModel:\n",
    "    def __init__(self, market_cap, shares, stock_price, assets, current_liabilities, non_current_liabilities, risk_free_rate, sigma, T=1):\n",
    "        self.market_cap = market_cap\n",
    "        self.shares = shares\n",
    "        self.stock_price = stock_price\n",
    "        self.assets = assets\n",
    "        self.current_liabilities = current_liabilities\n",
    "        self.non_current_liabilities = non_current_liabilities\n",
    "        self.risk_free_rate = risk_free_rate\n",
    "        self.sigma = sigma\n",
    "        self.T = T\n",
    "        self.DPT = self.current_liabilities + 0.5 * self.non_current_liabilities\n",
    "        self.iterations = 0\n",
    "\n",
    "    def calculate_d1_d2(self, V):\n",
    "        \"\"\"Calculate d1 and d2 for given asset value V.\"\"\"\n",
    "        d1 = (np.log(V / self.DPT) + (self.risk_free_rate + self.sigma**2 / 2) * self.T) / (self.sigma * np.sqrt(self.T))\n",
    "        d2 = d1 - self.sigma * np.sqrt(self.T)\n",
    "        return d1, d2\n",
    "\n",
    "    def fair_value(self, V):\n",
    "        \"\"\"Calculate the fair value of equity for given asset value V.\"\"\"\n",
    "        d1, d2 = self.calculate_d1_d2(V)\n",
    "        FV = V * norm.cdf(d1) - self.DPT * np.exp(-self.risk_free_rate * self.T) * norm.cdf(d2)\n",
    "        return FV\n",
    "    \n",
    "    def mispricing(self, V):\n",
    "        \"\"\"Calculate the mispricing given asset value V.\"\"\"\n",
    "        FV = self.fair_value(V)\n",
    "        mispricing = (FV - self.market_cap)**2\n",
    "        return mispricing\n",
    "\n",
    "    def optimize_assets(self):\n",
    "        \"\"\"Optimize the asset value to minimize mispricing.\"\"\"\n",
    "        result = minimize(lambda V: self.mispricing(V), x0=self.market_cap, bounds=[(0, None)])\n",
    "        if result.success:\n",
    "            optimized_V = result.x[0]\n",
    "        else:\n",
    "            raise ValueError(\"Optimization failed.\")\n",
    "        return optimized_V\n",
    "\n",
    "    def distance_to_default(self, V):\n",
    "        \"\"\"Calculate the distance to default given asset value V.\"\"\"\n",
    "        d1, d2 = self.calculate_d1_d2(V)\n",
    "        DD = d2\n",
    "        return DD\n",
    "\n",
    "    def probability_of_default(self, V):\n",
    "        \"\"\"Calculate the probability of default given asset value V.\"\"\"\n",
    "        DD = self.distance_to_default(V)\n",
    "        PD = norm.cdf(-DD)\n",
    "        return PD\n",
    "\n",
    "# Placeholder data from the transcription, replace with real values\n",
    "market_cap = 14.89234  # Market capitalization in billions of dollars\n",
    "shares = 303.6  # Shares outstanding in millions\n",
    "stock_price = 49.052502  # Stock price in dollars\n",
    "assets = 3.4993  # Total assets in billions of dollars\n",
    "current_liabilities = 1.3547  # Current liabilities in billions of dollars\n",
    "non_current_liabilities = 0.5421  # Non-current liabilities in billions of dollars\n",
    "risk_free_rate = 0.0405  # Risk-free rate in decimals\n",
    "sigma = 0.6546  # Asset volatility in decimals\n",
    "T = 1  # Time horizon in years\n",
    "\n",
    "# Initialize the KMV model\n",
    "kmv_model = KMVModel(market_cap, shares, stock_price, assets, current_liabilities, non_current_liabilities, risk_free_rate, sigma, T)\n",
    "\n",
    "# Start the optimization to find the asset value that minimizes mispricing\n",
    "optimized_assets = kmv_model.optimize_assets()\n",
    "\n",
    "# Calculate the distance to default and probability of default\n",
    "distance_to_default = kmv_model.distance_to_default(optimized_assets)\n",
    "probability_of_default = kmv_model.probability_of_default(optimized_assets)\n",
    "\n",
    "(optimized_assets, distance_to_default, probability_of_default)\n"
   ]
  },
  {
   "cell_type": "code",
   "execution_count": 8,
   "metadata": {},
   "outputs": [
    {
     "name": "stdout",
     "output_type": "stream",
     "text": [
      "Fair Value: 284636.98\n",
      "Expected Default Frequency: 36.36%\n"
     ]
    }
   ],
   "source": [
    "import numpy as np\n",
    "from scipy.stats import norm\n",
    "\n",
    "# Constants given in the formula\n",
    "STD = 500_000  # Short-term debt\n",
    "LTD = 900_000  # Long-term debt\n",
    "A = 1_000_000    # Current asset value\n",
    "sigma_A = 0.25  # Asset volatility\n",
    "r = 0.0645      # Risk-free rate\n",
    "T = 3         # Time horizon in years\n",
    "\n",
    "# Calculating the default point (DPT)\n",
    "DPT = STD + 0.5 * LTD\n",
    "\n",
    "# Calculating d1 and d2 using the given formulas\n",
    "d1 = (np.log(A / DPT) + (r + sigma_A ** 2 / 2) * T) / (sigma_A * np.sqrt(T))\n",
    "d2 = d1 - sigma_A * np.sqrt(T)        \n",
    "\n",
    "# Calculating the firm value (FV) at time T\n",
    "FV = A * norm.cdf(d1) - DPT * np.exp(-r * T) * norm.cdf(d2)\n",
    "    \n",
    "# Calculating the Expected Default Frequency (EDF)\n",
    "EDF = norm.cdf(-d2)\n",
    "\n",
    "FV, d1, d2, EDF\n",
    "\n",
    "print(f\"Fair Value: {FV:.2f}\")\n",
    "print(f\"Expected Default Frequency: {EDF:.2%}\")"
   ]
  }
 ],
 "metadata": {
  "kernelspec": {
   "display_name": "base",
   "language": "python",
   "name": "python3"
  },
  "language_info": {
   "codemirror_mode": {
    "name": "ipython",
    "version": 3
   },
   "file_extension": ".py",
   "mimetype": "text/x-python",
   "name": "python",
   "nbconvert_exporter": "python",
   "pygments_lexer": "ipython3",
   "version": "3.11.5"
  }
 },
 "nbformat": 4,
 "nbformat_minor": 2
}
