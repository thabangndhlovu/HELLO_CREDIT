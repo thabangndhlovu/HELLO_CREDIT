{
 "cells": [
  {
   "cell_type": "code",
   "execution_count": 2,
   "metadata": {},
   "outputs": [
    {
     "name": "stdout",
     "output_type": "stream",
     "text": [
      "Distance to Default: 1.9045097772720885\n",
      "Probability of Default: 0.02842191226459153\n"
     ]
    }
   ],
   "source": [
    "import numpy as np\n",
    "from scipy.stats import norm\n",
    "\n",
    "def kmv_merton(asset_value, debt, asset_volatility, risk_free_rate, time_to_maturity):\n",
    "    \"\"\"\n",
    "    :param asset_value: Current market value of assets\n",
    "    :param debt: Debt value at maturity\n",
    "    :param asset_volatility: Volatility of assets\n",
    "    :param risk_free_rate: Risk-free interest rate\n",
    "    :param time_to_maturity: Time to maturity of debt\n",
    "    :return: Distance to default and probability of default\n",
    "    \"\"\"\n",
    "    # Calculate distance to default\n",
    "    distance_to_default = (np.log(asset_value / debt) + (risk_free_rate + (asset_volatility**2) / 2) * time_to_maturity) / (asset_volatility * np.sqrt(time_to_maturity))\n",
    "    \n",
    "    # Calculate probability of default using the standard normal cumulative distribution function\n",
    "    probability_of_default = norm.cdf(-distance_to_default)\n",
    "    \n",
    "    return distance_to_default, probability_of_default\n",
    "\n",
    "# Example usage:\n",
    "asset_value = 1000000      # Example: $1,000,000\n",
    "debt = 500000              # Example: $500,000\n",
    "asset_volatility = 0.25    # Example: 25%\n",
    "risk_free_rate = 0.05      # Example: 5%\n",
    "time_to_maturity = 10       # Example: 1 year\n",
    "\n",
    "distance_to_default, probability_of_default = kmv_merton(asset_value, debt, asset_volatility, risk_free_rate, time_to_maturity)\n",
    "print(f\"Distance to Default: {distance_to_default}\")\n",
    "print(f\"Probability of Default: {probability_of_default}\")"
   ]
  },
  {
   "cell_type": "code",
   "execution_count": null,
   "metadata": {},
   "outputs": [],
   "source": [
    "import numpy as np\n",
    "from scipy.stats import norm\n",
    "\n",
    "# Data provided in the image\n",
    "stock_prices = np.array([49.05, 37.10, 27.23, 30.83, 41.65, 31.27, 31.18, 30.58, \n",
    "                         34.01, 28.64, 25.13, 28.31, 26.21])\n",
    "shares = 303.6  # in millions\n",
    "\n",
    "# Financial statement data for 2021 and 2022\n",
    "assets = np.mean([2.4726, 3.4993]) * 1e3  # Converting to millions\n",
    "current_liabilities = np.mean([1.3427, 1.3547]) * 1e3\n",
    "non_current_liabilities = np.mean([0.6932, 0.5421]) * 1e3\n",
    "equity = np.mean([0.6932, 0.5421]) * 1e3\n",
    "\n",
    "# Calculating the market capitalization\n",
    "market_cap = stock_prices[-1] * shares  # Most recent stock price times shares\n",
    "\n",
    "# Assuming a risk-free rate of 2% (0.02)\n",
    "risk_free_rate = 0.02\n",
    "time_horizon = 1  # 1 year\n",
    "\n",
    "# Estimating the equity volatility (σ_E) using the standard deviation of the stock prices\n",
    "equity_volatility = np.std(stock_prices) / np.mean(stock_prices)\n",
    "\n",
    "# Estimating the asset volatility (σ_A). Here we need the asset value, but we'll use a simplification\n",
    "# by assuming equity volatility is proportional to asset volatility, which is a rough approximation.\n",
    "asset_volatility = equity_volatility * (market_cap / assets)\n",
    "\n",
    "# Calculating the default point (DPT)\n",
    "default_point = current_liabilities + 0.5 * non_current_liabilities  # A common approximation\n",
    "\n",
    "# Calculating d1 and d2\n",
    "d1 = (np.log(assets / default_point) + (risk_free_rate + asset_volatility ** 2 / 2) * time_horizon) / (asset_volatility * np.sqrt(time_horizon))\n",
    "d2 = d1 - asset_volatility * np.sqrt(time_horizon)\n",
    "\n",
    "# Calculating the Expected Default Frequency (EDF)\n",
    "EDF = norm.cdf(-d2)\n",
    "\n",
    "market_cap, asset_volatility, default_point, equity_volatility, d1, d2, EDF\n"
   ]
  },
  {
   "cell_type": "code",
   "execution_count": null,
   "metadata": {},
   "outputs": [],
   "source": [
    "https://www.wallstreetmojo.com/kmv-model/"
   ]
  },
  {
   "cell_type": "code",
   "execution_count": 14,
   "metadata": {},
   "outputs": [
    {
     "data": {
      "text/plain": [
       "(143051.9065986321,\n",
       " 0.5629165124598852,\n",
       " 0.12990381056766587,\n",
       " 0.4483212647203588)"
      ]
     },
     "execution_count": 14,
     "metadata": {},
     "output_type": "execute_result"
    }
   ],
   "source": [
    "import numpy as np\n",
    "from scipy.stats import norm\n",
    "\n",
    "# Constants given in the formula\n",
    "STD = 500000  # Short-term debt (example value)\n",
    "LTD = 200000  # Long-term debt (example value)\n",
    "A = 600000    # Current asset value (example value)\n",
    "sigma_A = 0.25  # Asset volatility (example value)\n",
    "r = 0.05      # Risk-free rate (example value)\n",
    "T = 3         # Time horizon in years (example value)\n",
    "\n",
    "# Calculating the default point (DPT)\n",
    "DPT = STD + 0.5 * LTD\n",
    "\n",
    "# Calculating d1 and d2 using the given formulas\n",
    "d1 = (np.log(A / DPT) + (r + sigma_A ** 2 / 2) * T) / (sigma_A * np.sqrt(T))\n",
    "d2 = d1 - sigma_A * np.sqrt(T)\n",
    "\n",
    "# Calculating the firm value (FV) at time T\n",
    "FV = A * norm.cdf(d1) - DPT * np.exp(-r * T) * norm.cdf(d2)\n",
    "\n",
    "# Calculating the Expected Default Frequency (EDF)\n",
    "EDF = norm.cdf(-d2)\n",
    "\n",
    "FV, d1, d2, EDF\n"
   ]
  },
  {
   "cell_type": "code",
   "execution_count": 15,
   "metadata": {},
   "outputs": [
    {
     "data": {
      "text/plain": [
       "(4069.195245108447,\n",
       " -1.7022116205616336,\n",
       " -2.135224322453853,\n",
       " 0.9836286544616881,\n",
       " 9.836286544616881e-05)"
      ]
     },
     "execution_count": 15,
     "metadata": {},
     "output_type": "execute_result"
    }
   ],
   "source": [
    "import numpy as np\n",
    "from scipy.stats import norm\n",
    "\n",
    "# Constants given in the formula\n",
    "STD = 500000  # Short-term debt (example value)\n",
    "LTD = 200000  # Long-term debt (example value)\n",
    "A = 600000    # Current asset value (example value)\n",
    "sigma_A = 0.25  # Asset volatility (example value)\n",
    "r = 0.05      # Risk-free rate (example value)\n",
    "T = 3         # Time horizon in years (example value)\n",
    "number_of_bonds = 10000  # Number of bonds issued\n",
    "face_value_per_bond = 100  # Face value of each bond (example value)\n",
    "\n",
    "# Calculating the total bond value\n",
    "total_bond_value = number_of_bonds * face_value_per_bond\n",
    "\n",
    "# Adjusting the short-term debt (STD) to include the bond value\n",
    "# Assuming the bonds are short-term obligations\n",
    "STD += total_bond_value\n",
    "\n",
    "# Calculating the default point (DPT)\n",
    "DPT = STD + 0.5 * LTD\n",
    "\n",
    "# Calculating d1 and d2 using the given formulas\n",
    "d1 = (np.log(A / DPT) + (r + sigma_A ** 2 / 2) * T) / (sigma_A * np.sqrt(T))\n",
    "d2 = d1 - sigma_A * np.sqrt(T)\n",
    "\n",
    "# Calculating the firm value (FV) at time T\n",
    "FV = A * norm.cdf(d1) - DPT * np.exp(-r * T) * norm.cdf(d2)\n",
    "\n",
    "# Calculating the Expected Default Frequency (EDF)\n",
    "EDF = norm.cdf(-d2)\n",
    "\n",
    "# Calculating the Probability of Default for each bond\n",
    "# Assuming the default risk is evenly distributed among all bonds\n",
    "Probability_of_Default_per_bond = EDF / number_of_bonds\n",
    "\n",
    "FV, d1, d2, EDF, Probability_of_Default_per_bond\n"
   ]
  },
  {
   "cell_type": "code",
   "execution_count": 16,
   "metadata": {},
   "outputs": [
    {
     "data": {
      "text/plain": [
       "4069.195245108447"
      ]
     },
     "execution_count": 16,
     "metadata": {},
     "output_type": "execute_result"
    }
   ],
   "source": [
    "FV"
   ]
  },
  {
   "cell_type": "code",
   "execution_count": null,
   "metadata": {},
   "outputs": [],
   "source": []
  }
 ],
 "metadata": {
  "kernelspec": {
   "display_name": "base",
   "language": "python",
   "name": "python3"
  },
  "language_info": {
   "codemirror_mode": {
    "name": "ipython",
    "version": 3
   },
   "file_extension": ".py",
   "mimetype": "text/x-python",
   "name": "python",
   "nbconvert_exporter": "python",
   "pygments_lexer": "ipython3",
   "version": "3.11.5"
  }
 },
 "nbformat": 4,
 "nbformat_minor": 2
}
