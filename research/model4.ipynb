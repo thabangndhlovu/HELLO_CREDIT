{
 "cells": [
  {
   "cell_type": "code",
   "execution_count": 5,
   "id": "38fc6721-ad1b-4df1-8a83-45d1f12182c8",
   "metadata": {
    "tags": []
   },
   "outputs": [],
   "source": [
    "import numpy as np\n",
    "import pandas as pd\n",
    "import matplotlib.pyplot as plt\n",
    "from scipy.spatial import distance"
   ]
  },
  {
   "cell_type": "code",
   "execution_count": 81,
   "id": "799a947d-8765-4d83-9304-82f2d55b362a",
   "metadata": {
    "tags": []
   },
   "outputs": [],
   "source": [
    "def calculate_overall_credit_score(credit_scores, weights = None):\n",
    "    \"\"\"\n",
    "    Calculate the overall credit score and rating based on individual financial ratio credit scores.\n",
    "\n",
    "    Args:\n",
    "        credit_scores (list): List of credit scores for each financial ratio.\n",
    "\n",
    "    Returns:\n",
    "        tuple: A tuple containing the overall credit score (float) and overall credit rating (str).\n",
    "    \"\"\"\n",
    "    \n",
    "    max_score = 100\n",
    "    min_score = 0\n",
    "    \n",
    "    if weights:\n",
    "        overall_credit_score = sum(score * weight for score, weight in zip(credit_scores, weights)) / sum(weights)\n",
    "    \n",
    "    else:\n",
    "        overall_credit_score = sum(credit_scores) / len(credit_scores)\n",
    "\n",
    "    # Rescale the overall credit score to have a maximum rating of 100\n",
    "    rescaled_credit_score = (overall_credit_score - min_score) / (max_score - min_score) * 100\n",
    "    \n",
    "    if overall_credit_score >= 75:\n",
    "        overall_credit_rating = \"Good\"\n",
    "    elif overall_credit_score >= 50:\n",
    "        overall_credit_rating = \"Fair\"\n",
    "    else:\n",
    "        overall_credit_rating = \"Poor\"\n",
    "    \n",
    "    return overall_credit_score, overall_credit_rating\n",
    "\n",
    "def calculate_credit_score(financial_ratio, industry_thresholds, expert_thresholds, inverse_relationship=False):\n",
    "    \"\"\"\n",
    "    Calculate the actual credit score within a universal score range based on where the financial ratio\n",
    "    falls within its thresholds, alongside the credit rating, confidence level, and universal range scores.\n",
    "    \n",
    "    Args:\n",
    "        financial_ratio (float): Financial ratio value.\n",
    "        industry_thresholds (dict): Dictionary of industry thresholds for each rating.\n",
    "        expert_thresholds (dict): Dictionary of expert thresholds for each rating.\n",
    "        inverse_relationship (bool): Indicates if the financial ratio has an inverse relationship (lower is better).\n",
    "\n",
    "    Returns:\n",
    "        tuple: A tuple containing the actual credit score (int), credit rating (str),\n",
    "               confidence level (float), and universal score ranges (dict).\n",
    "    \"\"\"\n",
    "    # Adjust thresholds and financial ratio for inverse relationships\n",
    "    if inverse_relationship:\n",
    "        financial_ratio = 1 / financial_ratio\n",
    "        industry_thresholds = {k: 1/v for k, v in industry_thresholds.items()}\n",
    "        expert_thresholds = {k: 1/v for k, v in expert_thresholds.items()}\n",
    "    \n",
    "    distances = {\n",
    "        rating: distance.euclidean(\n",
    "            [financial_ratio],\n",
    "            [(industry_thresholds[rating] + expert_thresholds[rating]) / 2])\n",
    "        for rating in ['good', 'fair', 'poor']\n",
    "    }\n",
    "    \n",
    "    credit_rating = min(distances, key=distances.get)\n",
    "    \n",
    "    # Universal score ranges for each rating category\n",
    "    score_ranges = {\n",
    "        'good': (75, 100),\n",
    "        'fair': (50, 74),\n",
    "        'poor': (0, 49)\n",
    "    }\n",
    "\n",
    "    # Determine the min and max threshold for the financial ratio\n",
    "    min_threshold = min(industry_thresholds.values())\n",
    "    max_threshold = max(industry_thresholds.values())\n",
    "    \n",
    "    # Calculate where the financial ratio falls within its thresholds\n",
    "    financial_ratio = max(min_threshold, min(financial_ratio, max_threshold))\n",
    "    ratio_position = (financial_ratio - min_threshold) / (max_threshold - min_threshold)\n",
    "    \n",
    "    # Apply this proportion to the corresponding universal score range\n",
    "    credit_score_range = score_ranges[credit_rating]\n",
    "    score_range_width = credit_score_range[1] - credit_score_range[0]\n",
    "    credit_score = credit_score_range[0] + ratio_position * score_range_width\n",
    "    \n",
    "    # Calculate confidence level\n",
    "    confidence_level = (credit_score - credit_score_range[0]) / score_range_width\n",
    "    confidence_level = max(0, min(1, confidence_level))\n",
    "    \n",
    "    return credit_score, credit_rating, confidence_level, score_ranges"
   ]
  },
  {
   "cell_type": "code",
   "execution_count": 82,
   "id": "232ea1fa-e785-43f8-bc34-299343da880d",
   "metadata": {
    "tags": []
   },
   "outputs": [],
   "source": [
    "company_ratios = {\n",
    "    'A': [0.2, 0.4, 1.5, 0.6, 1.2],\n",
    "    'B': [0.9, 1.1, 1.3, 0.7, 0.8],\n",
    "    'C': [1.0, 0.6, 0.1, 0.9, 0.2]\n",
    "}\n",
    "\n",
    "# Define industry and expert thresholds for each financial ratio\n",
    "industry_thresholds = [\n",
    "    {'good': 1.0, 'fair': 0.7, 'poor': 0.4},\n",
    "    {'good': 0.6, 'fair': 0.4, 'poor': 0.2},\n",
    "    {'good': 1.2, 'fair': 0.9, 'poor': 0.6},\n",
    "    {'good': 0.8, 'fair': 0.6, 'poor': 0.4},\n",
    "    {'good': 1.1, 'fair': 0.8, 'poor': 0.5}\n",
    "]\n",
    "\n",
    "expert_thresholds = [\n",
    "    {'good': 1.2, 'fair': 0.8, 'poor': 0.5},\n",
    "    {'good': 0.7, 'fair': 0.5, 'poor': 0.3},\n",
    "    {'good': 1.4, 'fair': 1.0, 'poor': 0.7},\n",
    "    {'good': 0.9, 'fair': 0.7, 'poor': 0.5},\n",
    "    {'good': 1.3, 'fair': 0.9, 'poor': 0.6}\n",
    "]\n",
    "\n",
    "# Define inverse relationship for each financial ratio\n",
    "inverse_relationships = [False, True, False, True, False]"
   ]
  },
  {
   "cell_type": "code",
   "execution_count": 83,
   "id": "62efb556-74e2-4660-9055-b7e1216d2c7a",
   "metadata": {
    "tags": []
   },
   "outputs": [],
   "source": [
    "df = pd.read_excel(\"metrics.xlsx\", index_col=0)"
   ]
  },
  {
   "cell_type": "code",
   "execution_count": 84,
   "id": "81146205-44fd-4015-ab15-61a6679d437f",
   "metadata": {
    "tags": []
   },
   "outputs": [
    {
     "data": {
      "text/html": [
       "<div>\n",
       "<style scoped>\n",
       "    .dataframe tbody tr th:only-of-type {\n",
       "        vertical-align: middle;\n",
       "    }\n",
       "\n",
       "    .dataframe tbody tr th {\n",
       "        vertical-align: top;\n",
       "    }\n",
       "\n",
       "    .dataframe thead th {\n",
       "        text-align: right;\n",
       "    }\n",
       "</style>\n",
       "<table border=\"1\" class=\"dataframe\">\n",
       "  <thead>\n",
       "    <tr style=\"text-align: right;\">\n",
       "      <th></th>\n",
       "      <th>tot_debt_to_tot_eqy</th>\n",
       "      <th>interest_coverage_ratio</th>\n",
       "      <th>return_on_asset</th>\n",
       "      <th>tot_debt_to_ebitda</th>\n",
       "      <th>ebitda_to_tot_int_exp</th>\n",
       "    </tr>\n",
       "  </thead>\n",
       "  <tbody>\n",
       "    <tr>\n",
       "      <th>BLU SJ Equity</th>\n",
       "      <td>32.809328</td>\n",
       "      <td>6.346575</td>\n",
       "      <td>4.215240</td>\n",
       "      <td>1.150158</td>\n",
       "      <td>7.547418</td>\n",
       "    </tr>\n",
       "    <tr>\n",
       "      <th>MTN SJ Equity</th>\n",
       "      <td>65.116785</td>\n",
       "      <td>8.547827</td>\n",
       "      <td>7.405181</td>\n",
       "      <td>1.305329</td>\n",
       "      <td>13.114130</td>\n",
       "    </tr>\n",
       "    <tr>\n",
       "      <th>TKG SJ Equity</th>\n",
       "      <td>56.593172</td>\n",
       "      <td>3.495262</td>\n",
       "      <td>6.401370</td>\n",
       "      <td>1.430977</td>\n",
       "      <td>8.796523</td>\n",
       "    </tr>\n",
       "    <tr>\n",
       "      <th>VOD SJ Equity</th>\n",
       "      <td>65.004940</td>\n",
       "      <td>9.790341</td>\n",
       "      <td>16.143841</td>\n",
       "      <td>0.793112</td>\n",
       "      <td>13.355185</td>\n",
       "    </tr>\n",
       "  </tbody>\n",
       "</table>\n",
       "</div>"
      ],
      "text/plain": [
       "               tot_debt_to_tot_eqy  interest_coverage_ratio  return_on_asset  \\\n",
       "BLU SJ Equity            32.809328                 6.346575         4.215240   \n",
       "MTN SJ Equity            65.116785                 8.547827         7.405181   \n",
       "TKG SJ Equity            56.593172                 3.495262         6.401370   \n",
       "VOD SJ Equity            65.004940                 9.790341        16.143841   \n",
       "\n",
       "               tot_debt_to_ebitda  ebitda_to_tot_int_exp  \n",
       "BLU SJ Equity            1.150158               7.547418  \n",
       "MTN SJ Equity            1.305329              13.114130  \n",
       "TKG SJ Equity            1.430977               8.796523  \n",
       "VOD SJ Equity            0.793112              13.355185  "
      ]
     },
     "execution_count": 84,
     "metadata": {},
     "output_type": "execute_result"
    }
   ],
   "source": [
    "df"
   ]
  },
  {
   "cell_type": "code",
   "execution_count": 85,
   "id": "906affe1-e177-4ffe-a10a-ae0e368f3d65",
   "metadata": {
    "tags": []
   },
   "outputs": [
    {
     "data": {
      "text/html": [
       "<div>\n",
       "<style scoped>\n",
       "    .dataframe tbody tr th:only-of-type {\n",
       "        vertical-align: middle;\n",
       "    }\n",
       "\n",
       "    .dataframe tbody tr th {\n",
       "        vertical-align: top;\n",
       "    }\n",
       "\n",
       "    .dataframe thead th {\n",
       "        text-align: right;\n",
       "    }\n",
       "</style>\n",
       "<table border=\"1\" class=\"dataframe\">\n",
       "  <thead>\n",
       "    <tr style=\"text-align: right;\">\n",
       "      <th></th>\n",
       "      <th>tot_debt_to_tot_eqy</th>\n",
       "      <th>interest_coverage_ratio</th>\n",
       "      <th>return_on_asset</th>\n",
       "      <th>tot_debt_to_ebitda</th>\n",
       "      <th>ebitda_to_tot_int_exp</th>\n",
       "    </tr>\n",
       "  </thead>\n",
       "  <tbody>\n",
       "    <tr>\n",
       "      <th>count</th>\n",
       "      <td>4.000000</td>\n",
       "      <td>4.000000</td>\n",
       "      <td>4.000000</td>\n",
       "      <td>4.000000</td>\n",
       "      <td>4.000000</td>\n",
       "    </tr>\n",
       "    <tr>\n",
       "      <th>mean</th>\n",
       "      <td>54.881056</td>\n",
       "      <td>7.045001</td>\n",
       "      <td>8.541408</td>\n",
       "      <td>1.169894</td>\n",
       "      <td>10.703314</td>\n",
       "    </tr>\n",
       "    <tr>\n",
       "      <th>std</th>\n",
       "      <td>15.246373</td>\n",
       "      <td>2.761873</td>\n",
       "      <td>5.240340</td>\n",
       "      <td>0.276201</td>\n",
       "      <td>2.968725</td>\n",
       "    </tr>\n",
       "    <tr>\n",
       "      <th>min</th>\n",
       "      <td>32.809328</td>\n",
       "      <td>3.495262</td>\n",
       "      <td>4.215240</td>\n",
       "      <td>0.793112</td>\n",
       "      <td>7.547418</td>\n",
       "    </tr>\n",
       "    <tr>\n",
       "      <th>25%</th>\n",
       "      <td>50.647211</td>\n",
       "      <td>5.633747</td>\n",
       "      <td>5.854837</td>\n",
       "      <td>1.060896</td>\n",
       "      <td>8.484247</td>\n",
       "    </tr>\n",
       "    <tr>\n",
       "      <th>50%</th>\n",
       "      <td>60.799056</td>\n",
       "      <td>7.447201</td>\n",
       "      <td>6.903275</td>\n",
       "      <td>1.227743</td>\n",
       "      <td>10.955327</td>\n",
       "    </tr>\n",
       "    <tr>\n",
       "      <th>75%</th>\n",
       "      <td>65.032901</td>\n",
       "      <td>8.858455</td>\n",
       "      <td>9.589846</td>\n",
       "      <td>1.336741</td>\n",
       "      <td>13.174394</td>\n",
       "    </tr>\n",
       "    <tr>\n",
       "      <th>max</th>\n",
       "      <td>65.116785</td>\n",
       "      <td>9.790341</td>\n",
       "      <td>16.143841</td>\n",
       "      <td>1.430977</td>\n",
       "      <td>13.355185</td>\n",
       "    </tr>\n",
       "  </tbody>\n",
       "</table>\n",
       "</div>"
      ],
      "text/plain": [
       "       tot_debt_to_tot_eqy  interest_coverage_ratio  return_on_asset  \\\n",
       "count             4.000000                 4.000000         4.000000   \n",
       "mean             54.881056                 7.045001         8.541408   \n",
       "std              15.246373                 2.761873         5.240340   \n",
       "min              32.809328                 3.495262         4.215240   \n",
       "25%              50.647211                 5.633747         5.854837   \n",
       "50%              60.799056                 7.447201         6.903275   \n",
       "75%              65.032901                 8.858455         9.589846   \n",
       "max              65.116785                 9.790341        16.143841   \n",
       "\n",
       "       tot_debt_to_ebitda  ebitda_to_tot_int_exp  \n",
       "count            4.000000               4.000000  \n",
       "mean             1.169894              10.703314  \n",
       "std              0.276201               2.968725  \n",
       "min              0.793112               7.547418  \n",
       "25%              1.060896               8.484247  \n",
       "50%              1.227743              10.955327  \n",
       "75%              1.336741              13.174394  \n",
       "max              1.430977              13.355185  "
      ]
     },
     "execution_count": 85,
     "metadata": {},
     "output_type": "execute_result"
    }
   ],
   "source": [
    "df.describe()"
   ]
  },
  {
   "cell_type": "code",
   "execution_count": 96,
   "id": "c4767f3d-4098-40de-a013-27d78ace3c38",
   "metadata": {
    "tags": []
   },
   "outputs": [],
   "source": [
    "industry_thresholds = [\n",
    "    {'good': 50.647211, 'fair': 60.799056, 'poor': 65.032901},\n",
    "    {'good': 8.858455, 'fair': 7.447201, 'poor': 5.633747},\n",
    "    {'good': 9.589846, 'fair': 6.903275, 'poor': 5.854837},\n",
    "    {'good': 1.060896, 'fair': 1.227743, 'poor': 1.336741},\n",
    "    {'good': 13.174394, 'fair': 10.955327, 'poor': 8.484247}\n",
    "]\n",
    "\n",
    "expert_thresholds = [\n",
    "    {'good': 50.647211, 'fair': 60.799056, 'poor': 65.032901},\n",
    "    {'good': 8.858455, 'fair': 7.447201, 'poor': 5.633747},\n",
    "    {'good': 9.589846, 'fair': 6.903275, 'poor': 5.854837},\n",
    "    {'good': 1.060896, 'fair': 1.227743, 'poor': 1.336741},\n",
    "    {'good': 13.174394, 'fair': 10.955327, 'poor': 8.484247}\n",
    "]\n",
    "\n",
    "company_ratios = {\n",
    "    \"BLU SJ Equity\": [32.80932765,  6.34657542,  4.21523991,  1.15015783,  7.54741826],\n",
    "    \"MTN SJ Equity\": [65.11678489,  8.54782697,  7.4051809 ,  1.30532892, 13.11412971],\n",
    "    \"TKG SJ Equity\": [56.59317159,  3.49526179,  6.40136975,  1.43097657,  8.79652344],\n",
    "    \"VOD SJ Equity\": [65.00493974,  9.79034064, 16.14384136,  0.79311212, 13.35518524],\n",
    "    \n",
    "}\n",
    "\n",
    "inverse_relationships = [True, False, False, True, False]"
   ]
  },
  {
   "cell_type": "code",
   "execution_count": null,
   "id": "871aebf0-f840-447c-9f9b-59e4b0b164ee",
   "metadata": {
    "tags": []
   },
   "outputs": [],
   "source": []
  },
  {
   "cell_type": "code",
   "execution_count": 109,
   "id": "8ac147cd-81e3-4889-abbb-0dff767a055b",
   "metadata": {
    "tags": []
   },
   "outputs": [
    {
     "name": "stdout",
     "output_type": "stream",
     "text": [
      "Company BLU SJ Equity:\n",
      "    Credit Score: 100.0\n",
      "    Credit Score: 10.831552059907443\n",
      "    Credit Score: 0.0\n",
      "    Credit Score: 64.97386675975177\n",
      "    Credit Score: 0.0\n",
      "Overall Credit Score: 35.16\n",
      "Overall Credit Rating: Poor\n",
      "\n",
      "Company MTN SJ Equity:\n",
      "    Credit Score: 0.0\n",
      "    Credit Score: 97.59181273157135\n",
      "    Credit Score: 59.96202515174663\n",
      "    Credit Score: 4.535033614397527\n",
      "    Credit Score: 99.67877184872884\n",
      "Overall Credit Score: 52.35\n",
      "Overall Credit Rating: Fair\n",
      "\n",
      "Company TKG SJ Equity:\n",
      "    Credit Score: 62.60087109256218\n",
      "    Credit Score: 0.0\n",
      "    Credit Score: 53.511848565826746\n",
      "    Credit Score: 0.0\n",
      "    Credit Score: 3.2624874145735707\n",
      "Overall Credit Score: 23.88\n",
      "Overall Credit Rating: Poor\n",
      "\n",
      "Company VOD SJ Equity:\n",
      "    Credit Score: 0.07420467980688664\n",
      "    Credit Score: 100.0\n",
      "    Credit Score: 100.0\n",
      "    Credit Score: 100.0\n",
      "    Credit Score: 100.0\n",
      "Overall Credit Score: 80.01\n",
      "Overall Credit Rating: Good\n",
      "\n"
     ]
    }
   ],
   "source": [
    "# Iterate over each company and calculate credit scores for each financial ratio\n",
    "for company, ratios in company_ratios.items():\n",
    "    print(f\"Company {company}:\")\n",
    "    credit_scores = []\n",
    "\n",
    "    for i, ratio in enumerate(ratios):\n",
    "        credit_score, credit_rating, confidence_level, range_scores = calculate_credit_score(\n",
    "            ratio, industry_thresholds[i], expert_thresholds[i], inverse_relationships[i]\n",
    "        )\n",
    "\n",
    "        credit_scores.append(credit_score)\n",
    "\n",
    "#         print(f\"  Financial Ratio {i+1}:\")\n",
    "        print(f\"    Credit Score: {credit_score}\")\n",
    "        #print(f\"    Credit Rating: {credit_rating}\")\n",
    "        # print(f\"    Confidence Level: {confidence_level:.2%}\")\n",
    "        # print(f\"    Range Scores:\")\n",
    "        # for rating, scores in range_scores.items():\n",
    "        #     print(f\"      {rating.capitalize()}: {scores[0]:.2f} - {scores[1]:.2f}\")\n",
    "\n",
    "    overall_credit_score, overall_credit_rating = calculate_overall_credit_score(credit_scores)\n",
    "    print(f\"Overall Credit Score: {overall_credit_score:.2f}\")\n",
    "    print(f\"Overall Credit Rating: {overall_credit_rating}\")\n",
    "    print()\n",
    "    "
   ]
  },
  {
   "cell_type": "code",
   "execution_count": 92,
   "id": "fe419ea2-5d78-4767-8a31-19f1a94c2e3f",
   "metadata": {
    "tags": []
   },
   "outputs": [
    {
     "data": {
      "text/html": [
       "<div>\n",
       "<style scoped>\n",
       "    .dataframe tbody tr th:only-of-type {\n",
       "        vertical-align: middle;\n",
       "    }\n",
       "\n",
       "    .dataframe tbody tr th {\n",
       "        vertical-align: top;\n",
       "    }\n",
       "\n",
       "    .dataframe thead th {\n",
       "        text-align: right;\n",
       "    }\n",
       "</style>\n",
       "<table border=\"1\" class=\"dataframe\">\n",
       "  <thead>\n",
       "    <tr style=\"text-align: right;\">\n",
       "      <th></th>\n",
       "      <th>BLU SJ Equity</th>\n",
       "      <th>MTN SJ Equity</th>\n",
       "      <th>TKG SJ Equity</th>\n",
       "      <th>VOD SJ Equity</th>\n",
       "    </tr>\n",
       "  </thead>\n",
       "  <tbody>\n",
       "    <tr>\n",
       "      <th>tot_debt_to_tot_eqy</th>\n",
       "      <td>32.809328</td>\n",
       "      <td>65.116785</td>\n",
       "      <td>56.593172</td>\n",
       "      <td>65.004940</td>\n",
       "    </tr>\n",
       "    <tr>\n",
       "      <th>interest_coverage_ratio</th>\n",
       "      <td>6.346575</td>\n",
       "      <td>8.547827</td>\n",
       "      <td>3.495262</td>\n",
       "      <td>9.790341</td>\n",
       "    </tr>\n",
       "    <tr>\n",
       "      <th>return_on_asset</th>\n",
       "      <td>4.215240</td>\n",
       "      <td>7.405181</td>\n",
       "      <td>6.401370</td>\n",
       "      <td>16.143841</td>\n",
       "    </tr>\n",
       "    <tr>\n",
       "      <th>tot_debt_to_ebitda</th>\n",
       "      <td>1.150158</td>\n",
       "      <td>1.305329</td>\n",
       "      <td>1.430977</td>\n",
       "      <td>0.793112</td>\n",
       "    </tr>\n",
       "    <tr>\n",
       "      <th>ebitda_to_tot_int_exp</th>\n",
       "      <td>7.547418</td>\n",
       "      <td>13.114130</td>\n",
       "      <td>8.796523</td>\n",
       "      <td>13.355185</td>\n",
       "    </tr>\n",
       "  </tbody>\n",
       "</table>\n",
       "</div>"
      ],
      "text/plain": [
       "                         BLU SJ Equity  MTN SJ Equity  TKG SJ Equity  \\\n",
       "tot_debt_to_tot_eqy          32.809328      65.116785      56.593172   \n",
       "interest_coverage_ratio       6.346575       8.547827       3.495262   \n",
       "return_on_asset               4.215240       7.405181       6.401370   \n",
       "tot_debt_to_ebitda            1.150158       1.305329       1.430977   \n",
       "ebitda_to_tot_int_exp         7.547418      13.114130       8.796523   \n",
       "\n",
       "                         VOD SJ Equity  \n",
       "tot_debt_to_tot_eqy          65.004940  \n",
       "interest_coverage_ratio       9.790341  \n",
       "return_on_asset              16.143841  \n",
       "tot_debt_to_ebitda            0.793112  \n",
       "ebitda_to_tot_int_exp        13.355185  "
      ]
     },
     "execution_count": 92,
     "metadata": {},
     "output_type": "execute_result"
    }
   ],
   "source": [
    "df.T"
   ]
  },
  {
   "cell_type": "code",
   "execution_count": 102,
   "id": "23ddc818-8173-409b-8365-12d2bd15c6d0",
   "metadata": {
    "tags": []
   },
   "outputs": [
    {
     "data": {
      "text/plain": [
       "[True, False, False, True, False]"
      ]
     },
     "execution_count": 102,
     "metadata": {},
     "output_type": "execute_result"
    }
   ],
   "source": [
    "inverse_relationships"
   ]
  },
  {
   "cell_type": "code",
   "execution_count": 112,
   "id": "cbc3c3d5-a5af-4080-93be-549e727c4a09",
   "metadata": {
    "tags": []
   },
   "outputs": [
    {
     "data": {
      "text/plain": [
       "tot_debt_to_tot_eqy        65.032901\n",
       "interest_coverage_ratio     8.858455\n",
       "return_on_asset             9.589846\n",
       "tot_debt_to_ebitda          1.336741\n",
       "ebitda_to_tot_int_exp      13.174394\n",
       "Name: 0.75, dtype: float64"
      ]
     },
     "execution_count": 112,
     "metadata": {},
     "output_type": "execute_result"
    }
   ],
   "source": [
    "df.quantile(.75)"
   ]
  },
  {
   "cell_type": "code",
   "execution_count": 114,
   "id": "78f7318e-7b78-40ab-8351-09babb7c3c9d",
   "metadata": {
    "tags": []
   },
   "outputs": [],
   "source": [
    "ranges = np.array([50.647211, 60.799056, 65.032901])\n",
    "act_ranges = np.array([65.004940, 65.004940, 65.004940])"
   ]
  },
  {
   "cell_type": "code",
   "execution_count": 116,
   "id": "ceef58fb-976a-4ab7-860f-71ec9c58c8a0",
   "metadata": {
    "tags": []
   },
   "outputs": [
    {
     "data": {
      "text/plain": [
       "array([14.357729,  4.205884,  0.027961])"
      ]
     },
     "execution_count": 116,
     "metadata": {},
     "output_type": "execute_result"
    }
   ],
   "source": [
    "abs(ranges - act_ranges)"
   ]
  },
  {
   "cell_type": "code",
   "execution_count": 117,
   "id": "f6e5589c-4174-4dff-bea8-6232535770c9",
   "metadata": {
    "tags": []
   },
   "outputs": [
    {
     "data": {
      "text/plain": [
       "2.0"
      ]
     },
     "execution_count": 117,
     "metadata": {},
     "output_type": "execute_result"
    }
   ],
   "source": [
    "(2 + 2) / 2"
   ]
  },
  {
   "cell_type": "code",
   "execution_count": 118,
   "id": "57496c76-03ed-4768-a4dc-31fdb68da615",
   "metadata": {
    "tags": []
   },
   "outputs": [
    {
     "data": {
      "text/plain": [
       "(13.35518524,\n",
       " {'good': 13.174394, 'fair': 10.955327, 'poor': 8.484247},\n",
       " {'good': 13.174394, 'fair': 10.955327, 'poor': 8.484247},\n",
       " False)"
      ]
     },
     "execution_count": 118,
     "metadata": {},
     "output_type": "execute_result"
    }
   ],
   "source": [
    "ratio, industry_thresholds[i], expert_thresholds[i], inverse_relationships[i]"
   ]
  },
  {
   "cell_type": "code",
   "execution_count": null,
   "id": "31d26f4d-3d74-494f-81f3-a43ba2a5d3b2",
   "metadata": {},
   "outputs": [],
   "source": []
  }
 ],
 "metadata": {
  "kernelspec": {
   "display_name": "Python 3 (ipykernel)",
   "language": "python",
   "name": "python3"
  },
  "language_info": {
   "codemirror_mode": {
    "name": "ipython",
    "version": 3
   },
   "file_extension": ".py",
   "mimetype": "text/x-python",
   "name": "python",
   "nbconvert_exporter": "python",
   "pygments_lexer": "ipython3",
   "version": "3.11.5"
  }
 },
 "nbformat": 4,
 "nbformat_minor": 5
}
