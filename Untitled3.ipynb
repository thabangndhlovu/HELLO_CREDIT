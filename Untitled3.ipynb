{
 "cells": [
  {
   "cell_type": "code",
   "execution_count": 1,
   "id": "b8d8827f-8c7e-4219-965f-86a97a3e9dc4",
   "metadata": {
    "tags": []
   },
   "outputs": [
    {
     "name": "stdout",
     "output_type": "stream",
     "text": [
      "[(2.0, 1), (2.0, 1.0), (3.0, 2.0)]\n"
     ]
    },
    {
     "name": "stderr",
     "output_type": "stream",
     "text": [
      "2024-12-01 22:45:52.778 \"theme.light\" is not a valid config option. If you previously had this config option set, it may have been removed.\n",
      "2024-12-01 22:45:52.780 \"theme.dark\" is not a valid config option. If you previously had this config option set, it may have been removed.\n"
     ]
    }
   ],
   "source": [
    "import json\n",
    "from hellocredit.hellocredit import HelloCredit\n",
    "\n",
    "%load_ext autoreload\n",
    "%autoreload 2\n",
    "%reload_ext autoreload"
   ]
  },
  {
   "cell_type": "code",
   "execution_count": 46,
   "id": "c5870d8e-9158-45e1-b8cd-6909d6dc7381",
   "metadata": {
    "tags": []
   },
   "outputs": [],
   "source": [
    "input_dict = json.load(open(\"mtn_input_dict.json\"))"
   ]
  },
  {
   "cell_type": "code",
   "execution_count": null,
   "id": "d455c9e7-ac5d-46fb-912b-2e44a5605ef9",
   "metadata": {
    "tags": []
   },
   "outputs": [],
   "source": []
  },
  {
   "cell_type": "code",
   "execution_count": 43,
   "id": "a211b633-a0bf-45ee-8c37-df8c47874188",
   "metadata": {
    "tags": []
   },
   "outputs": [],
   "source": [
    "credit = HelloCredit(api_key=\"\", input_dict=input_dict)"
   ]
  },
  {
   "cell_type": "code",
   "execution_count": 44,
   "id": "24fc9803-4870-47e5-b4b3-f43028c711f9",
   "metadata": {
    "tags": []
   },
   "outputs": [
    {
     "name": "stderr",
     "output_type": "stream",
     "text": [
      "\n",
      "KeyboardInterrupt\n",
      "\n"
     ]
    }
   ],
   "source": [
    "output = credit.run_function()"
   ]
  },
  {
   "cell_type": "code",
   "execution_count": null,
   "id": "38838d94-8bf4-4235-b24a-1d8f4ebd5292",
   "metadata": {
    "tags": []
   },
   "outputs": [],
   "source": []
  },
  {
   "cell_type": "code",
   "execution_count": 47,
   "id": "ae452e96-db9c-4509-ad96-d82994e4378f",
   "metadata": {
    "tags": []
   },
   "outputs": [
    {
     "ename": "TypeError",
     "evalue": "'int' object is not iterable",
     "output_type": "error",
     "traceback": [
      "\u001b[1;31m---------------------------------------------------------------------------\u001b[0m",
      "\u001b[1;31mTypeError\u001b[0m                                 Traceback (most recent call last)",
      "Cell \u001b[1;32mIn[47], line 1\u001b[0m\n\u001b[1;32m----> 1\u001b[0m total_weight \u001b[38;5;241m=\u001b[39m \u001b[38;5;28msum\u001b[39m(\n\u001b[0;32m      2\u001b[0m     \u001b[38;5;28mabs\u001b[39m(input_dict[\u001b[38;5;124m\"\u001b[39m\u001b[38;5;124mfinancial_policy\u001b[39m\u001b[38;5;124m\"\u001b[39m]) \u001b[38;5;241m+\u001b[39m\n\u001b[0;32m      3\u001b[0m     \u001b[38;5;28msum\u001b[39m(\n\u001b[0;32m      4\u001b[0m         \u001b[38;5;28mabs\u001b[39m(input_dict[\u001b[38;5;124m\"\u001b[39m\u001b[38;5;124mconfiguration\u001b[39m\u001b[38;5;124m\"\u001b[39m][metric][\u001b[38;5;124m\"\u001b[39m\u001b[38;5;124mclass_weight\u001b[39m\u001b[38;5;124m\"\u001b[39m])\n\u001b[0;32m      5\u001b[0m         \u001b[38;5;28;01mfor\u001b[39;00m metric \u001b[38;5;129;01min\u001b[39;00m input_dict[\u001b[38;5;124m\"\u001b[39m\u001b[38;5;124mconfiguration\u001b[39m\u001b[38;5;124m\"\u001b[39m]\n\u001b[0;32m      6\u001b[0m         \u001b[38;5;28;01mif\u001b[39;00m \u001b[38;5;124m\"\u001b[39m\u001b[38;5;124mclass_weight\u001b[39m\u001b[38;5;124m\"\u001b[39m \u001b[38;5;129;01min\u001b[39;00m input_dict[\u001b[38;5;124m\"\u001b[39m\u001b[38;5;124mconfiguration\u001b[39m\u001b[38;5;124m\"\u001b[39m][metric]\n\u001b[0;32m      7\u001b[0m     )\n\u001b[0;32m      8\u001b[0m )\n",
      "\u001b[1;31mTypeError\u001b[0m: 'int' object is not iterable"
     ]
    }
   ],
   "source": [
    "total_weight = sum(\n",
    "    abs(input_dict[\"financial_policy\"]) +\n",
    "    sum(\n",
    "        abs(input_dict[\"configuration\"][metric][\"class_weight\"])\n",
    "        for metric in input_dict[\"configuration\"]\n",
    "        if \"class_weight\" in input_dict[\"configuration\"][metric]\n",
    "    )\n",
    ")\n"
   ]
  },
  {
   "cell_type": "code",
   "execution_count": 48,
   "id": "15c13540-eaef-4979-a210-c1b6ec01ba5c",
   "metadata": {
    "tags": []
   },
   "outputs": [],
   "source": [
    "total_weight = sum(\n",
    "    list(\n",
    "        map(\n",
    "            abs,\n",
    "            [\n",
    "                input_dict[\"financial_policy\"],\n",
    "                input_dict[\"configuration\"][\"profitability_metrics\"][\n",
    "                    \"class_weight\"\n",
    "                ],\n",
    "                input_dict[\"configuration\"][\"leverage_coverage_metrics\"][\n",
    "                    \"class_weight\"\n",
    "                ],\n",
    "                input_dict[\"configuration\"][\"efficiency_metrics\"][\"class_weight\"],\n",
    "            ],\n",
    "        )\n",
    "    )\n",
    ")"
   ]
  },
  {
   "cell_type": "code",
   "execution_count": 49,
   "id": "9e9a1796-cdd4-4425-9d43-1927b9905877",
   "metadata": {
    "tags": []
   },
   "outputs": [
    {
     "data": {
      "text/plain": [
       "100"
      ]
     },
     "execution_count": 49,
     "metadata": {},
     "output_type": "execute_result"
    }
   ],
   "source": [
    "total_weight"
   ]
  },
  {
   "cell_type": "code",
   "execution_count": 50,
   "id": "360977d6-9c34-40cf-8697-ef8367adebb6",
   "metadata": {
    "tags": []
   },
   "outputs": [],
   "source": [
    "total_weight = abs(input_dict[\"financial_policy\"]) + sum(\n",
    "    abs(input_dict[\"configuration\"][metric][\"class_weight\"])\n",
    "    for metric in input_dict[\"configuration\"]\n",
    "    if \"class_weight\" in input_dict[\"configuration\"][metric]\n",
    ")\n"
   ]
  },
  {
   "cell_type": "code",
   "execution_count": 54,
   "id": "8b7bd1be-bddd-4b49-81d9-68e7eb8e0213",
   "metadata": {
    "tags": []
   },
   "outputs": [],
   "source": [
    "text = \"{\\n  \\\"overall_analysis\\\": \\\"### The Rise and Fall of Financial Fortunes\\\\nIn examining the credit risk and overall financial health of the company, we find a complex interplay between leverage, efficiency, and profitability. Over the period assessed, the company shows a significant fluctuation in leverage metrics, evident from a staggering debt-to-equity ratio peaking at 163.30, signalling a concerning reliance on external financing. Yet, the debt-to-EBITDA ratio suggests some capability in managing debt alongside positive EBITDA-to-interest expense ratios, particularly in the earlier periods of the dataset where ratios exceeded 10, indicating sound interest coverage. Efficiency has experienced some declines, with the asset turnover averaging at 0.668, which hints at less effective use of assets, and varied periods of working capital management. However, profitability metrics, especially the EBITDA margin, indicate resilience, averaging 24.77%, coupled with an average return on assets of 8.44%, suggesting the company can sustain income generation while facing debt obligations albeit with caution. Therefore, while there are strengths, the concerning levels of leverage highlight a potential risk and an ongoing dependency on external financing amidst fluctuating operational efficiencies.\\\",\\n  \\n  \\\"key_strengths\\\": [\\n    \\\"High EBITDA margin averages at 24.77% demonstrates strong operational profitability.\\\",\\n    \\\"The debt-to-EBITDA ratio averages at 1.22, which is indicative of manageable debt levels relative to earnings.\\\",\\n    \\\"Strong interest coverage as indicated by an averaged EBITDA-to-interest expense ratio of 13.75, reflecting sound ability to meet interest obligations.\\\"\\n  ],\\n  \\n  \\\"potential_risks\\\": [\\n    \\\"The peak debt-to-equity ratio of 163.31 indicates potential over-leverage and greater financial risk.\\\",\\n    \\\"Fluctuating operational efficiency indicated by an average asset turnover ratio of 0.668 could impact liquidity and operational effectiveness.\\\",\\n    \\\"Variability in return on assets, with recent low values (e.g., -0.8974), raise concerns over asset management and overall profitability.\\\"\\n  ],\\n  \\n  \\\"response\\\": true\\n}\""
   ]
  },
  {
   "cell_type": "code",
   "execution_count": 55,
   "id": "86f3cb40-416a-406f-a298-a1c1f0f03b72",
   "metadata": {
    "tags": []
   },
   "outputs": [
    {
     "data": {
      "text/plain": [
       "{'overall_analysis': '### The Rise and Fall of Financial Fortunes\\nIn examining the credit risk and overall financial health of the company, we find a complex interplay between leverage, efficiency, and profitability. Over the period assessed, the company shows a significant fluctuation in leverage metrics, evident from a staggering debt-to-equity ratio peaking at 163.30, signalling a concerning reliance on external financing. Yet, the debt-to-EBITDA ratio suggests some capability in managing debt alongside positive EBITDA-to-interest expense ratios, particularly in the earlier periods of the dataset where ratios exceeded 10, indicating sound interest coverage. Efficiency has experienced some declines, with the asset turnover averaging at 0.668, which hints at less effective use of assets, and varied periods of working capital management. However, profitability metrics, especially the EBITDA margin, indicate resilience, averaging 24.77%, coupled with an average return on assets of 8.44%, suggesting the company can sustain income generation while facing debt obligations albeit with caution. Therefore, while there are strengths, the concerning levels of leverage highlight a potential risk and an ongoing dependency on external financing amidst fluctuating operational efficiencies.',\n",
       " 'key_strengths': ['High EBITDA margin averages at 24.77% demonstrates strong operational profitability.',\n",
       "  'The debt-to-EBITDA ratio averages at 1.22, which is indicative of manageable debt levels relative to earnings.',\n",
       "  'Strong interest coverage as indicated by an averaged EBITDA-to-interest expense ratio of 13.75, reflecting sound ability to meet interest obligations.'],\n",
       " 'potential_risks': ['The peak debt-to-equity ratio of 163.31 indicates potential over-leverage and greater financial risk.',\n",
       "  'Fluctuating operational efficiency indicated by an average asset turnover ratio of 0.668 could impact liquidity and operational effectiveness.',\n",
       "  'Variability in return on assets, with recent low values (e.g., -0.8974), raise concerns over asset management and overall profitability.'],\n",
       " 'response': True}"
      ]
     },
     "execution_count": 55,
     "metadata": {},
     "output_type": "execute_result"
    }
   ],
   "source": [
    "json.loads(text)"
   ]
  },
  {
   "cell_type": "code",
   "execution_count": 56,
   "id": "9a0ca7cc-8081-472f-bf40-7ff2584f73c0",
   "metadata": {
    "tags": []
   },
   "outputs": [],
   "source": [
    "from enum import Enum\n",
    "\n",
    "class LLMProvider(Enum):\n",
    "    OPENAI = \"openai\"\n",
    "    GEMINI = \"gemini\""
   ]
  },
  {
   "cell_type": "code",
   "execution_count": null,
   "id": "6c2202f5-ba86-4514-9524-9fd231ab4d18",
   "metadata": {
    "tags": []
   },
   "outputs": [],
   "source": []
  },
  {
   "cell_type": "code",
   "execution_count": null,
   "id": "b7bcd526-c057-4bc8-a99f-f2d10180e8a7",
   "metadata": {},
   "outputs": [],
   "source": []
  }
 ],
 "metadata": {
  "kernelspec": {
   "display_name": "Python 3 (ipykernel)",
   "language": "python",
   "name": "python3"
  },
  "language_info": {
   "codemirror_mode": {
    "name": "ipython",
    "version": 3
   },
   "file_extension": ".py",
   "mimetype": "text/x-python",
   "name": "python",
   "nbconvert_exporter": "python",
   "pygments_lexer": "ipython3",
   "version": "3.11.5"
  }
 },
 "nbformat": 4,
 "nbformat_minor": 5
}
