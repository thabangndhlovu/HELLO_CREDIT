{
 "cells": [
  {
   "cell_type": "code",
   "execution_count": 2,
   "id": "7d25e2ef-a1b4-4622-8d12-1fe14a0500a5",
   "metadata": {
    "tags": []
   },
   "outputs": [],
   "source": [
    "from hellocredit import calculate_credit_rating"
   ]
  },
  {
   "cell_type": "code",
   "execution_count": 3,
   "id": "b69cddf0-f3b3-4528-aff3-531f02db18c6",
   "metadata": {
    "tags": []
   },
   "outputs": [
    {
     "data": {
      "text/plain": [
       "<function hellocredit.hellocredit.calculate_credit_rating(metrics, ratios)>"
      ]
     },
     "execution_count": 3,
     "metadata": {},
     "output_type": "execute_result"
    }
   ],
   "source": [
    "calculate_credit_rating("
   ]
  },
  {
   "cell_type": "code",
   "execution_count": 4,
   "id": "3341abbd-e57d-42a5-8fd5-50758167cdd1",
   "metadata": {
    "tags": []
   },
   "outputs": [
    {
     "ename": "NameError",
     "evalue": "name 'false' is not defined",
     "output_type": "error",
     "traceback": [
      "\u001b[1;31m---------------------------------------------------------------------------\u001b[0m",
      "\u001b[1;31mNameError\u001b[0m                                 Traceback (most recent call last)",
      "Cell \u001b[1;32mIn[4], line 10\u001b[0m\n\u001b[0;32m      1\u001b[0m metrics \u001b[38;5;241m=\u001b[39m {\n\u001b[0;32m      2\u001b[0m   \u001b[38;5;124m\"\u001b[39m\u001b[38;5;124mprofitability_metrics\u001b[39m\u001b[38;5;124m\"\u001b[39m: {\n\u001b[0;32m      3\u001b[0m     \u001b[38;5;124m\"\u001b[39m\u001b[38;5;124mclass_weight\u001b[39m\u001b[38;5;124m\"\u001b[39m: \u001b[38;5;241m35\u001b[39m,\n\u001b[0;32m      4\u001b[0m     \u001b[38;5;124m\"\u001b[39m\u001b[38;5;124mmetric_weights\u001b[39m\u001b[38;5;124m\"\u001b[39m: {\n\u001b[0;32m      5\u001b[0m       \u001b[38;5;124m\"\u001b[39m\u001b[38;5;124mebitda_margin\u001b[39m\u001b[38;5;124m\"\u001b[39m: \u001b[38;5;241m0.55\u001b[39m,\n\u001b[0;32m      6\u001b[0m       \u001b[38;5;124m\"\u001b[39m\u001b[38;5;124mreturn_on_assets\u001b[39m\u001b[38;5;124m\"\u001b[39m: \u001b[38;5;241m0.45\u001b[39m\n\u001b[0;32m      7\u001b[0m     },\n\u001b[0;32m      8\u001b[0m     \u001b[38;5;124m\"\u001b[39m\u001b[38;5;124mmetrics\u001b[39m\u001b[38;5;124m\"\u001b[39m: {\n\u001b[0;32m      9\u001b[0m       \u001b[38;5;124m\"\u001b[39m\u001b[38;5;124mebitda_margin\u001b[39m\u001b[38;5;124m\"\u001b[39m: {\n\u001b[1;32m---> 10\u001b[0m         \u001b[38;5;124m\"\u001b[39m\u001b[38;5;124mlower_is_better\u001b[39m\u001b[38;5;124m\"\u001b[39m: false,\n\u001b[0;32m     11\u001b[0m         \u001b[38;5;124m\"\u001b[39m\u001b[38;5;124mthresholds\u001b[39m\u001b[38;5;124m\"\u001b[39m: [\n\u001b[0;32m     12\u001b[0m           [\u001b[38;5;241m40.0\u001b[39m, \u001b[38;5;241m100e9\u001b[39m],\n\u001b[0;32m     13\u001b[0m           [\u001b[38;5;241m35.0\u001b[39m, \u001b[38;5;241m40.0\u001b[39m],\n\u001b[0;32m     14\u001b[0m           [\u001b[38;5;241m30.0\u001b[39m, \u001b[38;5;241m35.0\u001b[39m],\n\u001b[0;32m     15\u001b[0m           [\u001b[38;5;241m25.0\u001b[39m, \u001b[38;5;241m30.0\u001b[39m],\n\u001b[0;32m     16\u001b[0m           [\u001b[38;5;241m20.0\u001b[39m, \u001b[38;5;241m25.0\u001b[39m],\n\u001b[0;32m     17\u001b[0m           [\u001b[38;5;241m15.0\u001b[39m, \u001b[38;5;241m20.0\u001b[39m],\n\u001b[0;32m     18\u001b[0m           [\u001b[38;5;241m10.0\u001b[39m, \u001b[38;5;241m15.0\u001b[39m],\n\u001b[0;32m     19\u001b[0m           [\u001b[38;5;241m5.0\u001b[39m, \u001b[38;5;241m10.0\u001b[39m],\n\u001b[0;32m     20\u001b[0m           [\u001b[38;5;241m-\u001b[39m\u001b[38;5;241m100e9\u001b[39m, \u001b[38;5;241m5.0\u001b[39m]\n\u001b[0;32m     21\u001b[0m         ]\n\u001b[0;32m     22\u001b[0m       },\n\u001b[0;32m     23\u001b[0m       \u001b[38;5;124m\"\u001b[39m\u001b[38;5;124mreturn_on_assets\u001b[39m\u001b[38;5;124m\"\u001b[39m: {\n\u001b[0;32m     24\u001b[0m         \u001b[38;5;124m\"\u001b[39m\u001b[38;5;124mlower_is_better\u001b[39m\u001b[38;5;124m\"\u001b[39m: false,\n\u001b[0;32m     25\u001b[0m         \u001b[38;5;124m\"\u001b[39m\u001b[38;5;124mthresholds\u001b[39m\u001b[38;5;124m\"\u001b[39m: [\n\u001b[0;32m     26\u001b[0m           [\u001b[38;5;241m20.0\u001b[39m, \u001b[38;5;241m100e9\u001b[39m],\n\u001b[0;32m     27\u001b[0m           [\u001b[38;5;241m15.0\u001b[39m, \u001b[38;5;241m20.0\u001b[39m],\n\u001b[0;32m     28\u001b[0m           [\u001b[38;5;241m10.0\u001b[39m, \u001b[38;5;241m15.0\u001b[39m],\n\u001b[0;32m     29\u001b[0m           [\u001b[38;5;241m7.5\u001b[39m, \u001b[38;5;241m10.0\u001b[39m],\n\u001b[0;32m     30\u001b[0m           [\u001b[38;5;241m5.0\u001b[39m, \u001b[38;5;241m7.5\u001b[39m],\n\u001b[0;32m     31\u001b[0m           [\u001b[38;5;241m2.5\u001b[39m, \u001b[38;5;241m5.0\u001b[39m],\n\u001b[0;32m     32\u001b[0m           [\u001b[38;5;241m0.0\u001b[39m, \u001b[38;5;241m2.5\u001b[39m],\n\u001b[0;32m     33\u001b[0m           [\u001b[38;5;241m-\u001b[39m\u001b[38;5;241m2.5\u001b[39m, \u001b[38;5;241m0.0\u001b[39m],\n\u001b[0;32m     34\u001b[0m           [\u001b[38;5;241m-\u001b[39m\u001b[38;5;241m100e9\u001b[39m, \u001b[38;5;241m-\u001b[39m\u001b[38;5;241m2.5\u001b[39m]\n\u001b[0;32m     35\u001b[0m         ]\n\u001b[0;32m     36\u001b[0m       }\n\u001b[0;32m     37\u001b[0m     }\n\u001b[0;32m     38\u001b[0m   },\n\u001b[0;32m     39\u001b[0m   \u001b[38;5;124m\"\u001b[39m\u001b[38;5;124mleverage_coverage_metrics\u001b[39m\u001b[38;5;124m\"\u001b[39m: {\n\u001b[0;32m     40\u001b[0m     \u001b[38;5;124m\"\u001b[39m\u001b[38;5;124mclass_weight\u001b[39m\u001b[38;5;124m\"\u001b[39m: \u001b[38;5;241m45\u001b[39m,\n\u001b[0;32m     41\u001b[0m     \u001b[38;5;124m\"\u001b[39m\u001b[38;5;124mmetric_weights\u001b[39m\u001b[38;5;124m\"\u001b[39m: {\n\u001b[0;32m     42\u001b[0m       \u001b[38;5;124m\"\u001b[39m\u001b[38;5;124mdebt_to_equity\u001b[39m\u001b[38;5;124m\"\u001b[39m: \u001b[38;5;241m0.2\u001b[39m,\n\u001b[0;32m     43\u001b[0m       \u001b[38;5;124m\"\u001b[39m\u001b[38;5;124mdebt_to_ebitda\u001b[39m\u001b[38;5;124m\"\u001b[39m: \u001b[38;5;241m0.4\u001b[39m,\n\u001b[0;32m     44\u001b[0m       \u001b[38;5;124m\"\u001b[39m\u001b[38;5;124mebitda_to_interest_expense\u001b[39m\u001b[38;5;124m\"\u001b[39m: \u001b[38;5;241m0.4\u001b[39m\n\u001b[0;32m     45\u001b[0m     },\n\u001b[0;32m     46\u001b[0m     \u001b[38;5;124m\"\u001b[39m\u001b[38;5;124mmetrics\u001b[39m\u001b[38;5;124m\"\u001b[39m: {\n\u001b[0;32m     47\u001b[0m       \u001b[38;5;124m\"\u001b[39m\u001b[38;5;124mdebt_to_equity\u001b[39m\u001b[38;5;124m\"\u001b[39m: {\n\u001b[0;32m     48\u001b[0m         \u001b[38;5;124m\"\u001b[39m\u001b[38;5;124mlower_is_better\u001b[39m\u001b[38;5;124m\"\u001b[39m: true,\n\u001b[0;32m     49\u001b[0m         \u001b[38;5;124m\"\u001b[39m\u001b[38;5;124mthresholds\u001b[39m\u001b[38;5;124m\"\u001b[39m: [\n\u001b[0;32m     50\u001b[0m           [\u001b[38;5;241m-\u001b[39m\u001b[38;5;241m100e9\u001b[39m, \u001b[38;5;241m0.25\u001b[39m],\n\u001b[0;32m     51\u001b[0m           [\u001b[38;5;241m0.25\u001b[39m, \u001b[38;5;241m0.5\u001b[39m],\n\u001b[0;32m     52\u001b[0m           [\u001b[38;5;241m0.5\u001b[39m, \u001b[38;5;241m0.75\u001b[39m],\n\u001b[0;32m     53\u001b[0m           [\u001b[38;5;241m0.75\u001b[39m, \u001b[38;5;241m1.0\u001b[39m],\n\u001b[0;32m     54\u001b[0m           [\u001b[38;5;241m1.0\u001b[39m, \u001b[38;5;241m1.5\u001b[39m],\n\u001b[0;32m     55\u001b[0m           [\u001b[38;5;241m1.5\u001b[39m, \u001b[38;5;241m2.0\u001b[39m],\n\u001b[0;32m     56\u001b[0m           [\u001b[38;5;241m2.0\u001b[39m, \u001b[38;5;241m3.0\u001b[39m],\n\u001b[0;32m     57\u001b[0m           [\u001b[38;5;241m3.0\u001b[39m, \u001b[38;5;241m5.0\u001b[39m],\n\u001b[0;32m     58\u001b[0m           [\u001b[38;5;241m5.0\u001b[39m, \u001b[38;5;241m100e9\u001b[39m]\n\u001b[0;32m     59\u001b[0m         ]\n\u001b[0;32m     60\u001b[0m       },\n\u001b[0;32m     61\u001b[0m       \u001b[38;5;124m\"\u001b[39m\u001b[38;5;124mdebt_to_ebitda\u001b[39m\u001b[38;5;124m\"\u001b[39m: {\n\u001b[0;32m     62\u001b[0m         \u001b[38;5;124m\"\u001b[39m\u001b[38;5;124mlower_is_better\u001b[39m\u001b[38;5;124m\"\u001b[39m: true,\n\u001b[0;32m     63\u001b[0m         \u001b[38;5;124m\"\u001b[39m\u001b[38;5;124mthresholds\u001b[39m\u001b[38;5;124m\"\u001b[39m: [\n\u001b[0;32m     64\u001b[0m           [\u001b[38;5;241m-\u001b[39m\u001b[38;5;241m100e9\u001b[39m, \u001b[38;5;241m0.5\u001b[39m],\n\u001b[0;32m     65\u001b[0m           [\u001b[38;5;241m0.5\u001b[39m, \u001b[38;5;241m1.0\u001b[39m],\n\u001b[0;32m     66\u001b[0m           [\u001b[38;5;241m1.0\u001b[39m, \u001b[38;5;241m2.0\u001b[39m],\n\u001b[0;32m     67\u001b[0m           [\u001b[38;5;241m2.0\u001b[39m, \u001b[38;5;241m3.0\u001b[39m],\n\u001b[0;32m     68\u001b[0m           [\u001b[38;5;241m3.0\u001b[39m, \u001b[38;5;241m4.5\u001b[39m],\n\u001b[0;32m     69\u001b[0m           [\u001b[38;5;241m4.5\u001b[39m, \u001b[38;5;241m6.5\u001b[39m],\n\u001b[0;32m     70\u001b[0m           [\u001b[38;5;241m6.5\u001b[39m, \u001b[38;5;241m9.0\u001b[39m],\n\u001b[0;32m     71\u001b[0m           [\u001b[38;5;241m9.0\u001b[39m, \u001b[38;5;241m12.0\u001b[39m],\n\u001b[0;32m     72\u001b[0m           [\u001b[38;5;241m12.0\u001b[39m, \u001b[38;5;241m100e9\u001b[39m]\n\u001b[0;32m     73\u001b[0m         ]\n\u001b[0;32m     74\u001b[0m       },\n\u001b[0;32m     75\u001b[0m       \u001b[38;5;124m\"\u001b[39m\u001b[38;5;124mebitda_to_interest_expense\u001b[39m\u001b[38;5;124m\"\u001b[39m: {\n\u001b[0;32m     76\u001b[0m         \u001b[38;5;124m\"\u001b[39m\u001b[38;5;124mlower_is_better\u001b[39m\u001b[38;5;124m\"\u001b[39m: false,\n\u001b[0;32m     77\u001b[0m         \u001b[38;5;124m\"\u001b[39m\u001b[38;5;124mthresholds\u001b[39m\u001b[38;5;124m\"\u001b[39m: [\n\u001b[0;32m     78\u001b[0m           [\u001b[38;5;241m25.0\u001b[39m, \u001b[38;5;241m100e9\u001b[39m],\n\u001b[0;32m     79\u001b[0m           [\u001b[38;5;241m15.0\u001b[39m, \u001b[38;5;241m25.0\u001b[39m],\n\u001b[0;32m     80\u001b[0m           [\u001b[38;5;241m10.0\u001b[39m, \u001b[38;5;241m15.0\u001b[39m],\n\u001b[0;32m     81\u001b[0m           [\u001b[38;5;241m6.0\u001b[39m, \u001b[38;5;241m10.0\u001b[39m],\n\u001b[0;32m     82\u001b[0m           [\u001b[38;5;241m3.0\u001b[39m, \u001b[38;5;241m6.0\u001b[39m],\n\u001b[0;32m     83\u001b[0m           [\u001b[38;5;241m1.0\u001b[39m, \u001b[38;5;241m3.0\u001b[39m],\n\u001b[0;32m     84\u001b[0m           [\u001b[38;5;241m0.0\u001b[39m, \u001b[38;5;241m1.0\u001b[39m],\n\u001b[0;32m     85\u001b[0m           [\u001b[38;5;241m-\u001b[39m\u001b[38;5;241m1.0\u001b[39m, \u001b[38;5;241m0.0\u001b[39m],\n\u001b[0;32m     86\u001b[0m           [\u001b[38;5;241m-\u001b[39m\u001b[38;5;241m100e9\u001b[39m, \u001b[38;5;241m-\u001b[39m\u001b[38;5;241m1.0\u001b[39m]\n\u001b[0;32m     87\u001b[0m         ]\n\u001b[0;32m     88\u001b[0m       }\n\u001b[0;32m     89\u001b[0m     }\n\u001b[0;32m     90\u001b[0m   },\n\u001b[0;32m     91\u001b[0m   \u001b[38;5;124m\"\u001b[39m\u001b[38;5;124mefficiency_metrics\u001b[39m\u001b[38;5;124m\"\u001b[39m: {\n\u001b[0;32m     92\u001b[0m     \u001b[38;5;124m\"\u001b[39m\u001b[38;5;124mclass_weight\u001b[39m\u001b[38;5;124m\"\u001b[39m: \u001b[38;5;241m20\u001b[39m,\n\u001b[0;32m     93\u001b[0m     \u001b[38;5;124m\"\u001b[39m\u001b[38;5;124mmetric_weights\u001b[39m\u001b[38;5;124m\"\u001b[39m: {\n\u001b[0;32m     94\u001b[0m       \u001b[38;5;124m\"\u001b[39m\u001b[38;5;124masset_turnover\u001b[39m\u001b[38;5;124m\"\u001b[39m: \u001b[38;5;241m1.0\u001b[39m\n\u001b[0;32m     95\u001b[0m     },\n\u001b[0;32m     96\u001b[0m     \u001b[38;5;124m\"\u001b[39m\u001b[38;5;124mmetrics\u001b[39m\u001b[38;5;124m\"\u001b[39m: {\n\u001b[0;32m     97\u001b[0m       \u001b[38;5;124m\"\u001b[39m\u001b[38;5;124masset_turnover\u001b[39m\u001b[38;5;124m\"\u001b[39m: {\n\u001b[0;32m     98\u001b[0m         \u001b[38;5;124m\"\u001b[39m\u001b[38;5;124mlower_is_better\u001b[39m\u001b[38;5;124m\"\u001b[39m: false,\n\u001b[0;32m     99\u001b[0m         \u001b[38;5;124m\"\u001b[39m\u001b[38;5;124mthresholds\u001b[39m\u001b[38;5;124m\"\u001b[39m: [\n\u001b[0;32m    100\u001b[0m           [\u001b[38;5;241m5.0\u001b[39m, \u001b[38;5;241m100e9\u001b[39m],\n\u001b[0;32m    101\u001b[0m           [\u001b[38;5;241m4.0\u001b[39m, \u001b[38;5;241m5.0\u001b[39m],\n\u001b[0;32m    102\u001b[0m           [\u001b[38;5;241m3.0\u001b[39m, \u001b[38;5;241m4.0\u001b[39m],\n\u001b[0;32m    103\u001b[0m           [\u001b[38;5;241m2.5\u001b[39m, \u001b[38;5;241m3.0\u001b[39m],\n\u001b[0;32m    104\u001b[0m           [\u001b[38;5;241m2.0\u001b[39m, \u001b[38;5;241m2.5\u001b[39m],\n\u001b[0;32m    105\u001b[0m           [\u001b[38;5;241m1.5\u001b[39m, \u001b[38;5;241m2.0\u001b[39m],\n\u001b[0;32m    106\u001b[0m           [\u001b[38;5;241m1.0\u001b[39m, \u001b[38;5;241m1.5\u001b[39m],\n\u001b[0;32m    107\u001b[0m           [\u001b[38;5;241m0.5\u001b[39m, \u001b[38;5;241m1.0\u001b[39m],\n\u001b[0;32m    108\u001b[0m           [\u001b[38;5;241m-\u001b[39m\u001b[38;5;241m100e9\u001b[39m, \u001b[38;5;241m0.5\u001b[39m]\n\u001b[0;32m    109\u001b[0m         ]\n\u001b[0;32m    110\u001b[0m       }\n\u001b[0;32m    111\u001b[0m     }\n\u001b[0;32m    112\u001b[0m   }\n\u001b[0;32m    113\u001b[0m }\n",
      "\u001b[1;31mNameError\u001b[0m: name 'false' is not defined"
     ]
    }
   ],
   "source": [
    "metrics = {\n",
    "  \"profitability_metrics\": {\n",
    "    \"class_weight\": 35,\n",
    "    \"metric_weights\": {\n",
    "      \"ebitda_margin\": 0.55,\n",
    "      \"return_on_assets\": 0.45\n",
    "    },\n",
    "    \"metrics\": {\n",
    "      \"ebitda_margin\": {\n",
    "        \"lower_is_better\": False,\n",
    "        \"thresholds\": [\n",
    "          [40.0, 100e9],\n",
    "          [35.0, 40.0],\n",
    "          [30.0, 35.0],\n",
    "          [25.0, 30.0],\n",
    "          [20.0, 25.0],\n",
    "          [15.0, 20.0],\n",
    "          [10.0, 15.0],\n",
    "          [5.0, 10.0],\n",
    "          [-100e9, 5.0]\n",
    "        ]\n",
    "      },\n",
    "      \"return_on_assets\": {\n",
    "        \"lower_is_better\": False,\n",
    "        \"thresholds\": [\n",
    "          [20.0, 100e9],\n",
    "          [15.0, 20.0],\n",
    "          [10.0, 15.0],\n",
    "          [7.5, 10.0],\n",
    "          [5.0, 7.5],\n",
    "          [2.5, 5.0],\n",
    "          [0.0, 2.5],\n",
    "          [-2.5, 0.0],\n",
    "          [-100e9, -2.5]\n",
    "        ]\n",
    "      }\n",
    "    }\n",
    "  },\n",
    "  \"leverage_coverage_metrics\": {\n",
    "    \"class_weight\": 45,\n",
    "    \"metric_weights\": {\n",
    "      \"debt_to_equity\": 0.2,\n",
    "      \"debt_to_ebitda\": 0.4,\n",
    "      \"ebitda_to_interest_expense\": 0.4\n",
    "    },\n",
    "    \"metrics\": {\n",
    "      \"debt_to_equity\": {\n",
    "        \"lower_is_better\": True,\n",
    "        \"thresholds\": [\n",
    "          [-100e9, 0.25],\n",
    "          [0.25, 0.5],\n",
    "          [0.5, 0.75],\n",
    "          [0.75, 1.0],\n",
    "          [1.0, 1.5],\n",
    "          [1.5, 2.0],\n",
    "          [2.0, 3.0],\n",
    "          [3.0, 5.0],\n",
    "          [5.0, 100e9]\n",
    "        ]\n",
    "      },\n",
    "      \"debt_to_ebitda\": {\n",
    "        \"lower_is_better\": True,\n",
    "        \"thresholds\": [\n",
    "          [-100e9, 0.5],\n",
    "          [0.5, 1.0],\n",
    "          [1.0, 2.0],\n",
    "          [2.0, 3.0],\n",
    "          [3.0, 4.5],\n",
    "          [4.5, 6.5],\n",
    "          [6.5, 9.0],\n",
    "          [9.0, 12.0],\n",
    "          [12.0, 100e9]\n",
    "        ]\n",
    "      },\n",
    "      \"ebitda_to_interest_expense\": {\n",
    "        \"lower_is_better\": False,\n",
    "        \"thresholds\": [\n",
    "          [25.0, 100e9],\n",
    "          [15.0, 25.0],\n",
    "          [10.0, 15.0],\n",
    "          [6.0, 10.0],\n",
    "          [3.0, 6.0],\n",
    "          [1.0, 3.0],\n",
    "          [0.0, 1.0],\n",
    "          [-1.0, 0.0],\n",
    "          [-100e9, -1.0]\n",
    "        ]\n",
    "      }\n",
    "    }\n",
    "  },\n",
    "  \"efficiency_metrics\": {\n",
    "    \"class_weight\": 20,\n",
    "    \"metric_weights\": {\n",
    "      \"asset_turnover\": 1.0\n",
    "    },\n",
    "    \"metrics\": {\n",
    "      \"asset_turnover\": {\n",
    "        \"lower_is_better\": False,\n",
    "        \"thresholds\": [\n",
    "          [5.0, 100e9],\n",
    "          [4.0, 5.0],\n",
    "          [3.0, 4.0],\n",
    "          [2.5, 3.0],\n",
    "          [2.0, 2.5],\n",
    "          [1.5, 2.0],\n",
    "          [1.0, 1.5],\n",
    "          [0.5, 1.0],\n",
    "          [-100e9, 0.5]\n",
    "        ]\n",
    "      }\n",
    "    }\n",
    "  }\n",
    "}"
   ]
  },
  {
   "cell_type": "code",
   "execution_count": null,
   "id": "8bfece7c-1d0a-4432-b8d3-04a804024d0a",
   "metadata": {},
   "outputs": [],
   "source": []
  }
 ],
 "metadata": {
  "kernelspec": {
   "display_name": "Python 3 (ipykernel)",
   "language": "python",
   "name": "python3"
  },
  "language_info": {
   "codemirror_mode": {
    "name": "ipython",
    "version": 3
   },
   "file_extension": ".py",
   "mimetype": "text/x-python",
   "name": "python",
   "nbconvert_exporter": "python",
   "pygments_lexer": "ipython3",
   "version": "3.11.5"
  }
 },
 "nbformat": 4,
 "nbformat_minor": 5
}
