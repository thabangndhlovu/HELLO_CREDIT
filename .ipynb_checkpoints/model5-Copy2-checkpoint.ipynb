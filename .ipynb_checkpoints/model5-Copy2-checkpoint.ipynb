{
 "cells": [
  {
   "cell_type": "code",
   "execution_count": 4,
   "id": "38fc6721-ad1b-4df1-8a83-45d1f12182c8",
   "metadata": {
    "tags": []
   },
   "outputs": [],
   "source": [
    "import numpy as np\n",
    "import pandas as pd\n",
    "import matplotlib.pyplot as plt\n",
    "from scipy.spatial import distance\n",
    "\n",
    "\n",
    "import warnings\n",
    "\n",
    "# Suppress all warnings\n",
    "warnings.filterwarnings(\"ignore\")"
   ]
  },
  {
   "cell_type": "markdown",
   "id": "9678fee6-9baf-4abf-b234-0432c03ef9a4",
   "metadata": {
    "tags": []
   },
   "source": [
    "# Data Analysis"
   ]
  },
  {
   "cell_type": "code",
   "execution_count": 5,
   "id": "583b75dd-9431-4742-8b03-09d85c9f6461",
   "metadata": {
    "jupyter": {
     "source_hidden": true
    },
    "tags": []
   },
   "outputs": [],
   "source": [
    "df = pd.read_csv(\"JALSH Index_dataset_2000_2024_clean.csv\", index_col=0, header=[0, 1])\n",
    "classfier = pd.read_excel(\"classification_data.xlsx\", index_col=0)\n",
    "metrics = pd.read_excel(\"metrics_full.xlsx\", index_col=0)"
   ]
  },
  {
   "cell_type": "code",
   "execution_count": 6,
   "id": "bc4e03e0-7c03-479c-8997-df9e97615e96",
   "metadata": {
    "tags": []
   },
   "outputs": [],
   "source": [
    "inverse_relationships = [False, True, False, False, True, False]\n",
    "\n",
    "profitability = ['ebitda_margin', 'oper_margin', 'return_on_asset']\n",
    "liquidity = ['tot_debt_to_ebitda', 'tot_debt_to_tot_asset', 'tot_debt_to_tot_cap', 'tot_debt_to_tot_eqy', 'interest_coverage_ratio', 'ebitda_to_tot_int_exp']\n",
    "efficiency = ['invent_to_sales', 'asset_turnover']\n",
    "bloomberg_metrics = [\"oper_margin\", 'tot_debt_to_tot_eqy', 'interest_coverage_ratio', 'return_on_asset', 'tot_debt_to_ebitda', 'ebitda_to_tot_int_exp']"
   ]
  },
  {
   "cell_type": "code",
   "execution_count": 132,
   "id": "d65cb42c-af0e-4cdb-86d9-710ef13ee3cd",
   "metadata": {
    "tags": []
   },
   "outputs": [],
   "source": [
    "def filter_securities(filters, data=classfier):\n",
    "    \n",
    "    # Apply filters directly on the transposed\n",
    "    filtered_data = data.query(\n",
    "        ' and '.join(f'`{k}` == \"{v}\"' for k, v in filters.items())\n",
    "    )\n",
    "    \n",
    "    return list(filtered_data.index)\n",
    "\n",
    "\n",
    "def calculate_overall_credit_score(credit_scores, weights = None):\n",
    "    \"\"\"\n",
    "    Calculate the overall credit score and rating based on individual financial ratio credit scores.\n",
    "\n",
    "    Args:\n",
    "        credit_scores (list): List of credit scores for each financial ratio.\n",
    "\n",
    "    Returns:\n",
    "        tuple: A tuple containing the overall credit score (float) and overall credit rating (str).\n",
    "    \"\"\"\n",
    "    \n",
    "    max_score = 100\n",
    "    min_score = 0\n",
    "    \n",
    "    if weights:\n",
    "        overall_credit_score = sum(score * weight for score, weight in zip(credit_scores, weights)) / sum(weights)\n",
    "    \n",
    "    else:\n",
    "        overall_credit_score = sum(credit_scores) / len(credit_scores)\n",
    "\n",
    "    # Rescale the overall credit score to have a maximum rating of 100\n",
    "    rescaled_credit_score = (overall_credit_score - min_score) / (max_score - min_score) * 100\n",
    "    \n",
    "    if overall_credit_score >= 75:\n",
    "        overall_credit_rating = \"Good\"\n",
    "    elif overall_credit_score >= 50:\n",
    "        overall_credit_rating = \"Fair\"\n",
    "    else:\n",
    "        overall_credit_rating = \"Poor\"\n",
    "    \n",
    "    return overall_credit_score, overall_credit_rating\n",
    "\n",
    "def calculate_credit_score(financial_ratio, industry_thresholds, expert_thresholds, inverse_relationship=False):\n",
    "    \"\"\"\n",
    "    Calculate the actual credit score within a universal score range based on where the financial ratio\n",
    "    falls within its thresholds, alongside the credit rating, confidence level, and universal range scores.\n",
    "    \n",
    "    Args:\n",
    "        financial_ratio (float): Financial ratio value.\n",
    "        industry_thresholds (dict): Dictionary of industry thresholds for each rating.\n",
    "        expert_thresholds (dict): Dictionary of expert thresholds for each rating.\n",
    "        inverse_relationship (bool): Indicates if the financial ratio has an inverse relationship (lower is better).\n",
    "\n",
    "    Returns:\n",
    "        tuple: A tuple containing the actual credit score (int), credit rating (str),\n",
    "               confidence level (float), and universal score ranges (dict).\n",
    "    \"\"\"\n",
    "    \n",
    "    # Adjust thresholds and financial ratio for inverse relationships\n",
    "    if inverse_relationship:\n",
    "        financial_ratio = 1 / financial_ratio\n",
    "        industry_thresholds = {k: 1/v for k, v in industry_thresholds.items()}\n",
    "        expert_thresholds = {k: 1/v for k, v in expert_thresholds.items()}\n",
    "    \n",
    "    distances = {\n",
    "        rating: distance.euclidean(\n",
    "            [financial_ratio],\n",
    "            [(industry_thresholds[rating] + expert_thresholds[rating]) / 2])\n",
    "        for rating in ['good', 'fair', 'poor']\n",
    "    }\n",
    "    \n",
    "    credit_rating = min(distances, key=distances.get)\n",
    "    \n",
    "    # Universal score ranges for each rating category\n",
    "    score_ranges = {\n",
    "        'good': (75, 100),\n",
    "        'fair': (50, 74),\n",
    "        'poor': (0, 49)\n",
    "    }\n",
    "\n",
    "    # Determine the min and max threshold for the financial ratio\n",
    "    min_threshold = min(industry_thresholds.values())\n",
    "    max_threshold = max(industry_thresholds.values())\n",
    "    \n",
    "    # Calculate where the financial ratio falls within its thresholds\n",
    "    financial_ratio = max(min_threshold, min(financial_ratio, max_threshold))\n",
    "    ratio_position = (financial_ratio - min_threshold) / (max_threshold - min_threshold)\n",
    "    \n",
    "    # Apply this proportion to the corresponding universal score range\n",
    "    credit_score_range = score_ranges[credit_rating]\n",
    "    score_range_width = credit_score_range[1] - credit_score_range[0]\n",
    "    credit_score = credit_score_range[0] + ratio_position * score_range_width\n",
    "    \n",
    "    # Calculate confidence level\n",
    "    confidence_level = (credit_score - credit_score_range[0]) / score_range_width\n",
    "    confidence_level = max(0, min(1, confidence_level))\n",
    "    \n",
    "    return credit_score, credit_rating, confidence_level, score_ranges\n",
    "\n",
    "def get_industry_thresholds(df, inverse_relationships, metrics=[0.25, 0.50, 0.75]):\n",
    "    industry_thresholds = []\n",
    "\n",
    "    for metric in df.index:\n",
    "        q25, q50, q75 = df.loc[metric].quantile(metrics)\n",
    "        \n",
    "        if inverse_relationships.get(metric):\n",
    "            thresholds = {\"good\": q25, \"fair\": q50, \"poor\": q75}\n",
    "        else:\n",
    "            thresholds = {\"good\": q75, \"fair\": q50, \"poor\": q25}\n",
    "        \n",
    "        industry_thresholds.append(thresholds)\n",
    "\n",
    "    return industry_thresholds\n",
    "\n",
    "def get_stock_metrics(df):\n",
    "    dict_df = df.to_dict()\n",
    "    return {stock: list(dict_df[stock].values()) for stock in dict_df}\n",
    "\n",
    "\n",
    "# Score ranges\n",
    "score_ranges = {\n",
    "    'good': (75, 100),\n",
    "    'fair': (50, 74),\n",
    "    'poor': (0, 49)\n",
    "}\n",
    "\n",
    "# Function to assign categories\n",
    "def assign_category(value):\n",
    "    for category, (min_score, max_score) in score_ranges.items():\n",
    "        if min_score <= value <= max_score:\n",
    "            return category\n",
    "    return 'unknown'"
   ]
  },
  {
   "cell_type": "code",
   "execution_count": 133,
   "id": "2e455950-cd56-4d8d-8f61-9df61a187a88",
   "metadata": {
    "tags": []
   },
   "outputs": [
    {
     "name": "stdout",
     "output_type": "stream",
     "text": [
      "['Banks' 'Commercial Services' 'Electronics' 'Miscellaneous Manufactur'\n",
      " 'Diversified Finan Serv' 'Building Materials' 'Mining'\n",
      " 'Investment Companies' 'Pharmaceuticals' 'Beverages' 'Agriculture'\n",
      " 'REITS' 'Holding Companies-Divers' 'Distribution/Wholesale' 'Food'\n",
      " 'Telecommunications' 'Computers' 'Retail' 'Insurance' 'Real Estate'\n",
      " 'Coal' 'Transportation' 'Entertainment' 'Auto Parts&Equipment'\n",
      " 'Iron/Steel' 'Software' 'Healthcare-Services' 'Private Equity'\n",
      " 'Energy-Alternate Sources' 'Forest Products&Paper' 'Internet' 'Chemicals'\n",
      " 'Engineering&Construction' 'Lodging']\n",
      "['Financial' 'Consumer, Non-cyclical' 'Industrial' 'Basic Materials'\n",
      " 'Diversified' 'Consumer, Cyclical' 'Communications' 'Technology' 'Energy']\n"
     ]
    }
   ],
   "source": [
    "print(classfier.industry.unique())\n",
    "print(classfier.sector.unique())"
   ]
  },
  {
   "cell_type": "code",
   "execution_count": 134,
   "id": "3cf7672b-f85f-4ce9-a3e6-06d76358f702",
   "metadata": {
    "tags": []
   },
   "outputs": [],
   "source": [
    "universe = {\"sector\":\"Financial\", \"industry\": \"Banks\"}\n"
   ]
  },
  {
   "cell_type": "code",
   "execution_count": 135,
   "id": "3d69921d-c1e8-44e8-b43a-9e38e04ba628",
   "metadata": {
    "tags": []
   },
   "outputs": [],
   "source": [
    "securities = filter_securities(universe)\n",
    "df = metrics.loc[bloomberg_metrics, securities]"
   ]
  },
  {
   "cell_type": "code",
   "execution_count": 136,
   "id": "7f465bee-a519-4eba-88c4-fc50ee77ec88",
   "metadata": {
    "tags": []
   },
   "outputs": [],
   "source": [
    "# company = {'STUDY_COMPANY': {'oper_margin': 4.000646844741706,\n",
    "#                              'tot_debt_to_tot_eqy': 32.80932764816569,\n",
    "#                              'interest_coverage_ratio': 6.346575419010469,\n",
    "#                              'return_on_asset': 4.215239913853519,\n",
    "#                              'tot_debt_to_ebitda': 1.150157826723298,\n",
    "#                              'ebitda_to_tot_int_exp': 7.547418258086141}}\n",
    "\n",
    "\n",
    "\n",
    "# company = pd.DataFrame(company)\n",
    "# df = df.join(company)"
   ]
  },
  {
   "cell_type": "code",
   "execution_count": null,
   "id": "71e5ddda-5719-4e65-ade1-db017f3b064b",
   "metadata": {},
   "outputs": [],
   "source": []
  },
  {
   "cell_type": "code",
   "execution_count": 137,
   "id": "6bea2592-29a5-43af-84e7-85f711099c46",
   "metadata": {
    "tags": []
   },
   "outputs": [],
   "source": [
    "df = df.dropna()"
   ]
  },
  {
   "cell_type": "code",
   "execution_count": 138,
   "id": "307686a6-d94c-496d-9783-80901ac9944d",
   "metadata": {
    "tags": []
   },
   "outputs": [
    {
     "data": {
      "text/html": [
       "<div>\n",
       "<style scoped>\n",
       "    .dataframe tbody tr th:only-of-type {\n",
       "        vertical-align: middle;\n",
       "    }\n",
       "\n",
       "    .dataframe tbody tr th {\n",
       "        vertical-align: top;\n",
       "    }\n",
       "\n",
       "    .dataframe thead th {\n",
       "        text-align: right;\n",
       "    }\n",
       "</style>\n",
       "<table border=\"1\" class=\"dataframe\">\n",
       "  <thead>\n",
       "    <tr style=\"text-align: right;\">\n",
       "      <th></th>\n",
       "      <th>ABG SJ Equity</th>\n",
       "      <th>FSR SJ Equity</th>\n",
       "      <th>INP SJ Equity</th>\n",
       "      <th>NED SJ Equity</th>\n",
       "      <th>SBK SJ Equity</th>\n",
       "    </tr>\n",
       "  </thead>\n",
       "  <tbody>\n",
       "    <tr>\n",
       "      <th>oper_margin</th>\n",
       "      <td>28.202722</td>\n",
       "      <td>34.390613</td>\n",
       "      <td>20.554580</td>\n",
       "      <td>27.343137</td>\n",
       "      <td>32.856516</td>\n",
       "    </tr>\n",
       "    <tr>\n",
       "      <th>tot_debt_to_tot_eqy</th>\n",
       "      <td>242.937113</td>\n",
       "      <td>55.520414</td>\n",
       "      <td>279.286615</td>\n",
       "      <td>90.535760</td>\n",
       "      <td>130.337695</td>\n",
       "    </tr>\n",
       "    <tr>\n",
       "      <th>return_on_asset</th>\n",
       "      <td>1.233318</td>\n",
       "      <td>1.674277</td>\n",
       "      <td>0.788019</td>\n",
       "      <td>1.094465</td>\n",
       "      <td>1.158278</td>\n",
       "    </tr>\n",
       "  </tbody>\n",
       "</table>\n",
       "</div>"
      ],
      "text/plain": [
       "                     ABG SJ Equity  FSR SJ Equity  INP SJ Equity  \\\n",
       "oper_margin              28.202722      34.390613      20.554580   \n",
       "tot_debt_to_tot_eqy     242.937113      55.520414     279.286615   \n",
       "return_on_asset           1.233318       1.674277       0.788019   \n",
       "\n",
       "                     NED SJ Equity  SBK SJ Equity  \n",
       "oper_margin              27.343137      32.856516  \n",
       "tot_debt_to_tot_eqy      90.535760     130.337695  \n",
       "return_on_asset           1.094465       1.158278  "
      ]
     },
     "execution_count": 138,
     "metadata": {},
     "output_type": "execute_result"
    }
   ],
   "source": [
    "df"
   ]
  },
  {
   "cell_type": "code",
   "execution_count": null,
   "id": "5efb4ef4-ffff-48f2-9533-3c184ac9a74b",
   "metadata": {
    "tags": []
   },
   "outputs": [],
   "source": []
  },
  {
   "cell_type": "code",
   "execution_count": 139,
   "id": "0ebece66-5a04-42f7-82a2-75c2515a3ee0",
   "metadata": {
    "tags": []
   },
   "outputs": [],
   "source": [
    "inverse_relationships = {\n",
    "    'oper_margin': False,   \n",
    "    'return_on_asset': False,   \n",
    "    'tot_debt_to_tot_asset': True,  \n",
    "    'tot_debt_to_tot_cap': True, \n",
    "    'tot_debt_to_tot_eqy': True, \n",
    "    'asset_turnover': False,\n",
    "    'ebitda_margin': False ,\n",
    "    'tot_debt_to_ebitda': True,\n",
    "    'interest_coverage_ratio': False,\n",
    "    'ebitda_to_tot_int_exp': False, \n",
    "    'invent_to_sales': True\n",
    "}\n",
    "\n",
    "\n",
    "inverse_relationships = {\n",
    "    'oper_margin': False,   \n",
    "    'return_on_asset': False,   \n",
    "    'tot_debt_to_tot_asset': True,  \n",
    "    'tot_debt_to_tot_cap': True, \n",
    "    'tot_debt_to_tot_eqy': True, \n",
    "    'asset_turnover': False,\n",
    "    'ebitda_margin': False ,\n",
    "    'tot_debt_to_ebitda': True,\n",
    "    'interest_coverage_ratio': False,\n",
    "    'ebitda_to_tot_int_exp': False, \n",
    "    'invent_to_sales': True\n",
    "}"
   ]
  },
  {
   "cell_type": "code",
   "execution_count": 140,
   "id": "d6657a5a-1e8e-4381-a005-4db556e166e3",
   "metadata": {
    "tags": []
   },
   "outputs": [
    {
     "data": {
      "text/plain": [
       "[{'good': 32.85651586270942,\n",
       "  'fair': 28.20272223399595,\n",
       "  'poor': 27.34313663121127},\n",
       " {'good': 90.5357597700805,\n",
       "  'fair': 130.3376947345469,\n",
       "  'poor': 242.9371134519588},\n",
       " {'good': 1.233318242973886,\n",
       "  'fair': 1.158278329553393,\n",
       "  'poor': 1.094464585710489}]"
      ]
     },
     "execution_count": 140,
     "metadata": {},
     "output_type": "execute_result"
    }
   ],
   "source": [
    "get_industry_thresholds(df, inverse_relationships)"
   ]
  },
  {
   "cell_type": "code",
   "execution_count": null,
   "id": "e619ec59-6ccb-44db-b79d-078d0b9dcb5e",
   "metadata": {
    "tags": []
   },
   "outputs": [],
   "source": []
  },
  {
   "cell_type": "code",
   "execution_count": 141,
   "id": "9d869533-24d4-442b-8b81-787c035f8bcd",
   "metadata": {
    "tags": []
   },
   "outputs": [],
   "source": [
    "weights_values = [.15, .20, .20, .15, .15, .15]\n",
    "\n",
    "company_ratios = get_stock_metrics(df)\n",
    "industry_thresholds = get_industry_thresholds(df, inverse_relationships)\n",
    "expert_thresholds = get_industry_thresholds(df, inverse_relationships)"
   ]
  },
  {
   "cell_type": "code",
   "execution_count": 142,
   "id": "8ac147cd-81e3-4889-abbb-0dff767a055b",
   "metadata": {
    "tags": []
   },
   "outputs": [
    {
     "name": "stdout",
     "output_type": "stream",
     "text": [
      "\t\t\t\t{'sector': 'Financial', 'industry': 'Banks'}\n",
      "ABG SJ Equity\n",
      "--------------------------------------------------------------------------------\n",
      "Financial Ratio: oper_margin: 28.20272223399595\n",
      "  Credit Score: 53.7418166972756\n",
      "  Credit Rating: fair\n",
      "  Confidence Level: 15.59%\n",
      "  Range Scores:\n",
      "      Good: 75.00 - 100.00\n",
      "      Fair: 50.00 - 74.00\n",
      "      Poor: 0.00 - 49.00\n",
      "\n",
      "Financial Ratio: tot_debt_to_tot_eqy: 242.9371134519588\n",
      "  Credit Score: 0.0\n",
      "  Credit Rating: poor\n",
      "  Confidence Level: 0.00%\n",
      "  Range Scores:\n",
      "      Good: 75.00 - 100.00\n",
      "      Fair: 50.00 - 74.00\n",
      "      Poor: 0.00 - 49.00\n",
      "\n",
      "Financial Ratio: interest_coverage_ratio: 1.233318242973886\n",
      "  Credit Score: 100.0\n",
      "  Credit Rating: good\n",
      "  Confidence Level: 100.00%\n",
      "  Range Scores:\n",
      "      Good: 75.00 - 100.00\n",
      "      Fair: 50.00 - 74.00\n",
      "      Poor: 0.00 - 49.00\n",
      "\n",
      "[8.06127250459134, 0.0, 20.0]\n"
     ]
    },
    {
     "ename": "TypeError",
     "evalue": "unsupported operand type(s) for -: 'list' and 'int'",
     "output_type": "error",
     "traceback": [
      "\u001b[1;31m---------------------------------------------------------------------------\u001b[0m",
      "\u001b[1;31mTypeError\u001b[0m                                 Traceback (most recent call last)",
      "Cell \u001b[1;32mIn[142], line 32\u001b[0m\n\u001b[0;32m     28\u001b[0m         \u001b[38;5;28mprint\u001b[39m(\u001b[38;5;124mf\u001b[39m\u001b[38;5;124m\"\u001b[39m\u001b[38;5;124m      \u001b[39m\u001b[38;5;132;01m{\u001b[39;00mrating\u001b[38;5;241m.\u001b[39mcapitalize()\u001b[38;5;132;01m}\u001b[39;00m\u001b[38;5;124m: \u001b[39m\u001b[38;5;132;01m{\u001b[39;00mscores[\u001b[38;5;241m0\u001b[39m]\u001b[38;5;132;01m:\u001b[39;00m\u001b[38;5;124m.2f\u001b[39m\u001b[38;5;132;01m}\u001b[39;00m\u001b[38;5;124m - \u001b[39m\u001b[38;5;132;01m{\u001b[39;00mscores[\u001b[38;5;241m1\u001b[39m]\u001b[38;5;132;01m:\u001b[39;00m\u001b[38;5;124m.2f\u001b[39m\u001b[38;5;132;01m}\u001b[39;00m\u001b[38;5;124m\"\u001b[39m)\n\u001b[0;32m     29\u001b[0m     \u001b[38;5;28mprint\u001b[39m()\n\u001b[1;32m---> 32\u001b[0m overall_credit_score, overall_credit_rating \u001b[38;5;241m=\u001b[39m calculate_overall_credit_score(credit_scores, weights_values)\n\u001b[0;32m     34\u001b[0m \u001b[38;5;66;03m#if company == \"STUDY_COMPANY\":\u001b[39;00m\n\u001b[0;32m     36\u001b[0m \u001b[38;5;28mprint\u001b[39m(\u001b[38;5;124mf\u001b[39m\u001b[38;5;124m\"\u001b[39m\u001b[38;5;124mOverall Credit Score: \u001b[39m\u001b[38;5;132;01m{\u001b[39;00moverall_credit_score\u001b[38;5;132;01m:\u001b[39;00m\u001b[38;5;124m.2f\u001b[39m\u001b[38;5;132;01m}\u001b[39;00m\u001b[38;5;124m\"\u001b[39m)\n",
      "Cell \u001b[1;32mIn[132], line 34\u001b[0m, in \u001b[0;36mcalculate_overall_credit_score\u001b[1;34m(credit_scores, weights)\u001b[0m\n\u001b[0;32m     31\u001b[0m     overall_credit_score \u001b[38;5;241m=\u001b[39m \u001b[38;5;28msum\u001b[39m(credit_scores) \u001b[38;5;241m/\u001b[39m \u001b[38;5;28mlen\u001b[39m(credit_scores)\n\u001b[0;32m     33\u001b[0m \u001b[38;5;66;03m# Rescale the overall credit score to have a maximum rating of 100\u001b[39;00m\n\u001b[1;32m---> 34\u001b[0m rescaled_credit_score \u001b[38;5;241m=\u001b[39m (overall_credit_score \u001b[38;5;241m-\u001b[39m min_score) \u001b[38;5;241m/\u001b[39m (max_score \u001b[38;5;241m-\u001b[39m min_score) \u001b[38;5;241m*\u001b[39m \u001b[38;5;241m100\u001b[39m\n\u001b[0;32m     36\u001b[0m \u001b[38;5;28;01mif\u001b[39;00m overall_credit_score \u001b[38;5;241m>\u001b[39m\u001b[38;5;241m=\u001b[39m \u001b[38;5;241m75\u001b[39m:\n\u001b[0;32m     37\u001b[0m     overall_credit_rating \u001b[38;5;241m=\u001b[39m \u001b[38;5;124m\"\u001b[39m\u001b[38;5;124mGood\u001b[39m\u001b[38;5;124m\"\u001b[39m\n",
      "\u001b[1;31mTypeError\u001b[0m: unsupported operand type(s) for -: 'list' and 'int'"
     ]
    }
   ],
   "source": [
    "# Iterate over each company and calculate credit scores for each financial ratio\n",
    "data  = {}\n",
    "\n",
    "print(f\"\\t\\t\\t\\t{universe}\")\n",
    "for company, ratios in company_ratios.items():\n",
    "    \n",
    "    \n",
    "    credit_scores = []\n",
    "    print(company)\n",
    "    print(\"----\" * 20)\n",
    "    for i, ratio in enumerate(ratios):\n",
    "        \n",
    "        metric = bloomberg_metrics[i]\n",
    "        \n",
    "        credit_score, credit_rating, confidence_level, range_scores = calculate_credit_score(\n",
    "            ratio, industry_thresholds[i], expert_thresholds[i], inverse_relationships.get(metric)\n",
    "        )\n",
    "\n",
    "        credit_scores.append(credit_score)\n",
    "        \n",
    "        \n",
    "        print(f\"Financial Ratio: {metric}: {ratio}\")\n",
    "        print(f\"  Credit Score: {credit_score}\")\n",
    "        print(f\"  Credit Rating: {credit_rating}\")\n",
    "        print(f\"  Confidence Level: {confidence_level:.2%}\")\n",
    "        print(f\"  Range Scores:\")\n",
    "        for rating, scores in range_scores.items():\n",
    "            print(f\"      {rating.capitalize()}: {scores[0]:.2f} - {scores[1]:.2f}\")\n",
    "        print()\n",
    "\n",
    "\n",
    "    overall_credit_score, overall_credit_rating = calculate_overall_credit_score(credit_scores, weights_values)\n",
    "    \n",
    "    #if company == \"STUDY_COMPANY\":\n",
    "\n",
    "    print(f\"Overall Credit Score: {overall_credit_score:.2f}\")\n",
    "    print(f\"Overall Credit Rating: {overall_credit_rating}\")\n",
    "    print()\n",
    "\n",
    "    data[company] = credit_scores"
   ]
  },
  {
   "cell_type": "code",
   "execution_count": 143,
   "id": "3469fa27-9245-47e0-8396-b0a00e2adf2e",
   "metadata": {
    "tags": []
   },
   "outputs": [
    {
     "data": {
      "text/html": [
       "<div>\n",
       "<style scoped>\n",
       "    .dataframe tbody tr th:only-of-type {\n",
       "        vertical-align: middle;\n",
       "    }\n",
       "\n",
       "    .dataframe tbody tr th {\n",
       "        vertical-align: top;\n",
       "    }\n",
       "\n",
       "    .dataframe thead th {\n",
       "        text-align: right;\n",
       "    }\n",
       "</style>\n",
       "<table border=\"1\" class=\"dataframe\">\n",
       "  <thead>\n",
       "    <tr style=\"text-align: right;\">\n",
       "      <th></th>\n",
       "      <th>ABG SJ Equity</th>\n",
       "      <th>FSR SJ Equity</th>\n",
       "      <th>INP SJ Equity</th>\n",
       "      <th>NED SJ Equity</th>\n",
       "      <th>SBK SJ Equity</th>\n",
       "    </tr>\n",
       "  </thead>\n",
       "  <tbody>\n",
       "    <tr>\n",
       "      <th>oper_margin</th>\n",
       "      <td>28.202722</td>\n",
       "      <td>34.390613</td>\n",
       "      <td>20.554580</td>\n",
       "      <td>27.343137</td>\n",
       "      <td>32.856516</td>\n",
       "    </tr>\n",
       "    <tr>\n",
       "      <th>tot_debt_to_tot_eqy</th>\n",
       "      <td>242.937113</td>\n",
       "      <td>55.520414</td>\n",
       "      <td>279.286615</td>\n",
       "      <td>90.535760</td>\n",
       "      <td>130.337695</td>\n",
       "    </tr>\n",
       "    <tr>\n",
       "      <th>return_on_asset</th>\n",
       "      <td>1.233318</td>\n",
       "      <td>1.674277</td>\n",
       "      <td>0.788019</td>\n",
       "      <td>1.094465</td>\n",
       "      <td>1.158278</td>\n",
       "    </tr>\n",
       "  </tbody>\n",
       "</table>\n",
       "</div>"
      ],
      "text/plain": [
       "                     ABG SJ Equity  FSR SJ Equity  INP SJ Equity  \\\n",
       "oper_margin              28.202722      34.390613      20.554580   \n",
       "tot_debt_to_tot_eqy     242.937113      55.520414     279.286615   \n",
       "return_on_asset           1.233318       1.674277       0.788019   \n",
       "\n",
       "                     NED SJ Equity  SBK SJ Equity  \n",
       "oper_margin              27.343137      32.856516  \n",
       "tot_debt_to_tot_eqy      90.535760     130.337695  \n",
       "return_on_asset           1.094465       1.158278  "
      ]
     },
     "execution_count": 143,
     "metadata": {},
     "output_type": "execute_result"
    }
   ],
   "source": [
    "df"
   ]
  },
  {
   "cell_type": "code",
   "execution_count": 145,
   "id": "2a4cac5c-bf7a-4ffb-8e5a-488bffd4bb3a",
   "metadata": {
    "tags": []
   },
   "outputs": [
    {
     "data": {
      "text/plain": [
       "28.06127250459134"
      ]
     },
     "execution_count": 145,
     "metadata": {},
     "output_type": "execute_result"
    }
   ],
   "source": [
    "sum([8.06127250459134, 0.0, 20.0]) "
   ]
  },
  {
   "cell_type": "code",
   "execution_count": 45,
   "id": "9961038f-79dc-4ecb-859a-bce8523f3a0a",
   "metadata": {
    "tags": []
   },
   "outputs": [],
   "source": [
    "# # Apply the function to the entire dataframe\n",
    "# df_categories = pd.DataFrame(data, bloomberg_metrics).applymap(assign_category)\n",
    "# df_categories"
   ]
  },
  {
   "cell_type": "code",
   "execution_count": null,
   "id": "19131926-7d00-427c-a7e4-190ce5fd7df7",
   "metadata": {},
   "outputs": [],
   "source": []
  },
  {
   "cell_type": "code",
   "execution_count": null,
   "id": "69f6e2c8-306e-46d8-b94f-479c7f04b9b7",
   "metadata": {},
   "outputs": [],
   "source": []
  },
  {
   "cell_type": "code",
   "execution_count": null,
   "id": "a5d4d34c-c831-4523-9bc2-ff437b091572",
   "metadata": {},
   "outputs": [],
   "source": []
  }
 ],
 "metadata": {
  "kernelspec": {
   "display_name": "Python 3 (ipykernel)",
   "language": "python",
   "name": "python3"
  },
  "language_info": {
   "codemirror_mode": {
    "name": "ipython",
    "version": 3
   },
   "file_extension": ".py",
   "mimetype": "text/x-python",
   "name": "python",
   "nbconvert_exporter": "python",
   "pygments_lexer": "ipython3",
   "version": "3.11.5"
  }
 },
 "nbformat": 4,
 "nbformat_minor": 5
}
