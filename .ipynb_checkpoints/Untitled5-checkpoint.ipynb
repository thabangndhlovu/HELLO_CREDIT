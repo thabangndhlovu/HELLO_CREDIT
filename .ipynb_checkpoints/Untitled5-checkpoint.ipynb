{
 "cells": [
  {
   "cell_type": "code",
   "execution_count": 1,
   "id": "d9827706-ae7c-4964-9752-e9a9b1928f15",
   "metadata": {
    "tags": []
   },
   "outputs": [],
   "source": [
    "import pandas as pd \n",
    "from bloomberg import BDP, BDH, BQL"
   ]
  },
  {
   "cell_type": "code",
   "execution_count": 2,
   "id": "9314c466-af4d-4270-a9d1-f819d3a68105",
   "metadata": {},
   "outputs": [],
   "source": [
    "universe = 'JALSH Index'\n",
    "\n",
    "fields = [\n",
    "\"return_on_asset(fa_period_reference=range(2000,2024),fa_period_type='BA')\",\n",
    "\"oper_margin(fa_period_reference=range(2000,2024),fa_period_type='BA')\",\n",
    "\"ebitda_margin(fa_period_reference=range(2000,2024),fa_period_type='BA')\",\n",
    "\"tot_debt_to_tot_eqy(fa_period_reference=range(2000,2024),fa_period_type='BA')\",\n",
    "\"tot_debt_to_tot_asset(fa_period_reference=range(2000,2024),fa_period_type='BA')\",\n",
    "\"tot_debt_to_ebitda(fa_period_reference=range(2000,2024),fa_period_type='BA')\",\n",
    "\"ebitda_to_tot_int_exp(fa_period_reference=range(2000,2024),fa_period_type='BA')\",\n",
    "\"interest_coverage_ratio(fa_period_reference=range(2000,2024),fa_period_type='BA')\",\n",
    "\"tot_debt_to_tot_cap(fa_period_reference=range(2000,2024),fa_period_type='BA')\",\n",
    "\"asset_turnover(fa_period_reference=range(2000,2024),fa_period_type='BA')\",\n",
    "\"invent_to_sales(fa_period_reference=range(2000,2024),fa_period_type='BA')\"\n",
    "]\n"
   ]
  },
  {
   "cell_type": "code",
   "execution_count": 3,
   "id": "e6201b31-6345-4092-aa8f-052f00bdbbfe",
   "metadata": {
    "tags": []
   },
   "outputs": [],
   "source": [
    "field_string = ', '.join(fields)\n",
    "query = f\"get({field_string})for(members(['{universe}']))\""
   ]
  },
  {
   "cell_type": "code",
   "execution_count": 4,
   "id": "66b0b9cb-35ad-457c-a99b-270c3f704a46",
   "metadata": {
    "tags": []
   },
   "outputs": [
    {
     "data": {
      "text/plain": [
       "\"get(return_on_asset(fa_period_reference=range(2000,2024),fa_period_type='BA'), oper_margin(fa_period_reference=range(2000,2024),fa_period_type='BA'), ebitda_margin(fa_period_reference=range(2000,2024),fa_period_type='BA'), tot_debt_to_tot_eqy(fa_period_reference=range(2000,2024),fa_period_type='BA'), tot_debt_to_tot_asset(fa_period_reference=range(2000,2024),fa_period_type='BA'), tot_debt_to_ebitda(fa_period_reference=range(2000,2024),fa_period_type='BA'), ebitda_to_tot_int_exp(fa_period_reference=range(2000,2024),fa_period_type='BA'), interest_coverage_ratio(fa_period_reference=range(2000,2024),fa_period_type='BA'), tot_debt_to_tot_cap(fa_period_reference=range(2000,2024),fa_period_type='BA'), asset_turnover(fa_period_reference=range(2000,2024),fa_period_type='BA'), invent_to_sales(fa_period_reference=range(2000,2024),fa_period_type='BA'))for(members(['JALSH Index']))\""
      ]
     },
     "execution_count": 4,
     "metadata": {},
     "output_type": "execute_result"
    }
   ],
   "source": [
    "query"
   ]
  },
  {
   "cell_type": "code",
   "execution_count": 5,
   "id": "deb83e52-b6f1-4cf1-8575-fb27d81df1cd",
   "metadata": {
    "tags": []
   },
   "outputs": [],
   "source": [
    "results = BQL(query)"
   ]
  },
  {
   "cell_type": "code",
   "execution_count": 6,
   "id": "3ecfff13-3846-46b4-8c61-1ee2c3cc1b68",
   "metadata": {
    "tags": []
   },
   "outputs": [
    {
     "data": {
      "text/html": [
       "<div>\n",
       "<style scoped>\n",
       "    .dataframe tbody tr th:only-of-type {\n",
       "        vertical-align: middle;\n",
       "    }\n",
       "\n",
       "    .dataframe tbody tr th {\n",
       "        vertical-align: top;\n",
       "    }\n",
       "\n",
       "    .dataframe thead th {\n",
       "        text-align: right;\n",
       "    }\n",
       "</style>\n",
       "<table border=\"1\" class=\"dataframe\">\n",
       "  <thead>\n",
       "    <tr style=\"text-align: right;\">\n",
       "      <th></th>\n",
       "      <th>security</th>\n",
       "      <th>field</th>\n",
       "      <th>secondary_name</th>\n",
       "      <th>secondary_value</th>\n",
       "      <th>value</th>\n",
       "    </tr>\n",
       "  </thead>\n",
       "  <tbody>\n",
       "    <tr>\n",
       "      <th>0</th>\n",
       "      <td>WHL SJ Equity</td>\n",
       "      <td>return_on_asset(fa_period_reference=range(2000...</td>\n",
       "      <td>AS_OF_DATE</td>\n",
       "      <td>2024-03-17T00:00:00Z</td>\n",
       "      <td>6.863882</td>\n",
       "    </tr>\n",
       "    <tr>\n",
       "      <th>1</th>\n",
       "      <td>WHL SJ Equity</td>\n",
       "      <td>return_on_asset(fa_period_reference=range(2000...</td>\n",
       "      <td>AS_OF_DATE</td>\n",
       "      <td>2024-03-17T00:00:00Z</td>\n",
       "      <td>4.539136</td>\n",
       "    </tr>\n",
       "    <tr>\n",
       "      <th>2</th>\n",
       "      <td>WHL SJ Equity</td>\n",
       "      <td>return_on_asset(fa_period_reference=range(2000...</td>\n",
       "      <td>AS_OF_DATE</td>\n",
       "      <td>2024-03-17T00:00:00Z</td>\n",
       "      <td>9.278267</td>\n",
       "    </tr>\n",
       "    <tr>\n",
       "      <th>3</th>\n",
       "      <td>WHL SJ Equity</td>\n",
       "      <td>return_on_asset(fa_period_reference=range(2000...</td>\n",
       "      <td>AS_OF_DATE</td>\n",
       "      <td>2024-03-17T00:00:00Z</td>\n",
       "      <td>12.228241</td>\n",
       "    </tr>\n",
       "    <tr>\n",
       "      <th>4</th>\n",
       "      <td>WHL SJ Equity</td>\n",
       "      <td>return_on_asset(fa_period_reference=range(2000...</td>\n",
       "      <td>AS_OF_DATE</td>\n",
       "      <td>2024-03-17T00:00:00Z</td>\n",
       "      <td>11.231745</td>\n",
       "    </tr>\n",
       "    <tr>\n",
       "      <th>...</th>\n",
       "      <td>...</td>\n",
       "      <td>...</td>\n",
       "      <td>...</td>\n",
       "      <td>...</td>\n",
       "      <td>...</td>\n",
       "    </tr>\n",
       "    <tr>\n",
       "      <th>9295</th>\n",
       "      <td>GFI SJ Equity</td>\n",
       "      <td>invent_to_sales(fa_period_reference=range(2000...</td>\n",
       "      <td>REVISION_DATE</td>\n",
       "      <td>2021-03-31T00:00:00Z</td>\n",
       "      <td>13.401506</td>\n",
       "    </tr>\n",
       "    <tr>\n",
       "      <th>9296</th>\n",
       "      <td>GFI SJ Equity</td>\n",
       "      <td>invent_to_sales(fa_period_reference=range(2000...</td>\n",
       "      <td>REVISION_DATE</td>\n",
       "      <td>2022-03-31T00:00:00Z</td>\n",
       "      <td>14.959954</td>\n",
       "    </tr>\n",
       "    <tr>\n",
       "      <th>9297</th>\n",
       "      <td>GFI SJ Equity</td>\n",
       "      <td>invent_to_sales(fa_period_reference=range(2000...</td>\n",
       "      <td>REVISION_DATE</td>\n",
       "      <td>2023-02-23T00:00:00Z</td>\n",
       "      <td>17.705928</td>\n",
       "    </tr>\n",
       "    <tr>\n",
       "      <th>9298</th>\n",
       "      <td>GFI SJ Equity</td>\n",
       "      <td>invent_to_sales(fa_period_reference=range(2000...</td>\n",
       "      <td>REVISION_DATE</td>\n",
       "      <td>2024-02-22T00:00:00Z</td>\n",
       "      <td>0.0</td>\n",
       "    </tr>\n",
       "    <tr>\n",
       "      <th>9299</th>\n",
       "      <td>GFI SJ Equity</td>\n",
       "      <td>invent_to_sales(fa_period_reference=range(2000...</td>\n",
       "      <td>REVISION_DATE</td>\n",
       "      <td>2024-03-16T00:00:00Z</td>\n",
       "      <td>NaN</td>\n",
       "    </tr>\n",
       "  </tbody>\n",
       "</table>\n",
       "<p>102300 rows × 5 columns</p>\n",
       "</div>"
      ],
      "text/plain": [
       "           security                                              field  \\\n",
       "0     WHL SJ Equity  return_on_asset(fa_period_reference=range(2000...   \n",
       "1     WHL SJ Equity  return_on_asset(fa_period_reference=range(2000...   \n",
       "2     WHL SJ Equity  return_on_asset(fa_period_reference=range(2000...   \n",
       "3     WHL SJ Equity  return_on_asset(fa_period_reference=range(2000...   \n",
       "4     WHL SJ Equity  return_on_asset(fa_period_reference=range(2000...   \n",
       "...             ...                                                ...   \n",
       "9295  GFI SJ Equity  invent_to_sales(fa_period_reference=range(2000...   \n",
       "9296  GFI SJ Equity  invent_to_sales(fa_period_reference=range(2000...   \n",
       "9297  GFI SJ Equity  invent_to_sales(fa_period_reference=range(2000...   \n",
       "9298  GFI SJ Equity  invent_to_sales(fa_period_reference=range(2000...   \n",
       "9299  GFI SJ Equity  invent_to_sales(fa_period_reference=range(2000...   \n",
       "\n",
       "     secondary_name       secondary_value      value  \n",
       "0        AS_OF_DATE  2024-03-17T00:00:00Z   6.863882  \n",
       "1        AS_OF_DATE  2024-03-17T00:00:00Z   4.539136  \n",
       "2        AS_OF_DATE  2024-03-17T00:00:00Z   9.278267  \n",
       "3        AS_OF_DATE  2024-03-17T00:00:00Z  12.228241  \n",
       "4        AS_OF_DATE  2024-03-17T00:00:00Z  11.231745  \n",
       "...             ...                   ...        ...  \n",
       "9295  REVISION_DATE  2021-03-31T00:00:00Z  13.401506  \n",
       "9296  REVISION_DATE  2022-03-31T00:00:00Z  14.959954  \n",
       "9297  REVISION_DATE  2023-02-23T00:00:00Z  17.705928  \n",
       "9298  REVISION_DATE  2024-02-22T00:00:00Z        0.0  \n",
       "9299  REVISION_DATE  2024-03-16T00:00:00Z        NaN  \n",
       "\n",
       "[102300 rows x 5 columns]"
      ]
     },
     "execution_count": 6,
     "metadata": {},
     "output_type": "execute_result"
    }
   ],
   "source": [
    "results"
   ]
  },
  {
   "cell_type": "code",
   "execution_count": 7,
   "id": "81fcfa54-5636-4392-9204-fa90877b2873",
   "metadata": {},
   "outputs": [],
   "source": [
    "results.to_excel(f\"{universe}_dataset_2000_2024.xlsx\")"
   ]
  },
  {
   "cell_type": "code",
   "execution_count": null,
   "id": "fee2f5dd-cb13-43b9-ada9-1cbd91061179",
   "metadata": {},
   "outputs": [],
   "source": []
  }
 ],
 "metadata": {
  "kernelspec": {
   "display_name": "Python 3 (ipykernel)",
   "language": "python",
   "name": "python3"
  },
  "language_info": {
   "codemirror_mode": {
    "name": "ipython",
    "version": 3
   },
   "file_extension": ".py",
   "mimetype": "text/x-python",
   "name": "python",
   "nbconvert_exporter": "python",
   "pygments_lexer": "ipython3",
   "version": "3.11.5"
  }
 },
 "nbformat": 4,
 "nbformat_minor": 5
}
