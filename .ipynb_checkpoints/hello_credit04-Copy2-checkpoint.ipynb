{
 "cells": [
  {
   "cell_type": "markdown",
   "id": "e5bebd14-5939-4228-9449-e42827616343",
   "metadata": {},
   "source": [
    "# **Predictive Default Risk Assessor V.01**"
   ]
  },
  {
   "cell_type": "markdown",
   "id": "aa758ff1-aff3-4718-a6b6-2bf4aa81d71f",
   "metadata": {},
   "source": [
    "# TODO\n",
    "\n",
    "* Base model \n",
    "* Comparison\n",
    "* Specialised\n",
    "* For small entities - Examples?\n",
    "* Backtest - All sectors \n",
    "* Understanding the model across all sectors/industries\n",
    "* Any markets - consumer goods, industries\n",
    "* UI last step after backtesting"
   ]
  },
  {
   "cell_type": "code",
   "execution_count": 1,
   "id": "27606373",
   "metadata": {
    "jupyter": {
     "source_hidden": true
    },
    "tags": []
   },
   "outputs": [],
   "source": [
    "model_inputs = {\n",
    "    \"profitability\": {\n",
    "        \"class_weight\": 0.30,\n",
    "        \"weights\": [1.0], \n",
    "        \"metrics\": {\n",
    "            \"oper_margin\": {\n",
    "                \"lower_is_better\": False,\n",
    "                \"thresholds\": [\n",
    "                    (40, float(\"inf\")),\n",
    "                    (35, 39),\n",
    "                    (30, 34),\n",
    "                    (25, 29),\n",
    "                    (20, 24),\n",
    "                    (15, 19),\n",
    "                    (10, 14),\n",
    "                    (5, 9),\n",
    "                    (float(\"-inf\"), 0)\n",
    "                ],\n",
    "            }\n",
    "        },\n",
    "    },\n",
    "    \"leverage_coverage\": {\n",
    "        \"class_weight\": 0.55,\n",
    "        \"weights\": [0.4, 0.3, 0.3],\n",
    "        \"metrics\": {\n",
    "            \"tot_debt_to_tot_eqy\": {\n",
    "                \"lower_is_better\": True,\n",
    "                \"thresholds\": [\n",
    "                     (float(\"-inf\"), 2.0),\n",
    "                     (2.0, 16.0),\n",
    "                     (16.0, 24.0),\n",
    "                     (24.0, 33.0),\n",
    "                     (33.0, 43.0),\n",
    "                     (43.0, 54.0),\n",
    "                     (54.0, 68.0),\n",
    "                     (68.0, 94.0),\n",
    "                     (94.0, float(\"inf\")),\n",
    "                ],\n",
    "            },\n",
    "            \"tot_debt_to_ebitda\": {\n",
    "                \"lower_is_better\": True,\n",
    "                \"thresholds\": [\n",
    "                    (float(\"-inf\"), 0.09),\n",
    "                    (0.09, 0.49),\n",
    "                    (0.49, 0.9),\n",
    "                    (0.9, 1.36),\n",
    "                    (1.36, 1.68),\n",
    "                    (1.68, 2.26),\n",
    "                    (2.26, 3.27),\n",
    "                    (3.27, 4.4),\n",
    "                    (4.4, float(\"inf\")),\n",
    "                ],\n",
    "            },\n",
    "            \"ebitda_to_tot_int_exp\": {\n",
    "                \"lower_is_better\": False,\n",
    "                \"thresholds\": [\n",
    "                    (25, float(\"inf\")),\n",
    "                    (20, 25),\n",
    "                    (15, 20),\n",
    "                    (10, 15),\n",
    "                    (5, 10),\n",
    "                    (3, 5),\n",
    "                    (1, 3),\n",
    "                    (0, 1),\n",
    "                    (float(\"-inf\"), 0),\n",
    "                ],\n",
    "            },\n",
    "        },\n",
    "    },\n",
    "    \"efficiency\": {\n",
    "        \"class_weight\": 0.15,\n",
    "        \"weights\": [0.5, 0.5],\n",
    "        \"metrics\": {\n",
    "            \"return_on_asset\": {\n",
    "                \"lower_is_better\": False,\n",
    "                \"thresholds\": [\n",
    "                    (0.15, float(\"inf\")),\n",
    "                    (0.10, 0.15),\n",
    "                    (0.08, 0.10),\n",
    "                    (0.06, 0.08),\n",
    "                    (0.04, 0.06),\n",
    "                    (0.02, 0.04),\n",
    "                    (0.00, 0.02),\n",
    "                    (-0.02, 0.00),\n",
    "                    (float(\"-inf\"), -0.02)\n",
    "                ],\n",
    "            },\n",
    "            \"asset_turnover\": {\n",
    "                \"lower_is_better\": False,\n",
    "                \"thresholds\": [\n",
    "                    (4.0, float(\"inf\")),\n",
    "                    (3.0, 4.0),\n",
    "                    (2.0, 3.0),\n",
    "                    (1.5, 2.0),\n",
    "                    (1.0, 1.5),\n",
    "                    (0.75, 1.0),\n",
    "                    (0.5, 0.75),\n",
    "                    (0.25, 0.5),\n",
    "                    (float(\"-inf\"), 0.25)\n",
    "                ],\n",
    "            },\n",
    "        },\n",
    "    },\n",
    "}"
   ]
  },
  {
   "cell_type": "code",
   "execution_count": 2,
   "id": "78b2f3ed-0720-43a7-8204-f4f0efe040b8",
   "metadata": {
    "jupyter": {
     "source_hidden": true
    },
    "tags": []
   },
   "outputs": [],
   "source": [
    "import pandas as pd\n",
    "import numpy as np"
   ]
  },
  {
   "cell_type": "code",
   "execution_count": 3,
   "id": "8ff894c0-a05e-4061-9445-bbb895296a09",
   "metadata": {
    "tags": []
   },
   "outputs": [],
   "source": [
    "class CreditRatingCalculator:\n",
    "    def __init__(self, metrics):\n",
    "        self.metrics = metrics\n",
    "        \n",
    "    def _calculate_metric_score(self, metric, thresholds, inverse):\n",
    "        for score, (lower, upper) in enumerate(thresholds, start=1):\n",
    "            if (inverse and metric <= upper) or (not inverse and metric >= lower):\n",
    "                return score\n",
    "        return len(thresholds) // 2 # else return the middle score\n",
    "\n",
    "    def _calculate_category_score(self, category_metrics, ratios):\n",
    "        total_weighted_score = 0\n",
    "\n",
    "        for metric, weight in zip(\n",
    "            category_metrics[\"metrics\"].items(), category_metrics[\"weights\"]\n",
    "        ):\n",
    "            metric_name, metric_data = metric\n",
    "            value = ratios[metric_name]\n",
    "            score = self._calculate_metric_score(\n",
    "                value, metric_data[\"thresholds\"], metric_data[\"lower_is_better\"]\n",
    "            )\n",
    "            total_weighted_score += score * weight\n",
    "\n",
    "        return total_weighted_score\n",
    "\n",
    "    def _calculate_scores(self, ratios):\n",
    "        scores = {}\n",
    "        for category, category_data in self.metrics.items():\n",
    "            category_score = self._calculate_category_score(category_data, ratios)\n",
    "            scores[category] = category_score\n",
    "        return scores\n",
    "\n",
    "    def _calculate_weighted_score(self, scores):\n",
    "        weights = {\n",
    "            category: category_data[\"class_weight\"]\n",
    "            for category, category_data in self.metrics.items()\n",
    "        }\n",
    "        return sum(scores[category] * weight for category, weight in weights.items())\n",
    "\n",
    "    def _determine_credit_rating(self, weighted_score):\n",
    "        # credit_ratings = [\n",
    "        #     (1.5, \"Aaa\"),\n",
    "        #     (2.5, \"Aa\"),\n",
    "        #     (3.5, \"A\"),\n",
    "        #     (4.5, \"Baa\"),\n",
    "        #     (5.5, \"Ba\"),\n",
    "        #     (6.5, \"B\"),\n",
    "        #     (7.5, \"Caa\"),\n",
    "        #     (8.5, \"Ca\"),\n",
    "        #     (float(\"inf\"), \"C\"),\n",
    "        # ]\n",
    "        \n",
    "        credit_ratings = [\n",
    "            (2.5, \"Aaa\"),\n",
    "            (3.5, \"Aa\"),\n",
    "            (4.5, \"A\"),\n",
    "            (5.5, \"Baa\"),\n",
    "            (6.5, \"Ba\"),\n",
    "            (7.5, \"B\"),\n",
    "            (8.5, \"Caa\"),\n",
    "            (9.5, \"Ca\"),\n",
    "            (float(\"inf\"), \"C\"),\n",
    "        ]\n",
    "\n",
    "        for threshold, rating in credit_ratings:\n",
    "            if weighted_score < threshold:\n",
    "                return rating\n",
    "\n",
    "    def calculate_credit_rating(self, ratios):\n",
    "        self.scores = self._calculate_scores(ratios)\n",
    "        self.credit_score = self._calculate_weighted_score(self.scores)\n",
    "        self.credit_rating = self._determine_credit_rating(self.credit_score)"
   ]
  },
  {
   "cell_type": "code",
   "execution_count": 4,
   "id": "ba34e0b7-dd1b-41d2-b4dc-4608bdc2ece4",
   "metadata": {
    "tags": []
   },
   "outputs": [],
   "source": [
    "# df = pd.read_csv(\"research/JALSH Index_dataset_2000_2024_clean.csv\", index_col=0, header=[0, 1])\n",
    "# classfier = pd.read_excel(\"research/classification_data.xlsx\", index_col=0)\n",
    "metrics = pd.read_excel(\"research/metrics_full.xlsx\", index_col=0)"
   ]
  },
  {
   "cell_type": "code",
   "execution_count": 25,
   "id": "3460a8a6-dd7a-4896-a2ee-032416c11703",
   "metadata": {
    "tags": []
   },
   "outputs": [],
   "source": [
    "company = \"SAP SJ Equity\""
   ]
  },
  {
   "cell_type": "code",
   "execution_count": 26,
   "id": "c9ce811f-6d11-4467-92cb-8558f849a579",
   "metadata": {
    "jupyter": {
     "source_hidden": true
    },
    "tags": []
   },
   "outputs": [],
   "source": [
    "model_metrics = [\n",
    "    \"oper_margin\", \n",
    "    \"tot_debt_to_tot_eqy\", \n",
    "    \"tot_debt_to_ebitda\", \n",
    "    \"ebitda_to_tot_int_exp\", \n",
    "    \"return_on_asset\",\n",
    "    \"asset_turnover\",\n",
    "]\n",
    "\n",
    "ratios = metrics[company].loc[model_metrics].to_dict()"
   ]
  },
  {
   "cell_type": "code",
   "execution_count": 27,
   "id": "39b74db9-167a-4d83-bda9-f280c20cd9f4",
   "metadata": {
    "jupyter": {
     "source_hidden": true
    },
    "tags": []
   },
   "outputs": [
    {
     "name": "stdout",
     "output_type": "stream",
     "text": [
      "Model Inputs:\n"
     ]
    },
    {
     "data": {
      "text/plain": [
       "{'oper_margin': 5.486962000997409,\n",
       " 'tot_debt_to_tot_eqy': 139.3885721854559,\n",
       " 'tot_debt_to_ebitda': 3.807108391400997,\n",
       " 'ebitda_to_tot_int_exp': 5.233890852664169,\n",
       " 'return_on_asset': 2.051451925429643,\n",
       " 'asset_turnover': 0.9411697646046825}"
      ]
     },
     "metadata": {},
     "output_type": "display_data"
    },
    {
     "name": "stdout",
     "output_type": "stream",
     "text": [
      "\n",
      "Class Scoring: {'profitability': 8.0, 'leverage_coverage': 7.5, 'efficiency': 3.5}\n",
      "Credit Score: 7.050000000000001\n",
      "Credit Rating: B\n"
     ]
    }
   ],
   "source": [
    "model = CreditRatingCalculator(model_inputs)\n",
    "model.calculate_credit_rating(ratios)\n",
    "print(f\"Model Inputs:\")\n",
    "display(ratios)\n",
    "print(\"\")\n",
    "print(f\"Class Scoring: {model.scores}\")\n",
    "print(f\"Credit Score: {model.credit_score}\")\n",
    "print(f\"Credit Rating: {model.credit_rating}\")"
   ]
  },
  {
   "cell_type": "code",
   "execution_count": null,
   "id": "ee7bbb1c-aca7-47e8-a4c3-6e93c193c51c",
   "metadata": {},
   "outputs": [],
   "source": []
  },
  {
   "cell_type": "code",
   "execution_count": null,
   "id": "43f532f7-e6f4-4e84-8da5-4f0441604452",
   "metadata": {},
   "outputs": [],
   "source": []
  }
 ],
 "metadata": {
  "kernelspec": {
   "display_name": "Python 3 (ipykernel)",
   "language": "python",
   "name": "python3"
  },
  "language_info": {
   "codemirror_mode": {
    "name": "ipython",
    "version": 3
   },
   "file_extension": ".py",
   "mimetype": "text/x-python",
   "name": "python",
   "nbconvert_exporter": "python",
   "pygments_lexer": "ipython3",
   "version": "3.11.5"
  }
 },
 "nbformat": 4,
 "nbformat_minor": 5
}
