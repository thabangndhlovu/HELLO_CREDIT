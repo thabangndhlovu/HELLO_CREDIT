{
 "cells": [
  {
   "cell_type": "code",
   "execution_count": null,
   "metadata": {},
   "outputs": [],
   "source": [
    "metrics = {\n",
    "    \"efficiency\": {\n",
    "        \"class_weight\": 0.15,\n",
    "        \"weights\": [0.5, 0.5],\n",
    "        \"metrics\": {\n",
    "            \"return_on_asset\": {\n",
    "                \"lower_is_better\": False,\n",
    "                \"thresholds\": [\n",
    "                    (0.15, float(\"inf\")),\n",
    "                    (0.10, 0.15),\n",
    "                    (0.08, 0.10),\n",
    "                    (0.06, 0.08),\n",
    "                    (0.04, 0.06),\n",
    "                    (0.02, 0.04),\n",
    "                    (0.00, 0.02),\n",
    "                    (-0.02, 0.00),\n",
    "                    (float(\"-inf\"), -0.02)\n",
    "                ],\n",
    "            },\n",
    "            \"asset_turnover\": {\n",
    "                \"lower_is_better\": False,\n",
    "                \"thresholds\": [\n",
    "                    (4.0, float(\"inf\")),\n",
    "                    (3.0, 4.0),\n",
    "                    (2.0, 3.0),\n",
    "                    (1.5, 2.0),\n",
    "                    (1.0, 1.5),\n",
    "                    (0.75, 1.0),\n",
    "                    (0.5, 0.75),\n",
    "                    (0.25, 0.5),\n",
    "                    (float(\"-inf\"), 0.25)\n",
    "                ],\n",
    "            },\n",
    "        },\n",
    "    },\n",
    "}"
   ]
  }
 ],
 "metadata": {
  "language_info": {
   "name": "python"
  }
 },
 "nbformat": 4,
 "nbformat_minor": 2
}
