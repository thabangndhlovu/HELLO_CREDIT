{
 "cells": [
  {
   "cell_type": "code",
   "execution_count": 25,
   "id": "38fc6721-ad1b-4df1-8a83-45d1f12182c8",
   "metadata": {
    "tags": []
   },
   "outputs": [],
   "source": [
    "import numpy as np\n",
    "import pandas as pd\n",
    "import matplotlib.pyplot as plt\n",
    "from scipy.spatial import distance\n",
    "\n",
    "\n",
    "import warnings\n",
    "\n",
    "# Suppress all warnings\n",
    "warnings.filterwarnings(\"ignore\")"
   ]
  },
  {
   "cell_type": "markdown",
   "id": "9678fee6-9baf-4abf-b234-0432c03ef9a4",
   "metadata": {
    "tags": []
   },
   "source": [
    "# Data Analysis"
   ]
  },
  {
   "cell_type": "code",
   "execution_count": 2,
   "id": "583b75dd-9431-4742-8b03-09d85c9f6461",
   "metadata": {
    "jupyter": {
     "source_hidden": true
    },
    "tags": []
   },
   "outputs": [],
   "source": [
    "df = pd.read_csv(\"JALSH Index_dataset_2000_2024_clean.csv\", index_col=0, header=[0, 1])\n",
    "classfier = pd.read_excel(\"classification_data.xlsx\", index_col=0)\n",
    "metrics = pd.read_excel(\"metrics_full.xlsx\", index_col=0)"
   ]
  },
  {
   "cell_type": "code",
   "execution_count": 47,
   "id": "bc4e03e0-7c03-479c-8997-df9e97615e96",
   "metadata": {
    "tags": []
   },
   "outputs": [],
   "source": [
    "inverse_relationships = [False, True, False, False, True, False]\n",
    "\n",
    "profitability = ['ebitda_margin', 'oper_margin', 'return_on_asset']\n",
    "liquidity = ['tot_debt_to_ebitda', 'tot_debt_to_tot_asset', 'tot_debt_to_tot_cap', 'tot_debt_to_tot_eqy', 'interest_coverage_ratio', 'ebitda_to_tot_int_exp']\n",
    "efficiency = ['invent_to_sales', 'asset_turnover']\n",
    "bloomberg_metrics = [\"oper_margin\", 'tot_debt_to_tot_eqy', 'interest_coverage_ratio', 'return_on_asset', 'tot_debt_to_ebitda', 'ebitda_to_tot_int_exp']"
   ]
  },
  {
   "cell_type": "code",
   "execution_count": 57,
   "id": "d65cb42c-af0e-4cdb-86d9-710ef13ee3cd",
   "metadata": {
    "jupyter": {
     "source_hidden": true
    },
    "tags": []
   },
   "outputs": [],
   "source": [
    "def filter_securities(filters, data=classfier):\n",
    "    \n",
    "    # Apply filters directly on the transposed\n",
    "    filtered_data = data.query(\n",
    "        ' and '.join(f'`{k}` == \"{v}\"' for k, v in filters.items())\n",
    "    )\n",
    "    \n",
    "    return list(filtered_data.index)\n",
    "\n",
    "\n",
    "def calculate_overall_credit_score(credit_scores, weights = None):\n",
    "    \"\"\"\n",
    "    Calculate the overall credit score and rating based on individual financial ratio credit scores.\n",
    "\n",
    "    Args:\n",
    "        credit_scores (list): List of credit scores for each financial ratio.\n",
    "\n",
    "    Returns:\n",
    "        tuple: A tuple containing the overall credit score (float) and overall credit rating (str).\n",
    "    \"\"\"\n",
    "    \n",
    "    max_score = 100\n",
    "    min_score = 0\n",
    "    \n",
    "    if weights:\n",
    "        overall_credit_score = sum(score * weight for score, weight in zip(credit_scores, weights)) / sum(weights)\n",
    "    \n",
    "    else:\n",
    "        overall_credit_score = sum(credit_scores) / len(credit_scores)\n",
    "\n",
    "    # Rescale the overall credit score to have a maximum rating of 100\n",
    "    rescaled_credit_score = (overall_credit_score - min_score) / (max_score - min_score) * 100\n",
    "    \n",
    "    if overall_credit_score >= 75:\n",
    "        overall_credit_rating = \"Good\"\n",
    "    elif overall_credit_score >= 50:\n",
    "        overall_credit_rating = \"Fair\"\n",
    "    else:\n",
    "        overall_credit_rating = \"Poor\"\n",
    "    \n",
    "    return overall_credit_score, overall_credit_rating\n",
    "\n",
    "def calculate_credit_score(financial_ratio, industry_thresholds, expert_thresholds, inverse_relationship=False):\n",
    "    \"\"\"\n",
    "    Calculate the actual credit score within a universal score range based on where the financial ratio\n",
    "    falls within its thresholds, alongside the credit rating, confidence level, and universal range scores.\n",
    "    \n",
    "    Args:\n",
    "        financial_ratio (float): Financial ratio value.\n",
    "        industry_thresholds (dict): Dictionary of industry thresholds for each rating.\n",
    "        expert_thresholds (dict): Dictionary of expert thresholds for each rating.\n",
    "        inverse_relationship (bool): Indicates if the financial ratio has an inverse relationship (lower is better).\n",
    "\n",
    "    Returns:\n",
    "        tuple: A tuple containing the actual credit score (int), credit rating (str),\n",
    "               confidence level (float), and universal score ranges (dict).\n",
    "    \"\"\"\n",
    "    # Adjust thresholds and financial ratio for inverse relationships\n",
    "    if inverse_relationship:\n",
    "        financial_ratio = 1 / financial_ratio\n",
    "        industry_thresholds = {k: 1/v for k, v in industry_thresholds.items()}\n",
    "        expert_thresholds = {k: 1/v for k, v in expert_thresholds.items()}\n",
    "    \n",
    "    distances = {\n",
    "        rating: distance.euclidean(\n",
    "            [financial_ratio],\n",
    "            [(industry_thresholds[rating] + expert_thresholds[rating]) / 2])\n",
    "        for rating in ['good', 'fair', 'poor']\n",
    "    }\n",
    "    \n",
    "    credit_rating = min(distances, key=distances.get)\n",
    "    \n",
    "    # Universal score ranges for each rating category\n",
    "    score_ranges = {\n",
    "        'good': (75, 100),\n",
    "        'fair': (50, 74),\n",
    "        'poor': (0, 49)\n",
    "    }\n",
    "\n",
    "    # Determine the min and max threshold for the financial ratio\n",
    "    min_threshold = min(industry_thresholds.values())\n",
    "    max_threshold = max(industry_thresholds.values())\n",
    "    \n",
    "    # Calculate where the financial ratio falls within its thresholds\n",
    "    financial_ratio = max(min_threshold, min(financial_ratio, max_threshold))\n",
    "    ratio_position = (financial_ratio - min_threshold) / (max_threshold - min_threshold)\n",
    "    \n",
    "    # Apply this proportion to the corresponding universal score range\n",
    "    credit_score_range = score_ranges[credit_rating]\n",
    "    score_range_width = credit_score_range[1] - credit_score_range[0]\n",
    "    credit_score = credit_score_range[0] + ratio_position * score_range_width\n",
    "    \n",
    "    # Calculate confidence level\n",
    "    confidence_level = (credit_score - credit_score_range[0]) / score_range_width\n",
    "    confidence_level = max(0, min(1, confidence_level))\n",
    "    \n",
    "    return credit_score, credit_rating, confidence_level, score_ranges\n",
    "\n",
    "def get_industry_thresholds(df, inverse_relationships, metrics=[0.25, 0.50, 0.75]):\n",
    "    industry_thresholds = []\n",
    "\n",
    "    for i, metric in enumerate(df.index):\n",
    "        q25, q50, q75 = df.loc[metric].quantile(metrics)\n",
    "\n",
    "        thresholds = {\"good\": q25, \"fair\": q50, \"poor\": q75} if inverse_relationships[i] else {\"good\": q75, \"fair\": q50, \"poor\": q25}\n",
    "        industry_thresholds.append(thresholds)\n",
    "\n",
    "    return industry_thresholds\n",
    "\n",
    "def get_stock_metrics(df):\n",
    "    dict_df = df.to_dict()\n",
    "    return {stock: list(dict_df[stock].values()) for stock in dict_df}\n",
    "\n",
    "\n",
    "# Score ranges\n",
    "score_ranges = {\n",
    "    'good': (75, 100),\n",
    "    'fair': (50, 74),\n",
    "    'poor': (0, 49)\n",
    "}\n",
    "\n",
    "# Function to assign categories\n",
    "def assign_category(value):\n",
    "    for category, (min_score, max_score) in score_ranges.items():\n",
    "        if min_score <= value <= max_score:\n",
    "            return category\n",
    "    return 'unknown'"
   ]
  },
  {
   "cell_type": "code",
   "execution_count": 81,
   "id": "2e455950-cd56-4d8d-8f61-9df61a187a88",
   "metadata": {
    "tags": []
   },
   "outputs": [
    {
     "data": {
      "text/plain": [
       "array(['Banks', 'Commercial Services', 'Electronics',\n",
       "       'Miscellaneous Manufactur', 'Diversified Finan Serv',\n",
       "       'Building Materials', 'Mining', 'Investment Companies',\n",
       "       'Pharmaceuticals', 'Beverages', 'Agriculture', 'REITS',\n",
       "       'Holding Companies-Divers', 'Distribution/Wholesale', 'Food',\n",
       "       'Telecommunications', 'Computers', 'Retail', 'Insurance',\n",
       "       'Real Estate', 'Coal', 'Transportation', 'Entertainment',\n",
       "       'Auto Parts&Equipment', 'Iron/Steel', 'Software',\n",
       "       'Healthcare-Services', 'Private Equity',\n",
       "       'Energy-Alternate Sources', 'Forest Products&Paper', 'Internet',\n",
       "       'Chemicals', 'Engineering&Construction', 'Lodging'], dtype=object)"
      ]
     },
     "execution_count": 81,
     "metadata": {},
     "output_type": "execute_result"
    }
   ],
   "source": [
    "classfier.industry.unique()"
   ]
  },
  {
   "cell_type": "code",
   "execution_count": 82,
   "id": "3cf7672b-f85f-4ce9-a3e6-06d76358f702",
   "metadata": {
    "tags": []
   },
   "outputs": [],
   "source": [
    "universe = {\"sector\":\"Communications\", \"industry\": \"Telecommunications\"}\n"
   ]
  },
  {
   "cell_type": "code",
   "execution_count": 83,
   "id": "3d69921d-c1e8-44e8-b43a-9e38e04ba628",
   "metadata": {
    "tags": []
   },
   "outputs": [],
   "source": [
    "securities = filter_securities(universe)\n",
    "df = metrics.loc[bloomberg_metrics, securities]"
   ]
  },
  {
   "cell_type": "code",
   "execution_count": 84,
   "id": "7f465bee-a519-4eba-88c4-fc50ee77ec88",
   "metadata": {
    "tags": []
   },
   "outputs": [],
   "source": [
    "company = {'STUDY_COMPANY': {'oper_margin': 4.000646844741706,\n",
    "                             'tot_debt_to_tot_eqy': 32.80932764816569,\n",
    "                             'interest_coverage_ratio': 6.346575419010469,\n",
    "                             'return_on_asset': 4.215239913853519,\n",
    "                             'tot_debt_to_ebitda': 1.150157826723298,\n",
    "                             'ebitda_to_tot_int_exp': 7.547418258086141}}\n",
    "\n",
    "\n",
    "\n",
    "company = pd.DataFrame(company)\n",
    "df = df.join(company)"
   ]
  },
  {
   "cell_type": "code",
   "execution_count": 85,
   "id": "6bea2592-29a5-43af-84e7-85f711099c46",
   "metadata": {
    "tags": []
   },
   "outputs": [
    {
     "data": {
      "text/html": [
       "<div>\n",
       "<style scoped>\n",
       "    .dataframe tbody tr th:only-of-type {\n",
       "        vertical-align: middle;\n",
       "    }\n",
       "\n",
       "    .dataframe tbody tr th {\n",
       "        vertical-align: top;\n",
       "    }\n",
       "\n",
       "    .dataframe thead th {\n",
       "        text-align: right;\n",
       "    }\n",
       "</style>\n",
       "<table border=\"1\" class=\"dataframe\">\n",
       "  <thead>\n",
       "    <tr style=\"text-align: right;\">\n",
       "      <th></th>\n",
       "      <th>BLU SJ Equity</th>\n",
       "      <th>MTN SJ Equity</th>\n",
       "      <th>TKG SJ Equity</th>\n",
       "      <th>VOD SJ Equity</th>\n",
       "      <th>STUDY_COMPANY</th>\n",
       "    </tr>\n",
       "  </thead>\n",
       "  <tbody>\n",
       "    <tr>\n",
       "      <th>oper_margin</th>\n",
       "      <td>4.000647</td>\n",
       "      <td>23.903866</td>\n",
       "      <td>12.965402</td>\n",
       "      <td>26.210947</td>\n",
       "      <td>4.000647</td>\n",
       "    </tr>\n",
       "    <tr>\n",
       "      <th>tot_debt_to_tot_eqy</th>\n",
       "      <td>32.809328</td>\n",
       "      <td>65.116785</td>\n",
       "      <td>56.593172</td>\n",
       "      <td>65.004940</td>\n",
       "      <td>32.809328</td>\n",
       "    </tr>\n",
       "    <tr>\n",
       "      <th>interest_coverage_ratio</th>\n",
       "      <td>6.346575</td>\n",
       "      <td>8.547827</td>\n",
       "      <td>3.495262</td>\n",
       "      <td>9.790341</td>\n",
       "      <td>6.346575</td>\n",
       "    </tr>\n",
       "    <tr>\n",
       "      <th>return_on_asset</th>\n",
       "      <td>4.215240</td>\n",
       "      <td>7.405181</td>\n",
       "      <td>6.401370</td>\n",
       "      <td>16.143841</td>\n",
       "      <td>4.215240</td>\n",
       "    </tr>\n",
       "    <tr>\n",
       "      <th>tot_debt_to_ebitda</th>\n",
       "      <td>1.150158</td>\n",
       "      <td>1.305329</td>\n",
       "      <td>1.430977</td>\n",
       "      <td>0.793112</td>\n",
       "      <td>1.150158</td>\n",
       "    </tr>\n",
       "    <tr>\n",
       "      <th>ebitda_to_tot_int_exp</th>\n",
       "      <td>7.547418</td>\n",
       "      <td>13.114130</td>\n",
       "      <td>8.796523</td>\n",
       "      <td>13.355185</td>\n",
       "      <td>7.547418</td>\n",
       "    </tr>\n",
       "  </tbody>\n",
       "</table>\n",
       "</div>"
      ],
      "text/plain": [
       "                         BLU SJ Equity  MTN SJ Equity  TKG SJ Equity  \\\n",
       "oper_margin                   4.000647      23.903866      12.965402   \n",
       "tot_debt_to_tot_eqy          32.809328      65.116785      56.593172   \n",
       "interest_coverage_ratio       6.346575       8.547827       3.495262   \n",
       "return_on_asset               4.215240       7.405181       6.401370   \n",
       "tot_debt_to_ebitda            1.150158       1.305329       1.430977   \n",
       "ebitda_to_tot_int_exp         7.547418      13.114130       8.796523   \n",
       "\n",
       "                         VOD SJ Equity  STUDY_COMPANY  \n",
       "oper_margin                  26.210947       4.000647  \n",
       "tot_debt_to_tot_eqy          65.004940      32.809328  \n",
       "interest_coverage_ratio       9.790341       6.346575  \n",
       "return_on_asset              16.143841       4.215240  \n",
       "tot_debt_to_ebitda            0.793112       1.150158  \n",
       "ebitda_to_tot_int_exp        13.355185       7.547418  "
      ]
     },
     "execution_count": 85,
     "metadata": {},
     "output_type": "execute_result"
    }
   ],
   "source": [
    "df"
   ]
  },
  {
   "cell_type": "code",
   "execution_count": 86,
   "id": "9d869533-24d4-442b-8b81-787c035f8bcd",
   "metadata": {
    "tags": []
   },
   "outputs": [],
   "source": [
    "weights_values = [.15, .20, .20, .15, .15, .15]\n",
    "\n",
    "company_ratios = get_stock_metrics(df)\n",
    "industry_thresholds = get_industry_thresholds(df, inverse_relationships)\n",
    "expert_thresholds = get_industry_thresholds(df, inverse_relationships)"
   ]
  },
  {
   "cell_type": "code",
   "execution_count": 87,
   "id": "8ac147cd-81e3-4889-abbb-0dff767a055b",
   "metadata": {
    "jupyter": {
     "source_hidden": true
    },
    "tags": []
   },
   "outputs": [
    {
     "name": "stdout",
     "output_type": "stream",
     "text": [
      "\t\t\t\t{'sector': 'Communications', 'industry': 'Telecommunications'}\n",
      "BLU SJ Equity\n",
      "--------------------------------------------------------------------------------\n",
      "Overall Credit Score: 45.00\n",
      "Overall Credit Rating: Poor\n",
      "\n",
      "MTN SJ Equity\n",
      "--------------------------------------------------------------------------------\n",
      "Overall Credit Score: 65.00\n",
      "Overall Credit Rating: Fair\n",
      "\n",
      "TKG SJ Equity\n",
      "--------------------------------------------------------------------------------\n",
      "Overall Credit Score: 48.12\n",
      "Overall Credit Rating: Poor\n",
      "\n",
      "VOD SJ Equity\n",
      "--------------------------------------------------------------------------------\n",
      "Overall Credit Score: 80.00\n",
      "Overall Credit Rating: Good\n",
      "\n",
      "STUDY_COMPANY\n",
      "--------------------------------------------------------------------------------\n",
      "Overall Credit Score: 45.00\n",
      "Overall Credit Rating: Poor\n",
      "\n"
     ]
    }
   ],
   "source": [
    "# Iterate over each company and calculate credit scores for each financial ratio\n",
    "data  = {}\n",
    "\n",
    "print(f\"\\t\\t\\t\\t{universe}\")\n",
    "for company, ratios in company_ratios.items():\n",
    "    \n",
    "    credit_scores = []\n",
    "    print(company)\n",
    "    print(\"----\" * 20)\n",
    "    for i, ratio in enumerate(ratios):\n",
    "        credit_score, credit_rating, confidence_level, range_scores = calculate_credit_score(\n",
    "            ratio, industry_thresholds[i], expert_thresholds[i], inverse_relationships[i]\n",
    "        )\n",
    "\n",
    "        credit_scores.append(credit_score)\n",
    "        \n",
    "        \n",
    "        # print(f\"Financial Ratio: {bloomberg_metrics[i]}\")\n",
    "        # print(f\"  Credit Score: {credit_score}\")\n",
    "        # print(f\"  Credit Rating: {credit_rating}\")\n",
    "        # print(f\"  Confidence Level: {confidence_level:.2%}\")\n",
    "        # print(f\"  Range Scores:\")\n",
    "        # for rating, scores in range_scores.items():\n",
    "        #     print(f\"      {rating.capitalize()}: {scores[0]:.2f} - {scores[1]:.2f}\")\n",
    "        # print()\n",
    "\n",
    "\n",
    "    overall_credit_score, overall_credit_rating = calculate_overall_credit_score(credit_scores, weights_values)\n",
    "    \n",
    "    #if company == \"STUDY_COMPANY\":\n",
    "\n",
    "    print(f\"Overall Credit Score: {overall_credit_score:.2f}\")\n",
    "    print(f\"Overall Credit Rating: {overall_credit_rating}\")\n",
    "    print()\n",
    "\n",
    "    data[company] = credit_scores"
   ]
  },
  {
   "cell_type": "code",
   "execution_count": 88,
   "id": "9961038f-79dc-4ecb-859a-bce8523f3a0a",
   "metadata": {
    "tags": []
   },
   "outputs": [
    {
     "data": {
      "text/html": [
       "<div>\n",
       "<style scoped>\n",
       "    .dataframe tbody tr th:only-of-type {\n",
       "        vertical-align: middle;\n",
       "    }\n",
       "\n",
       "    .dataframe tbody tr th {\n",
       "        vertical-align: top;\n",
       "    }\n",
       "\n",
       "    .dataframe thead th {\n",
       "        text-align: right;\n",
       "    }\n",
       "</style>\n",
       "<table border=\"1\" class=\"dataframe\">\n",
       "  <thead>\n",
       "    <tr style=\"text-align: right;\">\n",
       "      <th></th>\n",
       "      <th>BLU SJ Equity</th>\n",
       "      <th>MTN SJ Equity</th>\n",
       "      <th>TKG SJ Equity</th>\n",
       "      <th>VOD SJ Equity</th>\n",
       "      <th>STUDY_COMPANY</th>\n",
       "    </tr>\n",
       "  </thead>\n",
       "  <tbody>\n",
       "    <tr>\n",
       "      <th>oper_margin</th>\n",
       "      <td>poor</td>\n",
       "      <td>good</td>\n",
       "      <td>fair</td>\n",
       "      <td>good</td>\n",
       "      <td>poor</td>\n",
       "    </tr>\n",
       "    <tr>\n",
       "      <th>tot_debt_to_tot_eqy</th>\n",
       "      <td>good</td>\n",
       "      <td>poor</td>\n",
       "      <td>fair</td>\n",
       "      <td>poor</td>\n",
       "      <td>good</td>\n",
       "    </tr>\n",
       "    <tr>\n",
       "      <th>interest_coverage_ratio</th>\n",
       "      <td>fair</td>\n",
       "      <td>good</td>\n",
       "      <td>fair</td>\n",
       "      <td>good</td>\n",
       "      <td>fair</td>\n",
       "    </tr>\n",
       "    <tr>\n",
       "      <th>return_on_asset</th>\n",
       "      <td>poor</td>\n",
       "      <td>good</td>\n",
       "      <td>fair</td>\n",
       "      <td>good</td>\n",
       "      <td>poor</td>\n",
       "    </tr>\n",
       "    <tr>\n",
       "      <th>tot_debt_to_ebitda</th>\n",
       "      <td>good</td>\n",
       "      <td>poor</td>\n",
       "      <td>poor</td>\n",
       "      <td>good</td>\n",
       "      <td>good</td>\n",
       "    </tr>\n",
       "    <tr>\n",
       "      <th>ebitda_to_tot_int_exp</th>\n",
       "      <td>poor</td>\n",
       "      <td>good</td>\n",
       "      <td>fair</td>\n",
       "      <td>good</td>\n",
       "      <td>poor</td>\n",
       "    </tr>\n",
       "  </tbody>\n",
       "</table>\n",
       "</div>"
      ],
      "text/plain": [
       "                        BLU SJ Equity MTN SJ Equity TKG SJ Equity  \\\n",
       "oper_margin                      poor          good          fair   \n",
       "tot_debt_to_tot_eqy              good          poor          fair   \n",
       "interest_coverage_ratio          fair          good          fair   \n",
       "return_on_asset                  poor          good          fair   \n",
       "tot_debt_to_ebitda               good          poor          poor   \n",
       "ebitda_to_tot_int_exp            poor          good          fair   \n",
       "\n",
       "                        VOD SJ Equity STUDY_COMPANY  \n",
       "oper_margin                      good          poor  \n",
       "tot_debt_to_tot_eqy              poor          good  \n",
       "interest_coverage_ratio          good          fair  \n",
       "return_on_asset                  good          poor  \n",
       "tot_debt_to_ebitda               good          good  \n",
       "ebitda_to_tot_int_exp            good          poor  "
      ]
     },
     "execution_count": 88,
     "metadata": {},
     "output_type": "execute_result"
    }
   ],
   "source": [
    "# Apply the function to the entire dataframe\n",
    "df_categories = pd.DataFrame(data, bloomberg_metrics).applymap(assign_category)\n",
    "df_categories"
   ]
  },
  {
   "cell_type": "code",
   "execution_count": null,
   "id": "19131926-7d00-427c-a7e4-190ce5fd7df7",
   "metadata": {},
   "outputs": [],
   "source": []
  }
 ],
 "metadata": {
  "kernelspec": {
   "display_name": "Python 3 (ipykernel)",
   "language": "python",
   "name": "python3"
  },
  "language_info": {
   "codemirror_mode": {
    "name": "ipython",
    "version": 3
   },
   "file_extension": ".py",
   "mimetype": "text/x-python",
   "name": "python",
   "nbconvert_exporter": "python",
   "pygments_lexer": "ipython3",
   "version": "3.11.5"
  }
 },
 "nbformat": 4,
 "nbformat_minor": 5
}
