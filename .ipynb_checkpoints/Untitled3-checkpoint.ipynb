{
 "cells": [
  {
   "cell_type": "code",
   "execution_count": 1,
   "id": "05e512e3-1bf0-4cdd-a535-2c8099d1bd8f",
   "metadata": {
    "tags": []
   },
   "outputs": [],
   "source": [
    "from openai import OpenAI\n",
    "\n",
    "client = OpenAI(\n",
    "    api_key=\"sk-proj-Tzd95Nr8di5wXfkkfU7GT3BlbkFJZNuNrBwbi8pepTWpSsCu\",\n",
    ")"
   ]
  },
  {
   "cell_type": "code",
   "execution_count": null,
   "id": "f2be6cfc-ec9e-4d93-a497-001840ceecf3",
   "metadata": {},
   "outputs": [],
   "source": [
    "SYSTEM_MESSAGE = \"\"\"\n",
    "You are a helpful assistant designed to output JSON.\n",
    "\n",
    "\"\"\"\n",
    "\n",
    "\n",
    "PROMPT_MESSGAE = f\"\"\"\n",
    "\n",
    "I need you\n",
    "\"\"\""
   ]
  },
  {
   "cell_type": "code",
   "execution_count": 2,
   "id": "8fdc784b-1c44-4898-b78a-76d81f8e9c31",
   "metadata": {
    "tags": []
   },
   "outputs": [
    {
     "name": "stdout",
     "output_type": "stream",
     "text": [
      "{\n",
      "  \"year\": 2020,\n",
      "  \"winner\": \"Los Angeles Dodgers\"\n",
      "}\n"
     ]
    }
   ],
   "source": [
    "response = client.chat.completions.create(\n",
    "  model=\"gpt-4o-mini\",\n",
    "  response_format={\"type\": \"json_object\"},\n",
    "  messages=[\n",
    "    {\"role\": \"system\", \"content\": \"You are a helpful assistant designed to output JSON.\"},\n",
    "    {\"role\": \"user\", \"content\": \"Who won the world series in 2020?\"}\n",
    "  ]\n",
    ")\n",
    "print(response.choices[0].message.content)"
   ]
  },
  {
   "cell_type": "code",
   "execution_count": 3,
   "id": "9864ff62-564f-4acf-b206-71cc2e392b2f",
   "metadata": {
    "tags": []
   },
   "outputs": [
    {
     "data": {
      "text/plain": [
       "ChatCompletion(id='chatcmpl-9rPHSLRd9Iw3CI76DFE6ypTduNkKi', choices=[Choice(finish_reason='stop', index=0, logprobs=None, message=ChatCompletionMessage(content='{\\n  \"year\": 2020,\\n  \"winner\": \"Los Angeles Dodgers\"\\n}', role='assistant', function_call=None, tool_calls=None))], created=1722515590, model='gpt-4o-mini-2024-07-18', object='chat.completion', service_tier=None, system_fingerprint='fp_0f03d4f0ee', usage=CompletionUsage(completion_tokens=19, prompt_tokens=31, total_tokens=50))"
      ]
     },
     "execution_count": 3,
     "metadata": {},
     "output_type": "execute_result"
    }
   ],
   "source": [
    "response"
   ]
  },
  {
   "cell_type": "code",
   "execution_count": null,
   "id": "4f4010bf-15c4-4d53-b6ef-09d55c2782c4",
   "metadata": {},
   "outputs": [],
   "source": [
    "Leverage and Coverage:\n",
    "Analyze debt-to-equity, debt-to-EBITDA, EBITDA-to-interest expense, and debt-to-tangible assets ratios.\n",
    "Assess the company's ability to manage debt and financial risk.\n",
    "\n",
    "\n",
    "Efficiency:\n",
    "\n",
    "Evaluate asset turnover, inventory to cost of sales, and cash to assets ratios.\n",
    "Assess the company's operational efficiency and working capital management.\n",
    "\n",
    "\n",
    "Profitability:\n",
    "\n",
    "Analyze the EBITDA margin and its impact on the company's financial health.\n",
    "If available, consider sales growth and total assets."
   ]
  },
  {
   "cell_type": "code",
   "execution_count": null,
   "id": "d97d4b72-9af2-4b4b-9565-881341e67955",
   "metadata": {},
   "outputs": [],
   "source": [
    "f\"\"\"\n",
    "You are a sophisticated senior credit analyst specializing in credit risk assessment. \n",
    "Your task is to analyze the financial health and creditworthiness of a company based on provided financial ratios and metrics. \n",
    "Use the given data to produce a comprehensive credit analysis report in JSON format.\n",
    "\n",
    "\n",
    "Input Data:\n",
    "DATA1 - A time series of financial ratios and metrics.\n",
    "DATA2 - The mean values of these metrics across the time series.\n",
    "\n",
    "Your analysis should cover the following areas (if available):\n",
    "\n",
    "1. Leverage and Coverage:\n",
    " - Analyze debt-to-equity, debt-to-EBITDA, EBITDA-to-interest expense, and debt-to-tangible assets ratios.\n",
    " - Assess the company's ability to manage debt and financial risk.\n",
    "\n",
    "\n",
    "2. Efficiency:\n",
    " - Evaluate asset turnover, inventory to cost of sales, and cash to assets ratios.\n",
    " - Assess the company's operational efficiency and working capital management.\n",
    "\n",
    "\n",
    "3. Profitability:\n",
    " - Analyze the EBITDA margin and its impact on the company's financial health.\n",
    " - If available, consider sales growth and total assets.\n",
    "\n",
    "\n",
    "Output Format:\n",
    "Provide your analysis in a JSON format with the following structure:\n",
    "\n",
    "```json\n",
    "{\n",
    "  \"company_analysis\": \"\"\n",
    "}\n",
    "\n",
    "\n",
    "DATA1: {DATA1}\n",
    "DATA2: {DATA1}\n",
    "\"\"\""
   ]
  }
 ],
 "metadata": {
  "kernelspec": {
   "display_name": "Python 3 (ipykernel)",
   "language": "python",
   "name": "python3"
  },
  "language_info": {
   "codemirror_mode": {
    "name": "ipython",
    "version": 3
   },
   "file_extension": ".py",
   "mimetype": "text/x-python",
   "name": "python",
   "nbconvert_exporter": "python",
   "pygments_lexer": "ipython3",
   "version": "3.11.5"
  }
 },
 "nbformat": 4,
 "nbformat_minor": 5
}
