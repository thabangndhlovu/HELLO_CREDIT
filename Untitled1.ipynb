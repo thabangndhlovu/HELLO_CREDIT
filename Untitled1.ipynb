{
 "cells": [
  {
   "cell_type": "code",
   "execution_count": 6,
   "id": "c9f796f0-9264-4718-a0a5-20767763ed3d",
   "metadata": {
    "tags": []
   },
   "outputs": [],
   "source": [
    "import pandas as pd"
   ]
  },
  {
   "cell_type": "code",
   "execution_count": 56,
   "id": "1f626e51-4270-4132-aada-4a684b6ff40c",
   "metadata": {
    "tags": []
   },
   "outputs": [],
   "source": [
    "data = pd.read_excel(\"resources/bhg_metrics.xlsx\")\n",
    "universe = pd.read_excel(\"resources/universe_dataset.xlsx\")\n",
    "dataset = pd.read_excel(\"resources/consumer_stables.xlsx\",sheet_name=\"main\",  header=[0, 1],index_col=0, parse_dates=True)"
   ]
  },
  {
   "cell_type": "code",
   "execution_count": 9,
   "id": "8db6947a-fe6a-4597-adfe-495adb93734f",
   "metadata": {
    "tags": []
   },
   "outputs": [],
   "source": [
    "order = [\n",
    "'TOT_DEBT_TO_TOT_EQY', 'TOT_DEBT_TO_EBITDA', 'EBITDA_TO_INTEREST_EXPN',\n",
    "'ASSET_TURNOVER', 'OPER_MARGIN', 'RETURN_ON_ASSET'\n",
    "\n",
    "]"
   ]
  },
  {
   "cell_type": "code",
   "execution_count": 72,
   "id": "2b836f2e-946e-44b4-b845-14f3da69b8fd",
   "metadata": {
    "tags": []
   },
   "outputs": [],
   "source": [
    "for stock in dataset.columns.levels[0]:\n",
    "    try:\n",
    "        stock_name = stock.strip().lower().replace(\" \", \"_\")\n",
    "        entries = dataset[stock][order].T.reset_index().iloc[:, 1:].dropna(axis=1)\n",
    "        df = pd.concat([data.iloc[:, :2], entries], axis=1, ignore_index=False)\n",
    "        df.to_excel(f\"examples/{stock.replace('/', '')}.xlsx\", index=False)\n",
    "    except:\n",
    "        print(stock)"
   ]
  },
  {
   "cell_type": "code",
   "execution_count": 59,
   "id": "eeb59125-0a04-444d-902e-23d45155fac7",
   "metadata": {
    "tags": []
   },
   "outputs": [],
   "source": [
    "ratings_dict = {\n",
    "    \"Aaa\": \"AAA\",\n",
    "    \"Aa\": [\"AA+\", \"AA\", \"AA-\", \"Aa1\", \"Aa2\", \"Aa3\",],\n",
    "    \"A\": [\"A+\", \"A\", \"A-\", \"A1\", \"A2\", \"A3\"],\n",
    "    \"Baa\": [\"BBB+\", \"BBB\", \"BBB-\", \"Baa1\", \"Baa2\", \"Baa3\"],\n",
    "    \"Ba\": [\"BB+\", \"BB\", \"BB-\", \"Ba1\", \"Ba2\", \"Ba3\"],\n",
    "    \"B\": [\"B+\", \"B\", \"B-\", \"B1\", \"B2\", \"B3\"],\n",
    "    \"Caa\": \"CCC\",\n",
    "    \"Ca\": \"CC\",\n",
    "    \"C\": \"D\"\n",
    "}\n",
    "\n",
    "\n",
    "flat_ratings_dict = {\n",
    "    'AAA': 'Aaa',\n",
    "     'AA+': 'Aa',\n",
    "     'AA': 'Aa',\n",
    "     'AA-': 'Aa',\n",
    "     'Aa1': 'Aa',\n",
    "     'Aa2': 'Aa',\n",
    "     'Aa3': 'Aa',\n",
    "     'A+': 'A',\n",
    "     'A': 'A',\n",
    "     'A-': 'A',\n",
    "     'A1': 'A',\n",
    "     'A2': 'A',\n",
    "     'A3': 'A',\n",
    "     'BBB+': 'Baa',\n",
    "     'BBB': 'Baa',\n",
    "     'BBB-': 'Baa',\n",
    "     'Baa1': 'Baa',\n",
    "     'Baa2': 'Baa',\n",
    "     'Baa3': 'Baa',\n",
    "     'BB+': 'Ba',\n",
    "     'BB': 'Ba',\n",
    "     'BB-': 'Ba',\n",
    "     'Ba1': 'Ba',\n",
    "     'Ba2': 'Ba',\n",
    "     'Ba3': 'Ba',\n",
    "     'B+': 'B',\n",
    "     'B': 'B',\n",
    "     'B-': 'B',\n",
    "     'B1': 'B',\n",
    "     'B2': 'B',\n",
    "     'B3': 'B',\n",
    "     'CCC': 'Caa',\n",
    "     'CC': 'Ca',\n",
    "     'D': 'C'\n",
    "}"
   ]
  },
  {
   "cell_type": "code",
   "execution_count": 65,
   "id": "f2b9fa6d-4ce5-4db6-b59e-38b705194f56",
   "metadata": {
    "tags": []
   },
   "outputs": [],
   "source": [
    "# universe['rating_rtg_moody_long_term'] = universe['rtg_moody_long_term'].map(flat_ratings_dict)\n",
    "# universe['rating_rtg_sp_lt_lc_issuer_credit'] = universe['rtg_sp_lt_lc_issuer_credit'].map(flat_ratings_dict)\n",
    "# universe.to_excel(\"resources/universe_dataset.xlsx\", index=False)"
   ]
  },
  {
   "cell_type": "code",
   "execution_count": 69,
   "id": "532bf4aa-8c12-4a67-82a1-f8edf4ec15cd",
   "metadata": {
    "tags": []
   },
   "outputs": [],
   "source": []
  },
  {
   "cell_type": "code",
   "execution_count": 71,
   "id": "ec44b225-526f-44f1-95ca-f5ddb70939d0",
   "metadata": {
    "tags": []
   },
   "outputs": [],
   "source": []
  },
  {
   "cell_type": "code",
   "execution_count": null,
   "id": "778cf604-9231-4309-a2bf-c0b064c6941a",
   "metadata": {},
   "outputs": [],
   "source": []
  }
 ],
 "metadata": {
  "kernelspec": {
   "display_name": "Python 3 (ipykernel)",
   "language": "python",
   "name": "python3"
  },
  "language_info": {
   "codemirror_mode": {
    "name": "ipython",
    "version": 3
   },
   "file_extension": ".py",
   "mimetype": "text/x-python",
   "name": "python",
   "nbconvert_exporter": "python",
   "pygments_lexer": "ipython3",
   "version": "3.11.5"
  }
 },
 "nbformat": 4,
 "nbformat_minor": 5
}
