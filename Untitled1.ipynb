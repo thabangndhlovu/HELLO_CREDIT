{
 "cells": [
  {
   "cell_type": "code",
   "execution_count": 63,
   "id": "e1341987-6cc3-4d0f-8462-e744ee584a12",
   "metadata": {},
   "outputs": [],
   "source": [
    "import numpy as np\n",
    "import pymc as pm"
   ]
  },
  {
   "cell_type": "code",
   "execution_count": 56,
   "id": "9d219357-cb38-4f69-91cf-a1f716130524",
   "metadata": {
    "tags": []
   },
   "outputs": [],
   "source": [
    "metrics = {\n",
    "    'debt_to_equity': np.random.normal(1.5, 0.2, periods),\n",
    "    'interest_coverage': np.random.normal(5, 1, periods),\n",
    "    'asset_turnover': np.random.normal(0.8, 0.1, periods),\n",
    "    'interest_expense': np.random.normal(0.05, 0.01, periods)\n",
    "}"
   ]
  },
  {
   "cell_type": "code",
   "execution_count": 61,
   "id": "62874a53-067a-4d7f-8337-b689ec663f02",
   "metadata": {
    "tags": []
   },
   "outputs": [],
   "source": [
    "import numpy as np\n",
    "import pymc as pm\n",
    "\n",
    "metrics = {\n",
    "    'debt_to_equity': np.random.normal(1.5, 0.2, periods),\n",
    "    'interest_coverage': np.random.normal(5, 1, periods),\n",
    "    'asset_turnover': np.random.normal(0.8, 0.1, periods),\n",
    "    'interest_expense': np.random.normal(0.05, 0.01, periods)\n",
    "}\n",
    "\n",
    "\n",
    "def generate_predictions(metrics):\n",
    "    with pm.Model() as model:\n",
    "        priors = {\n",
    "            metric: pm.Normal(f'{metric}_prior', mu=values[-1], sigma=np.std(values))\n",
    "            for metric, values in metrics.items()\n",
    "        }\n",
    "        likelihoods = {\n",
    "            metric: pm.Normal(f'{metric}_likelihood', mu=priors[metric], sigma=np.std(values), observed=values)\n",
    "            for metric, values in metrics.items()\n",
    "        }\n",
    "        trace = pm.sample(1000, tune=1000)\n",
    "\n",
    "    predictions = {metric: np.mean(trace.posterior[f'{metric}_prior'].values) for metric in metrics}\n",
    "    return predictions"
   ]
  },
  {
   "cell_type": "code",
   "execution_count": 62,
   "id": "5c214f3d-72e5-4669-9151-5cb2dc393ef2",
   "metadata": {
    "tags": []
   },
   "outputs": [
    {
     "name": "stderr",
     "output_type": "stream",
     "text": [
      "C:\\Users\\103763\\AppData\\Local\\anaconda3\\Lib\\site-packages\\pytensor\\tensor\\rewriting\\elemwise.py:1029: UserWarning: Loop fusion failed because the resulting node would exceed the kernel argument limit.\n",
      "  warn(\n",
      "Auto-assigning NUTS sampler...\n",
      "Initializing NUTS using jitter+adapt_diag...\n",
      "C:\\Users\\103763\\AppData\\Local\\anaconda3\\Lib\\site-packages\\pytensor\\tensor\\rewriting\\elemwise.py:1029: UserWarning: Loop fusion failed because the resulting node would exceed the kernel argument limit.\n",
      "  warn(\n",
      "Multiprocess sampling (4 chains in 4 jobs)\n",
      "NUTS: [debt_to_equity_prior, interest_coverage_prior, asset_turnover_prior, interest_expense_prior]\n"
     ]
    },
    {
     "data": {
      "text/html": [
       "\n",
       "<style>\n",
       "    /* Turns off some styling */\n",
       "    progress {\n",
       "        /* gets rid of default border in Firefox and Opera. */\n",
       "        border: none;\n",
       "        /* Needs to be in here for Safari polyfill so background images work as expected. */\n",
       "        background-size: auto;\n",
       "    }\n",
       "    progress:not([value]), progress:not([value])::-webkit-progress-bar {\n",
       "        background: repeating-linear-gradient(45deg, #7e7e7e, #7e7e7e 10px, #5c5c5c 10px, #5c5c5c 20px);\n",
       "    }\n",
       "    .progress-bar-interrupted, .progress-bar-interrupted::-webkit-progress-bar {\n",
       "        background: #F44336;\n",
       "    }\n",
       "</style>\n"
      ],
      "text/plain": [
       "<IPython.core.display.HTML object>"
      ]
     },
     "metadata": {},
     "output_type": "display_data"
    },
    {
     "data": {
      "text/html": [
       "\n",
       "    <div>\n",
       "      <progress value='8000' class='' max='8000' style='width:300px; height:20px; vertical-align: middle;'></progress>\n",
       "      100.00% [8000/8000 01:01&lt;00:00 Sampling 4 chains, 0 divergences]\n",
       "    </div>\n",
       "    "
      ],
      "text/plain": [
       "<IPython.core.display.HTML object>"
      ]
     },
     "metadata": {},
     "output_type": "display_data"
    },
    {
     "name": "stderr",
     "output_type": "stream",
     "text": [
      "Sampling 4 chains for 1_000 tune and 1_000 draw iterations (4_000 + 4_000 draws total) took 88 seconds.\n"
     ]
    },
    {
     "data": {
      "text/plain": [
       "{'debt_to_equity': 1.4354540378906038,\n",
       " 'interest_coverage': 5.010089759952652,\n",
       " 'asset_turnover': 0.8138410863739253,\n",
       " 'interest_expense': 0.05027357640453939}"
      ]
     },
     "execution_count": 62,
     "metadata": {},
     "output_type": "execute_result"
    }
   ],
   "source": [
    "generate_predictions(metrics)"
   ]
  }
 ],
 "metadata": {
  "kernelspec": {
   "display_name": "Python 3 (ipykernel)",
   "language": "python",
   "name": "python3"
  },
  "language_info": {
   "codemirror_mode": {
    "name": "ipython",
    "version": 3
   },
   "file_extension": ".py",
   "mimetype": "text/x-python",
   "name": "python",
   "nbconvert_exporter": "python",
   "pygments_lexer": "ipython3",
   "version": "3.11.5"
  }
 },
 "nbformat": 4,
 "nbformat_minor": 5
}
